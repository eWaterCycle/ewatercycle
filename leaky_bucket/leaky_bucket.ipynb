{
 "cells": [
  {
   "cell_type": "markdown",
   "metadata": {},
   "source": [
    "# Creating a new model in eWaterCycle\n",
    "\n",
    "If you are creating a new model, this is quite straightforward to do from within eWaterCycle.\n",
    "\n",
    "Here we will be creating a new model, the \"leaky bucket\"\n",
    "\n",
    "![diagram.png](diagram.png)\n",
    "\n",
    "In every time step  the leaky bucket model:\n",
    "- Adds the precipitation to the total storage\n",
    "- Calculates the discharge: `storage * leakiness`\n",
    "- Subtracts the discharge from the storage"
   ]
  },
  {
   "cell_type": "markdown",
   "metadata": {},
   "source": [
    "## Preparation\n",
    "First we need some simple utility functions to read the configuration and forcing (**until defaults are available**)"
   ]
  },
  {
   "cell_type": "code",
   "execution_count": 4,
   "metadata": {},
   "outputs": [],
   "source": [
    "import numpy as np\n",
    "import xarray as xr\n",
    "from pathlib import Path\n",
    "import json\n",
    "from typing import Any\n",
    "from lb_utils import BmiEverythingOptional\n",
    "\n",
    "def read_config(config_file: str) -> dict:\n",
    "    with open(config_file) as cfg:\n",
    "        config = json.load(cfg)\n",
    "    return config\n",
    "\n",
    "\n",
    "def load_precip(forcing_file: str) -> xr.DataArray:\n",
    "    forcing_data = xr.open_dataset(forcing_file)\n",
    "    assert \"time\" in forcing_data.dims\n",
    "    assert \"precipitation\" in forcing_data.data_vars\n",
    "    return forcing_data[\"precipitation\"]\n",
    "\n",
    "\n",
    "def load_area(forcing_file: str) -> np.ndarray:\n",
    "    forcing_data = xr.open_dataset(forcing_file)\n",
    "    return forcing_data[\"area\"].to_numpy()\n"
   ]
  },
  {
   "cell_type": "markdown",
   "metadata": {},
   "source": [
    "## Model BMI\n",
    "\n",
    "eWaterCycle makes use of the [Basic Model Interface](https://csdms.colorado.edu/wiki/BMI).\n",
    "\n",
    "This is a standardized interface that is the same no matter which model you use.\n",
    "\n",
    "Here we implement a few steps:\n",
    "- Model initialization `bmi.initialize(...)`. This loads the configuration and intializes the model states.\n",
    "- The model update function `bmi.update(...)`. This advances the model by one timestep and performs the hydrological calulations (adding precip. to storage, calculating discharge).\n",
    "- `bmi.update_until(...)` calls `update` until a certain time step has been reached.\n",
    "- `bmi.get_value(...)` is required to request a value from the model, such as the current discharge.\n",
    "- `bmi.set_value(...)` is required to change a value in the model, such as the current storage."
   ]
  },
  {
   "cell_type": "code",
   "execution_count": 5,
   "metadata": {},
   "outputs": [],
   "source": [
    "class LeakyBucketLumpedBmi(BmiEverythingOptional):\n",
    "    \"\"\"Demonstration of a minimal hydrological model.\n",
    "    \n",
    "    🌧️\n",
    "    🪣\n",
    "    💧\n",
    "    \"\"\"\n",
    "\n",
    "    def initialize(self, config_file: str) -> None:\n",
    "        # The model config contains the input precipitation, and the model parameters.\n",
    "        self.config: dict[str, Any] = read_config(config_file)\n",
    "\n",
    "        # Get the input data:\n",
    "        self.precipitation = load_precip(self.config[\"forcing_file\"])\n",
    "        self.area = load_area(self.config[\"forcing_file\"])\n",
    "\n",
    "        # Define the model states:\n",
    "        n_lumps = self.precipitation.isel(time=0).size\n",
    "        self.storage = np.zeros(n_lumps)\n",
    "        self.discharge = np.zeros(n_lumps)\n",
    "\n",
    "        # Define the start and end time(steps)\n",
    "        self.current_time = 0\n",
    "        self.end_time = self.precipitation[\"time\"].size\n",
    "\n",
    "        # The one model parameter is the 'leakiness' of the buckets:\n",
    "        self.leakiness = self.config[\"leakiness\"]\n",
    "\n",
    "    def update(self) -> None:\n",
    "        if self.current_time < self.end_time:\n",
    "            # Add the current timestep's precipitation to the storage\n",
    "            self.storage += self.precipitation.isel(time=self.current_time).to_numpy()\n",
    "            \n",
    "            # Calculate the discharge [m/hr] based on the leakiness and current storage\n",
    "            discharge_m_per_hr = self.storage * self.leakiness\n",
    "            # Subtract this discharge from the storage\n",
    "            self.storage -= discharge_m_per_hr\n",
    "\n",
    "            # Convert the discharge to [m3/s]\n",
    "            self.discharge = discharge_m_per_hr * self.area / 3600\n",
    "\n",
    "            # Advance the model time by one step\n",
    "            self.current_time += 1\n",
    "\n",
    "    def update_until(self, time: int) -> None:\n",
    "        while self.current_time < time:\n",
    "            self.update()\n",
    "\n",
    "    def finalize(self) -> None:\n",
    "        \"\"\"There is nothing to finalize.\"\"\"\n",
    "        pass\n",
    "\n",
    "    def get_value(self, var_name) -> np.ndarray:\n",
    "        match var_name:\n",
    "            case \"storage\":\n",
    "                return self.storage\n",
    "            case \"discharge\":\n",
    "                return self.discharge\n",
    "            case _:\n",
    "                raise ValueError(f\"Unknown variable {var_name}\")\n",
    "    \n",
    "    def set_value(self, var_name, src) -> None:\n",
    "        match var_name:\n",
    "            case \"storage\":\n",
    "                self.storage = src\n",
    "            case _:\n",
    "                raise ValueError(f\"Cannot set value of var {var_name}\")\n",
    "    "
   ]
  },
  {
   "cell_type": "markdown",
   "metadata": {},
   "source": [
    "## Testing out the BMI\n",
    "With the model BMI implemented, we can now use this as our model.\n",
    "\n",
    "Let's initialize it:"
   ]
  },
  {
   "cell_type": "code",
   "execution_count": 12,
   "metadata": {},
   "outputs": [],
   "source": [
    "model = LeakyBucketLumpedBmi()\n",
    "model.initialize(config_file=\"/home/bart/git/ewatercycle/leaky_bucket/leaky_bucket_config.json\")"
   ]
  },
  {
   "cell_type": "markdown",
   "metadata": {},
   "source": [
    "To be able to create a hydrograph, we need the discharge at every time step.\n",
    "We can request this, put it in an array, and ask the model to advance to the next timestep:"
   ]
  },
  {
   "cell_type": "code",
   "execution_count": 9,
   "metadata": {},
   "outputs": [],
   "source": [
    "discharge = np.zeros(model.end_time)\n",
    "for time in range(model.end_time):\n",
    "    model.update()\n",
    "    discharge[time] = model.get_value(\"discharge\")"
   ]
  },
  {
   "cell_type": "markdown",
   "metadata": {},
   "source": [
    "This discharge can be shown in a plot:"
   ]
  },
  {
   "cell_type": "code",
   "execution_count": 14,
   "metadata": {},
   "outputs": [
    {
     "data": {
      "text/plain": [
       "Text(0.5, 0, 'Timestap (hours)')"
      ]
     },
     "execution_count": 14,
     "metadata": {},
     "output_type": "execute_result"
    },
    {
     "data": {
      "image/png": "[encoded data removed]",
      "text/plain": [
       "<Figure size 640x480 with 1 Axes>"
      ]
     },
     "metadata": {},
     "output_type": "display_data"
    }
   ],
   "source": [
    "import matplotlib.pyplot as plt\n",
    "plt.plot(discharge)\n",
    "plt.ylabel(\"Discharge [m3/s]\")\n",
    "plt.xlabel(\"Timestap (hours)\")"
   ]
  },
  {
   "cell_type": "markdown",
   "metadata": {},
   "source": [
    "## Pluggin the BMI model into eWaterCycle\n",
    "\n",
    "With the model BMI developed, we can add it to eWaterCycle. \n",
    "\n",
    "We start with the `LocalModel`, as this is only consists of pluggin the model into the eWaterCycle interface. Most eWaterCycle models run in a docker container, where local communication is not possible. For that the `ContainerizedModel` is used.\n",
    "\n",
    "To add the BMI enabled model, we just need to state what the BMI class is, the forcing type, and the configuration.\n",
    "\n",
    "To be able to modify the `leakiness` parameter, we create the `_make_cfg_file` method."
   ]
  },
  {
   "cell_type": "code",
   "execution_count": 11,
   "metadata": {},
   "outputs": [
    {
     "name": "stderr",
     "output_type": "stream",
     "text": [
      "/home/bart/micromamba/envs/ewatercycle310/lib/python3.10/site-packages/esmvalcore/experimental/_warnings.py:13: UserWarning: \n",
      "  Thank you for trying out the new ESMValCore API.\n",
      "  Note that this API is experimental and may be subject to change.\n",
      "  More info: https://github.com/ESMValGroup/ESMValCore/issues/498\n",
      "hwloc/linux: Ignoring PCI device with non-16bit domain.\n",
      "Pass --enable-32bits-pci-domain to configure to support such devices\n",
      "(warning: it would break the library ABI, don't enable unless really needed).\n"
     ]
    }
   ],
   "source": [
    "from ewatercycle.base.model import LocalModel\n",
    "from ewatercycle.base.forcing import DefaultForcing\n",
    "from pydantic import model_validator\n",
    "\n",
    "\n",
    "class LeakyBucket(LocalModel):\n",
    "    bmi_class = LeakyBucketLumpedBmi\n",
    "    \n",
    "    forcing: DefaultForcing  # not optional for this model\n",
    "\n",
    "    _config: dict = {\n",
    "        \"forcing_file\": \"\",\n",
    "        \"leakiness\": 0.002,\n",
    "    }\n",
    "\n",
    "    @model_validator(mode=\"after\")\n",
    "    def _update_config(self: \"LeakyBucket\") -> \"LeakyBucket\":\n",
    "        assert self.forcing.directory is not None\n",
    "        self._config[\"forcing_file\"] = str(self.forcing.directory / \"precip.nc\")\n",
    "        return self\n",
    "    \n",
    "    def _make_cfg_file(self, **kwargs) -> Path:\n",
    "        \"\"\"Write model configuration file.\"\"\"\n",
    "        if \"leakiness\" in kwargs:\n",
    "            self._config[\"leakiness\"] = kwargs[\"leakiness\"]\n",
    "\n",
    "        config_file = self._cfg_dir / \"leakybucket_config.json\"\n",
    "\n",
    "        with config_file.open() as f:\n",
    "            f.write(json.dumps(self._config, indent=4))\n",
    "\n",
    "        return config_file\n",
    "\n"
   ]
  },
  {
   "cell_type": "markdown",
   "metadata": {},
   "source": [
    "### Now the model should be able to run in eWaterCycle!*\n",
    "#### *Once default forcing etc. is implemented 🙃"
   ]
  },
  {
   "cell_type": "markdown",
   "metadata": {},
   "source": []
  }
 ],
 "metadata": {
  "kernelspec": {
   "display_name": "Python 3",
   "language": "python",
   "name": "python3"
  },
  "language_info": {
   "codemirror_mode": {
    "name": "ipython",
    "version": 3
   },
   "file_extension": ".py",
   "mimetype": "text/x-python",
   "name": "python",
   "nbconvert_exporter": "python",
   "pygments_lexer": "ipython3",
   "version": "3.10.11"
  },
  "orig_nbformat": 4
 },
 "nbformat": 4,
 "nbformat_minor": 2
}
