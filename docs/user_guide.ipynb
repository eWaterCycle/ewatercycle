{
 "cells": [
  {
   "cell_type": "code",
   "execution_count": 1,
   "id": "2bb69703-59a9-47fe-a832-76e19147e80b",
   "metadata": {},
   "outputs": [],
   "source": [
    "import warnings\n",
    "warnings.filterwarnings(\"ignore\", category=UserWarning)\n",
    "import logging\n",
    "logging.basicConfig(level=logging.WARN)"
   ]
  },
  {
   "cell_type": "markdown",
   "id": "135115cc",
   "metadata": {},
   "source": [
    "![image](https://github.com/eWaterCycle/ewatercycle/raw/main/docs/examples/logo.png)\n",
    "\n",
    "# User guide\n",
    "\n",
    "This user manual will explain how the eWaterCycle Python package can be used to perform hydrological experiments. We will walk through the following chapters:\n",
    "\n",
    "- parameter sets\n",
    "- forcing data\n",
    "- model instances\n",
    "- using observations\n",
    "- analysis\n",
    "\n",
    "Each of these chapters correspond to a so-called \"subpackage\" of eWaterCycle Python package. Before we continue, however, we will briefly explain the configuration file."
   ]
  },
  {
   "cell_type": "markdown",
   "id": "001d69ad",
   "metadata": {},
   "source": [
    "### Configuration\n",
    "\n",
    "To be able to find all needed data and models eWaterCycle comes with a configuration object. This configuration contains system settings for eWaterCycle (which container technology to use, where is the data located, etc). In general these should not need to be changed by the user for a specific experiment, and ideally a user would never need to touch this configuration on a properly managed system. However, it is good to know that it is there. \n",
    "\n",
    "You can see the default configuration on your system like so:"
   ]
  },
  {
   "cell_type": "code",
   "execution_count": 2,
   "id": "61e99042",
   "metadata": {},
   "outputs": [
    {
     "data": {
      "text/plain": [
       "Config({'container_engine': 'singularity',\n",
       "        'esmvaltool_config': None,\n",
       "        'ewatercycle_config': PosixPath('/home/peter/.config/ewatercycle/ewatercycle.yaml'),\n",
       "        'grdc_location': None,\n",
       "        'output_dir': PosixPath('/home/peter/ewatercycle/ewatercycle/docs/examples'),\n",
       "        'parameter_sets': {'lisflood_fraser': {'config': 'lisflood_fraser/settings_lat_lon-Run.xml',\n",
       "                                               'directory': 'lisflood_fraser',\n",
       "                                               'doi': 'N/A',\n",
       "                                               'supported_model_versions': {'20.10'},\n",
       "                                               'target_model': 'lisflood'},\n",
       "                           'pcrglobwb_rhinemeuse_30min': {'config': 'pcrglobwb_rhinemeuse_30min/setup_natural_test.ini',\n",
       "                                                          'directory': 'pcrglobwb_rhinemeuse_30min',\n",
       "                                                          'doi': 'N/A',\n",
       "                                                          'supported_model_versions': {'setters'},\n",
       "                                                          'target_model': 'pcrglobwb'},\n",
       "                           'wflow_rhine_sbm_nc': {'config': 'wflow_rhine_sbm_nc/wflow_sbm_NC.ini',\n",
       "                                                  'directory': 'wflow_rhine_sbm_nc',\n",
       "                                                  'doi': 'N/A',\n",
       "                                                  'supported_model_versions': {'2020.1.1'},\n",
       "                                                  'target_model': 'wflow'}},\n",
       "        'parameterset_dir': PosixPath('/home/peter/ewatercycle/ewatercycle/docs/examples/parameter-sets'),\n",
       "        'singularity_dir': PosixPath('/home/peter/ewatercycle/ewatercycle')})"
      ]
     },
     "execution_count": 2,
     "metadata": {},
     "output_type": "execute_result"
    }
   ],
   "source": [
    "from ewatercycle import CFG\n",
    "CFG"
   ]
  },
  {
   "cell_type": "markdown",
   "id": "72593ff1",
   "metadata": {},
   "source": [
    "Note: a path on the local filesystem is always denoted as \"dir\" (short for directory), instead of folder, path, or location. Especially location can be confusing in the context of geospatial modeling.\n",
    "\n",
    "It is also possible to store and load custom configuration files. For more information, see [system setup](https://ewatercycle.readthedocs.io/en/latest/system_setup.html#configure-ewatercycle)"
   ]
  },
  {
   "cell_type": "markdown",
   "id": "e62b84f4",
   "metadata": {},
   "source": [
    "## Parameter sets\n",
    "\n",
    "eWaterCycle allows model parameters to be set once a model instance has been created. However, as some models require a large number of files and other settings, it is also possible to pass a `ParameterSet` apon creation of a model instance. Which ParameterSets are available for a certain model can be requested from the model class.\n",
    "\n",
    "In general the id determines the location in the collection of parameter sets available."
   ]
  },
  {
   "cell_type": "code",
   "execution_count": 8,
   "id": "35153e8b",
   "metadata": {},
   "outputs": [],
   "source": [
    "import ewatercycle.parameter_sets"
   ]
  },
  {
   "cell_type": "code",
   "execution_count": 9,
   "id": "509f8529",
   "metadata": {},
   "outputs": [
    {
     "data": {
      "text/plain": [
       "('wflow_rhine_sbm_nc',)"
      ]
     },
     "execution_count": 9,
     "metadata": {},
     "output_type": "execute_result"
    }
   ],
   "source": [
    "ewatercycle.parameter_sets.available_parameter_sets(target_model='wflow')"
   ]
  },
  {
   "cell_type": "code",
   "execution_count": 12,
   "id": "8cf5c944",
   "metadata": {},
   "outputs": [
    {
     "name": "stdout",
     "output_type": "stream",
     "text": [
      "Parameter set\n",
      "-------------\n",
      "name='wflow_rhine_sbm_nc'\n",
      "directory=PosixPath('/home/peter/ewatercycle/ewatercycle/docs/examples/parameter-sets/wflow_rhine_sbm_nc')\n",
      "config=PosixPath('/home/peter/ewatercycle/ewatercycle/docs/examples/parameter-sets/wflow_rhine_sbm_nc/wflow_sbm_NC.ini')\n",
      "doi='N/A'\n",
      "target_model='wflow'\n",
      "supported_model_versions={'2020.1.1'}\n"
     ]
    }
   ],
   "source": [
    "parameter_set = ewatercycle.parameter_sets.get_parameter_set('wflow_rhine_sbm_nc')\n",
    "print(parameter_set)"
   ]
  },
  {
   "cell_type": "code",
   "execution_count": 13,
   "id": "c413e5e0",
   "metadata": {},
   "outputs": [
    {
     "data": {
      "text/plain": [
       "'wflow'"
      ]
     },
     "execution_count": 13,
     "metadata": {},
     "output_type": "execute_result"
    }
   ],
   "source": [
    "parameter_set.target_model"
   ]
  },
  {
   "cell_type": "code",
   "execution_count": 14,
   "id": "fd7a7614",
   "metadata": {},
   "outputs": [
    {
     "data": {
      "text/plain": [
       "'N/A'"
      ]
     },
     "execution_count": 14,
     "metadata": {},
     "output_type": "execute_result"
    }
   ],
   "source": [
    "parameter_set.doi"
   ]
  },
  {
   "cell_type": "code",
   "execution_count": 15,
   "id": "dcf76b00",
   "metadata": {},
   "outputs": [
    {
     "data": {
      "text/plain": [
       "'wflow_rhine_sbm_nc'"
      ]
     },
     "execution_count": 15,
     "metadata": {},
     "output_type": "execute_result"
    }
   ],
   "source": [
    "parameter_set.name"
   ]
  },
  {
   "cell_type": "code",
   "execution_count": 16,
   "id": "bef7aba9",
   "metadata": {},
   "outputs": [
    {
     "data": {
      "text/plain": [
       "{'2020.1.1'}"
      ]
     },
     "execution_count": 16,
     "metadata": {},
     "output_type": "execute_result"
    }
   ],
   "source": [
    "parameter_set.supported_model_versions"
   ]
  },
  {
   "cell_type": "code",
   "execution_count": 18,
   "id": "f13092af",
   "metadata": {},
   "outputs": [
    {
     "name": "stdout",
     "output_type": "stream",
     "text": [
      "/home/peter/ewatercycle/ewatercycle/docs/examples/parameter-sets/wflow_rhine_sbm_nc\n"
     ]
    }
   ],
   "source": [
    "print(parameter_set.directory)"
   ]
  },
  {
   "cell_type": "markdown",
   "id": "21c6834e",
   "metadata": {},
   "source": [
    "## Forcing data\n",
    "\n",
    "eWaterCycle can generate forcing for a model using the `forcing` module. This does all the required steps to go from the available datasets (ERA-5, ERA-Interim, etc) to whatever format the model requires for forcing. In general the output should match a forcing prepared \"manually\" for this model.\n",
    "\n",
    "As input for the forcing generation the shape of the required forcing (usually a catchment) is needed. eWaterCycle will derive additiona information such as a bounding box if this is required by the model (e.g. in case of a gridded model), and additional options may be available or even required for some models.\n",
    "\n",
    "The forcing module generates a ESMValTool recipe using all the arguments supplied. For most models all computations are done using ESMValTool. However, for some models (e.g. lisflood) additional computation is done, as some steps require data and/or code not available in ESMValTool.\n",
    "\n",
    "The forcing generated is returned in the form of an object with metadata attached, and the main forcing being stored in a directory. This directory can either be specified explicitly, or it will be auto-generated by eWaterCycle from the output dir specified in the configuration. Some additional functionality is available to analyse the forcing, most promonently a plotting function to visually inspect the forcing."
   ]
  },
  {
   "cell_type": "markdown",
   "id": "85c8849b-7048-475b-b69d-94225b70d4a4",
   "metadata": {},
   "source": [
    "#### ESMValTool configuration\n",
    "\n",
    "As eWaterCycle relies on ESMValTool for processing forcing data, configuration for forcing is mostly defered to the esmvaltool configuration file. What ESMValTool configuration file to use can be specified in the eWatercycle configuration."
   ]
  },
  {
   "cell_type": "markdown",
   "id": "716c024b",
   "metadata": {},
   "source": [
    "### Loading existing forcing data\n",
    "\n",
    "Existing forcing can also be loaded using a function much like the forcing generation function"
   ]
  },
  {
   "cell_type": "code",
   "execution_count": null,
   "id": "0b7d0337",
   "metadata": {},
   "outputs": [],
   "source": [
    "import ewatercycle.forcing\n",
    "\n",
    "#load an existing forcing that was generated manually by some scientist from Deltares\n",
    "forcing = ewatercycle.forcing.load_external(\n",
    "    #location on the file system where the output can be found\n",
    "    directory='/path/to/forcing/output/',\n",
    "    target_model='wflow', \n",
    "    start_time='2021-05-07T13:32:00Z'\n",
    "    model_specific_forcing_info = {\n",
    "        'forcing_filename' : 'some-filename.nc', # relative to forcing directory\n",
    "        'temperature-variable-name': 'TEMP'\n",
    "    },\n",
    ")\n",
    "\n",
    "#fetch an existing forcing that was generated with generate\n",
    "forcing = ewatercycle.forcing.load(\n",
    "    #location on the file system where the output can be found (no other options here)\n",
    "    directory='/path/to/forcing/output/'\n",
    ")"
   ]
  },
  {
   "cell_type": "markdown",
   "id": "172810f8-c598-427c-aa86-ea7d920c7e01",
   "metadata": {},
   "source": [
    "### Generating forcing data"
   ]
  },
  {
   "cell_type": "code",
   "execution_count": 2,
   "id": "5e887394",
   "metadata": {
    "scrolled": true
   },
   "outputs": [
    {
     "name": "stderr",
     "output_type": "stream",
     "text": [
      "/Users/bvreede/anaconda3/envs/ewatercycle/lib/python3.9/site-packages/esmvalcore/experimental/_warnings.py:18: UserWarning: \n",
      "  Thank you for trying out the new ESMValCore API.\n",
      "  Note that this API is experimental and may be subject to change.\n",
      "  More info: https://github.com/ESMValGroup/ESMValCore/issues/498\n",
      "/Users/bvreede/anaconda3/envs/ewatercycle/lib/python3.9/site-packages/esmvalcore/experimental/config/_config_validators.py:254: ESMValToolDeprecationWarning: `write_plots` will be removed in 2.4.0.\n",
      "/Users/bvreede/anaconda3/envs/ewatercycle/lib/python3.9/site-packages/esmvalcore/experimental/config/_config_validators.py:255: ESMValToolDeprecationWarning: `write_netcdf` will be removed in 2.4.0.\n"
     ]
    },
    {
     "ename": "TypeError",
     "evalue": "generate() got an unexpected keyword argument 'directory'",
     "output_type": "error",
     "traceback": [
      "\u001b[0;31m---------------------------------------------------------------------------\u001b[0m",
      "\u001b[0;31mTypeError\u001b[0m                                 Traceback (most recent call last)",
      "\u001b[0;32m<ipython-input-2-cadfffbdf212>\u001b[0m in \u001b[0;36m<module>\u001b[0;34m\u001b[0m\n\u001b[1;32m      1\u001b[0m \u001b[0;32mimport\u001b[0m \u001b[0mewatercycle\u001b[0m\u001b[0;34m.\u001b[0m\u001b[0mforcing\u001b[0m\u001b[0;34m\u001b[0m\u001b[0;34m\u001b[0m\u001b[0m\n\u001b[1;32m      2\u001b[0m \u001b[0;34m\u001b[0m\u001b[0m\n\u001b[0;32m----> 3\u001b[0;31m forcing = ewatercycle.forcing.generate(\n\u001b[0m\u001b[1;32m      4\u001b[0m     \u001b[0mtarget_model\u001b[0m\u001b[0;34m=\u001b[0m\u001b[0;34m'wflow'\u001b[0m\u001b[0;34m,\u001b[0m\u001b[0;34m\u001b[0m\u001b[0;34m\u001b[0m\u001b[0m\n\u001b[1;32m      5\u001b[0m     \u001b[0mdataset\u001b[0m\u001b[0;34m=\u001b[0m\u001b[0;34m'ERA-Interim'\u001b[0m\u001b[0;34m,\u001b[0m \u001b[0;31m# example of a more advanced case: forcing.findCMIPData(mip=6, exp=historical)\u001b[0m\u001b[0;34m\u001b[0m\u001b[0;34m\u001b[0m\u001b[0m\n",
      "\u001b[0;31mTypeError\u001b[0m: generate() got an unexpected keyword argument 'directory'"
     ]
    }
   ],
   "source": [
    "import ewatercycle.forcing\n",
    "\n",
    "forcing = ewatercycle.forcing.generate(\n",
    "    target_model='wflow', \n",
    "    dataset='ERA-Interim', # example of a more advanced case: forcing.findCMIPData(mip=6, exp=historical)\n",
    "    start_time=\"2021-05-07T13:32:00Z\",\n",
    "    end_time=\"2021-12-31T23:59:59Z\",\n",
    "    shape = '/path/to/shapefile.shp',\n",
    "    model_specific_options = {\n",
    "        'wflow_dem_file' : '/some/path/to/dem.dem',\n",
    "        'hype_catchment_delineation' : '/some/other/shapefile'\n",
    "    }\n",
    ")\n",
    "\n",
    "# Calling this function should show a progress bar, or at least auto-hide or auto-scroll the output."
   ]
  },
  {
   "cell_type": "code",
   "execution_count": null,
   "id": "6a5f081f",
   "metadata": {
    "scrolled": true
   },
   "outputs": [],
   "source": [
    "forcing.directory\n",
    "# path to forcing output (content of the work dir of the esmvaltool output)\n",
    "\n",
    "forcing.start_time\n",
    "# datetime() object\n",
    "\n",
    "forcing.end_time\n",
    "# datetime() object\n",
    "\n",
    "forcing.dataset\n",
    "# 'ERA-Interim', eventually dataset object\n",
    "\n",
    "forcing.target_model\n",
    "# 'wflow'\n",
    "\n",
    "forcing.shape\n",
    "# Shape()\n",
    "\n",
    "#optional\n",
    "forcing.plot()\n",
    "# some matplotlib output that shows the forcing\n",
    "\n",
    "#optional\n",
    "forcing.interactive_plot()\n",
    "#some geoviews/widget/thingy that shows the forcing\n",
    "\n",
    "#optional\n",
    "forcing.log\n",
    "# show some info on how this was generated (the esmvaltool log?)\n",
    "\n",
    "#optional\n",
    "forcing.recipe\n",
    "# the esmvaltool recipe, to inspect what was done in the end."
   ]
  },
  {
   "cell_type": "markdown",
   "id": "57c43415",
   "metadata": {},
   "source": [
    "### Example Yaml file with forcing metadata\n",
    "\n",
    "```yaml\n",
    "target_model: wflow \n",
    "start_time: 2021-05-07T13:32:00Z\n",
    "end_time: 2021-12-31T23:59:59Z\n",
    "\n",
    "#relative to (and inside) directory of this yaml file\n",
    "shape: shapefile.shp\n",
    "model_specific_forcing_info:\n",
    "  # relative to this directory\n",
    "  forcing_filename: some-filename.nc\n",
    "  temperature-variable-name: TEMP\n",
    "```"
   ]
  },
  {
   "cell_type": "markdown",
   "id": "0c7883b4-21a9-42e4-b3c4-afd760c0cbf9",
   "metadata": {},
   "source": [
    "## Models"
   ]
  },
  {
   "cell_type": "markdown",
   "id": "b6a2e409",
   "metadata": {},
   "source": [
    "### Creating, setting up, and initializing a model instance\n",
    "\n",
    "Now that we have created a forcing and selected a version of the model and a parameter set, we can create a model instance. When creating an instance we will have to select the version of the model to use, a parameter set, and a forcing. This will all be combined into an instance object. This can then be inspected for available parameters and default values, setup to create the configuration file, work_dir containing input files, and container, and initialized to prepare a model for running.\n",
    "\n",
    "The way models are created, setup, and initialized matches PyMT as much as possible. There is currently no 'run' method as this convenance method makes it harder for users to create a more advanced usecase from a simple example."
   ]
  },
  {
   "cell_type": "markdown",
   "id": "029fc562",
   "metadata": {
    "tags": []
   },
   "source": [
    "### Model versions\n",
    "\n",
    "eWaterCycle supports a number of models, and new once can be adding using a straightforward process. These are represented using a Python Class (e.g. ewatercycle.models.Wflow). Several version of a model may be available. To help with reproducibility the version of a model must always be specified when creating a model instance. A class function is available to retrieve a list of model versions.\n"
   ]
  },
  {
   "cell_type": "code",
   "execution_count": null,
   "id": "98e1e41e",
   "metadata": {
    "tags": []
   },
   "outputs": [],
   "source": [
    "import ewatercycle.models.Wflow\n",
    "\n",
    "ewatercycle.models.Wflow.available_versions\n",
    "# [\"2019.1\", \"2020.1\"]"
   ]
  },
  {
   "cell_type": "code",
   "execution_count": null,
   "id": "53f3353b",
   "metadata": {},
   "outputs": [],
   "source": [
    "import ewatercycle.models\n",
    "\n",
    "#A parameter set and forcing object must be loaded or found before instanciating a model.\n",
    "\n",
    "#Creates as model instance from a model version, parameter_set, and forcing\n",
    "#version = mandatory\n",
    "#parameter set = optional (e.g. MARRMOT does not need one)\n",
    "#forcing = mandatory for now. At some point we may want to support feeding forcing to a model\n",
    "#while running it using set_variable('temperature') and such.\n",
    "model_instance = ewatercycle.models.Wflow(version='2019.1', parameter_set=parameter_set, forcing=forcing)\n",
    "\n",
    "#using the parameters property all parameter defaults can be obtained.\n",
    "#this is possibly a subset of everything that can be configured in the config file of model, and up to the\n",
    "#creator of the model class to implement. For non-science settings such as logging settings, or file names\n",
    "# for all parameter files it does not always make sense to expose these.\n",
    "model_instance.parameters\n",
    "#soil_depth: 9 (defaults to value in parameter set e.g. in a config template)\n",
    "#start_time=\"2021-05-07T13:32:00Z\" (defaults to start of forcing)\n",
    "#end_time=\"2021-05-07T13:32:00Z\" (defaults to end of forcing)\n",
    "#not all parameter files can be set, but for some it may make sense.\n",
    "#land_mask='some/land/mask/in/the/parameter_set.dem'\n",
    "\n",
    "#the Setup function does the following:\n",
    "#- Create a directory which serves as the current working directory for the mode instance\n",
    "#- Creates a configuration file in this working directory based on the settings\n",
    "#- Creates a container instance for the exact version of the model requesed\n",
    "#- Makes the forcing, parameter set and and working directory available to the container using mounts.\n",
    "#- If a model cannot cope with forcing and parameter set outside the working directory it is copied\n",
    "#  to the working_directory instead.\n",
    "#- Input is mounted read-only, the working directory is mounted read-write.\n",
    "#- Setup will complain about incompatible model version, parameter_set, and forcing.\n",
    "cfg_file, work_dir = model_instance.setup(\n",
    "    land_mask='/some/land/mask.dem', # if outside of mounts, add a mount, or copy into working dir, or :'(\n",
    "    soil_depth=9,\n",
    "    start_time=\"2021-05-07T13:32:00Z\",\n",
    "    end_time=\"2021-05-07T13:32:00Z\"\n",
    ")\n",
    "\n",
    "#After setup but before initialize everything is good-to-go, but nothing has been done yet. This is\n",
    "#An opportunity to inspect the generated configuration file, and make any changes manually that could not be\n",
    "#done through the setup method. Splitting these also makes it easier to run initialize in parallel in case a\n",
    "#lot of models are created simultaneously (e.g. when calibrating a model)\n",
    "\n",
    "# To modify, open it in an editor and save\n",
    "print(cfg_file)\n",
    "\n",
    "#This function will initialize the model using the files created above. For some models this can take some time.\n",
    "model_instance.initialize(cfg_file)"
   ]
  },
  {
   "cell_type": "markdown",
   "id": "967fd35b",
   "metadata": {},
   "source": [
    "### Running a model and getting output\n",
    "\n",
    "Once initalized a model_instanced can be used by calling functions for running a single timestep (`update`), setting variables, and getting variables. Besides the rather lowlevel BMI functions several convenience functions are also available. These returns objects that make sense for the type of values returned, such as pandas DataFram and xarray DataArray or Dataset."
   ]
  },
  {
   "cell_type": "markdown",
   "id": "dff204cb",
   "metadata": {},
   "source": [
    "#### TODO Merge these cells below\n",
    "In the loop, only use get_value_at_coords to keep track of a single outlet point.\n",
    "At the end, show get_value_as_xarray to show you can also get the whole field"
   ]
  },
  {
   "cell_type": "code",
   "execution_count": null,
   "id": "0dc4da66",
   "metadata": {},
   "outputs": [],
   "source": [
    "#example storing all output of a certain field.\n",
    "output = []\n",
    "while model_instance.time < model_instance.end_time:\n",
    "    \n",
    "    # Update the model (takes a few seconds per timestep)\n",
    "    model_instance.update() \n",
    "    \n",
    "    #store entire discharge field\n",
    "    discharge = model.get_value_as_xarray('Discharge')\n",
    "    output.append(discharge)\n",
    "        \n",
    "    # Show progress\n",
    "    print(reference.time, end=\"\\r\")  # \"\\r\" clears the output before printing the next timestamp\n",
    "    \n",
    "result = xarray.merge(output)\n",
    "\n",
    "result\n",
    "#xarray with full output of discharge field"
   ]
  },
  {
   "cell_type": "code",
   "execution_count": null,
   "id": "0a18150e",
   "metadata": {},
   "outputs": [],
   "source": [
    "#example storing a timeseries for a single location of a certain field\n",
    "\n",
    "#some location of interest within the model\n",
    "output_latitude = 55.4\n",
    "output_longitude = 20.0\n",
    "\n",
    "simulated_discharge = pd.DataFrame(index='time', columns=['discharge'])\n",
    "while model_instance.time < model_instance.end_time:\n",
    "    \n",
    "    # Update the model (takes a few seconds per timestep)\n",
    "    model_instance.update() \n",
    "    \n",
    "    # Track discharge at station location\n",
    "    discharge = model_instance.get_value_at_location('Discharge', latitude=output_latitude, longitude=output_longitude, method='nearest')\n",
    "    simulated_discharge.append({\"time\":reference.time, \"discharge\": discharge})\n",
    "    \n",
    "    # Show progress\n",
    "    print(model_instance.time, end=\"\\r\")  # \"\\r\" clears the output before printing the next timestamp\n",
    "    \n",
    "model_output\n",
    "#nice table of all dischage values over time for a single location"
   ]
  },
  {
   "cell_type": "markdown",
   "id": "d10584b1",
   "metadata": {},
   "source": [
    "## Observations"
   ]
  },
  {
   "cell_type": "code",
   "execution_count": null,
   "id": "13a4b9ce",
   "metadata": {},
   "outputs": [],
   "source": [
    "#Read GRDC data\n",
    "\n",
    "import ewatercycle.observation.grdc\n",
    "\n",
    "grdc_station_id = 4147380\n",
    "\n",
    "#This function automatically fetches the location of the GRDC data from the configuration file\n",
    "#Start and end dates are fetched from the model instance\n",
    "observations = ewatercycle.observation.grdc.get_grdc_data(\n",
    "    station_id=grdc_station_id,\n",
    "    start_date=model_instance.start_time.date(),\n",
    "    end_date=model_instance.end_time.date(),\n",
    ")\n",
    "observations\n",
    "#xarray containing grdc data"
   ]
  },
  {
   "cell_type": "code",
   "execution_count": null,
   "id": "f35c3507",
   "metadata": {},
   "outputs": [],
   "source": [
    "#Combine simulated and observated discharge into a single dataframe\n",
    "\n",
    "import pandas\n",
    " \n",
    "simulated_discharge_df = pandas.DataFrame(\n",
    "    {'simulation': model_output}, index=timestamps\n",
    ")\n",
    "observations_df = observations.streamflow.to_dataframe().rename(\n",
    "    columns={'streamflow': 'observation'}\n",
    ")\n",
    "discharge = simulated_discharge_df.join(observations_df)\n",
    "discharge\n",
    "\n",
    "#table with simulated and observed discharge"
   ]
  },
  {
   "cell_type": "markdown",
   "id": "9428502b-c9dc-4781-a40c-c8fb5f0e7a03",
   "metadata": {},
   "source": [
    "## Analysis\n",
    "Once a model has run we can analyse the result. For this example we will assume a DataFrame was created with values over time for a certain location for which GRDC station data is available"
   ]
  },
  {
   "cell_type": "code",
   "execution_count": null,
   "id": "cc2cbe5e",
   "metadata": {},
   "outputs": [],
   "source": [
    "#Plot hydrograph\n",
    "\n",
    "import ewatercycle.analysis\n",
    "\n",
    "#todo: also add forcing to this hydrograph in some smart way\n",
    "ewatercycle.analysis.hydrograph(\n",
    "    discharge=discharge,\n",
    "    reference='observation',\n",
    ")\n",
    "\n",
    "#nice hydrograph"
   ]
  },
  {
   "cell_type": "code",
   "execution_count": null,
   "id": "6b0be972",
   "metadata": {},
   "outputs": [],
   "source": [
    "#finalize the model.\n",
    "#as a side effect also destroys the container\n",
    "model_instance.finalize()"
   ]
  }
 ],
 "metadata": {
  "kernelspec": {
   "display_name": "Python 3",
   "language": "python",
   "name": "python3"
  },
  "language_info": {
   "codemirror_mode": {
    "name": "ipython",
    "version": 3
   },
   "file_extension": ".py",
   "mimetype": "text/x-python",
   "name": "python",
   "nbconvert_exporter": "python",
   "pygments_lexer": "ipython3",
   "version": "3.9.2"
  }
 },
 "nbformat": 4,
 "nbformat_minor": 5
}
