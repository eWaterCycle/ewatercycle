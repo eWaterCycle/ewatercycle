{
 "cells": [
  {
   "cell_type": "code",
   "execution_count": 1,
   "id": "2bb69703-59a9-47fe-a832-76e19147e80b",
   "metadata": {},
   "outputs": [],
   "source": [
    "# Suppress distracting outputs in this notebook\n",
    "import warnings\n",
    "warnings.filterwarnings(\"ignore\", category=UserWarning)\n",
    "import logging\n",
    "logging.basicConfig(level=logging.WARN)\n",
    "logger = logging.getLogger('esmvalcore')\n",
    "logger.setLevel(logging.WARNING)"
   ]
  },
  {
   "cell_type": "markdown",
   "id": "135115cc",
   "metadata": {},
   "source": [
    "![image](https://github.com/eWaterCycle/ewatercycle/raw/main/docs/examples/logo.png)\n",
    "\n",
    "# User guide\n",
    "\n",
    "This user manual will explain how the eWaterCycle Python package can be used to perform hydrological experiments. We will walk through the following chapters:\n",
    "\n",
    "- parameter sets\n",
    "- forcing data\n",
    "- model instances\n",
    "- using observations\n",
    "- analysis\n",
    "\n",
    "Each of these chapters correspond to a so-called \"subpackage\" of eWaterCycle Python package. Before we continue, however, we will briefly explain the configuration file."
   ]
  },
  {
   "cell_type": "markdown",
   "id": "001d69ad",
   "metadata": {},
   "source": [
    "**Configuration**\n",
    "\n",
    "To be able to find all needed data and models eWaterCycle comes with a configuration object. This configuration contains system settings for eWaterCycle (which container technology to use, where is the data located, etc). In general these should not need to be changed by the user for a specific experiment, and ideally a user would never need to touch this configuration on a properly managed system. However, it is good to know that it is there. \n",
    "\n",
    "You can see the default configuration on your system like so:"
   ]
  },
  {
   "cell_type": "code",
   "execution_count": 2,
   "id": "61e99042",
   "metadata": {},
   "outputs": [
    {
     "data": {
      "text/plain": [
       "Config({'container_engine': 'singularity',\n",
       "        'esmvaltool_config': None,\n",
       "        'ewatercycle_config': PosixPath('/home/peter/.config/ewatercycle/ewatercycle.yaml'),\n",
       "        'grdc_location': None,\n",
       "        'output_dir': PosixPath('/home/peter/ewatercycle/ewatercycle/docs/examples'),\n",
       "        'parameter_sets': {'lisflood_fraser': {'config': 'lisflood_fraser/settings_lat_lon-Run.xml',\n",
       "                                               'directory': 'lisflood_fraser',\n",
       "                                               'doi': 'N/A',\n",
       "                                               'supported_model_versions': {'20.10'},\n",
       "                                               'target_model': 'lisflood'},\n",
       "                           'pcrglobwb_rhinemeuse_30min': {'config': 'pcrglobwb_rhinemeuse_30min/setup_natural_test.ini',\n",
       "                                                          'directory': 'pcrglobwb_rhinemeuse_30min',\n",
       "                                                          'doi': 'https://doi.org/10.5281/zenodo.1045339',\n",
       "                                                          'supported_model_versions': {'setters'},\n",
       "                                                          'target_model': 'pcrglobwb'},\n",
       "                           'wflow_rhine_sbm_nc': {'config': 'wflow_rhine_sbm_nc/wflow_sbm_NC.ini',\n",
       "                                                  'directory': 'wflow_rhine_sbm_nc',\n",
       "                                                  'doi': 'N/A',\n",
       "                                                  'supported_model_versions': {'2020.1.1'},\n",
       "                                                  'target_model': 'wflow'}},\n",
       "        'parameterset_dir': PosixPath('/home/peter/ewatercycle/ewatercycle/docs/examples/parameter-sets'),\n",
       "        'singularity_dir': PosixPath('/home/peter/ewatercycle/ewatercycle')})"
      ]
     },
     "execution_count": 2,
     "metadata": {},
     "output_type": "execute_result"
    }
   ],
   "source": [
    "from ewatercycle import CFG\n",
    "CFG"
   ]
  },
  {
   "cell_type": "markdown",
   "id": "72593ff1",
   "metadata": {},
   "source": [
    "Note: a path on the local filesystem is always denoted as \"dir\" (short for directory), instead of folder, path, or location. Especially location can be confusing in the context of geospatial modeling.\n",
    "\n",
    "It is also possible to store and load custom configuration files. For more information, see [system setup](https://ewatercycle.readthedocs.io/en/latest/system_setup.html#configure-ewatercycle)"
   ]
  },
  {
   "cell_type": "markdown",
   "id": "e62b84f4",
   "metadata": {},
   "source": [
    "## Parameter sets\n",
    "\n",
    "Parameter sets are an essential part of many hydrological models, and for the eWaterCycle package as well."
   ]
  },
  {
   "cell_type": "code",
   "execution_count": 3,
   "id": "35153e8b",
   "metadata": {},
   "outputs": [],
   "source": [
    "import ewatercycle.parameter_sets"
   ]
  },
  {
   "cell_type": "markdown",
   "id": "ce991717-557f-4399-bae0-f61aab28f093",
   "metadata": {},
   "source": [
    "The default [system setup](https://ewatercycle.readthedocs.io/en/latest/system_setup.html#download-example-parameter-sets) includes a number of example parameter sets that can be used directly. System administrators can also add available parameter sets that are globally availble to all users. In the future, we're hoping to add functionality to fetch new parameter sets using a DOI as well.\n",
    "\n",
    "To see the available parameter sets:"
   ]
  },
  {
   "cell_type": "code",
   "execution_count": 4,
   "id": "20f2f6c8-9627-463c-aed3-769601b23932",
   "metadata": {},
   "outputs": [
    {
     "data": {
      "text/plain": [
       "('lisflood_fraser', 'pcrglobwb_rhinemeuse_30min', 'wflow_rhine_sbm_nc')"
      ]
     },
     "execution_count": 4,
     "metadata": {},
     "output_type": "execute_result"
    }
   ],
   "source": [
    "ewatercycle.parameter_sets.available_parameter_sets()"
   ]
  },
  {
   "cell_type": "markdown",
   "id": "4c80e312-8cb8-4092-9e2a-372f7c37d765",
   "metadata": {},
   "source": [
    "Since most parameter sets are model specific, you can filter the results as well:"
   ]
  },
  {
   "cell_type": "code",
   "execution_count": 5,
   "id": "509f8529",
   "metadata": {},
   "outputs": [
    {
     "data": {
      "text/plain": [
       "('wflow_rhine_sbm_nc',)"
      ]
     },
     "execution_count": 5,
     "metadata": {},
     "output_type": "execute_result"
    }
   ],
   "source": [
    "ewatercycle.parameter_sets.available_parameter_sets(target_model='wflow')"
   ]
  },
  {
   "cell_type": "markdown",
   "id": "7d61a59e-c18c-4ce8-8522-e841213be36e",
   "metadata": {},
   "source": [
    "Once you have found a suitable parameter set, you can load it and see some more details:"
   ]
  },
  {
   "cell_type": "code",
   "execution_count": 6,
   "id": "8cf5c944",
   "metadata": {},
   "outputs": [
    {
     "name": "stdout",
     "output_type": "stream",
     "text": [
      "Parameter set\n",
      "-------------\n",
      "name=wflow_rhine_sbm_nc\n",
      "directory=/home/peter/ewatercycle/ewatercycle/docs/examples/parameter-sets/wflow_rhine_sbm_nc\n",
      "config=/home/peter/ewatercycle/ewatercycle/docs/examples/parameter-sets/wflow_rhine_sbm_nc/wflow_sbm_NC.ini\n",
      "doi=N/A\n",
      "target_model=wflow\n",
      "supported_model_versions={'2020.1.1'}\n"
     ]
    }
   ],
   "source": [
    "parameter_set = ewatercycle.parameter_sets.get_parameter_set('wflow_rhine_sbm_nc')\n",
    "print(parameter_set)"
   ]
  },
  {
   "cell_type": "markdown",
   "id": "ade56ebf-48e3-490e-b650-90bb193b019d",
   "metadata": {},
   "source": [
    "or you can access individual attributes of the parameter sets"
   ]
  },
  {
   "cell_type": "code",
   "execution_count": 7,
   "id": "fd7a7614",
   "metadata": {},
   "outputs": [
    {
     "data": {
      "text/plain": [
       "{'2020.1.1'}"
      ]
     },
     "execution_count": 7,
     "metadata": {},
     "output_type": "execute_result"
    }
   ],
   "source": [
    "parameter_set.supported_model_versions"
   ]
  },
  {
   "cell_type": "markdown",
   "id": "7d142134-d398-41a2-bffb-5fe98a2319e4",
   "metadata": {},
   "source": [
    "Should you wish to configure your own parameter set (e.g. for PCRGlobWB in this case), this is also possible:"
   ]
  },
  {
   "cell_type": "code",
   "execution_count": 8,
   "id": "95038c96-4c92-458d-b1f0-11dc7a4efa10",
   "metadata": {},
   "outputs": [],
   "source": [
    "custom_parameter_set = ewatercycle.parameter_sets.ParameterSet(\n",
    "    name=\"custom_parameter_set\",\n",
    "    directory=\"/home/peter/ewatercycle/ewatercycle/docs/examples/parameter-sets/pcrglobwb_rhinemeuse_30min\",\n",
    "    config=\"/home/peter/ewatercycle/ewatercycle/docs/examples/parameter-sets/pcrglobwb_rhinemeuse_30min/setup_natural_test.ini\",\n",
    "    target_model=\"pcrglobwb\",\n",
    "    doi=\"https://doi.org/10.5281/zenodo.1045339\",\n",
    "    supported_model_versions={'setters'}\n",
    ")"
   ]
  },
  {
   "cell_type": "markdown",
   "id": "02900c20-a70b-4767-aafa-04a7ba3399fd",
   "metadata": {},
   "source": [
    "<div class=\"alert alert-info\">\n",
    "\n",
    "As you can see, an eWaterCycle parameter set is defined fully by a directory and a configuration file. The configuration file typically informs the model about the structure of the parameter set (e.g. \"what is the filename of the land use data\"). It is possible to change these settings later, when [setting up the model](#Models).\n",
    "\n",
    "</div>"
   ]
  },
  {
   "cell_type": "markdown",
   "id": "21c6834e",
   "metadata": {},
   "source": [
    "## Forcing data\n",
    "\n",
    "eWaterCycle can load or generate forcing data for a model using the `forcing` module. "
   ]
  },
  {
   "cell_type": "code",
   "execution_count": 2,
   "id": "2e034d13-e58c-4226-bd94-7924d3bbf155",
   "metadata": {},
   "outputs": [],
   "source": [
    "import ewatercycle.forcing"
   ]
  },
  {
   "cell_type": "markdown",
   "id": "716c024b",
   "metadata": {},
   "source": [
    "### Existing forcing from external source\n",
    "\n",
    "We first show how existing forcing data can be loaded with eWaterCycle. The wflow example parameter set already includes forcing data that was generated manually by the scientists at Deltares."
   ]
  },
  {
   "cell_type": "code",
   "execution_count": 10,
   "id": "0b7d0337",
   "metadata": {},
   "outputs": [
    {
     "name": "stdout",
     "output_type": "stream",
     "text": [
      "Forcing data for Wflow\n",
      "----------------------\n",
      "Directory: /home/peter/ewatercycle/ewatercycle/docs/examples/parameter-sets/wflow_rhine_sbm_nc\n",
      "Start time: 1991-01-01T00:00:00Z\n",
      "End time: 1991-12-31T00:00:00Z\n",
      "Shapefile: None\n",
      "Additional information for model config:\n",
      "  - netcdfinput: inmaps.nc\n",
      "  - Precipitation: /P\n",
      "  - Temperature: /TEMP\n",
      "  - EvapoTranspiration: /PET\n",
      "  - Inflow: None\n"
     ]
    }
   ],
   "source": [
    "forcing = ewatercycle.forcing.load_foreign(\n",
    "    directory = parameters.directory,\n",
    "    target_model = \"wflow\",\n",
    "    start_time = '1991-01-01T00:00:00Z',\n",
    "    end_time = '1991-12-31T00:00:00Z',\n",
    "    shape = None,\n",
    "    forcing_info = dict(\n",
    "        # Additional information about the external forcing data needed for the model configuration\n",
    "        netcdfinput = \"inmaps.nc\",\n",
    "        Precipitation = \"/P\",\n",
    "        EvapoTranspiration = \"/PET\",\n",
    "        Temperature = \"/TEMP\"\n",
    "    )\n",
    ")\n",
    "print(forcing)"
   ]
  },
  {
   "cell_type": "markdown",
   "id": "9907b973-a27a-4213-b15e-846fdb5905dc",
   "metadata": {},
   "source": [
    "As you can see, the forcing consists of a generic part which is the same for all eWaterCycle models, and a model-specific part (`forcing_info`). If you're familiar with wflow, you might recognize that the model-specific settings map directly to wflow configuration settings. "
   ]
  },
  {
   "cell_type": "markdown",
   "id": "172810f8-c598-427c-aa86-ea7d920c7e01",
   "metadata": {},
   "source": [
    "### Generating forcing data\n",
    "\n",
    "In most cases, you will not have access to tailor-made forcing data, and manually pre-processing existing datasets can be quite a pain. eWaterCycle includes a forcing generator that can do all the required steps to go from the available datasets (ERA5, ERA-Interim, etc) to whatever format the models require. This is done through [ESMValTool recipes](https://docs.esmvaltool.org/en/latest/recipes/recipe_hydrology.html). For some models (e.g. lisflood) additional computations are done, as some steps require data and/or code that is not available to ESMValTool.\n",
    "\n",
    "Apart from some standard parameters (start time, datasets, etc.), the forcing generator sometimes requires additional model-specific options. For our wflow example case, we need to pass the DEM file to the ESMValTool recipe as well. All model-specific options are listed in the [API documentation](https://ewatercycle.readthedocs.io/en/latest/apidocs/ewatercycle.forcing.html#ewatercycle.forcing.generate)."
   ]
  },
  {
   "cell_type": "markdown",
   "id": "85c8849b-7048-475b-b69d-94225b70d4a4",
   "metadata": {},
   "source": [
    "<div class=\"alert alert-info\">\n",
    "<p>ESMValTool configuration</p>\n",
    "    \n",
    "<p>As eWaterCycle relies on ESMValTool for processing forcing data, configuration for forcing is mostly defered to the esmvaltool configuration file. What ESMValTool configuration file to use can be specified in the <a href=https://ewatercycle.readthedocs.io/en/latest/system_setup.html#configure-esmvaltool>system setup</a>.</p>\n",
    "</div>\n",
    "\n"
   ]
  },
  {
   "cell_type": "code",
   "execution_count": 3,
   "id": "5e887394",
   "metadata": {
    "scrolled": true,
    "tags": []
   },
   "outputs": [
    {
     "name": "stdout",
     "output_type": "stream",
     "text": [
      "Forcing data for Wflow\n",
      "----------------------\n",
      "Directory: /home/sarah/GitHub/ewatercycle/docs/examples/recipe_wflow_20210719_145723/work/wflow_daily/script\n",
      "Start time: 1990-01-01T00:00:00Z\n",
      "End time: 1990-01-31T00:00:00Z\n",
      "Shapefile: /home/sarah/GitHub/ewatercycle/docs/examples/data/Rhine/Rhine.shp\n",
      "Additional information for model config:\n",
      "  - netcdfinput: wflow_ERA5_Rhine_1990_1990.nc\n",
      "  - Precipitation: /pr\n",
      "  - Temperature: /tas\n",
      "  - EvapoTranspiration: /pet\n",
      "  - Inflow: None\n"
     ]
    }
   ],
   "source": [
    "forcing = ewatercycle.forcing.generate(\n",
    "    target_model='wflow', \n",
    "    dataset='ERA5',\n",
    "    start_time=\"1990-01-01T00:00:00Z\",\n",
    "    end_time=\"1990-01-31T00:00:00Z\",\n",
    "    shape='./examples/data/Rhine/Rhine.shp',\n",
    "    model_specific_options = {\n",
    "        'dem_file' : './examples/wflow_rhine_sbm_nc/staticmaps/wflow_dem.map',\n",
    "    }\n",
    ")\n",
    "print(forcing)"
   ]
  },
  {
   "cell_type": "markdown",
   "id": "b694aa49-63b4-4f2b-aa19-82fb61108b17",
   "metadata": {},
   "source": [
    "Generated forcing is automatically saved to the ESMValTool output directory. A `yaml` file is stored there as well, such that you can easily reload the forcing later without having to generate it again."
   ]
  },
  {
   "cell_type": "markdown",
   "id": "57c43415",
   "metadata": {
    "tags": []
   },
   "source": [
    "`ewatercycle_forcing.yaml`:\n",
    "\n",
    "```yaml\n",
    "!WflowForcing\n",
    "start_time: '1990-01-01T00:00:00Z'\n",
    "end_time: '1990-12-31T00:00:00Z'\n",
    "shape:\n",
    "netcdfinput: wflow_ERA5_Rhine_1990_1990.nc\n",
    "Precipitation: /pr\n",
    "EvapoTranspiration: /pet\n",
    "Temperature: /tas\n",
    "Inflow:\n",
    "```"
   ]
  },
  {
   "cell_type": "code",
   "execution_count": null,
   "id": "889d4e6d-a69b-44c0-ba69-6ba77654e30e",
   "metadata": {
    "tags": []
   },
   "outputs": [],
   "source": [
    "reloaded_forcing = ewatercycle.forcing.load(\n",
    "    directory='/home/sarah/GitHub/ewatercycle/docs/examples/recipe_wflow_20210719_145723/work/wflow_daily/script'\n",
    ")"
   ]
  },
  {
   "cell_type": "markdown",
   "id": "0c7883b4-21a9-42e4-b3c4-afd760c0cbf9",
   "metadata": {},
   "source": [
    "## Models"
   ]
  },
  {
   "cell_type": "code",
   "execution_count": 4,
   "id": "1a4635ce-cfcd-4c78-9997-6db09a29bc45",
   "metadata": {},
   "outputs": [],
   "source": [
    "import ewatercycle.models"
   ]
  },
  {
   "cell_type": "markdown",
   "id": "029fc562",
   "metadata": {
    "tags": []
   },
   "source": [
    "eWaterCycle currently integrates the following models:\n",
    "\n",
    "* [wflow](https://ewatercycle.readthedocs.io/en/latest/examples/wflow.html)\n",
    "* [pcrglobwb](https://ewatercycle.readthedocs.io/en/latest/examples/pcrglobwb.html)\n",
    "* [marrmot M01](https://ewatercycle.readthedocs.io/en/latest/examples/marrmotm01.html)\n",
    "* [marrmot M14](https://ewatercycle.readthedocs.io/en/latest/examples/marrmotm14.html)\n",
    "* [lisflood](https://ewatercycle.readthedocs.io/en/latest/examples/lisflood.html)\n",
    "\n",
    "and we're expecting to add more models soon. The process for adding new models is documented in [Adding models](https://ewatercycle.readthedocs.io/en/latest/adding_models.html)\n",
    "\n",
    "### Model versions\n",
    "To help with reproducibility the version of a model must always be specified when creating a model instance. The available versions can be seen like so:"
   ]
  },
  {
   "cell_type": "code",
   "execution_count": 3,
   "id": "98e1e41e",
   "metadata": {
    "tags": []
   },
   "outputs": [
    {
     "data": {
      "text/plain": [
       "('2020.1.1',)"
      ]
     },
     "execution_count": 3,
     "metadata": {},
     "output_type": "execute_result"
    }
   ],
   "source": [
    "import ewatercycle.models\n",
    "\n",
    "ewatercycle.models.Wflow.available_versions"
   ]
  },
  {
   "cell_type": "markdown",
   "id": "b6a2e409",
   "metadata": {},
   "source": [
    "### Creating, setting up, and initializing a model instance\n",
    "\n",
    "The way models are created, setup, and initialized matches [PyMT](https://pymt.readthedocs.io/en/latest/quickstart.html#run-a-model) as much as possible.\n",
    "There are three steps:\n",
    "\n",
    "- instantiate (create a python object that represents the model)\n",
    "- setup (create a container with the right model, directories, and configuration files)\n",
    "- initialize (start the model inside the container)\n",
    "\n",
    "To a new user, these steps can be confusing as they seem to be related to \"starting a model\". However, you will see that there are some useful things that we can do in between each of these steps. As a side effect, splitting these steps also makes it easier to run a lot of models in parallel (e.g. for calibration). Experience tells us that you will quickly get used to it. \n",
    "\n",
    "When a model instance is created, we have to specify the version and pass in a suitable parameter set and forcing. "
   ]
  },
  {
   "cell_type": "code",
   "execution_count": null,
   "id": "a80d27c7-c298-47f2-b9c1-feb97069feae",
   "metadata": {},
   "outputs": [],
   "source": [
    "model_instance = ewatercycle.models.Wflow(version='2020.1.1', parameter_set=parameter_set, forcing=forcing)"
   ]
  },
  {
   "cell_type": "markdown",
   "id": "109eed95-46eb-4f91-82a8-7a43ca157c50",
   "metadata": {},
   "source": [
    "In some specific cases the parameter set (e.g. for marrmot) or the forcing (e.g. when it is already included in the parameter set) is not needed.\n",
    "\n",
    "Most models have a variety of parameters that can be set. An opiniated subset of these parameters is exposed through the eWaterCycle API. We focus on those settings that are relevant from a scientific point of view and prefer to hide technical settings. These parameters and their default values can be inspected as follows:"
   ]
  },
  {
   "cell_type": "code",
   "execution_count": null,
   "id": "3cfb77df-8815-45a1-8741-c88447790656",
   "metadata": {},
   "outputs": [],
   "source": [
    "model_instance.parameters"
   ]
  },
  {
   "cell_type": "markdown",
   "id": "6de4a382-16f8-40b0-b50e-a9f138364172",
   "metadata": {},
   "source": [
    "The start date and end date are automatically set based on the forcing data. \n",
    "\n",
    "Alternative values for each of these parameters can be passed on to the setup function:"
   ]
  },
  {
   "cell_type": "code",
   "execution_count": null,
   "id": "05a008da-486b-4f9c-b2fc-c3944a8c054c",
   "metadata": {},
   "outputs": [],
   "source": [
    "cfg_file, cfg_dir = model_instance.setup(\n",
    "    end_time=\"1990-12-15T00:00:00Z\"\n",
    ")"
   ]
  },
  {
   "cell_type": "markdown",
   "id": "be09b8e3-5b23-4384-9e01-619363108f81",
   "metadata": {},
   "source": [
    "The `setup` function does the following:\n",
    "\n",
    "- Create a config directory which serves as the current working directory for the mode instance\n",
    "- Creates a configuration file in this directory based on the settings\n",
    "- Starts a container with the requested model version and access to the forcing and parameter sets.\n",
    "- Input is mounted read-only, the working directory is mounted read-write (if a model cannot cope with inputs outside the working directory, the input will be copied).\n",
    "- Setup will complain about incompatible model version, parameter_set, and forcing.\n",
    "\n",
    "After `setup` but before `initialize` everything is good-to-go, but nothing has been done yet. This is\n",
    "an opportunity to inspect the generated configuration file, and make any changes manually that could not be\n",
    "done through the setup method. \n",
    "\n",
    "To modify the config file: print the path, open it in an editor, and save:"
   ]
  },
  {
   "cell_type": "code",
   "execution_count": null,
   "id": "92945715-4919-4ea5-9678-727cdd1d4cd7",
   "metadata": {},
   "outputs": [],
   "source": [
    "print(cfg_file)"
   ]
  },
  {
   "cell_type": "markdown",
   "id": "b8f120cb-0815-4028-9719-6efbfa5dde08",
   "metadata": {},
   "source": [
    "Once you're happy with the setup, it is time to initialize the model. You'll have to pass in the config file, even if you've not made any changes:"
   ]
  },
  {
   "cell_type": "code",
   "execution_count": null,
   "id": "53f3353b",
   "metadata": {},
   "outputs": [],
   "source": [
    "model_instance.initialize(cfg_file)  # for some models, this step can take some time"
   ]
  },
  {
   "cell_type": "markdown",
   "id": "967fd35b",
   "metadata": {},
   "source": [
    "### Running (and interacting with) a model\n",
    "\n",
    "A model instance can be controlled by calling functions for running a single timestep (`update`), setting variables, and getting variables. Besides the rather lowlevel BMI functions like `get_value` and `set_value`, we also added convenience functions such as `get_value_as_xarray`, `get_value_at_coords`, `time_as_datetime`, and `time_as_isostr`. These make it even more pleasant to interact with the model.\n",
    "\n",
    "For example, to run our model instance from start to finish, fetching the value of variable `discharge` at the location of a grdc station:"
   ]
  },
  {
   "cell_type": "code",
   "execution_count": null,
   "id": "de17f6d8-679f-4a4b-a5b9-c598b9de6f27",
   "metadata": {},
   "outputs": [],
   "source": [
    "grdc_latitude = ... # todo run observation cells below on system with GRDC data\n",
    "grdc_longitude = ..."
   ]
  },
  {
   "cell_type": "code",
   "execution_count": null,
   "id": "449578cc-2579-4eef-9f88-aa7a9cc52f02",
   "metadata": {},
   "outputs": [],
   "source": [
    "output = []\n",
    "while model_instance.time < model_instance.end_time:\n",
    "    model_instance.update()\n",
    "    \n",
    "    discharge = model_instance.get_value_at_coords('RiverRunoff', lon=[grdc_longitude], lat=[grdc_latitudes])[0]\n",
    "    output.append(discharge)\n",
    "    \n",
    "    # Here you could do whatever you like, e.g. update soil moisture values before doing the next timestep.\n",
    "    \n",
    "    print(model_instance.time_as_isostr, end=\"\\r\")  # \"\\r\" clears the output before printing the next timestamp"
   ]
  },
  {
   "cell_type": "markdown",
   "id": "8013ea24-8fab-4aa5-bb6f-d1a24ff53da5",
   "metadata": {},
   "source": [
    "We can also get the entire model field at a single time step. To simply plot it:"
   ]
  },
  {
   "cell_type": "code",
   "execution_count": null,
   "id": "8e8eddd6-48cb-4c30-bf83-a42bed630237",
   "metadata": {},
   "outputs": [],
   "source": [
    "model_instance.get_value_as_xarray('RiverRunoff').plot()"
   ]
  },
  {
   "cell_type": "markdown",
   "id": "2a88e072-1e41-4f48-8d66-2254d697438c",
   "metadata": {},
   "source": [
    "If you want to know which variables are available, you can use"
   ]
  },
  {
   "cell_type": "code",
   "execution_count": null,
   "id": "267ce865-5d61-4a74-97f9-a7412b961316",
   "metadata": {},
   "outputs": [],
   "source": [
    "model_instance.output_var_names"
   ]
  },
  {
   "cell_type": "markdown",
   "id": "d10584b1",
   "metadata": {},
   "source": [
    "## Observations"
   ]
  },
  {
   "cell_type": "code",
   "execution_count": 9,
   "id": "69d6d858-e4a7-4393-8537-88fe20096911",
   "metadata": {},
   "outputs": [],
   "source": [
    "import ewatercycle.observation.grdc"
   ]
  },
  {
   "cell_type": "markdown",
   "id": "2d21a924-4c87-4ed9-8e87-1d39baf699b9",
   "metadata": {},
   "source": [
    "This function automatically fetches the location of the GRDC data from the configuration file.\n",
    "Start and end dates are fetched from the model instance"
   ]
  },
  {
   "cell_type": "code",
   "execution_count": null,
   "id": "13a4b9ce",
   "metadata": {},
   "outputs": [],
   "source": [
    "grdc_station_id = 6335020\n",
    "\n",
    "observations = ewatercycle.observation.grdc.get_grdc_data(\n",
    "    station_id=grdc_station_id,\n",
    "    start_time=\"1990-01-01T00:00:00Z\", # model_instance.start_time_as_isostr\n",
    "    end_time=\"1990-12-31T00:00:00Z\"\n",
    ")\n",
    "\n",
    "observations.head()"
   ]
  },
  {
   "cell_type": "code",
   "execution_count": null,
   "id": "f35c3507",
   "metadata": {},
   "outputs": [],
   "source": [
    "#Combine simulated and observated discharge into a single dataframe\n",
    "\n",
    "import pandas\n",
    " \n",
    "simulated_discharge_df = pandas.DataFrame(\n",
    "    {'simulation': model_output}, index=timestamps\n",
    ")\n",
    "observations_df = observations.streamflow.to_dataframe().rename(\n",
    "    columns={'streamflow': 'observation'}\n",
    ")\n",
    "discharge = simulated_discharge_df.join(observations_df)\n",
    "discharge\n",
    "\n",
    "#table with simulated and observed discharge"
   ]
  },
  {
   "cell_type": "markdown",
   "id": "9428502b-c9dc-4781-a40c-c8fb5f0e7a03",
   "metadata": {},
   "source": [
    "## Analysis\n",
    "Once a model has run we can analyse the result. For this example we will assume a DataFrame was created with values over time for a certain location for which GRDC station data is available"
   ]
  },
  {
   "cell_type": "code",
   "execution_count": null,
   "id": "cc2cbe5e",
   "metadata": {},
   "outputs": [],
   "source": [
    "#Plot hydrograph\n",
    "\n",
    "import ewatercycle.analysis\n",
    "\n",
    "#todo: also add forcing to this hydrograph in some smart way\n",
    "ewatercycle.analysis.hydrograph(\n",
    "    discharge=discharge,\n",
    "    reference='observation',\n",
    ")\n",
    "\n",
    "#nice hydrograph"
   ]
  },
  {
   "cell_type": "code",
   "execution_count": null,
   "id": "6b0be972",
   "metadata": {},
   "outputs": [],
   "source": [
    "#finalize the model.\n",
    "#as a side effect also destroys the container\n",
    "model_instance.finalize()"
   ]
  }
 ],
 "metadata": {
  "kernelspec": {
   "display_name": "Python 3",
   "language": "python",
   "name": "python3"
  },
  "language_info": {
   "codemirror_mode": {
    "name": "ipython",
    "version": 3
   },
   "file_extension": ".py",
   "mimetype": "text/x-python",
   "name": "python",
   "nbconvert_exporter": "python",
   "pygments_lexer": "ipython3",
   "version": "3.9.2"
  }
 },
 "nbformat": 4,
 "nbformat_minor": 5
}
