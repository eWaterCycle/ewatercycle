{
 "cells": [
  {
   "cell_type": "code",
   "execution_count": 1,
   "id": "bd2d9bd5",
   "metadata": {},
   "outputs": [],
   "source": [
    "# Suppress distracting outputs in these examples\n",
    "import logging\n",
    "import warnings\n",
    "\n",
    "warnings.filterwarnings(\"ignore\", category=UserWarning)\n",
    "logger = logging.getLogger(\"esmvalcore\")\n",
    "logger.setLevel(logging.WARNING)"
   ]
  },
  {
   "cell_type": "markdown",
   "id": "3ebca622",
   "metadata": {},
   "source": [
    "# User guide\n",
    "\n",
    "This user manual will explain how the eWaterCycle Python package can be used to perform hydrological experiments. We will walk through the following chapters:\n",
    "\n",
    "- parameter sets\n",
    "- forcing data\n",
    "- model instances\n",
    "- using observations\n",
    "- analysis\n",
    "\n",
    "Each of these chapters correspond to a so-called \"subpackage\" of eWaterCycle Python package. Before we continue, however, we will briefly explain the configuration file."
   ]
  },
  {
   "cell_type": "markdown",
   "id": "5e02ed11",
   "metadata": {},
   "source": [
    "**Configuration**\n",
    "\n",
    "To be able to find all needed data and models eWaterCycle comes with a configuration object. This configuration contains system settings for eWaterCycle (which container technology to use, where is the data located, etc). In general these should not need to be changed by the user for a specific experiment, and ideally a user would never need to touch this configuration on a properly managed system. However, it is good to know that it is there. \n",
    "\n",
    "You can see the default configuration on your system like so:"
   ]
  },
  {
   "cell_type": "code",
   "execution_count": 2,
   "id": "570e6d66",
   "metadata": {},
   "outputs": [
    {
     "data": {
      "text/plain": [
       "Config({'container_engine': 'apptainer',\n",
       "        'ewatercycle_config': PosixPath('/home/fakhereh/.config/ewatercycle/ewatercycle.yaml'),\n",
       "        'grdc_location': PosixPath('/projects/0/wtrcycle/GRDC/GRDC_GCOSGTN-H_27_03_2019'),\n",
       "        'output_dir': PosixPath('/scratch-shared/ewatercycle'),\n",
       "        'parameter_sets': {'lisflood_fraser': {'config': 'lisflood_fraser/settings_lat_lon-Run.xml',\n",
       "                                               'directory': 'lisflood_fraser',\n",
       "                                               'doi': 'N/A',\n",
       "                                               'supported_model_versions': {'20.10'},\n",
       "                                               'target_model': 'lisflood'},\n",
       "                           'lisflood_global-masked_01degree': {'config': 'lisflood_global-masked_01degree/settings_lisflood_ERA5.xml',\n",
       "                                                               'directory': 'lisflood_global-masked_01degree',\n",
       "                                                               'supported_model_versions': {'20.10'},\n",
       "                                                               'target_model': 'lisflood'},\n",
       "                           'pcrglobwb_merrimack_05min': {'config': 'pcrglobwb_global/merrimack_05min_era5.ini',\n",
       "                                                         'directory': 'pcrglobwb_global',\n",
       "                                                         'doi': 'https://doi.org/10.5281/zenodo.1045339',\n",
       "                                                         'supported_model_versions': {'setters'},\n",
       "                                                         'target_model': 'pcrglobwb'},\n",
       "                           'pcrglobwb_rhine_05min': {'config': 'pcrglobwb_global/rhine_05min_era5.ini',\n",
       "                                                     'directory': 'pcrglobwb_global',\n",
       "                                                     'doi': 'https://doi.org/10.5281/zenodo.1045339',\n",
       "                                                     'supported_model_versions': {'setters'},\n",
       "                                                     'target_model': 'pcrglobwb'},\n",
       "                           'pcrglobwb_rhinemeuse_30min': {'config': 'pcrglobwb_rhinemeuse_30min/setup_natural_test.ini',\n",
       "                                                          'directory': 'pcrglobwb_rhinemeuse_30min',\n",
       "                                                          'doi': 'https://doi.org/10.5281/zenodo.1045339',\n",
       "                                                          'supported_model_versions': {'setters'},\n",
       "                                                          'target_model': 'pcrglobwb'},\n",
       "                           'wflow_Doring_ERA5-calibrated': {'config': 'wflow_Doring_ERA5-calibrated/wflow_sbm_era5.ini',\n",
       "                                                            'directory': 'wflow_Doring_ERA5-calibrated',\n",
       "                                                            'supported_model_versions': {'2020.1.1',\n",
       "                                                                                         '2020.1.2'},\n",
       "                                                            'target_model': 'wflow'},\n",
       "                           'wflow_Great-Kei_ERA5-calibrated': {'config': 'wflow_Great-Kei_ERA5-calibrated/wflow_sbm_era5.ini',\n",
       "                                                               'directory': 'wflow_Great-Kei_ERA5-calibrated',\n",
       "                                                               'supported_model_versions': {'2020.1.1',\n",
       "                                                                                            '2020.1.2'},\n",
       "                                                               'target_model': 'wflow'},\n",
       "                           'wflow_Great-Kei_ERA_Interim-calibrated': {'config': 'wflow_Great-Kei_ERA_Interim-calibrated/wflow_sbm_era-interim.ini',\n",
       "                                                                      'directory': 'wflow_Great-Kei_ERA_Interim-calibrated',\n",
       "                                                                      'supported_model_versions': {'2020.1.1',\n",
       "                                                                                                   '2020.1.2'},\n",
       "                                                                      'target_model': 'wflow'},\n",
       "                           'wflow_Merrimack_ERA5-calibrated': {'config': 'wflow_Merrimack_ERA5-calibrated/wflow_sbm_era5.ini',\n",
       "                                                               'directory': 'wflow_Merrimack_ERA5-calibrated',\n",
       "                                                               'supported_model_versions': {'2020.1.1',\n",
       "                                                                                            '2020.1.2'},\n",
       "                                                               'target_model': 'wflow'},\n",
       "                           'wflow_Merrimack_ERA_Interim-calibrated': {'config': 'wflow_Merrimack_ERA_Interim-calibrated/wflow_sbm_era-interim.ini',\n",
       "                                                                      'directory': 'wflow_Merrimack_ERA_Interim-calibrated',\n",
       "                                                                      'supported_model_versions': {'2020.1.1',\n",
       "                                                                                                   '2020.1.2'},\n",
       "                                                                      'target_model': 'wflow'},\n",
       "                           'wflow_Meuse_ERA5-calibrated': {'config': 'wflow_Meuse_ERA5-calibrated/wflow_sbm_era5.ini',\n",
       "                                                           'directory': 'wflow_Meuse_ERA5-calibrated',\n",
       "                                                           'supported_model_versions': {'2020.1.1',\n",
       "                                                                                        '2020.1.2'},\n",
       "                                                           'target_model': 'wflow'},\n",
       "                           'wflow_Meuse_ERA_Interim-calibrated': {'config': 'wflow_Meuse_ERA_Interim-calibrated/wflow_sbm_era-interim.ini',\n",
       "                                                                  'directory': 'wflow_Meuse_ERA_Interim-calibrated',\n",
       "                                                                  'supported_model_versions': {'2020.1.1',\n",
       "                                                                                               '2020.1.2'},\n",
       "                                                                  'target_model': 'wflow'},\n",
       "                           'wflow_Rhine_ERA5-calibrated': {'config': 'wflow_Rhine_ERA5-calibrated/wflow_sbm_era5.ini',\n",
       "                                                           'directory': 'wflow_Rhine_ERA5-calibrated',\n",
       "                                                           'supported_model_versions': {'2020.1.1',\n",
       "                                                                                        '2020.1.2'},\n",
       "                                                           'target_model': 'wflow'},\n",
       "                           'wflow_Savannah_ERA-Interim-calibrated': {'config': 'wflow_Savannah_ERA-Interim-calibrated/wflow_sbm_era-interim.ini',\n",
       "                                                                     'directory': 'wflow_Savannah_ERA-Interim-calibrated',\n",
       "                                                                     'supported_model_versions': {'2020.1.1',\n",
       "                                                                                                  '2020.1.2'},\n",
       "                                                                     'target_model': 'wflow'},\n",
       "                           'wflow_merrimack_techpaper': {'config': 'wflow_merrimack_techpaper/wflow_sbm_era5_test.ini',\n",
       "                                                         'directory': 'wflow_merrimack_techpaper',\n",
       "                                                         'supported_model_versions': {'2020.1.1',\n",
       "                                                                                      '2020.1.2'},\n",
       "                                                         'target_model': 'wflow'},\n",
       "                           'wflow_rhine_ERA_Interim-calibrated': {'config': 'wflow_rhine_ERA_Interim-calibrated/wflow_sbm_era-interim.ini',\n",
       "                                                                  'directory': 'wflow_rhine_ERA_Interim-calibrated',\n",
       "                                                                  'supported_model_versions': {'2020.1.1',\n",
       "                                                                                               '2020.1.2'},\n",
       "                                                                  'target_model': 'wflow'},\n",
       "                           'wflow_rhine_sbm_nc': {'config': 'wflow_rhine_sbm_nc/wflow_sbm_NC.ini',\n",
       "                                                  'directory': 'wflow_rhine_sbm_nc',\n",
       "                                                  'doi': 'N/A',\n",
       "                                                  'supported_model_versions': {'2020.1.1',\n",
       "                                                                               '2020.1.2'},\n",
       "                                                  'target_model': 'wflow'}},\n",
       "        'parameterset_dir': PosixPath('/projects/0/wtrcycle/parameter-sets'),\n",
       "        'apptainer_dir': PosixPath('/projects/0/wtrcycle/apptainer-images')})"
      ]
     },
     "execution_count": 2,
     "metadata": {},
     "output_type": "execute_result"
    }
   ],
   "source": [
    "from ewatercycle import CFG\n",
    "\n",
    "CFG"
   ]
  },
  {
   "cell_type": "markdown",
   "id": "7810ec41",
   "metadata": {},
   "source": [
    "Note: a path on the local filesystem is always denoted as \"dir\" (short for directory), instead of folder, path, or location. Especially location can be confusing in the context of geospatial modeling.\n",
    "\n",
    "It is also possible to store and load custom configuration files. For more information, see [system setup](https://ewatercycle.readthedocs.io/en/latest/system_setup.html#configure-ewatercycle)"
   ]
  },
  {
   "cell_type": "markdown",
   "id": "aa960d4b",
   "metadata": {},
   "source": [
    "## Parameter sets\n",
    "\n",
    "Parameter sets are an essential part of many hydrological models, and for the eWaterCycle package as well."
   ]
  },
  {
   "cell_type": "code",
   "execution_count": 3,
   "id": "c46c9fc4",
   "metadata": {},
   "outputs": [],
   "source": [
    "import ewatercycle.parameter_sets"
   ]
  },
  {
   "cell_type": "markdown",
   "id": "00129d25",
   "metadata": {},
   "source": [
    "The default [system setup](https://ewatercycle.readthedocs.io/en/latest/system_setup.html#download-example-parameter-sets) includes a number of example parameter sets that can be used directly. System administrators can also add available parameter sets that are globally availble to all users. In the future, we're hoping to add functionality to fetch new parameter sets using a DOI as well.\n",
    "\n",
    "To see the available parameter sets:"
   ]
  },
  {
   "cell_type": "code",
   "execution_count": 4,
   "id": "b1ee9e54",
   "metadata": {},
   "outputs": [
    {
     "data": {
      "text/plain": [
       "('lisflood_fraser',\n",
       " 'pcrglobwb_rhinemeuse_30min',\n",
       " 'wflow_rhine_sbm_nc',\n",
       " 'wflow_Rhine_ERA5-calibrated',\n",
       " 'wflow_Great-Kei_ERA5-calibrated',\n",
       " 'wflow_Doring_ERA5-calibrated',\n",
       " 'wflow_Merrimack_ERA5-calibrated',\n",
       " 'wflow_Meuse_ERA5-calibrated',\n",
       " 'wflow_Savannah_ERA-Interim-calibrated',\n",
       " 'lisflood_global-masked_01degree',\n",
       " 'pcrglobwb_merrimack_05min',\n",
       " 'pcrglobwb_rhine_05min',\n",
       " 'wflow_merrimack_techpaper')"
      ]
     },
     "execution_count": 4,
     "metadata": {},
     "output_type": "execute_result"
    }
   ],
   "source": [
    "ewatercycle.parameter_sets.available_parameter_sets()"
   ]
  },
  {
   "cell_type": "markdown",
   "id": "e3d9a094",
   "metadata": {},
   "source": [
    "Since most parameter sets are model specific, you can filter the results as well:"
   ]
  },
  {
   "cell_type": "code",
   "execution_count": 5,
   "id": "c089709e",
   "metadata": {},
   "outputs": [
    {
     "data": {
      "text/plain": [
       "('wflow_rhine_sbm_nc',\n",
       " 'wflow_Rhine_ERA5-calibrated',\n",
       " 'wflow_Great-Kei_ERA5-calibrated',\n",
       " 'wflow_Doring_ERA5-calibrated',\n",
       " 'wflow_Merrimack_ERA5-calibrated',\n",
       " 'wflow_Meuse_ERA5-calibrated',\n",
       " 'wflow_Savannah_ERA-Interim-calibrated',\n",
       " 'wflow_merrimack_techpaper')"
      ]
     },
     "execution_count": 5,
     "metadata": {},
     "output_type": "execute_result"
    }
   ],
   "source": [
    "ewatercycle.parameter_sets.available_parameter_sets(target_model=\"wflow\")"
   ]
  },
  {
   "cell_type": "markdown",
   "id": "1508a346",
   "metadata": {},
   "source": [
    "Once you have found a suitable parameter set, you can load it and see some more details:"
   ]
  },
  {
   "cell_type": "code",
   "execution_count": 6,
   "id": "cfb3109e",
   "metadata": {},
   "outputs": [
    {
     "name": "stdout",
     "output_type": "stream",
     "text": [
      "Parameter set\n",
      "-------------\n",
      "name=wflow_rhine_sbm_nc\n",
      "directory=/gpfs/work1/0/wtrcycle/parameter-sets/wflow_rhine_sbm_nc\n",
      "config=/gpfs/work1/0/wtrcycle/parameter-sets/wflow_rhine_sbm_nc/wflow_sbm_NC.ini\n",
      "doi=N/A\n",
      "target_model=wflow\n",
      "supported_model_versions={'2020.1.1', '2020.1.2'}\n"
     ]
    }
   ],
   "source": [
    "parameter_set = ewatercycle.parameter_sets.get_parameter_set(\"wflow_rhine_sbm_nc\")\n",
    "print(parameter_set)"
   ]
  },
  {
   "cell_type": "markdown",
   "id": "71afc038",
   "metadata": {},
   "source": [
    "or you can access individual attributes of the parameter sets"
   ]
  },
  {
   "cell_type": "code",
   "execution_count": 7,
   "id": "fcae4d5d",
   "metadata": {},
   "outputs": [
    {
     "data": {
      "text/plain": [
       "{'2020.1.1', '2020.1.2'}"
      ]
     },
     "execution_count": 7,
     "metadata": {},
     "output_type": "execute_result"
    }
   ],
   "source": [
    "parameter_set.supported_model_versions"
   ]
  },
  {
   "cell_type": "markdown",
   "id": "5089109b",
   "metadata": {},
   "source": [
    "Should you wish to configure your own parameter set (e.g. for PCRGlobWB in this case), this is also possible:"
   ]
  },
  {
   "cell_type": "code",
   "execution_count": 8,
   "id": "7843755c",
   "metadata": {},
   "outputs": [],
   "source": [
    "custom_parameter_set = ewatercycle.parameter_sets.ParameterSet(\n",
    "    name=\"custom_parameter_set\",\n",
    "    directory=\"~/ewatercycle/docs/examples/parameter-sets/pcrglobwb_rhinemeuse_30min\",\n",
    "    config=\"~/ewatercycle/docs/examples/parameter-sets/pcrglobwb_rhinemeuse_30min/setup_natural_test.ini\",\n",
    "    target_model=\"pcrglobwb\",\n",
    "    doi=\"https://doi.org/10.5281/zenodo.1045339\",\n",
    "    supported_model_versions={\"setters\"},\n",
    ")"
   ]
  },
  {
   "cell_type": "markdown",
   "id": "5d7ea27e",
   "metadata": {},
   "source": [
    "<div class=\"alert alert-info\">\n",
    "\n",
    "As you can see, an eWaterCycle parameter set is defined fully by a directory and a configuration file. The configuration file typically informs the model about the structure of the parameter set (e.g. \"what is the filename of the land use data\"). It is possible to change these settings later, when [setting up the model](#Models).\n",
    "\n",
    "</div>"
   ]
  },
  {
   "cell_type": "markdown",
   "id": "4130c284",
   "metadata": {},
   "source": [
    "## Forcing data\n",
    "\n",
    "eWaterCycle can load or generate forcing data for a model using the `forcing` module. "
   ]
  },
  {
   "cell_type": "code",
   "execution_count": 8,
   "id": "6b7a256d",
   "metadata": {},
   "outputs": [],
   "source": [
    "import ewatercycle.forcing"
   ]
  },
  {
   "cell_type": "markdown",
   "id": "702067fe",
   "metadata": {},
   "source": [
    "### Existing forcing from external source\n",
    "\n",
    "We first show how existing forcing data can be loaded with eWaterCycle. The wflow example parameter set already includes forcing data that was generated manually by the scientists at Deltares."
   ]
  },
  {
   "cell_type": "code",
   "execution_count": 9,
   "id": "63d34733",
   "metadata": {},
   "outputs": [
    {
     "name": "stdout",
     "output_type": "stream",
     "text": [
      "Forcing data for Wflow\n",
      "----------------------\n",
      "Directory: /gpfs/work1/0/wtrcycle/parameter-sets/wflow_rhine_sbm_nc\n",
      "Start time: 1991-01-01T00:00:00Z\n",
      "End time: 1991-12-31T00:00:00Z\n",
      "Shapefile: None\n",
      "Additional information for model config:\n",
      "  - netcdfinput: inmaps.nc\n",
      "  - Precipitation: /P\n",
      "  - Temperature: /TEMP\n",
      "  - EvapoTranspiration: /PET\n",
      "  - Inflow: None\n"
     ]
    }
   ],
   "source": [
    "forcing = ewatercycle.forcing.load_foreign(\n",
    "    directory=str(parameter_set.directory),\n",
    "    target_model=\"wflow\",\n",
    "    start_time=\"1991-01-01T00:00:00Z\",\n",
    "    end_time=\"1991-12-31T00:00:00Z\",\n",
    "    shape=None,\n",
    "    forcing_info=dict(\n",
    "        # Additional information about the external forcing data needed for the model configuration\n",
    "        netcdfinput=\"inmaps.nc\",\n",
    "        Precipitation=\"/P\",\n",
    "        EvapoTranspiration=\"/PET\",\n",
    "        Temperature=\"/TEMP\",\n",
    "    ),\n",
    ")\n",
    "print(forcing)"
   ]
  },
  {
   "cell_type": "markdown",
   "id": "01d2b977",
   "metadata": {},
   "source": [
    "As you can see, the forcing consists of a generic part which is the same for all eWaterCycle models, and a model-specific part (`forcing_info`). If you're familiar with wflow, you might recognize that the model-specific settings map directly to wflow configuration settings. "
   ]
  },
  {
   "cell_type": "markdown",
   "id": "00fe9118",
   "metadata": {},
   "source": [
    "### Generating forcing data\n",
    "\n",
    "In most cases, you will not have access to tailor-made forcing data, and manually pre-processing existing datasets can be quite a pain. eWaterCycle includes a forcing generator that can do all the required steps to go from the available datasets (ERA5, ERA-Interim, etc) to whatever format the models require. This is done through [ESMValTool recipes](https://docs.esmvaltool.org/en/latest/recipes/recipe_hydrology.html). For some models (e.g. lisflood) additional computations are done, as some steps require data and/or code that is not available to ESMValTool.\n",
    "\n",
    "Apart from some standard parameters (start time, datasets, etc.), the forcing generator sometimes requires additional model-specific options. For our wflow example case, we need to pass the DEM file to the ESMValTool recipe as well. All model-specific options are listed in the [API documentation](https://ewatercycle.readthedocs.io/en/latest/apidocs/ewatercycle.forcing.html#ewatercycle.forcing.generate)."
   ]
  },
  {
   "cell_type": "markdown",
   "id": "c9d6d040",
   "metadata": {},
   "source": [
    "<div class=\"alert alert-info\">\n",
    "<p>Current limitations</p>\n",
    "    \n",
    "<p>eWaterCycle uses ESMValTool to generate forcing data. As the Python interface of ESMValTool is still under development, the options to modify ESMValTool settings from within eWaterCycle are still limited. Currently we support changing the most basic settings such as start time, end time, and region. We implemented support for ERA5 and ERA-Interim data.</p>\n",
    "\n",
    "<p>In principle, ESMValTool can work for a wide range of input datasets. Adding support for more datasets in eWaterCycle is on the horizon. If you have a use case and are willing to contribute, please don't hesitate to reach out to us, for example by <a href=\"https://github.com/eWaterCycle/ewatercycle/issues/new\" target=\"_blank\">opening an issue.</p>\n",
    "</div>\n",
    "\n"
   ]
  },
  {
   "cell_type": "code",
   "execution_count": 10,
   "id": "e0df94ca",
   "metadata": {
    "scrolled": true,
    "tags": []
   },
   "outputs": [
    {
     "name": "stdout",
     "output_type": "stream",
     "text": [
      "{'auxiliary_data_dir': PosixPath('/projects/0/wtrcycle/comparison/recipes_auxiliary_datasets'),\n",
      " 'compress_netcdf': False,\n",
      " 'config_developer_file': None,\n",
      " 'config_file': PosixPath('/home/fakhereh/.esmvaltool/config-user.yml'),\n",
      " 'drs': {'CMIP5': 'default', 'CMIP6': 'default'},\n",
      " 'exit_on_warning': False,\n",
      " 'extra_facets_dir': (),\n",
      " 'log_level': 'info',\n",
      " 'max_parallel_tasks': 1,\n",
      " 'output_dir': PosixPath('/scratch-shared/ewatercycle/recipe_wflow_20211129_150429'),\n",
      " 'output_file_type': 'png',\n",
      " 'plot_dir': PosixPath('/scratch-shared/ewatercycle/recipe_wflow_20211129_150429/plots'),\n",
      " 'preproc_dir': PosixPath('/scratch-shared/ewatercycle/recipe_wflow_20211129_150429/preproc'),\n",
      " 'profile_diagnostic': False,\n",
      " 'remove_preproc_dir': True,\n",
      " 'rootpath': {'CMIP5': [PosixPath('/home/fakhereh/cmip5_inputpath1'),\n",
      "                        PosixPath('/home/fakhereh/cmip5_inputpath2')],\n",
      "              'CMIP6': [PosixPath('/home/fakhereh/cmip6_inputpath1'),\n",
      "                        PosixPath('/home/fakhereh/cmip6_inputpath2')],\n",
      "              'OBS6': [PosixPath('/projects/0/wtrcycle/comparison/obs6')],\n",
      "              'RAWOBS': [PosixPath('/projects/0/wtrcycle/comparison/rawobs')],\n",
      "              'default': [PosixPath('/projects/0/wtrcycle/comparison')]},\n",
      " 'run_dir': PosixPath('/scratch-shared/ewatercycle/recipe_wflow_20211129_150429/run'),\n",
      " 'save_intermediary_cubes': False,\n",
      " 'work_dir': PosixPath('/scratch-shared/ewatercycle/recipe_wflow_20211129_150429/work'),\n",
      " 'write_netcdf': True,\n",
      " 'write_plots': True}\n",
      "Shapefile /gpfs/home2/fakhereh/GitHub/ewatercycle/docs/examples/data/Rhine/Rhine.shp is not in forcing directory /gpfs/scratch1/shared/ewatercycle/recipe_wflow_20211129_150429/work/wflow_daily/script. So, it won't be saved in /gpfs/scratch1/shared/ewatercycle/recipe_wflow_20211129_150429/work/wflow_daily/script/ewatercycle_forcing.yaml.\n",
      "Forcing data for Wflow\n",
      "----------------------\n",
      "Directory: /gpfs/scratch1/shared/ewatercycle/recipe_wflow_20211129_150429/work/wflow_daily/script\n",
      "Start time: 1990-01-01T00:00:00Z\n",
      "End time: 1990-01-31T00:00:00Z\n",
      "Shapefile: /gpfs/home2/fakhereh/GitHub/ewatercycle/docs/examples/data/Rhine/Rhine.shp\n",
      "Additional information for model config:\n",
      "  - netcdfinput: wflow_ERA5_Rhine_1990_1990.nc\n",
      "  - Precipitation: /pr\n",
      "  - Temperature: /tas\n",
      "  - EvapoTranspiration: /pet\n",
      "  - Inflow: None\n"
     ]
    }
   ],
   "source": [
    "forcing = ewatercycle.forcing.generate(\n",
    "    target_model=\"wflow\",\n",
    "    dataset=\"ERA5\",\n",
    "    start_time=\"1990-01-01T00:00:00Z\",\n",
    "    end_time=\"1990-01-31T00:00:00Z\",\n",
    "    shape=\"~/GitHub/ewatercycle/docs/examples/data/Rhine/Rhine.shp\",\n",
    "    model_specific_options={\n",
    "        \"dem_file\": f\"{parameter_set.directory}/staticmaps/wflow_dem.map\",\n",
    "    },\n",
    ")\n",
    "print(forcing)"
   ]
  },
  {
   "cell_type": "markdown",
   "id": "d01120c6",
   "metadata": {},
   "source": [
    "Generated forcing is automatically saved to the ESMValTool output directory. A `yaml` file is stored there as well, such that you can easily reload the forcing later without having to generate it again."
   ]
  },
  {
   "cell_type": "markdown",
   "id": "2e0f0c27",
   "metadata": {
    "tags": []
   },
   "source": [
    "`ewatercycle_forcing.yaml`:\n",
    "\n",
    "```yaml\n",
    "!WflowForcing\n",
    "start_time: '1990-01-01T00:00:00Z'\n",
    "end_time: '1990-12-31T00:00:00Z'\n",
    "shape:\n",
    "netcdfinput: wflow_ERA5_Rhine_1990_1990.nc\n",
    "Precipitation: /pr\n",
    "EvapoTranspiration: /pet\n",
    "Temperature: /tas\n",
    "Inflow:\n",
    "```"
   ]
  },
  {
   "cell_type": "code",
   "execution_count": 11,
   "id": "9a47804f",
   "metadata": {
    "tags": []
   },
   "outputs": [],
   "source": [
    "reloaded_forcing = ewatercycle.forcing.load(\n",
    "    directory=\"/scratch-shared/ewatercycle/recipe_wflow_20211129_103921/work/wflow_daily/script\"\n",
    ")"
   ]
  },
  {
   "cell_type": "markdown",
   "id": "106d4a56",
   "metadata": {},
   "source": [
    "## Models"
   ]
  },
  {
   "cell_type": "code",
   "execution_count": 12,
   "id": "cb1ac94b",
   "metadata": {},
   "outputs": [],
   "source": [
    "import ewatercycle.models"
   ]
  },
  {
   "cell_type": "markdown",
   "id": "ef669930",
   "metadata": {
    "tags": []
   },
   "source": [
    "eWaterCycle currently integrates the following models:\n",
    "\n",
    "* [wflow](https://ewatercycle.readthedocs.io/en/latest/examples/wflow.html)\n",
    "* [pcrglobwb](https://ewatercycle.readthedocs.io/en/latest/examples/pcrglobwb.html)\n",
    "* [marrmot M01](https://ewatercycle.readthedocs.io/en/latest/examples/marrmotm01.html)\n",
    "* [marrmot M14](https://ewatercycle.readthedocs.io/en/latest/examples/marrmotm14.html)\n",
    "* [lisflood](https://ewatercycle.readthedocs.io/en/latest/examples/lisflood.html)\n",
    "\n",
    "and we're expecting to add more models soon. The process for adding new models is documented in [Adding models](https://ewatercycle.readthedocs.io/en/latest/adding_models.html)\n",
    "\n",
    "### Model versions\n",
    "To help with reproducibility the version of a model must always be specified when creating a model instance. The available versions can be seen like so:"
   ]
  },
  {
   "cell_type": "code",
   "execution_count": 13,
   "id": "c508229f",
   "metadata": {
    "tags": []
   },
   "outputs": [
    {
     "data": {
      "text/plain": [
       "('2020.1.1', '2020.1.2')"
      ]
     },
     "execution_count": 13,
     "metadata": {},
     "output_type": "execute_result"
    }
   ],
   "source": [
    "import ewatercycle.models\n",
    "\n",
    "ewatercycle.models.Wflow.available_versions"
   ]
  },
  {
   "cell_type": "markdown",
   "id": "04d51cee",
   "metadata": {},
   "source": [
    "### Creating, setting up, and initializing a model instance\n",
    "\n",
    "The way models are created, setup, and initialized matches [PyMT](https://pymt.readthedocs.io/en/latest/quickstart.html#run-a-model) as much as possible.\n",
    "There are three steps:\n",
    "\n",
    "- instantiate (create a python object that represents the model)\n",
    "- setup (create a container with the right model, directories, and configuration files)\n",
    "- initialize (start the model inside the container)\n",
    "\n",
    "To a new user, these steps can be confusing as they seem to be related to \"starting a model\". However, you will see that there are some useful things that we can do in between each of these steps. As a side effect, splitting these steps also makes it easier to run a lot of models in parallel (e.g. for calibration). Experience tells us that you will quickly get used to it. \n",
    "\n",
    "When a model instance is created, we have to specify the version and pass in a suitable parameter set and forcing. "
   ]
  },
  {
   "cell_type": "code",
   "execution_count": 14,
   "id": "68325e78",
   "metadata": {},
   "outputs": [
    {
     "name": "stdout",
     "output_type": "stream",
     "text": [
      "Config file from parameter set is missing API section, adding section\n",
      "Config file from parameter set is missing RiverRunoff option in API section, added it with value '2, m/s option'\n"
     ]
    }
   ],
   "source": [
    "model_instance = ewatercycle.models.Wflow(\n",
    "    version=\"2020.1.2\", parameter_set=parameter_set, forcing=forcing\n",
    ")"
   ]
  },
  {
   "cell_type": "markdown",
   "id": "5392967b",
   "metadata": {},
   "source": [
    "In some specific cases the parameter set (e.g. for marrmot) or the forcing (e.g. when it is already included in the parameter set) is not needed.\n",
    "\n",
    "Most models have a variety of parameters that can be set. An opiniated subset of these parameters is exposed through the eWaterCycle API. We focus on those settings that are relevant from a scientific point of view and prefer to hide technical settings. These parameters and their default values can be inspected as follows:"
   ]
  },
  {
   "cell_type": "code",
   "execution_count": 15,
   "id": "45b31a03",
   "metadata": {},
   "outputs": [
    {
     "data": {
      "text/plain": [
       "[('start_time', '1990-01-01T00:00:00Z'), ('end_time', '1990-01-31T00:00:00Z')]"
      ]
     },
     "execution_count": 15,
     "metadata": {},
     "output_type": "execute_result"
    }
   ],
   "source": [
    "model_instance.parameters"
   ]
  },
  {
   "cell_type": "markdown",
   "id": "283d23db",
   "metadata": {},
   "source": [
    "The start date and end date are automatically set based on the forcing data. \n",
    "\n",
    "Alternative values for each of these parameters can be passed on to the setup function:"
   ]
  },
  {
   "cell_type": "code",
   "execution_count": 16,
   "id": "d0d20ed8",
   "metadata": {},
   "outputs": [
    {
     "name": "stdout",
     "output_type": "stream",
     "text": [
      "Running /projects/0/wtrcycle/apptainer-images/ewatercycle-wflow-grpc4bmi_2020.1.2.sif apptainer container on port 35805\n"
     ]
    }
   ],
   "source": [
    "cfg_file, cfg_dir = model_instance.setup(end_time=\"1990-12-15T00:00:00Z\")"
   ]
  },
  {
   "cell_type": "markdown",
   "id": "55358151",
   "metadata": {},
   "source": [
    "The `setup` function does the following:\n",
    "\n",
    "- Create a config directory which serves as the current working directory for the mode instance\n",
    "- Creates a configuration file in this directory based on the settings\n",
    "- Starts a container with the requested model version and access to the forcing and parameter sets.\n",
    "- Input is mounted read-only, the working directory is mounted read-write (if a model cannot cope with inputs outside the working directory, the input will be copied).\n",
    "- Setup will complain about incompatible model version, parameter_set, and forcing.\n",
    "\n",
    "After `setup` but before `initialize` everything is good-to-go, but nothing has been done yet. This is\n",
    "an opportunity to inspect the generated configuration file, and make any changes manually that could not be\n",
    "done through the setup method. \n",
    "\n",
    "To modify the config file: print the path, open it in an editor, and save:"
   ]
  },
  {
   "cell_type": "code",
   "execution_count": 17,
   "id": "84115f07-1e56-4316-8033-8afdb062a074",
   "metadata": {},
   "outputs": [
    {
     "data": {
      "text/plain": [
       "PosixPath('/gpfs/scratch1/shared/ewatercycle/wflow_20211129_150535')"
      ]
     },
     "execution_count": 17,
     "metadata": {},
     "output_type": "execute_result"
    }
   ],
   "source": [
    "model_instance.work_dir"
   ]
  },
  {
   "cell_type": "code",
   "execution_count": 18,
   "id": "c1103c60-acfd-4d85-a963-1dfda63dff05",
   "metadata": {},
   "outputs": [
    {
     "name": "stdout",
     "output_type": "stream",
     "text": [
      "/gpfs/scratch1/shared/ewatercycle/wflow_20211129_150535/wflow_ewatercycle.ini\n"
     ]
    }
   ],
   "source": [
    "print(cfg_file)"
   ]
  },
  {
   "cell_type": "markdown",
   "id": "17fce55e",
   "metadata": {},
   "source": [
    "Once you're happy with the setup, it is time to initialize the model. You'll have to pass in the config file, even if you've not made any changes:"
   ]
  },
  {
   "cell_type": "code",
   "execution_count": 19,
   "id": "37029f39",
   "metadata": {},
   "outputs": [],
   "source": [
    "model_instance.initialize(cfg_file)  # for some models, this step can take some time"
   ]
  },
  {
   "cell_type": "markdown",
   "id": "57092c12",
   "metadata": {},
   "source": [
    "### Running (and interacting with) a model\n",
    "\n",
    "A model instance can be controlled by calling functions for running a single timestep (`update`), setting variables, and getting variables. Besides the rather lowlevel BMI functions like `get_value` and `set_value`, we also added convenience functions such as `get_value_as_xarray`, `get_value_at_coords`, `time_as_datetime`, and `time_as_isostr`. These make it even more pleasant to interact with the model.\n",
    "\n",
    "For example, to run our model instance from start to finish, fetching the value of variable `discharge` at the location of a grdc station:"
   ]
  },
  {
   "cell_type": "code",
   "execution_count": 20,
   "id": "e04303a6",
   "metadata": {},
   "outputs": [],
   "source": [
    "grdc_latitude = 51.756918\n",
    "grdc_longitude = 6.395395"
   ]
  },
  {
   "cell_type": "code",
   "execution_count": 21,
   "id": "9af1524b",
   "metadata": {},
   "outputs": [
    {
     "name": "stdout",
     "output_type": "stream",
     "text": [
      "1990-12-15T00:00:00Z\r"
     ]
    }
   ],
   "source": [
    "output = []\n",
    "while model_instance.time < model_instance.end_time:\n",
    "    model_instance.update()\n",
    "\n",
    "    discharge = model_instance.get_value_at_coords(\n",
    "        \"RiverRunoff\", lon=[grdc_longitude], lat=[grdc_latitude]\n",
    "    )[0]\n",
    "    output.append(discharge)\n",
    "\n",
    "    # Here you could do whatever you like, e.g. update soil moisture values before doing the next timestep.\n",
    "\n",
    "    print(\n",
    "        model_instance.time_as_isostr, end=\"\\r\"\n",
    "    )  # \"\\r\" clears the output before printing the next timestamp"
   ]
  },
  {
   "cell_type": "markdown",
   "id": "c6f9d8a4",
   "metadata": {},
   "source": [
    "We can also get the entire model field at a single time step. To simply plot it:"
   ]
  },
  {
   "cell_type": "code",
   "execution_count": 22,
   "id": "16ad7cc7",
   "metadata": {},
   "outputs": [
    {
     "data": {
      "text/plain": [
       "<matplotlib.collections.QuadMesh at 0x1460a949f100>"
      ]
     },
     "execution_count": 22,
     "metadata": {},
     "output_type": "execute_result"
    },
    {
     "data": {
      "image/png": "[encoded data removed]",
      "text/plain": [
       "<Figure size 432x288 with 2 Axes>"
      ]
     },
     "metadata": {
      "needs_background": "light"
     },
     "output_type": "display_data"
    }
   ],
   "source": [
    "model_instance.get_value_as_xarray(\"RiverRunoff\").plot()"
   ]
  },
  {
   "cell_type": "markdown",
   "id": "d9fa82ab",
   "metadata": {},
   "source": [
    "If you want to know which variables are available, you can use"
   ]
  },
  {
   "cell_type": "code",
   "execution_count": 23,
   "id": "ff7774d6",
   "metadata": {},
   "outputs": [
    {
     "data": {
      "text/plain": [
       "('RiverRunoff',)"
      ]
     },
     "execution_count": 23,
     "metadata": {},
     "output_type": "execute_result"
    }
   ],
   "source": [
    "model_instance.output_var_names"
   ]
  },
  {
   "cell_type": "markdown",
   "id": "3fd1e737",
   "metadata": {},
   "source": [
    "### Destroying the model\n",
    "\n",
    "A model instance running in a container can take up quite a bit of resources on the system. When you're done with an experiment, it is good practice to always finalize the model. This will make sure the model properly performs any tear-down tasks and eventually the container will be destroyed."
   ]
  },
  {
   "cell_type": "code",
   "execution_count": 24,
   "id": "7f3e4bfd",
   "metadata": {},
   "outputs": [],
   "source": [
    "model_instance.finalize()"
   ]
  },
  {
   "cell_type": "markdown",
   "id": "9a469cb6",
   "metadata": {},
   "source": [
    "## Observations\n",
    "\n",
    "eWaterCycle also includes utilities to easily load observations. Currently, eWaterCycle systems provide access to GRDC and USGS data, and we're hoping to expand this in the future."
   ]
  },
  {
   "cell_type": "code",
   "execution_count": 26,
   "id": "bf99f80b",
   "metadata": {},
   "outputs": [],
   "source": [
    "import ewatercycle.observation.grdc"
   ]
  },
  {
   "cell_type": "markdown",
   "id": "10c57fa1",
   "metadata": {},
   "source": [
    "To load GRDC station data:"
   ]
  },
  {
   "cell_type": "code",
   "execution_count": 27,
   "id": "4248236d",
   "metadata": {},
   "outputs": [
    {
     "name": "stdout",
     "output_type": "stream",
     "text": [
      "GRDC station 6335020 is selected. The river name is: RHINE RIVER.The coordinates are: (51.756918, 6.395395).The catchment area in km2 is: 159300.0. There are 0 missing values during 1990-01-01T00:00:00Z_1990-12-15T00:00:00Z at this station. See the metadata for more information.\n"
     ]
    },
    {
     "data": {
      "text/html": [
       "<div>\n",
       "<style scoped>\n",
       "    .dataframe tbody tr th:only-of-type {\n",
       "        vertical-align: middle;\n",
       "    }\n",
       "\n",
       "    .dataframe tbody tr th {\n",
       "        vertical-align: top;\n",
       "    }\n",
       "\n",
       "    .dataframe thead th {\n",
       "        text-align: right;\n",
       "    }\n",
       "</style>\n",
       "<table border=\"1\" class=\"dataframe\">\n",
       "  <thead>\n",
       "    <tr style=\"text-align: right;\">\n",
       "      <th></th>\n",
       "      <th>GRDC</th>\n",
       "    </tr>\n",
       "    <tr>\n",
       "      <th>time</th>\n",
       "      <th></th>\n",
       "    </tr>\n",
       "  </thead>\n",
       "  <tbody>\n",
       "    <tr>\n",
       "      <th>1990-01-01</th>\n",
       "      <td>2200.0</td>\n",
       "    </tr>\n",
       "    <tr>\n",
       "      <th>1990-01-02</th>\n",
       "      <td>1990.0</td>\n",
       "    </tr>\n",
       "    <tr>\n",
       "      <th>1990-01-03</th>\n",
       "      <td>1840.0</td>\n",
       "    </tr>\n",
       "    <tr>\n",
       "      <th>1990-01-04</th>\n",
       "      <td>1720.0</td>\n",
       "    </tr>\n",
       "    <tr>\n",
       "      <th>1990-01-05</th>\n",
       "      <td>1620.0</td>\n",
       "    </tr>\n",
       "  </tbody>\n",
       "</table>\n",
       "</div>"
      ],
      "text/plain": [
       "              GRDC\n",
       "time              \n",
       "1990-01-01  2200.0\n",
       "1990-01-02  1990.0\n",
       "1990-01-03  1840.0\n",
       "1990-01-04  1720.0\n",
       "1990-01-05  1620.0"
      ]
     },
     "execution_count": 27,
     "metadata": {},
     "output_type": "execute_result"
    }
   ],
   "source": [
    "grdc_station_id = \"6335020\"\n",
    "\n",
    "observations, metadata = ewatercycle.observation.grdc.get_grdc_data(\n",
    "    station_id=grdc_station_id,\n",
    "    start_time=\"1990-01-01T00:00:00Z\",  # or: model_instance.start_time_as_isostr\n",
    "    end_time=\"1990-12-15T00:00:00Z\",\n",
    "    column=\"GRDC\",\n",
    ")\n",
    "\n",
    "observations.head()"
   ]
  },
  {
   "cell_type": "markdown",
   "id": "1dc73521",
   "metadata": {},
   "source": [
    "Since not all GRDC stations are complete, some information is stored in metadata to inform you about the data."
   ]
  },
  {
   "cell_type": "code",
   "execution_count": 28,
   "id": "4191aade",
   "metadata": {},
   "outputs": [
    {
     "name": "stdout",
     "output_type": "stream",
     "text": [
      "{'grdc_file_name': '/gpfs/work1/0/wtrcycle/GRDC/GRDC_GCOSGTN-H_27_03_2019/6335020_Q_Day.Cmd.txt', 'id_from_grdc': 6335020, 'file_generation_date': '2019-03-27', 'river_name': 'RHINE RIVER', 'station_name': 'REES', 'country_code': 'DE', 'grdc_latitude_in_arc_degree': 51.756918, 'grdc_longitude_in_arc_degree': 6.395395, 'grdc_catchment_area_in_km2': 159300.0, 'altitude_masl': 8.0, 'dataSetContent': 'MEAN DAILY DISCHARGE (Q)', 'units': 'm³/s', 'time_series': '1814-11 - 2016-12', 'no_of_years': 203, 'last_update': '2018-05-24', 'nrMeasurements': 73841, 'UserStartTime': '1990-01-01T00:00:00Z', 'UserEndTime': '1990-12-15T00:00:00Z', 'nrMissingData': 0}\n"
     ]
    }
   ],
   "source": [
    "print(metadata)"
   ]
  },
  {
   "cell_type": "markdown",
   "id": "3ca0a60a",
   "metadata": {},
   "source": [
    "## Analysis\n",
    "\n",
    "To easily analyse model output, eWaterCycle also includes an `analysis` module."
   ]
  },
  {
   "cell_type": "code",
   "execution_count": 29,
   "id": "4a251261",
   "metadata": {},
   "outputs": [],
   "source": [
    "import ewatercycle.analysis"
   ]
  },
  {
   "cell_type": "markdown",
   "id": "2583f279",
   "metadata": {},
   "source": [
    "For example, we will plot a hydrograph of the model run and GRDC observations. To this end, we combine the two timeseries in a single dataframe"
   ]
  },
  {
   "cell_type": "code",
   "execution_count": 30,
   "id": "a0d0309b",
   "metadata": {},
   "outputs": [],
   "source": [
    "combined_discharge = observations\n",
    "combined_discharge[\"wflow\"] = output"
   ]
  },
  {
   "cell_type": "code",
   "execution_count": 31,
   "id": "96923a0d",
   "metadata": {},
   "outputs": [
    {
     "data": {
      "text/plain": [
       "(<Figure size 720x720 with 2 Axes>,\n",
       " (<AxesSubplot:title={'center':'Hydrograph'}, xlabel='time', ylabel='Discharge (m$^3$ s$^{-1}$)'>,\n",
       "  <AxesSubplot:>))"
      ]
     },
     "execution_count": 31,
     "metadata": {},
     "output_type": "execute_result"
    },
    {
     "data": {
      "image/png": "[encoded data removed]",
      "text/plain": [
       "<Figure size 720x720 with 2 Axes>"
      ]
     },
     "metadata": {
      "needs_background": "light"
     },
     "output_type": "display_data"
    }
   ],
   "source": [
    "ewatercycle.analysis.hydrograph(\n",
    "    discharge=combined_discharge,\n",
    "    reference=\"GRDC\",\n",
    ")"
   ]
  },
  {
   "cell_type": "code",
   "execution_count": null,
   "id": "ebfa4edc-7ec3-4318-9efa-bb90e1bebc3e",
   "metadata": {},
   "outputs": [],
   "source": []
  }
 ],
 "metadata": {
  "interpreter": {
   "hash": "4f63c3f017d58640bc2174e5f1b6c1610e3d96c1a3fe90d1d439f265cee739e3"
  },
  "kernelspec": {
   "display_name": "Python 3 (ipykernel)",
   "language": "python",
   "name": "python3"
  },
  "language_info": {
   "codemirror_mode": {
    "name": "ipython",
    "version": 3
   },
   "file_extension": ".py",
   "mimetype": "text/x-python",
   "name": "python",
   "nbconvert_exporter": "python",
   "pygments_lexer": "ipython3",
   "version": "3.8.12"
  }
 },
 "nbformat": 4,
 "nbformat_minor": 5
}
