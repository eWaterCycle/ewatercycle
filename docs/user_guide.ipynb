{
 "cells": [
  {
   "cell_type": "code",
   "execution_count": 1,
   "id": "2bb69703-59a9-47fe-a832-76e19147e80b",
   "metadata": {},
   "outputs": [],
   "source": [
    "# Suppress distracting outputs in this notebook\n",
    "import warnings\n",
    "warnings.filterwarnings(\"ignore\", category=UserWarning)\n",
    "import logging\n",
    "logging.basicConfig(level=logging.WARN)"
   ]
  },
  {
   "cell_type": "markdown",
   "id": "135115cc",
   "metadata": {},
   "source": [
    "![image](https://github.com/eWaterCycle/ewatercycle/raw/main/docs/examples/logo.png)\n",
    "\n",
    "# User guide\n",
    "\n",
    "This user manual will explain how the eWaterCycle Python package can be used to perform hydrological experiments. We will walk through the following chapters:\n",
    "\n",
    "- parameter sets\n",
    "- forcing data\n",
    "- model instances\n",
    "- using observations\n",
    "- analysis\n",
    "\n",
    "Each of these chapters correspond to a so-called \"subpackage\" of eWaterCycle Python package. Before we continue, however, we will briefly explain the configuration file."
   ]
  },
  {
   "cell_type": "markdown",
   "id": "001d69ad",
   "metadata": {},
   "source": [
    "**Configuration**\n",
    "\n",
    "To be able to find all needed data and models eWaterCycle comes with a configuration object. This configuration contains system settings for eWaterCycle (which container technology to use, where is the data located, etc). In general these should not need to be changed by the user for a specific experiment, and ideally a user would never need to touch this configuration on a properly managed system. However, it is good to know that it is there. \n",
    "\n",
    "You can see the default configuration on your system like so:"
   ]
  },
  {
   "cell_type": "code",
   "execution_count": 2,
   "id": "61e99042",
   "metadata": {},
   "outputs": [
    {
     "data": {
      "text/plain": [
       "Config({'container_engine': 'singularity',\n",
       "        'esmvaltool_config': None,\n",
       "        'ewatercycle_config': PosixPath('/home/peter/.config/ewatercycle/ewatercycle.yaml'),\n",
       "        'grdc_location': None,\n",
       "        'output_dir': PosixPath('/home/peter/ewatercycle/ewatercycle/docs/examples'),\n",
       "        'parameter_sets': {'lisflood_fraser': {'config': 'lisflood_fraser/settings_lat_lon-Run.xml',\n",
       "                                               'directory': 'lisflood_fraser',\n",
       "                                               'doi': 'N/A',\n",
       "                                               'supported_model_versions': {'20.10'},\n",
       "                                               'target_model': 'lisflood'},\n",
       "                           'pcrglobwb_rhinemeuse_30min': {'config': 'pcrglobwb_rhinemeuse_30min/setup_natural_test.ini',\n",
       "                                                          'directory': 'pcrglobwb_rhinemeuse_30min',\n",
       "                                                          'doi': 'https://doi.org/10.5281/zenodo.1045339',\n",
       "                                                          'supported_model_versions': {'setters'},\n",
       "                                                          'target_model': 'pcrglobwb'},\n",
       "                           'wflow_rhine_sbm_nc': {'config': 'wflow_rhine_sbm_nc/wflow_sbm_NC.ini',\n",
       "                                                  'directory': 'wflow_rhine_sbm_nc',\n",
       "                                                  'doi': 'N/A',\n",
       "                                                  'supported_model_versions': {'2020.1.1'},\n",
       "                                                  'target_model': 'wflow'}},\n",
       "        'parameterset_dir': PosixPath('/home/peter/ewatercycle/ewatercycle/docs/examples/parameter-sets'),\n",
       "        'singularity_dir': PosixPath('/home/peter/ewatercycle/ewatercycle')})"
      ]
     },
     "execution_count": 2,
     "metadata": {},
     "output_type": "execute_result"
    }
   ],
   "source": [
    "from ewatercycle import CFG\n",
    "CFG"
   ]
  },
  {
   "cell_type": "markdown",
   "id": "72593ff1",
   "metadata": {},
   "source": [
    "Note: a path on the local filesystem is always denoted as \"dir\" (short for directory), instead of folder, path, or location. Especially location can be confusing in the context of geospatial modeling.\n",
    "\n",
    "It is also possible to store and load custom configuration files. For more information, see [system setup](https://ewatercycle.readthedocs.io/en/latest/system_setup.html#configure-ewatercycle)"
   ]
  },
  {
   "cell_type": "markdown",
   "id": "e62b84f4",
   "metadata": {},
   "source": [
    "## Parameter sets\n",
    "\n",
    "Parameter sets are an essential part of many hydrological models, and for the eWaterCycle package as well."
   ]
  },
  {
   "cell_type": "code",
   "execution_count": 3,
   "id": "35153e8b",
   "metadata": {},
   "outputs": [],
   "source": [
    "import ewatercycle.parameter_sets"
   ]
  },
  {
   "cell_type": "markdown",
   "id": "ce991717-557f-4399-bae0-f61aab28f093",
   "metadata": {},
   "source": [
    "The default [system setup](https://ewatercycle.readthedocs.io/en/latest/system_setup.html#download-example-parameter-sets) includes a number of example parameter sets that can be used directly. System administrators can also add available parameter sets that are globally availble to all users. In the future, we're hoping to add functionality to fetch new parameter sets using a DOI as well.\n",
    "\n",
    "To see the available parameter sets:"
   ]
  },
  {
   "cell_type": "code",
   "execution_count": 4,
   "id": "20f2f6c8-9627-463c-aed3-769601b23932",
   "metadata": {},
   "outputs": [
    {
     "data": {
      "text/plain": [
       "('lisflood_fraser', 'pcrglobwb_rhinemeuse_30min', 'wflow_rhine_sbm_nc')"
      ]
     },
     "execution_count": 4,
     "metadata": {},
     "output_type": "execute_result"
    }
   ],
   "source": [
    "ewatercycle.parameter_sets.available_parameter_sets()"
   ]
  },
  {
   "cell_type": "markdown",
   "id": "4c80e312-8cb8-4092-9e2a-372f7c37d765",
   "metadata": {},
   "source": [
    "Since most parameter sets are model specific, you can filter the results as well:"
   ]
  },
  {
   "cell_type": "code",
   "execution_count": 5,
   "id": "509f8529",
   "metadata": {},
   "outputs": [
    {
     "data": {
      "text/plain": [
       "('wflow_rhine_sbm_nc',)"
      ]
     },
     "execution_count": 5,
     "metadata": {},
     "output_type": "execute_result"
    }
   ],
   "source": [
    "ewatercycle.parameter_sets.available_parameter_sets(target_model='wflow')"
   ]
  },
  {
   "cell_type": "markdown",
   "id": "7d61a59e-c18c-4ce8-8522-e841213be36e",
   "metadata": {},
   "source": [
    "Once you have found a suitable parameter set, you can load it and see some more details:"
   ]
  },
  {
   "cell_type": "code",
   "execution_count": 6,
   "id": "8cf5c944",
   "metadata": {},
   "outputs": [
    {
     "name": "stdout",
     "output_type": "stream",
     "text": [
      "Parameter set\n",
      "-------------\n",
      "name=wflow_rhine_sbm_nc\n",
      "directory=/home/peter/ewatercycle/ewatercycle/docs/examples/parameter-sets/wflow_rhine_sbm_nc\n",
      "config=/home/peter/ewatercycle/ewatercycle/docs/examples/parameter-sets/wflow_rhine_sbm_nc/wflow_sbm_NC.ini\n",
      "doi=N/A\n",
      "target_model=wflow\n",
      "supported_model_versions={'2020.1.1'}\n"
     ]
    }
   ],
   "source": [
    "parameters = ewatercycle.parameter_sets.get_parameter_set('wflow_rhine_sbm_nc')\n",
    "print(parameters)"
   ]
  },
  {
   "cell_type": "markdown",
   "id": "ade56ebf-48e3-490e-b650-90bb193b019d",
   "metadata": {},
   "source": [
    "or you can access individual attributes of the parameter sets"
   ]
  },
  {
   "cell_type": "code",
   "execution_count": 7,
   "id": "fd7a7614",
   "metadata": {},
   "outputs": [
    {
     "data": {
      "text/plain": [
       "{'2020.1.1'}"
      ]
     },
     "execution_count": 7,
     "metadata": {},
     "output_type": "execute_result"
    }
   ],
   "source": [
    "parameters.supported_model_versions"
   ]
  },
  {
   "cell_type": "markdown",
   "id": "7d142134-d398-41a2-bffb-5fe98a2319e4",
   "metadata": {},
   "source": [
    "Should you wish to configure your own parameter set (e.g. for PCRGlobWB in this case), this is also possible:"
   ]
  },
  {
   "cell_type": "code",
   "execution_count": 8,
   "id": "95038c96-4c92-458d-b1f0-11dc7a4efa10",
   "metadata": {},
   "outputs": [],
   "source": [
    "custom_parameter_set = ewatercycle.parameter_sets.ParameterSet(\n",
    "    name=\"custom_parameter_set\",\n",
    "    directory=\"/home/peter/ewatercycle/ewatercycle/docs/examples/parameter-sets/pcrglobwb_rhinemeuse_30min\",\n",
    "    config=\"/home/peter/ewatercycle/ewatercycle/docs/examples/parameter-sets/pcrglobwb_rhinemeuse_30min/setup_natural_test.ini\",\n",
    "    target_model=\"pcrglobwb\",\n",
    "    doi=\"https://doi.org/10.5281/zenodo.1045339\",\n",
    "    supported_model_versions={'setters'}\n",
    ")"
   ]
  },
  {
   "cell_type": "markdown",
   "id": "02900c20-a70b-4767-aafa-04a7ba3399fd",
   "metadata": {},
   "source": [
    "<div class=\"alert alert-info\">\n",
    "\n",
    "As you can see, an eWaterCycle parameter set is defined fully by a directory and a configuration file. The configuration file typically informs the model about the structure of the parameter set (e.g. \"what is the filename of the land use data\"). It is possible to change these settings later, when [setting up the model](#Models).\n",
    "\n",
    "</div>"
   ]
  },
  {
   "cell_type": "markdown",
   "id": "21c6834e",
   "metadata": {},
   "source": [
    "## Forcing data\n",
    "\n",
    "eWaterCycle can load or generate forcing data for a model using the `forcing` module. "
   ]
  },
  {
   "cell_type": "code",
   "execution_count": 9,
   "id": "2e034d13-e58c-4226-bd94-7924d3bbf155",
   "metadata": {},
   "outputs": [],
   "source": [
    "import ewatercycle.forcing"
   ]
  },
  {
   "cell_type": "markdown",
   "id": "716c024b",
   "metadata": {},
   "source": [
    "### Existing forcing from external source\n",
    "\n",
    "We first show how existing forcing data can be loaded with eWaterCycle. The wflow example parameter set already includes forcing data that was generated manually by the scientists at Deltares."
   ]
  },
  {
   "cell_type": "code",
   "execution_count": 10,
   "id": "0b7d0337",
   "metadata": {},
   "outputs": [
    {
     "name": "stdout",
     "output_type": "stream",
     "text": [
      "Forcing data for Wflow\n",
      "----------------------\n",
      "Directory: /home/peter/ewatercycle/ewatercycle/docs/examples/parameter-sets/wflow_rhine_sbm_nc\n",
      "Start time: 1991-01-01T00:00:00Z\n",
      "End time: 1991-12-31T00:00:00Z\n",
      "Shapefile: None\n",
      "Additional information for model config:\n",
      "  - netcdfinput: inmaps.nc\n",
      "  - Precipitation: /P\n",
      "  - Temperature: /TEMP\n",
      "  - EvapoTranspiration: /PET\n",
      "  - Inflow: None\n"
     ]
    }
   ],
   "source": [
    "forcing = ewatercycle.forcing.load_foreign(\n",
    "    directory = parameters.directory,\n",
    "    target_model = \"wflow\",\n",
    "    start_time = '1991-01-01T00:00:00Z',\n",
    "    end_time = '1991-12-31T00:00:00Z',\n",
    "    shape = None,\n",
    "    forcing_info = dict(\n",
    "        # Additional information about the external forcing data needed for the model configuration\n",
    "        netcdfinput = \"inmaps.nc\",\n",
    "        Precipitation = \"/P\",\n",
    "        EvapoTranspiration = \"/PET\",\n",
    "        Temperature = \"/TEMP\"\n",
    "    )\n",
    ")\n",
    "print(forcing)"
   ]
  },
  {
   "cell_type": "markdown",
   "id": "9907b973-a27a-4213-b15e-846fdb5905dc",
   "metadata": {},
   "source": [
    "As you can see, the forcing consists of a generic part which is the same for all eWaterCycle models, and a model-specific part (`forcing_info`). If you're familiar with wflow, you might recognize that the model-specific settings map directly to wflow configuration settings. "
   ]
  },
  {
   "cell_type": "markdown",
   "id": "172810f8-c598-427c-aa86-ea7d920c7e01",
   "metadata": {},
   "source": [
    "### Generating forcing data\n",
    "\n",
    "In most cases, you will not have access to tailor-made forcing data, and manually pre-processing existing datasets can be quite a pain. eWaterCycle includes a forcing generator that can do all the required steps to go from the available datasets (ERA5, ERA-Interim, etc) to whatever format the models require. This is done through [ESMValTool recipes](https://docs.esmvaltool.org/en/latest/recipes/recipe_hydrology.html). For some models (e.g. lisflood) additional computations are done, as some steps require data and/or code that is not available to ESMValTool.\n",
    "\n",
    "Apart from some standard parameters (start time, datasets, etc.), the forcing generator sometimes requires additional model-specific options. For our wflow example case, we need to pass the DEM file to the ESMValTool recipe as well. All model-specific options are listed in the [API documentation](https://ewatercycle.readthedocs.io/en/latest/apidocs/ewatercycle.forcing.html#ewatercycle.forcing.generate)."
   ]
  },
  {
   "cell_type": "markdown",
   "id": "85c8849b-7048-475b-b69d-94225b70d4a4",
   "metadata": {},
   "source": [
    "<div class=\"alert alert-info\">\n",
    "<p>ESMValTool configuration</p>\n",
    "    \n",
    "<p>As eWaterCycle relies on ESMValTool for processing forcing data, configuration for forcing is mostly defered to the esmvaltool configuration file. What ESMValTool configuration file to use can be specified in the <a href=https://ewatercycle.readthedocs.io/en/latest/system_setup.html#configure-esmvaltool>system setup</a>.</p>\n",
    "</div>\n",
    "\n"
   ]
  },
  {
   "cell_type": "code",
   "execution_count": 12,
   "id": "5e887394",
   "metadata": {
    "scrolled": true
   },
   "outputs": [
    {
     "name": "stderr",
     "output_type": "stream",
     "text": [
      "ERROR:esmvalcore._recipe_checks:No input files found for variable {'mip': 'fx', 'preprocessor': 'rough_cutout', 'variable_group': 'orog', 'short_name': 'orog', 'diagnostic': 'wflow_daily', 'dataset': 'ERA5', 'project': 'OBS6', 'tier': 3, 'type': 'reanaly', 'version': 1, 'recipe_dataset_index': 0, 'alias': 'ERA5', 'original_short_name': 'orog', 'standard_name': 'surface_altitude', 'long_name': 'Surface Altitude', 'units': 'm', 'modeling_realm': ['land'], 'frequency': 'fx'}\n",
      "ERROR:esmvalcore._recipe_checks:Looked for files matching: /mnt/c/Users/PeterKalverla/climatedata/obs6/Tier3/ERA5/OBS6_ERA5_reanaly_1_fx_orog[_.]*nc\n",
      "ERROR:esmvalcore._recipe_checks:Set 'log_level' to 'debug' to get more information\n",
      "ERROR:esmvalcore._recipe_checks:No input files found for variable {'mip': 'day', 'preprocessor': 'rough_cutout', 'start_year': 1991, 'end_year': 1991, 'variable_group': 'psl', 'short_name': 'psl', 'diagnostic': 'wflow_daily', 'dataset': 'ERA5', 'project': 'OBS6', 'tier': 3, 'type': 'reanaly', 'version': 1, 'recipe_dataset_index': 0, 'alias': 'ERA5', 'original_short_name': 'psl', 'standard_name': 'air_pressure_at_mean_sea_level', 'long_name': 'Sea Level Pressure', 'units': 'Pa', 'modeling_realm': ['atmos'], 'frequency': 'day'}\n",
      "ERROR:esmvalcore._recipe_checks:Looked for files matching: /mnt/c/Users/PeterKalverla/climatedata/obs6/Tier3/ERA5/OBS6_ERA5_reanaly_1_day_psl[_.]*nc\n",
      "ERROR:esmvalcore._recipe_checks:Set 'log_level' to 'debug' to get more information\n",
      "ERROR:esmvalcore._recipe_checks:No input files found for variable {'mip': 'day', 'preprocessor': 'rough_cutout', 'start_year': 1991, 'end_year': 1991, 'variable_group': 'rsds', 'short_name': 'rsds', 'diagnostic': 'wflow_daily', 'dataset': 'ERA5', 'project': 'OBS6', 'tier': 3, 'type': 'reanaly', 'version': 1, 'recipe_dataset_index': 0, 'alias': 'ERA5', 'original_short_name': 'rsds', 'standard_name': 'surface_downwelling_shortwave_flux_in_air', 'long_name': 'Surface Downwelling Shortwave Radiation', 'units': 'W m-2', 'modeling_realm': ['atmos'], 'frequency': 'day'}\n",
      "ERROR:esmvalcore._recipe_checks:Looked for files matching: /mnt/c/Users/PeterKalverla/climatedata/obs6/Tier3/ERA5/OBS6_ERA5_reanaly_1_day_rsds[_.]*nc\n",
      "ERROR:esmvalcore._recipe_checks:Set 'log_level' to 'debug' to get more information\n",
      "ERROR:esmvalcore._recipe_checks:No input files found for variable {'mip': 'CFday', 'preprocessor': 'rough_cutout', 'start_year': 1991, 'end_year': 1991, 'variable_group': 'rsdt', 'short_name': 'rsdt', 'diagnostic': 'wflow_daily', 'dataset': 'ERA5', 'project': 'OBS6', 'tier': 3, 'type': 'reanaly', 'version': 1, 'recipe_dataset_index': 0, 'alias': 'ERA5', 'original_short_name': 'rsdt', 'standard_name': 'toa_incoming_shortwave_flux', 'long_name': 'TOA Incident Shortwave Radiation', 'units': 'W m-2', 'modeling_realm': ['atmos'], 'frequency': 'day'}\n",
      "ERROR:esmvalcore._recipe_checks:Looked for files matching: /mnt/c/Users/PeterKalverla/climatedata/obs6/Tier3/ERA5/OBS6_ERA5_reanaly_1_CFday_rsdt[_.]*nc\n",
      "ERROR:esmvalcore._recipe_checks:Set 'log_level' to 'debug' to get more information\n",
      "ERROR:esmvalcore._recipe:Could not create all tasks\n",
      "ERROR:esmvalcore._recipe:Missing data for preprocessor wflow_daily/orog:\n",
      "- Missing data for ERA5: orog\n",
      "ERROR:esmvalcore._recipe:Missing data for preprocessor wflow_daily/psl:\n",
      "- Missing data for ERA5: psl\n",
      "ERROR:esmvalcore._recipe:Missing data for preprocessor wflow_daily/rsds:\n",
      "- Missing data for ERA5: rsds\n",
      "ERROR:esmvalcore._recipe:Missing data for preprocessor wflow_daily/rsdt:\n",
      "- Missing data for ERA5: rsdt\n"
     ]
    },
    {
     "ename": "RecipeError",
     "evalue": "Could not create all tasks",
     "output_type": "error",
     "traceback": [
      "\u001b[0;31m---------------------------------------------------------------------------\u001b[0m",
      "\u001b[0;31mRecipeError\u001b[0m                               Traceback (most recent call last)",
      "\u001b[0;32m<ipython-input-12-64235374a1eb>\u001b[0m in \u001b[0;36m<module>\u001b[0;34m\u001b[0m\n\u001b[0;32m----> 1\u001b[0;31m forcing = ewatercycle.forcing.generate(\n\u001b[0m\u001b[1;32m      2\u001b[0m     \u001b[0mtarget_model\u001b[0m\u001b[0;34m=\u001b[0m\u001b[0;34m'wflow'\u001b[0m\u001b[0;34m,\u001b[0m\u001b[0;34m\u001b[0m\u001b[0;34m\u001b[0m\u001b[0m\n\u001b[1;32m      3\u001b[0m     \u001b[0mdataset\u001b[0m\u001b[0;34m=\u001b[0m\u001b[0;34m'ERA5'\u001b[0m\u001b[0;34m,\u001b[0m\u001b[0;34m\u001b[0m\u001b[0;34m\u001b[0m\u001b[0m\n\u001b[1;32m      4\u001b[0m     \u001b[0mstart_time\u001b[0m\u001b[0;34m=\u001b[0m\u001b[0;34m\"1991-01-01T00:00:00Z\"\u001b[0m\u001b[0;34m,\u001b[0m\u001b[0;34m\u001b[0m\u001b[0;34m\u001b[0m\u001b[0m\n\u001b[1;32m      5\u001b[0m     \u001b[0mend_time\u001b[0m\u001b[0;34m=\u001b[0m\u001b[0;34m\"1991-01-31T00:00:00Z\"\u001b[0m\u001b[0;34m,\u001b[0m\u001b[0;34m\u001b[0m\u001b[0;34m\u001b[0m\u001b[0m\n",
      "\u001b[0;32m~/ewatercycle/ewatercycle/ewatercycle/forcing/__init__.py\u001b[0m in \u001b[0;36mgenerate\u001b[0;34m(target_model, dataset, start_time, end_time, shape, model_specific_options)\u001b[0m\n\u001b[1;32m    151\u001b[0m     \u001b[0;32mif\u001b[0m \u001b[0mmodel_specific_options\u001b[0m \u001b[0;32mis\u001b[0m \u001b[0;32mNone\u001b[0m\u001b[0;34m:\u001b[0m\u001b[0;34m\u001b[0m\u001b[0;34m\u001b[0m\u001b[0m\n\u001b[1;32m    152\u001b[0m         \u001b[0mmodel_specific_options\u001b[0m \u001b[0;34m=\u001b[0m \u001b[0;34m{\u001b[0m\u001b[0;34m}\u001b[0m\u001b[0;34m\u001b[0m\u001b[0;34m\u001b[0m\u001b[0m\n\u001b[0;32m--> 153\u001b[0;31m     forcing_info = constructor.generate(dataset, start_time, end_time, shape,\n\u001b[0m\u001b[1;32m    154\u001b[0m                                         **model_specific_options)\n\u001b[1;32m    155\u001b[0m     \u001b[0mforcing_info\u001b[0m\u001b[0;34m.\u001b[0m\u001b[0msave\u001b[0m\u001b[0;34m(\u001b[0m\u001b[0;34m)\u001b[0m\u001b[0;34m\u001b[0m\u001b[0;34m\u001b[0m\u001b[0m\n",
      "\u001b[0;32m~/ewatercycle/ewatercycle/ewatercycle/forcing/_wflow.py\u001b[0m in \u001b[0;36mgenerate\u001b[0;34m(cls, dataset, start_time, end_time, shape, dem_file, extract_region)\u001b[0m\n\u001b[1;32m     91\u001b[0m \u001b[0;34m\u001b[0m\u001b[0m\n\u001b[1;32m     92\u001b[0m         \u001b[0;31m# generate forcing data and retreive useful information\u001b[0m\u001b[0;34m\u001b[0m\u001b[0;34m\u001b[0m\u001b[0;34m\u001b[0m\u001b[0m\n\u001b[0;32m---> 93\u001b[0;31m         \u001b[0mrecipe_output\u001b[0m \u001b[0;34m=\u001b[0m \u001b[0mrecipe\u001b[0m\u001b[0;34m.\u001b[0m\u001b[0mrun\u001b[0m\u001b[0;34m(\u001b[0m\u001b[0;34m)\u001b[0m\u001b[0;34m\u001b[0m\u001b[0;34m\u001b[0m\u001b[0m\n\u001b[0m\u001b[1;32m     94\u001b[0m         \u001b[0mforcing_data\u001b[0m \u001b[0;34m=\u001b[0m \u001b[0mrecipe_output\u001b[0m\u001b[0;34m[\u001b[0m\u001b[0;34m'wflow_daily/script'\u001b[0m\u001b[0;34m]\u001b[0m\u001b[0;34m.\u001b[0m\u001b[0mdata_files\u001b[0m\u001b[0;34m[\u001b[0m\u001b[0;36m0\u001b[0m\u001b[0;34m]\u001b[0m\u001b[0;34m\u001b[0m\u001b[0;34m\u001b[0m\u001b[0m\n\u001b[1;32m     95\u001b[0m \u001b[0;34m\u001b[0m\u001b[0m\n",
      "\u001b[0;32m~/ESMValCore/esmvalcore/experimental/recipe.py\u001b[0m in \u001b[0;36mrun\u001b[0;34m(self, task, session)\u001b[0m\n\u001b[1;32m    132\u001b[0m \u001b[0;34m\u001b[0m\u001b[0m\n\u001b[1;32m    133\u001b[0m         \u001b[0;32mwith\u001b[0m \u001b[0mlog_to_dir\u001b[0m\u001b[0;34m(\u001b[0m\u001b[0msession\u001b[0m\u001b[0;34m.\u001b[0m\u001b[0mrun_dir\u001b[0m\u001b[0;34m)\u001b[0m\u001b[0;34m:\u001b[0m\u001b[0;34m\u001b[0m\u001b[0;34m\u001b[0m\u001b[0m\n\u001b[0;32m--> 134\u001b[0;31m             \u001b[0mself\u001b[0m\u001b[0;34m.\u001b[0m\u001b[0m_engine\u001b[0m \u001b[0;34m=\u001b[0m \u001b[0mself\u001b[0m\u001b[0;34m.\u001b[0m\u001b[0m_load\u001b[0m\u001b[0;34m(\u001b[0m\u001b[0msession\u001b[0m\u001b[0;34m=\u001b[0m\u001b[0msession\u001b[0m\u001b[0;34m)\u001b[0m\u001b[0;34m\u001b[0m\u001b[0;34m\u001b[0m\u001b[0m\n\u001b[0m\u001b[1;32m    135\u001b[0m             \u001b[0mself\u001b[0m\u001b[0;34m.\u001b[0m\u001b[0m_engine\u001b[0m\u001b[0;34m.\u001b[0m\u001b[0mrun\u001b[0m\u001b[0;34m(\u001b[0m\u001b[0;34m)\u001b[0m\u001b[0;34m\u001b[0m\u001b[0;34m\u001b[0m\u001b[0m\n\u001b[1;32m    136\u001b[0m \u001b[0;34m\u001b[0m\u001b[0m\n",
      "\u001b[0;32m~/ESMValCore/esmvalcore/experimental/recipe.py\u001b[0m in \u001b[0;36m_load\u001b[0;34m(self, session)\u001b[0m\n\u001b[1;32m     97\u001b[0m         \u001b[0mlogger\u001b[0m\u001b[0;34m.\u001b[0m\u001b[0minfo\u001b[0m\u001b[0;34m(\u001b[0m\u001b[0mpprint\u001b[0m\u001b[0;34m.\u001b[0m\u001b[0mpformat\u001b[0m\u001b[0;34m(\u001b[0m\u001b[0mconfig_user\u001b[0m\u001b[0;34m)\u001b[0m\u001b[0;34m)\u001b[0m\u001b[0;34m\u001b[0m\u001b[0;34m\u001b[0m\u001b[0m\n\u001b[1;32m     98\u001b[0m \u001b[0;34m\u001b[0m\u001b[0m\n\u001b[0;32m---> 99\u001b[0;31m         return RecipeEngine(raw_recipe=self.data,\n\u001b[0m\u001b[1;32m    100\u001b[0m                             \u001b[0mconfig_user\u001b[0m\u001b[0;34m=\u001b[0m\u001b[0mconfig_user\u001b[0m\u001b[0;34m,\u001b[0m\u001b[0;34m\u001b[0m\u001b[0;34m\u001b[0m\u001b[0m\n\u001b[1;32m    101\u001b[0m                             recipe_file=self.path)\n",
      "\u001b[0;32m~/ESMValCore/esmvalcore/_recipe.py\u001b[0m in \u001b[0;36m__init__\u001b[0;34m(self, raw_recipe, config_user, initialize_tasks, recipe_file)\u001b[0m\n\u001b[1;32m    984\u001b[0m             raw_recipe.get('documentation', {}))\n\u001b[1;32m    985\u001b[0m         \u001b[0;32mtry\u001b[0m\u001b[0;34m:\u001b[0m\u001b[0;34m\u001b[0m\u001b[0;34m\u001b[0m\u001b[0m\n\u001b[0;32m--> 986\u001b[0;31m             \u001b[0mself\u001b[0m\u001b[0;34m.\u001b[0m\u001b[0mtasks\u001b[0m \u001b[0;34m=\u001b[0m \u001b[0mself\u001b[0m\u001b[0;34m.\u001b[0m\u001b[0minitialize_tasks\u001b[0m\u001b[0;34m(\u001b[0m\u001b[0;34m)\u001b[0m \u001b[0;32mif\u001b[0m \u001b[0minitialize_tasks\u001b[0m \u001b[0;32melse\u001b[0m \u001b[0;32mNone\u001b[0m\u001b[0;34m\u001b[0m\u001b[0;34m\u001b[0m\u001b[0m\n\u001b[0m\u001b[1;32m    987\u001b[0m         \u001b[0;32mexcept\u001b[0m \u001b[0mRecipeError\u001b[0m \u001b[0;32mas\u001b[0m \u001b[0mex\u001b[0m\u001b[0;34m:\u001b[0m\u001b[0;34m\u001b[0m\u001b[0;34m\u001b[0m\u001b[0m\n\u001b[1;32m    988\u001b[0m             \u001b[0mlogger\u001b[0m\u001b[0;34m.\u001b[0m\u001b[0merror\u001b[0m\u001b[0;34m(\u001b[0m\u001b[0mex\u001b[0m\u001b[0;34m.\u001b[0m\u001b[0mmessage\u001b[0m\u001b[0;34m)\u001b[0m\u001b[0;34m\u001b[0m\u001b[0;34m\u001b[0m\u001b[0m\n",
      "\u001b[0;32m~/ESMValCore/esmvalcore/_recipe.py\u001b[0m in \u001b[0;36minitialize_tasks\u001b[0;34m(self)\u001b[0m\n\u001b[1;32m   1392\u001b[0m             \u001b[0mrecipe_error\u001b[0m \u001b[0;34m=\u001b[0m \u001b[0mRecipeError\u001b[0m\u001b[0;34m(\u001b[0m\u001b[0;34m'Could not create all tasks'\u001b[0m\u001b[0;34m)\u001b[0m\u001b[0;34m\u001b[0m\u001b[0;34m\u001b[0m\u001b[0m\n\u001b[1;32m   1393\u001b[0m             \u001b[0mrecipe_error\u001b[0m\u001b[0;34m.\u001b[0m\u001b[0mfailed_tasks\u001b[0m\u001b[0;34m.\u001b[0m\u001b[0mextend\u001b[0m\u001b[0;34m(\u001b[0m\u001b[0mfailed_tasks\u001b[0m\u001b[0;34m)\u001b[0m\u001b[0;34m\u001b[0m\u001b[0;34m\u001b[0m\u001b[0m\n\u001b[0;32m-> 1394\u001b[0;31m             \u001b[0;32mraise\u001b[0m \u001b[0mrecipe_error\u001b[0m\u001b[0;34m\u001b[0m\u001b[0;34m\u001b[0m\u001b[0m\n\u001b[0m\u001b[1;32m   1395\u001b[0m         \u001b[0mcheck\u001b[0m\u001b[0;34m.\u001b[0m\u001b[0mtasks_valid\u001b[0m\u001b[0;34m(\u001b[0m\u001b[0mtasks\u001b[0m\u001b[0;34m)\u001b[0m\u001b[0;34m\u001b[0m\u001b[0;34m\u001b[0m\u001b[0m\n\u001b[1;32m   1396\u001b[0m \u001b[0;34m\u001b[0m\u001b[0m\n",
      "\u001b[0;31mRecipeError\u001b[0m: Could not create all tasks"
     ]
    }
   ],
   "source": [
    "forcing = ewatercycle.forcing.generate(\n",
    "    target_model='wflow', \n",
    "    dataset='ERA5',\n",
    "    start_time=\"1991-01-01T00:00:00Z\",\n",
    "    end_time=\"1991-01-31T00:00:00Z\",\n",
    "    shape='./examples/data/Rhine/Rhine.shp',\n",
    "    model_specific_options = {\n",
    "        'dem_file' : './examples/wflow_rhine_sbm_nc/staticmaps/wflow_dem.map',\n",
    "    }\n",
    ")\n",
    "print(forcing)"
   ]
  },
  {
   "cell_type": "markdown",
   "id": "b694aa49-63b4-4f2b-aa19-82fb61108b17",
   "metadata": {},
   "source": [
    "Generated forcing is automatically saved to the ESMValTool output directory. A `yaml` file is stored there as well, such that you can easily reload the forcing later without having to generate it again."
   ]
  },
  {
   "cell_type": "markdown",
   "id": "57c43415",
   "metadata": {},
   "source": [
    "`ewatercycle_forcing.yaml`:\n",
    "\n",
    "```yaml\n",
    "!WflowForcing\n",
    "start_time: '1990-01-01T00:00:00Z'\n",
    "end_time: '1990-12-31T00:00:00Z'\n",
    "shape:\n",
    "netcdfinput: wflow_ERA5_Rhine_1990_1990.nc\n",
    "Precipitation: /pr\n",
    "EvapoTranspiration: /pet\n",
    "Temperature: /tas\n",
    "Inflow:\n",
    "```"
   ]
  },
  {
   "cell_type": "code",
   "execution_count": null,
   "id": "889d4e6d-a69b-44c0-ba69-6ba77654e30e",
   "metadata": {},
   "outputs": [],
   "source": [
    "reloaded_forcing = ewatercycle.forcing.load(\n",
    "    directory='/path/to/forcing/output/'\n",
    ")"
   ]
  },
  {
   "cell_type": "markdown",
   "id": "0c7883b4-21a9-42e4-b3c4-afd760c0cbf9",
   "metadata": {},
   "source": [
    "## Models"
   ]
  },
  {
   "cell_type": "markdown",
   "id": "b6a2e409",
   "metadata": {},
   "source": [
    "### Creating, setting up, and initializing a model instance\n",
    "\n",
    "Now that we have created a forcing and selected a version of the model and a parameter set, we can create a model instance. When creating an instance we will have to select the version of the model to use, a parameter set, and a forcing. This will all be combined into an instance object. This can then be inspected for available parameters and default values, setup to create the configuration file, work_dir containing input files, and container, and initialized to prepare a model for running.\n",
    "\n",
    "The way models are created, setup, and initialized matches PyMT as much as possible. There is currently no 'run' method as this convenance method makes it harder for users to create a more advanced usecase from a simple example."
   ]
  },
  {
   "cell_type": "markdown",
   "id": "029fc562",
   "metadata": {
    "tags": []
   },
   "source": [
    "### Model versions\n",
    "\n",
    "eWaterCycle supports a number of models, and new once can be adding using a straightforward process. These are represented using a Python Class (e.g. ewatercycle.models.Wflow). Several version of a model may be available. To help with reproducibility the version of a model must always be specified when creating a model instance. A class function is available to retrieve a list of model versions.\n"
   ]
  },
  {
   "cell_type": "code",
   "execution_count": null,
   "id": "98e1e41e",
   "metadata": {
    "tags": []
   },
   "outputs": [],
   "source": [
    "import ewatercycle.models.Wflow\n",
    "\n",
    "ewatercycle.models.Wflow.available_versions\n",
    "# [\"2019.1\", \"2020.1\"]"
   ]
  },
  {
   "cell_type": "code",
   "execution_count": null,
   "id": "53f3353b",
   "metadata": {},
   "outputs": [],
   "source": [
    "import ewatercycle.models\n",
    "\n",
    "#A parameter set and forcing object must be loaded or found before instanciating a model.\n",
    "\n",
    "#Creates as model instance from a model version, parameter_set, and forcing\n",
    "#version = mandatory\n",
    "#parameter set = optional (e.g. MARRMOT does not need one)\n",
    "#forcing = mandatory for now. At some point we may want to support feeding forcing to a model\n",
    "#while running it using set_variable('temperature') and such.\n",
    "model_instance = ewatercycle.models.Wflow(version='2019.1', parameter_set=parameter_set, forcing=forcing)\n",
    "\n",
    "#using the parameters property all parameter defaults can be obtained.\n",
    "#this is possibly a subset of everything that can be configured in the config file of model, and up to the\n",
    "#creator of the model class to implement. For non-science settings such as logging settings, or file names\n",
    "# for all parameter files it does not always make sense to expose these.\n",
    "model_instance.parameters\n",
    "#soil_depth: 9 (defaults to value in parameter set e.g. in a config template)\n",
    "#start_time=\"2021-05-07T13:32:00Z\" (defaults to start of forcing)\n",
    "#end_time=\"2021-05-07T13:32:00Z\" (defaults to end of forcing)\n",
    "#not all parameter files can be set, but for some it may make sense.\n",
    "#land_mask='some/land/mask/in/the/parameter_set.dem'\n",
    "\n",
    "#the Setup function does the following:\n",
    "#- Create a directory which serves as the current working directory for the mode instance\n",
    "#- Creates a configuration file in this working directory based on the settings\n",
    "#- Creates a container instance for the exact version of the model requesed\n",
    "#- Makes the forcing, parameter set and and working directory available to the container using mounts.\n",
    "#- If a model cannot cope with forcing and parameter set outside the working directory it is copied\n",
    "#  to the working_directory instead.\n",
    "#- Input is mounted read-only, the working directory is mounted read-write.\n",
    "#- Setup will complain about incompatible model version, parameter_set, and forcing.\n",
    "cfg_file, work_dir = model_instance.setup(\n",
    "    land_mask='/some/land/mask.dem', # if outside of mounts, add a mount, or copy into working dir, or :'(\n",
    "    soil_depth=9,\n",
    "    start_time=\"2021-05-07T13:32:00Z\",\n",
    "    end_time=\"2021-05-07T13:32:00Z\"\n",
    ")\n",
    "\n",
    "#After setup but before initialize everything is good-to-go, but nothing has been done yet. This is\n",
    "#An opportunity to inspect the generated configuration file, and make any changes manually that could not be\n",
    "#done through the setup method. Splitting these also makes it easier to run initialize in parallel in case a\n",
    "#lot of models are created simultaneously (e.g. when calibrating a model)\n",
    "\n",
    "# To modify, open it in an editor and save\n",
    "print(cfg_file)\n",
    "\n",
    "#This function will initialize the model using the files created above. For some models this can take some time.\n",
    "model_instance.initialize(cfg_file)"
   ]
  },
  {
   "cell_type": "markdown",
   "id": "967fd35b",
   "metadata": {},
   "source": [
    "### Running a model and getting output\n",
    "\n",
    "Once initalized a model_instanced can be used by calling functions for running a single timestep (`update`), setting variables, and getting variables. Besides the rather lowlevel BMI functions several convenience functions are also available. These returns objects that make sense for the type of values returned, such as pandas DataFram and xarray DataArray or Dataset."
   ]
  },
  {
   "cell_type": "markdown",
   "id": "dff204cb",
   "metadata": {},
   "source": [
    "#### TODO Merge these cells below\n",
    "In the loop, only use get_value_at_coords to keep track of a single outlet point.\n",
    "At the end, show get_value_as_xarray to show you can also get the whole field"
   ]
  },
  {
   "cell_type": "code",
   "execution_count": null,
   "id": "0dc4da66",
   "metadata": {},
   "outputs": [],
   "source": [
    "#example storing all output of a certain field.\n",
    "output = []\n",
    "while model_instance.time < model_instance.end_time:\n",
    "    \n",
    "    # Update the model (takes a few seconds per timestep)\n",
    "    model_instance.update() \n",
    "    \n",
    "    #store entire discharge field\n",
    "    discharge = model.get_value_as_xarray('Discharge')\n",
    "    output.append(discharge)\n",
    "        \n",
    "    # Show progress\n",
    "    print(reference.time, end=\"\\r\")  # \"\\r\" clears the output before printing the next timestamp\n",
    "    \n",
    "result = xarray.merge(output)\n",
    "\n",
    "result\n",
    "#xarray with full output of discharge field"
   ]
  },
  {
   "cell_type": "code",
   "execution_count": null,
   "id": "0a18150e",
   "metadata": {},
   "outputs": [],
   "source": [
    "#example storing a timeseries for a single location of a certain field\n",
    "\n",
    "#some location of interest within the model\n",
    "output_latitude = 55.4\n",
    "output_longitude = 20.0\n",
    "\n",
    "simulated_discharge = pd.DataFrame(index='time', columns=['discharge'])\n",
    "while model_instance.time < model_instance.end_time:\n",
    "    \n",
    "    # Update the model (takes a few seconds per timestep)\n",
    "    model_instance.update() \n",
    "    \n",
    "    # Track discharge at station location\n",
    "    discharge = model_instance.get_value_at_location('Discharge', latitude=output_latitude, longitude=output_longitude, method='nearest')\n",
    "    simulated_discharge.append({\"time\":reference.time, \"discharge\": discharge})\n",
    "    \n",
    "    # Show progress\n",
    "    print(model_instance.time, end=\"\\r\")  # \"\\r\" clears the output before printing the next timestamp\n",
    "    \n",
    "model_output\n",
    "#nice table of all dischage values over time for a single location"
   ]
  },
  {
   "cell_type": "markdown",
   "id": "d10584b1",
   "metadata": {},
   "source": [
    "## Observations"
   ]
  },
  {
   "cell_type": "code",
   "execution_count": null,
   "id": "13a4b9ce",
   "metadata": {},
   "outputs": [],
   "source": [
    "#Read GRDC data\n",
    "\n",
    "import ewatercycle.observation.grdc\n",
    "\n",
    "grdc_station_id = 4147380\n",
    "\n",
    "#This function automatically fetches the location of the GRDC data from the configuration file\n",
    "#Start and end dates are fetched from the model instance\n",
    "observations = ewatercycle.observation.grdc.get_grdc_data(\n",
    "    station_id=grdc_station_id,\n",
    "    start_date=model_instance.start_time.date(),\n",
    "    end_date=model_instance.end_time.date(),\n",
    ")\n",
    "observations\n",
    "#xarray containing grdc data"
   ]
  },
  {
   "cell_type": "code",
   "execution_count": null,
   "id": "f35c3507",
   "metadata": {},
   "outputs": [],
   "source": [
    "#Combine simulated and observated discharge into a single dataframe\n",
    "\n",
    "import pandas\n",
    " \n",
    "simulated_discharge_df = pandas.DataFrame(\n",
    "    {'simulation': model_output}, index=timestamps\n",
    ")\n",
    "observations_df = observations.streamflow.to_dataframe().rename(\n",
    "    columns={'streamflow': 'observation'}\n",
    ")\n",
    "discharge = simulated_discharge_df.join(observations_df)\n",
    "discharge\n",
    "\n",
    "#table with simulated and observed discharge"
   ]
  },
  {
   "cell_type": "markdown",
   "id": "9428502b-c9dc-4781-a40c-c8fb5f0e7a03",
   "metadata": {},
   "source": [
    "## Analysis\n",
    "Once a model has run we can analyse the result. For this example we will assume a DataFrame was created with values over time for a certain location for which GRDC station data is available"
   ]
  },
  {
   "cell_type": "code",
   "execution_count": null,
   "id": "cc2cbe5e",
   "metadata": {},
   "outputs": [],
   "source": [
    "#Plot hydrograph\n",
    "\n",
    "import ewatercycle.analysis\n",
    "\n",
    "#todo: also add forcing to this hydrograph in some smart way\n",
    "ewatercycle.analysis.hydrograph(\n",
    "    discharge=discharge,\n",
    "    reference='observation',\n",
    ")\n",
    "\n",
    "#nice hydrograph"
   ]
  },
  {
   "cell_type": "code",
   "execution_count": null,
   "id": "6b0be972",
   "metadata": {},
   "outputs": [],
   "source": [
    "#finalize the model.\n",
    "#as a side effect also destroys the container\n",
    "model_instance.finalize()"
   ]
  }
 ],
 "metadata": {
  "kernelspec": {
   "display_name": "Python 3",
   "language": "python",
   "name": "python3"
  },
  "language_info": {
   "codemirror_mode": {
    "name": "ipython",
    "version": 3
   },
   "file_extension": ".py",
   "mimetype": "text/x-python",
   "name": "python",
   "nbconvert_exporter": "python",
   "pygments_lexer": "ipython3",
   "version": "3.9.2"
  }
 },
 "nbformat": 4,
 "nbformat_minor": 5
}
