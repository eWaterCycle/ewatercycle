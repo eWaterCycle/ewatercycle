{
 "cells": [
  {
   "cell_type": "code",
   "execution_count": 2,
   "id": "bd2d9bd5",
   "metadata": {},
   "outputs": [],
   "source": [
    "# Suppress distracting outputs in these examples\n",
    "import logging\n",
    "import warnings\n",
    "\n",
    "warnings.filterwarnings(\"ignore\", category=UserWarning)\n",
    "logger = logging.getLogger(\"esmvalcore\")\n",
    "logger.setLevel(logging.WARNING)"
   ]
  },
  {
   "attachments": {},
   "cell_type": "markdown",
   "id": "3ebca622",
   "metadata": {},
   "source": [
    "# User guide\n",
    "\n",
    "This user manual will explain how the eWaterCycle Python package can be used to perform hydrological experiments. We will walk through the following chapters:\n",
    "\n",
    "- parameter sets\n",
    "- forcing data\n",
    "- model instances\n",
    "- using observations\n",
    "- analysis\n",
    "\n",
    "Each of these chapters correspond to a so-called \"subpackage\" of eWaterCycle Python package. Before we continue, however, we will briefly explain the configuration file."
   ]
  },
  {
   "attachments": {},
   "cell_type": "markdown",
   "id": "5e02ed11",
   "metadata": {},
   "source": [
    "**Configuration**\n",
    "\n",
    "To be able to find all needed data and models eWaterCycle comes with a configuration object. This configuration contains system settings for eWaterCycle (which container technology to use, where is the data located, etc). In general these should not need to be changed by the user for a specific experiment, and ideally a user would never need to touch this configuration on a properly managed system. However, it is good to know that it is there. \n",
    "\n",
    "You can see the default configuration on your system like so:"
   ]
  },
  {
   "cell_type": "code",
   "execution_count": 5,
   "id": "570e6d66",
   "metadata": {},
   "outputs": [
    {
     "data": {
      "text/html": [
       "<pre style=\"white-space:pre;overflow-x:auto;line-height:normal;font-family:Menlo,'DejaVu Sans Mono',consolas,'Courier New',monospace\"><span style=\"color: #800080; text-decoration-color: #800080; font-weight: bold\">Configuration</span><span style=\"font-weight: bold\">(</span>\n",
       "    <span style=\"color: #808000; text-decoration-color: #808000\">grdc_location</span>=<span style=\"color: #800080; text-decoration-color: #800080; font-weight: bold\">PosixPath</span><span style=\"font-weight: bold\">(</span><span style=\"color: #008000; text-decoration-color: #008000\">'.'</span><span style=\"font-weight: bold\">)</span>,\n",
       "    <span style=\"color: #808000; text-decoration-color: #808000\">container_engine</span>=<span style=\"color: #008000; text-decoration-color: #008000\">'apptainer'</span>,\n",
       "    <span style=\"color: #808000; text-decoration-color: #808000\">apptainer_dir</span>=<span style=\"color: #800080; text-decoration-color: #800080; font-weight: bold\">PosixPath</span><span style=\"font-weight: bold\">(</span><span style=\"color: #008000; text-decoration-color: #008000\">'/home/verhoes/dcache/singularity-images'</span><span style=\"font-weight: bold\">)</span>,\n",
       "    <span style=\"color: #808000; text-decoration-color: #808000\">singularity_dir</span>=<span style=\"color: #800080; text-decoration-color: #800080; font-style: italic\">None</span>,\n",
       "    <span style=\"color: #808000; text-decoration-color: #808000\">output_dir</span>=<span style=\"color: #800080; text-decoration-color: #800080; font-weight: bold\">PosixPath</span><span style=\"font-weight: bold\">(</span><span style=\"color: #008000; text-decoration-color: #008000\">'.'</span><span style=\"font-weight: bold\">)</span>,\n",
       "    <span style=\"color: #808000; text-decoration-color: #808000\">parameterset_dir</span>=<span style=\"color: #800080; text-decoration-color: #800080; font-weight: bold\">PosixPath</span><span style=\"font-weight: bold\">(</span><span style=\"color: #008000; text-decoration-color: #008000\">'/home/verhoes/git/eWaterCycle/parameter-sets'</span><span style=\"font-weight: bold\">)</span>,\n",
       "    <span style=\"color: #808000; text-decoration-color: #808000\">parameter_sets</span>=<span style=\"font-weight: bold\">{</span>\n",
       "        <span style=\"color: #008000; text-decoration-color: #008000\">'lisflood_fraser'</span>: <span style=\"color: #800080; text-decoration-color: #800080; font-weight: bold\">ParameterSet</span><span style=\"font-weight: bold\">(</span>\n",
       "            <span style=\"color: #808000; text-decoration-color: #808000\">name</span>=<span style=\"color: #008000; text-decoration-color: #008000\">'lisflood_fraser'</span>,\n",
       "            <span style=\"color: #808000; text-decoration-color: #808000\">directory</span>=<span style=\"color: #800080; text-decoration-color: #800080; font-weight: bold\">PosixPath</span><span style=\"font-weight: bold\">(</span><span style=\"color: #008000; text-decoration-color: #008000\">'/home/verhoes/git/eWaterCycle/parameter-sets/lisflood_fraser'</span><span style=\"font-weight: bold\">)</span>,\n",
       "            <span style=\"color: #808000; text-decoration-color: #808000\">config</span>=<span style=\"color: #800080; text-decoration-color: #800080; font-weight: bold\">PosixPath</span><span style=\"font-weight: bold\">(</span><span style=\"color: #008000; text-decoration-color: #008000\">'/home/verhoes/git/eWaterCycle/parameter-sets/lisflood_fraser/settings_lat_lon-Run.xml</span>\n",
       "<span style=\"color: #008000; text-decoration-color: #008000\">'</span><span style=\"font-weight: bold\">)</span>,\n",
       "            <span style=\"color: #808000; text-decoration-color: #808000\">doi</span>=<span style=\"color: #008000; text-decoration-color: #008000\">'N/A'</span>,\n",
       "            <span style=\"color: #808000; text-decoration-color: #808000\">target_model</span>=<span style=\"color: #008000; text-decoration-color: #008000\">'lisflood'</span>,\n",
       "            <span style=\"color: #808000; text-decoration-color: #808000\">supported_model_versions</span>=<span style=\"font-weight: bold\">{</span><span style=\"color: #008000; text-decoration-color: #008000\">'20.10'</span><span style=\"font-weight: bold\">}</span>,\n",
       "            <span style=\"color: #808000; text-decoration-color: #808000\">downloader</span>=<span style=\"color: #800080; text-decoration-color: #800080; font-weight: bold\">GitHubDownloader</span><span style=\"font-weight: bold\">(</span>\n",
       "                <span style=\"color: #808000; text-decoration-color: #808000\">org</span>=<span style=\"color: #008000; text-decoration-color: #008000\">'ec-jrc'</span>,\n",
       "                <span style=\"color: #808000; text-decoration-color: #808000\">repo</span>=<span style=\"color: #008000; text-decoration-color: #008000\">'lisflood-usecases'</span>,\n",
       "                <span style=\"color: #808000; text-decoration-color: #808000\">branch</span>=<span style=\"color: #008000; text-decoration-color: #008000\">'master'</span>,\n",
       "                <span style=\"color: #808000; text-decoration-color: #808000\">subfolder</span>=<span style=\"color: #008000; text-decoration-color: #008000\">'LF_lat_lon_UseCase'</span>\n",
       "            <span style=\"font-weight: bold\">)</span>\n",
       "        <span style=\"font-weight: bold\">)</span>,\n",
       "        <span style=\"color: #008000; text-decoration-color: #008000\">'pcrglobwb_rhinemeuse_30min'</span>: <span style=\"color: #800080; text-decoration-color: #800080; font-weight: bold\">ParameterSet</span><span style=\"font-weight: bold\">(</span>\n",
       "            <span style=\"color: #808000; text-decoration-color: #808000\">name</span>=<span style=\"color: #008000; text-decoration-color: #008000\">'pcrglobwb_rhinemeuse_30min'</span>,\n",
       "            <span style=\"color: #808000; text-decoration-color: #808000\">directory</span>=<span style=\"color: #800080; text-decoration-color: #800080; font-weight: bold\">PosixPath</span><span style=\"font-weight: bold\">(</span><span style=\"color: #008000; text-decoration-color: #008000\">'/home/verhoes/git/eWaterCycle/parameter-sets/pcrglobwb_rhinemeuse_30min'</span><span style=\"font-weight: bold\">)</span>,\n",
       "            <span style=\"color: #808000; text-decoration-color: #808000\">config</span>=<span style=\"color: #800080; text-decoration-color: #800080; font-weight: bold\">PosixPath</span><span style=\"font-weight: bold\">(</span><span style=\"color: #008000; text-decoration-color: #008000\">'/home/verhoes/git/eWaterCycle/parameter-sets/pcrglobwb_rhinemeuse_30min/ini_and_batch</span>\n",
       "<span style=\"color: #008000; text-decoration-color: #008000\">_files/deltares_laptop/setup_natural_test.ini'</span><span style=\"font-weight: bold\">)</span>,\n",
       "            <span style=\"color: #808000; text-decoration-color: #808000\">doi</span>=<span style=\"color: #008000; text-decoration-color: #008000\">'https://doi.org/10.5281/zenodo.1045339'</span>,\n",
       "            <span style=\"color: #808000; text-decoration-color: #808000\">target_model</span>=<span style=\"color: #008000; text-decoration-color: #008000\">'pcrglobwb'</span>,\n",
       "            <span style=\"color: #808000; text-decoration-color: #808000\">supported_model_versions</span>=<span style=\"font-weight: bold\">{</span><span style=\"color: #008000; text-decoration-color: #008000\">'setters'</span><span style=\"font-weight: bold\">}</span>,\n",
       "            <span style=\"color: #808000; text-decoration-color: #808000\">downloader</span>=<span style=\"color: #800080; text-decoration-color: #800080; font-weight: bold\">GitHubDownloader</span><span style=\"font-weight: bold\">(</span>\n",
       "                <span style=\"color: #808000; text-decoration-color: #808000\">org</span>=<span style=\"color: #008000; text-decoration-color: #008000\">'UU-Hydro'</span>,\n",
       "                <span style=\"color: #808000; text-decoration-color: #808000\">repo</span>=<span style=\"color: #008000; text-decoration-color: #008000\">'PCR-GLOBWB_input_example'</span>,\n",
       "                <span style=\"color: #808000; text-decoration-color: #808000\">branch</span>=<span style=\"color: #008000; text-decoration-color: #008000\">'master'</span>,\n",
       "                <span style=\"color: #808000; text-decoration-color: #808000\">subfolder</span>=<span style=\"color: #008000; text-decoration-color: #008000\">'RhineMeuse30min'</span>\n",
       "            <span style=\"font-weight: bold\">)</span>\n",
       "        <span style=\"font-weight: bold\">)</span>,\n",
       "        <span style=\"color: #008000; text-decoration-color: #008000\">'wflow_rhine_sbm_nc'</span>: <span style=\"color: #800080; text-decoration-color: #800080; font-weight: bold\">ParameterSet</span><span style=\"font-weight: bold\">(</span>\n",
       "            <span style=\"color: #808000; text-decoration-color: #808000\">name</span>=<span style=\"color: #008000; text-decoration-color: #008000\">'wflow_rhine_sbm_nc'</span>,\n",
       "            <span style=\"color: #808000; text-decoration-color: #808000\">directory</span>=<span style=\"color: #800080; text-decoration-color: #800080; font-weight: bold\">PosixPath</span><span style=\"font-weight: bold\">(</span><span style=\"color: #008000; text-decoration-color: #008000\">'/home/verhoes/git/eWaterCycle/parameter-sets/wflow_rhine_sbm_nc'</span><span style=\"font-weight: bold\">)</span>,\n",
       "            <span style=\"color: #808000; text-decoration-color: #808000\">config</span>=<span style=\"color: #800080; text-decoration-color: #800080; font-weight: bold\">PosixPath</span><span style=\"font-weight: bold\">(</span><span style=\"color: #008000; text-decoration-color: #008000\">'/home/verhoes/git/eWaterCycle/parameter-sets/wflow_rhine_sbm_nc/wflow_sbm_NC.ini'</span><span style=\"font-weight: bold\">)</span>,\n",
       "            <span style=\"color: #808000; text-decoration-color: #808000\">doi</span>=<span style=\"color: #008000; text-decoration-color: #008000\">'N/A'</span>,\n",
       "            <span style=\"color: #808000; text-decoration-color: #808000\">target_model</span>=<span style=\"color: #008000; text-decoration-color: #008000\">'wflow'</span>,\n",
       "            <span style=\"color: #808000; text-decoration-color: #808000\">supported_model_versions</span>=<span style=\"font-weight: bold\">{</span><span style=\"color: #008000; text-decoration-color: #008000\">'2020.1.2'</span>, <span style=\"color: #008000; text-decoration-color: #008000\">'2020.1.3'</span>, <span style=\"color: #008000; text-decoration-color: #008000\">'2020.1.1'</span><span style=\"font-weight: bold\">}</span>,\n",
       "            <span style=\"color: #808000; text-decoration-color: #808000\">downloader</span>=<span style=\"color: #800080; text-decoration-color: #800080; font-weight: bold\">GitHubDownloader</span><span style=\"font-weight: bold\">(</span>\n",
       "                <span style=\"color: #808000; text-decoration-color: #808000\">org</span>=<span style=\"color: #008000; text-decoration-color: #008000\">'openstreams'</span>,\n",
       "                <span style=\"color: #808000; text-decoration-color: #808000\">repo</span>=<span style=\"color: #008000; text-decoration-color: #008000\">'wflow'</span>,\n",
       "                <span style=\"color: #808000; text-decoration-color: #808000\">branch</span>=<span style=\"color: #008000; text-decoration-color: #008000\">'master'</span>,\n",
       "                <span style=\"color: #808000; text-decoration-color: #808000\">subfolder</span>=<span style=\"color: #008000; text-decoration-color: #008000\">'examples/wflow_rhine_sbm_nc'</span>\n",
       "            <span style=\"font-weight: bold\">)</span>\n",
       "        <span style=\"font-weight: bold\">)</span>,\n",
       "        <span style=\"color: #008000; text-decoration-color: #008000\">'lisflood_global-masked_01degree_ERA5'</span>: <span style=\"color: #800080; text-decoration-color: #800080; font-weight: bold\">ParameterSet</span><span style=\"font-weight: bold\">(</span>\n",
       "            <span style=\"color: #808000; text-decoration-color: #808000\">name</span>=<span style=\"color: #008000; text-decoration-color: #008000\">'lisflood_global-masked_01degree_ERA5'</span>,\n",
       "            <span style=\"color: #808000; text-decoration-color: #808000\">directory</span>=<span style=\"color: #800080; text-decoration-color: #800080; font-weight: bold\">PosixPath</span><span style=\"font-weight: bold\">(</span><span style=\"color: #008000; text-decoration-color: #008000\">'/home/verhoes/dcache/parameter-sets/lisflood_global-masked_01degree'</span><span style=\"font-weight: bold\">)</span>,\n",
       "            <span style=\"color: #808000; text-decoration-color: #808000\">config</span>=<span style=\"color: #800080; text-decoration-color: #800080; font-weight: bold\">PosixPath</span><span style=\"font-weight: bold\">(</span><span style=\"color: #008000; text-decoration-color: #008000\">'/home/verhoes/dcache/parameter-sets/lisflood_global-masked_01degree/settings_lisflood</span>\n",
       "<span style=\"color: #008000; text-decoration-color: #008000\">_ERA5.xml'</span><span style=\"font-weight: bold\">)</span>,\n",
       "            <span style=\"color: #808000; text-decoration-color: #808000\">doi</span>=<span style=\"color: #008000; text-decoration-color: #008000\">'N/A'</span>,\n",
       "            <span style=\"color: #808000; text-decoration-color: #808000\">target_model</span>=<span style=\"color: #008000; text-decoration-color: #008000\">'lisflood'</span>,\n",
       "            <span style=\"color: #808000; text-decoration-color: #808000\">supported_model_versions</span>=<span style=\"font-weight: bold\">{</span><span style=\"color: #008000; text-decoration-color: #008000\">'20.10'</span><span style=\"font-weight: bold\">}</span>,\n",
       "            <span style=\"color: #808000; text-decoration-color: #808000\">downloader</span>=<span style=\"color: #800080; text-decoration-color: #800080; font-style: italic\">None</span>\n",
       "        <span style=\"font-weight: bold\">)</span>\n",
       "    <span style=\"font-weight: bold\">}</span>,\n",
       "    <span style=\"color: #808000; text-decoration-color: #808000\">ewatercycle_config</span>=<span style=\"color: #800080; text-decoration-color: #800080; font-weight: bold\">PosixPath</span><span style=\"font-weight: bold\">(</span><span style=\"color: #008000; text-decoration-color: #008000\">'/home/verhoes/.config/ewatercycle/ewatercycle.yaml'</span><span style=\"font-weight: bold\">)</span>\n",
       "<span style=\"font-weight: bold\">)</span>\n",
       "</pre>\n"
      ],
      "text/plain": [
       "\u001b[1;35mConfiguration\u001b[0m\u001b[1m(\u001b[0m\n",
       "    \u001b[33mgrdc_location\u001b[0m=\u001b[1;35mPosixPath\u001b[0m\u001b[1m(\u001b[0m\u001b[32m'.'\u001b[0m\u001b[1m)\u001b[0m,\n",
       "    \u001b[33mcontainer_engine\u001b[0m=\u001b[32m'apptainer'\u001b[0m,\n",
       "    \u001b[33mapptainer_dir\u001b[0m=\u001b[1;35mPosixPath\u001b[0m\u001b[1m(\u001b[0m\u001b[32m'/home/verhoes/dcache/singularity-images'\u001b[0m\u001b[1m)\u001b[0m,\n",
       "    \u001b[33msingularity_dir\u001b[0m=\u001b[3;35mNone\u001b[0m,\n",
       "    \u001b[33moutput_dir\u001b[0m=\u001b[1;35mPosixPath\u001b[0m\u001b[1m(\u001b[0m\u001b[32m'.'\u001b[0m\u001b[1m)\u001b[0m,\n",
       "    \u001b[33mparameterset_dir\u001b[0m=\u001b[1;35mPosixPath\u001b[0m\u001b[1m(\u001b[0m\u001b[32m'/home/verhoes/git/eWaterCycle/parameter-sets'\u001b[0m\u001b[1m)\u001b[0m,\n",
       "    \u001b[33mparameter_sets\u001b[0m=\u001b[1m{\u001b[0m\n",
       "        \u001b[32m'lisflood_fraser'\u001b[0m: \u001b[1;35mParameterSet\u001b[0m\u001b[1m(\u001b[0m\n",
       "            \u001b[33mname\u001b[0m=\u001b[32m'lisflood_fraser'\u001b[0m,\n",
       "            \u001b[33mdirectory\u001b[0m=\u001b[1;35mPosixPath\u001b[0m\u001b[1m(\u001b[0m\u001b[32m'/home/verhoes/git/eWaterCycle/parameter-sets/lisflood_fraser'\u001b[0m\u001b[1m)\u001b[0m,\n",
       "            \u001b[33mconfig\u001b[0m=\u001b[1;35mPosixPath\u001b[0m\u001b[1m(\u001b[0m\u001b[32m'/home/verhoes/git/eWaterCycle/parameter-sets/lisflood_fraser/settings_lat_lon-Run.xml\u001b[0m\n",
       "\u001b[32m'\u001b[0m\u001b[1m)\u001b[0m,\n",
       "            \u001b[33mdoi\u001b[0m=\u001b[32m'N/A'\u001b[0m,\n",
       "            \u001b[33mtarget_model\u001b[0m=\u001b[32m'lisflood'\u001b[0m,\n",
       "            \u001b[33msupported_model_versions\u001b[0m=\u001b[1m{\u001b[0m\u001b[32m'20.10'\u001b[0m\u001b[1m}\u001b[0m,\n",
       "            \u001b[33mdownloader\u001b[0m=\u001b[1;35mGitHubDownloader\u001b[0m\u001b[1m(\u001b[0m\n",
       "                \u001b[33morg\u001b[0m=\u001b[32m'ec-jrc'\u001b[0m,\n",
       "                \u001b[33mrepo\u001b[0m=\u001b[32m'lisflood-usecases'\u001b[0m,\n",
       "                \u001b[33mbranch\u001b[0m=\u001b[32m'master'\u001b[0m,\n",
       "                \u001b[33msubfolder\u001b[0m=\u001b[32m'LF_lat_lon_UseCase'\u001b[0m\n",
       "            \u001b[1m)\u001b[0m\n",
       "        \u001b[1m)\u001b[0m,\n",
       "        \u001b[32m'pcrglobwb_rhinemeuse_30min'\u001b[0m: \u001b[1;35mParameterSet\u001b[0m\u001b[1m(\u001b[0m\n",
       "            \u001b[33mname\u001b[0m=\u001b[32m'pcrglobwb_rhinemeuse_30min'\u001b[0m,\n",
       "            \u001b[33mdirectory\u001b[0m=\u001b[1;35mPosixPath\u001b[0m\u001b[1m(\u001b[0m\u001b[32m'/home/verhoes/git/eWaterCycle/parameter-sets/pcrglobwb_rhinemeuse_30min'\u001b[0m\u001b[1m)\u001b[0m,\n",
       "            \u001b[33mconfig\u001b[0m=\u001b[1;35mPosixPath\u001b[0m\u001b[1m(\u001b[0m\u001b[32m'/home/verhoes/git/eWaterCycle/parameter-sets/pcrglobwb_rhinemeuse_30min/ini_and_batch\u001b[0m\n",
       "\u001b[32m_files/deltares_laptop/setup_natural_test.ini'\u001b[0m\u001b[1m)\u001b[0m,\n",
       "            \u001b[33mdoi\u001b[0m=\u001b[32m'https://doi.org/10.5281/zenodo.1045339'\u001b[0m,\n",
       "            \u001b[33mtarget_model\u001b[0m=\u001b[32m'pcrglobwb'\u001b[0m,\n",
       "            \u001b[33msupported_model_versions\u001b[0m=\u001b[1m{\u001b[0m\u001b[32m'setters'\u001b[0m\u001b[1m}\u001b[0m,\n",
       "            \u001b[33mdownloader\u001b[0m=\u001b[1;35mGitHubDownloader\u001b[0m\u001b[1m(\u001b[0m\n",
       "                \u001b[33morg\u001b[0m=\u001b[32m'UU-Hydro'\u001b[0m,\n",
       "                \u001b[33mrepo\u001b[0m=\u001b[32m'PCR-GLOBWB_input_example'\u001b[0m,\n",
       "                \u001b[33mbranch\u001b[0m=\u001b[32m'master'\u001b[0m,\n",
       "                \u001b[33msubfolder\u001b[0m=\u001b[32m'RhineMeuse30min'\u001b[0m\n",
       "            \u001b[1m)\u001b[0m\n",
       "        \u001b[1m)\u001b[0m,\n",
       "        \u001b[32m'wflow_rhine_sbm_nc'\u001b[0m: \u001b[1;35mParameterSet\u001b[0m\u001b[1m(\u001b[0m\n",
       "            \u001b[33mname\u001b[0m=\u001b[32m'wflow_rhine_sbm_nc'\u001b[0m,\n",
       "            \u001b[33mdirectory\u001b[0m=\u001b[1;35mPosixPath\u001b[0m\u001b[1m(\u001b[0m\u001b[32m'/home/verhoes/git/eWaterCycle/parameter-sets/wflow_rhine_sbm_nc'\u001b[0m\u001b[1m)\u001b[0m,\n",
       "            \u001b[33mconfig\u001b[0m=\u001b[1;35mPosixPath\u001b[0m\u001b[1m(\u001b[0m\u001b[32m'/home/verhoes/git/eWaterCycle/parameter-sets/wflow_rhine_sbm_nc/wflow_sbm_NC.ini'\u001b[0m\u001b[1m)\u001b[0m,\n",
       "            \u001b[33mdoi\u001b[0m=\u001b[32m'N/A'\u001b[0m,\n",
       "            \u001b[33mtarget_model\u001b[0m=\u001b[32m'wflow'\u001b[0m,\n",
       "            \u001b[33msupported_model_versions\u001b[0m=\u001b[1m{\u001b[0m\u001b[32m'2020.1.2'\u001b[0m, \u001b[32m'2020.1.3'\u001b[0m, \u001b[32m'2020.1.1'\u001b[0m\u001b[1m}\u001b[0m,\n",
       "            \u001b[33mdownloader\u001b[0m=\u001b[1;35mGitHubDownloader\u001b[0m\u001b[1m(\u001b[0m\n",
       "                \u001b[33morg\u001b[0m=\u001b[32m'openstreams'\u001b[0m,\n",
       "                \u001b[33mrepo\u001b[0m=\u001b[32m'wflow'\u001b[0m,\n",
       "                \u001b[33mbranch\u001b[0m=\u001b[32m'master'\u001b[0m,\n",
       "                \u001b[33msubfolder\u001b[0m=\u001b[32m'examples/wflow_rhine_sbm_nc'\u001b[0m\n",
       "            \u001b[1m)\u001b[0m\n",
       "        \u001b[1m)\u001b[0m,\n",
       "        \u001b[32m'lisflood_global-masked_01degree_ERA5'\u001b[0m: \u001b[1;35mParameterSet\u001b[0m\u001b[1m(\u001b[0m\n",
       "            \u001b[33mname\u001b[0m=\u001b[32m'lisflood_global-masked_01degree_ERA5'\u001b[0m,\n",
       "            \u001b[33mdirectory\u001b[0m=\u001b[1;35mPosixPath\u001b[0m\u001b[1m(\u001b[0m\u001b[32m'/home/verhoes/dcache/parameter-sets/lisflood_global-masked_01degree'\u001b[0m\u001b[1m)\u001b[0m,\n",
       "            \u001b[33mconfig\u001b[0m=\u001b[1;35mPosixPath\u001b[0m\u001b[1m(\u001b[0m\u001b[32m'/home/verhoes/dcache/parameter-sets/lisflood_global-masked_01degree/settings_lisflood\u001b[0m\n",
       "\u001b[32m_ERA5.xml'\u001b[0m\u001b[1m)\u001b[0m,\n",
       "            \u001b[33mdoi\u001b[0m=\u001b[32m'N/A'\u001b[0m,\n",
       "            \u001b[33mtarget_model\u001b[0m=\u001b[32m'lisflood'\u001b[0m,\n",
       "            \u001b[33msupported_model_versions\u001b[0m=\u001b[1m{\u001b[0m\u001b[32m'20.10'\u001b[0m\u001b[1m}\u001b[0m,\n",
       "            \u001b[33mdownloader\u001b[0m=\u001b[3;35mNone\u001b[0m\n",
       "        \u001b[1m)\u001b[0m\n",
       "    \u001b[1m}\u001b[0m,\n",
       "    \u001b[33mewatercycle_config\u001b[0m=\u001b[1;35mPosixPath\u001b[0m\u001b[1m(\u001b[0m\u001b[32m'/home/verhoes/.config/ewatercycle/ewatercycle.yaml'\u001b[0m\u001b[1m)\u001b[0m\n",
       "\u001b[1m)\u001b[0m\n"
      ]
     },
     "metadata": {},
     "output_type": "display_data"
    }
   ],
   "source": [
    "from rich import print\n",
    "\n",
    "from ewatercycle import CFG\n",
    "\n",
    "print(CFG)"
   ]
  },
  {
   "attachments": {},
   "cell_type": "markdown",
   "id": "7810ec41",
   "metadata": {},
   "source": [
    "Note: a path on the local filesystem is always denoted as \"dir\" (short for directory), instead of folder, path, or location. Especially location can be confusing in the context of geospatial modeling.\n",
    "\n",
    "It is also possible to store and load custom configuration files. For more information, see [system setup](https://ewatercycle.readthedocs.io/en/latest/system_setup.html#configure-ewatercycle)"
   ]
  },
  {
   "attachments": {},
   "cell_type": "markdown",
   "id": "aa960d4b",
   "metadata": {},
   "source": [
    "## Parameter sets\n",
    "\n",
    "Parameter sets are an essential part of many hydrological models, and for the eWaterCycle package as well."
   ]
  },
  {
   "cell_type": "code",
   "execution_count": 2,
   "id": "c46c9fc4",
   "metadata": {},
   "outputs": [],
   "source": [
    "import ewatercycle.parameter_sets"
   ]
  },
  {
   "attachments": {},
   "cell_type": "markdown",
   "id": "00129d25",
   "metadata": {},
   "source": [
    "The default [system setup](https://ewatercycle.readthedocs.io/en/latest/system_setup.html#download-example-parameter-sets) includes a number of example parameter sets that can be used directly. System administrators can also add available parameter sets that are globally availble to all users. In the future, we're hoping to add functionality to fetch new parameter sets using a DOI as well.\n",
    "\n",
    "To see the available parameter sets:"
   ]
  },
  {
   "cell_type": "code",
   "execution_count": 4,
   "id": "b1ee9e54",
   "metadata": {},
   "outputs": [
    {
     "data": {
      "text/html": [
       "<pre style=\"white-space:pre;overflow-x:auto;line-height:normal;font-family:Menlo,'DejaVu Sans Mono',consolas,'Courier New',monospace\"><span style=\"font-weight: bold\">{</span>\n",
       "    <span style=\"color: #008000; text-decoration-color: #008000\">'wflow_rhine_sbm_nc'</span>: <span style=\"color: #800080; text-decoration-color: #800080; font-weight: bold\">ParameterSet</span><span style=\"font-weight: bold\">(</span>\n",
       "        <span style=\"color: #808000; text-decoration-color: #808000\">name</span>=<span style=\"color: #008000; text-decoration-color: #008000\">'wflow_rhine_sbm_nc'</span>,\n",
       "        <span style=\"color: #808000; text-decoration-color: #808000\">directory</span>=<span style=\"color: #800080; text-decoration-color: #800080; font-weight: bold\">PosixPath</span><span style=\"font-weight: bold\">(</span><span style=\"color: #008000; text-decoration-color: #008000\">'/mnt/data/parameter-sets/wflow_rhine_sbm_nc'</span><span style=\"font-weight: bold\">)</span>,\n",
       "        <span style=\"color: #808000; text-decoration-color: #808000\">config</span>=<span style=\"color: #800080; text-decoration-color: #800080; font-weight: bold\">PosixPath</span><span style=\"font-weight: bold\">(</span><span style=\"color: #008000; text-decoration-color: #008000\">'/mnt/data/parameter-sets/wflow_rhine_sbm_nc/wflow_sbm_NC.ini'</span><span style=\"font-weight: bold\">)</span>,\n",
       "        <span style=\"color: #808000; text-decoration-color: #808000\">doi</span>=<span style=\"color: #008000; text-decoration-color: #008000\">'N/A'</span>,\n",
       "        <span style=\"color: #808000; text-decoration-color: #808000\">target_model</span>=<span style=\"color: #008000; text-decoration-color: #008000\">'wflow'</span>,\n",
       "        <span style=\"color: #808000; text-decoration-color: #808000\">supported_model_versions</span>=<span style=\"font-weight: bold\">{</span><span style=\"color: #008000; text-decoration-color: #008000\">'2020.1.1'</span>, <span style=\"color: #008000; text-decoration-color: #008000\">'2020.1.3'</span>, <span style=\"color: #008000; text-decoration-color: #008000\">'2020.1.2'</span><span style=\"font-weight: bold\">}</span>,\n",
       "        <span style=\"color: #808000; text-decoration-color: #808000\">downloader</span>=<span style=\"color: #800080; text-decoration-color: #800080; font-style: italic\">None</span>\n",
       "    <span style=\"font-weight: bold\">)</span>\n",
       "<span style=\"font-weight: bold\">}</span>\n",
       "</pre>\n"
      ],
      "text/plain": [
       "\u001b[1m{\u001b[0m\n",
       "    \u001b[32m'wflow_rhine_sbm_nc'\u001b[0m: \u001b[1;35mParameterSet\u001b[0m\u001b[1m(\u001b[0m\n",
       "        \u001b[33mname\u001b[0m=\u001b[32m'wflow_rhine_sbm_nc'\u001b[0m,\n",
       "        \u001b[33mdirectory\u001b[0m=\u001b[1;35mPosixPath\u001b[0m\u001b[1m(\u001b[0m\u001b[32m'/mnt/data/parameter-sets/wflow_rhine_sbm_nc'\u001b[0m\u001b[1m)\u001b[0m,\n",
       "        \u001b[33mconfig\u001b[0m=\u001b[1;35mPosixPath\u001b[0m\u001b[1m(\u001b[0m\u001b[32m'/mnt/data/parameter-sets/wflow_rhine_sbm_nc/wflow_sbm_NC.ini'\u001b[0m\u001b[1m)\u001b[0m,\n",
       "        \u001b[33mdoi\u001b[0m=\u001b[32m'N/A'\u001b[0m,\n",
       "        \u001b[33mtarget_model\u001b[0m=\u001b[32m'wflow'\u001b[0m,\n",
       "        \u001b[33msupported_model_versions\u001b[0m=\u001b[1m{\u001b[0m\u001b[32m'2020.1.1'\u001b[0m, \u001b[32m'2020.1.3'\u001b[0m, \u001b[32m'2020.1.2'\u001b[0m\u001b[1m}\u001b[0m,\n",
       "        \u001b[33mdownloader\u001b[0m=\u001b[3;35mNone\u001b[0m\n",
       "    \u001b[1m)\u001b[0m\n",
       "\u001b[1m}\u001b[0m\n"
      ]
     },
     "metadata": {},
     "output_type": "display_data"
    }
   ],
   "source": [
    "sets = ewatercycle.parameter_sets.available_parameter_sets()\n",
    "print(sets)"
   ]
  },
  {
   "attachments": {},
   "cell_type": "markdown",
   "id": "e3d9a094",
   "metadata": {},
   "source": [
    "Since most parameter sets are model specific, you can filter the results as well:"
   ]
  },
  {
   "cell_type": "code",
   "execution_count": 5,
   "id": "c089709e",
   "metadata": {},
   "outputs": [
    {
     "data": {
      "text/html": [
       "<pre style=\"white-space:pre;overflow-x:auto;line-height:normal;font-family:Menlo,'DejaVu Sans Mono',consolas,'Courier New',monospace\"><span style=\"font-weight: bold\">{</span>\n",
       "    <span style=\"color: #008000; text-decoration-color: #008000\">'wflow_rhine_sbm_nc'</span>: <span style=\"color: #800080; text-decoration-color: #800080; font-weight: bold\">ParameterSet</span><span style=\"font-weight: bold\">(</span>\n",
       "        <span style=\"color: #808000; text-decoration-color: #808000\">name</span>=<span style=\"color: #008000; text-decoration-color: #008000\">'wflow_rhine_sbm_nc'</span>,\n",
       "        <span style=\"color: #808000; text-decoration-color: #808000\">directory</span>=<span style=\"color: #800080; text-decoration-color: #800080; font-weight: bold\">PosixPath</span><span style=\"font-weight: bold\">(</span><span style=\"color: #008000; text-decoration-color: #008000\">'/mnt/data/parameter-sets/wflow_rhine_sbm_nc'</span><span style=\"font-weight: bold\">)</span>,\n",
       "        <span style=\"color: #808000; text-decoration-color: #808000\">config</span>=<span style=\"color: #800080; text-decoration-color: #800080; font-weight: bold\">PosixPath</span><span style=\"font-weight: bold\">(</span><span style=\"color: #008000; text-decoration-color: #008000\">'/mnt/data/parameter-sets/wflow_rhine_sbm_nc/wflow_sbm_NC.ini'</span><span style=\"font-weight: bold\">)</span>,\n",
       "        <span style=\"color: #808000; text-decoration-color: #808000\">doi</span>=<span style=\"color: #008000; text-decoration-color: #008000\">'N/A'</span>,\n",
       "        <span style=\"color: #808000; text-decoration-color: #808000\">target_model</span>=<span style=\"color: #008000; text-decoration-color: #008000\">'wflow'</span>,\n",
       "        <span style=\"color: #808000; text-decoration-color: #808000\">supported_model_versions</span>=<span style=\"font-weight: bold\">{</span><span style=\"color: #008000; text-decoration-color: #008000\">'2020.1.1'</span>, <span style=\"color: #008000; text-decoration-color: #008000\">'2020.1.3'</span>, <span style=\"color: #008000; text-decoration-color: #008000\">'2020.1.2'</span><span style=\"font-weight: bold\">}</span>,\n",
       "        <span style=\"color: #808000; text-decoration-color: #808000\">downloader</span>=<span style=\"color: #800080; text-decoration-color: #800080; font-style: italic\">None</span>\n",
       "    <span style=\"font-weight: bold\">)</span>\n",
       "<span style=\"font-weight: bold\">}</span>\n",
       "</pre>\n"
      ],
      "text/plain": [
       "\u001b[1m{\u001b[0m\n",
       "    \u001b[32m'wflow_rhine_sbm_nc'\u001b[0m: \u001b[1;35mParameterSet\u001b[0m\u001b[1m(\u001b[0m\n",
       "        \u001b[33mname\u001b[0m=\u001b[32m'wflow_rhine_sbm_nc'\u001b[0m,\n",
       "        \u001b[33mdirectory\u001b[0m=\u001b[1;35mPosixPath\u001b[0m\u001b[1m(\u001b[0m\u001b[32m'/mnt/data/parameter-sets/wflow_rhine_sbm_nc'\u001b[0m\u001b[1m)\u001b[0m,\n",
       "        \u001b[33mconfig\u001b[0m=\u001b[1;35mPosixPath\u001b[0m\u001b[1m(\u001b[0m\u001b[32m'/mnt/data/parameter-sets/wflow_rhine_sbm_nc/wflow_sbm_NC.ini'\u001b[0m\u001b[1m)\u001b[0m,\n",
       "        \u001b[33mdoi\u001b[0m=\u001b[32m'N/A'\u001b[0m,\n",
       "        \u001b[33mtarget_model\u001b[0m=\u001b[32m'wflow'\u001b[0m,\n",
       "        \u001b[33msupported_model_versions\u001b[0m=\u001b[1m{\u001b[0m\u001b[32m'2020.1.1'\u001b[0m, \u001b[32m'2020.1.3'\u001b[0m, \u001b[32m'2020.1.2'\u001b[0m\u001b[1m}\u001b[0m,\n",
       "        \u001b[33mdownloader\u001b[0m=\u001b[3;35mNone\u001b[0m\n",
       "    \u001b[1m)\u001b[0m\n",
       "\u001b[1m}\u001b[0m\n"
      ]
     },
     "metadata": {},
     "output_type": "display_data"
    }
   ],
   "source": [
    "sets = ewatercycle.parameter_sets.available_parameter_sets(target_model=\"wflow\")\n",
    "print(sets)"
   ]
  },
  {
   "attachments": {},
   "cell_type": "markdown",
   "id": "1508a346",
   "metadata": {},
   "source": [
    "Once you have found a suitable parameter set, you can load it and see some more details:"
   ]
  },
  {
   "cell_type": "code",
   "execution_count": 6,
   "id": "cfb3109e",
   "metadata": {},
   "outputs": [
    {
     "data": {
      "text/html": [
       "<pre style=\"white-space:pre;overflow-x:auto;line-height:normal;font-family:Menlo,'DejaVu Sans Mono',consolas,'Courier New',monospace\"><span style=\"color: #800080; text-decoration-color: #800080; font-weight: bold\">ParameterSet</span><span style=\"font-weight: bold\">(</span>\n",
       "    <span style=\"color: #808000; text-decoration-color: #808000\">name</span>=<span style=\"color: #008000; text-decoration-color: #008000\">'wflow_rhine_sbm_nc'</span>,\n",
       "    <span style=\"color: #808000; text-decoration-color: #808000\">directory</span>=<span style=\"color: #800080; text-decoration-color: #800080; font-weight: bold\">PosixPath</span><span style=\"font-weight: bold\">(</span><span style=\"color: #008000; text-decoration-color: #008000\">'/mnt/data/parameter-sets/wflow_rhine_sbm_nc'</span><span style=\"font-weight: bold\">)</span>,\n",
       "    <span style=\"color: #808000; text-decoration-color: #808000\">config</span>=<span style=\"color: #800080; text-decoration-color: #800080; font-weight: bold\">PosixPath</span><span style=\"font-weight: bold\">(</span><span style=\"color: #008000; text-decoration-color: #008000\">'/mnt/data/parameter-sets/wflow_rhine_sbm_nc/wflow_sbm_NC.ini'</span><span style=\"font-weight: bold\">)</span>,\n",
       "    <span style=\"color: #808000; text-decoration-color: #808000\">doi</span>=<span style=\"color: #008000; text-decoration-color: #008000\">'N/A'</span>,\n",
       "    <span style=\"color: #808000; text-decoration-color: #808000\">target_model</span>=<span style=\"color: #008000; text-decoration-color: #008000\">'wflow'</span>,\n",
       "    <span style=\"color: #808000; text-decoration-color: #808000\">supported_model_versions</span>=<span style=\"font-weight: bold\">{</span><span style=\"color: #008000; text-decoration-color: #008000\">'2020.1.1'</span>, <span style=\"color: #008000; text-decoration-color: #008000\">'2020.1.3'</span>, <span style=\"color: #008000; text-decoration-color: #008000\">'2020.1.2'</span><span style=\"font-weight: bold\">}</span>,\n",
       "    <span style=\"color: #808000; text-decoration-color: #808000\">downloader</span>=<span style=\"color: #800080; text-decoration-color: #800080; font-style: italic\">None</span>\n",
       "<span style=\"font-weight: bold\">)</span>\n",
       "</pre>\n"
      ],
      "text/plain": [
       "\u001b[1;35mParameterSet\u001b[0m\u001b[1m(\u001b[0m\n",
       "    \u001b[33mname\u001b[0m=\u001b[32m'wflow_rhine_sbm_nc'\u001b[0m,\n",
       "    \u001b[33mdirectory\u001b[0m=\u001b[1;35mPosixPath\u001b[0m\u001b[1m(\u001b[0m\u001b[32m'/mnt/data/parameter-sets/wflow_rhine_sbm_nc'\u001b[0m\u001b[1m)\u001b[0m,\n",
       "    \u001b[33mconfig\u001b[0m=\u001b[1;35mPosixPath\u001b[0m\u001b[1m(\u001b[0m\u001b[32m'/mnt/data/parameter-sets/wflow_rhine_sbm_nc/wflow_sbm_NC.ini'\u001b[0m\u001b[1m)\u001b[0m,\n",
       "    \u001b[33mdoi\u001b[0m=\u001b[32m'N/A'\u001b[0m,\n",
       "    \u001b[33mtarget_model\u001b[0m=\u001b[32m'wflow'\u001b[0m,\n",
       "    \u001b[33msupported_model_versions\u001b[0m=\u001b[1m{\u001b[0m\u001b[32m'2020.1.1'\u001b[0m, \u001b[32m'2020.1.3'\u001b[0m, \u001b[32m'2020.1.2'\u001b[0m\u001b[1m}\u001b[0m,\n",
       "    \u001b[33mdownloader\u001b[0m=\u001b[3;35mNone\u001b[0m\n",
       "\u001b[1m)\u001b[0m\n"
      ]
     },
     "metadata": {},
     "output_type": "display_data"
    }
   ],
   "source": [
    "parameter_set = sets[\"wflow_rhine_sbm_nc\"]\n",
    "print(parameter_set)"
   ]
  },
  {
   "attachments": {},
   "cell_type": "markdown",
   "id": "71afc038",
   "metadata": {},
   "source": [
    "or you can access individual attributes of the parameter sets"
   ]
  },
  {
   "cell_type": "code",
   "execution_count": 7,
   "id": "fcae4d5d",
   "metadata": {},
   "outputs": [
    {
     "data": {
      "text/plain": [
       "{'2020.1.1', '2020.1.2', '2020.1.3'}"
      ]
     },
     "execution_count": 7,
     "metadata": {},
     "output_type": "execute_result"
    }
   ],
   "source": [
    "parameter_set.supported_model_versions"
   ]
  },
  {
   "attachments": {},
   "cell_type": "markdown",
   "id": "5089109b",
   "metadata": {},
   "source": [
    "Should you wish to configure your own parameter set (e.g. for PCRGlobWB in this case), this is also possible:"
   ]
  },
  {
   "cell_type": "code",
   "execution_count": 8,
   "id": "7843755c",
   "metadata": {},
   "outputs": [],
   "source": [
    "custom_parameter_set = ewatercycle.parameter_sets.ParameterSet(\n",
    "    name=\"custom_parameter_set\",\n",
    "    directory=\"~/ewatercycle/docs/examples/parameter-sets/pcrglobwb_rhinemeuse_30min\",\n",
    "    config=\"~/ewatercycle/docs/examples/parameter-sets/pcrglobwb_rhinemeuse_30min/setup_natural_test.ini\",\n",
    "    target_model=\"pcrglobwb\",\n",
    "    doi=\"https://doi.org/10.5281/zenodo.1045339\",\n",
    "    supported_model_versions={\"setters\"},\n",
    ")"
   ]
  },
  {
   "attachments": {},
   "cell_type": "markdown",
   "id": "5d7ea27e",
   "metadata": {},
   "source": [
    "<div class=\"alert alert-info\">\n",
    "\n",
    "As you can see, an eWaterCycle parameter set is defined fully by a directory and a configuration file. The configuration file typically informs the model about the structure of the parameter set (e.g. \"what is the filename of the land use data\"). It is possible to change these settings later, when [setting up the model](#Models).\n",
    "\n",
    "</div>"
   ]
  },
  {
   "attachments": {},
   "cell_type": "markdown",
   "id": "4130c284",
   "metadata": {},
   "source": [
    "## Forcing data\n",
    "\n",
    "eWaterCycle can load or generate forcing data for a model using the `forcing` module. "
   ]
  },
  {
   "cell_type": "code",
   "execution_count": 3,
   "id": "6b7a256d",
   "metadata": {},
   "outputs": [],
   "source": [
    "import ewatercycle.forcing"
   ]
  },
  {
   "attachments": {},
   "cell_type": "markdown",
   "id": "83e418e7",
   "metadata": {},
   "source": [
    "Model specific forcing classes can be listed with"
   ]
  },
  {
   "cell_type": "code",
   "execution_count": 6,
   "id": "9624c99d",
   "metadata": {},
   "outputs": [
    {
     "data": {
      "text/html": [
       "<pre style=\"white-space:pre;overflow-x:auto;line-height:normal;font-family:Menlo,'DejaVu Sans Mono',consolas,'Courier New',monospace\">ForcingSources<span style=\"font-weight: bold\">[</span><span style=\"color: #008000; text-decoration-color: #008000\">'GenericDistributedForcing'</span>, <span style=\"color: #008000; text-decoration-color: #008000\">'GenericLumpedForcing'</span>, <span style=\"color: #008000; text-decoration-color: #008000\">'HypeForcing'</span>, <span style=\"color: #008000; text-decoration-color: #008000\">'LisfloodForcing'</span>, \n",
       "<span style=\"color: #008000; text-decoration-color: #008000\">'MarrmotForcing'</span>, <span style=\"color: #008000; text-decoration-color: #008000\">'PCRGlobWBForcing'</span>, <span style=\"color: #008000; text-decoration-color: #008000\">'WflowForcing'</span><span style=\"font-weight: bold\">]</span>\n",
       "</pre>\n"
      ],
      "text/plain": [
       "ForcingSources\u001b[1m[\u001b[0m\u001b[32m'GenericDistributedForcing'\u001b[0m, \u001b[32m'GenericLumpedForcing'\u001b[0m, \u001b[32m'HypeForcing'\u001b[0m, \u001b[32m'LisfloodForcing'\u001b[0m, \n",
       "\u001b[32m'MarrmotForcing'\u001b[0m, \u001b[32m'PCRGlobWBForcing'\u001b[0m, \u001b[32m'WflowForcing'\u001b[0m\u001b[1m]\u001b[0m\n"
      ]
     },
     "metadata": {},
     "output_type": "display_data"
    }
   ],
   "source": [
    "print(ewatercycle.forcing.sources)"
   ]
  },
  {
   "attachments": {},
   "cell_type": "markdown",
   "id": "702067fe",
   "metadata": {},
   "source": [
    "### Existing forcing from external source\n",
    "\n",
    "We first show how existing forcing data can be loaded with eWaterCycle. The wflow example parameter set already includes forcing data that was generated manually by the scientists at Deltares."
   ]
  },
  {
   "cell_type": "code",
   "execution_count": 11,
   "id": "63d34733",
   "metadata": {},
   "outputs": [
    {
     "data": {
      "text/html": [
       "<pre style=\"white-space:pre;overflow-x:auto;line-height:normal;font-family:Menlo,'DejaVu Sans Mono',consolas,'Courier New',monospace\"><span style=\"color: #800080; text-decoration-color: #800080; font-weight: bold\">WflowForcing</span><span style=\"font-weight: bold\">(</span>\n",
       "    <span style=\"color: #808000; text-decoration-color: #808000\">model</span>=<span style=\"color: #008000; text-decoration-color: #008000\">'wflow'</span>,\n",
       "    <span style=\"color: #808000; text-decoration-color: #808000\">start_time</span>=<span style=\"color: #008000; text-decoration-color: #008000\">'1991-01-01T00:00:00Z'</span>,\n",
       "    <span style=\"color: #808000; text-decoration-color: #808000\">end_time</span>=<span style=\"color: #008000; text-decoration-color: #008000\">'1991-12-31T00:00:00Z'</span>,\n",
       "    <span style=\"color: #808000; text-decoration-color: #808000\">directory</span>=<span style=\"color: #800080; text-decoration-color: #800080; font-weight: bold\">PosixPath</span><span style=\"font-weight: bold\">(</span><span style=\"color: #008000; text-decoration-color: #008000\">'/mnt/data/parameter-sets/wflow_rhine_sbm_nc'</span><span style=\"font-weight: bold\">)</span>,\n",
       "    <span style=\"color: #808000; text-decoration-color: #808000\">shape</span>=<span style=\"color: #800080; text-decoration-color: #800080; font-style: italic\">None</span>,\n",
       "    <span style=\"color: #808000; text-decoration-color: #808000\">netcdfinput</span>=<span style=\"color: #008000; text-decoration-color: #008000\">'inmaps.nc'</span>,\n",
       "    <span style=\"color: #808000; text-decoration-color: #808000\">Precipitation</span>=<span style=\"color: #008000; text-decoration-color: #008000\">'/P'</span>,\n",
       "    <span style=\"color: #808000; text-decoration-color: #808000\">EvapoTranspiration</span>=<span style=\"color: #008000; text-decoration-color: #008000\">'/PET'</span>,\n",
       "    <span style=\"color: #808000; text-decoration-color: #808000\">Temperature</span>=<span style=\"color: #008000; text-decoration-color: #008000\">'/TEMP'</span>,\n",
       "    <span style=\"color: #808000; text-decoration-color: #808000\">Inflow</span>=<span style=\"color: #800080; text-decoration-color: #800080; font-style: italic\">None</span>\n",
       "<span style=\"font-weight: bold\">)</span>\n",
       "</pre>\n"
      ],
      "text/plain": [
       "\u001b[1;35mWflowForcing\u001b[0m\u001b[1m(\u001b[0m\n",
       "    \u001b[33mmodel\u001b[0m=\u001b[32m'wflow'\u001b[0m,\n",
       "    \u001b[33mstart_time\u001b[0m=\u001b[32m'1991-01-01T00:00:00Z'\u001b[0m,\n",
       "    \u001b[33mend_time\u001b[0m=\u001b[32m'1991-12-31T00:00:00Z'\u001b[0m,\n",
       "    \u001b[33mdirectory\u001b[0m=\u001b[1;35mPosixPath\u001b[0m\u001b[1m(\u001b[0m\u001b[32m'/mnt/data/parameter-sets/wflow_rhine_sbm_nc'\u001b[0m\u001b[1m)\u001b[0m,\n",
       "    \u001b[33mshape\u001b[0m=\u001b[3;35mNone\u001b[0m,\n",
       "    \u001b[33mnetcdfinput\u001b[0m=\u001b[32m'inmaps.nc'\u001b[0m,\n",
       "    \u001b[33mPrecipitation\u001b[0m=\u001b[32m'/P'\u001b[0m,\n",
       "    \u001b[33mEvapoTranspiration\u001b[0m=\u001b[32m'/PET'\u001b[0m,\n",
       "    \u001b[33mTemperature\u001b[0m=\u001b[32m'/TEMP'\u001b[0m,\n",
       "    \u001b[33mInflow\u001b[0m=\u001b[3;35mNone\u001b[0m\n",
       "\u001b[1m)\u001b[0m\n"
      ]
     },
     "metadata": {},
     "output_type": "display_data"
    }
   ],
   "source": [
    "forcing = ewatercycle.forcing.sources[\"WflowForcing\"](\n",
    "    directory=str(parameter_set.directory),\n",
    "    start_time=\"1991-01-01T00:00:00Z\",\n",
    "    end_time=\"1991-12-31T00:00:00Z\",\n",
    "    shape=None,\n",
    "    # Additional information about the external forcing data needed for the model configuration\n",
    "    netcdfinput=\"inmaps.nc\",\n",
    "    Precipitation=\"/P\",\n",
    "    EvapoTranspiration=\"/PET\",\n",
    "    Temperature=\"/TEMP\",\n",
    ")\n",
    "print(forcing)"
   ]
  },
  {
   "attachments": {},
   "cell_type": "markdown",
   "id": "01d2b977",
   "metadata": {},
   "source": [
    "As you can see, the forcing consists of a generic part which is the same for all eWaterCycle models, and a model-specific part (`forcing_info`). If you're familiar with wflow, you might recognize that the model-specific settings map directly to wflow configuration settings. "
   ]
  },
  {
   "cell_type": "markdown",
   "id": "db31b882",
   "metadata": {},
   "source": [
    "### Generating forcing data\n",
    "\n",
    "In most cases, you will not have access to tailor-made forcing data, and manually pre-processing existing datasets can be quite a pain. eWaterCycle includes a forcing generator that can do all the required steps to go from the available datasets (ERA5, ERA-Interim, etc) to whatever format the models require. This is done through [ESMValTool recipes](https://docs.esmvaltool.org/en/latest/recipes/recipe_hydrology.html).\n",
    "\n",
    "If your model needs NetCDF files for precipitation, air temperature, minimum air temperature and maximum air temperature variables you can use the generic forcing generators:\n",
    "\n",
    "* [GenericDistributedForcing](autoapi/ewatercycle/base/forcing/index.html#ewatercycle.base.forcing.GenericDistributedForcing) for distributed models aka grid based models\n",
    "* [GenericLumpedForcing](autoapi/ewatercycle/base/forcing/index.html#ewatercycle.base.forcing.GenericLumpedForcing) for lumped models aka point based models\n",
    "\n",
    "To generate forcing for the Rhine river basin for 2001 and 2002 you can use the following code:"
   ]
  },
  {
   "cell_type": "code",
   "execution_count": 7,
   "id": "d52b0a76",
   "metadata": {},
   "outputs": [
    {
     "data": {
      "text/html": [
       "<pre style=\"white-space:pre;overflow-x:auto;line-height:normal;font-family:Menlo,'DejaVu Sans Mono',consolas,'Courier New',monospace\"><span style=\"color: #800080; text-decoration-color: #800080; font-weight: bold\">GenericDistributedForcing</span><span style=\"font-weight: bold\">(</span>\n",
       "    <span style=\"color: #808000; text-decoration-color: #808000\">start_time</span>=<span style=\"color: #008000; text-decoration-color: #008000\">'2000-01-01T00:00:00Z'</span>,\n",
       "    <span style=\"color: #808000; text-decoration-color: #808000\">end_time</span>=<span style=\"color: #008000; text-decoration-color: #008000\">'2001-01-01T00:00:00Z'</span>,\n",
       "    <span style=\"color: #808000; text-decoration-color: #808000\">directory</span>=<span style=\"color: #800080; text-decoration-color: #800080; font-weight: bold\">PosixPath</span><span style=\"font-weight: bold\">(</span><span style=\"color: #008000; text-decoration-color: #008000\">'/home/verhoes/git/eWaterCycle/ewatercycle/docs/esmvaltool_output/ewcrepnjk26_5n_20230904_0</span>\n",
       "<span style=\"color: #008000; text-decoration-color: #008000\">91856/work/diagnostic/script'</span><span style=\"font-weight: bold\">)</span>,\n",
       "    <span style=\"color: #808000; text-decoration-color: #808000\">shape</span>=<span style=\"color: #800080; text-decoration-color: #800080; font-weight: bold\">PosixPath</span><span style=\"font-weight: bold\">(</span><span style=\"color: #008000; text-decoration-color: #008000\">'/home/verhoes/git/eWaterCycle/ewatercycle/src/ewatercycle/testing/data/Rhine/Rhine.shp'</span><span style=\"font-weight: bold\">)</span>,\n",
       "    <span style=\"color: #808000; text-decoration-color: #808000\">pr</span>=<span style=\"color: #008000; text-decoration-color: #008000\">'OBS6_ERA5_reanaly_1_day_pr_2000-2001.nc'</span>,\n",
       "    <span style=\"color: #808000; text-decoration-color: #808000\">tas</span>=<span style=\"color: #008000; text-decoration-color: #008000\">'OBS6_ERA5_reanaly_1_day_tas_2000-2001.nc'</span>,\n",
       "    <span style=\"color: #808000; text-decoration-color: #808000\">tasmin</span>=<span style=\"color: #008000; text-decoration-color: #008000\">'OBS6_ERA5_reanaly_1_day_tasmin_2000-2001.nc'</span>,\n",
       "    <span style=\"color: #808000; text-decoration-color: #808000\">tasmax</span>=<span style=\"color: #008000; text-decoration-color: #008000\">'OBS6_ERA5_reanaly_1_day_tasmax_2000-2001.nc'</span>\n",
       "<span style=\"font-weight: bold\">)</span>\n",
       "</pre>\n"
      ],
      "text/plain": [
       "\u001b[1;35mGenericDistributedForcing\u001b[0m\u001b[1m(\u001b[0m\n",
       "    \u001b[33mstart_time\u001b[0m=\u001b[32m'2000-01-01T00:00:00Z'\u001b[0m,\n",
       "    \u001b[33mend_time\u001b[0m=\u001b[32m'2001-01-01T00:00:00Z'\u001b[0m,\n",
       "    \u001b[33mdirectory\u001b[0m=\u001b[1;35mPosixPath\u001b[0m\u001b[1m(\u001b[0m\u001b[32m'/home/verhoes/git/eWaterCycle/ewatercycle/docs/esmvaltool_output/ewcrepnjk26_5n_20230904_0\u001b[0m\n",
       "\u001b[32m91856/work/diagnostic/script'\u001b[0m\u001b[1m)\u001b[0m,\n",
       "    \u001b[33mshape\u001b[0m=\u001b[1;35mPosixPath\u001b[0m\u001b[1m(\u001b[0m\u001b[32m'/home/verhoes/git/eWaterCycle/ewatercycle/src/ewatercycle/testing/data/Rhine/Rhine.shp'\u001b[0m\u001b[1m)\u001b[0m,\n",
       "    \u001b[33mpr\u001b[0m=\u001b[32m'OBS6_ERA5_reanaly_1_day_pr_2000-2001.nc'\u001b[0m,\n",
       "    \u001b[33mtas\u001b[0m=\u001b[32m'OBS6_ERA5_reanaly_1_day_tas_2000-2001.nc'\u001b[0m,\n",
       "    \u001b[33mtasmin\u001b[0m=\u001b[32m'OBS6_ERA5_reanaly_1_day_tasmin_2000-2001.nc'\u001b[0m,\n",
       "    \u001b[33mtasmax\u001b[0m=\u001b[32m'OBS6_ERA5_reanaly_1_day_tasmax_2000-2001.nc'\u001b[0m\n",
       "\u001b[1m)\u001b[0m\n"
      ]
     },
     "metadata": {},
     "output_type": "display_data"
    }
   ],
   "source": [
    "from ewatercycle.testing.fixtures import rhine_shape\n",
    "\n",
    "shape = rhine_shape()\n",
    "forcing = ewatercycle.forcing.sources[\"GenericDistributedForcing\"].generate(\n",
    "    dataset=\"ERA5\",\n",
    "    start_time=\"2000-01-01T00:00:00Z\",\n",
    "    end_time=\"2001-01-01T00:00:00Z\",\n",
    "    shape=shape.absolute(),\n",
    ")\n",
    "print(forcing)"
   ]
  },
  {
   "cell_type": "markdown",
   "id": "6805235d",
   "metadata": {},
   "source": [
    "For some models (e.g. lisflood) additional computations are done, as some steps require data and/or code that is not available to ESMValTool. Apart from some standard parameters (start time, datasets, etc.), the forcing generator sometimes requires additional model-specific options. For our wflow example case, we need to pass the DEM file to the ESMValTool recipe as well. All model-specific options are listed in their [documentation](https://ewatercycle.readthedocs.io/en/latest/plugins.html)."
   ]
  },
  {
   "attachments": {},
   "cell_type": "markdown",
   "id": "c9d6d040",
   "metadata": {},
   "source": [
    "<div class=\"alert alert-info\">\n",
    "<p>Current forcing generation dataset sources</p>\n",
    "    \n",
    "<p>eWaterCycle uses ESMValTool to generate forcing data. You can generate forcing from pre-defined `ERA5` and `ERA-Interim` datasets. There is also support for generating forcing from datasets on [ESGF](https://esgf.llnl.gov/) by supplying a [Dataset object](autoapi/ewatercycle/esmvaltool/models/index.html#ewatercycle.esmvaltool.models.Dataset) to the :py:func:`ewatercycle.base.forcing.Defaultforcing.generate` method.</p>\n",
    "</div>"
   ]
  },
  {
   "cell_type": "code",
   "execution_count": 12,
   "id": "e0df94ca",
   "metadata": {
    "scrolled": true,
    "tags": []
   },
   "outputs": [],
   "source": [
    "generated_forcing = ewatercycle.forcing.sources[\"WflowForcing\"].generate(\n",
    "    dataset=\"ERA5\",\n",
    "    start_time=\"1990-01-01T00:00:00Z\",\n",
    "    end_time=\"1990-01-31T00:00:00Z\",\n",
    "    shape=\"~/ewatercycle/docs/examples/data/Rhine/Rhine.shp\",\n",
    "    dem_file=f\"{parameter_set.directory}/staticmaps/wflow_dem.map\",\n",
    ")\n",
    "print(generated_forcing)"
   ]
  },
  {
   "attachments": {},
   "cell_type": "markdown",
   "id": "d01120c6",
   "metadata": {},
   "source": [
    "Generated forcing is automatically saved to the ESMValTool output directory. A `yaml` file is stored there as well, such that you can easily reload the forcing later without having to generate it again."
   ]
  },
  {
   "attachments": {},
   "cell_type": "markdown",
   "id": "2e0f0c27",
   "metadata": {
    "tags": []
   },
   "source": [
    "`ewatercycle_forcing.yaml`:\n",
    "\n",
    "```yaml\n",
    "!WflowForcing\n",
    "start_time: '1990-01-01T00:00:00Z'\n",
    "end_time: '1990-12-31T00:00:00Z'\n",
    "shape:\n",
    "netcdfinput: wflow_ERA5_Rhine_1990_1990.nc\n",
    "Precipitation: /pr\n",
    "EvapoTranspiration: /pet\n",
    "Temperature: /tas\n",
    "Inflow:\n",
    "```"
   ]
  },
  {
   "cell_type": "code",
   "execution_count": 13,
   "id": "9a47804f",
   "metadata": {
    "tags": []
   },
   "outputs": [],
   "source": [
    "reloaded_forcing = ewatercycle.forcing.sources[\"WflowForcing\"].load(\n",
    "    directory=\"/home/vagrant/ewatercycle/docs/esmvaltool_output/tmptj2kvm8irecipe_wflow_20230627_140104/work/wflow_daily/script\"\n",
    ")"
   ]
  },
  {
   "attachments": {},
   "cell_type": "markdown",
   "id": "106d4a56",
   "metadata": {},
   "source": [
    "## Models"
   ]
  },
  {
   "cell_type": "code",
   "execution_count": 14,
   "id": "cb1ac94b",
   "metadata": {},
   "outputs": [],
   "source": [
    "import ewatercycle.models"
   ]
  },
  {
   "attachments": {},
   "cell_type": "markdown",
   "id": "ef669930",
   "metadata": {
    "tags": []
   },
   "source": [
    "eWaterCycle currently integrates the following models:\n",
    "\n",
    "* [wflow](https://ewatercycle.readthedocs.io/en/latest/examples/wflow.html)\n",
    "* [pcrglobwb](https://ewatercycle.readthedocs.io/en/latest/examples/pcrglobwb.html)\n",
    "* [marrmot M01](https://ewatercycle.readthedocs.io/en/latest/examples/marrmotm01.html)\n",
    "* [marrmot M14](https://ewatercycle.readthedocs.io/en/latest/examples/marrmotm14.html)\n",
    "* [lisflood](https://ewatercycle.readthedocs.io/en/latest/examples/lisflood.html)\n",
    "\n",
    "and we're expecting to add more models soon. The process for adding new models is documented in [Adding models](https://ewatercycle.readthedocs.io/en/latest/adding_models.html)\n",
    "\n",
    "### Model versions\n",
    "To help with reproducibility the version of a model must always be specified when creating a model instance. The available versions can be seen like so:"
   ]
  },
  {
   "cell_type": "code",
   "execution_count": 15,
   "id": "c508229f",
   "metadata": {
    "tags": []
   },
   "outputs": [
    {
     "data": {
      "text/plain": [
       "('2020.1.1', '2020.1.2', '2020.1.3')"
      ]
     },
     "execution_count": 15,
     "metadata": {},
     "output_type": "execute_result"
    }
   ],
   "source": [
    "import ewatercycle.models\n",
    "\n",
    "ewatercycle.models.Wflow.available_versions"
   ]
  },
  {
   "attachments": {},
   "cell_type": "markdown",
   "id": "04d51cee",
   "metadata": {},
   "source": [
    "### Creating, setting up, and initializing a model instance\n",
    "\n",
    "The way models are created, setup, and initialized matches [PyMT](https://pymt.readthedocs.io/en/latest/quickstart.html#run-a-model) as much as possible.\n",
    "There are three steps:\n",
    "\n",
    "- instantiate (create a python object that represents the model)\n",
    "- setup (create a container with the right model, directories, and configuration files)\n",
    "- initialize (start the model inside the container)\n",
    "\n",
    "To a new user, these steps can be confusing as they seem to be related to \"starting a model\". However, you will see that there are some useful things that we can do in between each of these steps. As a side effect, splitting these steps also makes it easier to run a lot of models in parallel (e.g. for calibration). Experience tells us that you will quickly get used to it. \n",
    "\n",
    "When a model instance is created, we have to specify the version and pass in a suitable parameter set and forcing. "
   ]
  },
  {
   "cell_type": "code",
   "execution_count": 16,
   "id": "68325e78",
   "metadata": {},
   "outputs": [
    {
     "name": "stderr",
     "output_type": "stream",
     "text": [
      "WARNING:ewatercycle.plugins.wflow.model:Config file from parameter set is missing API section, adding section\n",
      "WARNING:ewatercycle.plugins.wflow.model:Config file from parameter set is missing RiverRunoff option in API section, added it with value '2, m/s option'\n"
     ]
    }
   ],
   "source": [
    "model_instance = ewatercycle.models.Wflow(\n",
    "    version=\"2020.1.3\", parameter_set=parameter_set, forcing=forcing\n",
    ")"
   ]
  },
  {
   "attachments": {},
   "cell_type": "markdown",
   "id": "5392967b",
   "metadata": {},
   "source": [
    "In some specific cases the parameter set (e.g. for marrmot) or the forcing (e.g. when it is already included in the parameter set) is not needed.\n",
    "\n",
    "Most models have a variety of parameters that can be set. An opiniated subset of these parameters is exposed through the eWaterCycle API. We focus on those settings that are relevant from a scientific point of view and prefer to hide technical settings. These parameters and their default values can be inspected as follows:"
   ]
  },
  {
   "cell_type": "code",
   "execution_count": 17,
   "id": "45b31a03",
   "metadata": {},
   "outputs": [
    {
     "data": {
      "text/plain": [
       "[('start_time', '1991-01-01T00:00:00Z'), ('end_time', '1991-12-31T00:00:00Z')]"
      ]
     },
     "execution_count": 17,
     "metadata": {},
     "output_type": "execute_result"
    }
   ],
   "source": [
    "model_instance.parameters"
   ]
  },
  {
   "attachments": {},
   "cell_type": "markdown",
   "id": "283d23db",
   "metadata": {},
   "source": [
    "The start date and end date are automatically set based on the forcing data. \n",
    "\n",
    "Alternative values for each of these parameters can be passed on to the setup function:"
   ]
  },
  {
   "cell_type": "code",
   "execution_count": 18,
   "id": "d0d20ed8",
   "metadata": {},
   "outputs": [],
   "source": [
    "cfg_file, cfg_dir = model_instance.setup(end_time=\"1991-12-15T00:00:00Z\")"
   ]
  },
  {
   "attachments": {},
   "cell_type": "markdown",
   "id": "55358151",
   "metadata": {},
   "source": [
    "The `setup` function does the following:\n",
    "\n",
    "- Create a config directory which serves as the current working directory for the mode instance\n",
    "- Creates a configuration file in this directory based on the settings\n",
    "- Starts a container with the requested model version and access to the forcing and parameter sets.\n",
    "- Input is mounted read-only, the working directory is mounted read-write (if a model cannot cope with inputs outside the working directory, the input will be copied).\n",
    "- Setup will complain about incompatible model version, parameter_set, and forcing.\n",
    "\n",
    "After `setup` but before `initialize` everything is good-to-go, but nothing has been done yet. This is\n",
    "an opportunity to inspect the generated configuration file, and make any changes manually that could not be\n",
    "done through the setup method. \n",
    "\n",
    "To modify the config file: print the path, open it in an editor, and save:"
   ]
  },
  {
   "cell_type": "code",
   "execution_count": 19,
   "id": "84115f07-1e56-4316-8033-8afdb062a074",
   "metadata": {},
   "outputs": [
    {
     "data": {
      "text/plain": [
       "PosixPath('/home/vagrant/ewatercycle/docs/wflow_20230705_085456')"
      ]
     },
     "execution_count": 19,
     "metadata": {},
     "output_type": "execute_result"
    }
   ],
   "source": [
    "model_instance.work_dir"
   ]
  },
  {
   "cell_type": "code",
   "execution_count": 20,
   "id": "c1103c60-acfd-4d85-a963-1dfda63dff05",
   "metadata": {},
   "outputs": [
    {
     "data": {
      "text/html": [
       "<pre style=\"white-space:pre;overflow-x:auto;line-height:normal;font-family:Menlo,'DejaVu Sans Mono',consolas,'Courier New',monospace\"><span style=\"color: #800080; text-decoration-color: #800080\">/home/vagrant/ewatercycle/docs/wflow_20230705_085456/</span><span style=\"color: #ff00ff; text-decoration-color: #ff00ff\">wflow_ewatercycle.ini</span>\n",
       "</pre>\n"
      ],
      "text/plain": [
       "\u001b[35m/home/vagrant/ewatercycle/docs/wflow_20230705_085456/\u001b[0m\u001b[95mwflow_ewatercycle.ini\u001b[0m\n"
      ]
     },
     "metadata": {},
     "output_type": "display_data"
    }
   ],
   "source": [
    "print(cfg_file)"
   ]
  },
  {
   "attachments": {},
   "cell_type": "markdown",
   "id": "17fce55e",
   "metadata": {},
   "source": [
    "Once you're happy with the setup, it is time to initialize the model. You'll have to pass in the config file, even if you've not made any changes:"
   ]
  },
  {
   "cell_type": "code",
   "execution_count": 21,
   "id": "37029f39",
   "metadata": {},
   "outputs": [],
   "source": [
    "model_instance.initialize(cfg_file)  # for some models, this step can take some time"
   ]
  },
  {
   "attachments": {},
   "cell_type": "markdown",
   "id": "57092c12",
   "metadata": {},
   "source": [
    "### Running (and interacting with) a model\n",
    "\n",
    "A model instance can be controlled by calling functions for running a single timestep (`update`), setting variables, and getting variables. Besides the rather lowlevel BMI functions like `get_value` and `set_value`, we also added convenience functions such as `get_value_as_xarray`, `get_value_at_coords`, `time_as_datetime`, and `time_as_isostr`. These make it even more pleasant to interact with the model.\n",
    "\n",
    "For example, to run our model instance from start to finish, fetching the value of variable `discharge` at the location of a grdc station:"
   ]
  },
  {
   "cell_type": "code",
   "execution_count": 22,
   "id": "e04303a6",
   "metadata": {},
   "outputs": [],
   "source": [
    "grdc_latitude = 51.756918\n",
    "grdc_longitude = 6.395395"
   ]
  },
  {
   "cell_type": "code",
   "execution_count": 23,
   "id": "9af1524b",
   "metadata": {},
   "outputs": [
    {
     "data": {
      "text/html": [
       "<pre style=\"white-space:pre;overflow-x:auto;line-height:normal;font-family:Menlo,'DejaVu Sans Mono',consolas,'Courier New',monospace\"><span style=\"color: #008080; text-decoration-color: #008080; font-weight: bold\">1991</span>-<span style=\"color: #008080; text-decoration-color: #008080; font-weight: bold\">01</span>-01T<span style=\"color: #00ff00; text-decoration-color: #00ff00; font-weight: bold\">00:00:00</span>Z\r\n",
       "</pre>\n"
      ],
      "text/plain": [
       "\u001b[1;36m1991\u001b[0m-\u001b[1;36m01\u001b[0m-01T\u001b[1;92m00:00:00\u001b[0mZ\r"
      ]
     },
     "metadata": {},
     "output_type": "display_data"
    },
    {
     "data": {
      "text/html": [
       "<pre style=\"white-space:pre;overflow-x:auto;line-height:normal;font-family:Menlo,'DejaVu Sans Mono',consolas,'Courier New',monospace\"><span style=\"color: #008080; text-decoration-color: #008080; font-weight: bold\">1991</span>-<span style=\"color: #008080; text-decoration-color: #008080; font-weight: bold\">01</span>-02T<span style=\"color: #00ff00; text-decoration-color: #00ff00; font-weight: bold\">00:00:00</span>Z\r\n",
       "</pre>\n"
      ],
      "text/plain": [
       "\u001b[1;36m1991\u001b[0m-\u001b[1;36m01\u001b[0m-02T\u001b[1;92m00:00:00\u001b[0mZ\r"
      ]
     },
     "metadata": {},
     "output_type": "display_data"
    },
    {
     "data": {
      "text/html": [
       "<pre style=\"white-space:pre;overflow-x:auto;line-height:normal;font-family:Menlo,'DejaVu Sans Mono',consolas,'Courier New',monospace\"><span style=\"color: #008080; text-decoration-color: #008080; font-weight: bold\">1991</span>-<span style=\"color: #008080; text-decoration-color: #008080; font-weight: bold\">01</span>-03T<span style=\"color: #00ff00; text-decoration-color: #00ff00; font-weight: bold\">00:00:00</span>Z\r\n",
       "</pre>\n"
      ],
      "text/plain": [
       "\u001b[1;36m1991\u001b[0m-\u001b[1;36m01\u001b[0m-03T\u001b[1;92m00:00:00\u001b[0mZ\r"
      ]
     },
     "metadata": {},
     "output_type": "display_data"
    },
    {
     "data": {
      "text/html": [
       "<pre style=\"white-space:pre;overflow-x:auto;line-height:normal;font-family:Menlo,'DejaVu Sans Mono',consolas,'Courier New',monospace\"><span style=\"color: #008080; text-decoration-color: #008080; font-weight: bold\">1991</span>-<span style=\"color: #008080; text-decoration-color: #008080; font-weight: bold\">01</span>-04T<span style=\"color: #00ff00; text-decoration-color: #00ff00; font-weight: bold\">00:00:00</span>Z\r\n",
       "</pre>\n"
      ],
      "text/plain": [
       "\u001b[1;36m1991\u001b[0m-\u001b[1;36m01\u001b[0m-04T\u001b[1;92m00:00:00\u001b[0mZ\r"
      ]
     },
     "metadata": {},
     "output_type": "display_data"
    },
    {
     "data": {
      "text/html": [
       "<pre style=\"white-space:pre;overflow-x:auto;line-height:normal;font-family:Menlo,'DejaVu Sans Mono',consolas,'Courier New',monospace\"><span style=\"color: #008080; text-decoration-color: #008080; font-weight: bold\">1991</span>-<span style=\"color: #008080; text-decoration-color: #008080; font-weight: bold\">01</span>-05T<span style=\"color: #00ff00; text-decoration-color: #00ff00; font-weight: bold\">00:00:00</span>Z\r\n",
       "</pre>\n"
      ],
      "text/plain": [
       "\u001b[1;36m1991\u001b[0m-\u001b[1;36m01\u001b[0m-05T\u001b[1;92m00:00:00\u001b[0mZ\r"
      ]
     },
     "metadata": {},
     "output_type": "display_data"
    },
    {
     "data": {
      "text/html": [
       "<pre style=\"white-space:pre;overflow-x:auto;line-height:normal;font-family:Menlo,'DejaVu Sans Mono',consolas,'Courier New',monospace\"><span style=\"color: #008080; text-decoration-color: #008080; font-weight: bold\">1991</span>-<span style=\"color: #008080; text-decoration-color: #008080; font-weight: bold\">01</span>-06T<span style=\"color: #00ff00; text-decoration-color: #00ff00; font-weight: bold\">00:00:00</span>Z\r\n",
       "</pre>\n"
      ],
      "text/plain": [
       "\u001b[1;36m1991\u001b[0m-\u001b[1;36m01\u001b[0m-06T\u001b[1;92m00:00:00\u001b[0mZ\r"
      ]
     },
     "metadata": {},
     "output_type": "display_data"
    },
    {
     "data": {
      "text/html": [
       "<pre style=\"white-space:pre;overflow-x:auto;line-height:normal;font-family:Menlo,'DejaVu Sans Mono',consolas,'Courier New',monospace\"><span style=\"color: #008080; text-decoration-color: #008080; font-weight: bold\">1991</span>-<span style=\"color: #008080; text-decoration-color: #008080; font-weight: bold\">01</span>-07T<span style=\"color: #00ff00; text-decoration-color: #00ff00; font-weight: bold\">00:00:00</span>Z\r\n",
       "</pre>\n"
      ],
      "text/plain": [
       "\u001b[1;36m1991\u001b[0m-\u001b[1;36m01\u001b[0m-07T\u001b[1;92m00:00:00\u001b[0mZ\r"
      ]
     },
     "metadata": {},
     "output_type": "display_data"
    },
    {
     "data": {
      "text/html": [
       "<pre style=\"white-space:pre;overflow-x:auto;line-height:normal;font-family:Menlo,'DejaVu Sans Mono',consolas,'Courier New',monospace\"><span style=\"color: #008080; text-decoration-color: #008080; font-weight: bold\">1991</span>-<span style=\"color: #008080; text-decoration-color: #008080; font-weight: bold\">01</span>-08T<span style=\"color: #00ff00; text-decoration-color: #00ff00; font-weight: bold\">00:00:00</span>Z\r\n",
       "</pre>\n"
      ],
      "text/plain": [
       "\u001b[1;36m1991\u001b[0m-\u001b[1;36m01\u001b[0m-08T\u001b[1;92m00:00:00\u001b[0mZ\r"
      ]
     },
     "metadata": {},
     "output_type": "display_data"
    },
    {
     "data": {
      "text/html": [
       "<pre style=\"white-space:pre;overflow-x:auto;line-height:normal;font-family:Menlo,'DejaVu Sans Mono',consolas,'Courier New',monospace\"><span style=\"color: #008080; text-decoration-color: #008080; font-weight: bold\">1991</span>-<span style=\"color: #008080; text-decoration-color: #008080; font-weight: bold\">01</span>-09T<span style=\"color: #00ff00; text-decoration-color: #00ff00; font-weight: bold\">00:00:00</span>Z\r\n",
       "</pre>\n"
      ],
      "text/plain": [
       "\u001b[1;36m1991\u001b[0m-\u001b[1;36m01\u001b[0m-09T\u001b[1;92m00:00:00\u001b[0mZ\r"
      ]
     },
     "metadata": {},
     "output_type": "display_data"
    },
    {
     "data": {
      "text/html": [
       "<pre style=\"white-space:pre;overflow-x:auto;line-height:normal;font-family:Menlo,'DejaVu Sans Mono',consolas,'Courier New',monospace\"><span style=\"color: #008080; text-decoration-color: #008080; font-weight: bold\">1991</span>-<span style=\"color: #008080; text-decoration-color: #008080; font-weight: bold\">01</span>-10T<span style=\"color: #00ff00; text-decoration-color: #00ff00; font-weight: bold\">00:00:00</span>Z\r\n",
       "</pre>\n"
      ],
      "text/plain": [
       "\u001b[1;36m1991\u001b[0m-\u001b[1;36m01\u001b[0m-10T\u001b[1;92m00:00:00\u001b[0mZ\r"
      ]
     },
     "metadata": {},
     "output_type": "display_data"
    },
    {
     "data": {
      "text/html": [
       "<pre style=\"white-space:pre;overflow-x:auto;line-height:normal;font-family:Menlo,'DejaVu Sans Mono',consolas,'Courier New',monospace\"><span style=\"color: #008080; text-decoration-color: #008080; font-weight: bold\">1991</span>-<span style=\"color: #008080; text-decoration-color: #008080; font-weight: bold\">01</span>-11T<span style=\"color: #00ff00; text-decoration-color: #00ff00; font-weight: bold\">00:00:00</span>Z\r\n",
       "</pre>\n"
      ],
      "text/plain": [
       "\u001b[1;36m1991\u001b[0m-\u001b[1;36m01\u001b[0m-11T\u001b[1;92m00:00:00\u001b[0mZ\r"
      ]
     },
     "metadata": {},
     "output_type": "display_data"
    },
    {
     "data": {
      "text/html": [
       "<pre style=\"white-space:pre;overflow-x:auto;line-height:normal;font-family:Menlo,'DejaVu Sans Mono',consolas,'Courier New',monospace\"><span style=\"color: #008080; text-decoration-color: #008080; font-weight: bold\">1991</span>-<span style=\"color: #008080; text-decoration-color: #008080; font-weight: bold\">01</span>-12T<span style=\"color: #00ff00; text-decoration-color: #00ff00; font-weight: bold\">00:00:00</span>Z\r\n",
       "</pre>\n"
      ],
      "text/plain": [
       "\u001b[1;36m1991\u001b[0m-\u001b[1;36m01\u001b[0m-12T\u001b[1;92m00:00:00\u001b[0mZ\r"
      ]
     },
     "metadata": {},
     "output_type": "display_data"
    },
    {
     "data": {
      "text/html": [
       "<pre style=\"white-space:pre;overflow-x:auto;line-height:normal;font-family:Menlo,'DejaVu Sans Mono',consolas,'Courier New',monospace\"><span style=\"color: #008080; text-decoration-color: #008080; font-weight: bold\">1991</span>-<span style=\"color: #008080; text-decoration-color: #008080; font-weight: bold\">01</span>-13T<span style=\"color: #00ff00; text-decoration-color: #00ff00; font-weight: bold\">00:00:00</span>Z\r\n",
       "</pre>\n"
      ],
      "text/plain": [
       "\u001b[1;36m1991\u001b[0m-\u001b[1;36m01\u001b[0m-13T\u001b[1;92m00:00:00\u001b[0mZ\r"
      ]
     },
     "metadata": {},
     "output_type": "display_data"
    },
    {
     "data": {
      "text/html": [
       "<pre style=\"white-space:pre;overflow-x:auto;line-height:normal;font-family:Menlo,'DejaVu Sans Mono',consolas,'Courier New',monospace\"><span style=\"color: #008080; text-decoration-color: #008080; font-weight: bold\">1991</span>-<span style=\"color: #008080; text-decoration-color: #008080; font-weight: bold\">01</span>-14T<span style=\"color: #00ff00; text-decoration-color: #00ff00; font-weight: bold\">00:00:00</span>Z\r\n",
       "</pre>\n"
      ],
      "text/plain": [
       "\u001b[1;36m1991\u001b[0m-\u001b[1;36m01\u001b[0m-14T\u001b[1;92m00:00:00\u001b[0mZ\r"
      ]
     },
     "metadata": {},
     "output_type": "display_data"
    },
    {
     "data": {
      "text/html": [
       "<pre style=\"white-space:pre;overflow-x:auto;line-height:normal;font-family:Menlo,'DejaVu Sans Mono',consolas,'Courier New',monospace\"><span style=\"color: #008080; text-decoration-color: #008080; font-weight: bold\">1991</span>-<span style=\"color: #008080; text-decoration-color: #008080; font-weight: bold\">01</span>-15T<span style=\"color: #00ff00; text-decoration-color: #00ff00; font-weight: bold\">00:00:00</span>Z\r\n",
       "</pre>\n"
      ],
      "text/plain": [
       "\u001b[1;36m1991\u001b[0m-\u001b[1;36m01\u001b[0m-15T\u001b[1;92m00:00:00\u001b[0mZ\r"
      ]
     },
     "metadata": {},
     "output_type": "display_data"
    },
    {
     "data": {
      "text/html": [
       "<pre style=\"white-space:pre;overflow-x:auto;line-height:normal;font-family:Menlo,'DejaVu Sans Mono',consolas,'Courier New',monospace\"><span style=\"color: #008080; text-decoration-color: #008080; font-weight: bold\">1991</span>-<span style=\"color: #008080; text-decoration-color: #008080; font-weight: bold\">01</span>-16T<span style=\"color: #00ff00; text-decoration-color: #00ff00; font-weight: bold\">00:00:00</span>Z\r\n",
       "</pre>\n"
      ],
      "text/plain": [
       "\u001b[1;36m1991\u001b[0m-\u001b[1;36m01\u001b[0m-16T\u001b[1;92m00:00:00\u001b[0mZ\r"
      ]
     },
     "metadata": {},
     "output_type": "display_data"
    },
    {
     "data": {
      "text/html": [
       "<pre style=\"white-space:pre;overflow-x:auto;line-height:normal;font-family:Menlo,'DejaVu Sans Mono',consolas,'Courier New',monospace\"><span style=\"color: #008080; text-decoration-color: #008080; font-weight: bold\">1991</span>-<span style=\"color: #008080; text-decoration-color: #008080; font-weight: bold\">01</span>-17T<span style=\"color: #00ff00; text-decoration-color: #00ff00; font-weight: bold\">00:00:00</span>Z\r\n",
       "</pre>\n"
      ],
      "text/plain": [
       "\u001b[1;36m1991\u001b[0m-\u001b[1;36m01\u001b[0m-17T\u001b[1;92m00:00:00\u001b[0mZ\r"
      ]
     },
     "metadata": {},
     "output_type": "display_data"
    },
    {
     "data": {
      "text/html": [
       "<pre style=\"white-space:pre;overflow-x:auto;line-height:normal;font-family:Menlo,'DejaVu Sans Mono',consolas,'Courier New',monospace\"><span style=\"color: #008080; text-decoration-color: #008080; font-weight: bold\">1991</span>-<span style=\"color: #008080; text-decoration-color: #008080; font-weight: bold\">01</span>-18T<span style=\"color: #00ff00; text-decoration-color: #00ff00; font-weight: bold\">00:00:00</span>Z\r\n",
       "</pre>\n"
      ],
      "text/plain": [
       "\u001b[1;36m1991\u001b[0m-\u001b[1;36m01\u001b[0m-18T\u001b[1;92m00:00:00\u001b[0mZ\r"
      ]
     },
     "metadata": {},
     "output_type": "display_data"
    },
    {
     "data": {
      "text/html": [
       "<pre style=\"white-space:pre;overflow-x:auto;line-height:normal;font-family:Menlo,'DejaVu Sans Mono',consolas,'Courier New',monospace\"><span style=\"color: #008080; text-decoration-color: #008080; font-weight: bold\">1991</span>-<span style=\"color: #008080; text-decoration-color: #008080; font-weight: bold\">01</span>-19T<span style=\"color: #00ff00; text-decoration-color: #00ff00; font-weight: bold\">00:00:00</span>Z\r\n",
       "</pre>\n"
      ],
      "text/plain": [
       "\u001b[1;36m1991\u001b[0m-\u001b[1;36m01\u001b[0m-19T\u001b[1;92m00:00:00\u001b[0mZ\r"
      ]
     },
     "metadata": {},
     "output_type": "display_data"
    },
    {
     "data": {
      "text/html": [
       "<pre style=\"white-space:pre;overflow-x:auto;line-height:normal;font-family:Menlo,'DejaVu Sans Mono',consolas,'Courier New',monospace\"><span style=\"color: #008080; text-decoration-color: #008080; font-weight: bold\">1991</span>-<span style=\"color: #008080; text-decoration-color: #008080; font-weight: bold\">01</span>-20T<span style=\"color: #00ff00; text-decoration-color: #00ff00; font-weight: bold\">00:00:00</span>Z\r\n",
       "</pre>\n"
      ],
      "text/plain": [
       "\u001b[1;36m1991\u001b[0m-\u001b[1;36m01\u001b[0m-20T\u001b[1;92m00:00:00\u001b[0mZ\r"
      ]
     },
     "metadata": {},
     "output_type": "display_data"
    },
    {
     "data": {
      "text/html": [
       "<pre style=\"white-space:pre;overflow-x:auto;line-height:normal;font-family:Menlo,'DejaVu Sans Mono',consolas,'Courier New',monospace\"><span style=\"color: #008080; text-decoration-color: #008080; font-weight: bold\">1991</span>-<span style=\"color: #008080; text-decoration-color: #008080; font-weight: bold\">01</span>-21T<span style=\"color: #00ff00; text-decoration-color: #00ff00; font-weight: bold\">00:00:00</span>Z\r\n",
       "</pre>\n"
      ],
      "text/plain": [
       "\u001b[1;36m1991\u001b[0m-\u001b[1;36m01\u001b[0m-21T\u001b[1;92m00:00:00\u001b[0mZ\r"
      ]
     },
     "metadata": {},
     "output_type": "display_data"
    },
    {
     "data": {
      "text/html": [
       "<pre style=\"white-space:pre;overflow-x:auto;line-height:normal;font-family:Menlo,'DejaVu Sans Mono',consolas,'Courier New',monospace\"><span style=\"color: #008080; text-decoration-color: #008080; font-weight: bold\">1991</span>-<span style=\"color: #008080; text-decoration-color: #008080; font-weight: bold\">01</span>-22T<span style=\"color: #00ff00; text-decoration-color: #00ff00; font-weight: bold\">00:00:00</span>Z\r\n",
       "</pre>\n"
      ],
      "text/plain": [
       "\u001b[1;36m1991\u001b[0m-\u001b[1;36m01\u001b[0m-22T\u001b[1;92m00:00:00\u001b[0mZ\r"
      ]
     },
     "metadata": {},
     "output_type": "display_data"
    },
    {
     "data": {
      "text/html": [
       "<pre style=\"white-space:pre;overflow-x:auto;line-height:normal;font-family:Menlo,'DejaVu Sans Mono',consolas,'Courier New',monospace\"><span style=\"color: #008080; text-decoration-color: #008080; font-weight: bold\">1991</span>-<span style=\"color: #008080; text-decoration-color: #008080; font-weight: bold\">01</span>-23T<span style=\"color: #00ff00; text-decoration-color: #00ff00; font-weight: bold\">00:00:00</span>Z\r\n",
       "</pre>\n"
      ],
      "text/plain": [
       "\u001b[1;36m1991\u001b[0m-\u001b[1;36m01\u001b[0m-23T\u001b[1;92m00:00:00\u001b[0mZ\r"
      ]
     },
     "metadata": {},
     "output_type": "display_data"
    },
    {
     "data": {
      "text/html": [
       "<pre style=\"white-space:pre;overflow-x:auto;line-height:normal;font-family:Menlo,'DejaVu Sans Mono',consolas,'Courier New',monospace\"><span style=\"color: #008080; text-decoration-color: #008080; font-weight: bold\">1991</span>-<span style=\"color: #008080; text-decoration-color: #008080; font-weight: bold\">01</span>-24T<span style=\"color: #00ff00; text-decoration-color: #00ff00; font-weight: bold\">00:00:00</span>Z\r\n",
       "</pre>\n"
      ],
      "text/plain": [
       "\u001b[1;36m1991\u001b[0m-\u001b[1;36m01\u001b[0m-24T\u001b[1;92m00:00:00\u001b[0mZ\r"
      ]
     },
     "metadata": {},
     "output_type": "display_data"
    },
    {
     "data": {
      "text/html": [
       "<pre style=\"white-space:pre;overflow-x:auto;line-height:normal;font-family:Menlo,'DejaVu Sans Mono',consolas,'Courier New',monospace\"><span style=\"color: #008080; text-decoration-color: #008080; font-weight: bold\">1991</span>-<span style=\"color: #008080; text-decoration-color: #008080; font-weight: bold\">01</span>-25T<span style=\"color: #00ff00; text-decoration-color: #00ff00; font-weight: bold\">00:00:00</span>Z\r\n",
       "</pre>\n"
      ],
      "text/plain": [
       "\u001b[1;36m1991\u001b[0m-\u001b[1;36m01\u001b[0m-25T\u001b[1;92m00:00:00\u001b[0mZ\r"
      ]
     },
     "metadata": {},
     "output_type": "display_data"
    },
    {
     "data": {
      "text/html": [
       "<pre style=\"white-space:pre;overflow-x:auto;line-height:normal;font-family:Menlo,'DejaVu Sans Mono',consolas,'Courier New',monospace\"><span style=\"color: #008080; text-decoration-color: #008080; font-weight: bold\">1991</span>-<span style=\"color: #008080; text-decoration-color: #008080; font-weight: bold\">01</span>-26T<span style=\"color: #00ff00; text-decoration-color: #00ff00; font-weight: bold\">00:00:00</span>Z\r\n",
       "</pre>\n"
      ],
      "text/plain": [
       "\u001b[1;36m1991\u001b[0m-\u001b[1;36m01\u001b[0m-26T\u001b[1;92m00:00:00\u001b[0mZ\r"
      ]
     },
     "metadata": {},
     "output_type": "display_data"
    },
    {
     "data": {
      "text/html": [
       "<pre style=\"white-space:pre;overflow-x:auto;line-height:normal;font-family:Menlo,'DejaVu Sans Mono',consolas,'Courier New',monospace\"><span style=\"color: #008080; text-decoration-color: #008080; font-weight: bold\">1991</span>-<span style=\"color: #008080; text-decoration-color: #008080; font-weight: bold\">01</span>-27T<span style=\"color: #00ff00; text-decoration-color: #00ff00; font-weight: bold\">00:00:00</span>Z\r\n",
       "</pre>\n"
      ],
      "text/plain": [
       "\u001b[1;36m1991\u001b[0m-\u001b[1;36m01\u001b[0m-27T\u001b[1;92m00:00:00\u001b[0mZ\r"
      ]
     },
     "metadata": {},
     "output_type": "display_data"
    },
    {
     "data": {
      "text/html": [
       "<pre style=\"white-space:pre;overflow-x:auto;line-height:normal;font-family:Menlo,'DejaVu Sans Mono',consolas,'Courier New',monospace\"><span style=\"color: #008080; text-decoration-color: #008080; font-weight: bold\">1991</span>-<span style=\"color: #008080; text-decoration-color: #008080; font-weight: bold\">01</span>-28T<span style=\"color: #00ff00; text-decoration-color: #00ff00; font-weight: bold\">00:00:00</span>Z\r\n",
       "</pre>\n"
      ],
      "text/plain": [
       "\u001b[1;36m1991\u001b[0m-\u001b[1;36m01\u001b[0m-28T\u001b[1;92m00:00:00\u001b[0mZ\r"
      ]
     },
     "metadata": {},
     "output_type": "display_data"
    },
    {
     "data": {
      "text/html": [
       "<pre style=\"white-space:pre;overflow-x:auto;line-height:normal;font-family:Menlo,'DejaVu Sans Mono',consolas,'Courier New',monospace\"><span style=\"color: #008080; text-decoration-color: #008080; font-weight: bold\">1991</span>-<span style=\"color: #008080; text-decoration-color: #008080; font-weight: bold\">01</span>-29T<span style=\"color: #00ff00; text-decoration-color: #00ff00; font-weight: bold\">00:00:00</span>Z\r\n",
       "</pre>\n"
      ],
      "text/plain": [
       "\u001b[1;36m1991\u001b[0m-\u001b[1;36m01\u001b[0m-29T\u001b[1;92m00:00:00\u001b[0mZ\r"
      ]
     },
     "metadata": {},
     "output_type": "display_data"
    },
    {
     "data": {
      "text/html": [
       "<pre style=\"white-space:pre;overflow-x:auto;line-height:normal;font-family:Menlo,'DejaVu Sans Mono',consolas,'Courier New',monospace\"><span style=\"color: #008080; text-decoration-color: #008080; font-weight: bold\">1991</span>-<span style=\"color: #008080; text-decoration-color: #008080; font-weight: bold\">01</span>-30T<span style=\"color: #00ff00; text-decoration-color: #00ff00; font-weight: bold\">00:00:00</span>Z\r\n",
       "</pre>\n"
      ],
      "text/plain": [
       "\u001b[1;36m1991\u001b[0m-\u001b[1;36m01\u001b[0m-30T\u001b[1;92m00:00:00\u001b[0mZ\r"
      ]
     },
     "metadata": {},
     "output_type": "display_data"
    },
    {
     "data": {
      "text/html": [
       "<pre style=\"white-space:pre;overflow-x:auto;line-height:normal;font-family:Menlo,'DejaVu Sans Mono',consolas,'Courier New',monospace\"><span style=\"color: #008080; text-decoration-color: #008080; font-weight: bold\">1991</span>-<span style=\"color: #008080; text-decoration-color: #008080; font-weight: bold\">01</span>-31T<span style=\"color: #00ff00; text-decoration-color: #00ff00; font-weight: bold\">00:00:00</span>Z\r\n",
       "</pre>\n"
      ],
      "text/plain": [
       "\u001b[1;36m1991\u001b[0m-\u001b[1;36m01\u001b[0m-31T\u001b[1;92m00:00:00\u001b[0mZ\r"
      ]
     },
     "metadata": {},
     "output_type": "display_data"
    },
    {
     "data": {
      "text/html": [
       "<pre style=\"white-space:pre;overflow-x:auto;line-height:normal;font-family:Menlo,'DejaVu Sans Mono',consolas,'Courier New',monospace\"><span style=\"color: #008080; text-decoration-color: #008080; font-weight: bold\">1991</span>-<span style=\"color: #008080; text-decoration-color: #008080; font-weight: bold\">02</span>-01T<span style=\"color: #00ff00; text-decoration-color: #00ff00; font-weight: bold\">00:00:00</span>Z\r\n",
       "</pre>\n"
      ],
      "text/plain": [
       "\u001b[1;36m1991\u001b[0m-\u001b[1;36m02\u001b[0m-01T\u001b[1;92m00:00:00\u001b[0mZ\r"
      ]
     },
     "metadata": {},
     "output_type": "display_data"
    },
    {
     "data": {
      "text/html": [
       "<pre style=\"white-space:pre;overflow-x:auto;line-height:normal;font-family:Menlo,'DejaVu Sans Mono',consolas,'Courier New',monospace\"><span style=\"color: #008080; text-decoration-color: #008080; font-weight: bold\">1991</span>-<span style=\"color: #008080; text-decoration-color: #008080; font-weight: bold\">02</span>-02T<span style=\"color: #00ff00; text-decoration-color: #00ff00; font-weight: bold\">00:00:00</span>Z\r\n",
       "</pre>\n"
      ],
      "text/plain": [
       "\u001b[1;36m1991\u001b[0m-\u001b[1;36m02\u001b[0m-02T\u001b[1;92m00:00:00\u001b[0mZ\r"
      ]
     },
     "metadata": {},
     "output_type": "display_data"
    },
    {
     "data": {
      "text/html": [
       "<pre style=\"white-space:pre;overflow-x:auto;line-height:normal;font-family:Menlo,'DejaVu Sans Mono',consolas,'Courier New',monospace\"><span style=\"color: #008080; text-decoration-color: #008080; font-weight: bold\">1991</span>-<span style=\"color: #008080; text-decoration-color: #008080; font-weight: bold\">02</span>-03T<span style=\"color: #00ff00; text-decoration-color: #00ff00; font-weight: bold\">00:00:00</span>Z\r\n",
       "</pre>\n"
      ],
      "text/plain": [
       "\u001b[1;36m1991\u001b[0m-\u001b[1;36m02\u001b[0m-03T\u001b[1;92m00:00:00\u001b[0mZ\r"
      ]
     },
     "metadata": {},
     "output_type": "display_data"
    },
    {
     "data": {
      "text/html": [
       "<pre style=\"white-space:pre;overflow-x:auto;line-height:normal;font-family:Menlo,'DejaVu Sans Mono',consolas,'Courier New',monospace\"><span style=\"color: #008080; text-decoration-color: #008080; font-weight: bold\">1991</span>-<span style=\"color: #008080; text-decoration-color: #008080; font-weight: bold\">02</span>-04T<span style=\"color: #00ff00; text-decoration-color: #00ff00; font-weight: bold\">00:00:00</span>Z\r\n",
       "</pre>\n"
      ],
      "text/plain": [
       "\u001b[1;36m1991\u001b[0m-\u001b[1;36m02\u001b[0m-04T\u001b[1;92m00:00:00\u001b[0mZ\r"
      ]
     },
     "metadata": {},
     "output_type": "display_data"
    },
    {
     "data": {
      "text/html": [
       "<pre style=\"white-space:pre;overflow-x:auto;line-height:normal;font-family:Menlo,'DejaVu Sans Mono',consolas,'Courier New',monospace\"><span style=\"color: #008080; text-decoration-color: #008080; font-weight: bold\">1991</span>-<span style=\"color: #008080; text-decoration-color: #008080; font-weight: bold\">02</span>-05T<span style=\"color: #00ff00; text-decoration-color: #00ff00; font-weight: bold\">00:00:00</span>Z\r\n",
       "</pre>\n"
      ],
      "text/plain": [
       "\u001b[1;36m1991\u001b[0m-\u001b[1;36m02\u001b[0m-05T\u001b[1;92m00:00:00\u001b[0mZ\r"
      ]
     },
     "metadata": {},
     "output_type": "display_data"
    },
    {
     "data": {
      "text/html": [
       "<pre style=\"white-space:pre;overflow-x:auto;line-height:normal;font-family:Menlo,'DejaVu Sans Mono',consolas,'Courier New',monospace\"><span style=\"color: #008080; text-decoration-color: #008080; font-weight: bold\">1991</span>-<span style=\"color: #008080; text-decoration-color: #008080; font-weight: bold\">02</span>-06T<span style=\"color: #00ff00; text-decoration-color: #00ff00; font-weight: bold\">00:00:00</span>Z\r\n",
       "</pre>\n"
      ],
      "text/plain": [
       "\u001b[1;36m1991\u001b[0m-\u001b[1;36m02\u001b[0m-06T\u001b[1;92m00:00:00\u001b[0mZ\r"
      ]
     },
     "metadata": {},
     "output_type": "display_data"
    },
    {
     "data": {
      "text/html": [
       "<pre style=\"white-space:pre;overflow-x:auto;line-height:normal;font-family:Menlo,'DejaVu Sans Mono',consolas,'Courier New',monospace\"><span style=\"color: #008080; text-decoration-color: #008080; font-weight: bold\">1991</span>-<span style=\"color: #008080; text-decoration-color: #008080; font-weight: bold\">02</span>-07T<span style=\"color: #00ff00; text-decoration-color: #00ff00; font-weight: bold\">00:00:00</span>Z\r\n",
       "</pre>\n"
      ],
      "text/plain": [
       "\u001b[1;36m1991\u001b[0m-\u001b[1;36m02\u001b[0m-07T\u001b[1;92m00:00:00\u001b[0mZ\r"
      ]
     },
     "metadata": {},
     "output_type": "display_data"
    },
    {
     "data": {
      "text/html": [
       "<pre style=\"white-space:pre;overflow-x:auto;line-height:normal;font-family:Menlo,'DejaVu Sans Mono',consolas,'Courier New',monospace\"><span style=\"color: #008080; text-decoration-color: #008080; font-weight: bold\">1991</span>-<span style=\"color: #008080; text-decoration-color: #008080; font-weight: bold\">02</span>-08T<span style=\"color: #00ff00; text-decoration-color: #00ff00; font-weight: bold\">00:00:00</span>Z\r\n",
       "</pre>\n"
      ],
      "text/plain": [
       "\u001b[1;36m1991\u001b[0m-\u001b[1;36m02\u001b[0m-08T\u001b[1;92m00:00:00\u001b[0mZ\r"
      ]
     },
     "metadata": {},
     "output_type": "display_data"
    },
    {
     "data": {
      "text/html": [
       "<pre style=\"white-space:pre;overflow-x:auto;line-height:normal;font-family:Menlo,'DejaVu Sans Mono',consolas,'Courier New',monospace\"><span style=\"color: #008080; text-decoration-color: #008080; font-weight: bold\">1991</span>-<span style=\"color: #008080; text-decoration-color: #008080; font-weight: bold\">02</span>-09T<span style=\"color: #00ff00; text-decoration-color: #00ff00; font-weight: bold\">00:00:00</span>Z\r\n",
       "</pre>\n"
      ],
      "text/plain": [
       "\u001b[1;36m1991\u001b[0m-\u001b[1;36m02\u001b[0m-09T\u001b[1;92m00:00:00\u001b[0mZ\r"
      ]
     },
     "metadata": {},
     "output_type": "display_data"
    },
    {
     "data": {
      "text/html": [
       "<pre style=\"white-space:pre;overflow-x:auto;line-height:normal;font-family:Menlo,'DejaVu Sans Mono',consolas,'Courier New',monospace\"><span style=\"color: #008080; text-decoration-color: #008080; font-weight: bold\">1991</span>-<span style=\"color: #008080; text-decoration-color: #008080; font-weight: bold\">02</span>-10T<span style=\"color: #00ff00; text-decoration-color: #00ff00; font-weight: bold\">00:00:00</span>Z\r\n",
       "</pre>\n"
      ],
      "text/plain": [
       "\u001b[1;36m1991\u001b[0m-\u001b[1;36m02\u001b[0m-10T\u001b[1;92m00:00:00\u001b[0mZ\r"
      ]
     },
     "metadata": {},
     "output_type": "display_data"
    },
    {
     "data": {
      "text/html": [
       "<pre style=\"white-space:pre;overflow-x:auto;line-height:normal;font-family:Menlo,'DejaVu Sans Mono',consolas,'Courier New',monospace\"><span style=\"color: #008080; text-decoration-color: #008080; font-weight: bold\">1991</span>-<span style=\"color: #008080; text-decoration-color: #008080; font-weight: bold\">02</span>-11T<span style=\"color: #00ff00; text-decoration-color: #00ff00; font-weight: bold\">00:00:00</span>Z\r\n",
       "</pre>\n"
      ],
      "text/plain": [
       "\u001b[1;36m1991\u001b[0m-\u001b[1;36m02\u001b[0m-11T\u001b[1;92m00:00:00\u001b[0mZ\r"
      ]
     },
     "metadata": {},
     "output_type": "display_data"
    },
    {
     "data": {
      "text/html": [
       "<pre style=\"white-space:pre;overflow-x:auto;line-height:normal;font-family:Menlo,'DejaVu Sans Mono',consolas,'Courier New',monospace\"><span style=\"color: #008080; text-decoration-color: #008080; font-weight: bold\">1991</span>-<span style=\"color: #008080; text-decoration-color: #008080; font-weight: bold\">02</span>-12T<span style=\"color: #00ff00; text-decoration-color: #00ff00; font-weight: bold\">00:00:00</span>Z\r\n",
       "</pre>\n"
      ],
      "text/plain": [
       "\u001b[1;36m1991\u001b[0m-\u001b[1;36m02\u001b[0m-12T\u001b[1;92m00:00:00\u001b[0mZ\r"
      ]
     },
     "metadata": {},
     "output_type": "display_data"
    },
    {
     "data": {
      "text/html": [
       "<pre style=\"white-space:pre;overflow-x:auto;line-height:normal;font-family:Menlo,'DejaVu Sans Mono',consolas,'Courier New',monospace\"><span style=\"color: #008080; text-decoration-color: #008080; font-weight: bold\">1991</span>-<span style=\"color: #008080; text-decoration-color: #008080; font-weight: bold\">02</span>-13T<span style=\"color: #00ff00; text-decoration-color: #00ff00; font-weight: bold\">00:00:00</span>Z\r\n",
       "</pre>\n"
      ],
      "text/plain": [
       "\u001b[1;36m1991\u001b[0m-\u001b[1;36m02\u001b[0m-13T\u001b[1;92m00:00:00\u001b[0mZ\r"
      ]
     },
     "metadata": {},
     "output_type": "display_data"
    },
    {
     "data": {
      "text/html": [
       "<pre style=\"white-space:pre;overflow-x:auto;line-height:normal;font-family:Menlo,'DejaVu Sans Mono',consolas,'Courier New',monospace\"><span style=\"color: #008080; text-decoration-color: #008080; font-weight: bold\">1991</span>-<span style=\"color: #008080; text-decoration-color: #008080; font-weight: bold\">02</span>-14T<span style=\"color: #00ff00; text-decoration-color: #00ff00; font-weight: bold\">00:00:00</span>Z\r\n",
       "</pre>\n"
      ],
      "text/plain": [
       "\u001b[1;36m1991\u001b[0m-\u001b[1;36m02\u001b[0m-14T\u001b[1;92m00:00:00\u001b[0mZ\r"
      ]
     },
     "metadata": {},
     "output_type": "display_data"
    },
    {
     "data": {
      "text/html": [
       "<pre style=\"white-space:pre;overflow-x:auto;line-height:normal;font-family:Menlo,'DejaVu Sans Mono',consolas,'Courier New',monospace\"><span style=\"color: #008080; text-decoration-color: #008080; font-weight: bold\">1991</span>-<span style=\"color: #008080; text-decoration-color: #008080; font-weight: bold\">02</span>-15T<span style=\"color: #00ff00; text-decoration-color: #00ff00; font-weight: bold\">00:00:00</span>Z\r\n",
       "</pre>\n"
      ],
      "text/plain": [
       "\u001b[1;36m1991\u001b[0m-\u001b[1;36m02\u001b[0m-15T\u001b[1;92m00:00:00\u001b[0mZ\r"
      ]
     },
     "metadata": {},
     "output_type": "display_data"
    },
    {
     "data": {
      "text/html": [
       "<pre style=\"white-space:pre;overflow-x:auto;line-height:normal;font-family:Menlo,'DejaVu Sans Mono',consolas,'Courier New',monospace\"><span style=\"color: #008080; text-decoration-color: #008080; font-weight: bold\">1991</span>-<span style=\"color: #008080; text-decoration-color: #008080; font-weight: bold\">02</span>-16T<span style=\"color: #00ff00; text-decoration-color: #00ff00; font-weight: bold\">00:00:00</span>Z\r\n",
       "</pre>\n"
      ],
      "text/plain": [
       "\u001b[1;36m1991\u001b[0m-\u001b[1;36m02\u001b[0m-16T\u001b[1;92m00:00:00\u001b[0mZ\r"
      ]
     },
     "metadata": {},
     "output_type": "display_data"
    },
    {
     "data": {
      "text/html": [
       "<pre style=\"white-space:pre;overflow-x:auto;line-height:normal;font-family:Menlo,'DejaVu Sans Mono',consolas,'Courier New',monospace\"><span style=\"color: #008080; text-decoration-color: #008080; font-weight: bold\">1991</span>-<span style=\"color: #008080; text-decoration-color: #008080; font-weight: bold\">02</span>-17T<span style=\"color: #00ff00; text-decoration-color: #00ff00; font-weight: bold\">00:00:00</span>Z\r\n",
       "</pre>\n"
      ],
      "text/plain": [
       "\u001b[1;36m1991\u001b[0m-\u001b[1;36m02\u001b[0m-17T\u001b[1;92m00:00:00\u001b[0mZ\r"
      ]
     },
     "metadata": {},
     "output_type": "display_data"
    },
    {
     "data": {
      "text/html": [
       "<pre style=\"white-space:pre;overflow-x:auto;line-height:normal;font-family:Menlo,'DejaVu Sans Mono',consolas,'Courier New',monospace\"><span style=\"color: #008080; text-decoration-color: #008080; font-weight: bold\">1991</span>-<span style=\"color: #008080; text-decoration-color: #008080; font-weight: bold\">02</span>-18T<span style=\"color: #00ff00; text-decoration-color: #00ff00; font-weight: bold\">00:00:00</span>Z\r\n",
       "</pre>\n"
      ],
      "text/plain": [
       "\u001b[1;36m1991\u001b[0m-\u001b[1;36m02\u001b[0m-18T\u001b[1;92m00:00:00\u001b[0mZ\r"
      ]
     },
     "metadata": {},
     "output_type": "display_data"
    },
    {
     "data": {
      "text/html": [
       "<pre style=\"white-space:pre;overflow-x:auto;line-height:normal;font-family:Menlo,'DejaVu Sans Mono',consolas,'Courier New',monospace\"><span style=\"color: #008080; text-decoration-color: #008080; font-weight: bold\">1991</span>-<span style=\"color: #008080; text-decoration-color: #008080; font-weight: bold\">02</span>-19T<span style=\"color: #00ff00; text-decoration-color: #00ff00; font-weight: bold\">00:00:00</span>Z\r\n",
       "</pre>\n"
      ],
      "text/plain": [
       "\u001b[1;36m1991\u001b[0m-\u001b[1;36m02\u001b[0m-19T\u001b[1;92m00:00:00\u001b[0mZ\r"
      ]
     },
     "metadata": {},
     "output_type": "display_data"
    },
    {
     "data": {
      "text/html": [
       "<pre style=\"white-space:pre;overflow-x:auto;line-height:normal;font-family:Menlo,'DejaVu Sans Mono',consolas,'Courier New',monospace\"><span style=\"color: #008080; text-decoration-color: #008080; font-weight: bold\">1991</span>-<span style=\"color: #008080; text-decoration-color: #008080; font-weight: bold\">02</span>-20T<span style=\"color: #00ff00; text-decoration-color: #00ff00; font-weight: bold\">00:00:00</span>Z\r\n",
       "</pre>\n"
      ],
      "text/plain": [
       "\u001b[1;36m1991\u001b[0m-\u001b[1;36m02\u001b[0m-20T\u001b[1;92m00:00:00\u001b[0mZ\r"
      ]
     },
     "metadata": {},
     "output_type": "display_data"
    },
    {
     "data": {
      "text/html": [
       "<pre style=\"white-space:pre;overflow-x:auto;line-height:normal;font-family:Menlo,'DejaVu Sans Mono',consolas,'Courier New',monospace\"><span style=\"color: #008080; text-decoration-color: #008080; font-weight: bold\">1991</span>-<span style=\"color: #008080; text-decoration-color: #008080; font-weight: bold\">02</span>-21T<span style=\"color: #00ff00; text-decoration-color: #00ff00; font-weight: bold\">00:00:00</span>Z\r\n",
       "</pre>\n"
      ],
      "text/plain": [
       "\u001b[1;36m1991\u001b[0m-\u001b[1;36m02\u001b[0m-21T\u001b[1;92m00:00:00\u001b[0mZ\r"
      ]
     },
     "metadata": {},
     "output_type": "display_data"
    },
    {
     "data": {
      "text/html": [
       "<pre style=\"white-space:pre;overflow-x:auto;line-height:normal;font-family:Menlo,'DejaVu Sans Mono',consolas,'Courier New',monospace\"><span style=\"color: #008080; text-decoration-color: #008080; font-weight: bold\">1991</span>-<span style=\"color: #008080; text-decoration-color: #008080; font-weight: bold\">02</span>-22T<span style=\"color: #00ff00; text-decoration-color: #00ff00; font-weight: bold\">00:00:00</span>Z\r\n",
       "</pre>\n"
      ],
      "text/plain": [
       "\u001b[1;36m1991\u001b[0m-\u001b[1;36m02\u001b[0m-22T\u001b[1;92m00:00:00\u001b[0mZ\r"
      ]
     },
     "metadata": {},
     "output_type": "display_data"
    },
    {
     "data": {
      "text/html": [
       "<pre style=\"white-space:pre;overflow-x:auto;line-height:normal;font-family:Menlo,'DejaVu Sans Mono',consolas,'Courier New',monospace\"><span style=\"color: #008080; text-decoration-color: #008080; font-weight: bold\">1991</span>-<span style=\"color: #008080; text-decoration-color: #008080; font-weight: bold\">02</span>-23T<span style=\"color: #00ff00; text-decoration-color: #00ff00; font-weight: bold\">00:00:00</span>Z\r\n",
       "</pre>\n"
      ],
      "text/plain": [
       "\u001b[1;36m1991\u001b[0m-\u001b[1;36m02\u001b[0m-23T\u001b[1;92m00:00:00\u001b[0mZ\r"
      ]
     },
     "metadata": {},
     "output_type": "display_data"
    },
    {
     "data": {
      "text/html": [
       "<pre style=\"white-space:pre;overflow-x:auto;line-height:normal;font-family:Menlo,'DejaVu Sans Mono',consolas,'Courier New',monospace\"><span style=\"color: #008080; text-decoration-color: #008080; font-weight: bold\">1991</span>-<span style=\"color: #008080; text-decoration-color: #008080; font-weight: bold\">02</span>-24T<span style=\"color: #00ff00; text-decoration-color: #00ff00; font-weight: bold\">00:00:00</span>Z\r\n",
       "</pre>\n"
      ],
      "text/plain": [
       "\u001b[1;36m1991\u001b[0m-\u001b[1;36m02\u001b[0m-24T\u001b[1;92m00:00:00\u001b[0mZ\r"
      ]
     },
     "metadata": {},
     "output_type": "display_data"
    },
    {
     "data": {
      "text/html": [
       "<pre style=\"white-space:pre;overflow-x:auto;line-height:normal;font-family:Menlo,'DejaVu Sans Mono',consolas,'Courier New',monospace\"><span style=\"color: #008080; text-decoration-color: #008080; font-weight: bold\">1991</span>-<span style=\"color: #008080; text-decoration-color: #008080; font-weight: bold\">02</span>-25T<span style=\"color: #00ff00; text-decoration-color: #00ff00; font-weight: bold\">00:00:00</span>Z\r\n",
       "</pre>\n"
      ],
      "text/plain": [
       "\u001b[1;36m1991\u001b[0m-\u001b[1;36m02\u001b[0m-25T\u001b[1;92m00:00:00\u001b[0mZ\r"
      ]
     },
     "metadata": {},
     "output_type": "display_data"
    },
    {
     "data": {
      "text/html": [
       "<pre style=\"white-space:pre;overflow-x:auto;line-height:normal;font-family:Menlo,'DejaVu Sans Mono',consolas,'Courier New',monospace\"><span style=\"color: #008080; text-decoration-color: #008080; font-weight: bold\">1991</span>-<span style=\"color: #008080; text-decoration-color: #008080; font-weight: bold\">02</span>-26T<span style=\"color: #00ff00; text-decoration-color: #00ff00; font-weight: bold\">00:00:00</span>Z\r\n",
       "</pre>\n"
      ],
      "text/plain": [
       "\u001b[1;36m1991\u001b[0m-\u001b[1;36m02\u001b[0m-26T\u001b[1;92m00:00:00\u001b[0mZ\r"
      ]
     },
     "metadata": {},
     "output_type": "display_data"
    },
    {
     "data": {
      "text/html": [
       "<pre style=\"white-space:pre;overflow-x:auto;line-height:normal;font-family:Menlo,'DejaVu Sans Mono',consolas,'Courier New',monospace\"><span style=\"color: #008080; text-decoration-color: #008080; font-weight: bold\">1991</span>-<span style=\"color: #008080; text-decoration-color: #008080; font-weight: bold\">02</span>-27T<span style=\"color: #00ff00; text-decoration-color: #00ff00; font-weight: bold\">00:00:00</span>Z\r\n",
       "</pre>\n"
      ],
      "text/plain": [
       "\u001b[1;36m1991\u001b[0m-\u001b[1;36m02\u001b[0m-27T\u001b[1;92m00:00:00\u001b[0mZ\r"
      ]
     },
     "metadata": {},
     "output_type": "display_data"
    },
    {
     "data": {
      "text/html": [
       "<pre style=\"white-space:pre;overflow-x:auto;line-height:normal;font-family:Menlo,'DejaVu Sans Mono',consolas,'Courier New',monospace\"><span style=\"color: #008080; text-decoration-color: #008080; font-weight: bold\">1991</span>-<span style=\"color: #008080; text-decoration-color: #008080; font-weight: bold\">02</span>-28T<span style=\"color: #00ff00; text-decoration-color: #00ff00; font-weight: bold\">00:00:00</span>Z\r\n",
       "</pre>\n"
      ],
      "text/plain": [
       "\u001b[1;36m1991\u001b[0m-\u001b[1;36m02\u001b[0m-28T\u001b[1;92m00:00:00\u001b[0mZ\r"
      ]
     },
     "metadata": {},
     "output_type": "display_data"
    },
    {
     "data": {
      "text/html": [
       "<pre style=\"white-space:pre;overflow-x:auto;line-height:normal;font-family:Menlo,'DejaVu Sans Mono',consolas,'Courier New',monospace\"><span style=\"color: #008080; text-decoration-color: #008080; font-weight: bold\">1991</span>-<span style=\"color: #008080; text-decoration-color: #008080; font-weight: bold\">03</span>-01T<span style=\"color: #00ff00; text-decoration-color: #00ff00; font-weight: bold\">00:00:00</span>Z\r\n",
       "</pre>\n"
      ],
      "text/plain": [
       "\u001b[1;36m1991\u001b[0m-\u001b[1;36m03\u001b[0m-01T\u001b[1;92m00:00:00\u001b[0mZ\r"
      ]
     },
     "metadata": {},
     "output_type": "display_data"
    },
    {
     "data": {
      "text/html": [
       "<pre style=\"white-space:pre;overflow-x:auto;line-height:normal;font-family:Menlo,'DejaVu Sans Mono',consolas,'Courier New',monospace\"><span style=\"color: #008080; text-decoration-color: #008080; font-weight: bold\">1991</span>-<span style=\"color: #008080; text-decoration-color: #008080; font-weight: bold\">03</span>-02T<span style=\"color: #00ff00; text-decoration-color: #00ff00; font-weight: bold\">00:00:00</span>Z\r\n",
       "</pre>\n"
      ],
      "text/plain": [
       "\u001b[1;36m1991\u001b[0m-\u001b[1;36m03\u001b[0m-02T\u001b[1;92m00:00:00\u001b[0mZ\r"
      ]
     },
     "metadata": {},
     "output_type": "display_data"
    },
    {
     "data": {
      "text/html": [
       "<pre style=\"white-space:pre;overflow-x:auto;line-height:normal;font-family:Menlo,'DejaVu Sans Mono',consolas,'Courier New',monospace\"><span style=\"color: #008080; text-decoration-color: #008080; font-weight: bold\">1991</span>-<span style=\"color: #008080; text-decoration-color: #008080; font-weight: bold\">03</span>-03T<span style=\"color: #00ff00; text-decoration-color: #00ff00; font-weight: bold\">00:00:00</span>Z\r\n",
       "</pre>\n"
      ],
      "text/plain": [
       "\u001b[1;36m1991\u001b[0m-\u001b[1;36m03\u001b[0m-03T\u001b[1;92m00:00:00\u001b[0mZ\r"
      ]
     },
     "metadata": {},
     "output_type": "display_data"
    },
    {
     "data": {
      "text/html": [
       "<pre style=\"white-space:pre;overflow-x:auto;line-height:normal;font-family:Menlo,'DejaVu Sans Mono',consolas,'Courier New',monospace\"><span style=\"color: #008080; text-decoration-color: #008080; font-weight: bold\">1991</span>-<span style=\"color: #008080; text-decoration-color: #008080; font-weight: bold\">03</span>-04T<span style=\"color: #00ff00; text-decoration-color: #00ff00; font-weight: bold\">00:00:00</span>Z\r\n",
       "</pre>\n"
      ],
      "text/plain": [
       "\u001b[1;36m1991\u001b[0m-\u001b[1;36m03\u001b[0m-04T\u001b[1;92m00:00:00\u001b[0mZ\r"
      ]
     },
     "metadata": {},
     "output_type": "display_data"
    },
    {
     "data": {
      "text/html": [
       "<pre style=\"white-space:pre;overflow-x:auto;line-height:normal;font-family:Menlo,'DejaVu Sans Mono',consolas,'Courier New',monospace\"><span style=\"color: #008080; text-decoration-color: #008080; font-weight: bold\">1991</span>-<span style=\"color: #008080; text-decoration-color: #008080; font-weight: bold\">03</span>-05T<span style=\"color: #00ff00; text-decoration-color: #00ff00; font-weight: bold\">00:00:00</span>Z\r\n",
       "</pre>\n"
      ],
      "text/plain": [
       "\u001b[1;36m1991\u001b[0m-\u001b[1;36m03\u001b[0m-05T\u001b[1;92m00:00:00\u001b[0mZ\r"
      ]
     },
     "metadata": {},
     "output_type": "display_data"
    },
    {
     "data": {
      "text/html": [
       "<pre style=\"white-space:pre;overflow-x:auto;line-height:normal;font-family:Menlo,'DejaVu Sans Mono',consolas,'Courier New',monospace\"><span style=\"color: #008080; text-decoration-color: #008080; font-weight: bold\">1991</span>-<span style=\"color: #008080; text-decoration-color: #008080; font-weight: bold\">03</span>-06T<span style=\"color: #00ff00; text-decoration-color: #00ff00; font-weight: bold\">00:00:00</span>Z\r\n",
       "</pre>\n"
      ],
      "text/plain": [
       "\u001b[1;36m1991\u001b[0m-\u001b[1;36m03\u001b[0m-06T\u001b[1;92m00:00:00\u001b[0mZ\r"
      ]
     },
     "metadata": {},
     "output_type": "display_data"
    },
    {
     "data": {
      "text/html": [
       "<pre style=\"white-space:pre;overflow-x:auto;line-height:normal;font-family:Menlo,'DejaVu Sans Mono',consolas,'Courier New',monospace\"><span style=\"color: #008080; text-decoration-color: #008080; font-weight: bold\">1991</span>-<span style=\"color: #008080; text-decoration-color: #008080; font-weight: bold\">03</span>-07T<span style=\"color: #00ff00; text-decoration-color: #00ff00; font-weight: bold\">00:00:00</span>Z\r\n",
       "</pre>\n"
      ],
      "text/plain": [
       "\u001b[1;36m1991\u001b[0m-\u001b[1;36m03\u001b[0m-07T\u001b[1;92m00:00:00\u001b[0mZ\r"
      ]
     },
     "metadata": {},
     "output_type": "display_data"
    },
    {
     "data": {
      "text/html": [
       "<pre style=\"white-space:pre;overflow-x:auto;line-height:normal;font-family:Menlo,'DejaVu Sans Mono',consolas,'Courier New',monospace\"><span style=\"color: #008080; text-decoration-color: #008080; font-weight: bold\">1991</span>-<span style=\"color: #008080; text-decoration-color: #008080; font-weight: bold\">03</span>-08T<span style=\"color: #00ff00; text-decoration-color: #00ff00; font-weight: bold\">00:00:00</span>Z\r\n",
       "</pre>\n"
      ],
      "text/plain": [
       "\u001b[1;36m1991\u001b[0m-\u001b[1;36m03\u001b[0m-08T\u001b[1;92m00:00:00\u001b[0mZ\r"
      ]
     },
     "metadata": {},
     "output_type": "display_data"
    },
    {
     "data": {
      "text/html": [
       "<pre style=\"white-space:pre;overflow-x:auto;line-height:normal;font-family:Menlo,'DejaVu Sans Mono',consolas,'Courier New',monospace\"><span style=\"color: #008080; text-decoration-color: #008080; font-weight: bold\">1991</span>-<span style=\"color: #008080; text-decoration-color: #008080; font-weight: bold\">03</span>-09T<span style=\"color: #00ff00; text-decoration-color: #00ff00; font-weight: bold\">00:00:00</span>Z\r\n",
       "</pre>\n"
      ],
      "text/plain": [
       "\u001b[1;36m1991\u001b[0m-\u001b[1;36m03\u001b[0m-09T\u001b[1;92m00:00:00\u001b[0mZ\r"
      ]
     },
     "metadata": {},
     "output_type": "display_data"
    },
    {
     "data": {
      "text/html": [
       "<pre style=\"white-space:pre;overflow-x:auto;line-height:normal;font-family:Menlo,'DejaVu Sans Mono',consolas,'Courier New',monospace\"><span style=\"color: #008080; text-decoration-color: #008080; font-weight: bold\">1991</span>-<span style=\"color: #008080; text-decoration-color: #008080; font-weight: bold\">03</span>-10T<span style=\"color: #00ff00; text-decoration-color: #00ff00; font-weight: bold\">00:00:00</span>Z\r\n",
       "</pre>\n"
      ],
      "text/plain": [
       "\u001b[1;36m1991\u001b[0m-\u001b[1;36m03\u001b[0m-10T\u001b[1;92m00:00:00\u001b[0mZ\r"
      ]
     },
     "metadata": {},
     "output_type": "display_data"
    },
    {
     "data": {
      "text/html": [
       "<pre style=\"white-space:pre;overflow-x:auto;line-height:normal;font-family:Menlo,'DejaVu Sans Mono',consolas,'Courier New',monospace\"><span style=\"color: #008080; text-decoration-color: #008080; font-weight: bold\">1991</span>-<span style=\"color: #008080; text-decoration-color: #008080; font-weight: bold\">03</span>-11T<span style=\"color: #00ff00; text-decoration-color: #00ff00; font-weight: bold\">00:00:00</span>Z\r\n",
       "</pre>\n"
      ],
      "text/plain": [
       "\u001b[1;36m1991\u001b[0m-\u001b[1;36m03\u001b[0m-11T\u001b[1;92m00:00:00\u001b[0mZ\r"
      ]
     },
     "metadata": {},
     "output_type": "display_data"
    },
    {
     "data": {
      "text/html": [
       "<pre style=\"white-space:pre;overflow-x:auto;line-height:normal;font-family:Menlo,'DejaVu Sans Mono',consolas,'Courier New',monospace\"><span style=\"color: #008080; text-decoration-color: #008080; font-weight: bold\">1991</span>-<span style=\"color: #008080; text-decoration-color: #008080; font-weight: bold\">03</span>-12T<span style=\"color: #00ff00; text-decoration-color: #00ff00; font-weight: bold\">00:00:00</span>Z\r\n",
       "</pre>\n"
      ],
      "text/plain": [
       "\u001b[1;36m1991\u001b[0m-\u001b[1;36m03\u001b[0m-12T\u001b[1;92m00:00:00\u001b[0mZ\r"
      ]
     },
     "metadata": {},
     "output_type": "display_data"
    },
    {
     "data": {
      "text/html": [
       "<pre style=\"white-space:pre;overflow-x:auto;line-height:normal;font-family:Menlo,'DejaVu Sans Mono',consolas,'Courier New',monospace\"><span style=\"color: #008080; text-decoration-color: #008080; font-weight: bold\">1991</span>-<span style=\"color: #008080; text-decoration-color: #008080; font-weight: bold\">03</span>-13T<span style=\"color: #00ff00; text-decoration-color: #00ff00; font-weight: bold\">00:00:00</span>Z\r\n",
       "</pre>\n"
      ],
      "text/plain": [
       "\u001b[1;36m1991\u001b[0m-\u001b[1;36m03\u001b[0m-13T\u001b[1;92m00:00:00\u001b[0mZ\r"
      ]
     },
     "metadata": {},
     "output_type": "display_data"
    },
    {
     "data": {
      "text/html": [
       "<pre style=\"white-space:pre;overflow-x:auto;line-height:normal;font-family:Menlo,'DejaVu Sans Mono',consolas,'Courier New',monospace\"><span style=\"color: #008080; text-decoration-color: #008080; font-weight: bold\">1991</span>-<span style=\"color: #008080; text-decoration-color: #008080; font-weight: bold\">03</span>-14T<span style=\"color: #00ff00; text-decoration-color: #00ff00; font-weight: bold\">00:00:00</span>Z\r\n",
       "</pre>\n"
      ],
      "text/plain": [
       "\u001b[1;36m1991\u001b[0m-\u001b[1;36m03\u001b[0m-14T\u001b[1;92m00:00:00\u001b[0mZ\r"
      ]
     },
     "metadata": {},
     "output_type": "display_data"
    },
    {
     "data": {
      "text/html": [
       "<pre style=\"white-space:pre;overflow-x:auto;line-height:normal;font-family:Menlo,'DejaVu Sans Mono',consolas,'Courier New',monospace\"><span style=\"color: #008080; text-decoration-color: #008080; font-weight: bold\">1991</span>-<span style=\"color: #008080; text-decoration-color: #008080; font-weight: bold\">03</span>-15T<span style=\"color: #00ff00; text-decoration-color: #00ff00; font-weight: bold\">00:00:00</span>Z\r\n",
       "</pre>\n"
      ],
      "text/plain": [
       "\u001b[1;36m1991\u001b[0m-\u001b[1;36m03\u001b[0m-15T\u001b[1;92m00:00:00\u001b[0mZ\r"
      ]
     },
     "metadata": {},
     "output_type": "display_data"
    },
    {
     "data": {
      "text/html": [
       "<pre style=\"white-space:pre;overflow-x:auto;line-height:normal;font-family:Menlo,'DejaVu Sans Mono',consolas,'Courier New',monospace\"><span style=\"color: #008080; text-decoration-color: #008080; font-weight: bold\">1991</span>-<span style=\"color: #008080; text-decoration-color: #008080; font-weight: bold\">03</span>-16T<span style=\"color: #00ff00; text-decoration-color: #00ff00; font-weight: bold\">00:00:00</span>Z\r\n",
       "</pre>\n"
      ],
      "text/plain": [
       "\u001b[1;36m1991\u001b[0m-\u001b[1;36m03\u001b[0m-16T\u001b[1;92m00:00:00\u001b[0mZ\r"
      ]
     },
     "metadata": {},
     "output_type": "display_data"
    },
    {
     "data": {
      "text/html": [
       "<pre style=\"white-space:pre;overflow-x:auto;line-height:normal;font-family:Menlo,'DejaVu Sans Mono',consolas,'Courier New',monospace\"><span style=\"color: #008080; text-decoration-color: #008080; font-weight: bold\">1991</span>-<span style=\"color: #008080; text-decoration-color: #008080; font-weight: bold\">03</span>-17T<span style=\"color: #00ff00; text-decoration-color: #00ff00; font-weight: bold\">00:00:00</span>Z\r\n",
       "</pre>\n"
      ],
      "text/plain": [
       "\u001b[1;36m1991\u001b[0m-\u001b[1;36m03\u001b[0m-17T\u001b[1;92m00:00:00\u001b[0mZ\r"
      ]
     },
     "metadata": {},
     "output_type": "display_data"
    },
    {
     "data": {
      "text/html": [
       "<pre style=\"white-space:pre;overflow-x:auto;line-height:normal;font-family:Menlo,'DejaVu Sans Mono',consolas,'Courier New',monospace\"><span style=\"color: #008080; text-decoration-color: #008080; font-weight: bold\">1991</span>-<span style=\"color: #008080; text-decoration-color: #008080; font-weight: bold\">03</span>-18T<span style=\"color: #00ff00; text-decoration-color: #00ff00; font-weight: bold\">00:00:00</span>Z\r\n",
       "</pre>\n"
      ],
      "text/plain": [
       "\u001b[1;36m1991\u001b[0m-\u001b[1;36m03\u001b[0m-18T\u001b[1;92m00:00:00\u001b[0mZ\r"
      ]
     },
     "metadata": {},
     "output_type": "display_data"
    },
    {
     "data": {
      "text/html": [
       "<pre style=\"white-space:pre;overflow-x:auto;line-height:normal;font-family:Menlo,'DejaVu Sans Mono',consolas,'Courier New',monospace\"><span style=\"color: #008080; text-decoration-color: #008080; font-weight: bold\">1991</span>-<span style=\"color: #008080; text-decoration-color: #008080; font-weight: bold\">03</span>-19T<span style=\"color: #00ff00; text-decoration-color: #00ff00; font-weight: bold\">00:00:00</span>Z\r\n",
       "</pre>\n"
      ],
      "text/plain": [
       "\u001b[1;36m1991\u001b[0m-\u001b[1;36m03\u001b[0m-19T\u001b[1;92m00:00:00\u001b[0mZ\r"
      ]
     },
     "metadata": {},
     "output_type": "display_data"
    },
    {
     "data": {
      "text/html": [
       "<pre style=\"white-space:pre;overflow-x:auto;line-height:normal;font-family:Menlo,'DejaVu Sans Mono',consolas,'Courier New',monospace\"><span style=\"color: #008080; text-decoration-color: #008080; font-weight: bold\">1991</span>-<span style=\"color: #008080; text-decoration-color: #008080; font-weight: bold\">03</span>-20T<span style=\"color: #00ff00; text-decoration-color: #00ff00; font-weight: bold\">00:00:00</span>Z\r\n",
       "</pre>\n"
      ],
      "text/plain": [
       "\u001b[1;36m1991\u001b[0m-\u001b[1;36m03\u001b[0m-20T\u001b[1;92m00:00:00\u001b[0mZ\r"
      ]
     },
     "metadata": {},
     "output_type": "display_data"
    },
    {
     "data": {
      "text/html": [
       "<pre style=\"white-space:pre;overflow-x:auto;line-height:normal;font-family:Menlo,'DejaVu Sans Mono',consolas,'Courier New',monospace\"><span style=\"color: #008080; text-decoration-color: #008080; font-weight: bold\">1991</span>-<span style=\"color: #008080; text-decoration-color: #008080; font-weight: bold\">03</span>-21T<span style=\"color: #00ff00; text-decoration-color: #00ff00; font-weight: bold\">00:00:00</span>Z\r\n",
       "</pre>\n"
      ],
      "text/plain": [
       "\u001b[1;36m1991\u001b[0m-\u001b[1;36m03\u001b[0m-21T\u001b[1;92m00:00:00\u001b[0mZ\r"
      ]
     },
     "metadata": {},
     "output_type": "display_data"
    },
    {
     "data": {
      "text/html": [
       "<pre style=\"white-space:pre;overflow-x:auto;line-height:normal;font-family:Menlo,'DejaVu Sans Mono',consolas,'Courier New',monospace\"><span style=\"color: #008080; text-decoration-color: #008080; font-weight: bold\">1991</span>-<span style=\"color: #008080; text-decoration-color: #008080; font-weight: bold\">03</span>-22T<span style=\"color: #00ff00; text-decoration-color: #00ff00; font-weight: bold\">00:00:00</span>Z\r\n",
       "</pre>\n"
      ],
      "text/plain": [
       "\u001b[1;36m1991\u001b[0m-\u001b[1;36m03\u001b[0m-22T\u001b[1;92m00:00:00\u001b[0mZ\r"
      ]
     },
     "metadata": {},
     "output_type": "display_data"
    },
    {
     "data": {
      "text/html": [
       "<pre style=\"white-space:pre;overflow-x:auto;line-height:normal;font-family:Menlo,'DejaVu Sans Mono',consolas,'Courier New',monospace\"><span style=\"color: #008080; text-decoration-color: #008080; font-weight: bold\">1991</span>-<span style=\"color: #008080; text-decoration-color: #008080; font-weight: bold\">03</span>-23T<span style=\"color: #00ff00; text-decoration-color: #00ff00; font-weight: bold\">00:00:00</span>Z\r\n",
       "</pre>\n"
      ],
      "text/plain": [
       "\u001b[1;36m1991\u001b[0m-\u001b[1;36m03\u001b[0m-23T\u001b[1;92m00:00:00\u001b[0mZ\r"
      ]
     },
     "metadata": {},
     "output_type": "display_data"
    },
    {
     "data": {
      "text/html": [
       "<pre style=\"white-space:pre;overflow-x:auto;line-height:normal;font-family:Menlo,'DejaVu Sans Mono',consolas,'Courier New',monospace\"><span style=\"color: #008080; text-decoration-color: #008080; font-weight: bold\">1991</span>-<span style=\"color: #008080; text-decoration-color: #008080; font-weight: bold\">03</span>-24T<span style=\"color: #00ff00; text-decoration-color: #00ff00; font-weight: bold\">00:00:00</span>Z\r\n",
       "</pre>\n"
      ],
      "text/plain": [
       "\u001b[1;36m1991\u001b[0m-\u001b[1;36m03\u001b[0m-24T\u001b[1;92m00:00:00\u001b[0mZ\r"
      ]
     },
     "metadata": {},
     "output_type": "display_data"
    },
    {
     "data": {
      "text/html": [
       "<pre style=\"white-space:pre;overflow-x:auto;line-height:normal;font-family:Menlo,'DejaVu Sans Mono',consolas,'Courier New',monospace\"><span style=\"color: #008080; text-decoration-color: #008080; font-weight: bold\">1991</span>-<span style=\"color: #008080; text-decoration-color: #008080; font-weight: bold\">03</span>-25T<span style=\"color: #00ff00; text-decoration-color: #00ff00; font-weight: bold\">00:00:00</span>Z\r\n",
       "</pre>\n"
      ],
      "text/plain": [
       "\u001b[1;36m1991\u001b[0m-\u001b[1;36m03\u001b[0m-25T\u001b[1;92m00:00:00\u001b[0mZ\r"
      ]
     },
     "metadata": {},
     "output_type": "display_data"
    },
    {
     "data": {
      "text/html": [
       "<pre style=\"white-space:pre;overflow-x:auto;line-height:normal;font-family:Menlo,'DejaVu Sans Mono',consolas,'Courier New',monospace\"><span style=\"color: #008080; text-decoration-color: #008080; font-weight: bold\">1991</span>-<span style=\"color: #008080; text-decoration-color: #008080; font-weight: bold\">03</span>-26T<span style=\"color: #00ff00; text-decoration-color: #00ff00; font-weight: bold\">00:00:00</span>Z\r\n",
       "</pre>\n"
      ],
      "text/plain": [
       "\u001b[1;36m1991\u001b[0m-\u001b[1;36m03\u001b[0m-26T\u001b[1;92m00:00:00\u001b[0mZ\r"
      ]
     },
     "metadata": {},
     "output_type": "display_data"
    },
    {
     "data": {
      "text/html": [
       "<pre style=\"white-space:pre;overflow-x:auto;line-height:normal;font-family:Menlo,'DejaVu Sans Mono',consolas,'Courier New',monospace\"><span style=\"color: #008080; text-decoration-color: #008080; font-weight: bold\">1991</span>-<span style=\"color: #008080; text-decoration-color: #008080; font-weight: bold\">03</span>-27T<span style=\"color: #00ff00; text-decoration-color: #00ff00; font-weight: bold\">00:00:00</span>Z\r\n",
       "</pre>\n"
      ],
      "text/plain": [
       "\u001b[1;36m1991\u001b[0m-\u001b[1;36m03\u001b[0m-27T\u001b[1;92m00:00:00\u001b[0mZ\r"
      ]
     },
     "metadata": {},
     "output_type": "display_data"
    },
    {
     "data": {
      "text/html": [
       "<pre style=\"white-space:pre;overflow-x:auto;line-height:normal;font-family:Menlo,'DejaVu Sans Mono',consolas,'Courier New',monospace\"><span style=\"color: #008080; text-decoration-color: #008080; font-weight: bold\">1991</span>-<span style=\"color: #008080; text-decoration-color: #008080; font-weight: bold\">03</span>-28T<span style=\"color: #00ff00; text-decoration-color: #00ff00; font-weight: bold\">00:00:00</span>Z\r\n",
       "</pre>\n"
      ],
      "text/plain": [
       "\u001b[1;36m1991\u001b[0m-\u001b[1;36m03\u001b[0m-28T\u001b[1;92m00:00:00\u001b[0mZ\r"
      ]
     },
     "metadata": {},
     "output_type": "display_data"
    },
    {
     "data": {
      "text/html": [
       "<pre style=\"white-space:pre;overflow-x:auto;line-height:normal;font-family:Menlo,'DejaVu Sans Mono',consolas,'Courier New',monospace\"><span style=\"color: #008080; text-decoration-color: #008080; font-weight: bold\">1991</span>-<span style=\"color: #008080; text-decoration-color: #008080; font-weight: bold\">03</span>-29T<span style=\"color: #00ff00; text-decoration-color: #00ff00; font-weight: bold\">00:00:00</span>Z\r\n",
       "</pre>\n"
      ],
      "text/plain": [
       "\u001b[1;36m1991\u001b[0m-\u001b[1;36m03\u001b[0m-29T\u001b[1;92m00:00:00\u001b[0mZ\r"
      ]
     },
     "metadata": {},
     "output_type": "display_data"
    },
    {
     "data": {
      "text/html": [
       "<pre style=\"white-space:pre;overflow-x:auto;line-height:normal;font-family:Menlo,'DejaVu Sans Mono',consolas,'Courier New',monospace\"><span style=\"color: #008080; text-decoration-color: #008080; font-weight: bold\">1991</span>-<span style=\"color: #008080; text-decoration-color: #008080; font-weight: bold\">03</span>-30T<span style=\"color: #00ff00; text-decoration-color: #00ff00; font-weight: bold\">00:00:00</span>Z\r\n",
       "</pre>\n"
      ],
      "text/plain": [
       "\u001b[1;36m1991\u001b[0m-\u001b[1;36m03\u001b[0m-30T\u001b[1;92m00:00:00\u001b[0mZ\r"
      ]
     },
     "metadata": {},
     "output_type": "display_data"
    },
    {
     "data": {
      "text/html": [
       "<pre style=\"white-space:pre;overflow-x:auto;line-height:normal;font-family:Menlo,'DejaVu Sans Mono',consolas,'Courier New',monospace\"><span style=\"color: #008080; text-decoration-color: #008080; font-weight: bold\">1991</span>-<span style=\"color: #008080; text-decoration-color: #008080; font-weight: bold\">03</span>-31T<span style=\"color: #00ff00; text-decoration-color: #00ff00; font-weight: bold\">00:00:00</span>Z\r\n",
       "</pre>\n"
      ],
      "text/plain": [
       "\u001b[1;36m1991\u001b[0m-\u001b[1;36m03\u001b[0m-31T\u001b[1;92m00:00:00\u001b[0mZ\r"
      ]
     },
     "metadata": {},
     "output_type": "display_data"
    },
    {
     "data": {
      "text/html": [
       "<pre style=\"white-space:pre;overflow-x:auto;line-height:normal;font-family:Menlo,'DejaVu Sans Mono',consolas,'Courier New',monospace\"><span style=\"color: #008080; text-decoration-color: #008080; font-weight: bold\">1991</span>-<span style=\"color: #008080; text-decoration-color: #008080; font-weight: bold\">04</span>-01T<span style=\"color: #00ff00; text-decoration-color: #00ff00; font-weight: bold\">00:00:00</span>Z\r\n",
       "</pre>\n"
      ],
      "text/plain": [
       "\u001b[1;36m1991\u001b[0m-\u001b[1;36m04\u001b[0m-01T\u001b[1;92m00:00:00\u001b[0mZ\r"
      ]
     },
     "metadata": {},
     "output_type": "display_data"
    },
    {
     "data": {
      "text/html": [
       "<pre style=\"white-space:pre;overflow-x:auto;line-height:normal;font-family:Menlo,'DejaVu Sans Mono',consolas,'Courier New',monospace\"><span style=\"color: #008080; text-decoration-color: #008080; font-weight: bold\">1991</span>-<span style=\"color: #008080; text-decoration-color: #008080; font-weight: bold\">04</span>-02T<span style=\"color: #00ff00; text-decoration-color: #00ff00; font-weight: bold\">00:00:00</span>Z\r\n",
       "</pre>\n"
      ],
      "text/plain": [
       "\u001b[1;36m1991\u001b[0m-\u001b[1;36m04\u001b[0m-02T\u001b[1;92m00:00:00\u001b[0mZ\r"
      ]
     },
     "metadata": {},
     "output_type": "display_data"
    },
    {
     "data": {
      "text/html": [
       "<pre style=\"white-space:pre;overflow-x:auto;line-height:normal;font-family:Menlo,'DejaVu Sans Mono',consolas,'Courier New',monospace\"><span style=\"color: #008080; text-decoration-color: #008080; font-weight: bold\">1991</span>-<span style=\"color: #008080; text-decoration-color: #008080; font-weight: bold\">04</span>-03T<span style=\"color: #00ff00; text-decoration-color: #00ff00; font-weight: bold\">00:00:00</span>Z\r\n",
       "</pre>\n"
      ],
      "text/plain": [
       "\u001b[1;36m1991\u001b[0m-\u001b[1;36m04\u001b[0m-03T\u001b[1;92m00:00:00\u001b[0mZ\r"
      ]
     },
     "metadata": {},
     "output_type": "display_data"
    },
    {
     "data": {
      "text/html": [
       "<pre style=\"white-space:pre;overflow-x:auto;line-height:normal;font-family:Menlo,'DejaVu Sans Mono',consolas,'Courier New',monospace\"><span style=\"color: #008080; text-decoration-color: #008080; font-weight: bold\">1991</span>-<span style=\"color: #008080; text-decoration-color: #008080; font-weight: bold\">04</span>-04T<span style=\"color: #00ff00; text-decoration-color: #00ff00; font-weight: bold\">00:00:00</span>Z\r\n",
       "</pre>\n"
      ],
      "text/plain": [
       "\u001b[1;36m1991\u001b[0m-\u001b[1;36m04\u001b[0m-04T\u001b[1;92m00:00:00\u001b[0mZ\r"
      ]
     },
     "metadata": {},
     "output_type": "display_data"
    },
    {
     "data": {
      "text/html": [
       "<pre style=\"white-space:pre;overflow-x:auto;line-height:normal;font-family:Menlo,'DejaVu Sans Mono',consolas,'Courier New',monospace\"><span style=\"color: #008080; text-decoration-color: #008080; font-weight: bold\">1991</span>-<span style=\"color: #008080; text-decoration-color: #008080; font-weight: bold\">04</span>-05T<span style=\"color: #00ff00; text-decoration-color: #00ff00; font-weight: bold\">00:00:00</span>Z\r\n",
       "</pre>\n"
      ],
      "text/plain": [
       "\u001b[1;36m1991\u001b[0m-\u001b[1;36m04\u001b[0m-05T\u001b[1;92m00:00:00\u001b[0mZ\r"
      ]
     },
     "metadata": {},
     "output_type": "display_data"
    },
    {
     "data": {
      "text/html": [
       "<pre style=\"white-space:pre;overflow-x:auto;line-height:normal;font-family:Menlo,'DejaVu Sans Mono',consolas,'Courier New',monospace\"><span style=\"color: #008080; text-decoration-color: #008080; font-weight: bold\">1991</span>-<span style=\"color: #008080; text-decoration-color: #008080; font-weight: bold\">04</span>-06T<span style=\"color: #00ff00; text-decoration-color: #00ff00; font-weight: bold\">00:00:00</span>Z\r\n",
       "</pre>\n"
      ],
      "text/plain": [
       "\u001b[1;36m1991\u001b[0m-\u001b[1;36m04\u001b[0m-06T\u001b[1;92m00:00:00\u001b[0mZ\r"
      ]
     },
     "metadata": {},
     "output_type": "display_data"
    },
    {
     "data": {
      "text/html": [
       "<pre style=\"white-space:pre;overflow-x:auto;line-height:normal;font-family:Menlo,'DejaVu Sans Mono',consolas,'Courier New',monospace\"><span style=\"color: #008080; text-decoration-color: #008080; font-weight: bold\">1991</span>-<span style=\"color: #008080; text-decoration-color: #008080; font-weight: bold\">04</span>-07T<span style=\"color: #00ff00; text-decoration-color: #00ff00; font-weight: bold\">00:00:00</span>Z\r\n",
       "</pre>\n"
      ],
      "text/plain": [
       "\u001b[1;36m1991\u001b[0m-\u001b[1;36m04\u001b[0m-07T\u001b[1;92m00:00:00\u001b[0mZ\r"
      ]
     },
     "metadata": {},
     "output_type": "display_data"
    },
    {
     "data": {
      "text/html": [
       "<pre style=\"white-space:pre;overflow-x:auto;line-height:normal;font-family:Menlo,'DejaVu Sans Mono',consolas,'Courier New',monospace\"><span style=\"color: #008080; text-decoration-color: #008080; font-weight: bold\">1991</span>-<span style=\"color: #008080; text-decoration-color: #008080; font-weight: bold\">04</span>-08T<span style=\"color: #00ff00; text-decoration-color: #00ff00; font-weight: bold\">00:00:00</span>Z\r\n",
       "</pre>\n"
      ],
      "text/plain": [
       "\u001b[1;36m1991\u001b[0m-\u001b[1;36m04\u001b[0m-08T\u001b[1;92m00:00:00\u001b[0mZ\r"
      ]
     },
     "metadata": {},
     "output_type": "display_data"
    },
    {
     "data": {
      "text/html": [
       "<pre style=\"white-space:pre;overflow-x:auto;line-height:normal;font-family:Menlo,'DejaVu Sans Mono',consolas,'Courier New',monospace\"><span style=\"color: #008080; text-decoration-color: #008080; font-weight: bold\">1991</span>-<span style=\"color: #008080; text-decoration-color: #008080; font-weight: bold\">04</span>-09T<span style=\"color: #00ff00; text-decoration-color: #00ff00; font-weight: bold\">00:00:00</span>Z\r\n",
       "</pre>\n"
      ],
      "text/plain": [
       "\u001b[1;36m1991\u001b[0m-\u001b[1;36m04\u001b[0m-09T\u001b[1;92m00:00:00\u001b[0mZ\r"
      ]
     },
     "metadata": {},
     "output_type": "display_data"
    },
    {
     "data": {
      "text/html": [
       "<pre style=\"white-space:pre;overflow-x:auto;line-height:normal;font-family:Menlo,'DejaVu Sans Mono',consolas,'Courier New',monospace\"><span style=\"color: #008080; text-decoration-color: #008080; font-weight: bold\">1991</span>-<span style=\"color: #008080; text-decoration-color: #008080; font-weight: bold\">04</span>-10T<span style=\"color: #00ff00; text-decoration-color: #00ff00; font-weight: bold\">00:00:00</span>Z\r\n",
       "</pre>\n"
      ],
      "text/plain": [
       "\u001b[1;36m1991\u001b[0m-\u001b[1;36m04\u001b[0m-10T\u001b[1;92m00:00:00\u001b[0mZ\r"
      ]
     },
     "metadata": {},
     "output_type": "display_data"
    },
    {
     "data": {
      "text/html": [
       "<pre style=\"white-space:pre;overflow-x:auto;line-height:normal;font-family:Menlo,'DejaVu Sans Mono',consolas,'Courier New',monospace\"><span style=\"color: #008080; text-decoration-color: #008080; font-weight: bold\">1991</span>-<span style=\"color: #008080; text-decoration-color: #008080; font-weight: bold\">04</span>-11T<span style=\"color: #00ff00; text-decoration-color: #00ff00; font-weight: bold\">00:00:00</span>Z\r\n",
       "</pre>\n"
      ],
      "text/plain": [
       "\u001b[1;36m1991\u001b[0m-\u001b[1;36m04\u001b[0m-11T\u001b[1;92m00:00:00\u001b[0mZ\r"
      ]
     },
     "metadata": {},
     "output_type": "display_data"
    },
    {
     "data": {
      "text/html": [
       "<pre style=\"white-space:pre;overflow-x:auto;line-height:normal;font-family:Menlo,'DejaVu Sans Mono',consolas,'Courier New',monospace\"><span style=\"color: #008080; text-decoration-color: #008080; font-weight: bold\">1991</span>-<span style=\"color: #008080; text-decoration-color: #008080; font-weight: bold\">04</span>-12T<span style=\"color: #00ff00; text-decoration-color: #00ff00; font-weight: bold\">00:00:00</span>Z\r\n",
       "</pre>\n"
      ],
      "text/plain": [
       "\u001b[1;36m1991\u001b[0m-\u001b[1;36m04\u001b[0m-12T\u001b[1;92m00:00:00\u001b[0mZ\r"
      ]
     },
     "metadata": {},
     "output_type": "display_data"
    },
    {
     "data": {
      "text/html": [
       "<pre style=\"white-space:pre;overflow-x:auto;line-height:normal;font-family:Menlo,'DejaVu Sans Mono',consolas,'Courier New',monospace\"><span style=\"color: #008080; text-decoration-color: #008080; font-weight: bold\">1991</span>-<span style=\"color: #008080; text-decoration-color: #008080; font-weight: bold\">04</span>-13T<span style=\"color: #00ff00; text-decoration-color: #00ff00; font-weight: bold\">00:00:00</span>Z\r\n",
       "</pre>\n"
      ],
      "text/plain": [
       "\u001b[1;36m1991\u001b[0m-\u001b[1;36m04\u001b[0m-13T\u001b[1;92m00:00:00\u001b[0mZ\r"
      ]
     },
     "metadata": {},
     "output_type": "display_data"
    },
    {
     "data": {
      "text/html": [
       "<pre style=\"white-space:pre;overflow-x:auto;line-height:normal;font-family:Menlo,'DejaVu Sans Mono',consolas,'Courier New',monospace\"><span style=\"color: #008080; text-decoration-color: #008080; font-weight: bold\">1991</span>-<span style=\"color: #008080; text-decoration-color: #008080; font-weight: bold\">04</span>-14T<span style=\"color: #00ff00; text-decoration-color: #00ff00; font-weight: bold\">00:00:00</span>Z\r\n",
       "</pre>\n"
      ],
      "text/plain": [
       "\u001b[1;36m1991\u001b[0m-\u001b[1;36m04\u001b[0m-14T\u001b[1;92m00:00:00\u001b[0mZ\r"
      ]
     },
     "metadata": {},
     "output_type": "display_data"
    },
    {
     "data": {
      "text/html": [
       "<pre style=\"white-space:pre;overflow-x:auto;line-height:normal;font-family:Menlo,'DejaVu Sans Mono',consolas,'Courier New',monospace\"><span style=\"color: #008080; text-decoration-color: #008080; font-weight: bold\">1991</span>-<span style=\"color: #008080; text-decoration-color: #008080; font-weight: bold\">04</span>-15T<span style=\"color: #00ff00; text-decoration-color: #00ff00; font-weight: bold\">00:00:00</span>Z\r\n",
       "</pre>\n"
      ],
      "text/plain": [
       "\u001b[1;36m1991\u001b[0m-\u001b[1;36m04\u001b[0m-15T\u001b[1;92m00:00:00\u001b[0mZ\r"
      ]
     },
     "metadata": {},
     "output_type": "display_data"
    },
    {
     "data": {
      "text/html": [
       "<pre style=\"white-space:pre;overflow-x:auto;line-height:normal;font-family:Menlo,'DejaVu Sans Mono',consolas,'Courier New',monospace\"><span style=\"color: #008080; text-decoration-color: #008080; font-weight: bold\">1991</span>-<span style=\"color: #008080; text-decoration-color: #008080; font-weight: bold\">04</span>-16T<span style=\"color: #00ff00; text-decoration-color: #00ff00; font-weight: bold\">00:00:00</span>Z\r\n",
       "</pre>\n"
      ],
      "text/plain": [
       "\u001b[1;36m1991\u001b[0m-\u001b[1;36m04\u001b[0m-16T\u001b[1;92m00:00:00\u001b[0mZ\r"
      ]
     },
     "metadata": {},
     "output_type": "display_data"
    },
    {
     "data": {
      "text/html": [
       "<pre style=\"white-space:pre;overflow-x:auto;line-height:normal;font-family:Menlo,'DejaVu Sans Mono',consolas,'Courier New',monospace\"><span style=\"color: #008080; text-decoration-color: #008080; font-weight: bold\">1991</span>-<span style=\"color: #008080; text-decoration-color: #008080; font-weight: bold\">04</span>-17T<span style=\"color: #00ff00; text-decoration-color: #00ff00; font-weight: bold\">00:00:00</span>Z\r\n",
       "</pre>\n"
      ],
      "text/plain": [
       "\u001b[1;36m1991\u001b[0m-\u001b[1;36m04\u001b[0m-17T\u001b[1;92m00:00:00\u001b[0mZ\r"
      ]
     },
     "metadata": {},
     "output_type": "display_data"
    },
    {
     "data": {
      "text/html": [
       "<pre style=\"white-space:pre;overflow-x:auto;line-height:normal;font-family:Menlo,'DejaVu Sans Mono',consolas,'Courier New',monospace\"><span style=\"color: #008080; text-decoration-color: #008080; font-weight: bold\">1991</span>-<span style=\"color: #008080; text-decoration-color: #008080; font-weight: bold\">04</span>-18T<span style=\"color: #00ff00; text-decoration-color: #00ff00; font-weight: bold\">00:00:00</span>Z\r\n",
       "</pre>\n"
      ],
      "text/plain": [
       "\u001b[1;36m1991\u001b[0m-\u001b[1;36m04\u001b[0m-18T\u001b[1;92m00:00:00\u001b[0mZ\r"
      ]
     },
     "metadata": {},
     "output_type": "display_data"
    },
    {
     "data": {
      "text/html": [
       "<pre style=\"white-space:pre;overflow-x:auto;line-height:normal;font-family:Menlo,'DejaVu Sans Mono',consolas,'Courier New',monospace\"><span style=\"color: #008080; text-decoration-color: #008080; font-weight: bold\">1991</span>-<span style=\"color: #008080; text-decoration-color: #008080; font-weight: bold\">04</span>-19T<span style=\"color: #00ff00; text-decoration-color: #00ff00; font-weight: bold\">00:00:00</span>Z\r\n",
       "</pre>\n"
      ],
      "text/plain": [
       "\u001b[1;36m1991\u001b[0m-\u001b[1;36m04\u001b[0m-19T\u001b[1;92m00:00:00\u001b[0mZ\r"
      ]
     },
     "metadata": {},
     "output_type": "display_data"
    },
    {
     "data": {
      "text/html": [
       "<pre style=\"white-space:pre;overflow-x:auto;line-height:normal;font-family:Menlo,'DejaVu Sans Mono',consolas,'Courier New',monospace\"><span style=\"color: #008080; text-decoration-color: #008080; font-weight: bold\">1991</span>-<span style=\"color: #008080; text-decoration-color: #008080; font-weight: bold\">04</span>-20T<span style=\"color: #00ff00; text-decoration-color: #00ff00; font-weight: bold\">00:00:00</span>Z\r\n",
       "</pre>\n"
      ],
      "text/plain": [
       "\u001b[1;36m1991\u001b[0m-\u001b[1;36m04\u001b[0m-20T\u001b[1;92m00:00:00\u001b[0mZ\r"
      ]
     },
     "metadata": {},
     "output_type": "display_data"
    },
    {
     "data": {
      "text/html": [
       "<pre style=\"white-space:pre;overflow-x:auto;line-height:normal;font-family:Menlo,'DejaVu Sans Mono',consolas,'Courier New',monospace\"><span style=\"color: #008080; text-decoration-color: #008080; font-weight: bold\">1991</span>-<span style=\"color: #008080; text-decoration-color: #008080; font-weight: bold\">04</span>-21T<span style=\"color: #00ff00; text-decoration-color: #00ff00; font-weight: bold\">00:00:00</span>Z\r\n",
       "</pre>\n"
      ],
      "text/plain": [
       "\u001b[1;36m1991\u001b[0m-\u001b[1;36m04\u001b[0m-21T\u001b[1;92m00:00:00\u001b[0mZ\r"
      ]
     },
     "metadata": {},
     "output_type": "display_data"
    },
    {
     "data": {
      "text/html": [
       "<pre style=\"white-space:pre;overflow-x:auto;line-height:normal;font-family:Menlo,'DejaVu Sans Mono',consolas,'Courier New',monospace\"><span style=\"color: #008080; text-decoration-color: #008080; font-weight: bold\">1991</span>-<span style=\"color: #008080; text-decoration-color: #008080; font-weight: bold\">04</span>-22T<span style=\"color: #00ff00; text-decoration-color: #00ff00; font-weight: bold\">00:00:00</span>Z\r\n",
       "</pre>\n"
      ],
      "text/plain": [
       "\u001b[1;36m1991\u001b[0m-\u001b[1;36m04\u001b[0m-22T\u001b[1;92m00:00:00\u001b[0mZ\r"
      ]
     },
     "metadata": {},
     "output_type": "display_data"
    },
    {
     "data": {
      "text/html": [
       "<pre style=\"white-space:pre;overflow-x:auto;line-height:normal;font-family:Menlo,'DejaVu Sans Mono',consolas,'Courier New',monospace\"><span style=\"color: #008080; text-decoration-color: #008080; font-weight: bold\">1991</span>-<span style=\"color: #008080; text-decoration-color: #008080; font-weight: bold\">04</span>-23T<span style=\"color: #00ff00; text-decoration-color: #00ff00; font-weight: bold\">00:00:00</span>Z\r\n",
       "</pre>\n"
      ],
      "text/plain": [
       "\u001b[1;36m1991\u001b[0m-\u001b[1;36m04\u001b[0m-23T\u001b[1;92m00:00:00\u001b[0mZ\r"
      ]
     },
     "metadata": {},
     "output_type": "display_data"
    },
    {
     "data": {
      "text/html": [
       "<pre style=\"white-space:pre;overflow-x:auto;line-height:normal;font-family:Menlo,'DejaVu Sans Mono',consolas,'Courier New',monospace\"><span style=\"color: #008080; text-decoration-color: #008080; font-weight: bold\">1991</span>-<span style=\"color: #008080; text-decoration-color: #008080; font-weight: bold\">04</span>-24T<span style=\"color: #00ff00; text-decoration-color: #00ff00; font-weight: bold\">00:00:00</span>Z\r\n",
       "</pre>\n"
      ],
      "text/plain": [
       "\u001b[1;36m1991\u001b[0m-\u001b[1;36m04\u001b[0m-24T\u001b[1;92m00:00:00\u001b[0mZ\r"
      ]
     },
     "metadata": {},
     "output_type": "display_data"
    },
    {
     "data": {
      "text/html": [
       "<pre style=\"white-space:pre;overflow-x:auto;line-height:normal;font-family:Menlo,'DejaVu Sans Mono',consolas,'Courier New',monospace\"><span style=\"color: #008080; text-decoration-color: #008080; font-weight: bold\">1991</span>-<span style=\"color: #008080; text-decoration-color: #008080; font-weight: bold\">04</span>-25T<span style=\"color: #00ff00; text-decoration-color: #00ff00; font-weight: bold\">00:00:00</span>Z\r\n",
       "</pre>\n"
      ],
      "text/plain": [
       "\u001b[1;36m1991\u001b[0m-\u001b[1;36m04\u001b[0m-25T\u001b[1;92m00:00:00\u001b[0mZ\r"
      ]
     },
     "metadata": {},
     "output_type": "display_data"
    },
    {
     "data": {
      "text/html": [
       "<pre style=\"white-space:pre;overflow-x:auto;line-height:normal;font-family:Menlo,'DejaVu Sans Mono',consolas,'Courier New',monospace\"><span style=\"color: #008080; text-decoration-color: #008080; font-weight: bold\">1991</span>-<span style=\"color: #008080; text-decoration-color: #008080; font-weight: bold\">04</span>-26T<span style=\"color: #00ff00; text-decoration-color: #00ff00; font-weight: bold\">00:00:00</span>Z\r\n",
       "</pre>\n"
      ],
      "text/plain": [
       "\u001b[1;36m1991\u001b[0m-\u001b[1;36m04\u001b[0m-26T\u001b[1;92m00:00:00\u001b[0mZ\r"
      ]
     },
     "metadata": {},
     "output_type": "display_data"
    },
    {
     "data": {
      "text/html": [
       "<pre style=\"white-space:pre;overflow-x:auto;line-height:normal;font-family:Menlo,'DejaVu Sans Mono',consolas,'Courier New',monospace\"><span style=\"color: #008080; text-decoration-color: #008080; font-weight: bold\">1991</span>-<span style=\"color: #008080; text-decoration-color: #008080; font-weight: bold\">04</span>-27T<span style=\"color: #00ff00; text-decoration-color: #00ff00; font-weight: bold\">00:00:00</span>Z\r\n",
       "</pre>\n"
      ],
      "text/plain": [
       "\u001b[1;36m1991\u001b[0m-\u001b[1;36m04\u001b[0m-27T\u001b[1;92m00:00:00\u001b[0mZ\r"
      ]
     },
     "metadata": {},
     "output_type": "display_data"
    },
    {
     "data": {
      "text/html": [
       "<pre style=\"white-space:pre;overflow-x:auto;line-height:normal;font-family:Menlo,'DejaVu Sans Mono',consolas,'Courier New',monospace\"><span style=\"color: #008080; text-decoration-color: #008080; font-weight: bold\">1991</span>-<span style=\"color: #008080; text-decoration-color: #008080; font-weight: bold\">04</span>-28T<span style=\"color: #00ff00; text-decoration-color: #00ff00; font-weight: bold\">00:00:00</span>Z\r\n",
       "</pre>\n"
      ],
      "text/plain": [
       "\u001b[1;36m1991\u001b[0m-\u001b[1;36m04\u001b[0m-28T\u001b[1;92m00:00:00\u001b[0mZ\r"
      ]
     },
     "metadata": {},
     "output_type": "display_data"
    },
    {
     "data": {
      "text/html": [
       "<pre style=\"white-space:pre;overflow-x:auto;line-height:normal;font-family:Menlo,'DejaVu Sans Mono',consolas,'Courier New',monospace\"><span style=\"color: #008080; text-decoration-color: #008080; font-weight: bold\">1991</span>-<span style=\"color: #008080; text-decoration-color: #008080; font-weight: bold\">04</span>-29T<span style=\"color: #00ff00; text-decoration-color: #00ff00; font-weight: bold\">00:00:00</span>Z\r\n",
       "</pre>\n"
      ],
      "text/plain": [
       "\u001b[1;36m1991\u001b[0m-\u001b[1;36m04\u001b[0m-29T\u001b[1;92m00:00:00\u001b[0mZ\r"
      ]
     },
     "metadata": {},
     "output_type": "display_data"
    },
    {
     "data": {
      "text/html": [
       "<pre style=\"white-space:pre;overflow-x:auto;line-height:normal;font-family:Menlo,'DejaVu Sans Mono',consolas,'Courier New',monospace\"><span style=\"color: #008080; text-decoration-color: #008080; font-weight: bold\">1991</span>-<span style=\"color: #008080; text-decoration-color: #008080; font-weight: bold\">04</span>-30T<span style=\"color: #00ff00; text-decoration-color: #00ff00; font-weight: bold\">00:00:00</span>Z\r\n",
       "</pre>\n"
      ],
      "text/plain": [
       "\u001b[1;36m1991\u001b[0m-\u001b[1;36m04\u001b[0m-30T\u001b[1;92m00:00:00\u001b[0mZ\r"
      ]
     },
     "metadata": {},
     "output_type": "display_data"
    },
    {
     "data": {
      "text/html": [
       "<pre style=\"white-space:pre;overflow-x:auto;line-height:normal;font-family:Menlo,'DejaVu Sans Mono',consolas,'Courier New',monospace\"><span style=\"color: #008080; text-decoration-color: #008080; font-weight: bold\">1991</span>-<span style=\"color: #008080; text-decoration-color: #008080; font-weight: bold\">05</span>-01T<span style=\"color: #00ff00; text-decoration-color: #00ff00; font-weight: bold\">00:00:00</span>Z\r\n",
       "</pre>\n"
      ],
      "text/plain": [
       "\u001b[1;36m1991\u001b[0m-\u001b[1;36m05\u001b[0m-01T\u001b[1;92m00:00:00\u001b[0mZ\r"
      ]
     },
     "metadata": {},
     "output_type": "display_data"
    },
    {
     "data": {
      "text/html": [
       "<pre style=\"white-space:pre;overflow-x:auto;line-height:normal;font-family:Menlo,'DejaVu Sans Mono',consolas,'Courier New',monospace\"><span style=\"color: #008080; text-decoration-color: #008080; font-weight: bold\">1991</span>-<span style=\"color: #008080; text-decoration-color: #008080; font-weight: bold\">05</span>-02T<span style=\"color: #00ff00; text-decoration-color: #00ff00; font-weight: bold\">00:00:00</span>Z\r\n",
       "</pre>\n"
      ],
      "text/plain": [
       "\u001b[1;36m1991\u001b[0m-\u001b[1;36m05\u001b[0m-02T\u001b[1;92m00:00:00\u001b[0mZ\r"
      ]
     },
     "metadata": {},
     "output_type": "display_data"
    },
    {
     "data": {
      "text/html": [
       "<pre style=\"white-space:pre;overflow-x:auto;line-height:normal;font-family:Menlo,'DejaVu Sans Mono',consolas,'Courier New',monospace\"><span style=\"color: #008080; text-decoration-color: #008080; font-weight: bold\">1991</span>-<span style=\"color: #008080; text-decoration-color: #008080; font-weight: bold\">05</span>-03T<span style=\"color: #00ff00; text-decoration-color: #00ff00; font-weight: bold\">00:00:00</span>Z\r\n",
       "</pre>\n"
      ],
      "text/plain": [
       "\u001b[1;36m1991\u001b[0m-\u001b[1;36m05\u001b[0m-03T\u001b[1;92m00:00:00\u001b[0mZ\r"
      ]
     },
     "metadata": {},
     "output_type": "display_data"
    },
    {
     "data": {
      "text/html": [
       "<pre style=\"white-space:pre;overflow-x:auto;line-height:normal;font-family:Menlo,'DejaVu Sans Mono',consolas,'Courier New',monospace\"><span style=\"color: #008080; text-decoration-color: #008080; font-weight: bold\">1991</span>-<span style=\"color: #008080; text-decoration-color: #008080; font-weight: bold\">05</span>-04T<span style=\"color: #00ff00; text-decoration-color: #00ff00; font-weight: bold\">00:00:00</span>Z\r\n",
       "</pre>\n"
      ],
      "text/plain": [
       "\u001b[1;36m1991\u001b[0m-\u001b[1;36m05\u001b[0m-04T\u001b[1;92m00:00:00\u001b[0mZ\r"
      ]
     },
     "metadata": {},
     "output_type": "display_data"
    },
    {
     "data": {
      "text/html": [
       "<pre style=\"white-space:pre;overflow-x:auto;line-height:normal;font-family:Menlo,'DejaVu Sans Mono',consolas,'Courier New',monospace\"><span style=\"color: #008080; text-decoration-color: #008080; font-weight: bold\">1991</span>-<span style=\"color: #008080; text-decoration-color: #008080; font-weight: bold\">05</span>-05T<span style=\"color: #00ff00; text-decoration-color: #00ff00; font-weight: bold\">00:00:00</span>Z\r\n",
       "</pre>\n"
      ],
      "text/plain": [
       "\u001b[1;36m1991\u001b[0m-\u001b[1;36m05\u001b[0m-05T\u001b[1;92m00:00:00\u001b[0mZ\r"
      ]
     },
     "metadata": {},
     "output_type": "display_data"
    },
    {
     "data": {
      "text/html": [
       "<pre style=\"white-space:pre;overflow-x:auto;line-height:normal;font-family:Menlo,'DejaVu Sans Mono',consolas,'Courier New',monospace\"><span style=\"color: #008080; text-decoration-color: #008080; font-weight: bold\">1991</span>-<span style=\"color: #008080; text-decoration-color: #008080; font-weight: bold\">05</span>-06T<span style=\"color: #00ff00; text-decoration-color: #00ff00; font-weight: bold\">00:00:00</span>Z\r\n",
       "</pre>\n"
      ],
      "text/plain": [
       "\u001b[1;36m1991\u001b[0m-\u001b[1;36m05\u001b[0m-06T\u001b[1;92m00:00:00\u001b[0mZ\r"
      ]
     },
     "metadata": {},
     "output_type": "display_data"
    },
    {
     "data": {
      "text/html": [
       "<pre style=\"white-space:pre;overflow-x:auto;line-height:normal;font-family:Menlo,'DejaVu Sans Mono',consolas,'Courier New',monospace\"><span style=\"color: #008080; text-decoration-color: #008080; font-weight: bold\">1991</span>-<span style=\"color: #008080; text-decoration-color: #008080; font-weight: bold\">05</span>-07T<span style=\"color: #00ff00; text-decoration-color: #00ff00; font-weight: bold\">00:00:00</span>Z\r\n",
       "</pre>\n"
      ],
      "text/plain": [
       "\u001b[1;36m1991\u001b[0m-\u001b[1;36m05\u001b[0m-07T\u001b[1;92m00:00:00\u001b[0mZ\r"
      ]
     },
     "metadata": {},
     "output_type": "display_data"
    },
    {
     "data": {
      "text/html": [
       "<pre style=\"white-space:pre;overflow-x:auto;line-height:normal;font-family:Menlo,'DejaVu Sans Mono',consolas,'Courier New',monospace\"><span style=\"color: #008080; text-decoration-color: #008080; font-weight: bold\">1991</span>-<span style=\"color: #008080; text-decoration-color: #008080; font-weight: bold\">05</span>-08T<span style=\"color: #00ff00; text-decoration-color: #00ff00; font-weight: bold\">00:00:00</span>Z\r\n",
       "</pre>\n"
      ],
      "text/plain": [
       "\u001b[1;36m1991\u001b[0m-\u001b[1;36m05\u001b[0m-08T\u001b[1;92m00:00:00\u001b[0mZ\r"
      ]
     },
     "metadata": {},
     "output_type": "display_data"
    },
    {
     "data": {
      "text/html": [
       "<pre style=\"white-space:pre;overflow-x:auto;line-height:normal;font-family:Menlo,'DejaVu Sans Mono',consolas,'Courier New',monospace\"><span style=\"color: #008080; text-decoration-color: #008080; font-weight: bold\">1991</span>-<span style=\"color: #008080; text-decoration-color: #008080; font-weight: bold\">05</span>-09T<span style=\"color: #00ff00; text-decoration-color: #00ff00; font-weight: bold\">00:00:00</span>Z\r\n",
       "</pre>\n"
      ],
      "text/plain": [
       "\u001b[1;36m1991\u001b[0m-\u001b[1;36m05\u001b[0m-09T\u001b[1;92m00:00:00\u001b[0mZ\r"
      ]
     },
     "metadata": {},
     "output_type": "display_data"
    },
    {
     "data": {
      "text/html": [
       "<pre style=\"white-space:pre;overflow-x:auto;line-height:normal;font-family:Menlo,'DejaVu Sans Mono',consolas,'Courier New',monospace\"><span style=\"color: #008080; text-decoration-color: #008080; font-weight: bold\">1991</span>-<span style=\"color: #008080; text-decoration-color: #008080; font-weight: bold\">05</span>-10T<span style=\"color: #00ff00; text-decoration-color: #00ff00; font-weight: bold\">00:00:00</span>Z\r\n",
       "</pre>\n"
      ],
      "text/plain": [
       "\u001b[1;36m1991\u001b[0m-\u001b[1;36m05\u001b[0m-10T\u001b[1;92m00:00:00\u001b[0mZ\r"
      ]
     },
     "metadata": {},
     "output_type": "display_data"
    },
    {
     "data": {
      "text/html": [
       "<pre style=\"white-space:pre;overflow-x:auto;line-height:normal;font-family:Menlo,'DejaVu Sans Mono',consolas,'Courier New',monospace\"><span style=\"color: #008080; text-decoration-color: #008080; font-weight: bold\">1991</span>-<span style=\"color: #008080; text-decoration-color: #008080; font-weight: bold\">05</span>-11T<span style=\"color: #00ff00; text-decoration-color: #00ff00; font-weight: bold\">00:00:00</span>Z\r\n",
       "</pre>\n"
      ],
      "text/plain": [
       "\u001b[1;36m1991\u001b[0m-\u001b[1;36m05\u001b[0m-11T\u001b[1;92m00:00:00\u001b[0mZ\r"
      ]
     },
     "metadata": {},
     "output_type": "display_data"
    },
    {
     "data": {
      "text/html": [
       "<pre style=\"white-space:pre;overflow-x:auto;line-height:normal;font-family:Menlo,'DejaVu Sans Mono',consolas,'Courier New',monospace\"><span style=\"color: #008080; text-decoration-color: #008080; font-weight: bold\">1991</span>-<span style=\"color: #008080; text-decoration-color: #008080; font-weight: bold\">05</span>-12T<span style=\"color: #00ff00; text-decoration-color: #00ff00; font-weight: bold\">00:00:00</span>Z\r\n",
       "</pre>\n"
      ],
      "text/plain": [
       "\u001b[1;36m1991\u001b[0m-\u001b[1;36m05\u001b[0m-12T\u001b[1;92m00:00:00\u001b[0mZ\r"
      ]
     },
     "metadata": {},
     "output_type": "display_data"
    },
    {
     "data": {
      "text/html": [
       "<pre style=\"white-space:pre;overflow-x:auto;line-height:normal;font-family:Menlo,'DejaVu Sans Mono',consolas,'Courier New',monospace\"><span style=\"color: #008080; text-decoration-color: #008080; font-weight: bold\">1991</span>-<span style=\"color: #008080; text-decoration-color: #008080; font-weight: bold\">05</span>-13T<span style=\"color: #00ff00; text-decoration-color: #00ff00; font-weight: bold\">00:00:00</span>Z\r\n",
       "</pre>\n"
      ],
      "text/plain": [
       "\u001b[1;36m1991\u001b[0m-\u001b[1;36m05\u001b[0m-13T\u001b[1;92m00:00:00\u001b[0mZ\r"
      ]
     },
     "metadata": {},
     "output_type": "display_data"
    },
    {
     "data": {
      "text/html": [
       "<pre style=\"white-space:pre;overflow-x:auto;line-height:normal;font-family:Menlo,'DejaVu Sans Mono',consolas,'Courier New',monospace\"><span style=\"color: #008080; text-decoration-color: #008080; font-weight: bold\">1991</span>-<span style=\"color: #008080; text-decoration-color: #008080; font-weight: bold\">05</span>-14T<span style=\"color: #00ff00; text-decoration-color: #00ff00; font-weight: bold\">00:00:00</span>Z\r\n",
       "</pre>\n"
      ],
      "text/plain": [
       "\u001b[1;36m1991\u001b[0m-\u001b[1;36m05\u001b[0m-14T\u001b[1;92m00:00:00\u001b[0mZ\r"
      ]
     },
     "metadata": {},
     "output_type": "display_data"
    },
    {
     "data": {
      "text/html": [
       "<pre style=\"white-space:pre;overflow-x:auto;line-height:normal;font-family:Menlo,'DejaVu Sans Mono',consolas,'Courier New',monospace\"><span style=\"color: #008080; text-decoration-color: #008080; font-weight: bold\">1991</span>-<span style=\"color: #008080; text-decoration-color: #008080; font-weight: bold\">05</span>-15T<span style=\"color: #00ff00; text-decoration-color: #00ff00; font-weight: bold\">00:00:00</span>Z\r\n",
       "</pre>\n"
      ],
      "text/plain": [
       "\u001b[1;36m1991\u001b[0m-\u001b[1;36m05\u001b[0m-15T\u001b[1;92m00:00:00\u001b[0mZ\r"
      ]
     },
     "metadata": {},
     "output_type": "display_data"
    },
    {
     "data": {
      "text/html": [
       "<pre style=\"white-space:pre;overflow-x:auto;line-height:normal;font-family:Menlo,'DejaVu Sans Mono',consolas,'Courier New',monospace\"><span style=\"color: #008080; text-decoration-color: #008080; font-weight: bold\">1991</span>-<span style=\"color: #008080; text-decoration-color: #008080; font-weight: bold\">05</span>-16T<span style=\"color: #00ff00; text-decoration-color: #00ff00; font-weight: bold\">00:00:00</span>Z\r\n",
       "</pre>\n"
      ],
      "text/plain": [
       "\u001b[1;36m1991\u001b[0m-\u001b[1;36m05\u001b[0m-16T\u001b[1;92m00:00:00\u001b[0mZ\r"
      ]
     },
     "metadata": {},
     "output_type": "display_data"
    },
    {
     "data": {
      "text/html": [
       "<pre style=\"white-space:pre;overflow-x:auto;line-height:normal;font-family:Menlo,'DejaVu Sans Mono',consolas,'Courier New',monospace\"><span style=\"color: #008080; text-decoration-color: #008080; font-weight: bold\">1991</span>-<span style=\"color: #008080; text-decoration-color: #008080; font-weight: bold\">05</span>-17T<span style=\"color: #00ff00; text-decoration-color: #00ff00; font-weight: bold\">00:00:00</span>Z\r\n",
       "</pre>\n"
      ],
      "text/plain": [
       "\u001b[1;36m1991\u001b[0m-\u001b[1;36m05\u001b[0m-17T\u001b[1;92m00:00:00\u001b[0mZ\r"
      ]
     },
     "metadata": {},
     "output_type": "display_data"
    },
    {
     "data": {
      "text/html": [
       "<pre style=\"white-space:pre;overflow-x:auto;line-height:normal;font-family:Menlo,'DejaVu Sans Mono',consolas,'Courier New',monospace\"><span style=\"color: #008080; text-decoration-color: #008080; font-weight: bold\">1991</span>-<span style=\"color: #008080; text-decoration-color: #008080; font-weight: bold\">05</span>-18T<span style=\"color: #00ff00; text-decoration-color: #00ff00; font-weight: bold\">00:00:00</span>Z\r\n",
       "</pre>\n"
      ],
      "text/plain": [
       "\u001b[1;36m1991\u001b[0m-\u001b[1;36m05\u001b[0m-18T\u001b[1;92m00:00:00\u001b[0mZ\r"
      ]
     },
     "metadata": {},
     "output_type": "display_data"
    },
    {
     "data": {
      "text/html": [
       "<pre style=\"white-space:pre;overflow-x:auto;line-height:normal;font-family:Menlo,'DejaVu Sans Mono',consolas,'Courier New',monospace\"><span style=\"color: #008080; text-decoration-color: #008080; font-weight: bold\">1991</span>-<span style=\"color: #008080; text-decoration-color: #008080; font-weight: bold\">05</span>-19T<span style=\"color: #00ff00; text-decoration-color: #00ff00; font-weight: bold\">00:00:00</span>Z\r\n",
       "</pre>\n"
      ],
      "text/plain": [
       "\u001b[1;36m1991\u001b[0m-\u001b[1;36m05\u001b[0m-19T\u001b[1;92m00:00:00\u001b[0mZ\r"
      ]
     },
     "metadata": {},
     "output_type": "display_data"
    },
    {
     "data": {
      "text/html": [
       "<pre style=\"white-space:pre;overflow-x:auto;line-height:normal;font-family:Menlo,'DejaVu Sans Mono',consolas,'Courier New',monospace\"><span style=\"color: #008080; text-decoration-color: #008080; font-weight: bold\">1991</span>-<span style=\"color: #008080; text-decoration-color: #008080; font-weight: bold\">05</span>-20T<span style=\"color: #00ff00; text-decoration-color: #00ff00; font-weight: bold\">00:00:00</span>Z\r\n",
       "</pre>\n"
      ],
      "text/plain": [
       "\u001b[1;36m1991\u001b[0m-\u001b[1;36m05\u001b[0m-20T\u001b[1;92m00:00:00\u001b[0mZ\r"
      ]
     },
     "metadata": {},
     "output_type": "display_data"
    },
    {
     "data": {
      "text/html": [
       "<pre style=\"white-space:pre;overflow-x:auto;line-height:normal;font-family:Menlo,'DejaVu Sans Mono',consolas,'Courier New',monospace\"><span style=\"color: #008080; text-decoration-color: #008080; font-weight: bold\">1991</span>-<span style=\"color: #008080; text-decoration-color: #008080; font-weight: bold\">05</span>-21T<span style=\"color: #00ff00; text-decoration-color: #00ff00; font-weight: bold\">00:00:00</span>Z\r\n",
       "</pre>\n"
      ],
      "text/plain": [
       "\u001b[1;36m1991\u001b[0m-\u001b[1;36m05\u001b[0m-21T\u001b[1;92m00:00:00\u001b[0mZ\r"
      ]
     },
     "metadata": {},
     "output_type": "display_data"
    },
    {
     "data": {
      "text/html": [
       "<pre style=\"white-space:pre;overflow-x:auto;line-height:normal;font-family:Menlo,'DejaVu Sans Mono',consolas,'Courier New',monospace\"><span style=\"color: #008080; text-decoration-color: #008080; font-weight: bold\">1991</span>-<span style=\"color: #008080; text-decoration-color: #008080; font-weight: bold\">05</span>-22T<span style=\"color: #00ff00; text-decoration-color: #00ff00; font-weight: bold\">00:00:00</span>Z\r\n",
       "</pre>\n"
      ],
      "text/plain": [
       "\u001b[1;36m1991\u001b[0m-\u001b[1;36m05\u001b[0m-22T\u001b[1;92m00:00:00\u001b[0mZ\r"
      ]
     },
     "metadata": {},
     "output_type": "display_data"
    },
    {
     "data": {
      "text/html": [
       "<pre style=\"white-space:pre;overflow-x:auto;line-height:normal;font-family:Menlo,'DejaVu Sans Mono',consolas,'Courier New',monospace\"><span style=\"color: #008080; text-decoration-color: #008080; font-weight: bold\">1991</span>-<span style=\"color: #008080; text-decoration-color: #008080; font-weight: bold\">05</span>-23T<span style=\"color: #00ff00; text-decoration-color: #00ff00; font-weight: bold\">00:00:00</span>Z\r\n",
       "</pre>\n"
      ],
      "text/plain": [
       "\u001b[1;36m1991\u001b[0m-\u001b[1;36m05\u001b[0m-23T\u001b[1;92m00:00:00\u001b[0mZ\r"
      ]
     },
     "metadata": {},
     "output_type": "display_data"
    },
    {
     "data": {
      "text/html": [
       "<pre style=\"white-space:pre;overflow-x:auto;line-height:normal;font-family:Menlo,'DejaVu Sans Mono',consolas,'Courier New',monospace\"><span style=\"color: #008080; text-decoration-color: #008080; font-weight: bold\">1991</span>-<span style=\"color: #008080; text-decoration-color: #008080; font-weight: bold\">05</span>-24T<span style=\"color: #00ff00; text-decoration-color: #00ff00; font-weight: bold\">00:00:00</span>Z\r\n",
       "</pre>\n"
      ],
      "text/plain": [
       "\u001b[1;36m1991\u001b[0m-\u001b[1;36m05\u001b[0m-24T\u001b[1;92m00:00:00\u001b[0mZ\r"
      ]
     },
     "metadata": {},
     "output_type": "display_data"
    },
    {
     "data": {
      "text/html": [
       "<pre style=\"white-space:pre;overflow-x:auto;line-height:normal;font-family:Menlo,'DejaVu Sans Mono',consolas,'Courier New',monospace\"><span style=\"color: #008080; text-decoration-color: #008080; font-weight: bold\">1991</span>-<span style=\"color: #008080; text-decoration-color: #008080; font-weight: bold\">05</span>-25T<span style=\"color: #00ff00; text-decoration-color: #00ff00; font-weight: bold\">00:00:00</span>Z\r\n",
       "</pre>\n"
      ],
      "text/plain": [
       "\u001b[1;36m1991\u001b[0m-\u001b[1;36m05\u001b[0m-25T\u001b[1;92m00:00:00\u001b[0mZ\r"
      ]
     },
     "metadata": {},
     "output_type": "display_data"
    },
    {
     "data": {
      "text/html": [
       "<pre style=\"white-space:pre;overflow-x:auto;line-height:normal;font-family:Menlo,'DejaVu Sans Mono',consolas,'Courier New',monospace\"><span style=\"color: #008080; text-decoration-color: #008080; font-weight: bold\">1991</span>-<span style=\"color: #008080; text-decoration-color: #008080; font-weight: bold\">05</span>-26T<span style=\"color: #00ff00; text-decoration-color: #00ff00; font-weight: bold\">00:00:00</span>Z\r\n",
       "</pre>\n"
      ],
      "text/plain": [
       "\u001b[1;36m1991\u001b[0m-\u001b[1;36m05\u001b[0m-26T\u001b[1;92m00:00:00\u001b[0mZ\r"
      ]
     },
     "metadata": {},
     "output_type": "display_data"
    },
    {
     "data": {
      "text/html": [
       "<pre style=\"white-space:pre;overflow-x:auto;line-height:normal;font-family:Menlo,'DejaVu Sans Mono',consolas,'Courier New',monospace\"><span style=\"color: #008080; text-decoration-color: #008080; font-weight: bold\">1991</span>-<span style=\"color: #008080; text-decoration-color: #008080; font-weight: bold\">05</span>-27T<span style=\"color: #00ff00; text-decoration-color: #00ff00; font-weight: bold\">00:00:00</span>Z\r\n",
       "</pre>\n"
      ],
      "text/plain": [
       "\u001b[1;36m1991\u001b[0m-\u001b[1;36m05\u001b[0m-27T\u001b[1;92m00:00:00\u001b[0mZ\r"
      ]
     },
     "metadata": {},
     "output_type": "display_data"
    },
    {
     "data": {
      "text/html": [
       "<pre style=\"white-space:pre;overflow-x:auto;line-height:normal;font-family:Menlo,'DejaVu Sans Mono',consolas,'Courier New',monospace\"><span style=\"color: #008080; text-decoration-color: #008080; font-weight: bold\">1991</span>-<span style=\"color: #008080; text-decoration-color: #008080; font-weight: bold\">05</span>-28T<span style=\"color: #00ff00; text-decoration-color: #00ff00; font-weight: bold\">00:00:00</span>Z\r\n",
       "</pre>\n"
      ],
      "text/plain": [
       "\u001b[1;36m1991\u001b[0m-\u001b[1;36m05\u001b[0m-28T\u001b[1;92m00:00:00\u001b[0mZ\r"
      ]
     },
     "metadata": {},
     "output_type": "display_data"
    },
    {
     "data": {
      "text/html": [
       "<pre style=\"white-space:pre;overflow-x:auto;line-height:normal;font-family:Menlo,'DejaVu Sans Mono',consolas,'Courier New',monospace\"><span style=\"color: #008080; text-decoration-color: #008080; font-weight: bold\">1991</span>-<span style=\"color: #008080; text-decoration-color: #008080; font-weight: bold\">05</span>-29T<span style=\"color: #00ff00; text-decoration-color: #00ff00; font-weight: bold\">00:00:00</span>Z\r\n",
       "</pre>\n"
      ],
      "text/plain": [
       "\u001b[1;36m1991\u001b[0m-\u001b[1;36m05\u001b[0m-29T\u001b[1;92m00:00:00\u001b[0mZ\r"
      ]
     },
     "metadata": {},
     "output_type": "display_data"
    },
    {
     "data": {
      "text/html": [
       "<pre style=\"white-space:pre;overflow-x:auto;line-height:normal;font-family:Menlo,'DejaVu Sans Mono',consolas,'Courier New',monospace\"><span style=\"color: #008080; text-decoration-color: #008080; font-weight: bold\">1991</span>-<span style=\"color: #008080; text-decoration-color: #008080; font-weight: bold\">05</span>-30T<span style=\"color: #00ff00; text-decoration-color: #00ff00; font-weight: bold\">00:00:00</span>Z\r\n",
       "</pre>\n"
      ],
      "text/plain": [
       "\u001b[1;36m1991\u001b[0m-\u001b[1;36m05\u001b[0m-30T\u001b[1;92m00:00:00\u001b[0mZ\r"
      ]
     },
     "metadata": {},
     "output_type": "display_data"
    },
    {
     "data": {
      "text/html": [
       "<pre style=\"white-space:pre;overflow-x:auto;line-height:normal;font-family:Menlo,'DejaVu Sans Mono',consolas,'Courier New',monospace\"><span style=\"color: #008080; text-decoration-color: #008080; font-weight: bold\">1991</span>-<span style=\"color: #008080; text-decoration-color: #008080; font-weight: bold\">05</span>-31T<span style=\"color: #00ff00; text-decoration-color: #00ff00; font-weight: bold\">00:00:00</span>Z\r\n",
       "</pre>\n"
      ],
      "text/plain": [
       "\u001b[1;36m1991\u001b[0m-\u001b[1;36m05\u001b[0m-31T\u001b[1;92m00:00:00\u001b[0mZ\r"
      ]
     },
     "metadata": {},
     "output_type": "display_data"
    },
    {
     "data": {
      "text/html": [
       "<pre style=\"white-space:pre;overflow-x:auto;line-height:normal;font-family:Menlo,'DejaVu Sans Mono',consolas,'Courier New',monospace\"><span style=\"color: #008080; text-decoration-color: #008080; font-weight: bold\">1991</span>-<span style=\"color: #008080; text-decoration-color: #008080; font-weight: bold\">06</span>-01T<span style=\"color: #00ff00; text-decoration-color: #00ff00; font-weight: bold\">00:00:00</span>Z\r\n",
       "</pre>\n"
      ],
      "text/plain": [
       "\u001b[1;36m1991\u001b[0m-\u001b[1;36m06\u001b[0m-01T\u001b[1;92m00:00:00\u001b[0mZ\r"
      ]
     },
     "metadata": {},
     "output_type": "display_data"
    },
    {
     "data": {
      "text/html": [
       "<pre style=\"white-space:pre;overflow-x:auto;line-height:normal;font-family:Menlo,'DejaVu Sans Mono',consolas,'Courier New',monospace\"><span style=\"color: #008080; text-decoration-color: #008080; font-weight: bold\">1991</span>-<span style=\"color: #008080; text-decoration-color: #008080; font-weight: bold\">06</span>-02T<span style=\"color: #00ff00; text-decoration-color: #00ff00; font-weight: bold\">00:00:00</span>Z\r\n",
       "</pre>\n"
      ],
      "text/plain": [
       "\u001b[1;36m1991\u001b[0m-\u001b[1;36m06\u001b[0m-02T\u001b[1;92m00:00:00\u001b[0mZ\r"
      ]
     },
     "metadata": {},
     "output_type": "display_data"
    },
    {
     "data": {
      "text/html": [
       "<pre style=\"white-space:pre;overflow-x:auto;line-height:normal;font-family:Menlo,'DejaVu Sans Mono',consolas,'Courier New',monospace\"><span style=\"color: #008080; text-decoration-color: #008080; font-weight: bold\">1991</span>-<span style=\"color: #008080; text-decoration-color: #008080; font-weight: bold\">06</span>-03T<span style=\"color: #00ff00; text-decoration-color: #00ff00; font-weight: bold\">00:00:00</span>Z\r\n",
       "</pre>\n"
      ],
      "text/plain": [
       "\u001b[1;36m1991\u001b[0m-\u001b[1;36m06\u001b[0m-03T\u001b[1;92m00:00:00\u001b[0mZ\r"
      ]
     },
     "metadata": {},
     "output_type": "display_data"
    },
    {
     "data": {
      "text/html": [
       "<pre style=\"white-space:pre;overflow-x:auto;line-height:normal;font-family:Menlo,'DejaVu Sans Mono',consolas,'Courier New',monospace\"><span style=\"color: #008080; text-decoration-color: #008080; font-weight: bold\">1991</span>-<span style=\"color: #008080; text-decoration-color: #008080; font-weight: bold\">06</span>-04T<span style=\"color: #00ff00; text-decoration-color: #00ff00; font-weight: bold\">00:00:00</span>Z\r\n",
       "</pre>\n"
      ],
      "text/plain": [
       "\u001b[1;36m1991\u001b[0m-\u001b[1;36m06\u001b[0m-04T\u001b[1;92m00:00:00\u001b[0mZ\r"
      ]
     },
     "metadata": {},
     "output_type": "display_data"
    },
    {
     "data": {
      "text/html": [
       "<pre style=\"white-space:pre;overflow-x:auto;line-height:normal;font-family:Menlo,'DejaVu Sans Mono',consolas,'Courier New',monospace\"><span style=\"color: #008080; text-decoration-color: #008080; font-weight: bold\">1991</span>-<span style=\"color: #008080; text-decoration-color: #008080; font-weight: bold\">06</span>-05T<span style=\"color: #00ff00; text-decoration-color: #00ff00; font-weight: bold\">00:00:00</span>Z\r\n",
       "</pre>\n"
      ],
      "text/plain": [
       "\u001b[1;36m1991\u001b[0m-\u001b[1;36m06\u001b[0m-05T\u001b[1;92m00:00:00\u001b[0mZ\r"
      ]
     },
     "metadata": {},
     "output_type": "display_data"
    },
    {
     "data": {
      "text/html": [
       "<pre style=\"white-space:pre;overflow-x:auto;line-height:normal;font-family:Menlo,'DejaVu Sans Mono',consolas,'Courier New',monospace\"><span style=\"color: #008080; text-decoration-color: #008080; font-weight: bold\">1991</span>-<span style=\"color: #008080; text-decoration-color: #008080; font-weight: bold\">06</span>-06T<span style=\"color: #00ff00; text-decoration-color: #00ff00; font-weight: bold\">00:00:00</span>Z\r\n",
       "</pre>\n"
      ],
      "text/plain": [
       "\u001b[1;36m1991\u001b[0m-\u001b[1;36m06\u001b[0m-06T\u001b[1;92m00:00:00\u001b[0mZ\r"
      ]
     },
     "metadata": {},
     "output_type": "display_data"
    },
    {
     "data": {
      "text/html": [
       "<pre style=\"white-space:pre;overflow-x:auto;line-height:normal;font-family:Menlo,'DejaVu Sans Mono',consolas,'Courier New',monospace\"><span style=\"color: #008080; text-decoration-color: #008080; font-weight: bold\">1991</span>-<span style=\"color: #008080; text-decoration-color: #008080; font-weight: bold\">06</span>-07T<span style=\"color: #00ff00; text-decoration-color: #00ff00; font-weight: bold\">00:00:00</span>Z\r\n",
       "</pre>\n"
      ],
      "text/plain": [
       "\u001b[1;36m1991\u001b[0m-\u001b[1;36m06\u001b[0m-07T\u001b[1;92m00:00:00\u001b[0mZ\r"
      ]
     },
     "metadata": {},
     "output_type": "display_data"
    },
    {
     "data": {
      "text/html": [
       "<pre style=\"white-space:pre;overflow-x:auto;line-height:normal;font-family:Menlo,'DejaVu Sans Mono',consolas,'Courier New',monospace\"><span style=\"color: #008080; text-decoration-color: #008080; font-weight: bold\">1991</span>-<span style=\"color: #008080; text-decoration-color: #008080; font-weight: bold\">06</span>-08T<span style=\"color: #00ff00; text-decoration-color: #00ff00; font-weight: bold\">00:00:00</span>Z\r\n",
       "</pre>\n"
      ],
      "text/plain": [
       "\u001b[1;36m1991\u001b[0m-\u001b[1;36m06\u001b[0m-08T\u001b[1;92m00:00:00\u001b[0mZ\r"
      ]
     },
     "metadata": {},
     "output_type": "display_data"
    },
    {
     "data": {
      "text/html": [
       "<pre style=\"white-space:pre;overflow-x:auto;line-height:normal;font-family:Menlo,'DejaVu Sans Mono',consolas,'Courier New',monospace\"><span style=\"color: #008080; text-decoration-color: #008080; font-weight: bold\">1991</span>-<span style=\"color: #008080; text-decoration-color: #008080; font-weight: bold\">06</span>-09T<span style=\"color: #00ff00; text-decoration-color: #00ff00; font-weight: bold\">00:00:00</span>Z\r\n",
       "</pre>\n"
      ],
      "text/plain": [
       "\u001b[1;36m1991\u001b[0m-\u001b[1;36m06\u001b[0m-09T\u001b[1;92m00:00:00\u001b[0mZ\r"
      ]
     },
     "metadata": {},
     "output_type": "display_data"
    },
    {
     "data": {
      "text/html": [
       "<pre style=\"white-space:pre;overflow-x:auto;line-height:normal;font-family:Menlo,'DejaVu Sans Mono',consolas,'Courier New',monospace\"><span style=\"color: #008080; text-decoration-color: #008080; font-weight: bold\">1991</span>-<span style=\"color: #008080; text-decoration-color: #008080; font-weight: bold\">06</span>-10T<span style=\"color: #00ff00; text-decoration-color: #00ff00; font-weight: bold\">00:00:00</span>Z\r\n",
       "</pre>\n"
      ],
      "text/plain": [
       "\u001b[1;36m1991\u001b[0m-\u001b[1;36m06\u001b[0m-10T\u001b[1;92m00:00:00\u001b[0mZ\r"
      ]
     },
     "metadata": {},
     "output_type": "display_data"
    },
    {
     "data": {
      "text/html": [
       "<pre style=\"white-space:pre;overflow-x:auto;line-height:normal;font-family:Menlo,'DejaVu Sans Mono',consolas,'Courier New',monospace\"><span style=\"color: #008080; text-decoration-color: #008080; font-weight: bold\">1991</span>-<span style=\"color: #008080; text-decoration-color: #008080; font-weight: bold\">06</span>-11T<span style=\"color: #00ff00; text-decoration-color: #00ff00; font-weight: bold\">00:00:00</span>Z\r\n",
       "</pre>\n"
      ],
      "text/plain": [
       "\u001b[1;36m1991\u001b[0m-\u001b[1;36m06\u001b[0m-11T\u001b[1;92m00:00:00\u001b[0mZ\r"
      ]
     },
     "metadata": {},
     "output_type": "display_data"
    },
    {
     "data": {
      "text/html": [
       "<pre style=\"white-space:pre;overflow-x:auto;line-height:normal;font-family:Menlo,'DejaVu Sans Mono',consolas,'Courier New',monospace\"><span style=\"color: #008080; text-decoration-color: #008080; font-weight: bold\">1991</span>-<span style=\"color: #008080; text-decoration-color: #008080; font-weight: bold\">06</span>-12T<span style=\"color: #00ff00; text-decoration-color: #00ff00; font-weight: bold\">00:00:00</span>Z\r\n",
       "</pre>\n"
      ],
      "text/plain": [
       "\u001b[1;36m1991\u001b[0m-\u001b[1;36m06\u001b[0m-12T\u001b[1;92m00:00:00\u001b[0mZ\r"
      ]
     },
     "metadata": {},
     "output_type": "display_data"
    },
    {
     "data": {
      "text/html": [
       "<pre style=\"white-space:pre;overflow-x:auto;line-height:normal;font-family:Menlo,'DejaVu Sans Mono',consolas,'Courier New',monospace\"><span style=\"color: #008080; text-decoration-color: #008080; font-weight: bold\">1991</span>-<span style=\"color: #008080; text-decoration-color: #008080; font-weight: bold\">06</span>-13T<span style=\"color: #00ff00; text-decoration-color: #00ff00; font-weight: bold\">00:00:00</span>Z\r\n",
       "</pre>\n"
      ],
      "text/plain": [
       "\u001b[1;36m1991\u001b[0m-\u001b[1;36m06\u001b[0m-13T\u001b[1;92m00:00:00\u001b[0mZ\r"
      ]
     },
     "metadata": {},
     "output_type": "display_data"
    },
    {
     "data": {
      "text/html": [
       "<pre style=\"white-space:pre;overflow-x:auto;line-height:normal;font-family:Menlo,'DejaVu Sans Mono',consolas,'Courier New',monospace\"><span style=\"color: #008080; text-decoration-color: #008080; font-weight: bold\">1991</span>-<span style=\"color: #008080; text-decoration-color: #008080; font-weight: bold\">06</span>-14T<span style=\"color: #00ff00; text-decoration-color: #00ff00; font-weight: bold\">00:00:00</span>Z\r\n",
       "</pre>\n"
      ],
      "text/plain": [
       "\u001b[1;36m1991\u001b[0m-\u001b[1;36m06\u001b[0m-14T\u001b[1;92m00:00:00\u001b[0mZ\r"
      ]
     },
     "metadata": {},
     "output_type": "display_data"
    },
    {
     "data": {
      "text/html": [
       "<pre style=\"white-space:pre;overflow-x:auto;line-height:normal;font-family:Menlo,'DejaVu Sans Mono',consolas,'Courier New',monospace\"><span style=\"color: #008080; text-decoration-color: #008080; font-weight: bold\">1991</span>-<span style=\"color: #008080; text-decoration-color: #008080; font-weight: bold\">06</span>-15T<span style=\"color: #00ff00; text-decoration-color: #00ff00; font-weight: bold\">00:00:00</span>Z\r\n",
       "</pre>\n"
      ],
      "text/plain": [
       "\u001b[1;36m1991\u001b[0m-\u001b[1;36m06\u001b[0m-15T\u001b[1;92m00:00:00\u001b[0mZ\r"
      ]
     },
     "metadata": {},
     "output_type": "display_data"
    },
    {
     "data": {
      "text/html": [
       "<pre style=\"white-space:pre;overflow-x:auto;line-height:normal;font-family:Menlo,'DejaVu Sans Mono',consolas,'Courier New',monospace\"><span style=\"color: #008080; text-decoration-color: #008080; font-weight: bold\">1991</span>-<span style=\"color: #008080; text-decoration-color: #008080; font-weight: bold\">06</span>-16T<span style=\"color: #00ff00; text-decoration-color: #00ff00; font-weight: bold\">00:00:00</span>Z\r\n",
       "</pre>\n"
      ],
      "text/plain": [
       "\u001b[1;36m1991\u001b[0m-\u001b[1;36m06\u001b[0m-16T\u001b[1;92m00:00:00\u001b[0mZ\r"
      ]
     },
     "metadata": {},
     "output_type": "display_data"
    },
    {
     "data": {
      "text/html": [
       "<pre style=\"white-space:pre;overflow-x:auto;line-height:normal;font-family:Menlo,'DejaVu Sans Mono',consolas,'Courier New',monospace\"><span style=\"color: #008080; text-decoration-color: #008080; font-weight: bold\">1991</span>-<span style=\"color: #008080; text-decoration-color: #008080; font-weight: bold\">06</span>-17T<span style=\"color: #00ff00; text-decoration-color: #00ff00; font-weight: bold\">00:00:00</span>Z\r\n",
       "</pre>\n"
      ],
      "text/plain": [
       "\u001b[1;36m1991\u001b[0m-\u001b[1;36m06\u001b[0m-17T\u001b[1;92m00:00:00\u001b[0mZ\r"
      ]
     },
     "metadata": {},
     "output_type": "display_data"
    },
    {
     "data": {
      "text/html": [
       "<pre style=\"white-space:pre;overflow-x:auto;line-height:normal;font-family:Menlo,'DejaVu Sans Mono',consolas,'Courier New',monospace\"><span style=\"color: #008080; text-decoration-color: #008080; font-weight: bold\">1991</span>-<span style=\"color: #008080; text-decoration-color: #008080; font-weight: bold\">06</span>-18T<span style=\"color: #00ff00; text-decoration-color: #00ff00; font-weight: bold\">00:00:00</span>Z\r\n",
       "</pre>\n"
      ],
      "text/plain": [
       "\u001b[1;36m1991\u001b[0m-\u001b[1;36m06\u001b[0m-18T\u001b[1;92m00:00:00\u001b[0mZ\r"
      ]
     },
     "metadata": {},
     "output_type": "display_data"
    },
    {
     "data": {
      "text/html": [
       "<pre style=\"white-space:pre;overflow-x:auto;line-height:normal;font-family:Menlo,'DejaVu Sans Mono',consolas,'Courier New',monospace\"><span style=\"color: #008080; text-decoration-color: #008080; font-weight: bold\">1991</span>-<span style=\"color: #008080; text-decoration-color: #008080; font-weight: bold\">06</span>-19T<span style=\"color: #00ff00; text-decoration-color: #00ff00; font-weight: bold\">00:00:00</span>Z\r\n",
       "</pre>\n"
      ],
      "text/plain": [
       "\u001b[1;36m1991\u001b[0m-\u001b[1;36m06\u001b[0m-19T\u001b[1;92m00:00:00\u001b[0mZ\r"
      ]
     },
     "metadata": {},
     "output_type": "display_data"
    },
    {
     "data": {
      "text/html": [
       "<pre style=\"white-space:pre;overflow-x:auto;line-height:normal;font-family:Menlo,'DejaVu Sans Mono',consolas,'Courier New',monospace\"><span style=\"color: #008080; text-decoration-color: #008080; font-weight: bold\">1991</span>-<span style=\"color: #008080; text-decoration-color: #008080; font-weight: bold\">06</span>-20T<span style=\"color: #00ff00; text-decoration-color: #00ff00; font-weight: bold\">00:00:00</span>Z\r\n",
       "</pre>\n"
      ],
      "text/plain": [
       "\u001b[1;36m1991\u001b[0m-\u001b[1;36m06\u001b[0m-20T\u001b[1;92m00:00:00\u001b[0mZ\r"
      ]
     },
     "metadata": {},
     "output_type": "display_data"
    },
    {
     "data": {
      "text/html": [
       "<pre style=\"white-space:pre;overflow-x:auto;line-height:normal;font-family:Menlo,'DejaVu Sans Mono',consolas,'Courier New',monospace\"><span style=\"color: #008080; text-decoration-color: #008080; font-weight: bold\">1991</span>-<span style=\"color: #008080; text-decoration-color: #008080; font-weight: bold\">06</span>-21T<span style=\"color: #00ff00; text-decoration-color: #00ff00; font-weight: bold\">00:00:00</span>Z\r\n",
       "</pre>\n"
      ],
      "text/plain": [
       "\u001b[1;36m1991\u001b[0m-\u001b[1;36m06\u001b[0m-21T\u001b[1;92m00:00:00\u001b[0mZ\r"
      ]
     },
     "metadata": {},
     "output_type": "display_data"
    },
    {
     "data": {
      "text/html": [
       "<pre style=\"white-space:pre;overflow-x:auto;line-height:normal;font-family:Menlo,'DejaVu Sans Mono',consolas,'Courier New',monospace\"><span style=\"color: #008080; text-decoration-color: #008080; font-weight: bold\">1991</span>-<span style=\"color: #008080; text-decoration-color: #008080; font-weight: bold\">06</span>-22T<span style=\"color: #00ff00; text-decoration-color: #00ff00; font-weight: bold\">00:00:00</span>Z\r\n",
       "</pre>\n"
      ],
      "text/plain": [
       "\u001b[1;36m1991\u001b[0m-\u001b[1;36m06\u001b[0m-22T\u001b[1;92m00:00:00\u001b[0mZ\r"
      ]
     },
     "metadata": {},
     "output_type": "display_data"
    },
    {
     "data": {
      "text/html": [
       "<pre style=\"white-space:pre;overflow-x:auto;line-height:normal;font-family:Menlo,'DejaVu Sans Mono',consolas,'Courier New',monospace\"><span style=\"color: #008080; text-decoration-color: #008080; font-weight: bold\">1991</span>-<span style=\"color: #008080; text-decoration-color: #008080; font-weight: bold\">06</span>-23T<span style=\"color: #00ff00; text-decoration-color: #00ff00; font-weight: bold\">00:00:00</span>Z\r\n",
       "</pre>\n"
      ],
      "text/plain": [
       "\u001b[1;36m1991\u001b[0m-\u001b[1;36m06\u001b[0m-23T\u001b[1;92m00:00:00\u001b[0mZ\r"
      ]
     },
     "metadata": {},
     "output_type": "display_data"
    },
    {
     "data": {
      "text/html": [
       "<pre style=\"white-space:pre;overflow-x:auto;line-height:normal;font-family:Menlo,'DejaVu Sans Mono',consolas,'Courier New',monospace\"><span style=\"color: #008080; text-decoration-color: #008080; font-weight: bold\">1991</span>-<span style=\"color: #008080; text-decoration-color: #008080; font-weight: bold\">06</span>-24T<span style=\"color: #00ff00; text-decoration-color: #00ff00; font-weight: bold\">00:00:00</span>Z\r\n",
       "</pre>\n"
      ],
      "text/plain": [
       "\u001b[1;36m1991\u001b[0m-\u001b[1;36m06\u001b[0m-24T\u001b[1;92m00:00:00\u001b[0mZ\r"
      ]
     },
     "metadata": {},
     "output_type": "display_data"
    },
    {
     "data": {
      "text/html": [
       "<pre style=\"white-space:pre;overflow-x:auto;line-height:normal;font-family:Menlo,'DejaVu Sans Mono',consolas,'Courier New',monospace\"><span style=\"color: #008080; text-decoration-color: #008080; font-weight: bold\">1991</span>-<span style=\"color: #008080; text-decoration-color: #008080; font-weight: bold\">06</span>-25T<span style=\"color: #00ff00; text-decoration-color: #00ff00; font-weight: bold\">00:00:00</span>Z\r\n",
       "</pre>\n"
      ],
      "text/plain": [
       "\u001b[1;36m1991\u001b[0m-\u001b[1;36m06\u001b[0m-25T\u001b[1;92m00:00:00\u001b[0mZ\r"
      ]
     },
     "metadata": {},
     "output_type": "display_data"
    },
    {
     "data": {
      "text/html": [
       "<pre style=\"white-space:pre;overflow-x:auto;line-height:normal;font-family:Menlo,'DejaVu Sans Mono',consolas,'Courier New',monospace\"><span style=\"color: #008080; text-decoration-color: #008080; font-weight: bold\">1991</span>-<span style=\"color: #008080; text-decoration-color: #008080; font-weight: bold\">06</span>-26T<span style=\"color: #00ff00; text-decoration-color: #00ff00; font-weight: bold\">00:00:00</span>Z\r\n",
       "</pre>\n"
      ],
      "text/plain": [
       "\u001b[1;36m1991\u001b[0m-\u001b[1;36m06\u001b[0m-26T\u001b[1;92m00:00:00\u001b[0mZ\r"
      ]
     },
     "metadata": {},
     "output_type": "display_data"
    },
    {
     "data": {
      "text/html": [
       "<pre style=\"white-space:pre;overflow-x:auto;line-height:normal;font-family:Menlo,'DejaVu Sans Mono',consolas,'Courier New',monospace\"><span style=\"color: #008080; text-decoration-color: #008080; font-weight: bold\">1991</span>-<span style=\"color: #008080; text-decoration-color: #008080; font-weight: bold\">06</span>-27T<span style=\"color: #00ff00; text-decoration-color: #00ff00; font-weight: bold\">00:00:00</span>Z\r\n",
       "</pre>\n"
      ],
      "text/plain": [
       "\u001b[1;36m1991\u001b[0m-\u001b[1;36m06\u001b[0m-27T\u001b[1;92m00:00:00\u001b[0mZ\r"
      ]
     },
     "metadata": {},
     "output_type": "display_data"
    },
    {
     "data": {
      "text/html": [
       "<pre style=\"white-space:pre;overflow-x:auto;line-height:normal;font-family:Menlo,'DejaVu Sans Mono',consolas,'Courier New',monospace\"><span style=\"color: #008080; text-decoration-color: #008080; font-weight: bold\">1991</span>-<span style=\"color: #008080; text-decoration-color: #008080; font-weight: bold\">06</span>-28T<span style=\"color: #00ff00; text-decoration-color: #00ff00; font-weight: bold\">00:00:00</span>Z\r\n",
       "</pre>\n"
      ],
      "text/plain": [
       "\u001b[1;36m1991\u001b[0m-\u001b[1;36m06\u001b[0m-28T\u001b[1;92m00:00:00\u001b[0mZ\r"
      ]
     },
     "metadata": {},
     "output_type": "display_data"
    },
    {
     "data": {
      "text/html": [
       "<pre style=\"white-space:pre;overflow-x:auto;line-height:normal;font-family:Menlo,'DejaVu Sans Mono',consolas,'Courier New',monospace\"><span style=\"color: #008080; text-decoration-color: #008080; font-weight: bold\">1991</span>-<span style=\"color: #008080; text-decoration-color: #008080; font-weight: bold\">06</span>-29T<span style=\"color: #00ff00; text-decoration-color: #00ff00; font-weight: bold\">00:00:00</span>Z\r\n",
       "</pre>\n"
      ],
      "text/plain": [
       "\u001b[1;36m1991\u001b[0m-\u001b[1;36m06\u001b[0m-29T\u001b[1;92m00:00:00\u001b[0mZ\r"
      ]
     },
     "metadata": {},
     "output_type": "display_data"
    },
    {
     "data": {
      "text/html": [
       "<pre style=\"white-space:pre;overflow-x:auto;line-height:normal;font-family:Menlo,'DejaVu Sans Mono',consolas,'Courier New',monospace\"><span style=\"color: #008080; text-decoration-color: #008080; font-weight: bold\">1991</span>-<span style=\"color: #008080; text-decoration-color: #008080; font-weight: bold\">06</span>-30T<span style=\"color: #00ff00; text-decoration-color: #00ff00; font-weight: bold\">00:00:00</span>Z\r\n",
       "</pre>\n"
      ],
      "text/plain": [
       "\u001b[1;36m1991\u001b[0m-\u001b[1;36m06\u001b[0m-30T\u001b[1;92m00:00:00\u001b[0mZ\r"
      ]
     },
     "metadata": {},
     "output_type": "display_data"
    },
    {
     "data": {
      "text/html": [
       "<pre style=\"white-space:pre;overflow-x:auto;line-height:normal;font-family:Menlo,'DejaVu Sans Mono',consolas,'Courier New',monospace\"><span style=\"color: #008080; text-decoration-color: #008080; font-weight: bold\">1991</span>-<span style=\"color: #008080; text-decoration-color: #008080; font-weight: bold\">07</span>-01T<span style=\"color: #00ff00; text-decoration-color: #00ff00; font-weight: bold\">00:00:00</span>Z\r\n",
       "</pre>\n"
      ],
      "text/plain": [
       "\u001b[1;36m1991\u001b[0m-\u001b[1;36m07\u001b[0m-01T\u001b[1;92m00:00:00\u001b[0mZ\r"
      ]
     },
     "metadata": {},
     "output_type": "display_data"
    },
    {
     "data": {
      "text/html": [
       "<pre style=\"white-space:pre;overflow-x:auto;line-height:normal;font-family:Menlo,'DejaVu Sans Mono',consolas,'Courier New',monospace\"><span style=\"color: #008080; text-decoration-color: #008080; font-weight: bold\">1991</span>-<span style=\"color: #008080; text-decoration-color: #008080; font-weight: bold\">07</span>-02T<span style=\"color: #00ff00; text-decoration-color: #00ff00; font-weight: bold\">00:00:00</span>Z\r\n",
       "</pre>\n"
      ],
      "text/plain": [
       "\u001b[1;36m1991\u001b[0m-\u001b[1;36m07\u001b[0m-02T\u001b[1;92m00:00:00\u001b[0mZ\r"
      ]
     },
     "metadata": {},
     "output_type": "display_data"
    },
    {
     "data": {
      "text/html": [
       "<pre style=\"white-space:pre;overflow-x:auto;line-height:normal;font-family:Menlo,'DejaVu Sans Mono',consolas,'Courier New',monospace\"><span style=\"color: #008080; text-decoration-color: #008080; font-weight: bold\">1991</span>-<span style=\"color: #008080; text-decoration-color: #008080; font-weight: bold\">07</span>-03T<span style=\"color: #00ff00; text-decoration-color: #00ff00; font-weight: bold\">00:00:00</span>Z\r\n",
       "</pre>\n"
      ],
      "text/plain": [
       "\u001b[1;36m1991\u001b[0m-\u001b[1;36m07\u001b[0m-03T\u001b[1;92m00:00:00\u001b[0mZ\r"
      ]
     },
     "metadata": {},
     "output_type": "display_data"
    },
    {
     "data": {
      "text/html": [
       "<pre style=\"white-space:pre;overflow-x:auto;line-height:normal;font-family:Menlo,'DejaVu Sans Mono',consolas,'Courier New',monospace\"><span style=\"color: #008080; text-decoration-color: #008080; font-weight: bold\">1991</span>-<span style=\"color: #008080; text-decoration-color: #008080; font-weight: bold\">07</span>-04T<span style=\"color: #00ff00; text-decoration-color: #00ff00; font-weight: bold\">00:00:00</span>Z\r\n",
       "</pre>\n"
      ],
      "text/plain": [
       "\u001b[1;36m1991\u001b[0m-\u001b[1;36m07\u001b[0m-04T\u001b[1;92m00:00:00\u001b[0mZ\r"
      ]
     },
     "metadata": {},
     "output_type": "display_data"
    },
    {
     "data": {
      "text/html": [
       "<pre style=\"white-space:pre;overflow-x:auto;line-height:normal;font-family:Menlo,'DejaVu Sans Mono',consolas,'Courier New',monospace\"><span style=\"color: #008080; text-decoration-color: #008080; font-weight: bold\">1991</span>-<span style=\"color: #008080; text-decoration-color: #008080; font-weight: bold\">07</span>-05T<span style=\"color: #00ff00; text-decoration-color: #00ff00; font-weight: bold\">00:00:00</span>Z\r\n",
       "</pre>\n"
      ],
      "text/plain": [
       "\u001b[1;36m1991\u001b[0m-\u001b[1;36m07\u001b[0m-05T\u001b[1;92m00:00:00\u001b[0mZ\r"
      ]
     },
     "metadata": {},
     "output_type": "display_data"
    },
    {
     "data": {
      "text/html": [
       "<pre style=\"white-space:pre;overflow-x:auto;line-height:normal;font-family:Menlo,'DejaVu Sans Mono',consolas,'Courier New',monospace\"><span style=\"color: #008080; text-decoration-color: #008080; font-weight: bold\">1991</span>-<span style=\"color: #008080; text-decoration-color: #008080; font-weight: bold\">07</span>-06T<span style=\"color: #00ff00; text-decoration-color: #00ff00; font-weight: bold\">00:00:00</span>Z\r\n",
       "</pre>\n"
      ],
      "text/plain": [
       "\u001b[1;36m1991\u001b[0m-\u001b[1;36m07\u001b[0m-06T\u001b[1;92m00:00:00\u001b[0mZ\r"
      ]
     },
     "metadata": {},
     "output_type": "display_data"
    },
    {
     "data": {
      "text/html": [
       "<pre style=\"white-space:pre;overflow-x:auto;line-height:normal;font-family:Menlo,'DejaVu Sans Mono',consolas,'Courier New',monospace\"><span style=\"color: #008080; text-decoration-color: #008080; font-weight: bold\">1991</span>-<span style=\"color: #008080; text-decoration-color: #008080; font-weight: bold\">07</span>-07T<span style=\"color: #00ff00; text-decoration-color: #00ff00; font-weight: bold\">00:00:00</span>Z\r\n",
       "</pre>\n"
      ],
      "text/plain": [
       "\u001b[1;36m1991\u001b[0m-\u001b[1;36m07\u001b[0m-07T\u001b[1;92m00:00:00\u001b[0mZ\r"
      ]
     },
     "metadata": {},
     "output_type": "display_data"
    },
    {
     "data": {
      "text/html": [
       "<pre style=\"white-space:pre;overflow-x:auto;line-height:normal;font-family:Menlo,'DejaVu Sans Mono',consolas,'Courier New',monospace\"><span style=\"color: #008080; text-decoration-color: #008080; font-weight: bold\">1991</span>-<span style=\"color: #008080; text-decoration-color: #008080; font-weight: bold\">07</span>-08T<span style=\"color: #00ff00; text-decoration-color: #00ff00; font-weight: bold\">00:00:00</span>Z\r\n",
       "</pre>\n"
      ],
      "text/plain": [
       "\u001b[1;36m1991\u001b[0m-\u001b[1;36m07\u001b[0m-08T\u001b[1;92m00:00:00\u001b[0mZ\r"
      ]
     },
     "metadata": {},
     "output_type": "display_data"
    },
    {
     "data": {
      "text/html": [
       "<pre style=\"white-space:pre;overflow-x:auto;line-height:normal;font-family:Menlo,'DejaVu Sans Mono',consolas,'Courier New',monospace\"><span style=\"color: #008080; text-decoration-color: #008080; font-weight: bold\">1991</span>-<span style=\"color: #008080; text-decoration-color: #008080; font-weight: bold\">07</span>-09T<span style=\"color: #00ff00; text-decoration-color: #00ff00; font-weight: bold\">00:00:00</span>Z\r\n",
       "</pre>\n"
      ],
      "text/plain": [
       "\u001b[1;36m1991\u001b[0m-\u001b[1;36m07\u001b[0m-09T\u001b[1;92m00:00:00\u001b[0mZ\r"
      ]
     },
     "metadata": {},
     "output_type": "display_data"
    },
    {
     "data": {
      "text/html": [
       "<pre style=\"white-space:pre;overflow-x:auto;line-height:normal;font-family:Menlo,'DejaVu Sans Mono',consolas,'Courier New',monospace\"><span style=\"color: #008080; text-decoration-color: #008080; font-weight: bold\">1991</span>-<span style=\"color: #008080; text-decoration-color: #008080; font-weight: bold\">07</span>-10T<span style=\"color: #00ff00; text-decoration-color: #00ff00; font-weight: bold\">00:00:00</span>Z\r\n",
       "</pre>\n"
      ],
      "text/plain": [
       "\u001b[1;36m1991\u001b[0m-\u001b[1;36m07\u001b[0m-10T\u001b[1;92m00:00:00\u001b[0mZ\r"
      ]
     },
     "metadata": {},
     "output_type": "display_data"
    },
    {
     "data": {
      "text/html": [
       "<pre style=\"white-space:pre;overflow-x:auto;line-height:normal;font-family:Menlo,'DejaVu Sans Mono',consolas,'Courier New',monospace\"><span style=\"color: #008080; text-decoration-color: #008080; font-weight: bold\">1991</span>-<span style=\"color: #008080; text-decoration-color: #008080; font-weight: bold\">07</span>-11T<span style=\"color: #00ff00; text-decoration-color: #00ff00; font-weight: bold\">00:00:00</span>Z\r\n",
       "</pre>\n"
      ],
      "text/plain": [
       "\u001b[1;36m1991\u001b[0m-\u001b[1;36m07\u001b[0m-11T\u001b[1;92m00:00:00\u001b[0mZ\r"
      ]
     },
     "metadata": {},
     "output_type": "display_data"
    },
    {
     "data": {
      "text/html": [
       "<pre style=\"white-space:pre;overflow-x:auto;line-height:normal;font-family:Menlo,'DejaVu Sans Mono',consolas,'Courier New',monospace\"><span style=\"color: #008080; text-decoration-color: #008080; font-weight: bold\">1991</span>-<span style=\"color: #008080; text-decoration-color: #008080; font-weight: bold\">07</span>-12T<span style=\"color: #00ff00; text-decoration-color: #00ff00; font-weight: bold\">00:00:00</span>Z\r\n",
       "</pre>\n"
      ],
      "text/plain": [
       "\u001b[1;36m1991\u001b[0m-\u001b[1;36m07\u001b[0m-12T\u001b[1;92m00:00:00\u001b[0mZ\r"
      ]
     },
     "metadata": {},
     "output_type": "display_data"
    },
    {
     "data": {
      "text/html": [
       "<pre style=\"white-space:pre;overflow-x:auto;line-height:normal;font-family:Menlo,'DejaVu Sans Mono',consolas,'Courier New',monospace\"><span style=\"color: #008080; text-decoration-color: #008080; font-weight: bold\">1991</span>-<span style=\"color: #008080; text-decoration-color: #008080; font-weight: bold\">07</span>-13T<span style=\"color: #00ff00; text-decoration-color: #00ff00; font-weight: bold\">00:00:00</span>Z\r\n",
       "</pre>\n"
      ],
      "text/plain": [
       "\u001b[1;36m1991\u001b[0m-\u001b[1;36m07\u001b[0m-13T\u001b[1;92m00:00:00\u001b[0mZ\r"
      ]
     },
     "metadata": {},
     "output_type": "display_data"
    },
    {
     "data": {
      "text/html": [
       "<pre style=\"white-space:pre;overflow-x:auto;line-height:normal;font-family:Menlo,'DejaVu Sans Mono',consolas,'Courier New',monospace\"><span style=\"color: #008080; text-decoration-color: #008080; font-weight: bold\">1991</span>-<span style=\"color: #008080; text-decoration-color: #008080; font-weight: bold\">07</span>-14T<span style=\"color: #00ff00; text-decoration-color: #00ff00; font-weight: bold\">00:00:00</span>Z\r\n",
       "</pre>\n"
      ],
      "text/plain": [
       "\u001b[1;36m1991\u001b[0m-\u001b[1;36m07\u001b[0m-14T\u001b[1;92m00:00:00\u001b[0mZ\r"
      ]
     },
     "metadata": {},
     "output_type": "display_data"
    },
    {
     "data": {
      "text/html": [
       "<pre style=\"white-space:pre;overflow-x:auto;line-height:normal;font-family:Menlo,'DejaVu Sans Mono',consolas,'Courier New',monospace\"><span style=\"color: #008080; text-decoration-color: #008080; font-weight: bold\">1991</span>-<span style=\"color: #008080; text-decoration-color: #008080; font-weight: bold\">07</span>-15T<span style=\"color: #00ff00; text-decoration-color: #00ff00; font-weight: bold\">00:00:00</span>Z\r\n",
       "</pre>\n"
      ],
      "text/plain": [
       "\u001b[1;36m1991\u001b[0m-\u001b[1;36m07\u001b[0m-15T\u001b[1;92m00:00:00\u001b[0mZ\r"
      ]
     },
     "metadata": {},
     "output_type": "display_data"
    },
    {
     "data": {
      "text/html": [
       "<pre style=\"white-space:pre;overflow-x:auto;line-height:normal;font-family:Menlo,'DejaVu Sans Mono',consolas,'Courier New',monospace\"><span style=\"color: #008080; text-decoration-color: #008080; font-weight: bold\">1991</span>-<span style=\"color: #008080; text-decoration-color: #008080; font-weight: bold\">07</span>-16T<span style=\"color: #00ff00; text-decoration-color: #00ff00; font-weight: bold\">00:00:00</span>Z\r\n",
       "</pre>\n"
      ],
      "text/plain": [
       "\u001b[1;36m1991\u001b[0m-\u001b[1;36m07\u001b[0m-16T\u001b[1;92m00:00:00\u001b[0mZ\r"
      ]
     },
     "metadata": {},
     "output_type": "display_data"
    },
    {
     "data": {
      "text/html": [
       "<pre style=\"white-space:pre;overflow-x:auto;line-height:normal;font-family:Menlo,'DejaVu Sans Mono',consolas,'Courier New',monospace\"><span style=\"color: #008080; text-decoration-color: #008080; font-weight: bold\">1991</span>-<span style=\"color: #008080; text-decoration-color: #008080; font-weight: bold\">07</span>-17T<span style=\"color: #00ff00; text-decoration-color: #00ff00; font-weight: bold\">00:00:00</span>Z\r\n",
       "</pre>\n"
      ],
      "text/plain": [
       "\u001b[1;36m1991\u001b[0m-\u001b[1;36m07\u001b[0m-17T\u001b[1;92m00:00:00\u001b[0mZ\r"
      ]
     },
     "metadata": {},
     "output_type": "display_data"
    },
    {
     "data": {
      "text/html": [
       "<pre style=\"white-space:pre;overflow-x:auto;line-height:normal;font-family:Menlo,'DejaVu Sans Mono',consolas,'Courier New',monospace\"><span style=\"color: #008080; text-decoration-color: #008080; font-weight: bold\">1991</span>-<span style=\"color: #008080; text-decoration-color: #008080; font-weight: bold\">07</span>-18T<span style=\"color: #00ff00; text-decoration-color: #00ff00; font-weight: bold\">00:00:00</span>Z\r\n",
       "</pre>\n"
      ],
      "text/plain": [
       "\u001b[1;36m1991\u001b[0m-\u001b[1;36m07\u001b[0m-18T\u001b[1;92m00:00:00\u001b[0mZ\r"
      ]
     },
     "metadata": {},
     "output_type": "display_data"
    },
    {
     "data": {
      "text/html": [
       "<pre style=\"white-space:pre;overflow-x:auto;line-height:normal;font-family:Menlo,'DejaVu Sans Mono',consolas,'Courier New',monospace\"><span style=\"color: #008080; text-decoration-color: #008080; font-weight: bold\">1991</span>-<span style=\"color: #008080; text-decoration-color: #008080; font-weight: bold\">07</span>-19T<span style=\"color: #00ff00; text-decoration-color: #00ff00; font-weight: bold\">00:00:00</span>Z\r\n",
       "</pre>\n"
      ],
      "text/plain": [
       "\u001b[1;36m1991\u001b[0m-\u001b[1;36m07\u001b[0m-19T\u001b[1;92m00:00:00\u001b[0mZ\r"
      ]
     },
     "metadata": {},
     "output_type": "display_data"
    },
    {
     "data": {
      "text/html": [
       "<pre style=\"white-space:pre;overflow-x:auto;line-height:normal;font-family:Menlo,'DejaVu Sans Mono',consolas,'Courier New',monospace\"><span style=\"color: #008080; text-decoration-color: #008080; font-weight: bold\">1991</span>-<span style=\"color: #008080; text-decoration-color: #008080; font-weight: bold\">07</span>-20T<span style=\"color: #00ff00; text-decoration-color: #00ff00; font-weight: bold\">00:00:00</span>Z\r\n",
       "</pre>\n"
      ],
      "text/plain": [
       "\u001b[1;36m1991\u001b[0m-\u001b[1;36m07\u001b[0m-20T\u001b[1;92m00:00:00\u001b[0mZ\r"
      ]
     },
     "metadata": {},
     "output_type": "display_data"
    },
    {
     "data": {
      "text/html": [
       "<pre style=\"white-space:pre;overflow-x:auto;line-height:normal;font-family:Menlo,'DejaVu Sans Mono',consolas,'Courier New',monospace\"><span style=\"color: #008080; text-decoration-color: #008080; font-weight: bold\">1991</span>-<span style=\"color: #008080; text-decoration-color: #008080; font-weight: bold\">07</span>-21T<span style=\"color: #00ff00; text-decoration-color: #00ff00; font-weight: bold\">00:00:00</span>Z\r\n",
       "</pre>\n"
      ],
      "text/plain": [
       "\u001b[1;36m1991\u001b[0m-\u001b[1;36m07\u001b[0m-21T\u001b[1;92m00:00:00\u001b[0mZ\r"
      ]
     },
     "metadata": {},
     "output_type": "display_data"
    },
    {
     "data": {
      "text/html": [
       "<pre style=\"white-space:pre;overflow-x:auto;line-height:normal;font-family:Menlo,'DejaVu Sans Mono',consolas,'Courier New',monospace\"><span style=\"color: #008080; text-decoration-color: #008080; font-weight: bold\">1991</span>-<span style=\"color: #008080; text-decoration-color: #008080; font-weight: bold\">07</span>-22T<span style=\"color: #00ff00; text-decoration-color: #00ff00; font-weight: bold\">00:00:00</span>Z\r\n",
       "</pre>\n"
      ],
      "text/plain": [
       "\u001b[1;36m1991\u001b[0m-\u001b[1;36m07\u001b[0m-22T\u001b[1;92m00:00:00\u001b[0mZ\r"
      ]
     },
     "metadata": {},
     "output_type": "display_data"
    },
    {
     "data": {
      "text/html": [
       "<pre style=\"white-space:pre;overflow-x:auto;line-height:normal;font-family:Menlo,'DejaVu Sans Mono',consolas,'Courier New',monospace\"><span style=\"color: #008080; text-decoration-color: #008080; font-weight: bold\">1991</span>-<span style=\"color: #008080; text-decoration-color: #008080; font-weight: bold\">07</span>-23T<span style=\"color: #00ff00; text-decoration-color: #00ff00; font-weight: bold\">00:00:00</span>Z\r\n",
       "</pre>\n"
      ],
      "text/plain": [
       "\u001b[1;36m1991\u001b[0m-\u001b[1;36m07\u001b[0m-23T\u001b[1;92m00:00:00\u001b[0mZ\r"
      ]
     },
     "metadata": {},
     "output_type": "display_data"
    },
    {
     "data": {
      "text/html": [
       "<pre style=\"white-space:pre;overflow-x:auto;line-height:normal;font-family:Menlo,'DejaVu Sans Mono',consolas,'Courier New',monospace\"><span style=\"color: #008080; text-decoration-color: #008080; font-weight: bold\">1991</span>-<span style=\"color: #008080; text-decoration-color: #008080; font-weight: bold\">07</span>-24T<span style=\"color: #00ff00; text-decoration-color: #00ff00; font-weight: bold\">00:00:00</span>Z\r\n",
       "</pre>\n"
      ],
      "text/plain": [
       "\u001b[1;36m1991\u001b[0m-\u001b[1;36m07\u001b[0m-24T\u001b[1;92m00:00:00\u001b[0mZ\r"
      ]
     },
     "metadata": {},
     "output_type": "display_data"
    },
    {
     "data": {
      "text/html": [
       "<pre style=\"white-space:pre;overflow-x:auto;line-height:normal;font-family:Menlo,'DejaVu Sans Mono',consolas,'Courier New',monospace\"><span style=\"color: #008080; text-decoration-color: #008080; font-weight: bold\">1991</span>-<span style=\"color: #008080; text-decoration-color: #008080; font-weight: bold\">07</span>-25T<span style=\"color: #00ff00; text-decoration-color: #00ff00; font-weight: bold\">00:00:00</span>Z\r\n",
       "</pre>\n"
      ],
      "text/plain": [
       "\u001b[1;36m1991\u001b[0m-\u001b[1;36m07\u001b[0m-25T\u001b[1;92m00:00:00\u001b[0mZ\r"
      ]
     },
     "metadata": {},
     "output_type": "display_data"
    },
    {
     "data": {
      "text/html": [
       "<pre style=\"white-space:pre;overflow-x:auto;line-height:normal;font-family:Menlo,'DejaVu Sans Mono',consolas,'Courier New',monospace\"><span style=\"color: #008080; text-decoration-color: #008080; font-weight: bold\">1991</span>-<span style=\"color: #008080; text-decoration-color: #008080; font-weight: bold\">07</span>-26T<span style=\"color: #00ff00; text-decoration-color: #00ff00; font-weight: bold\">00:00:00</span>Z\r\n",
       "</pre>\n"
      ],
      "text/plain": [
       "\u001b[1;36m1991\u001b[0m-\u001b[1;36m07\u001b[0m-26T\u001b[1;92m00:00:00\u001b[0mZ\r"
      ]
     },
     "metadata": {},
     "output_type": "display_data"
    },
    {
     "data": {
      "text/html": [
       "<pre style=\"white-space:pre;overflow-x:auto;line-height:normal;font-family:Menlo,'DejaVu Sans Mono',consolas,'Courier New',monospace\"><span style=\"color: #008080; text-decoration-color: #008080; font-weight: bold\">1991</span>-<span style=\"color: #008080; text-decoration-color: #008080; font-weight: bold\">07</span>-27T<span style=\"color: #00ff00; text-decoration-color: #00ff00; font-weight: bold\">00:00:00</span>Z\r\n",
       "</pre>\n"
      ],
      "text/plain": [
       "\u001b[1;36m1991\u001b[0m-\u001b[1;36m07\u001b[0m-27T\u001b[1;92m00:00:00\u001b[0mZ\r"
      ]
     },
     "metadata": {},
     "output_type": "display_data"
    },
    {
     "data": {
      "text/html": [
       "<pre style=\"white-space:pre;overflow-x:auto;line-height:normal;font-family:Menlo,'DejaVu Sans Mono',consolas,'Courier New',monospace\"><span style=\"color: #008080; text-decoration-color: #008080; font-weight: bold\">1991</span>-<span style=\"color: #008080; text-decoration-color: #008080; font-weight: bold\">07</span>-28T<span style=\"color: #00ff00; text-decoration-color: #00ff00; font-weight: bold\">00:00:00</span>Z\r\n",
       "</pre>\n"
      ],
      "text/plain": [
       "\u001b[1;36m1991\u001b[0m-\u001b[1;36m07\u001b[0m-28T\u001b[1;92m00:00:00\u001b[0mZ\r"
      ]
     },
     "metadata": {},
     "output_type": "display_data"
    },
    {
     "data": {
      "text/html": [
       "<pre style=\"white-space:pre;overflow-x:auto;line-height:normal;font-family:Menlo,'DejaVu Sans Mono',consolas,'Courier New',monospace\"><span style=\"color: #008080; text-decoration-color: #008080; font-weight: bold\">1991</span>-<span style=\"color: #008080; text-decoration-color: #008080; font-weight: bold\">07</span>-29T<span style=\"color: #00ff00; text-decoration-color: #00ff00; font-weight: bold\">00:00:00</span>Z\r\n",
       "</pre>\n"
      ],
      "text/plain": [
       "\u001b[1;36m1991\u001b[0m-\u001b[1;36m07\u001b[0m-29T\u001b[1;92m00:00:00\u001b[0mZ\r"
      ]
     },
     "metadata": {},
     "output_type": "display_data"
    },
    {
     "data": {
      "text/html": [
       "<pre style=\"white-space:pre;overflow-x:auto;line-height:normal;font-family:Menlo,'DejaVu Sans Mono',consolas,'Courier New',monospace\"><span style=\"color: #008080; text-decoration-color: #008080; font-weight: bold\">1991</span>-<span style=\"color: #008080; text-decoration-color: #008080; font-weight: bold\">07</span>-30T<span style=\"color: #00ff00; text-decoration-color: #00ff00; font-weight: bold\">00:00:00</span>Z\r\n",
       "</pre>\n"
      ],
      "text/plain": [
       "\u001b[1;36m1991\u001b[0m-\u001b[1;36m07\u001b[0m-30T\u001b[1;92m00:00:00\u001b[0mZ\r"
      ]
     },
     "metadata": {},
     "output_type": "display_data"
    },
    {
     "data": {
      "text/html": [
       "<pre style=\"white-space:pre;overflow-x:auto;line-height:normal;font-family:Menlo,'DejaVu Sans Mono',consolas,'Courier New',monospace\"><span style=\"color: #008080; text-decoration-color: #008080; font-weight: bold\">1991</span>-<span style=\"color: #008080; text-decoration-color: #008080; font-weight: bold\">07</span>-31T<span style=\"color: #00ff00; text-decoration-color: #00ff00; font-weight: bold\">00:00:00</span>Z\r\n",
       "</pre>\n"
      ],
      "text/plain": [
       "\u001b[1;36m1991\u001b[0m-\u001b[1;36m07\u001b[0m-31T\u001b[1;92m00:00:00\u001b[0mZ\r"
      ]
     },
     "metadata": {},
     "output_type": "display_data"
    },
    {
     "data": {
      "text/html": [
       "<pre style=\"white-space:pre;overflow-x:auto;line-height:normal;font-family:Menlo,'DejaVu Sans Mono',consolas,'Courier New',monospace\"><span style=\"color: #008080; text-decoration-color: #008080; font-weight: bold\">1991</span>-<span style=\"color: #008080; text-decoration-color: #008080; font-weight: bold\">08</span>-01T<span style=\"color: #00ff00; text-decoration-color: #00ff00; font-weight: bold\">00:00:00</span>Z\r\n",
       "</pre>\n"
      ],
      "text/plain": [
       "\u001b[1;36m1991\u001b[0m-\u001b[1;36m08\u001b[0m-01T\u001b[1;92m00:00:00\u001b[0mZ\r"
      ]
     },
     "metadata": {},
     "output_type": "display_data"
    },
    {
     "data": {
      "text/html": [
       "<pre style=\"white-space:pre;overflow-x:auto;line-height:normal;font-family:Menlo,'DejaVu Sans Mono',consolas,'Courier New',monospace\"><span style=\"color: #008080; text-decoration-color: #008080; font-weight: bold\">1991</span>-<span style=\"color: #008080; text-decoration-color: #008080; font-weight: bold\">08</span>-02T<span style=\"color: #00ff00; text-decoration-color: #00ff00; font-weight: bold\">00:00:00</span>Z\r\n",
       "</pre>\n"
      ],
      "text/plain": [
       "\u001b[1;36m1991\u001b[0m-\u001b[1;36m08\u001b[0m-02T\u001b[1;92m00:00:00\u001b[0mZ\r"
      ]
     },
     "metadata": {},
     "output_type": "display_data"
    },
    {
     "data": {
      "text/html": [
       "<pre style=\"white-space:pre;overflow-x:auto;line-height:normal;font-family:Menlo,'DejaVu Sans Mono',consolas,'Courier New',monospace\"><span style=\"color: #008080; text-decoration-color: #008080; font-weight: bold\">1991</span>-<span style=\"color: #008080; text-decoration-color: #008080; font-weight: bold\">08</span>-03T<span style=\"color: #00ff00; text-decoration-color: #00ff00; font-weight: bold\">00:00:00</span>Z\r\n",
       "</pre>\n"
      ],
      "text/plain": [
       "\u001b[1;36m1991\u001b[0m-\u001b[1;36m08\u001b[0m-03T\u001b[1;92m00:00:00\u001b[0mZ\r"
      ]
     },
     "metadata": {},
     "output_type": "display_data"
    },
    {
     "data": {
      "text/html": [
       "<pre style=\"white-space:pre;overflow-x:auto;line-height:normal;font-family:Menlo,'DejaVu Sans Mono',consolas,'Courier New',monospace\"><span style=\"color: #008080; text-decoration-color: #008080; font-weight: bold\">1991</span>-<span style=\"color: #008080; text-decoration-color: #008080; font-weight: bold\">08</span>-04T<span style=\"color: #00ff00; text-decoration-color: #00ff00; font-weight: bold\">00:00:00</span>Z\r\n",
       "</pre>\n"
      ],
      "text/plain": [
       "\u001b[1;36m1991\u001b[0m-\u001b[1;36m08\u001b[0m-04T\u001b[1;92m00:00:00\u001b[0mZ\r"
      ]
     },
     "metadata": {},
     "output_type": "display_data"
    },
    {
     "data": {
      "text/html": [
       "<pre style=\"white-space:pre;overflow-x:auto;line-height:normal;font-family:Menlo,'DejaVu Sans Mono',consolas,'Courier New',monospace\"><span style=\"color: #008080; text-decoration-color: #008080; font-weight: bold\">1991</span>-<span style=\"color: #008080; text-decoration-color: #008080; font-weight: bold\">08</span>-05T<span style=\"color: #00ff00; text-decoration-color: #00ff00; font-weight: bold\">00:00:00</span>Z\r\n",
       "</pre>\n"
      ],
      "text/plain": [
       "\u001b[1;36m1991\u001b[0m-\u001b[1;36m08\u001b[0m-05T\u001b[1;92m00:00:00\u001b[0mZ\r"
      ]
     },
     "metadata": {},
     "output_type": "display_data"
    },
    {
     "data": {
      "text/html": [
       "<pre style=\"white-space:pre;overflow-x:auto;line-height:normal;font-family:Menlo,'DejaVu Sans Mono',consolas,'Courier New',monospace\"><span style=\"color: #008080; text-decoration-color: #008080; font-weight: bold\">1991</span>-<span style=\"color: #008080; text-decoration-color: #008080; font-weight: bold\">08</span>-06T<span style=\"color: #00ff00; text-decoration-color: #00ff00; font-weight: bold\">00:00:00</span>Z\r\n",
       "</pre>\n"
      ],
      "text/plain": [
       "\u001b[1;36m1991\u001b[0m-\u001b[1;36m08\u001b[0m-06T\u001b[1;92m00:00:00\u001b[0mZ\r"
      ]
     },
     "metadata": {},
     "output_type": "display_data"
    },
    {
     "data": {
      "text/html": [
       "<pre style=\"white-space:pre;overflow-x:auto;line-height:normal;font-family:Menlo,'DejaVu Sans Mono',consolas,'Courier New',monospace\"><span style=\"color: #008080; text-decoration-color: #008080; font-weight: bold\">1991</span>-<span style=\"color: #008080; text-decoration-color: #008080; font-weight: bold\">08</span>-07T<span style=\"color: #00ff00; text-decoration-color: #00ff00; font-weight: bold\">00:00:00</span>Z\r\n",
       "</pre>\n"
      ],
      "text/plain": [
       "\u001b[1;36m1991\u001b[0m-\u001b[1;36m08\u001b[0m-07T\u001b[1;92m00:00:00\u001b[0mZ\r"
      ]
     },
     "metadata": {},
     "output_type": "display_data"
    },
    {
     "data": {
      "text/html": [
       "<pre style=\"white-space:pre;overflow-x:auto;line-height:normal;font-family:Menlo,'DejaVu Sans Mono',consolas,'Courier New',monospace\"><span style=\"color: #008080; text-decoration-color: #008080; font-weight: bold\">1991</span>-<span style=\"color: #008080; text-decoration-color: #008080; font-weight: bold\">08</span>-08T<span style=\"color: #00ff00; text-decoration-color: #00ff00; font-weight: bold\">00:00:00</span>Z\r\n",
       "</pre>\n"
      ],
      "text/plain": [
       "\u001b[1;36m1991\u001b[0m-\u001b[1;36m08\u001b[0m-08T\u001b[1;92m00:00:00\u001b[0mZ\r"
      ]
     },
     "metadata": {},
     "output_type": "display_data"
    },
    {
     "data": {
      "text/html": [
       "<pre style=\"white-space:pre;overflow-x:auto;line-height:normal;font-family:Menlo,'DejaVu Sans Mono',consolas,'Courier New',monospace\"><span style=\"color: #008080; text-decoration-color: #008080; font-weight: bold\">1991</span>-<span style=\"color: #008080; text-decoration-color: #008080; font-weight: bold\">08</span>-09T<span style=\"color: #00ff00; text-decoration-color: #00ff00; font-weight: bold\">00:00:00</span>Z\r\n",
       "</pre>\n"
      ],
      "text/plain": [
       "\u001b[1;36m1991\u001b[0m-\u001b[1;36m08\u001b[0m-09T\u001b[1;92m00:00:00\u001b[0mZ\r"
      ]
     },
     "metadata": {},
     "output_type": "display_data"
    },
    {
     "data": {
      "text/html": [
       "<pre style=\"white-space:pre;overflow-x:auto;line-height:normal;font-family:Menlo,'DejaVu Sans Mono',consolas,'Courier New',monospace\"><span style=\"color: #008080; text-decoration-color: #008080; font-weight: bold\">1991</span>-<span style=\"color: #008080; text-decoration-color: #008080; font-weight: bold\">08</span>-10T<span style=\"color: #00ff00; text-decoration-color: #00ff00; font-weight: bold\">00:00:00</span>Z\r\n",
       "</pre>\n"
      ],
      "text/plain": [
       "\u001b[1;36m1991\u001b[0m-\u001b[1;36m08\u001b[0m-10T\u001b[1;92m00:00:00\u001b[0mZ\r"
      ]
     },
     "metadata": {},
     "output_type": "display_data"
    },
    {
     "data": {
      "text/html": [
       "<pre style=\"white-space:pre;overflow-x:auto;line-height:normal;font-family:Menlo,'DejaVu Sans Mono',consolas,'Courier New',monospace\"><span style=\"color: #008080; text-decoration-color: #008080; font-weight: bold\">1991</span>-<span style=\"color: #008080; text-decoration-color: #008080; font-weight: bold\">08</span>-11T<span style=\"color: #00ff00; text-decoration-color: #00ff00; font-weight: bold\">00:00:00</span>Z\r\n",
       "</pre>\n"
      ],
      "text/plain": [
       "\u001b[1;36m1991\u001b[0m-\u001b[1;36m08\u001b[0m-11T\u001b[1;92m00:00:00\u001b[0mZ\r"
      ]
     },
     "metadata": {},
     "output_type": "display_data"
    },
    {
     "data": {
      "text/html": [
       "<pre style=\"white-space:pre;overflow-x:auto;line-height:normal;font-family:Menlo,'DejaVu Sans Mono',consolas,'Courier New',monospace\"><span style=\"color: #008080; text-decoration-color: #008080; font-weight: bold\">1991</span>-<span style=\"color: #008080; text-decoration-color: #008080; font-weight: bold\">08</span>-12T<span style=\"color: #00ff00; text-decoration-color: #00ff00; font-weight: bold\">00:00:00</span>Z\r\n",
       "</pre>\n"
      ],
      "text/plain": [
       "\u001b[1;36m1991\u001b[0m-\u001b[1;36m08\u001b[0m-12T\u001b[1;92m00:00:00\u001b[0mZ\r"
      ]
     },
     "metadata": {},
     "output_type": "display_data"
    },
    {
     "data": {
      "text/html": [
       "<pre style=\"white-space:pre;overflow-x:auto;line-height:normal;font-family:Menlo,'DejaVu Sans Mono',consolas,'Courier New',monospace\"><span style=\"color: #008080; text-decoration-color: #008080; font-weight: bold\">1991</span>-<span style=\"color: #008080; text-decoration-color: #008080; font-weight: bold\">08</span>-13T<span style=\"color: #00ff00; text-decoration-color: #00ff00; font-weight: bold\">00:00:00</span>Z\r\n",
       "</pre>\n"
      ],
      "text/plain": [
       "\u001b[1;36m1991\u001b[0m-\u001b[1;36m08\u001b[0m-13T\u001b[1;92m00:00:00\u001b[0mZ\r"
      ]
     },
     "metadata": {},
     "output_type": "display_data"
    },
    {
     "data": {
      "text/html": [
       "<pre style=\"white-space:pre;overflow-x:auto;line-height:normal;font-family:Menlo,'DejaVu Sans Mono',consolas,'Courier New',monospace\"><span style=\"color: #008080; text-decoration-color: #008080; font-weight: bold\">1991</span>-<span style=\"color: #008080; text-decoration-color: #008080; font-weight: bold\">08</span>-14T<span style=\"color: #00ff00; text-decoration-color: #00ff00; font-weight: bold\">00:00:00</span>Z\r\n",
       "</pre>\n"
      ],
      "text/plain": [
       "\u001b[1;36m1991\u001b[0m-\u001b[1;36m08\u001b[0m-14T\u001b[1;92m00:00:00\u001b[0mZ\r"
      ]
     },
     "metadata": {},
     "output_type": "display_data"
    },
    {
     "data": {
      "text/html": [
       "<pre style=\"white-space:pre;overflow-x:auto;line-height:normal;font-family:Menlo,'DejaVu Sans Mono',consolas,'Courier New',monospace\"><span style=\"color: #008080; text-decoration-color: #008080; font-weight: bold\">1991</span>-<span style=\"color: #008080; text-decoration-color: #008080; font-weight: bold\">08</span>-15T<span style=\"color: #00ff00; text-decoration-color: #00ff00; font-weight: bold\">00:00:00</span>Z\r\n",
       "</pre>\n"
      ],
      "text/plain": [
       "\u001b[1;36m1991\u001b[0m-\u001b[1;36m08\u001b[0m-15T\u001b[1;92m00:00:00\u001b[0mZ\r"
      ]
     },
     "metadata": {},
     "output_type": "display_data"
    },
    {
     "data": {
      "text/html": [
       "<pre style=\"white-space:pre;overflow-x:auto;line-height:normal;font-family:Menlo,'DejaVu Sans Mono',consolas,'Courier New',monospace\"><span style=\"color: #008080; text-decoration-color: #008080; font-weight: bold\">1991</span>-<span style=\"color: #008080; text-decoration-color: #008080; font-weight: bold\">08</span>-16T<span style=\"color: #00ff00; text-decoration-color: #00ff00; font-weight: bold\">00:00:00</span>Z\r\n",
       "</pre>\n"
      ],
      "text/plain": [
       "\u001b[1;36m1991\u001b[0m-\u001b[1;36m08\u001b[0m-16T\u001b[1;92m00:00:00\u001b[0mZ\r"
      ]
     },
     "metadata": {},
     "output_type": "display_data"
    },
    {
     "data": {
      "text/html": [
       "<pre style=\"white-space:pre;overflow-x:auto;line-height:normal;font-family:Menlo,'DejaVu Sans Mono',consolas,'Courier New',monospace\"><span style=\"color: #008080; text-decoration-color: #008080; font-weight: bold\">1991</span>-<span style=\"color: #008080; text-decoration-color: #008080; font-weight: bold\">08</span>-17T<span style=\"color: #00ff00; text-decoration-color: #00ff00; font-weight: bold\">00:00:00</span>Z\r\n",
       "</pre>\n"
      ],
      "text/plain": [
       "\u001b[1;36m1991\u001b[0m-\u001b[1;36m08\u001b[0m-17T\u001b[1;92m00:00:00\u001b[0mZ\r"
      ]
     },
     "metadata": {},
     "output_type": "display_data"
    },
    {
     "data": {
      "text/html": [
       "<pre style=\"white-space:pre;overflow-x:auto;line-height:normal;font-family:Menlo,'DejaVu Sans Mono',consolas,'Courier New',monospace\"><span style=\"color: #008080; text-decoration-color: #008080; font-weight: bold\">1991</span>-<span style=\"color: #008080; text-decoration-color: #008080; font-weight: bold\">08</span>-18T<span style=\"color: #00ff00; text-decoration-color: #00ff00; font-weight: bold\">00:00:00</span>Z\r\n",
       "</pre>\n"
      ],
      "text/plain": [
       "\u001b[1;36m1991\u001b[0m-\u001b[1;36m08\u001b[0m-18T\u001b[1;92m00:00:00\u001b[0mZ\r"
      ]
     },
     "metadata": {},
     "output_type": "display_data"
    },
    {
     "data": {
      "text/html": [
       "<pre style=\"white-space:pre;overflow-x:auto;line-height:normal;font-family:Menlo,'DejaVu Sans Mono',consolas,'Courier New',monospace\"><span style=\"color: #008080; text-decoration-color: #008080; font-weight: bold\">1991</span>-<span style=\"color: #008080; text-decoration-color: #008080; font-weight: bold\">08</span>-19T<span style=\"color: #00ff00; text-decoration-color: #00ff00; font-weight: bold\">00:00:00</span>Z\r\n",
       "</pre>\n"
      ],
      "text/plain": [
       "\u001b[1;36m1991\u001b[0m-\u001b[1;36m08\u001b[0m-19T\u001b[1;92m00:00:00\u001b[0mZ\r"
      ]
     },
     "metadata": {},
     "output_type": "display_data"
    },
    {
     "data": {
      "text/html": [
       "<pre style=\"white-space:pre;overflow-x:auto;line-height:normal;font-family:Menlo,'DejaVu Sans Mono',consolas,'Courier New',monospace\"><span style=\"color: #008080; text-decoration-color: #008080; font-weight: bold\">1991</span>-<span style=\"color: #008080; text-decoration-color: #008080; font-weight: bold\">08</span>-20T<span style=\"color: #00ff00; text-decoration-color: #00ff00; font-weight: bold\">00:00:00</span>Z\r\n",
       "</pre>\n"
      ],
      "text/plain": [
       "\u001b[1;36m1991\u001b[0m-\u001b[1;36m08\u001b[0m-20T\u001b[1;92m00:00:00\u001b[0mZ\r"
      ]
     },
     "metadata": {},
     "output_type": "display_data"
    },
    {
     "data": {
      "text/html": [
       "<pre style=\"white-space:pre;overflow-x:auto;line-height:normal;font-family:Menlo,'DejaVu Sans Mono',consolas,'Courier New',monospace\"><span style=\"color: #008080; text-decoration-color: #008080; font-weight: bold\">1991</span>-<span style=\"color: #008080; text-decoration-color: #008080; font-weight: bold\">08</span>-21T<span style=\"color: #00ff00; text-decoration-color: #00ff00; font-weight: bold\">00:00:00</span>Z\r\n",
       "</pre>\n"
      ],
      "text/plain": [
       "\u001b[1;36m1991\u001b[0m-\u001b[1;36m08\u001b[0m-21T\u001b[1;92m00:00:00\u001b[0mZ\r"
      ]
     },
     "metadata": {},
     "output_type": "display_data"
    },
    {
     "data": {
      "text/html": [
       "<pre style=\"white-space:pre;overflow-x:auto;line-height:normal;font-family:Menlo,'DejaVu Sans Mono',consolas,'Courier New',monospace\"><span style=\"color: #008080; text-decoration-color: #008080; font-weight: bold\">1991</span>-<span style=\"color: #008080; text-decoration-color: #008080; font-weight: bold\">08</span>-22T<span style=\"color: #00ff00; text-decoration-color: #00ff00; font-weight: bold\">00:00:00</span>Z\r\n",
       "</pre>\n"
      ],
      "text/plain": [
       "\u001b[1;36m1991\u001b[0m-\u001b[1;36m08\u001b[0m-22T\u001b[1;92m00:00:00\u001b[0mZ\r"
      ]
     },
     "metadata": {},
     "output_type": "display_data"
    },
    {
     "data": {
      "text/html": [
       "<pre style=\"white-space:pre;overflow-x:auto;line-height:normal;font-family:Menlo,'DejaVu Sans Mono',consolas,'Courier New',monospace\"><span style=\"color: #008080; text-decoration-color: #008080; font-weight: bold\">1991</span>-<span style=\"color: #008080; text-decoration-color: #008080; font-weight: bold\">08</span>-23T<span style=\"color: #00ff00; text-decoration-color: #00ff00; font-weight: bold\">00:00:00</span>Z\r\n",
       "</pre>\n"
      ],
      "text/plain": [
       "\u001b[1;36m1991\u001b[0m-\u001b[1;36m08\u001b[0m-23T\u001b[1;92m00:00:00\u001b[0mZ\r"
      ]
     },
     "metadata": {},
     "output_type": "display_data"
    },
    {
     "data": {
      "text/html": [
       "<pre style=\"white-space:pre;overflow-x:auto;line-height:normal;font-family:Menlo,'DejaVu Sans Mono',consolas,'Courier New',monospace\"><span style=\"color: #008080; text-decoration-color: #008080; font-weight: bold\">1991</span>-<span style=\"color: #008080; text-decoration-color: #008080; font-weight: bold\">08</span>-24T<span style=\"color: #00ff00; text-decoration-color: #00ff00; font-weight: bold\">00:00:00</span>Z\r\n",
       "</pre>\n"
      ],
      "text/plain": [
       "\u001b[1;36m1991\u001b[0m-\u001b[1;36m08\u001b[0m-24T\u001b[1;92m00:00:00\u001b[0mZ\r"
      ]
     },
     "metadata": {},
     "output_type": "display_data"
    },
    {
     "data": {
      "text/html": [
       "<pre style=\"white-space:pre;overflow-x:auto;line-height:normal;font-family:Menlo,'DejaVu Sans Mono',consolas,'Courier New',monospace\"><span style=\"color: #008080; text-decoration-color: #008080; font-weight: bold\">1991</span>-<span style=\"color: #008080; text-decoration-color: #008080; font-weight: bold\">08</span>-25T<span style=\"color: #00ff00; text-decoration-color: #00ff00; font-weight: bold\">00:00:00</span>Z\r\n",
       "</pre>\n"
      ],
      "text/plain": [
       "\u001b[1;36m1991\u001b[0m-\u001b[1;36m08\u001b[0m-25T\u001b[1;92m00:00:00\u001b[0mZ\r"
      ]
     },
     "metadata": {},
     "output_type": "display_data"
    },
    {
     "data": {
      "text/html": [
       "<pre style=\"white-space:pre;overflow-x:auto;line-height:normal;font-family:Menlo,'DejaVu Sans Mono',consolas,'Courier New',monospace\"><span style=\"color: #008080; text-decoration-color: #008080; font-weight: bold\">1991</span>-<span style=\"color: #008080; text-decoration-color: #008080; font-weight: bold\">08</span>-26T<span style=\"color: #00ff00; text-decoration-color: #00ff00; font-weight: bold\">00:00:00</span>Z\r\n",
       "</pre>\n"
      ],
      "text/plain": [
       "\u001b[1;36m1991\u001b[0m-\u001b[1;36m08\u001b[0m-26T\u001b[1;92m00:00:00\u001b[0mZ\r"
      ]
     },
     "metadata": {},
     "output_type": "display_data"
    },
    {
     "data": {
      "text/html": [
       "<pre style=\"white-space:pre;overflow-x:auto;line-height:normal;font-family:Menlo,'DejaVu Sans Mono',consolas,'Courier New',monospace\"><span style=\"color: #008080; text-decoration-color: #008080; font-weight: bold\">1991</span>-<span style=\"color: #008080; text-decoration-color: #008080; font-weight: bold\">08</span>-27T<span style=\"color: #00ff00; text-decoration-color: #00ff00; font-weight: bold\">00:00:00</span>Z\r\n",
       "</pre>\n"
      ],
      "text/plain": [
       "\u001b[1;36m1991\u001b[0m-\u001b[1;36m08\u001b[0m-27T\u001b[1;92m00:00:00\u001b[0mZ\r"
      ]
     },
     "metadata": {},
     "output_type": "display_data"
    },
    {
     "data": {
      "text/html": [
       "<pre style=\"white-space:pre;overflow-x:auto;line-height:normal;font-family:Menlo,'DejaVu Sans Mono',consolas,'Courier New',monospace\"><span style=\"color: #008080; text-decoration-color: #008080; font-weight: bold\">1991</span>-<span style=\"color: #008080; text-decoration-color: #008080; font-weight: bold\">08</span>-28T<span style=\"color: #00ff00; text-decoration-color: #00ff00; font-weight: bold\">00:00:00</span>Z\r\n",
       "</pre>\n"
      ],
      "text/plain": [
       "\u001b[1;36m1991\u001b[0m-\u001b[1;36m08\u001b[0m-28T\u001b[1;92m00:00:00\u001b[0mZ\r"
      ]
     },
     "metadata": {},
     "output_type": "display_data"
    },
    {
     "data": {
      "text/html": [
       "<pre style=\"white-space:pre;overflow-x:auto;line-height:normal;font-family:Menlo,'DejaVu Sans Mono',consolas,'Courier New',monospace\"><span style=\"color: #008080; text-decoration-color: #008080; font-weight: bold\">1991</span>-<span style=\"color: #008080; text-decoration-color: #008080; font-weight: bold\">08</span>-29T<span style=\"color: #00ff00; text-decoration-color: #00ff00; font-weight: bold\">00:00:00</span>Z\r\n",
       "</pre>\n"
      ],
      "text/plain": [
       "\u001b[1;36m1991\u001b[0m-\u001b[1;36m08\u001b[0m-29T\u001b[1;92m00:00:00\u001b[0mZ\r"
      ]
     },
     "metadata": {},
     "output_type": "display_data"
    },
    {
     "data": {
      "text/html": [
       "<pre style=\"white-space:pre;overflow-x:auto;line-height:normal;font-family:Menlo,'DejaVu Sans Mono',consolas,'Courier New',monospace\"><span style=\"color: #008080; text-decoration-color: #008080; font-weight: bold\">1991</span>-<span style=\"color: #008080; text-decoration-color: #008080; font-weight: bold\">08</span>-30T<span style=\"color: #00ff00; text-decoration-color: #00ff00; font-weight: bold\">00:00:00</span>Z\r\n",
       "</pre>\n"
      ],
      "text/plain": [
       "\u001b[1;36m1991\u001b[0m-\u001b[1;36m08\u001b[0m-30T\u001b[1;92m00:00:00\u001b[0mZ\r"
      ]
     },
     "metadata": {},
     "output_type": "display_data"
    },
    {
     "data": {
      "text/html": [
       "<pre style=\"white-space:pre;overflow-x:auto;line-height:normal;font-family:Menlo,'DejaVu Sans Mono',consolas,'Courier New',monospace\"><span style=\"color: #008080; text-decoration-color: #008080; font-weight: bold\">1991</span>-<span style=\"color: #008080; text-decoration-color: #008080; font-weight: bold\">08</span>-31T<span style=\"color: #00ff00; text-decoration-color: #00ff00; font-weight: bold\">00:00:00</span>Z\r\n",
       "</pre>\n"
      ],
      "text/plain": [
       "\u001b[1;36m1991\u001b[0m-\u001b[1;36m08\u001b[0m-31T\u001b[1;92m00:00:00\u001b[0mZ\r"
      ]
     },
     "metadata": {},
     "output_type": "display_data"
    },
    {
     "data": {
      "text/html": [
       "<pre style=\"white-space:pre;overflow-x:auto;line-height:normal;font-family:Menlo,'DejaVu Sans Mono',consolas,'Courier New',monospace\"><span style=\"color: #008080; text-decoration-color: #008080; font-weight: bold\">1991</span>-<span style=\"color: #008080; text-decoration-color: #008080; font-weight: bold\">09</span>-01T<span style=\"color: #00ff00; text-decoration-color: #00ff00; font-weight: bold\">00:00:00</span>Z\r\n",
       "</pre>\n"
      ],
      "text/plain": [
       "\u001b[1;36m1991\u001b[0m-\u001b[1;36m09\u001b[0m-01T\u001b[1;92m00:00:00\u001b[0mZ\r"
      ]
     },
     "metadata": {},
     "output_type": "display_data"
    },
    {
     "data": {
      "text/html": [
       "<pre style=\"white-space:pre;overflow-x:auto;line-height:normal;font-family:Menlo,'DejaVu Sans Mono',consolas,'Courier New',monospace\"><span style=\"color: #008080; text-decoration-color: #008080; font-weight: bold\">1991</span>-<span style=\"color: #008080; text-decoration-color: #008080; font-weight: bold\">09</span>-02T<span style=\"color: #00ff00; text-decoration-color: #00ff00; font-weight: bold\">00:00:00</span>Z\r\n",
       "</pre>\n"
      ],
      "text/plain": [
       "\u001b[1;36m1991\u001b[0m-\u001b[1;36m09\u001b[0m-02T\u001b[1;92m00:00:00\u001b[0mZ\r"
      ]
     },
     "metadata": {},
     "output_type": "display_data"
    },
    {
     "data": {
      "text/html": [
       "<pre style=\"white-space:pre;overflow-x:auto;line-height:normal;font-family:Menlo,'DejaVu Sans Mono',consolas,'Courier New',monospace\"><span style=\"color: #008080; text-decoration-color: #008080; font-weight: bold\">1991</span>-<span style=\"color: #008080; text-decoration-color: #008080; font-weight: bold\">09</span>-03T<span style=\"color: #00ff00; text-decoration-color: #00ff00; font-weight: bold\">00:00:00</span>Z\r\n",
       "</pre>\n"
      ],
      "text/plain": [
       "\u001b[1;36m1991\u001b[0m-\u001b[1;36m09\u001b[0m-03T\u001b[1;92m00:00:00\u001b[0mZ\r"
      ]
     },
     "metadata": {},
     "output_type": "display_data"
    },
    {
     "data": {
      "text/html": [
       "<pre style=\"white-space:pre;overflow-x:auto;line-height:normal;font-family:Menlo,'DejaVu Sans Mono',consolas,'Courier New',monospace\"><span style=\"color: #008080; text-decoration-color: #008080; font-weight: bold\">1991</span>-<span style=\"color: #008080; text-decoration-color: #008080; font-weight: bold\">09</span>-04T<span style=\"color: #00ff00; text-decoration-color: #00ff00; font-weight: bold\">00:00:00</span>Z\r\n",
       "</pre>\n"
      ],
      "text/plain": [
       "\u001b[1;36m1991\u001b[0m-\u001b[1;36m09\u001b[0m-04T\u001b[1;92m00:00:00\u001b[0mZ\r"
      ]
     },
     "metadata": {},
     "output_type": "display_data"
    },
    {
     "data": {
      "text/html": [
       "<pre style=\"white-space:pre;overflow-x:auto;line-height:normal;font-family:Menlo,'DejaVu Sans Mono',consolas,'Courier New',monospace\"><span style=\"color: #008080; text-decoration-color: #008080; font-weight: bold\">1991</span>-<span style=\"color: #008080; text-decoration-color: #008080; font-weight: bold\">09</span>-05T<span style=\"color: #00ff00; text-decoration-color: #00ff00; font-weight: bold\">00:00:00</span>Z\r\n",
       "</pre>\n"
      ],
      "text/plain": [
       "\u001b[1;36m1991\u001b[0m-\u001b[1;36m09\u001b[0m-05T\u001b[1;92m00:00:00\u001b[0mZ\r"
      ]
     },
     "metadata": {},
     "output_type": "display_data"
    },
    {
     "data": {
      "text/html": [
       "<pre style=\"white-space:pre;overflow-x:auto;line-height:normal;font-family:Menlo,'DejaVu Sans Mono',consolas,'Courier New',monospace\"><span style=\"color: #008080; text-decoration-color: #008080; font-weight: bold\">1991</span>-<span style=\"color: #008080; text-decoration-color: #008080; font-weight: bold\">09</span>-06T<span style=\"color: #00ff00; text-decoration-color: #00ff00; font-weight: bold\">00:00:00</span>Z\r\n",
       "</pre>\n"
      ],
      "text/plain": [
       "\u001b[1;36m1991\u001b[0m-\u001b[1;36m09\u001b[0m-06T\u001b[1;92m00:00:00\u001b[0mZ\r"
      ]
     },
     "metadata": {},
     "output_type": "display_data"
    },
    {
     "data": {
      "text/html": [
       "<pre style=\"white-space:pre;overflow-x:auto;line-height:normal;font-family:Menlo,'DejaVu Sans Mono',consolas,'Courier New',monospace\"><span style=\"color: #008080; text-decoration-color: #008080; font-weight: bold\">1991</span>-<span style=\"color: #008080; text-decoration-color: #008080; font-weight: bold\">09</span>-07T<span style=\"color: #00ff00; text-decoration-color: #00ff00; font-weight: bold\">00:00:00</span>Z\r\n",
       "</pre>\n"
      ],
      "text/plain": [
       "\u001b[1;36m1991\u001b[0m-\u001b[1;36m09\u001b[0m-07T\u001b[1;92m00:00:00\u001b[0mZ\r"
      ]
     },
     "metadata": {},
     "output_type": "display_data"
    },
    {
     "data": {
      "text/html": [
       "<pre style=\"white-space:pre;overflow-x:auto;line-height:normal;font-family:Menlo,'DejaVu Sans Mono',consolas,'Courier New',monospace\"><span style=\"color: #008080; text-decoration-color: #008080; font-weight: bold\">1991</span>-<span style=\"color: #008080; text-decoration-color: #008080; font-weight: bold\">09</span>-08T<span style=\"color: #00ff00; text-decoration-color: #00ff00; font-weight: bold\">00:00:00</span>Z\r\n",
       "</pre>\n"
      ],
      "text/plain": [
       "\u001b[1;36m1991\u001b[0m-\u001b[1;36m09\u001b[0m-08T\u001b[1;92m00:00:00\u001b[0mZ\r"
      ]
     },
     "metadata": {},
     "output_type": "display_data"
    },
    {
     "data": {
      "text/html": [
       "<pre style=\"white-space:pre;overflow-x:auto;line-height:normal;font-family:Menlo,'DejaVu Sans Mono',consolas,'Courier New',monospace\"><span style=\"color: #008080; text-decoration-color: #008080; font-weight: bold\">1991</span>-<span style=\"color: #008080; text-decoration-color: #008080; font-weight: bold\">09</span>-09T<span style=\"color: #00ff00; text-decoration-color: #00ff00; font-weight: bold\">00:00:00</span>Z\r\n",
       "</pre>\n"
      ],
      "text/plain": [
       "\u001b[1;36m1991\u001b[0m-\u001b[1;36m09\u001b[0m-09T\u001b[1;92m00:00:00\u001b[0mZ\r"
      ]
     },
     "metadata": {},
     "output_type": "display_data"
    },
    {
     "data": {
      "text/html": [
       "<pre style=\"white-space:pre;overflow-x:auto;line-height:normal;font-family:Menlo,'DejaVu Sans Mono',consolas,'Courier New',monospace\"><span style=\"color: #008080; text-decoration-color: #008080; font-weight: bold\">1991</span>-<span style=\"color: #008080; text-decoration-color: #008080; font-weight: bold\">09</span>-10T<span style=\"color: #00ff00; text-decoration-color: #00ff00; font-weight: bold\">00:00:00</span>Z\r\n",
       "</pre>\n"
      ],
      "text/plain": [
       "\u001b[1;36m1991\u001b[0m-\u001b[1;36m09\u001b[0m-10T\u001b[1;92m00:00:00\u001b[0mZ\r"
      ]
     },
     "metadata": {},
     "output_type": "display_data"
    },
    {
     "data": {
      "text/html": [
       "<pre style=\"white-space:pre;overflow-x:auto;line-height:normal;font-family:Menlo,'DejaVu Sans Mono',consolas,'Courier New',monospace\"><span style=\"color: #008080; text-decoration-color: #008080; font-weight: bold\">1991</span>-<span style=\"color: #008080; text-decoration-color: #008080; font-weight: bold\">09</span>-11T<span style=\"color: #00ff00; text-decoration-color: #00ff00; font-weight: bold\">00:00:00</span>Z\r\n",
       "</pre>\n"
      ],
      "text/plain": [
       "\u001b[1;36m1991\u001b[0m-\u001b[1;36m09\u001b[0m-11T\u001b[1;92m00:00:00\u001b[0mZ\r"
      ]
     },
     "metadata": {},
     "output_type": "display_data"
    },
    {
     "data": {
      "text/html": [
       "<pre style=\"white-space:pre;overflow-x:auto;line-height:normal;font-family:Menlo,'DejaVu Sans Mono',consolas,'Courier New',monospace\"><span style=\"color: #008080; text-decoration-color: #008080; font-weight: bold\">1991</span>-<span style=\"color: #008080; text-decoration-color: #008080; font-weight: bold\">09</span>-12T<span style=\"color: #00ff00; text-decoration-color: #00ff00; font-weight: bold\">00:00:00</span>Z\r\n",
       "</pre>\n"
      ],
      "text/plain": [
       "\u001b[1;36m1991\u001b[0m-\u001b[1;36m09\u001b[0m-12T\u001b[1;92m00:00:00\u001b[0mZ\r"
      ]
     },
     "metadata": {},
     "output_type": "display_data"
    },
    {
     "data": {
      "text/html": [
       "<pre style=\"white-space:pre;overflow-x:auto;line-height:normal;font-family:Menlo,'DejaVu Sans Mono',consolas,'Courier New',monospace\"><span style=\"color: #008080; text-decoration-color: #008080; font-weight: bold\">1991</span>-<span style=\"color: #008080; text-decoration-color: #008080; font-weight: bold\">09</span>-13T<span style=\"color: #00ff00; text-decoration-color: #00ff00; font-weight: bold\">00:00:00</span>Z\r\n",
       "</pre>\n"
      ],
      "text/plain": [
       "\u001b[1;36m1991\u001b[0m-\u001b[1;36m09\u001b[0m-13T\u001b[1;92m00:00:00\u001b[0mZ\r"
      ]
     },
     "metadata": {},
     "output_type": "display_data"
    },
    {
     "data": {
      "text/html": [
       "<pre style=\"white-space:pre;overflow-x:auto;line-height:normal;font-family:Menlo,'DejaVu Sans Mono',consolas,'Courier New',monospace\"><span style=\"color: #008080; text-decoration-color: #008080; font-weight: bold\">1991</span>-<span style=\"color: #008080; text-decoration-color: #008080; font-weight: bold\">09</span>-14T<span style=\"color: #00ff00; text-decoration-color: #00ff00; font-weight: bold\">00:00:00</span>Z\r\n",
       "</pre>\n"
      ],
      "text/plain": [
       "\u001b[1;36m1991\u001b[0m-\u001b[1;36m09\u001b[0m-14T\u001b[1;92m00:00:00\u001b[0mZ\r"
      ]
     },
     "metadata": {},
     "output_type": "display_data"
    },
    {
     "data": {
      "text/html": [
       "<pre style=\"white-space:pre;overflow-x:auto;line-height:normal;font-family:Menlo,'DejaVu Sans Mono',consolas,'Courier New',monospace\"><span style=\"color: #008080; text-decoration-color: #008080; font-weight: bold\">1991</span>-<span style=\"color: #008080; text-decoration-color: #008080; font-weight: bold\">09</span>-15T<span style=\"color: #00ff00; text-decoration-color: #00ff00; font-weight: bold\">00:00:00</span>Z\r\n",
       "</pre>\n"
      ],
      "text/plain": [
       "\u001b[1;36m1991\u001b[0m-\u001b[1;36m09\u001b[0m-15T\u001b[1;92m00:00:00\u001b[0mZ\r"
      ]
     },
     "metadata": {},
     "output_type": "display_data"
    },
    {
     "data": {
      "text/html": [
       "<pre style=\"white-space:pre;overflow-x:auto;line-height:normal;font-family:Menlo,'DejaVu Sans Mono',consolas,'Courier New',monospace\"><span style=\"color: #008080; text-decoration-color: #008080; font-weight: bold\">1991</span>-<span style=\"color: #008080; text-decoration-color: #008080; font-weight: bold\">09</span>-16T<span style=\"color: #00ff00; text-decoration-color: #00ff00; font-weight: bold\">00:00:00</span>Z\r\n",
       "</pre>\n"
      ],
      "text/plain": [
       "\u001b[1;36m1991\u001b[0m-\u001b[1;36m09\u001b[0m-16T\u001b[1;92m00:00:00\u001b[0mZ\r"
      ]
     },
     "metadata": {},
     "output_type": "display_data"
    },
    {
     "data": {
      "text/html": [
       "<pre style=\"white-space:pre;overflow-x:auto;line-height:normal;font-family:Menlo,'DejaVu Sans Mono',consolas,'Courier New',monospace\"><span style=\"color: #008080; text-decoration-color: #008080; font-weight: bold\">1991</span>-<span style=\"color: #008080; text-decoration-color: #008080; font-weight: bold\">09</span>-17T<span style=\"color: #00ff00; text-decoration-color: #00ff00; font-weight: bold\">00:00:00</span>Z\r\n",
       "</pre>\n"
      ],
      "text/plain": [
       "\u001b[1;36m1991\u001b[0m-\u001b[1;36m09\u001b[0m-17T\u001b[1;92m00:00:00\u001b[0mZ\r"
      ]
     },
     "metadata": {},
     "output_type": "display_data"
    },
    {
     "data": {
      "text/html": [
       "<pre style=\"white-space:pre;overflow-x:auto;line-height:normal;font-family:Menlo,'DejaVu Sans Mono',consolas,'Courier New',monospace\"><span style=\"color: #008080; text-decoration-color: #008080; font-weight: bold\">1991</span>-<span style=\"color: #008080; text-decoration-color: #008080; font-weight: bold\">09</span>-18T<span style=\"color: #00ff00; text-decoration-color: #00ff00; font-weight: bold\">00:00:00</span>Z\r\n",
       "</pre>\n"
      ],
      "text/plain": [
       "\u001b[1;36m1991\u001b[0m-\u001b[1;36m09\u001b[0m-18T\u001b[1;92m00:00:00\u001b[0mZ\r"
      ]
     },
     "metadata": {},
     "output_type": "display_data"
    },
    {
     "data": {
      "text/html": [
       "<pre style=\"white-space:pre;overflow-x:auto;line-height:normal;font-family:Menlo,'DejaVu Sans Mono',consolas,'Courier New',monospace\"><span style=\"color: #008080; text-decoration-color: #008080; font-weight: bold\">1991</span>-<span style=\"color: #008080; text-decoration-color: #008080; font-weight: bold\">09</span>-19T<span style=\"color: #00ff00; text-decoration-color: #00ff00; font-weight: bold\">00:00:00</span>Z\r\n",
       "</pre>\n"
      ],
      "text/plain": [
       "\u001b[1;36m1991\u001b[0m-\u001b[1;36m09\u001b[0m-19T\u001b[1;92m00:00:00\u001b[0mZ\r"
      ]
     },
     "metadata": {},
     "output_type": "display_data"
    },
    {
     "data": {
      "text/html": [
       "<pre style=\"white-space:pre;overflow-x:auto;line-height:normal;font-family:Menlo,'DejaVu Sans Mono',consolas,'Courier New',monospace\"><span style=\"color: #008080; text-decoration-color: #008080; font-weight: bold\">1991</span>-<span style=\"color: #008080; text-decoration-color: #008080; font-weight: bold\">09</span>-20T<span style=\"color: #00ff00; text-decoration-color: #00ff00; font-weight: bold\">00:00:00</span>Z\r\n",
       "</pre>\n"
      ],
      "text/plain": [
       "\u001b[1;36m1991\u001b[0m-\u001b[1;36m09\u001b[0m-20T\u001b[1;92m00:00:00\u001b[0mZ\r"
      ]
     },
     "metadata": {},
     "output_type": "display_data"
    },
    {
     "data": {
      "text/html": [
       "<pre style=\"white-space:pre;overflow-x:auto;line-height:normal;font-family:Menlo,'DejaVu Sans Mono',consolas,'Courier New',monospace\"><span style=\"color: #008080; text-decoration-color: #008080; font-weight: bold\">1991</span>-<span style=\"color: #008080; text-decoration-color: #008080; font-weight: bold\">09</span>-21T<span style=\"color: #00ff00; text-decoration-color: #00ff00; font-weight: bold\">00:00:00</span>Z\r\n",
       "</pre>\n"
      ],
      "text/plain": [
       "\u001b[1;36m1991\u001b[0m-\u001b[1;36m09\u001b[0m-21T\u001b[1;92m00:00:00\u001b[0mZ\r"
      ]
     },
     "metadata": {},
     "output_type": "display_data"
    },
    {
     "data": {
      "text/html": [
       "<pre style=\"white-space:pre;overflow-x:auto;line-height:normal;font-family:Menlo,'DejaVu Sans Mono',consolas,'Courier New',monospace\"><span style=\"color: #008080; text-decoration-color: #008080; font-weight: bold\">1991</span>-<span style=\"color: #008080; text-decoration-color: #008080; font-weight: bold\">09</span>-22T<span style=\"color: #00ff00; text-decoration-color: #00ff00; font-weight: bold\">00:00:00</span>Z\r\n",
       "</pre>\n"
      ],
      "text/plain": [
       "\u001b[1;36m1991\u001b[0m-\u001b[1;36m09\u001b[0m-22T\u001b[1;92m00:00:00\u001b[0mZ\r"
      ]
     },
     "metadata": {},
     "output_type": "display_data"
    },
    {
     "data": {
      "text/html": [
       "<pre style=\"white-space:pre;overflow-x:auto;line-height:normal;font-family:Menlo,'DejaVu Sans Mono',consolas,'Courier New',monospace\"><span style=\"color: #008080; text-decoration-color: #008080; font-weight: bold\">1991</span>-<span style=\"color: #008080; text-decoration-color: #008080; font-weight: bold\">09</span>-23T<span style=\"color: #00ff00; text-decoration-color: #00ff00; font-weight: bold\">00:00:00</span>Z\r\n",
       "</pre>\n"
      ],
      "text/plain": [
       "\u001b[1;36m1991\u001b[0m-\u001b[1;36m09\u001b[0m-23T\u001b[1;92m00:00:00\u001b[0mZ\r"
      ]
     },
     "metadata": {},
     "output_type": "display_data"
    },
    {
     "data": {
      "text/html": [
       "<pre style=\"white-space:pre;overflow-x:auto;line-height:normal;font-family:Menlo,'DejaVu Sans Mono',consolas,'Courier New',monospace\"><span style=\"color: #008080; text-decoration-color: #008080; font-weight: bold\">1991</span>-<span style=\"color: #008080; text-decoration-color: #008080; font-weight: bold\">09</span>-24T<span style=\"color: #00ff00; text-decoration-color: #00ff00; font-weight: bold\">00:00:00</span>Z\r\n",
       "</pre>\n"
      ],
      "text/plain": [
       "\u001b[1;36m1991\u001b[0m-\u001b[1;36m09\u001b[0m-24T\u001b[1;92m00:00:00\u001b[0mZ\r"
      ]
     },
     "metadata": {},
     "output_type": "display_data"
    },
    {
     "data": {
      "text/html": [
       "<pre style=\"white-space:pre;overflow-x:auto;line-height:normal;font-family:Menlo,'DejaVu Sans Mono',consolas,'Courier New',monospace\"><span style=\"color: #008080; text-decoration-color: #008080; font-weight: bold\">1991</span>-<span style=\"color: #008080; text-decoration-color: #008080; font-weight: bold\">09</span>-25T<span style=\"color: #00ff00; text-decoration-color: #00ff00; font-weight: bold\">00:00:00</span>Z\r\n",
       "</pre>\n"
      ],
      "text/plain": [
       "\u001b[1;36m1991\u001b[0m-\u001b[1;36m09\u001b[0m-25T\u001b[1;92m00:00:00\u001b[0mZ\r"
      ]
     },
     "metadata": {},
     "output_type": "display_data"
    },
    {
     "data": {
      "text/html": [
       "<pre style=\"white-space:pre;overflow-x:auto;line-height:normal;font-family:Menlo,'DejaVu Sans Mono',consolas,'Courier New',monospace\"><span style=\"color: #008080; text-decoration-color: #008080; font-weight: bold\">1991</span>-<span style=\"color: #008080; text-decoration-color: #008080; font-weight: bold\">09</span>-26T<span style=\"color: #00ff00; text-decoration-color: #00ff00; font-weight: bold\">00:00:00</span>Z\r\n",
       "</pre>\n"
      ],
      "text/plain": [
       "\u001b[1;36m1991\u001b[0m-\u001b[1;36m09\u001b[0m-26T\u001b[1;92m00:00:00\u001b[0mZ\r"
      ]
     },
     "metadata": {},
     "output_type": "display_data"
    },
    {
     "data": {
      "text/html": [
       "<pre style=\"white-space:pre;overflow-x:auto;line-height:normal;font-family:Menlo,'DejaVu Sans Mono',consolas,'Courier New',monospace\"><span style=\"color: #008080; text-decoration-color: #008080; font-weight: bold\">1991</span>-<span style=\"color: #008080; text-decoration-color: #008080; font-weight: bold\">09</span>-27T<span style=\"color: #00ff00; text-decoration-color: #00ff00; font-weight: bold\">00:00:00</span>Z\r\n",
       "</pre>\n"
      ],
      "text/plain": [
       "\u001b[1;36m1991\u001b[0m-\u001b[1;36m09\u001b[0m-27T\u001b[1;92m00:00:00\u001b[0mZ\r"
      ]
     },
     "metadata": {},
     "output_type": "display_data"
    },
    {
     "data": {
      "text/html": [
       "<pre style=\"white-space:pre;overflow-x:auto;line-height:normal;font-family:Menlo,'DejaVu Sans Mono',consolas,'Courier New',monospace\"><span style=\"color: #008080; text-decoration-color: #008080; font-weight: bold\">1991</span>-<span style=\"color: #008080; text-decoration-color: #008080; font-weight: bold\">09</span>-28T<span style=\"color: #00ff00; text-decoration-color: #00ff00; font-weight: bold\">00:00:00</span>Z\r\n",
       "</pre>\n"
      ],
      "text/plain": [
       "\u001b[1;36m1991\u001b[0m-\u001b[1;36m09\u001b[0m-28T\u001b[1;92m00:00:00\u001b[0mZ\r"
      ]
     },
     "metadata": {},
     "output_type": "display_data"
    },
    {
     "data": {
      "text/html": [
       "<pre style=\"white-space:pre;overflow-x:auto;line-height:normal;font-family:Menlo,'DejaVu Sans Mono',consolas,'Courier New',monospace\"><span style=\"color: #008080; text-decoration-color: #008080; font-weight: bold\">1991</span>-<span style=\"color: #008080; text-decoration-color: #008080; font-weight: bold\">09</span>-29T<span style=\"color: #00ff00; text-decoration-color: #00ff00; font-weight: bold\">00:00:00</span>Z\r\n",
       "</pre>\n"
      ],
      "text/plain": [
       "\u001b[1;36m1991\u001b[0m-\u001b[1;36m09\u001b[0m-29T\u001b[1;92m00:00:00\u001b[0mZ\r"
      ]
     },
     "metadata": {},
     "output_type": "display_data"
    },
    {
     "data": {
      "text/html": [
       "<pre style=\"white-space:pre;overflow-x:auto;line-height:normal;font-family:Menlo,'DejaVu Sans Mono',consolas,'Courier New',monospace\"><span style=\"color: #008080; text-decoration-color: #008080; font-weight: bold\">1991</span>-<span style=\"color: #008080; text-decoration-color: #008080; font-weight: bold\">09</span>-30T<span style=\"color: #00ff00; text-decoration-color: #00ff00; font-weight: bold\">00:00:00</span>Z\r\n",
       "</pre>\n"
      ],
      "text/plain": [
       "\u001b[1;36m1991\u001b[0m-\u001b[1;36m09\u001b[0m-30T\u001b[1;92m00:00:00\u001b[0mZ\r"
      ]
     },
     "metadata": {},
     "output_type": "display_data"
    },
    {
     "data": {
      "text/html": [
       "<pre style=\"white-space:pre;overflow-x:auto;line-height:normal;font-family:Menlo,'DejaVu Sans Mono',consolas,'Courier New',monospace\"><span style=\"color: #008080; text-decoration-color: #008080; font-weight: bold\">1991</span>-<span style=\"color: #008080; text-decoration-color: #008080; font-weight: bold\">10</span>-01T<span style=\"color: #00ff00; text-decoration-color: #00ff00; font-weight: bold\">00:00:00</span>Z\r\n",
       "</pre>\n"
      ],
      "text/plain": [
       "\u001b[1;36m1991\u001b[0m-\u001b[1;36m10\u001b[0m-01T\u001b[1;92m00:00:00\u001b[0mZ\r"
      ]
     },
     "metadata": {},
     "output_type": "display_data"
    },
    {
     "data": {
      "text/html": [
       "<pre style=\"white-space:pre;overflow-x:auto;line-height:normal;font-family:Menlo,'DejaVu Sans Mono',consolas,'Courier New',monospace\"><span style=\"color: #008080; text-decoration-color: #008080; font-weight: bold\">1991</span>-<span style=\"color: #008080; text-decoration-color: #008080; font-weight: bold\">10</span>-02T<span style=\"color: #00ff00; text-decoration-color: #00ff00; font-weight: bold\">00:00:00</span>Z\r\n",
       "</pre>\n"
      ],
      "text/plain": [
       "\u001b[1;36m1991\u001b[0m-\u001b[1;36m10\u001b[0m-02T\u001b[1;92m00:00:00\u001b[0mZ\r"
      ]
     },
     "metadata": {},
     "output_type": "display_data"
    },
    {
     "data": {
      "text/html": [
       "<pre style=\"white-space:pre;overflow-x:auto;line-height:normal;font-family:Menlo,'DejaVu Sans Mono',consolas,'Courier New',monospace\"><span style=\"color: #008080; text-decoration-color: #008080; font-weight: bold\">1991</span>-<span style=\"color: #008080; text-decoration-color: #008080; font-weight: bold\">10</span>-03T<span style=\"color: #00ff00; text-decoration-color: #00ff00; font-weight: bold\">00:00:00</span>Z\r\n",
       "</pre>\n"
      ],
      "text/plain": [
       "\u001b[1;36m1991\u001b[0m-\u001b[1;36m10\u001b[0m-03T\u001b[1;92m00:00:00\u001b[0mZ\r"
      ]
     },
     "metadata": {},
     "output_type": "display_data"
    },
    {
     "data": {
      "text/html": [
       "<pre style=\"white-space:pre;overflow-x:auto;line-height:normal;font-family:Menlo,'DejaVu Sans Mono',consolas,'Courier New',monospace\"><span style=\"color: #008080; text-decoration-color: #008080; font-weight: bold\">1991</span>-<span style=\"color: #008080; text-decoration-color: #008080; font-weight: bold\">10</span>-04T<span style=\"color: #00ff00; text-decoration-color: #00ff00; font-weight: bold\">00:00:00</span>Z\r\n",
       "</pre>\n"
      ],
      "text/plain": [
       "\u001b[1;36m1991\u001b[0m-\u001b[1;36m10\u001b[0m-04T\u001b[1;92m00:00:00\u001b[0mZ\r"
      ]
     },
     "metadata": {},
     "output_type": "display_data"
    },
    {
     "data": {
      "text/html": [
       "<pre style=\"white-space:pre;overflow-x:auto;line-height:normal;font-family:Menlo,'DejaVu Sans Mono',consolas,'Courier New',monospace\"><span style=\"color: #008080; text-decoration-color: #008080; font-weight: bold\">1991</span>-<span style=\"color: #008080; text-decoration-color: #008080; font-weight: bold\">10</span>-05T<span style=\"color: #00ff00; text-decoration-color: #00ff00; font-weight: bold\">00:00:00</span>Z\r\n",
       "</pre>\n"
      ],
      "text/plain": [
       "\u001b[1;36m1991\u001b[0m-\u001b[1;36m10\u001b[0m-05T\u001b[1;92m00:00:00\u001b[0mZ\r"
      ]
     },
     "metadata": {},
     "output_type": "display_data"
    },
    {
     "data": {
      "text/html": [
       "<pre style=\"white-space:pre;overflow-x:auto;line-height:normal;font-family:Menlo,'DejaVu Sans Mono',consolas,'Courier New',monospace\"><span style=\"color: #008080; text-decoration-color: #008080; font-weight: bold\">1991</span>-<span style=\"color: #008080; text-decoration-color: #008080; font-weight: bold\">10</span>-06T<span style=\"color: #00ff00; text-decoration-color: #00ff00; font-weight: bold\">00:00:00</span>Z\r\n",
       "</pre>\n"
      ],
      "text/plain": [
       "\u001b[1;36m1991\u001b[0m-\u001b[1;36m10\u001b[0m-06T\u001b[1;92m00:00:00\u001b[0mZ\r"
      ]
     },
     "metadata": {},
     "output_type": "display_data"
    },
    {
     "data": {
      "text/html": [
       "<pre style=\"white-space:pre;overflow-x:auto;line-height:normal;font-family:Menlo,'DejaVu Sans Mono',consolas,'Courier New',monospace\"><span style=\"color: #008080; text-decoration-color: #008080; font-weight: bold\">1991</span>-<span style=\"color: #008080; text-decoration-color: #008080; font-weight: bold\">10</span>-07T<span style=\"color: #00ff00; text-decoration-color: #00ff00; font-weight: bold\">00:00:00</span>Z\r\n",
       "</pre>\n"
      ],
      "text/plain": [
       "\u001b[1;36m1991\u001b[0m-\u001b[1;36m10\u001b[0m-07T\u001b[1;92m00:00:00\u001b[0mZ\r"
      ]
     },
     "metadata": {},
     "output_type": "display_data"
    },
    {
     "data": {
      "text/html": [
       "<pre style=\"white-space:pre;overflow-x:auto;line-height:normal;font-family:Menlo,'DejaVu Sans Mono',consolas,'Courier New',monospace\"><span style=\"color: #008080; text-decoration-color: #008080; font-weight: bold\">1991</span>-<span style=\"color: #008080; text-decoration-color: #008080; font-weight: bold\">10</span>-08T<span style=\"color: #00ff00; text-decoration-color: #00ff00; font-weight: bold\">00:00:00</span>Z\r\n",
       "</pre>\n"
      ],
      "text/plain": [
       "\u001b[1;36m1991\u001b[0m-\u001b[1;36m10\u001b[0m-08T\u001b[1;92m00:00:00\u001b[0mZ\r"
      ]
     },
     "metadata": {},
     "output_type": "display_data"
    },
    {
     "data": {
      "text/html": [
       "<pre style=\"white-space:pre;overflow-x:auto;line-height:normal;font-family:Menlo,'DejaVu Sans Mono',consolas,'Courier New',monospace\"><span style=\"color: #008080; text-decoration-color: #008080; font-weight: bold\">1991</span>-<span style=\"color: #008080; text-decoration-color: #008080; font-weight: bold\">10</span>-09T<span style=\"color: #00ff00; text-decoration-color: #00ff00; font-weight: bold\">00:00:00</span>Z\r\n",
       "</pre>\n"
      ],
      "text/plain": [
       "\u001b[1;36m1991\u001b[0m-\u001b[1;36m10\u001b[0m-09T\u001b[1;92m00:00:00\u001b[0mZ\r"
      ]
     },
     "metadata": {},
     "output_type": "display_data"
    },
    {
     "data": {
      "text/html": [
       "<pre style=\"white-space:pre;overflow-x:auto;line-height:normal;font-family:Menlo,'DejaVu Sans Mono',consolas,'Courier New',monospace\"><span style=\"color: #008080; text-decoration-color: #008080; font-weight: bold\">1991</span>-<span style=\"color: #008080; text-decoration-color: #008080; font-weight: bold\">10</span>-10T<span style=\"color: #00ff00; text-decoration-color: #00ff00; font-weight: bold\">00:00:00</span>Z\r\n",
       "</pre>\n"
      ],
      "text/plain": [
       "\u001b[1;36m1991\u001b[0m-\u001b[1;36m10\u001b[0m-10T\u001b[1;92m00:00:00\u001b[0mZ\r"
      ]
     },
     "metadata": {},
     "output_type": "display_data"
    },
    {
     "data": {
      "text/html": [
       "<pre style=\"white-space:pre;overflow-x:auto;line-height:normal;font-family:Menlo,'DejaVu Sans Mono',consolas,'Courier New',monospace\"><span style=\"color: #008080; text-decoration-color: #008080; font-weight: bold\">1991</span>-<span style=\"color: #008080; text-decoration-color: #008080; font-weight: bold\">10</span>-11T<span style=\"color: #00ff00; text-decoration-color: #00ff00; font-weight: bold\">00:00:00</span>Z\r\n",
       "</pre>\n"
      ],
      "text/plain": [
       "\u001b[1;36m1991\u001b[0m-\u001b[1;36m10\u001b[0m-11T\u001b[1;92m00:00:00\u001b[0mZ\r"
      ]
     },
     "metadata": {},
     "output_type": "display_data"
    },
    {
     "data": {
      "text/html": [
       "<pre style=\"white-space:pre;overflow-x:auto;line-height:normal;font-family:Menlo,'DejaVu Sans Mono',consolas,'Courier New',monospace\"><span style=\"color: #008080; text-decoration-color: #008080; font-weight: bold\">1991</span>-<span style=\"color: #008080; text-decoration-color: #008080; font-weight: bold\">10</span>-12T<span style=\"color: #00ff00; text-decoration-color: #00ff00; font-weight: bold\">00:00:00</span>Z\r\n",
       "</pre>\n"
      ],
      "text/plain": [
       "\u001b[1;36m1991\u001b[0m-\u001b[1;36m10\u001b[0m-12T\u001b[1;92m00:00:00\u001b[0mZ\r"
      ]
     },
     "metadata": {},
     "output_type": "display_data"
    },
    {
     "data": {
      "text/html": [
       "<pre style=\"white-space:pre;overflow-x:auto;line-height:normal;font-family:Menlo,'DejaVu Sans Mono',consolas,'Courier New',monospace\"><span style=\"color: #008080; text-decoration-color: #008080; font-weight: bold\">1991</span>-<span style=\"color: #008080; text-decoration-color: #008080; font-weight: bold\">10</span>-13T<span style=\"color: #00ff00; text-decoration-color: #00ff00; font-weight: bold\">00:00:00</span>Z\r\n",
       "</pre>\n"
      ],
      "text/plain": [
       "\u001b[1;36m1991\u001b[0m-\u001b[1;36m10\u001b[0m-13T\u001b[1;92m00:00:00\u001b[0mZ\r"
      ]
     },
     "metadata": {},
     "output_type": "display_data"
    },
    {
     "data": {
      "text/html": [
       "<pre style=\"white-space:pre;overflow-x:auto;line-height:normal;font-family:Menlo,'DejaVu Sans Mono',consolas,'Courier New',monospace\"><span style=\"color: #008080; text-decoration-color: #008080; font-weight: bold\">1991</span>-<span style=\"color: #008080; text-decoration-color: #008080; font-weight: bold\">10</span>-14T<span style=\"color: #00ff00; text-decoration-color: #00ff00; font-weight: bold\">00:00:00</span>Z\r\n",
       "</pre>\n"
      ],
      "text/plain": [
       "\u001b[1;36m1991\u001b[0m-\u001b[1;36m10\u001b[0m-14T\u001b[1;92m00:00:00\u001b[0mZ\r"
      ]
     },
     "metadata": {},
     "output_type": "display_data"
    },
    {
     "data": {
      "text/html": [
       "<pre style=\"white-space:pre;overflow-x:auto;line-height:normal;font-family:Menlo,'DejaVu Sans Mono',consolas,'Courier New',monospace\"><span style=\"color: #008080; text-decoration-color: #008080; font-weight: bold\">1991</span>-<span style=\"color: #008080; text-decoration-color: #008080; font-weight: bold\">10</span>-15T<span style=\"color: #00ff00; text-decoration-color: #00ff00; font-weight: bold\">00:00:00</span>Z\r\n",
       "</pre>\n"
      ],
      "text/plain": [
       "\u001b[1;36m1991\u001b[0m-\u001b[1;36m10\u001b[0m-15T\u001b[1;92m00:00:00\u001b[0mZ\r"
      ]
     },
     "metadata": {},
     "output_type": "display_data"
    },
    {
     "data": {
      "text/html": [
       "<pre style=\"white-space:pre;overflow-x:auto;line-height:normal;font-family:Menlo,'DejaVu Sans Mono',consolas,'Courier New',monospace\"><span style=\"color: #008080; text-decoration-color: #008080; font-weight: bold\">1991</span>-<span style=\"color: #008080; text-decoration-color: #008080; font-weight: bold\">10</span>-16T<span style=\"color: #00ff00; text-decoration-color: #00ff00; font-weight: bold\">00:00:00</span>Z\r\n",
       "</pre>\n"
      ],
      "text/plain": [
       "\u001b[1;36m1991\u001b[0m-\u001b[1;36m10\u001b[0m-16T\u001b[1;92m00:00:00\u001b[0mZ\r"
      ]
     },
     "metadata": {},
     "output_type": "display_data"
    },
    {
     "data": {
      "text/html": [
       "<pre style=\"white-space:pre;overflow-x:auto;line-height:normal;font-family:Menlo,'DejaVu Sans Mono',consolas,'Courier New',monospace\"><span style=\"color: #008080; text-decoration-color: #008080; font-weight: bold\">1991</span>-<span style=\"color: #008080; text-decoration-color: #008080; font-weight: bold\">10</span>-17T<span style=\"color: #00ff00; text-decoration-color: #00ff00; font-weight: bold\">00:00:00</span>Z\r\n",
       "</pre>\n"
      ],
      "text/plain": [
       "\u001b[1;36m1991\u001b[0m-\u001b[1;36m10\u001b[0m-17T\u001b[1;92m00:00:00\u001b[0mZ\r"
      ]
     },
     "metadata": {},
     "output_type": "display_data"
    },
    {
     "data": {
      "text/html": [
       "<pre style=\"white-space:pre;overflow-x:auto;line-height:normal;font-family:Menlo,'DejaVu Sans Mono',consolas,'Courier New',monospace\"><span style=\"color: #008080; text-decoration-color: #008080; font-weight: bold\">1991</span>-<span style=\"color: #008080; text-decoration-color: #008080; font-weight: bold\">10</span>-18T<span style=\"color: #00ff00; text-decoration-color: #00ff00; font-weight: bold\">00:00:00</span>Z\r\n",
       "</pre>\n"
      ],
      "text/plain": [
       "\u001b[1;36m1991\u001b[0m-\u001b[1;36m10\u001b[0m-18T\u001b[1;92m00:00:00\u001b[0mZ\r"
      ]
     },
     "metadata": {},
     "output_type": "display_data"
    },
    {
     "data": {
      "text/html": [
       "<pre style=\"white-space:pre;overflow-x:auto;line-height:normal;font-family:Menlo,'DejaVu Sans Mono',consolas,'Courier New',monospace\"><span style=\"color: #008080; text-decoration-color: #008080; font-weight: bold\">1991</span>-<span style=\"color: #008080; text-decoration-color: #008080; font-weight: bold\">10</span>-19T<span style=\"color: #00ff00; text-decoration-color: #00ff00; font-weight: bold\">00:00:00</span>Z\r\n",
       "</pre>\n"
      ],
      "text/plain": [
       "\u001b[1;36m1991\u001b[0m-\u001b[1;36m10\u001b[0m-19T\u001b[1;92m00:00:00\u001b[0mZ\r"
      ]
     },
     "metadata": {},
     "output_type": "display_data"
    },
    {
     "data": {
      "text/html": [
       "<pre style=\"white-space:pre;overflow-x:auto;line-height:normal;font-family:Menlo,'DejaVu Sans Mono',consolas,'Courier New',monospace\"><span style=\"color: #008080; text-decoration-color: #008080; font-weight: bold\">1991</span>-<span style=\"color: #008080; text-decoration-color: #008080; font-weight: bold\">10</span>-20T<span style=\"color: #00ff00; text-decoration-color: #00ff00; font-weight: bold\">00:00:00</span>Z\r\n",
       "</pre>\n"
      ],
      "text/plain": [
       "\u001b[1;36m1991\u001b[0m-\u001b[1;36m10\u001b[0m-20T\u001b[1;92m00:00:00\u001b[0mZ\r"
      ]
     },
     "metadata": {},
     "output_type": "display_data"
    },
    {
     "data": {
      "text/html": [
       "<pre style=\"white-space:pre;overflow-x:auto;line-height:normal;font-family:Menlo,'DejaVu Sans Mono',consolas,'Courier New',monospace\"><span style=\"color: #008080; text-decoration-color: #008080; font-weight: bold\">1991</span>-<span style=\"color: #008080; text-decoration-color: #008080; font-weight: bold\">10</span>-21T<span style=\"color: #00ff00; text-decoration-color: #00ff00; font-weight: bold\">00:00:00</span>Z\r\n",
       "</pre>\n"
      ],
      "text/plain": [
       "\u001b[1;36m1991\u001b[0m-\u001b[1;36m10\u001b[0m-21T\u001b[1;92m00:00:00\u001b[0mZ\r"
      ]
     },
     "metadata": {},
     "output_type": "display_data"
    },
    {
     "data": {
      "text/html": [
       "<pre style=\"white-space:pre;overflow-x:auto;line-height:normal;font-family:Menlo,'DejaVu Sans Mono',consolas,'Courier New',monospace\"><span style=\"color: #008080; text-decoration-color: #008080; font-weight: bold\">1991</span>-<span style=\"color: #008080; text-decoration-color: #008080; font-weight: bold\">10</span>-22T<span style=\"color: #00ff00; text-decoration-color: #00ff00; font-weight: bold\">00:00:00</span>Z\r\n",
       "</pre>\n"
      ],
      "text/plain": [
       "\u001b[1;36m1991\u001b[0m-\u001b[1;36m10\u001b[0m-22T\u001b[1;92m00:00:00\u001b[0mZ\r"
      ]
     },
     "metadata": {},
     "output_type": "display_data"
    },
    {
     "data": {
      "text/html": [
       "<pre style=\"white-space:pre;overflow-x:auto;line-height:normal;font-family:Menlo,'DejaVu Sans Mono',consolas,'Courier New',monospace\"><span style=\"color: #008080; text-decoration-color: #008080; font-weight: bold\">1991</span>-<span style=\"color: #008080; text-decoration-color: #008080; font-weight: bold\">10</span>-23T<span style=\"color: #00ff00; text-decoration-color: #00ff00; font-weight: bold\">00:00:00</span>Z\r\n",
       "</pre>\n"
      ],
      "text/plain": [
       "\u001b[1;36m1991\u001b[0m-\u001b[1;36m10\u001b[0m-23T\u001b[1;92m00:00:00\u001b[0mZ\r"
      ]
     },
     "metadata": {},
     "output_type": "display_data"
    },
    {
     "data": {
      "text/html": [
       "<pre style=\"white-space:pre;overflow-x:auto;line-height:normal;font-family:Menlo,'DejaVu Sans Mono',consolas,'Courier New',monospace\"><span style=\"color: #008080; text-decoration-color: #008080; font-weight: bold\">1991</span>-<span style=\"color: #008080; text-decoration-color: #008080; font-weight: bold\">10</span>-24T<span style=\"color: #00ff00; text-decoration-color: #00ff00; font-weight: bold\">00:00:00</span>Z\r\n",
       "</pre>\n"
      ],
      "text/plain": [
       "\u001b[1;36m1991\u001b[0m-\u001b[1;36m10\u001b[0m-24T\u001b[1;92m00:00:00\u001b[0mZ\r"
      ]
     },
     "metadata": {},
     "output_type": "display_data"
    },
    {
     "data": {
      "text/html": [
       "<pre style=\"white-space:pre;overflow-x:auto;line-height:normal;font-family:Menlo,'DejaVu Sans Mono',consolas,'Courier New',monospace\"><span style=\"color: #008080; text-decoration-color: #008080; font-weight: bold\">1991</span>-<span style=\"color: #008080; text-decoration-color: #008080; font-weight: bold\">10</span>-25T<span style=\"color: #00ff00; text-decoration-color: #00ff00; font-weight: bold\">00:00:00</span>Z\r\n",
       "</pre>\n"
      ],
      "text/plain": [
       "\u001b[1;36m1991\u001b[0m-\u001b[1;36m10\u001b[0m-25T\u001b[1;92m00:00:00\u001b[0mZ\r"
      ]
     },
     "metadata": {},
     "output_type": "display_data"
    },
    {
     "data": {
      "text/html": [
       "<pre style=\"white-space:pre;overflow-x:auto;line-height:normal;font-family:Menlo,'DejaVu Sans Mono',consolas,'Courier New',monospace\"><span style=\"color: #008080; text-decoration-color: #008080; font-weight: bold\">1991</span>-<span style=\"color: #008080; text-decoration-color: #008080; font-weight: bold\">10</span>-26T<span style=\"color: #00ff00; text-decoration-color: #00ff00; font-weight: bold\">00:00:00</span>Z\r\n",
       "</pre>\n"
      ],
      "text/plain": [
       "\u001b[1;36m1991\u001b[0m-\u001b[1;36m10\u001b[0m-26T\u001b[1;92m00:00:00\u001b[0mZ\r"
      ]
     },
     "metadata": {},
     "output_type": "display_data"
    },
    {
     "data": {
      "text/html": [
       "<pre style=\"white-space:pre;overflow-x:auto;line-height:normal;font-family:Menlo,'DejaVu Sans Mono',consolas,'Courier New',monospace\"><span style=\"color: #008080; text-decoration-color: #008080; font-weight: bold\">1991</span>-<span style=\"color: #008080; text-decoration-color: #008080; font-weight: bold\">10</span>-27T<span style=\"color: #00ff00; text-decoration-color: #00ff00; font-weight: bold\">00:00:00</span>Z\r\n",
       "</pre>\n"
      ],
      "text/plain": [
       "\u001b[1;36m1991\u001b[0m-\u001b[1;36m10\u001b[0m-27T\u001b[1;92m00:00:00\u001b[0mZ\r"
      ]
     },
     "metadata": {},
     "output_type": "display_data"
    },
    {
     "data": {
      "text/html": [
       "<pre style=\"white-space:pre;overflow-x:auto;line-height:normal;font-family:Menlo,'DejaVu Sans Mono',consolas,'Courier New',monospace\"><span style=\"color: #008080; text-decoration-color: #008080; font-weight: bold\">1991</span>-<span style=\"color: #008080; text-decoration-color: #008080; font-weight: bold\">10</span>-28T<span style=\"color: #00ff00; text-decoration-color: #00ff00; font-weight: bold\">00:00:00</span>Z\r\n",
       "</pre>\n"
      ],
      "text/plain": [
       "\u001b[1;36m1991\u001b[0m-\u001b[1;36m10\u001b[0m-28T\u001b[1;92m00:00:00\u001b[0mZ\r"
      ]
     },
     "metadata": {},
     "output_type": "display_data"
    },
    {
     "data": {
      "text/html": [
       "<pre style=\"white-space:pre;overflow-x:auto;line-height:normal;font-family:Menlo,'DejaVu Sans Mono',consolas,'Courier New',monospace\"><span style=\"color: #008080; text-decoration-color: #008080; font-weight: bold\">1991</span>-<span style=\"color: #008080; text-decoration-color: #008080; font-weight: bold\">10</span>-29T<span style=\"color: #00ff00; text-decoration-color: #00ff00; font-weight: bold\">00:00:00</span>Z\r\n",
       "</pre>\n"
      ],
      "text/plain": [
       "\u001b[1;36m1991\u001b[0m-\u001b[1;36m10\u001b[0m-29T\u001b[1;92m00:00:00\u001b[0mZ\r"
      ]
     },
     "metadata": {},
     "output_type": "display_data"
    },
    {
     "data": {
      "text/html": [
       "<pre style=\"white-space:pre;overflow-x:auto;line-height:normal;font-family:Menlo,'DejaVu Sans Mono',consolas,'Courier New',monospace\"><span style=\"color: #008080; text-decoration-color: #008080; font-weight: bold\">1991</span>-<span style=\"color: #008080; text-decoration-color: #008080; font-weight: bold\">10</span>-30T<span style=\"color: #00ff00; text-decoration-color: #00ff00; font-weight: bold\">00:00:00</span>Z\r\n",
       "</pre>\n"
      ],
      "text/plain": [
       "\u001b[1;36m1991\u001b[0m-\u001b[1;36m10\u001b[0m-30T\u001b[1;92m00:00:00\u001b[0mZ\r"
      ]
     },
     "metadata": {},
     "output_type": "display_data"
    },
    {
     "data": {
      "text/html": [
       "<pre style=\"white-space:pre;overflow-x:auto;line-height:normal;font-family:Menlo,'DejaVu Sans Mono',consolas,'Courier New',monospace\"><span style=\"color: #008080; text-decoration-color: #008080; font-weight: bold\">1991</span>-<span style=\"color: #008080; text-decoration-color: #008080; font-weight: bold\">10</span>-31T<span style=\"color: #00ff00; text-decoration-color: #00ff00; font-weight: bold\">00:00:00</span>Z\r\n",
       "</pre>\n"
      ],
      "text/plain": [
       "\u001b[1;36m1991\u001b[0m-\u001b[1;36m10\u001b[0m-31T\u001b[1;92m00:00:00\u001b[0mZ\r"
      ]
     },
     "metadata": {},
     "output_type": "display_data"
    },
    {
     "data": {
      "text/html": [
       "<pre style=\"white-space:pre;overflow-x:auto;line-height:normal;font-family:Menlo,'DejaVu Sans Mono',consolas,'Courier New',monospace\"><span style=\"color: #008080; text-decoration-color: #008080; font-weight: bold\">1991</span>-<span style=\"color: #008080; text-decoration-color: #008080; font-weight: bold\">11</span>-01T<span style=\"color: #00ff00; text-decoration-color: #00ff00; font-weight: bold\">00:00:00</span>Z\r\n",
       "</pre>\n"
      ],
      "text/plain": [
       "\u001b[1;36m1991\u001b[0m-\u001b[1;36m11\u001b[0m-01T\u001b[1;92m00:00:00\u001b[0mZ\r"
      ]
     },
     "metadata": {},
     "output_type": "display_data"
    },
    {
     "data": {
      "text/html": [
       "<pre style=\"white-space:pre;overflow-x:auto;line-height:normal;font-family:Menlo,'DejaVu Sans Mono',consolas,'Courier New',monospace\"><span style=\"color: #008080; text-decoration-color: #008080; font-weight: bold\">1991</span>-<span style=\"color: #008080; text-decoration-color: #008080; font-weight: bold\">11</span>-02T<span style=\"color: #00ff00; text-decoration-color: #00ff00; font-weight: bold\">00:00:00</span>Z\r\n",
       "</pre>\n"
      ],
      "text/plain": [
       "\u001b[1;36m1991\u001b[0m-\u001b[1;36m11\u001b[0m-02T\u001b[1;92m00:00:00\u001b[0mZ\r"
      ]
     },
     "metadata": {},
     "output_type": "display_data"
    },
    {
     "data": {
      "text/html": [
       "<pre style=\"white-space:pre;overflow-x:auto;line-height:normal;font-family:Menlo,'DejaVu Sans Mono',consolas,'Courier New',monospace\"><span style=\"color: #008080; text-decoration-color: #008080; font-weight: bold\">1991</span>-<span style=\"color: #008080; text-decoration-color: #008080; font-weight: bold\">11</span>-03T<span style=\"color: #00ff00; text-decoration-color: #00ff00; font-weight: bold\">00:00:00</span>Z\r\n",
       "</pre>\n"
      ],
      "text/plain": [
       "\u001b[1;36m1991\u001b[0m-\u001b[1;36m11\u001b[0m-03T\u001b[1;92m00:00:00\u001b[0mZ\r"
      ]
     },
     "metadata": {},
     "output_type": "display_data"
    },
    {
     "data": {
      "text/html": [
       "<pre style=\"white-space:pre;overflow-x:auto;line-height:normal;font-family:Menlo,'DejaVu Sans Mono',consolas,'Courier New',monospace\"><span style=\"color: #008080; text-decoration-color: #008080; font-weight: bold\">1991</span>-<span style=\"color: #008080; text-decoration-color: #008080; font-weight: bold\">11</span>-04T<span style=\"color: #00ff00; text-decoration-color: #00ff00; font-weight: bold\">00:00:00</span>Z\r\n",
       "</pre>\n"
      ],
      "text/plain": [
       "\u001b[1;36m1991\u001b[0m-\u001b[1;36m11\u001b[0m-04T\u001b[1;92m00:00:00\u001b[0mZ\r"
      ]
     },
     "metadata": {},
     "output_type": "display_data"
    },
    {
     "data": {
      "text/html": [
       "<pre style=\"white-space:pre;overflow-x:auto;line-height:normal;font-family:Menlo,'DejaVu Sans Mono',consolas,'Courier New',monospace\"><span style=\"color: #008080; text-decoration-color: #008080; font-weight: bold\">1991</span>-<span style=\"color: #008080; text-decoration-color: #008080; font-weight: bold\">11</span>-05T<span style=\"color: #00ff00; text-decoration-color: #00ff00; font-weight: bold\">00:00:00</span>Z\r\n",
       "</pre>\n"
      ],
      "text/plain": [
       "\u001b[1;36m1991\u001b[0m-\u001b[1;36m11\u001b[0m-05T\u001b[1;92m00:00:00\u001b[0mZ\r"
      ]
     },
     "metadata": {},
     "output_type": "display_data"
    },
    {
     "data": {
      "text/html": [
       "<pre style=\"white-space:pre;overflow-x:auto;line-height:normal;font-family:Menlo,'DejaVu Sans Mono',consolas,'Courier New',monospace\"><span style=\"color: #008080; text-decoration-color: #008080; font-weight: bold\">1991</span>-<span style=\"color: #008080; text-decoration-color: #008080; font-weight: bold\">11</span>-06T<span style=\"color: #00ff00; text-decoration-color: #00ff00; font-weight: bold\">00:00:00</span>Z\r\n",
       "</pre>\n"
      ],
      "text/plain": [
       "\u001b[1;36m1991\u001b[0m-\u001b[1;36m11\u001b[0m-06T\u001b[1;92m00:00:00\u001b[0mZ\r"
      ]
     },
     "metadata": {},
     "output_type": "display_data"
    },
    {
     "data": {
      "text/html": [
       "<pre style=\"white-space:pre;overflow-x:auto;line-height:normal;font-family:Menlo,'DejaVu Sans Mono',consolas,'Courier New',monospace\"><span style=\"color: #008080; text-decoration-color: #008080; font-weight: bold\">1991</span>-<span style=\"color: #008080; text-decoration-color: #008080; font-weight: bold\">11</span>-07T<span style=\"color: #00ff00; text-decoration-color: #00ff00; font-weight: bold\">00:00:00</span>Z\r\n",
       "</pre>\n"
      ],
      "text/plain": [
       "\u001b[1;36m1991\u001b[0m-\u001b[1;36m11\u001b[0m-07T\u001b[1;92m00:00:00\u001b[0mZ\r"
      ]
     },
     "metadata": {},
     "output_type": "display_data"
    },
    {
     "data": {
      "text/html": [
       "<pre style=\"white-space:pre;overflow-x:auto;line-height:normal;font-family:Menlo,'DejaVu Sans Mono',consolas,'Courier New',monospace\"><span style=\"color: #008080; text-decoration-color: #008080; font-weight: bold\">1991</span>-<span style=\"color: #008080; text-decoration-color: #008080; font-weight: bold\">11</span>-08T<span style=\"color: #00ff00; text-decoration-color: #00ff00; font-weight: bold\">00:00:00</span>Z\r\n",
       "</pre>\n"
      ],
      "text/plain": [
       "\u001b[1;36m1991\u001b[0m-\u001b[1;36m11\u001b[0m-08T\u001b[1;92m00:00:00\u001b[0mZ\r"
      ]
     },
     "metadata": {},
     "output_type": "display_data"
    },
    {
     "data": {
      "text/html": [
       "<pre style=\"white-space:pre;overflow-x:auto;line-height:normal;font-family:Menlo,'DejaVu Sans Mono',consolas,'Courier New',monospace\"><span style=\"color: #008080; text-decoration-color: #008080; font-weight: bold\">1991</span>-<span style=\"color: #008080; text-decoration-color: #008080; font-weight: bold\">11</span>-09T<span style=\"color: #00ff00; text-decoration-color: #00ff00; font-weight: bold\">00:00:00</span>Z\r\n",
       "</pre>\n"
      ],
      "text/plain": [
       "\u001b[1;36m1991\u001b[0m-\u001b[1;36m11\u001b[0m-09T\u001b[1;92m00:00:00\u001b[0mZ\r"
      ]
     },
     "metadata": {},
     "output_type": "display_data"
    },
    {
     "data": {
      "text/html": [
       "<pre style=\"white-space:pre;overflow-x:auto;line-height:normal;font-family:Menlo,'DejaVu Sans Mono',consolas,'Courier New',monospace\"><span style=\"color: #008080; text-decoration-color: #008080; font-weight: bold\">1991</span>-<span style=\"color: #008080; text-decoration-color: #008080; font-weight: bold\">11</span>-10T<span style=\"color: #00ff00; text-decoration-color: #00ff00; font-weight: bold\">00:00:00</span>Z\r\n",
       "</pre>\n"
      ],
      "text/plain": [
       "\u001b[1;36m1991\u001b[0m-\u001b[1;36m11\u001b[0m-10T\u001b[1;92m00:00:00\u001b[0mZ\r"
      ]
     },
     "metadata": {},
     "output_type": "display_data"
    },
    {
     "data": {
      "text/html": [
       "<pre style=\"white-space:pre;overflow-x:auto;line-height:normal;font-family:Menlo,'DejaVu Sans Mono',consolas,'Courier New',monospace\"><span style=\"color: #008080; text-decoration-color: #008080; font-weight: bold\">1991</span>-<span style=\"color: #008080; text-decoration-color: #008080; font-weight: bold\">11</span>-11T<span style=\"color: #00ff00; text-decoration-color: #00ff00; font-weight: bold\">00:00:00</span>Z\r\n",
       "</pre>\n"
      ],
      "text/plain": [
       "\u001b[1;36m1991\u001b[0m-\u001b[1;36m11\u001b[0m-11T\u001b[1;92m00:00:00\u001b[0mZ\r"
      ]
     },
     "metadata": {},
     "output_type": "display_data"
    },
    {
     "data": {
      "text/html": [
       "<pre style=\"white-space:pre;overflow-x:auto;line-height:normal;font-family:Menlo,'DejaVu Sans Mono',consolas,'Courier New',monospace\"><span style=\"color: #008080; text-decoration-color: #008080; font-weight: bold\">1991</span>-<span style=\"color: #008080; text-decoration-color: #008080; font-weight: bold\">11</span>-12T<span style=\"color: #00ff00; text-decoration-color: #00ff00; font-weight: bold\">00:00:00</span>Z\r\n",
       "</pre>\n"
      ],
      "text/plain": [
       "\u001b[1;36m1991\u001b[0m-\u001b[1;36m11\u001b[0m-12T\u001b[1;92m00:00:00\u001b[0mZ\r"
      ]
     },
     "metadata": {},
     "output_type": "display_data"
    },
    {
     "data": {
      "text/html": [
       "<pre style=\"white-space:pre;overflow-x:auto;line-height:normal;font-family:Menlo,'DejaVu Sans Mono',consolas,'Courier New',monospace\"><span style=\"color: #008080; text-decoration-color: #008080; font-weight: bold\">1991</span>-<span style=\"color: #008080; text-decoration-color: #008080; font-weight: bold\">11</span>-13T<span style=\"color: #00ff00; text-decoration-color: #00ff00; font-weight: bold\">00:00:00</span>Z\r\n",
       "</pre>\n"
      ],
      "text/plain": [
       "\u001b[1;36m1991\u001b[0m-\u001b[1;36m11\u001b[0m-13T\u001b[1;92m00:00:00\u001b[0mZ\r"
      ]
     },
     "metadata": {},
     "output_type": "display_data"
    },
    {
     "data": {
      "text/html": [
       "<pre style=\"white-space:pre;overflow-x:auto;line-height:normal;font-family:Menlo,'DejaVu Sans Mono',consolas,'Courier New',monospace\"><span style=\"color: #008080; text-decoration-color: #008080; font-weight: bold\">1991</span>-<span style=\"color: #008080; text-decoration-color: #008080; font-weight: bold\">11</span>-14T<span style=\"color: #00ff00; text-decoration-color: #00ff00; font-weight: bold\">00:00:00</span>Z\r\n",
       "</pre>\n"
      ],
      "text/plain": [
       "\u001b[1;36m1991\u001b[0m-\u001b[1;36m11\u001b[0m-14T\u001b[1;92m00:00:00\u001b[0mZ\r"
      ]
     },
     "metadata": {},
     "output_type": "display_data"
    },
    {
     "data": {
      "text/html": [
       "<pre style=\"white-space:pre;overflow-x:auto;line-height:normal;font-family:Menlo,'DejaVu Sans Mono',consolas,'Courier New',monospace\"><span style=\"color: #008080; text-decoration-color: #008080; font-weight: bold\">1991</span>-<span style=\"color: #008080; text-decoration-color: #008080; font-weight: bold\">11</span>-15T<span style=\"color: #00ff00; text-decoration-color: #00ff00; font-weight: bold\">00:00:00</span>Z\r\n",
       "</pre>\n"
      ],
      "text/plain": [
       "\u001b[1;36m1991\u001b[0m-\u001b[1;36m11\u001b[0m-15T\u001b[1;92m00:00:00\u001b[0mZ\r"
      ]
     },
     "metadata": {},
     "output_type": "display_data"
    },
    {
     "data": {
      "text/html": [
       "<pre style=\"white-space:pre;overflow-x:auto;line-height:normal;font-family:Menlo,'DejaVu Sans Mono',consolas,'Courier New',monospace\"><span style=\"color: #008080; text-decoration-color: #008080; font-weight: bold\">1991</span>-<span style=\"color: #008080; text-decoration-color: #008080; font-weight: bold\">11</span>-16T<span style=\"color: #00ff00; text-decoration-color: #00ff00; font-weight: bold\">00:00:00</span>Z\r\n",
       "</pre>\n"
      ],
      "text/plain": [
       "\u001b[1;36m1991\u001b[0m-\u001b[1;36m11\u001b[0m-16T\u001b[1;92m00:00:00\u001b[0mZ\r"
      ]
     },
     "metadata": {},
     "output_type": "display_data"
    },
    {
     "data": {
      "text/html": [
       "<pre style=\"white-space:pre;overflow-x:auto;line-height:normal;font-family:Menlo,'DejaVu Sans Mono',consolas,'Courier New',monospace\"><span style=\"color: #008080; text-decoration-color: #008080; font-weight: bold\">1991</span>-<span style=\"color: #008080; text-decoration-color: #008080; font-weight: bold\">11</span>-17T<span style=\"color: #00ff00; text-decoration-color: #00ff00; font-weight: bold\">00:00:00</span>Z\r\n",
       "</pre>\n"
      ],
      "text/plain": [
       "\u001b[1;36m1991\u001b[0m-\u001b[1;36m11\u001b[0m-17T\u001b[1;92m00:00:00\u001b[0mZ\r"
      ]
     },
     "metadata": {},
     "output_type": "display_data"
    },
    {
     "data": {
      "text/html": [
       "<pre style=\"white-space:pre;overflow-x:auto;line-height:normal;font-family:Menlo,'DejaVu Sans Mono',consolas,'Courier New',monospace\"><span style=\"color: #008080; text-decoration-color: #008080; font-weight: bold\">1991</span>-<span style=\"color: #008080; text-decoration-color: #008080; font-weight: bold\">11</span>-18T<span style=\"color: #00ff00; text-decoration-color: #00ff00; font-weight: bold\">00:00:00</span>Z\r\n",
       "</pre>\n"
      ],
      "text/plain": [
       "\u001b[1;36m1991\u001b[0m-\u001b[1;36m11\u001b[0m-18T\u001b[1;92m00:00:00\u001b[0mZ\r"
      ]
     },
     "metadata": {},
     "output_type": "display_data"
    },
    {
     "data": {
      "text/html": [
       "<pre style=\"white-space:pre;overflow-x:auto;line-height:normal;font-family:Menlo,'DejaVu Sans Mono',consolas,'Courier New',monospace\"><span style=\"color: #008080; text-decoration-color: #008080; font-weight: bold\">1991</span>-<span style=\"color: #008080; text-decoration-color: #008080; font-weight: bold\">11</span>-19T<span style=\"color: #00ff00; text-decoration-color: #00ff00; font-weight: bold\">00:00:00</span>Z\r\n",
       "</pre>\n"
      ],
      "text/plain": [
       "\u001b[1;36m1991\u001b[0m-\u001b[1;36m11\u001b[0m-19T\u001b[1;92m00:00:00\u001b[0mZ\r"
      ]
     },
     "metadata": {},
     "output_type": "display_data"
    },
    {
     "data": {
      "text/html": [
       "<pre style=\"white-space:pre;overflow-x:auto;line-height:normal;font-family:Menlo,'DejaVu Sans Mono',consolas,'Courier New',monospace\"><span style=\"color: #008080; text-decoration-color: #008080; font-weight: bold\">1991</span>-<span style=\"color: #008080; text-decoration-color: #008080; font-weight: bold\">11</span>-20T<span style=\"color: #00ff00; text-decoration-color: #00ff00; font-weight: bold\">00:00:00</span>Z\r\n",
       "</pre>\n"
      ],
      "text/plain": [
       "\u001b[1;36m1991\u001b[0m-\u001b[1;36m11\u001b[0m-20T\u001b[1;92m00:00:00\u001b[0mZ\r"
      ]
     },
     "metadata": {},
     "output_type": "display_data"
    },
    {
     "data": {
      "text/html": [
       "<pre style=\"white-space:pre;overflow-x:auto;line-height:normal;font-family:Menlo,'DejaVu Sans Mono',consolas,'Courier New',monospace\"><span style=\"color: #008080; text-decoration-color: #008080; font-weight: bold\">1991</span>-<span style=\"color: #008080; text-decoration-color: #008080; font-weight: bold\">11</span>-21T<span style=\"color: #00ff00; text-decoration-color: #00ff00; font-weight: bold\">00:00:00</span>Z\r\n",
       "</pre>\n"
      ],
      "text/plain": [
       "\u001b[1;36m1991\u001b[0m-\u001b[1;36m11\u001b[0m-21T\u001b[1;92m00:00:00\u001b[0mZ\r"
      ]
     },
     "metadata": {},
     "output_type": "display_data"
    },
    {
     "data": {
      "text/html": [
       "<pre style=\"white-space:pre;overflow-x:auto;line-height:normal;font-family:Menlo,'DejaVu Sans Mono',consolas,'Courier New',monospace\"><span style=\"color: #008080; text-decoration-color: #008080; font-weight: bold\">1991</span>-<span style=\"color: #008080; text-decoration-color: #008080; font-weight: bold\">11</span>-22T<span style=\"color: #00ff00; text-decoration-color: #00ff00; font-weight: bold\">00:00:00</span>Z\r\n",
       "</pre>\n"
      ],
      "text/plain": [
       "\u001b[1;36m1991\u001b[0m-\u001b[1;36m11\u001b[0m-22T\u001b[1;92m00:00:00\u001b[0mZ\r"
      ]
     },
     "metadata": {},
     "output_type": "display_data"
    },
    {
     "data": {
      "text/html": [
       "<pre style=\"white-space:pre;overflow-x:auto;line-height:normal;font-family:Menlo,'DejaVu Sans Mono',consolas,'Courier New',monospace\"><span style=\"color: #008080; text-decoration-color: #008080; font-weight: bold\">1991</span>-<span style=\"color: #008080; text-decoration-color: #008080; font-weight: bold\">11</span>-23T<span style=\"color: #00ff00; text-decoration-color: #00ff00; font-weight: bold\">00:00:00</span>Z\r\n",
       "</pre>\n"
      ],
      "text/plain": [
       "\u001b[1;36m1991\u001b[0m-\u001b[1;36m11\u001b[0m-23T\u001b[1;92m00:00:00\u001b[0mZ\r"
      ]
     },
     "metadata": {},
     "output_type": "display_data"
    },
    {
     "data": {
      "text/html": [
       "<pre style=\"white-space:pre;overflow-x:auto;line-height:normal;font-family:Menlo,'DejaVu Sans Mono',consolas,'Courier New',monospace\"><span style=\"color: #008080; text-decoration-color: #008080; font-weight: bold\">1991</span>-<span style=\"color: #008080; text-decoration-color: #008080; font-weight: bold\">11</span>-24T<span style=\"color: #00ff00; text-decoration-color: #00ff00; font-weight: bold\">00:00:00</span>Z\r\n",
       "</pre>\n"
      ],
      "text/plain": [
       "\u001b[1;36m1991\u001b[0m-\u001b[1;36m11\u001b[0m-24T\u001b[1;92m00:00:00\u001b[0mZ\r"
      ]
     },
     "metadata": {},
     "output_type": "display_data"
    },
    {
     "data": {
      "text/html": [
       "<pre style=\"white-space:pre;overflow-x:auto;line-height:normal;font-family:Menlo,'DejaVu Sans Mono',consolas,'Courier New',monospace\"><span style=\"color: #008080; text-decoration-color: #008080; font-weight: bold\">1991</span>-<span style=\"color: #008080; text-decoration-color: #008080; font-weight: bold\">11</span>-25T<span style=\"color: #00ff00; text-decoration-color: #00ff00; font-weight: bold\">00:00:00</span>Z\r\n",
       "</pre>\n"
      ],
      "text/plain": [
       "\u001b[1;36m1991\u001b[0m-\u001b[1;36m11\u001b[0m-25T\u001b[1;92m00:00:00\u001b[0mZ\r"
      ]
     },
     "metadata": {},
     "output_type": "display_data"
    },
    {
     "data": {
      "text/html": [
       "<pre style=\"white-space:pre;overflow-x:auto;line-height:normal;font-family:Menlo,'DejaVu Sans Mono',consolas,'Courier New',monospace\"><span style=\"color: #008080; text-decoration-color: #008080; font-weight: bold\">1991</span>-<span style=\"color: #008080; text-decoration-color: #008080; font-weight: bold\">11</span>-26T<span style=\"color: #00ff00; text-decoration-color: #00ff00; font-weight: bold\">00:00:00</span>Z\r\n",
       "</pre>\n"
      ],
      "text/plain": [
       "\u001b[1;36m1991\u001b[0m-\u001b[1;36m11\u001b[0m-26T\u001b[1;92m00:00:00\u001b[0mZ\r"
      ]
     },
     "metadata": {},
     "output_type": "display_data"
    },
    {
     "data": {
      "text/html": [
       "<pre style=\"white-space:pre;overflow-x:auto;line-height:normal;font-family:Menlo,'DejaVu Sans Mono',consolas,'Courier New',monospace\"><span style=\"color: #008080; text-decoration-color: #008080; font-weight: bold\">1991</span>-<span style=\"color: #008080; text-decoration-color: #008080; font-weight: bold\">11</span>-27T<span style=\"color: #00ff00; text-decoration-color: #00ff00; font-weight: bold\">00:00:00</span>Z\r\n",
       "</pre>\n"
      ],
      "text/plain": [
       "\u001b[1;36m1991\u001b[0m-\u001b[1;36m11\u001b[0m-27T\u001b[1;92m00:00:00\u001b[0mZ\r"
      ]
     },
     "metadata": {},
     "output_type": "display_data"
    },
    {
     "data": {
      "text/html": [
       "<pre style=\"white-space:pre;overflow-x:auto;line-height:normal;font-family:Menlo,'DejaVu Sans Mono',consolas,'Courier New',monospace\"><span style=\"color: #008080; text-decoration-color: #008080; font-weight: bold\">1991</span>-<span style=\"color: #008080; text-decoration-color: #008080; font-weight: bold\">11</span>-28T<span style=\"color: #00ff00; text-decoration-color: #00ff00; font-weight: bold\">00:00:00</span>Z\r\n",
       "</pre>\n"
      ],
      "text/plain": [
       "\u001b[1;36m1991\u001b[0m-\u001b[1;36m11\u001b[0m-28T\u001b[1;92m00:00:00\u001b[0mZ\r"
      ]
     },
     "metadata": {},
     "output_type": "display_data"
    },
    {
     "data": {
      "text/html": [
       "<pre style=\"white-space:pre;overflow-x:auto;line-height:normal;font-family:Menlo,'DejaVu Sans Mono',consolas,'Courier New',monospace\"><span style=\"color: #008080; text-decoration-color: #008080; font-weight: bold\">1991</span>-<span style=\"color: #008080; text-decoration-color: #008080; font-weight: bold\">11</span>-29T<span style=\"color: #00ff00; text-decoration-color: #00ff00; font-weight: bold\">00:00:00</span>Z\r\n",
       "</pre>\n"
      ],
      "text/plain": [
       "\u001b[1;36m1991\u001b[0m-\u001b[1;36m11\u001b[0m-29T\u001b[1;92m00:00:00\u001b[0mZ\r"
      ]
     },
     "metadata": {},
     "output_type": "display_data"
    },
    {
     "data": {
      "text/html": [
       "<pre style=\"white-space:pre;overflow-x:auto;line-height:normal;font-family:Menlo,'DejaVu Sans Mono',consolas,'Courier New',monospace\"><span style=\"color: #008080; text-decoration-color: #008080; font-weight: bold\">1991</span>-<span style=\"color: #008080; text-decoration-color: #008080; font-weight: bold\">11</span>-30T<span style=\"color: #00ff00; text-decoration-color: #00ff00; font-weight: bold\">00:00:00</span>Z\r\n",
       "</pre>\n"
      ],
      "text/plain": [
       "\u001b[1;36m1991\u001b[0m-\u001b[1;36m11\u001b[0m-30T\u001b[1;92m00:00:00\u001b[0mZ\r"
      ]
     },
     "metadata": {},
     "output_type": "display_data"
    },
    {
     "data": {
      "text/html": [
       "<pre style=\"white-space:pre;overflow-x:auto;line-height:normal;font-family:Menlo,'DejaVu Sans Mono',consolas,'Courier New',monospace\"><span style=\"color: #008080; text-decoration-color: #008080; font-weight: bold\">1991</span>-<span style=\"color: #008080; text-decoration-color: #008080; font-weight: bold\">12</span>-01T<span style=\"color: #00ff00; text-decoration-color: #00ff00; font-weight: bold\">00:00:00</span>Z\r\n",
       "</pre>\n"
      ],
      "text/plain": [
       "\u001b[1;36m1991\u001b[0m-\u001b[1;36m12\u001b[0m-01T\u001b[1;92m00:00:00\u001b[0mZ\r"
      ]
     },
     "metadata": {},
     "output_type": "display_data"
    },
    {
     "data": {
      "text/html": [
       "<pre style=\"white-space:pre;overflow-x:auto;line-height:normal;font-family:Menlo,'DejaVu Sans Mono',consolas,'Courier New',monospace\"><span style=\"color: #008080; text-decoration-color: #008080; font-weight: bold\">1991</span>-<span style=\"color: #008080; text-decoration-color: #008080; font-weight: bold\">12</span>-02T<span style=\"color: #00ff00; text-decoration-color: #00ff00; font-weight: bold\">00:00:00</span>Z\r\n",
       "</pre>\n"
      ],
      "text/plain": [
       "\u001b[1;36m1991\u001b[0m-\u001b[1;36m12\u001b[0m-02T\u001b[1;92m00:00:00\u001b[0mZ\r"
      ]
     },
     "metadata": {},
     "output_type": "display_data"
    },
    {
     "data": {
      "text/html": [
       "<pre style=\"white-space:pre;overflow-x:auto;line-height:normal;font-family:Menlo,'DejaVu Sans Mono',consolas,'Courier New',monospace\"><span style=\"color: #008080; text-decoration-color: #008080; font-weight: bold\">1991</span>-<span style=\"color: #008080; text-decoration-color: #008080; font-weight: bold\">12</span>-03T<span style=\"color: #00ff00; text-decoration-color: #00ff00; font-weight: bold\">00:00:00</span>Z\r\n",
       "</pre>\n"
      ],
      "text/plain": [
       "\u001b[1;36m1991\u001b[0m-\u001b[1;36m12\u001b[0m-03T\u001b[1;92m00:00:00\u001b[0mZ\r"
      ]
     },
     "metadata": {},
     "output_type": "display_data"
    },
    {
     "data": {
      "text/html": [
       "<pre style=\"white-space:pre;overflow-x:auto;line-height:normal;font-family:Menlo,'DejaVu Sans Mono',consolas,'Courier New',monospace\"><span style=\"color: #008080; text-decoration-color: #008080; font-weight: bold\">1991</span>-<span style=\"color: #008080; text-decoration-color: #008080; font-weight: bold\">12</span>-04T<span style=\"color: #00ff00; text-decoration-color: #00ff00; font-weight: bold\">00:00:00</span>Z\r\n",
       "</pre>\n"
      ],
      "text/plain": [
       "\u001b[1;36m1991\u001b[0m-\u001b[1;36m12\u001b[0m-04T\u001b[1;92m00:00:00\u001b[0mZ\r"
      ]
     },
     "metadata": {},
     "output_type": "display_data"
    },
    {
     "data": {
      "text/html": [
       "<pre style=\"white-space:pre;overflow-x:auto;line-height:normal;font-family:Menlo,'DejaVu Sans Mono',consolas,'Courier New',monospace\"><span style=\"color: #008080; text-decoration-color: #008080; font-weight: bold\">1991</span>-<span style=\"color: #008080; text-decoration-color: #008080; font-weight: bold\">12</span>-05T<span style=\"color: #00ff00; text-decoration-color: #00ff00; font-weight: bold\">00:00:00</span>Z\r\n",
       "</pre>\n"
      ],
      "text/plain": [
       "\u001b[1;36m1991\u001b[0m-\u001b[1;36m12\u001b[0m-05T\u001b[1;92m00:00:00\u001b[0mZ\r"
      ]
     },
     "metadata": {},
     "output_type": "display_data"
    },
    {
     "data": {
      "text/html": [
       "<pre style=\"white-space:pre;overflow-x:auto;line-height:normal;font-family:Menlo,'DejaVu Sans Mono',consolas,'Courier New',monospace\"><span style=\"color: #008080; text-decoration-color: #008080; font-weight: bold\">1991</span>-<span style=\"color: #008080; text-decoration-color: #008080; font-weight: bold\">12</span>-06T<span style=\"color: #00ff00; text-decoration-color: #00ff00; font-weight: bold\">00:00:00</span>Z\r\n",
       "</pre>\n"
      ],
      "text/plain": [
       "\u001b[1;36m1991\u001b[0m-\u001b[1;36m12\u001b[0m-06T\u001b[1;92m00:00:00\u001b[0mZ\r"
      ]
     },
     "metadata": {},
     "output_type": "display_data"
    },
    {
     "data": {
      "text/html": [
       "<pre style=\"white-space:pre;overflow-x:auto;line-height:normal;font-family:Menlo,'DejaVu Sans Mono',consolas,'Courier New',monospace\"><span style=\"color: #008080; text-decoration-color: #008080; font-weight: bold\">1991</span>-<span style=\"color: #008080; text-decoration-color: #008080; font-weight: bold\">12</span>-07T<span style=\"color: #00ff00; text-decoration-color: #00ff00; font-weight: bold\">00:00:00</span>Z\r\n",
       "</pre>\n"
      ],
      "text/plain": [
       "\u001b[1;36m1991\u001b[0m-\u001b[1;36m12\u001b[0m-07T\u001b[1;92m00:00:00\u001b[0mZ\r"
      ]
     },
     "metadata": {},
     "output_type": "display_data"
    },
    {
     "data": {
      "text/html": [
       "<pre style=\"white-space:pre;overflow-x:auto;line-height:normal;font-family:Menlo,'DejaVu Sans Mono',consolas,'Courier New',monospace\"><span style=\"color: #008080; text-decoration-color: #008080; font-weight: bold\">1991</span>-<span style=\"color: #008080; text-decoration-color: #008080; font-weight: bold\">12</span>-08T<span style=\"color: #00ff00; text-decoration-color: #00ff00; font-weight: bold\">00:00:00</span>Z\r\n",
       "</pre>\n"
      ],
      "text/plain": [
       "\u001b[1;36m1991\u001b[0m-\u001b[1;36m12\u001b[0m-08T\u001b[1;92m00:00:00\u001b[0mZ\r"
      ]
     },
     "metadata": {},
     "output_type": "display_data"
    },
    {
     "data": {
      "text/html": [
       "<pre style=\"white-space:pre;overflow-x:auto;line-height:normal;font-family:Menlo,'DejaVu Sans Mono',consolas,'Courier New',monospace\"><span style=\"color: #008080; text-decoration-color: #008080; font-weight: bold\">1991</span>-<span style=\"color: #008080; text-decoration-color: #008080; font-weight: bold\">12</span>-09T<span style=\"color: #00ff00; text-decoration-color: #00ff00; font-weight: bold\">00:00:00</span>Z\r\n",
       "</pre>\n"
      ],
      "text/plain": [
       "\u001b[1;36m1991\u001b[0m-\u001b[1;36m12\u001b[0m-09T\u001b[1;92m00:00:00\u001b[0mZ\r"
      ]
     },
     "metadata": {},
     "output_type": "display_data"
    },
    {
     "data": {
      "text/html": [
       "<pre style=\"white-space:pre;overflow-x:auto;line-height:normal;font-family:Menlo,'DejaVu Sans Mono',consolas,'Courier New',monospace\"><span style=\"color: #008080; text-decoration-color: #008080; font-weight: bold\">1991</span>-<span style=\"color: #008080; text-decoration-color: #008080; font-weight: bold\">12</span>-10T<span style=\"color: #00ff00; text-decoration-color: #00ff00; font-weight: bold\">00:00:00</span>Z\r\n",
       "</pre>\n"
      ],
      "text/plain": [
       "\u001b[1;36m1991\u001b[0m-\u001b[1;36m12\u001b[0m-10T\u001b[1;92m00:00:00\u001b[0mZ\r"
      ]
     },
     "metadata": {},
     "output_type": "display_data"
    },
    {
     "data": {
      "text/html": [
       "<pre style=\"white-space:pre;overflow-x:auto;line-height:normal;font-family:Menlo,'DejaVu Sans Mono',consolas,'Courier New',monospace\"><span style=\"color: #008080; text-decoration-color: #008080; font-weight: bold\">1991</span>-<span style=\"color: #008080; text-decoration-color: #008080; font-weight: bold\">12</span>-11T<span style=\"color: #00ff00; text-decoration-color: #00ff00; font-weight: bold\">00:00:00</span>Z\r\n",
       "</pre>\n"
      ],
      "text/plain": [
       "\u001b[1;36m1991\u001b[0m-\u001b[1;36m12\u001b[0m-11T\u001b[1;92m00:00:00\u001b[0mZ\r"
      ]
     },
     "metadata": {},
     "output_type": "display_data"
    },
    {
     "data": {
      "text/html": [
       "<pre style=\"white-space:pre;overflow-x:auto;line-height:normal;font-family:Menlo,'DejaVu Sans Mono',consolas,'Courier New',monospace\"><span style=\"color: #008080; text-decoration-color: #008080; font-weight: bold\">1991</span>-<span style=\"color: #008080; text-decoration-color: #008080; font-weight: bold\">12</span>-12T<span style=\"color: #00ff00; text-decoration-color: #00ff00; font-weight: bold\">00:00:00</span>Z\r\n",
       "</pre>\n"
      ],
      "text/plain": [
       "\u001b[1;36m1991\u001b[0m-\u001b[1;36m12\u001b[0m-12T\u001b[1;92m00:00:00\u001b[0mZ\r"
      ]
     },
     "metadata": {},
     "output_type": "display_data"
    },
    {
     "data": {
      "text/html": [
       "<pre style=\"white-space:pre;overflow-x:auto;line-height:normal;font-family:Menlo,'DejaVu Sans Mono',consolas,'Courier New',monospace\"><span style=\"color: #008080; text-decoration-color: #008080; font-weight: bold\">1991</span>-<span style=\"color: #008080; text-decoration-color: #008080; font-weight: bold\">12</span>-13T<span style=\"color: #00ff00; text-decoration-color: #00ff00; font-weight: bold\">00:00:00</span>Z\r\n",
       "</pre>\n"
      ],
      "text/plain": [
       "\u001b[1;36m1991\u001b[0m-\u001b[1;36m12\u001b[0m-13T\u001b[1;92m00:00:00\u001b[0mZ\r"
      ]
     },
     "metadata": {},
     "output_type": "display_data"
    },
    {
     "data": {
      "text/html": [
       "<pre style=\"white-space:pre;overflow-x:auto;line-height:normal;font-family:Menlo,'DejaVu Sans Mono',consolas,'Courier New',monospace\"><span style=\"color: #008080; text-decoration-color: #008080; font-weight: bold\">1991</span>-<span style=\"color: #008080; text-decoration-color: #008080; font-weight: bold\">12</span>-14T<span style=\"color: #00ff00; text-decoration-color: #00ff00; font-weight: bold\">00:00:00</span>Z\r\n",
       "</pre>\n"
      ],
      "text/plain": [
       "\u001b[1;36m1991\u001b[0m-\u001b[1;36m12\u001b[0m-14T\u001b[1;92m00:00:00\u001b[0mZ\r"
      ]
     },
     "metadata": {},
     "output_type": "display_data"
    },
    {
     "data": {
      "text/html": [
       "<pre style=\"white-space:pre;overflow-x:auto;line-height:normal;font-family:Menlo,'DejaVu Sans Mono',consolas,'Courier New',monospace\"><span style=\"color: #008080; text-decoration-color: #008080; font-weight: bold\">1991</span>-<span style=\"color: #008080; text-decoration-color: #008080; font-weight: bold\">12</span>-15T<span style=\"color: #00ff00; text-decoration-color: #00ff00; font-weight: bold\">00:00:00</span>Z\r\n",
       "</pre>\n"
      ],
      "text/plain": [
       "\u001b[1;36m1991\u001b[0m-\u001b[1;36m12\u001b[0m-15T\u001b[1;92m00:00:00\u001b[0mZ\r"
      ]
     },
     "metadata": {},
     "output_type": "display_data"
    }
   ],
   "source": [
    "output = []\n",
    "while model_instance.time < model_instance.end_time:\n",
    "    model_instance.update()\n",
    "\n",
    "    discharge = model_instance.get_value_at_coords(\n",
    "        \"RiverRunoff\", lon=[grdc_longitude], lat=[grdc_latitude]\n",
    "    )[0]\n",
    "    output.append(discharge)\n",
    "\n",
    "    # Here you could do whatever you like, e.g. update soil moisture values before doing the next timestep.\n",
    "\n",
    "    print(\n",
    "        model_instance.time_as_isostr, end=\"\\r\"\n",
    "    )  # \"\\r\" clears the output before printing the next timestamp"
   ]
  },
  {
   "attachments": {},
   "cell_type": "markdown",
   "id": "c6f9d8a4",
   "metadata": {},
   "source": [
    "We can also get the entire model field at a single time step. To simply plot it:"
   ]
  },
  {
   "cell_type": "code",
   "execution_count": 24,
   "id": "16ad7cc7",
   "metadata": {},
   "outputs": [
    {
     "data": {
      "text/plain": [
       "<matplotlib.collections.QuadMesh at 0x7f9f29bc56f0>"
      ]
     },
     "execution_count": 24,
     "metadata": {},
     "output_type": "execute_result"
    },
    {
     "data": {
      "image/png": "[encoded data removed]",
      "text/plain": [
       "<Figure size 640x480 with 2 Axes>"
      ]
     },
     "metadata": {},
     "output_type": "display_data"
    }
   ],
   "source": [
    "model_instance.get_value_as_xarray(\"RiverRunoff\").plot()"
   ]
  },
  {
   "cell_type": "markdown",
   "id": "1c60633d-35a7-4fe9-9e4e-9c6fb4525139",
   "metadata": {},
   "source": [
    "To get the RiverRunoff at certain location"
   ]
  },
  {
   "cell_type": "code",
   "execution_count": 26,
   "id": "d1430796-ba02-4b77-a80d-1567e0ac7714",
   "metadata": {},
   "outputs": [
    {
     "data": {
      "text/plain": [
       "array([1850.8435], dtype=float32)"
      ]
     },
     "execution_count": 26,
     "metadata": {},
     "output_type": "execute_result"
    }
   ],
   "source": [
    "model_instance.get_value_at_coords(\"RiverRunoff\", lat=[50.0], lon=[8.05])"
   ]
  },
  {
   "attachments": {},
   "cell_type": "markdown",
   "id": "d9fa82ab",
   "metadata": {},
   "source": [
    "If you want to know which variables are available, you can use"
   ]
  },
  {
   "cell_type": "code",
   "execution_count": 25,
   "id": "ff7774d6",
   "metadata": {},
   "outputs": [
    {
     "data": {
      "text/plain": [
       "('RiverRunoff',)"
      ]
     },
     "execution_count": 25,
     "metadata": {},
     "output_type": "execute_result"
    }
   ],
   "source": [
    "model_instance.output_var_names"
   ]
  },
  {
   "attachments": {},
   "cell_type": "markdown",
   "id": "3fd1e737",
   "metadata": {},
   "source": [
    "### Destroying the model\n",
    "\n",
    "A model instance running in a container can take up quite a bit of resources on the system. When you're done with an experiment, it is good practice to always finalize the model. This will make sure the model properly performs any tear-down tasks and eventually the container will be destroyed."
   ]
  },
  {
   "cell_type": "code",
   "execution_count": 31,
   "id": "7f3e4bfd",
   "metadata": {},
   "outputs": [],
   "source": [
    "model_instance.finalize()"
   ]
  },
  {
   "attachments": {},
   "cell_type": "markdown",
   "id": "9a469cb6",
   "metadata": {},
   "source": [
    "## Observations\n",
    "\n",
    "eWaterCycle also includes utilities to easily load observations. Currently, eWaterCycle systems provide access to GRDC and USGS data, and we're hoping to expand this in the future."
   ]
  },
  {
   "cell_type": "code",
   "execution_count": 32,
   "id": "bf99f80b",
   "metadata": {},
   "outputs": [],
   "source": [
    "import ewatercycle.observation.grdc"
   ]
  },
  {
   "attachments": {},
   "cell_type": "markdown",
   "id": "10c57fa1",
   "metadata": {},
   "source": [
    "To load GRDC station data:"
   ]
  },
  {
   "cell_type": "code",
   "execution_count": 33,
   "id": "4248236d",
   "metadata": {},
   "outputs": [
    {
     "data": {
      "text/html": [
       "<div>\n",
       "<style scoped>\n",
       "    .dataframe tbody tr th:only-of-type {\n",
       "        vertical-align: middle;\n",
       "    }\n",
       "\n",
       "    .dataframe tbody tr th {\n",
       "        vertical-align: top;\n",
       "    }\n",
       "\n",
       "    .dataframe thead th {\n",
       "        text-align: right;\n",
       "    }\n",
       "</style>\n",
       "<table border=\"1\" class=\"dataframe\">\n",
       "  <thead>\n",
       "    <tr style=\"text-align: right;\">\n",
       "      <th></th>\n",
       "      <th>GRDC</th>\n",
       "    </tr>\n",
       "    <tr>\n",
       "      <th>time</th>\n",
       "      <th></th>\n",
       "    </tr>\n",
       "  </thead>\n",
       "  <tbody>\n",
       "    <tr>\n",
       "      <th>1990-01-01</th>\n",
       "      <td>2200.0</td>\n",
       "    </tr>\n",
       "    <tr>\n",
       "      <th>1990-01-02</th>\n",
       "      <td>1990.0</td>\n",
       "    </tr>\n",
       "    <tr>\n",
       "      <th>1990-01-03</th>\n",
       "      <td>1840.0</td>\n",
       "    </tr>\n",
       "    <tr>\n",
       "      <th>1990-01-04</th>\n",
       "      <td>1720.0</td>\n",
       "    </tr>\n",
       "    <tr>\n",
       "      <th>1990-01-05</th>\n",
       "      <td>1620.0</td>\n",
       "    </tr>\n",
       "  </tbody>\n",
       "</table>\n",
       "</div>"
      ],
      "text/plain": [
       "              GRDC\n",
       "time              \n",
       "1990-01-01  2200.0\n",
       "1990-01-02  1990.0\n",
       "1990-01-03  1840.0\n",
       "1990-01-04  1720.0\n",
       "1990-01-05  1620.0"
      ]
     },
     "execution_count": 33,
     "metadata": {},
     "output_type": "execute_result"
    }
   ],
   "source": [
    "grdc_station_id = \"6335020\"\n",
    "\n",
    "observations, metadata = ewatercycle.observation.grdc.get_grdc_data(\n",
    "    station_id=grdc_station_id,\n",
    "    start_time=\"1990-01-01T00:00:00Z\",  # or: model_instance.start_time_as_isostr\n",
    "    end_time=\"1990-12-15T00:00:00Z\",\n",
    "    column=\"GRDC\",\n",
    ")\n",
    "\n",
    "observations.head()"
   ]
  },
  {
   "attachments": {},
   "cell_type": "markdown",
   "id": "1dc73521",
   "metadata": {},
   "source": [
    "Since not all GRDC stations are complete, some information is stored in metadata to inform you about the data."
   ]
  },
  {
   "cell_type": "code",
   "execution_count": 34,
   "id": "4191aade",
   "metadata": {},
   "outputs": [
    {
     "data": {
      "text/html": [
       "<pre style=\"white-space:pre;overflow-x:auto;line-height:normal;font-family:Menlo,'DejaVu Sans Mono',consolas,'Courier New',monospace\"><span style=\"font-weight: bold\">{</span>\n",
       "    <span style=\"color: #008000; text-decoration-color: #008000\">'grdc_file_name'</span>: <span style=\"color: #008000; text-decoration-color: #008000\">'/mnt/data/observation/grdc/dailies/6335020_Q_Day.Cmd.txt'</span>,\n",
       "    <span style=\"color: #008000; text-decoration-color: #008000\">'id_from_grdc'</span>: <span style=\"color: #008080; text-decoration-color: #008080; font-weight: bold\">6335020</span>,\n",
       "    <span style=\"color: #008000; text-decoration-color: #008000\">'file_generation_date'</span>: <span style=\"color: #008000; text-decoration-color: #008000\">'2019-03-27'</span>,\n",
       "    <span style=\"color: #008000; text-decoration-color: #008000\">'river_name'</span>: <span style=\"color: #008000; text-decoration-color: #008000\">'RHINE RIVER'</span>,\n",
       "    <span style=\"color: #008000; text-decoration-color: #008000\">'station_name'</span>: <span style=\"color: #008000; text-decoration-color: #008000\">'REES'</span>,\n",
       "    <span style=\"color: #008000; text-decoration-color: #008000\">'country_code'</span>: <span style=\"color: #008000; text-decoration-color: #008000\">'DE'</span>,\n",
       "    <span style=\"color: #008000; text-decoration-color: #008000\">'grdc_latitude_in_arc_degree'</span>: <span style=\"color: #008080; text-decoration-color: #008080; font-weight: bold\">51.756918</span>,\n",
       "    <span style=\"color: #008000; text-decoration-color: #008000\">'grdc_longitude_in_arc_degree'</span>: <span style=\"color: #008080; text-decoration-color: #008080; font-weight: bold\">6.395395</span>,\n",
       "    <span style=\"color: #008000; text-decoration-color: #008000\">'grdc_catchment_area_in_km2'</span>: <span style=\"color: #008080; text-decoration-color: #008080; font-weight: bold\">159300.0</span>,\n",
       "    <span style=\"color: #008000; text-decoration-color: #008000\">'altitude_masl'</span>: <span style=\"color: #008080; text-decoration-color: #008080; font-weight: bold\">8.0</span>,\n",
       "    <span style=\"color: #008000; text-decoration-color: #008000\">'dataSetContent'</span>: <span style=\"color: #008000; text-decoration-color: #008000\">'MEAN DAILY DISCHARGE (Q)'</span>,\n",
       "    <span style=\"color: #008000; text-decoration-color: #008000\">'units'</span>: <span style=\"color: #008000; text-decoration-color: #008000\">'m³/s'</span>,\n",
       "    <span style=\"color: #008000; text-decoration-color: #008000\">'time_series'</span>: <span style=\"color: #008000; text-decoration-color: #008000\">'1814-11 - 2016-12'</span>,\n",
       "    <span style=\"color: #008000; text-decoration-color: #008000\">'no_of_years'</span>: <span style=\"color: #008080; text-decoration-color: #008080; font-weight: bold\">203</span>,\n",
       "    <span style=\"color: #008000; text-decoration-color: #008000\">'last_update'</span>: <span style=\"color: #008000; text-decoration-color: #008000\">'2018-05-24'</span>,\n",
       "    <span style=\"color: #008000; text-decoration-color: #008000\">'nrMeasurements'</span>: <span style=\"color: #008080; text-decoration-color: #008080; font-weight: bold\">73841</span>,\n",
       "    <span style=\"color: #008000; text-decoration-color: #008000\">'UserStartTime'</span>: <span style=\"color: #008000; text-decoration-color: #008000\">'1990-01-01T00:00:00Z'</span>,\n",
       "    <span style=\"color: #008000; text-decoration-color: #008000\">'UserEndTime'</span>: <span style=\"color: #008000; text-decoration-color: #008000\">'1990-12-15T00:00:00Z'</span>,\n",
       "    <span style=\"color: #008000; text-decoration-color: #008000\">'nrMissingData'</span>: <span style=\"color: #008080; text-decoration-color: #008080; font-weight: bold\">0</span>\n",
       "<span style=\"font-weight: bold\">}</span>\n",
       "</pre>\n"
      ],
      "text/plain": [
       "\u001b[1m{\u001b[0m\n",
       "    \u001b[32m'grdc_file_name'\u001b[0m: \u001b[32m'/mnt/data/observation/grdc/dailies/6335020_Q_Day.Cmd.txt'\u001b[0m,\n",
       "    \u001b[32m'id_from_grdc'\u001b[0m: \u001b[1;36m6335020\u001b[0m,\n",
       "    \u001b[32m'file_generation_date'\u001b[0m: \u001b[32m'2019-03-27'\u001b[0m,\n",
       "    \u001b[32m'river_name'\u001b[0m: \u001b[32m'RHINE RIVER'\u001b[0m,\n",
       "    \u001b[32m'station_name'\u001b[0m: \u001b[32m'REES'\u001b[0m,\n",
       "    \u001b[32m'country_code'\u001b[0m: \u001b[32m'DE'\u001b[0m,\n",
       "    \u001b[32m'grdc_latitude_in_arc_degree'\u001b[0m: \u001b[1;36m51.756918\u001b[0m,\n",
       "    \u001b[32m'grdc_longitude_in_arc_degree'\u001b[0m: \u001b[1;36m6.395395\u001b[0m,\n",
       "    \u001b[32m'grdc_catchment_area_in_km2'\u001b[0m: \u001b[1;36m159300.0\u001b[0m,\n",
       "    \u001b[32m'altitude_masl'\u001b[0m: \u001b[1;36m8.0\u001b[0m,\n",
       "    \u001b[32m'dataSetContent'\u001b[0m: \u001b[32m'MEAN DAILY DISCHARGE \u001b[0m\u001b[32m(\u001b[0m\u001b[32mQ\u001b[0m\u001b[32m)\u001b[0m\u001b[32m'\u001b[0m,\n",
       "    \u001b[32m'units'\u001b[0m: \u001b[32m'm³/s'\u001b[0m,\n",
       "    \u001b[32m'time_series'\u001b[0m: \u001b[32m'1814-11 - 2016-12'\u001b[0m,\n",
       "    \u001b[32m'no_of_years'\u001b[0m: \u001b[1;36m203\u001b[0m,\n",
       "    \u001b[32m'last_update'\u001b[0m: \u001b[32m'2018-05-24'\u001b[0m,\n",
       "    \u001b[32m'nrMeasurements'\u001b[0m: \u001b[1;36m73841\u001b[0m,\n",
       "    \u001b[32m'UserStartTime'\u001b[0m: \u001b[32m'1990-01-01T00:00:00Z'\u001b[0m,\n",
       "    \u001b[32m'UserEndTime'\u001b[0m: \u001b[32m'1990-12-15T00:00:00Z'\u001b[0m,\n",
       "    \u001b[32m'nrMissingData'\u001b[0m: \u001b[1;36m0\u001b[0m\n",
       "\u001b[1m}\u001b[0m\n"
      ]
     },
     "metadata": {},
     "output_type": "display_data"
    }
   ],
   "source": [
    "print(metadata)"
   ]
  },
  {
   "attachments": {},
   "cell_type": "markdown",
   "id": "3ca0a60a",
   "metadata": {},
   "source": [
    "## Analysis\n",
    "\n",
    "To easily analyse model output, eWaterCycle also includes an `analysis` module."
   ]
  },
  {
   "cell_type": "code",
   "execution_count": 35,
   "id": "4a251261",
   "metadata": {},
   "outputs": [],
   "source": [
    "import ewatercycle.analysis"
   ]
  },
  {
   "attachments": {},
   "cell_type": "markdown",
   "id": "2583f279",
   "metadata": {},
   "source": [
    "For example, we will plot a hydrograph of the model run and GRDC observations. To this end, we combine the two timeseries in a single dataframe"
   ]
  },
  {
   "cell_type": "code",
   "execution_count": 36,
   "id": "a0d0309b",
   "metadata": {},
   "outputs": [],
   "source": [
    "combined_discharge = observations\n",
    "combined_discharge[\"wflow\"] = output"
   ]
  },
  {
   "cell_type": "code",
   "execution_count": 37,
   "id": "96923a0d",
   "metadata": {},
   "outputs": [
    {
     "data": {
      "text/plain": [
       "(<Figure size 1000x1000 with 2 Axes>,\n",
       " (<Axes: title={'center': 'Hydrograph'}, xlabel='time', ylabel='Discharge (m$^3$ s$^{-1}$)'>,\n",
       "  <Axes: >))"
      ]
     },
     "execution_count": 37,
     "metadata": {},
     "output_type": "execute_result"
    },
    {
     "data": {
      "image/png": "[encoded data removed]",
      "text/plain": [
       "<Figure size 1000x1000 with 2 Axes>"
      ]
     },
     "metadata": {},
     "output_type": "display_data"
    }
   ],
   "source": [
    "ewatercycle.analysis.hydrograph(\n",
    "    discharge=combined_discharge,\n",
    "    reference=\"GRDC\",\n",
    ")"
   ]
  },
  {
   "cell_type": "code",
   "execution_count": null,
   "id": "ebfa4edc-7ec3-4318-9efa-bb90e1bebc3e",
   "metadata": {},
   "outputs": [],
   "source": []
  }
 ],
 "metadata": {
  "interpreter": {
   "hash": "4f63c3f017d58640bc2174e5f1b6c1610e3d96c1a3fe90d1d439f265cee739e3"
  },
  "kernelspec": {
   "display_name": "Python 3 (ipykernel)",
   "language": "python",
   "name": "python3"
  },
  "language_info": {
   "codemirror_mode": {
    "name": "ipython",
    "version": 3
   },
   "file_extension": ".py",
   "mimetype": "text/x-python",
   "name": "python",
   "nbconvert_exporter": "python",
   "pygments_lexer": "ipython3",
   "version": "3.10.9"
  }
 },
 "nbformat": 4,
 "nbformat_minor": 5
}
