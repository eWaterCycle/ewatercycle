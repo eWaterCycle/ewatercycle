{
 "cells": [
  {
   "cell_type": "markdown",
   "id": "4e0f7807-0fa6-42a9-ad41-2fefbd65811e",
   "metadata": {},
   "source": [
    "![image](https://www.ewatercycle.org/assets/logo.png)"
   ]
  },
  {
   "cell_type": "markdown",
   "id": "89b88b4b-33e3-4718-a569-2cfd98ff7671",
   "metadata": {},
   "source": [
    "# Running MARRMoT M01 model using eWaterCycle package\n",
    "\n",
    "This notebooks shows how to run [MARRMoT](https://github.com/wknoben/MARRMoT) M01 model using an example use-case. More information about data, configuration and installation instructions can be found in the [System setup](https://ewatercycle.readthedocs.io/en/latest/system_setup.html) in the eWaterCycle documentation."
   ]
  },
  {
   "cell_type": "code",
   "execution_count": 1,
   "id": "2a72501c-8a4a-4570-b9bc-39c52dd7e039",
   "metadata": {},
   "outputs": [],
   "source": [
    "import warnings\n",
    "warnings.filterwarnings(\"ignore\", category=UserWarning)\n",
    "import pandas as pd\n",
    "\n",
    "import ewatercycle.forcing\n",
    "import ewatercycle.models"
   ]
  },
  {
   "cell_type": "markdown",
   "id": "1512ddba-697d-40e7-86f4-1eeb101ab1e4",
   "metadata": {},
   "source": [
    "## Load forcing data"
   ]
  },
  {
   "cell_type": "code",
   "execution_count": 2,
   "id": "13fa0a78",
   "metadata": {},
   "outputs": [
    {
     "name": "stdout",
     "output_type": "stream",
     "text": [
      "eWaterCycle forcing\n",
      "-------------------\n",
      "start_time=1989-01-01T00:00:00Z\n",
      "end_time=1992-12-31T00:00:00Z\n",
      "directory=/home/sarah/GitHub/ewatercycle/docs/examples\n",
      "shape=None\n",
      "forcing_file=BMI_testcase_m01_BuffaloRiver_TN_USA.mat\n"
     ]
    }
   ],
   "source": [
    "forcing = ewatercycle.forcing.load_foreign('marrmot',\n",
    "                        directory='.',\n",
    "                        start_time='1989-01-01T00:00:00Z',\n",
    "                        end_time='1992-12-31T00:00:00Z',\n",
    "                        forcing_info={\n",
    "                            'forcing_file': 'BMI_testcase_m01_BuffaloRiver_TN_USA.mat'\n",
    "                        })\n",
    "print(forcing)"
   ]
  },
  {
   "cell_type": "markdown",
   "id": "4e70f071",
   "metadata": {},
   "source": [
    "## Setting up the model"
   ]
  },
  {
   "cell_type": "code",
   "execution_count": 3,
   "id": "5357dd6e",
   "metadata": {},
   "outputs": [
    {
     "data": {
      "text/plain": [
       "('2020.11',)"
      ]
     },
     "execution_count": 3,
     "metadata": {},
     "output_type": "execute_result"
    }
   ],
   "source": [
    "# Get available versions\n",
    "ewatercycle.models.MarrmotM01.available_versions"
   ]
  },
  {
   "cell_type": "code",
   "execution_count": 4,
   "id": "a23331dc",
   "metadata": {},
   "outputs": [
    {
     "name": "stdout",
     "output_type": "stream",
     "text": [
      "eWaterCycle MarrmotM01\n",
      "-------------------\n",
      "Version = 2020.11\n",
      "Parameter set = \n",
      "  None\n",
      "Forcing = \n",
      "  eWaterCycle forcing\n",
      "  -------------------\n",
      "  start_time=1989-01-01T00:00:00Z\n",
      "  end_time=1992-12-31T00:00:00Z\n",
      "  directory=/home/sarah/GitHub/ewatercycle/docs/examples\n",
      "  shape=None\n",
      "  forcing_file=BMI_testcase_m01_BuffaloRiver_TN_USA.mat\n"
     ]
    }
   ],
   "source": [
    "# Make the model object \n",
    "model = ewatercycle.models.MarrmotM01(version='2020.11', forcing=forcing)\n",
    "print(model)"
   ]
  },
  {
   "cell_type": "code",
   "execution_count": 5,
   "id": "1304fc91",
   "metadata": {},
   "outputs": [
    {
     "data": {
      "text/plain": [
       "[('maximum_soil_moisture_storage', 10.0),\n",
       " ('initial_soil_moisture_storage', 5.0),\n",
       " ('solver',\n",
       "  Solver(name='createOdeApprox_IE', resnorm_tolerance=array([0.1]), resnorm_maxiter=array([6.]))),\n",
       " ('start time', '1989-01-01T00:00:00Z'),\n",
       " ('end time', '1992-12-31T00:00:00Z')]"
      ]
     },
     "execution_count": 5,
     "metadata": {},
     "output_type": "execute_result"
    }
   ],
   "source": [
    "# Show model parameters\n",
    "model.parameters"
   ]
  },
  {
   "cell_type": "code",
   "execution_count": 6,
   "id": "da8985a5-680c-454a-b8cd-0e0839126152",
   "metadata": {},
   "outputs": [],
   "source": [
    "# Change one of the model parameters and end time using setup() function\n",
    "cfg_file, cfg_dir = model.setup(\n",
    "    maximum_soil_moisture_storage=12.0,\n",
    "    end_time = \"1989-02-01T00:00:00Z\",\n",
    ")\n",
    "print(cfg_dir)"
   ]
  },
  {
   "cell_type": "code",
   "execution_count": 7,
   "id": "3e0f3efc",
   "metadata": {},
   "outputs": [
    {
     "data": {
      "text/plain": [
       "[('maximum_soil_moisture_storage', 12.0),\n",
       " ('initial_soil_moisture_storage', 5.0),\n",
       " ('solver',\n",
       "  Solver(name='createOdeApprox_IE', resnorm_tolerance=array([0.1]), resnorm_maxiter=array([6.]))),\n",
       " ('start time', '1989-01-01T00:00:00Z'),\n",
       " ('end time', '1989-02-01T00:00:00Z')]"
      ]
     },
     "execution_count": 7,
     "metadata": {},
     "output_type": "execute_result"
    }
   ],
   "source": [
    "# Show model parameters that are changed in the previous cell \n",
    "model.parameters"
   ]
  },
  {
   "cell_type": "code",
   "execution_count": 8,
   "id": "97324198",
   "metadata": {},
   "outputs": [],
   "source": [
    "# Initialize the model with config file\n",
    "model.initialize(cfg_file)"
   ]
  },
  {
   "cell_type": "code",
   "execution_count": 9,
   "id": "85c9208b",
   "metadata": {},
   "outputs": [
    {
     "data": {
      "text/plain": [
       "('P',\n",
       " 'T',\n",
       " 'Ep',\n",
       " 'S(t)',\n",
       " 'par',\n",
       " 'sol_resnorm_tolerance',\n",
       " 'sol_resnorm_maxiter',\n",
       " 'flux_out_Q',\n",
       " 'flux_out_Ea',\n",
       " 'wb')"
      ]
     },
     "execution_count": 9,
     "metadata": {},
     "output_type": "execute_result"
    }
   ],
   "source": [
    "# Show model variable names, only 'flux_out_Q' is supported for now.\n",
    "model.output_var_names"
   ]
  },
  {
   "cell_type": "code",
   "execution_count": 11,
   "id": "499341fa-8867-4adb-aba0-0b5143034a0c",
   "metadata": {},
   "outputs": [
    {
     "name": "stdout",
     "output_type": "stream",
     "text": [
      "1989-01-02T00:00:00Z\n",
      "1989-01-03T00:00:00Z\n",
      "1989-01-04T00:00:00Z\n",
      "1989-01-05T00:00:00Z\n",
      "1989-01-06T00:00:00Z\n",
      "1989-01-07T00:00:00Z\n",
      "1989-01-08T00:00:00Z\n",
      "1989-01-09T00:00:00Z\n",
      "1989-01-10T00:00:00Z\n",
      "1989-01-11T00:00:00Z\n",
      "1989-01-12T00:00:00Z\n",
      "1989-01-13T00:00:00Z\n",
      "1989-01-14T00:00:00Z\n",
      "1989-01-15T00:00:00Z\n",
      "1989-01-16T00:00:00Z\n",
      "1989-01-17T00:00:00Z\n",
      "1989-01-18T00:00:00Z\n",
      "1989-01-19T00:00:00Z\n",
      "1989-01-20T00:00:00Z\n",
      "1989-01-21T00:00:00Z\n",
      "1989-01-22T00:00:00Z\n",
      "1989-01-23T00:00:00Z\n",
      "1989-01-24T00:00:00Z\n",
      "1989-01-25T00:00:00Z\n",
      "1989-01-26T00:00:00Z\n",
      "1989-01-27T00:00:00Z\n",
      "1989-01-28T00:00:00Z\n",
      "1989-01-29T00:00:00Z\n",
      "1989-01-30T00:00:00Z\n",
      "1989-01-31T00:00:00Z\n",
      "1989-02-01T00:00:00Z\n"
     ]
    }
   ],
   "source": [
    "# Get model output\n",
    "discharge = []\n",
    "time_range = []\n",
    "end_time = model.end_time\n",
    "\n",
    "# Perform all timesteps of the model, update output fields\n",
    "while (model.time < end_time):\n",
    "    model.update()\n",
    "    # Store model time and variable output\n",
    "    discharge.append(model.get_value('flux_out_Q')[0])\n",
    "    time_range.append(model.time_as_datetime.strftime('%Y-%m-%d'))\n",
    "    print(model.time_as_isostr)\n",
    "    "
   ]
  },
  {
   "cell_type": "code",
   "execution_count": 13,
   "id": "6949e73b-849f-4d7f-8492-5f56f40d57a3",
   "metadata": {},
   "outputs": [],
   "source": [
    "# Store the output in a dataframe\n",
    "simulated_discharge = pd.DataFrame(\n",
    "    {'simulation': discharge}, index=time_range\n",
    ")"
   ]
  },
  {
   "cell_type": "code",
   "execution_count": 14,
   "id": "f6981e3b-d323-4491-89a4-04503840182e",
   "metadata": {},
   "outputs": [
    {
     "data": {
      "text/plain": [
       "<AxesSubplot:>"
      ]
     },
     "execution_count": 14,
     "metadata": {},
     "output_type": "execute_result"
    },
    {
     "data": {
      "image/png": "[encoded data removed]",
      "text/plain": [
       "<Figure size 432x288 with 1 Axes>"
      ]
     },
     "metadata": {
      "needs_background": "light"
     },
     "output_type": "display_data"
    }
   ],
   "source": [
    "# Plot discharge time series\n",
    "simulated_discharge.plot()"
   ]
  },
  {
   "cell_type": "code",
   "execution_count": 15,
   "id": "4e1498cf",
   "metadata": {},
   "outputs": [],
   "source": [
    "# Finalize the model\n",
    "model.finalize()"
   ]
  },
  {
   "cell_type": "code",
   "execution_count": null,
   "id": "dd987d90",
   "metadata": {},
   "outputs": [],
   "source": []
  }
 ],
 "metadata": {
  "kernelspec": {
   "display_name": "Python 3",
   "language": "python",
   "name": "python3"
  },
  "language_info": {
   "codemirror_mode": {
    "name": "ipython",
    "version": 3
   },
   "file_extension": ".py",
   "mimetype": "text/x-python",
   "name": "python",
   "nbconvert_exporter": "python",
   "pygments_lexer": "ipython3",
   "version": "3.9.2"
  }
 },
 "nbformat": 4,
 "nbformat_minor": 5
}
