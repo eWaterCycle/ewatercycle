{
 "cells": [
  {
   "cell_type": "markdown",
   "id": "05a22efa",
   "metadata": {},
   "source": [
    "![ewatercycle logo](https://raw.githubusercontent.com/eWaterCycle/ewatercycle/main/docs/examples/logo.png)\n",
    "\n",
    "# Brute force irrigation experiment\n",
    "\n",
    "This example notebook shows how the eWaterCycle system can be used to quickly assess the impact of irrigation on river discharge. We will manually overwrite the soil moisture values in an experiment with the PCRGlobWB model, to mimick the effect on irrigation. Obviously, this is not a realistic scenario - the eWaterCycle developers are not accountable for any consequences of implementing a real irrigation system after this example."
   ]
  },
  {
   "cell_type": "code",
   "execution_count": 1,
   "id": "0d05e80c",
   "metadata": {},
   "outputs": [],
   "source": [
    "# This cell is only used to suppress some distracting output messages\n",
    "import warnings\n",
    "warnings.filterwarnings(\"ignore\", category=UserWarning)"
   ]
  },
  {
   "cell_type": "code",
   "execution_count": 2,
   "id": "91aa7adb",
   "metadata": {},
   "outputs": [],
   "source": [
    "import ewatercycle.models\n",
    "import ewatercycle.parameter_sets\n",
    "\n",
    "# These packages are not strictly necessary. We'll use them to provide some insight into the steps that we're taking.\n",
    "import matplotlib.pyplot as plt\n",
    "import pandas as pd\n",
    "from cartopy import crs, feature as cfeature"
   ]
  },
  {
   "cell_type": "markdown",
   "id": "5896c7a1",
   "metadata": {},
   "source": [
    "We will run 2 versions of the same model:\n",
    "1. A reference run with the default setup\n",
    "2. An irrigation experiment where we will overwrite soil moisture values"
   ]
  },
  {
   "cell_type": "markdown",
   "id": "ec20765f",
   "metadata": {},
   "source": [
    "We will set up the models with identical parameters and settings. We will use a standard dataset with global parameters on 5 and 30 minutes resolution. The example parameter sets also include forcing data."
   ]
  },
  {
   "cell_type": "code",
   "execution_count": 3,
   "id": "1732f4c1",
   "metadata": {},
   "outputs": [
    {
     "name": "stdout",
     "output_type": "stream",
     "text": [
      "Parameter set\n",
      "-------------\n",
      "name=custom_parameter_set\n",
      "directory=/mnt/data/examples/technical_paper/pcr-globwb/input\n",
      "config=/mnt/home/user37/ewatercycle/docs/examples/pcrglobwb_merrimack.ini\n",
      "doi=N/A\n",
      "target_model=pcrglobwb\n",
      "supported_model_versions={'setters'}\n"
     ]
    }
   ],
   "source": [
    "merrimack_parameterset = ewatercycle.parameter_sets.ParameterSet(\n",
    "    name=\"custom_parameter_set\",\n",
    "    directory=\"/mnt/data/examples/technical_paper/pcr-globwb/input\",\n",
    "    config=\"./pcrglobwb_merrimack.ini\",\n",
    "    target_model=\"pcrglobwb\",\n",
    "    supported_model_versions={'setters'}\n",
    ")\n",
    "\n",
    "print(merrimack_parameterset)"
   ]
  },
  {
   "cell_type": "markdown",
   "id": "2d453e6e",
   "metadata": {},
   "source": [
    "We'll track a grid cell nearby a GRDC station with the following coordinates:"
   ]
  },
  {
   "cell_type": "code",
   "execution_count": 4,
   "id": "c00f2e45",
   "metadata": {},
   "outputs": [],
   "source": [
    "grdc_latitude = 42.6459\n",
    "grdc_longitude = -71.2984"
   ]
  },
  {
   "cell_type": "markdown",
   "id": "9980bdc6",
   "metadata": {},
   "source": [
    "## Reference experiment\n",
    "\n",
    "For the purpose of illustration, we start by running the reference experiment. Then, in the irrigation experiment, we can focus on the differences with respect to the reference experiment."
   ]
  },
  {
   "cell_type": "code",
   "execution_count": 5,
   "id": "271d3694",
   "metadata": {},
   "outputs": [],
   "source": [
    "# Instantiate the model instance\n",
    "reference = ewatercycle.models.PCRGlobWB(version='setters', parameter_set=merrimack_parameterset)\n",
    "\n",
    "# Create experiment folder, set up the model configuration, and start the container in which the model will run\n",
    "reference_config, reference_dir = reference.setup()"
   ]
  },
  {
   "cell_type": "code",
   "execution_count": 6,
   "id": "2a557640",
   "metadata": {},
   "outputs": [],
   "source": [
    "# Initialize the model inside the container\n",
    "# Depending on your system this may take a few minutes, log messages will start to appear in the output directory\n",
    "reference.initialize(reference_config)"
   ]
  },
  {
   "cell_type": "markdown",
   "id": "5a309092",
   "metadata": {},
   "source": [
    "Create an empty dataframe to store the modelled discharge"
   ]
  },
  {
   "cell_type": "code",
   "execution_count": 7,
   "id": "f10cd5da",
   "metadata": {},
   "outputs": [
    {
     "data": {
      "text/html": [
       "<div>\n",
       "<style scoped>\n",
       "    .dataframe tbody tr th:only-of-type {\n",
       "        vertical-align: middle;\n",
       "    }\n",
       "\n",
       "    .dataframe tbody tr th {\n",
       "        vertical-align: top;\n",
       "    }\n",
       "\n",
       "    .dataframe thead th {\n",
       "        text-align: right;\n",
       "    }\n",
       "</style>\n",
       "<table border=\"1\" class=\"dataframe\">\n",
       "  <thead>\n",
       "    <tr style=\"text-align: right;\">\n",
       "      <th></th>\n",
       "      <th>reference</th>\n",
       "      <th>experiment</th>\n",
       "    </tr>\n",
       "    <tr>\n",
       "      <th>time</th>\n",
       "      <th></th>\n",
       "      <th></th>\n",
       "    </tr>\n",
       "  </thead>\n",
       "  <tbody>\n",
       "    <tr>\n",
       "      <th>2002-01-01 00:00:00+00:00</th>\n",
       "      <td>NaN</td>\n",
       "      <td>NaN</td>\n",
       "    </tr>\n",
       "    <tr>\n",
       "      <th>2002-01-02 00:00:00+00:00</th>\n",
       "      <td>NaN</td>\n",
       "      <td>NaN</td>\n",
       "    </tr>\n",
       "    <tr>\n",
       "      <th>2002-01-03 00:00:00+00:00</th>\n",
       "      <td>NaN</td>\n",
       "      <td>NaN</td>\n",
       "    </tr>\n",
       "    <tr>\n",
       "      <th>2002-01-04 00:00:00+00:00</th>\n",
       "      <td>NaN</td>\n",
       "      <td>NaN</td>\n",
       "    </tr>\n",
       "    <tr>\n",
       "      <th>2002-01-05 00:00:00+00:00</th>\n",
       "      <td>NaN</td>\n",
       "      <td>NaN</td>\n",
       "    </tr>\n",
       "  </tbody>\n",
       "</table>\n",
       "</div>"
      ],
      "text/plain": [
       "                          reference experiment\n",
       "time                                          \n",
       "2002-01-01 00:00:00+00:00       NaN        NaN\n",
       "2002-01-02 00:00:00+00:00       NaN        NaN\n",
       "2002-01-03 00:00:00+00:00       NaN        NaN\n",
       "2002-01-04 00:00:00+00:00       NaN        NaN\n",
       "2002-01-05 00:00:00+00:00       NaN        NaN"
      ]
     },
     "execution_count": 7,
     "metadata": {},
     "output_type": "execute_result"
    }
   ],
   "source": [
    "time = pd.date_range(reference.start_time_as_isostr, reference.end_time_as_isostr)\n",
    "timeseries = pd.DataFrame(index=pd.Index(time, name='time'), columns=['reference', 'experiment'])\n",
    "timeseries.head()"
   ]
  },
  {
   "cell_type": "code",
   "execution_count": null,
   "id": "61ec1aea",
   "metadata": {},
   "outputs": [
    {
     "name": "stdout",
     "output_type": "stream",
     "text": [
      "2002-07-25T00:00:00Z\r"
     ]
    }
   ],
   "source": [
    "while reference.time < reference.end_time:\n",
    "    \n",
    "    reference.update() \n",
    "    \n",
    "    # Track discharge at station location\n",
    "    discharge_at_station = reference.get_value_at_coords('discharge', lat=[42.6459], lon=[-71.2984])\n",
    "    time = reference.time_as_isostr\n",
    "    timeseries['reference'][time] = discharge_at_station[0]\n",
    "    \n",
    "    # Show progress\n",
    "    print(time, end=\"\\r\")  # \"\\r\" clears the output before printing the next timestamp"
   ]
  },
  {
   "cell_type": "markdown",
   "id": "cf3b7357",
   "metadata": {},
   "source": [
    "### Intermediate insights\n",
    "\n",
    "Before we continue with the experiment, let's have a look at the intermediate results. First of all, notice that the reference column in our timeseries dataframe has been filled."
   ]
  },
  {
   "cell_type": "code",
   "execution_count": null,
   "id": "ed531544",
   "metadata": {},
   "outputs": [],
   "source": [
    "timeseries.head()"
   ]
  },
  {
   "cell_type": "markdown",
   "id": "985bf738",
   "metadata": {},
   "source": [
    "We can also make a map of discharge at the last model step"
   ]
  },
  {
   "cell_type": "code",
   "execution_count": null,
   "id": "ebab04b1",
   "metadata": {},
   "outputs": [],
   "source": [
    "# Use matplotlib to make the figure slightly nicer\n",
    "fig = plt.figure(dpi=120)\n",
    "ax = fig.add_subplot(111, projection=crs.PlateCarree())\n",
    "\n",
    "# Plotting the model field is a one-liner\n",
    "reference.get_value_as_xarray(\"discharge\").plot(ax=ax, cmap='GnBu')\n",
    "\n",
    "# Also plot the station location\n",
    "ax.scatter(grdc_longitude, grdc_latitude, s=25, c='r')\n",
    "\n",
    "# Overlay ocean and coastines\n",
    "ax.add_feature(cfeature.OCEAN, zorder=2)\n",
    "ax.add_feature(cfeature.RIVERS, zorder=2, color='k')\n",
    "ax.coastlines(zorder=3)"
   ]
  },
  {
   "cell_type": "markdown",
   "id": "e7d03584",
   "metadata": {},
   "source": [
    "You can see that the grdc location indeed represents a cell that we would identify as a river."
   ]
  },
  {
   "cell_type": "markdown",
   "id": "a6e5e3cc",
   "metadata": {},
   "source": [
    "We can also have a quick look at the discharge timeseries we have tracked, to see if it makes any sense."
   ]
  },
  {
   "cell_type": "code",
   "execution_count": null,
   "id": "57863026",
   "metadata": {},
   "outputs": [],
   "source": [
    "timeseries.plot()"
   ]
  },
  {
   "cell_type": "markdown",
   "id": "2f29956b",
   "metadata": {},
   "source": [
    "## Running the irrigation experiment\n",
    "\n",
    "Before we initialize the experiment, let's use the reference model to illustrate the concept of what we will do"
   ]
  },
  {
   "cell_type": "code",
   "execution_count": null,
   "id": "53655d58",
   "metadata": {},
   "outputs": [],
   "source": [
    "soil_moisture = reference.get_value_as_xarray('upper_soil_saturation_degree')\n",
    "\n",
    "# Copy the field and manually overwrite a random part of the domain\n",
    "irrigated_soil_moisture = soil_moisture.copy()\n",
    "irrigated_soil_moisture[31:41, 18:28] = 1\n",
    "\n",
    "# Visualize the difference\n",
    "fig = plt.figure(figsize=(10, 5), dpi=120)\n",
    "left_axes = fig.add_subplot(121, projection=crs.PlateCarree())\n",
    "right_axes = fig.add_subplot(122, projection=crs.PlateCarree())\n",
    "\n",
    "soil_moisture.plot(ax=left_axes, cmap='GnBu', vmin=0.3, vmax=1)\n",
    "irrigated_soil_moisture.plot(ax=right_axes, cmap='GnBu', vmin=0.3, vmax=1)\n",
    "\n",
    "# Decoration\n",
    "left_axes.set_title(\"Reference\")\n",
    "right_axes.set_title(\"Irrigated patch\")\n",
    "\n",
    "for axes in [left_axes, right_axes]:\n",
    "    axes.add_feature(cfeature.OCEAN, zorder=2)\n",
    "    axes.add_feature(cfeature.RIVERS, zorder=2, color='k')\n",
    "    axes.coastlines(zorder=3)"
   ]
  },
  {
   "cell_type": "markdown",
   "id": "a7a0000e",
   "metadata": {},
   "source": [
    "From here on we will do exactly the same as before, except that we'll add three extra lines to overwrite soil moisture at every time step."
   ]
  },
  {
   "cell_type": "code",
   "execution_count": null,
   "id": "b624da65",
   "metadata": {},
   "outputs": [],
   "source": [
    "experiment = PCRGlobWB(version='setters', parameter_set=merrimack_parameterset)\n",
    "experiment_config, experiment_dir = experiment.setup()"
   ]
  },
  {
   "cell_type": "code",
   "execution_count": null,
   "id": "afceade1",
   "metadata": {},
   "outputs": [],
   "source": [
    "experiment.initialize(experiment_config)  # this may take a few minutes, log messages will start to appear in the output directory."
   ]
  },
  {
   "cell_type": "code",
   "execution_count": null,
   "id": "5eb8eec7",
   "metadata": {},
   "outputs": [],
   "source": [
    "while experiment.time < experiment.end_time:\n",
    "\n",
    "    experiment.update() \n",
    "\n",
    "    # Overwrite soil moisture field\n",
    "    soil_moisture = experiment.get_value_as_xarray('upper_soil_saturation_degree', )\n",
    "    soil_moisture[31:41, 18:28] = 1\n",
    "    experiment.set_value('upper_soil_saturation_degree', soil_moisture.values.flatten())   \n",
    "    \n",
    "    # Track discharge at station location\n",
    "    discharge_at_station = experiment.get_value_at_coords('discharge', lat=[42.6459], lon=[-71.2984])\n",
    "    time = reference.time_as_isostr\n",
    "    timeseries['reference'][time] = discharge_at_station[0]\n",
    "    \n",
    "    # Show progress\n",
    "    print(time, end=\"\\r\")  # \"\\r\" clears the output before printing the next timestamp"
   ]
  },
  {
   "cell_type": "markdown",
   "id": "9ebd66db",
   "metadata": {},
   "source": [
    "## Final analysis"
   ]
  },
  {
   "cell_type": "code",
   "execution_count": null,
   "id": "61b31364",
   "metadata": {},
   "outputs": [],
   "source": [
    "fig, ax = plt.subplots(dpi=120)\n",
    "timeseries.plot(ax=ax)\n",
    "ax.set_title('Increased discharge due to irrigation')"
   ]
  },
  {
   "cell_type": "markdown",
   "id": "4207bb3b",
   "metadata": {},
   "source": [
    "## Clean up\n",
    "\n",
    "It is good practice to remove model instances once you're done with an experiment. This will free up resources on the system."
   ]
  },
  {
   "cell_type": "code",
   "execution_count": null,
   "id": "7fecb5b7",
   "metadata": {},
   "outputs": [],
   "source": [
    "reference.finalize()\n",
    "experiment.finalize()"
   ]
  }
 ],
 "metadata": {
  "kernelspec": {
   "display_name": "Python 3",
   "language": "python",
   "name": "python3"
  },
  "language_info": {
   "codemirror_mode": {
    "name": "ipython",
    "version": 3
   },
   "file_extension": ".py",
   "mimetype": "text/x-python",
   "name": "python",
   "nbconvert_exporter": "python",
   "pygments_lexer": "ipython3",
   "version": "3.7.7"
  }
 },
 "nbformat": 4,
 "nbformat_minor": 5
}
