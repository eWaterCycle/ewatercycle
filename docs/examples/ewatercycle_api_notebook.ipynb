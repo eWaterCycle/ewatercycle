{
 "cells": [
  {
   "cell_type": "markdown",
   "id": "ea3df16a",
   "metadata": {},
   "source": [
    "# eWaterCycle platform tutorial\n",
    "\n",
    "This is a small tutorial of the eWaterCycle platform, showing the concepts in the eWaterCycle platform, and how these are generally used. The experiment shown in this notebook is a straigtforward model run leading to a hydrograph.\n",
    "\n",
    "**NOTE: At the moment this tutorial is not functional.**\n",
    "\n",
    "## eWaterCycle platform concept\n",
    "\n",
    "\n",
    "In general eWaterCycle tries to strike a balance between making it easy to use standard available elements of an experiment (datasets, models, analysis algorithms), and supplying custom elements. This does mean that a simple usecase sometimes requires slightly more lines of code than strictly nescessary, for the sake of making it easy to adapt this code to more complex and/or custom usecases.\n",
    "\n",
    "## Glossary\n",
    "\n",
    "- Experiment: A notebook running one or more hydrological models and producing a scientific result.\n",
    "- Model: Software implementation of an algorithm. Note this excludes data required for this model.\n",
    "- Forcing: all time dependent data needed to run a model, and that is not impacted by the model.\n",
    "- Model Parameters: fixed parameters (depth of river, land use, irrigation channels, dams). Considered constant during a model run.\n",
    "- Parameter Set: File based collection of parameters for a certain model, resolution, and possibly area.\n",
    "- Model instance: single running instance of a model, including all data required, and with a current state.\n",
    "\n",
    "## Ingredients of a model instance\n",
    "\n",
    "To create a model instance, we need to select:\n",
    "- A model.\n",
    "- Forcing (usually converted to a model specific format).\n",
    "- Parameters for this model. Some models come with default parameters, most must be explicitly given a parameter set on creation of an instance. Parameters can be overriden in the setup function.\n",
    "\n",
    "When creating a model instance, eWaterCycle will supply the following:\n",
    "- A configuration file for the model. This is generated from a template for that specific model.\n",
    "- A container for the model. This is found in the collection of model containers\n"
   ]
  },
  {
   "cell_type": "markdown",
   "id": "2c6bf337",
   "metadata": {},
   "source": [
    "## Configuration\n",
    "\n",
    "To be able to find all needed data and models eWaterCycle comes with a configuration object. This configuration contains system settings for eWaterCycle (which container technology to use, where is the data located, etc). In general these should not need to be changed by the user for a specific experiment, and ideally a user would never need to touch this configuration on a properly managed system.\n",
    "\n",
    "Note: a path on the local filesystem is always denoted as \"dir\" (short for directory), instead of folder, path, or location. Especially location can be confusing in the context of geospatial modeling.\n",
    "\n",
    "#### ESMValTool configuration\n",
    "\n",
    "As eWaterCycle relies on ESMValTool for processing forcing data, configuration for forcing is mostly defered to the esmvaltool configuration file. What ESMValTool configuration file to use can be specified in the eWatercycle configuration.\n",
    "\n",
    "#### Examples of configuration\n",
    "- Where is the grdc data stored?\n",
    "- What container technology is used (singularity or docker)?\n",
    "- Where are the singularity model containers stored locally?\n",
    "- Where are the parameter sets stored?\n",
    "- Where will the (temporary) output data be stored by default?"
   ]
  },
  {
   "cell_type": "code",
   "execution_count": 1,
   "id": "7bd950e7",
   "metadata": {},
   "outputs": [
    {
     "ename": "FileNotFoundError",
     "evalue": "Cannot find: `~/.ewatercycle/config.yml",
     "output_type": "error",
     "traceback": [
      "\u001b[0;31m---------------------------------------------------------------------------\u001b[0m",
      "\u001b[0;31mFileNotFoundError\u001b[0m                         Traceback (most recent call last)",
      "\u001b[0;32m<ipython-input-1-103c29975675>\u001b[0m in \u001b[0;36m<module>\u001b[0;34m\u001b[0m\n\u001b[1;32m      3\u001b[0m \u001b[0;34m\u001b[0m\u001b[0m\n\u001b[1;32m      4\u001b[0m \u001b[0;31m#This completely unnecessary line loads the configuration file from the default location.\u001b[0m\u001b[0;34m\u001b[0m\u001b[0;34m\u001b[0m\u001b[0;34m\u001b[0m\u001b[0m\n\u001b[0;32m----> 5\u001b[0;31m \u001b[0mCFG\u001b[0m\u001b[0;34m.\u001b[0m\u001b[0mload_from_file\u001b[0m\u001b[0;34m(\u001b[0m\u001b[0;34m'~/.ewatercycle/config.yml'\u001b[0m\u001b[0;34m)\u001b[0m\u001b[0;34m\u001b[0m\u001b[0;34m\u001b[0m\u001b[0m\n\u001b[0m\u001b[1;32m      6\u001b[0m \u001b[0;34m\u001b[0m\u001b[0m\n\u001b[1;32m      7\u001b[0m \u001b[0mCFG\u001b[0m\u001b[0;34m\u001b[0m\u001b[0;34m\u001b[0m\u001b[0m\n",
      "\u001b[0;32m~/Projects/eWaterCycle/ewatercycle/ewatercycle/config/_config_object.py\u001b[0m in \u001b[0;36mload_from_file\u001b[0;34m(self, filename)\u001b[0m\n\u001b[1;32m     57\u001b[0m         \u001b[0mpath\u001b[0m \u001b[0;34m=\u001b[0m \u001b[0mPath\u001b[0m\u001b[0;34m(\u001b[0m\u001b[0mfilename\u001b[0m\u001b[0;34m)\u001b[0m\u001b[0;34m.\u001b[0m\u001b[0mexpanduser\u001b[0m\u001b[0;34m(\u001b[0m\u001b[0;34m)\u001b[0m\u001b[0;34m\u001b[0m\u001b[0;34m\u001b[0m\u001b[0m\n\u001b[1;32m     58\u001b[0m         \u001b[0;32mif\u001b[0m \u001b[0;32mnot\u001b[0m \u001b[0mpath\u001b[0m\u001b[0;34m.\u001b[0m\u001b[0mexists\u001b[0m\u001b[0;34m(\u001b[0m\u001b[0;34m)\u001b[0m\u001b[0;34m:\u001b[0m\u001b[0;34m\u001b[0m\u001b[0;34m\u001b[0m\u001b[0m\n\u001b[0;32m---> 59\u001b[0;31m             \u001b[0;32mraise\u001b[0m \u001b[0mFileNotFoundError\u001b[0m\u001b[0;34m(\u001b[0m\u001b[0;34mf'Cannot find: `{filename}'\u001b[0m\u001b[0;34m)\u001b[0m\u001b[0;34m\u001b[0m\u001b[0;34m\u001b[0m\u001b[0m\n\u001b[0m\u001b[1;32m     60\u001b[0m \u001b[0;34m\u001b[0m\u001b[0m\n\u001b[1;32m     61\u001b[0m         \u001b[0mself\u001b[0m\u001b[0;34m.\u001b[0m\u001b[0mclear\u001b[0m\u001b[0;34m(\u001b[0m\u001b[0;34m)\u001b[0m\u001b[0;34m\u001b[0m\u001b[0;34m\u001b[0m\u001b[0m\n",
      "\u001b[0;31mFileNotFoundError\u001b[0m: Cannot find: `~/.ewatercycle/config.yml"
     ]
    }
   ],
   "source": [
    "# this loads the configuration from the default location(s). This should normally be fine\n",
    "from ewatercycle import CFG\n",
    "\n",
    "#This completely unnecessary line loads the configuration file from the default location.\n",
    "CFG.load_from_file('~/.ewatercycle/config.yml')\n",
    "\n",
    "CFG\n",
    "\n",
    "# Config({\n",
    "#    'container_engine': 'docker',\n",
    "#    'esmvaltool_config': PosixPath('/home/user/.ewatercycle/esmvaltool-config-user.yml'),\n",
    "#    'ewatercycle_config': PosixPath('/home/user/.ewatercycle/config.yml'),\n",
    "#    'grdc_data_dir': '/Path/to/grdc/data',\n",
    "#    'output_dir': PosixPath('/home/user/ewatercycle-output'),\n",
    "#    'singularity_containers_dir': '/home/user/ewatercycle/singularity'\n",
    "#    'parameterset_dir': '/home/user/ewatercycle/parameter_sets',"
   ]
  },
  {
   "cell_type": "markdown",
   "id": "017abb51",
   "metadata": {},
   "source": [
    "## Forcing generation\n",
    "\n",
    "eWaterCycle can generate forcing for a model using the `forcing` module. This does all the required steps to go from the available datasets (ERA-5, ERA-Interim, etc) to whatever format the model requires for forcing. In general the output should match a forcing prepared \"manually\" for this model.\n",
    "\n",
    "As input for the forcing generation the shape of the required forcing (usually a catchment) is needed. eWaterCycle will derive additiona information such as a bounding box if this is required by the model (e.g. in case of a gridded model), and additional options may be available or even required for some models.\n",
    "\n",
    "The forcing module generates a ESMValTool recipe using all the arguments supplied. For most models all computations are done using ESMValTool. However, for some models (e.g. lisflood) additional computation is done, as some steps require data and/or code not available in ESMValTool.\n",
    "\n",
    "The forcing generated is returned in the form of an object with metadata attached, and the main forcing being stored in a directory. This directory can either be specified explicitly, or it will be auto-generated by eWaterCycle from the output dir specified in the configuration. Some additional functionality is available to analyse the forcing, most promonently a plotting function to visually inspect the forcing."
   ]
  },
  {
   "cell_type": "code",
   "execution_count": 2,
   "id": "91733c0d",
   "metadata": {
    "scrolled": true
   },
   "outputs": [
    {
     "name": "stderr",
     "output_type": "stream",
     "text": [
      "/Users/bvreede/anaconda3/envs/ewatercycle/lib/python3.9/site-packages/esmvalcore/experimental/_warnings.py:18: UserWarning: \n",
      "  Thank you for trying out the new ESMValCore API.\n",
      "  Note that this API is experimental and may be subject to change.\n",
      "  More info: https://github.com/ESMValGroup/ESMValCore/issues/498\n",
      "/Users/bvreede/anaconda3/envs/ewatercycle/lib/python3.9/site-packages/esmvalcore/experimental/config/_config_validators.py:254: ESMValToolDeprecationWarning: `write_plots` will be removed in 2.4.0.\n",
      "/Users/bvreede/anaconda3/envs/ewatercycle/lib/python3.9/site-packages/esmvalcore/experimental/config/_config_validators.py:255: ESMValToolDeprecationWarning: `write_netcdf` will be removed in 2.4.0.\n"
     ]
    },
    {
     "ename": "TypeError",
     "evalue": "generate() got an unexpected keyword argument 'directory'",
     "output_type": "error",
     "traceback": [
      "\u001b[0;31m---------------------------------------------------------------------------\u001b[0m",
      "\u001b[0;31mTypeError\u001b[0m                                 Traceback (most recent call last)",
      "\u001b[0;32m<ipython-input-2-cadfffbdf212>\u001b[0m in \u001b[0;36m<module>\u001b[0;34m\u001b[0m\n\u001b[1;32m      1\u001b[0m \u001b[0;32mimport\u001b[0m \u001b[0mewatercycle\u001b[0m\u001b[0;34m.\u001b[0m\u001b[0mforcing\u001b[0m\u001b[0;34m\u001b[0m\u001b[0;34m\u001b[0m\u001b[0m\n\u001b[1;32m      2\u001b[0m \u001b[0;34m\u001b[0m\u001b[0m\n\u001b[0;32m----> 3\u001b[0;31m forcing = ewatercycle.forcing.generate(\n\u001b[0m\u001b[1;32m      4\u001b[0m     \u001b[0mtarget_model\u001b[0m\u001b[0;34m=\u001b[0m\u001b[0;34m'wflow'\u001b[0m\u001b[0;34m,\u001b[0m\u001b[0;34m\u001b[0m\u001b[0;34m\u001b[0m\u001b[0m\n\u001b[1;32m      5\u001b[0m     \u001b[0mdataset\u001b[0m\u001b[0;34m=\u001b[0m\u001b[0;34m'ERA-Interim'\u001b[0m\u001b[0;34m,\u001b[0m \u001b[0;31m# example of a more advanced case: forcing.findCMIPData(mip=6, exp=historical)\u001b[0m\u001b[0;34m\u001b[0m\u001b[0;34m\u001b[0m\u001b[0m\n",
      "\u001b[0;31mTypeError\u001b[0m: generate() got an unexpected keyword argument 'directory'"
     ]
    }
   ],
   "source": [
    "import ewatercycle.forcing\n",
    "\n",
    "forcing = ewatercycle.forcing.generate(\n",
    "    target_model='wflow', \n",
    "    dataset='ERA-Interim', # example of a more advanced case: forcing.findCMIPData(mip=6, exp=historical)\n",
    "    start_time=\"2021-05-07T13:32:00Z\",\n",
    "    end_time=\"2021-12-31T23:59:59Z\",\n",
    "    shape = '/path/to/shapefile.shp',\n",
    "    model_specific_options = {\n",
    "        'wflow_dem_file' : '/some/path/to/dem.dem',\n",
    "        'hype_catchment_delineation' : '/some/other/shapefile'\n",
    "    },\n",
    "    #location on the file system where the output will but placed. Optional, otherwise generated.\n",
    "    directory='/path/to/forcing/output/',\n",
    ")\n",
    "\n",
    "# Calling this function should show a progress bar, or at least auto-hide or auto-scroll the output."
   ]
  },
  {
   "cell_type": "code",
   "execution_count": null,
   "id": "d88cc738",
   "metadata": {
    "scrolled": true
   },
   "outputs": [],
   "source": [
    "forcing.directory\n",
    "# path to forcing output (content of the work dir of the esmvaltool output)\n",
    "\n",
    "forcing.start_time\n",
    "# datetime() object\n",
    "\n",
    "forcing.end_time\n",
    "# datetime() object\n",
    "\n",
    "forcing.dataset\n",
    "# 'ERA-Interim', eventually dataset object\n",
    "\n",
    "forcing.target_model\n",
    "# 'wflow'\n",
    "\n",
    "forcing.shape\n",
    "# Shape()\n",
    "\n",
    "#optional\n",
    "forcing.plot()\n",
    "# some matplotlib output that shows the forcing\n",
    "\n",
    "#optional\n",
    "forcing.interactive_plot()\n",
    "#some geoviews/widget/thingy that shows the forcing\n",
    "\n",
    "#optional\n",
    "forcing.log\n",
    "# show some info on how this was generated (the esmvaltool log?)\n",
    "\n",
    "#optional\n",
    "forcing.recipe\n",
    "# the esmvaltool recipe, to inspect what was done in the end."
   ]
  },
  {
   "cell_type": "markdown",
   "id": "6bd6099b",
   "metadata": {},
   "source": [
    "### Example Yaml file with forcing metadata\n",
    "\n",
    "```yaml\n",
    "target_model: wflow \n",
    "start_time: 2021-05-07T13:32:00Z\n",
    "end_time: 2021-12-31T23:59:59Z\n",
    "\n",
    "#relative to (and inside) directory of this yaml file\n",
    "shape: shapefile.shp\n",
    "model_specific_forcing_info:\n",
    "  # relative to this directory\n",
    "  forcing_filename: some-filename.nc\n",
    "  temperature-variable-name: TEMP\n",
    "```"
   ]
  },
  {
   "cell_type": "markdown",
   "id": "da5e3d20",
   "metadata": {},
   "source": [
    "## Loading existing forcing\n",
    "\n",
    "Existing forcing can also be loaded using a function much like the forcing generation function"
   ]
  },
  {
   "cell_type": "code",
   "execution_count": null,
   "id": "cc98ce8a",
   "metadata": {},
   "outputs": [],
   "source": [
    "import ewatercycle.forcing\n",
    "\n",
    "#load an existing forcing that was generated manually by some scientist from Deltares\n",
    "forcing = ewatercycle.forcing.load_external(\n",
    "    #location on the file system where the output can be found\n",
    "    directory='/path/to/forcing/output/',\n",
    "    target_model='wflow', \n",
    "    start_time='2021-05-07T13:32:00Z'\n",
    "    model_specific_forcing_info = {\n",
    "        'forcing_filename' : 'some-filename.nc', # relative to forcing directory\n",
    "        'temperature-variable-name': 'TEMP'\n",
    "    },\n",
    ")\n",
    "\n",
    "#fetch an existing forcing that was generated with generate\n",
    "forcing = ewatercycle.forcing.load(\n",
    "    #location on the file system where the output can be found (no other options here)\n",
    "    directory='/path/to/forcing/output/'\n",
    ")"
   ]
  },
  {
   "cell_type": "markdown",
   "id": "e652e0d1",
   "metadata": {},
   "source": [
    "## Model versions\n",
    "\n",
    "eWaterCycle supports a number of models, and new once can be adding using a straightforward process. These are represented using a Python Class (e.g. ewatercycle.models.Wflow). Several version of a model may be available. To help with reproducibility the version of a model must always be specified when creating a model instance. A class function is available to retrieve a list of model versions.\n"
   ]
  },
  {
   "cell_type": "code",
   "execution_count": null,
   "id": "a315bbb8",
   "metadata": {},
   "outputs": [],
   "source": [
    "import ewatercycle.models.Wflow\n",
    "\n",
    "ewatercycle.models.Wflow.available_versions\n",
    "# [\"2019.1\", \"2020.1\"]"
   ]
  },
  {
   "cell_type": "markdown",
   "id": "c33d8591",
   "metadata": {},
   "source": [
    "## Parameter Sets\n",
    "\n",
    "eWaterCycle allows model parameters to be set once a model instance has been created. However, as some models require a large number of files and other settings, it is also possible to pass a `ParameterSet` apon creation of a model instance. Which ParameterSets are available for a certain model can be requested from the model class.\n",
    "\n",
    "In general the id determines the location in the collection of parameter sets available."
   ]
  },
  {
   "cell_type": "code",
   "execution_count": null,
   "id": "441b74ba",
   "metadata": {},
   "outputs": [],
   "source": [
    "import ewatercycle.parameter_sets\n",
    "\n",
    "ewatercycle.parameter_sets.available_parameter_sets(target_model='wflow')\n",
    "# [\"wflow-30-min-global\", \"wflow-05-min-rhinemeuse\"]\n",
    "\n",
    "parameter_set = ewatercycle.parameter_sets.get_parameter_set('wflow-30-min-global')\n",
    "\n",
    "parameter_set.target_model\n",
    "# 'wflow'\n",
    "\n",
    "parameter_set.doi\n",
    "# 'https://doi.org/10.1000/182'\n",
    "\n",
    "parameter_set.id\n",
    "# 'wflow-30-min-global'\n",
    "\n",
    "parameter_set.supported_model_versions\n",
    "# [\"2019.1\", \"2020.1\"]\n",
    "\n",
    "parameter_set.directory\n",
    "# '/mnt/data/ewatercycle/parameter_sets/wflow/30-min-global'"
   ]
  },
  {
   "cell_type": "markdown",
   "id": "40a85c0f",
   "metadata": {},
   "source": [
    "## Creating, setting up, and initializing a model instance\n",
    "\n",
    "Now that we have created a forcing and selected a version of the model and a parameter set, we can create a model instance. When creating an instance we will have to select the version of the model to use, a parameter set, and a forcing. This will all be combined into an instance object. This can then be inspected for available parameters and default values, setup to create the configuration file, work_dir containing input files, and container, and initialized to prepare a model for running.\n",
    "\n",
    "The way models are created, setup, and initialized matches PyMT as much as possible. There is currently no 'run' method as this convenance method makes it harder for users to create a more advanced usecase from a simple example."
   ]
  },
  {
   "cell_type": "code",
   "execution_count": null,
   "id": "93d86c4b",
   "metadata": {},
   "outputs": [],
   "source": [
    "import ewatercycle.models\n",
    "\n",
    "#A parameter set and forcing object must be loaded or found before instanciating a model.\n",
    "\n",
    "#Creates as model instance from a model version, parameter_set, and forcing\n",
    "#version = mandatory\n",
    "#parameter set = optional (e.g. MARRMOT does not need one)\n",
    "#forcing = mandatory for now. At some point we may want to support feeding forcing to a model\n",
    "#while running it using set_variable('temperature') and such.\n",
    "model_instance = ewatercycle.models.Wflow(version='2019.1', parameter_set=parameter_set, forcing=forcing)\n",
    "\n",
    "#using the parameters property all parameter defaults can be obtained.\n",
    "#this is possibly a subset of everything that can be configured in the config file of model, and up to the\n",
    "#creator of the model class to implement. For non-science settings such as logging settings, or file names\n",
    "# for all parameter files it does not always make sense to expose these.\n",
    "model_instance.parameters\n",
    "#soil_depth: 9 (defaults to value in parameter set e.g. in a config template)\n",
    "#start_time=\"2021-05-07T13:32:00Z\" (defaults to start of forcing)\n",
    "#end_time=\"2021-05-07T13:32:00Z\" (defaults to end of forcing)\n",
    "#not all parameter files can be set, but for some it may make sense.\n",
    "#land_mask='some/land/mask/in/the/parameter_set.dem'\n",
    "\n",
    "#the Setup function does the following:\n",
    "#- Create a directory which serves as the current working directory for the mode instance\n",
    "#- Creates a configuration file in this working directory based on the settings\n",
    "#- Creates a container instance for the exact version of the model requesed\n",
    "#- Makes the forcing, parameter set and and working directory available to the container using mounts.\n",
    "#- If a model cannot cope with forcing and parameter set outside the working directory it is copied\n",
    "#  to the working_directory instead.\n",
    "#- Input is mounted read-only, the working directory is mounted read-write.\n",
    "#- Setup will complain about incompatible model version, parameter_set, and forcing.\n",
    "cfg_file, work_dir = model_instance.setup(\n",
    "    land_mask='/some/land/mask.dem', # if outside of mounts, add a mount, or copy into working dir, or :'(\n",
    "    soil_depth=9,\n",
    "    start_time=\"2021-05-07T13:32:00Z\",\n",
    "    end_time=\"2021-05-07T13:32:00Z\"\n",
    ")\n",
    "\n",
    "#After setup but before initialize everything is good-to-go, but nothing has been done yet. This is\n",
    "#An opportunity to inspect the generated configuration file, and make any changes manually that could not be\n",
    "#done through the setup method. Splitting these also makes it easier to run initialize in parallel in case a\n",
    "#lot of models are created simultaneously (e.g. when calibrating a model)\n",
    "config = configparser.ConfigParser()\n",
    "config.read(cfg_file)\n",
    "#change config file where needed...\n",
    "\n",
    "#This function will initialize the model using the files created above. For some models this can take some time.\n",
    "model_instance.initialize(cfg_file)"
   ]
  },
  {
   "cell_type": "markdown",
   "id": "6a33bcf0",
   "metadata": {},
   "source": [
    "## Running a model and getting output\n",
    "\n",
    "Once initalized a model_instanced can be used by calling functions for running a single timestep (`update`), setting variables, and getting variables. Besides the rather lowlevel BMI functions several convenience functions are also available. These returns objects that make sense for the type of values returned, such as pandas DataFram and xarray DataArray or Dataset."
   ]
  },
  {
   "cell_type": "code",
   "execution_count": null,
   "id": "de333e2d",
   "metadata": {},
   "outputs": [],
   "source": [
    "#example storing all output of a certain field.\n",
    "output = []\n",
    "while model_instance.time < model_instance.end_time:\n",
    "    \n",
    "    # Update the model (takes a few seconds per timestep)\n",
    "    model_instance.update() \n",
    "    \n",
    "    #store entire discharge field\n",
    "    discharge = model.get_value_as_xarray('Discharge')\n",
    "    output.append(discharge)\n",
    "        \n",
    "    # Show progress\n",
    "    print(reference.time, end=\"\\r\")  # \"\\r\" clears the output before printing the next timestamp\n",
    "    \n",
    "result = xarray.merge(output)\n",
    "\n",
    "result\n",
    "#xarray with full output of discharge field"
   ]
  },
  {
   "cell_type": "code",
   "execution_count": null,
   "id": "3a6f5eb3",
   "metadata": {},
   "outputs": [],
   "source": [
    "#example storing a timeseries for a single location of a certain field\n",
    "\n",
    "#some location of interest within the model\n",
    "output_latitude = 55.4\n",
    "output_longitude = 20.0\n",
    "\n",
    "simulated_discharge = pd.DataFrame(index='time', columns=['discharge'])\n",
    "while model_instance.time < model_instance.end_time:\n",
    "    \n",
    "    # Update the model (takes a few seconds per timestep)\n",
    "    model_instance.update() \n",
    "    \n",
    "    # Track discharge at station location\n",
    "    discharge = model_instance.get_value_at_location('Discharge', latitude=output_latitude, longitude=output_longitude, method='nearest')\n",
    "    simulated_discharge.append({\"time\":reference.time, \"discharge\": discharge})\n",
    "    \n",
    "    # Show progress\n",
    "    print(model_instance.time, end=\"\\r\")  # \"\\r\" clears the output before printing the next timestamp\n",
    "    \n",
    "model_output\n",
    "#nice table of all dischage values over time for a single location"
   ]
  },
  {
   "cell_type": "markdown",
   "id": "1a690719",
   "metadata": {},
   "source": [
    "## Analyzing the results\n",
    "\n",
    "Once a model has run we can analyse the result. For this example we will assume a DataFrame was created with values over time for a certain location for which GRDC station data is available"
   ]
  },
  {
   "cell_type": "code",
   "execution_count": null,
   "id": "01139773",
   "metadata": {},
   "outputs": [],
   "source": [
    "#Read GRDC data\n",
    "\n",
    "import ewatercycle.observation.grdc\n",
    "\n",
    "grdc_station_id = 4147380\n",
    "\n",
    "#This function automatically fetches the location of the GRDC data from the configuration file\n",
    "#Start and end dates are fetched from the model instance\n",
    "observations = ewatercycle.observation.grdc.get_grdc_data(\n",
    "    station_id=grdc_station_id,\n",
    "    start_date=model_instance.start_time.date(),\n",
    "    end_date=model_instance.end_time.date(),\n",
    ")\n",
    "observations\n",
    "#xarray containing grdc data"
   ]
  },
  {
   "cell_type": "code",
   "execution_count": null,
   "id": "00e9db71",
   "metadata": {},
   "outputs": [],
   "source": [
    "#Combine simulated and observated discharge into a single dataframe\n",
    "\n",
    "import pandas\n",
    " \n",
    "simulated_discharge_df = pandas.DataFrame(\n",
    "    {'simulation': model_output}, index=timestamps\n",
    ")\n",
    "observations_df = observations.streamflow.to_dataframe().rename(\n",
    "    columns={'streamflow': 'observation'}\n",
    ")\n",
    "discharge = simulated_discharge_df.join(observations_df)\n",
    "discharge\n",
    "\n",
    "#table with simulated and observed discharge"
   ]
  },
  {
   "cell_type": "code",
   "execution_count": null,
   "id": "23148254",
   "metadata": {},
   "outputs": [],
   "source": [
    "#Plot hydrograph\n",
    "\n",
    "import ewatercycle.analysis\n",
    "\n",
    "#todo: also add forcing to this hydrograph in some smart way\n",
    "ewatercycle.analysis.hydrograph(\n",
    "    discharge=discharge,\n",
    "    reference='observation',\n",
    ")\n",
    "\n",
    "#nice hydrograph"
   ]
  },
  {
   "cell_type": "code",
   "execution_count": null,
   "id": "bfe14a2d",
   "metadata": {},
   "outputs": [],
   "source": [
    "#finalize the model.\n",
    "#as a side effect also destroys the container\n",
    "model_instance.finalize()"
   ]
  }
 ],
 "metadata": {
  "kernelspec": {
   "display_name": "Python 3",
   "language": "python",
   "name": "python3"
  },
  "language_info": {
   "codemirror_mode": {
    "name": "ipython",
    "version": 3
   },
   "file_extension": ".py",
   "mimetype": "text/x-python",
   "name": "python",
   "nbconvert_exporter": "python",
   "pygments_lexer": "ipython3",
   "version": "3.9.4"
  }
 },
 "nbformat": 4,
 "nbformat_minor": 5
}
