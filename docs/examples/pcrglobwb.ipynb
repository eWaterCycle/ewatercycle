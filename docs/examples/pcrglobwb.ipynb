{
 "cells": [
  {
   "cell_type": "markdown",
   "id": "d919f173",
   "metadata": {},
   "source": [
    "# Running PCRGlobWB using the eWaterCycle system"
   ]
  },
  {
   "cell_type": "markdown",
   "id": "d7c30256",
   "metadata": {
    "tags": []
   },
   "source": [
    "**This notebook assumes that the ewatercycle has already been set up for your system.**\n",
    "See system setup documentation for instructions.\n",
    "\n",
    "This notebook runs the PCRGlobWB example parameterset comes from https://github.com/UU-Hydro/PCR-GLOBWB_input_example. \n",
    "This means that you have access to the PCRGlobWB singularity image, the example parameterset including forcing data has been downloaded and added to a configuration file.\n"
   ]
  },
  {
   "cell_type": "code",
   "execution_count": 1,
   "id": "07974f00",
   "metadata": {},
   "outputs": [
    {
     "name": "stderr",
     "output_type": "stream",
     "text": [
      "/home/peter/miniconda3/envs/ewatercycle/lib/python3.9/site-packages/esmvalcore/experimental/_warnings.py:18: UserWarning: \n",
      "  Thank you for trying out the new ESMValCore API.\n",
      "  Note that this API is experimental and may be subject to change.\n",
      "  More info: https://github.com/ESMValGroup/ESMValCore/issues/498\n",
      "/home/peter/miniconda3/envs/ewatercycle/lib/python3.9/site-packages/esmvalcore/experimental/config/_config_validators.py:254: ESMValToolDeprecationWarning: `write_plots` will be removed in 2.4.0.\n",
      "/home/peter/miniconda3/envs/ewatercycle/lib/python3.9/site-packages/esmvalcore/experimental/config/_config_validators.py:255: ESMValToolDeprecationWarning: `write_netcdf` will be removed in 2.4.0.\n"
     ]
    }
   ],
   "source": [
    "import ewatercycle\n",
    "import ewatercycle.models\n",
    "import ewatercycle.forcing\n",
    "import ewatercycle.parameter_sets\n",
    "ewatercycle.CFG.load_from_file('ewatercycle.yaml')"
   ]
  },
  {
   "cell_type": "code",
   "execution_count": 2,
   "id": "8899309e",
   "metadata": {},
   "outputs": [
    {
     "name": "stdout",
     "output_type": "stream",
     "text": [
      "Parameter set\n",
      "-------------\n",
      "name=pcrglobwb_example_case\n",
      "directory=/home/peter/ewatercycle/ewatercycle/docs/examples/parameter-sets/pcrglobwb_example_case\n",
      "config=/home/peter/ewatercycle/ewatercycle/docs/examples/parameter-sets/pcrglobwb_example_case/setup_natural_test.ini\n",
      "doi=N/A\n",
      "target_model=pcrglobwb\n",
      "supported_model_versions={'setters'}\n"
     ]
    }
   ],
   "source": [
    "parameter_set = ewatercycle.parameter_sets.get_parameter_set('pcrglobwb_example_case')\n",
    "print(parameter_set)"
   ]
  },
  {
   "cell_type": "code",
   "execution_count": 3,
   "id": "ad66f614",
   "metadata": {},
   "outputs": [
    {
     "name": "stdout",
     "output_type": "stream",
     "text": [
      "Forcing data for PCRGlobWB\n",
      "--------------------------\n",
      "Directory: /home/peter/ewatercycle/ewatercycle/docs/examples/parameter-sets/pcrglobwb_example_case/forcing\n",
      "Start time: 2001-01-01T00:00:00Z\n",
      "End time: 2010-12-31T00:00:00Z\n",
      "Shapefile: None\n",
      "Additional information for model config:\n",
      "  - temperatureNC: temperature_2001to2010.nc\n",
      "  - precipitationNC: precipitation_2001to2010.nc\n"
     ]
    }
   ],
   "source": [
    "# This example case would work without forcing, because the forcing is already part of the parameterset.\n",
    "# However, for the purpose of example, we show how the forcing would be loaded using the ewatercycle.forcing module. \n",
    "forcing = ewatercycle.forcing.load_foreign(\n",
    "    target_model = \"pcrglobwb\",\n",
    "    start_time = \"2001-01-01T00:00:00Z\",\n",
    "    end_time = \"2010-12-31T00:00:00Z\",\n",
    "    directory = \"./parameter-sets/pcrglobwb_example_case/forcing\",\n",
    "    shape = None,\n",
    "    forcing_info = dict(\n",
    "        precipitationNC = \"precipitation_2001to2010.nc\",\n",
    "        temperatureNC = \"temperature_2001to2010.nc\"\n",
    "))\n",
    "print(forcing)"
   ]
  },
  {
   "cell_type": "code",
   "execution_count": 4,
   "id": "6a8aa46c",
   "metadata": {},
   "outputs": [],
   "source": [
    "pcrglob = ewatercycle.models.PCRGlobWB(version=\"setters\", parameter_set=parameter_set, forcing=forcing)"
   ]
  },
  {
   "cell_type": "code",
   "execution_count": 5,
   "id": "d42ec6b5",
   "metadata": {},
   "outputs": [
    {
     "data": {
      "text/plain": [
       "[('start_time', '2001-01-01T00:00:00Z'),\n",
       " ('end_time', '2001-01-01T00:00:00Z'),\n",
       " ('routing_method', 'accuTravelTime'),\n",
       " ('max_spinups_in_years', '20')]"
      ]
     },
     "execution_count": 5,
     "metadata": {},
     "output_type": "execute_result"
    }
   ],
   "source": [
    "pcrglob.parameters"
   ]
  },
  {
   "cell_type": "code",
   "execution_count": 6,
   "id": "e9320b20",
   "metadata": {},
   "outputs": [
    {
     "data": {
      "text/plain": [
       "('/home/peter/ewatercycle/ewatercycle/docs/examples/pcrglobwb_20210709_085057/pcrglobwb_ewatercycle.ini',\n",
       " '/home/peter/ewatercycle/ewatercycle/docs/examples/pcrglobwb_20210709_085057')"
      ]
     },
     "execution_count": 6,
     "metadata": {},
     "output_type": "execute_result"
    }
   ],
   "source": [
    "# We can modify all settings above during the setup. Here's how to use a different forcing file\n",
    "cfg_file, cfg_dir = pcrglob.setup(end_time='2001-02-28T00:00:00Z', max_spinups_in_years=5)\n",
    "cfg_file, cfg_dir"
   ]
  },
  {
   "cell_type": "code",
   "execution_count": 7,
   "id": "2095204e",
   "metadata": {},
   "outputs": [
    {
     "data": {
      "text/plain": [
       "[('start_time', '2001-01-01T00:00:00Z'),\n",
       " ('end_time', '2001-02-28T00:00:00Z'),\n",
       " ('routing_method', 'accuTravelTime'),\n",
       " ('max_spinups_in_years', '5')]"
      ]
     },
     "execution_count": 7,
     "metadata": {},
     "output_type": "execute_result"
    }
   ],
   "source": [
    "pcrglob.parameters"
   ]
  },
  {
   "cell_type": "code",
   "execution_count": 8,
   "id": "4a3cc580",
   "metadata": {},
   "outputs": [],
   "source": [
    "pcrglob.initialize(str(cfg_file))"
   ]
  },
  {
   "cell_type": "code",
   "execution_count": 9,
   "id": "2597fe43",
   "metadata": {},
   "outputs": [
    {
     "data": {
      "text/plain": [
       "('groundwater_recharge',\n",
       " 'lake_and_reservoir_storage',\n",
       " 'domesticWaterConsumptionVolume')"
      ]
     },
     "execution_count": 9,
     "metadata": {},
     "output_type": "execute_result"
    }
   ],
   "source": [
    "pcrglob.output_var_names[:3]"
   ]
  },
  {
   "cell_type": "code",
   "execution_count": 10,
   "id": "3d0483b0",
   "metadata": {},
   "outputs": [
    {
     "data": {
      "text/plain": [
       "array([nan, nan, nan, nan, nan, nan, nan, nan, nan, nan, nan, nan, nan,\n",
       "       nan, nan, nan, nan, nan, nan, nan, nan, nan, nan,  0.,  0.,  0.,\n",
       "        0.,  0.,  0.,  0., nan, nan, nan, nan, nan, nan, nan, nan, nan,\n",
       "       nan, nan,  0.,  0.,  0.,  0.,  0.,  0., nan, nan, nan, nan, nan,\n",
       "       nan, nan, nan, nan, nan, nan,  0.,  0.,  0.,  0.,  0.,  0., nan,\n",
       "       nan, nan, nan, nan, nan, nan, nan,  0.,  0.,  0.,  0.,  0.,  0.,\n",
       "        0., nan, nan, nan, nan, nan, nan, nan, nan, nan, nan,  0.,  0.,\n",
       "        0.,  0.,  0.,  0.,  0.,  0.,  0., nan, nan, nan, nan, nan, nan,\n",
       "       nan,  0.,  0.,  0.,  0.,  0.,  0.,  0.,  0.,  0.,  0., nan,  0.,\n",
       "       nan, nan, nan, nan,  0.,  0.,  0.,  0.,  0.,  0.,  0.,  0.,  0.,\n",
       "        0.,  0.,  0.,  0.,  0.,  0., nan,  0.,  0.,  0.,  0.,  0.,  0.,\n",
       "        0.,  0.,  0.,  0.,  0.,  0.,  0.,  0.,  0., nan, nan, nan, nan,\n",
       "        0.,  0.,  0.,  0.,  0.,  0.,  0.,  0., nan, nan, nan, nan, nan,\n",
       "       nan, nan, nan, nan, nan,  0.,  0.,  0.,  0.,  0.,  0., nan, nan,\n",
       "       nan, nan, nan, nan, nan,  0.,  0.,  0.,  0.,  0.,  0.,  0.,  0.,\n",
       "        0., nan, nan, nan, nan, nan, nan, nan, nan, nan,  0.,  0.,  0.,\n",
       "        0., nan, nan, nan, nan, nan, nan, nan, nan, nan, nan, nan, nan])"
      ]
     },
     "execution_count": 10,
     "metadata": {},
     "output_type": "execute_result"
    }
   ],
   "source": [
    "pcrglob.get_value(\"discharge\")"
   ]
  },
  {
   "cell_type": "code",
   "execution_count": 11,
   "id": "2d1f7386",
   "metadata": {},
   "outputs": [
    {
     "data": {
      "text/html": [
       "<div><svg style=\"position: absolute; width: 0; height: 0; overflow: hidden\">\n",
       "<defs>\n",
       "<symbol id=\"icon-database\" viewBox=\"0 0 32 32\">\n",
       "<path d=\"M16 0c-8.837 0-16 2.239-16 5v4c0 2.761 7.163 5 16 5s16-2.239 16-5v-4c0-2.761-7.163-5-16-5z\"></path>\n",
       "<path d=\"M16 17c-8.837 0-16-2.239-16-5v6c0 2.761 7.163 5 16 5s16-2.239 16-5v-6c0 2.761-7.163 5-16 5z\"></path>\n",
       "<path d=\"M16 26c-8.837 0-16-2.239-16-5v6c0 2.761 7.163 5 16 5s16-2.239 16-5v-6c0 2.761-7.163 5-16 5z\"></path>\n",
       "</symbol>\n",
       "<symbol id=\"icon-file-text2\" viewBox=\"0 0 32 32\">\n",
       "<path d=\"M28.681 7.159c-0.694-0.947-1.662-2.053-2.724-3.116s-2.169-2.030-3.116-2.724c-1.612-1.182-2.393-1.319-2.841-1.319h-15.5c-1.378 0-2.5 1.121-2.5 2.5v27c0 1.378 1.122 2.5 2.5 2.5h23c1.378 0 2.5-1.122 2.5-2.5v-19.5c0-0.448-0.137-1.23-1.319-2.841zM24.543 5.457c0.959 0.959 1.712 1.825 2.268 2.543h-4.811v-4.811c0.718 0.556 1.584 1.309 2.543 2.268zM28 29.5c0 0.271-0.229 0.5-0.5 0.5h-23c-0.271 0-0.5-0.229-0.5-0.5v-27c0-0.271 0.229-0.5 0.5-0.5 0 0 15.499-0 15.5 0v7c0 0.552 0.448 1 1 1h7v19.5z\"></path>\n",
       "<path d=\"M23 26h-14c-0.552 0-1-0.448-1-1s0.448-1 1-1h14c0.552 0 1 0.448 1 1s-0.448 1-1 1z\"></path>\n",
       "<path d=\"M23 22h-14c-0.552 0-1-0.448-1-1s0.448-1 1-1h14c0.552 0 1 0.448 1 1s-0.448 1-1 1z\"></path>\n",
       "<path d=\"M23 18h-14c-0.552 0-1-0.448-1-1s0.448-1 1-1h14c0.552 0 1 0.448 1 1s-0.448 1-1 1z\"></path>\n",
       "</symbol>\n",
       "</defs>\n",
       "</svg>\n",
       "<style>/* CSS stylesheet for displaying xarray objects in jupyterlab.\n",
       " *\n",
       " */\n",
       "\n",
       ":root {\n",
       "  --xr-font-color0: var(--jp-content-font-color0, rgba(0, 0, 0, 1));\n",
       "  --xr-font-color2: var(--jp-content-font-color2, rgba(0, 0, 0, 0.54));\n",
       "  --xr-font-color3: var(--jp-content-font-color3, rgba(0, 0, 0, 0.38));\n",
       "  --xr-border-color: var(--jp-border-color2, #e0e0e0);\n",
       "  --xr-disabled-color: var(--jp-layout-color3, #bdbdbd);\n",
       "  --xr-background-color: var(--jp-layout-color0, white);\n",
       "  --xr-background-color-row-even: var(--jp-layout-color1, white);\n",
       "  --xr-background-color-row-odd: var(--jp-layout-color2, #eeeeee);\n",
       "}\n",
       "\n",
       "html[theme=dark],\n",
       "body.vscode-dark {\n",
       "  --xr-font-color0: rgba(255, 255, 255, 1);\n",
       "  --xr-font-color2: rgba(255, 255, 255, 0.54);\n",
       "  --xr-font-color3: rgba(255, 255, 255, 0.38);\n",
       "  --xr-border-color: #1F1F1F;\n",
       "  --xr-disabled-color: #515151;\n",
       "  --xr-background-color: #111111;\n",
       "  --xr-background-color-row-even: #111111;\n",
       "  --xr-background-color-row-odd: #313131;\n",
       "}\n",
       "\n",
       ".xr-wrap {\n",
       "  display: block;\n",
       "  min-width: 300px;\n",
       "  max-width: 700px;\n",
       "}\n",
       "\n",
       ".xr-text-repr-fallback {\n",
       "  /* fallback to plain text repr when CSS is not injected (untrusted notebook) */\n",
       "  display: none;\n",
       "}\n",
       "\n",
       ".xr-header {\n",
       "  padding-top: 6px;\n",
       "  padding-bottom: 6px;\n",
       "  margin-bottom: 4px;\n",
       "  border-bottom: solid 1px var(--xr-border-color);\n",
       "}\n",
       "\n",
       ".xr-header > div,\n",
       ".xr-header > ul {\n",
       "  display: inline;\n",
       "  margin-top: 0;\n",
       "  margin-bottom: 0;\n",
       "}\n",
       "\n",
       ".xr-obj-type,\n",
       ".xr-array-name {\n",
       "  margin-left: 2px;\n",
       "  margin-right: 10px;\n",
       "}\n",
       "\n",
       ".xr-obj-type {\n",
       "  color: var(--xr-font-color2);\n",
       "}\n",
       "\n",
       ".xr-sections {\n",
       "  padding-left: 0 !important;\n",
       "  display: grid;\n",
       "  grid-template-columns: 150px auto auto 1fr 20px 20px;\n",
       "}\n",
       "\n",
       ".xr-section-item {\n",
       "  display: contents;\n",
       "}\n",
       "\n",
       ".xr-section-item input {\n",
       "  display: none;\n",
       "}\n",
       "\n",
       ".xr-section-item input + label {\n",
       "  color: var(--xr-disabled-color);\n",
       "}\n",
       "\n",
       ".xr-section-item input:enabled + label {\n",
       "  cursor: pointer;\n",
       "  color: var(--xr-font-color2);\n",
       "}\n",
       "\n",
       ".xr-section-item input:enabled + label:hover {\n",
       "  color: var(--xr-font-color0);\n",
       "}\n",
       "\n",
       ".xr-section-summary {\n",
       "  grid-column: 1;\n",
       "  color: var(--xr-font-color2);\n",
       "  font-weight: 500;\n",
       "}\n",
       "\n",
       ".xr-section-summary > span {\n",
       "  display: inline-block;\n",
       "  padding-left: 0.5em;\n",
       "}\n",
       "\n",
       ".xr-section-summary-in:disabled + label {\n",
       "  color: var(--xr-font-color2);\n",
       "}\n",
       "\n",
       ".xr-section-summary-in + label:before {\n",
       "  display: inline-block;\n",
       "  content: '►';\n",
       "  font-size: 11px;\n",
       "  width: 15px;\n",
       "  text-align: center;\n",
       "}\n",
       "\n",
       ".xr-section-summary-in:disabled + label:before {\n",
       "  color: var(--xr-disabled-color);\n",
       "}\n",
       "\n",
       ".xr-section-summary-in:checked + label:before {\n",
       "  content: '▼';\n",
       "}\n",
       "\n",
       ".xr-section-summary-in:checked + label > span {\n",
       "  display: none;\n",
       "}\n",
       "\n",
       ".xr-section-summary,\n",
       ".xr-section-inline-details {\n",
       "  padding-top: 4px;\n",
       "  padding-bottom: 4px;\n",
       "}\n",
       "\n",
       ".xr-section-inline-details {\n",
       "  grid-column: 2 / -1;\n",
       "}\n",
       "\n",
       ".xr-section-details {\n",
       "  display: none;\n",
       "  grid-column: 1 / -1;\n",
       "  margin-bottom: 5px;\n",
       "}\n",
       "\n",
       ".xr-section-summary-in:checked ~ .xr-section-details {\n",
       "  display: contents;\n",
       "}\n",
       "\n",
       ".xr-array-wrap {\n",
       "  grid-column: 1 / -1;\n",
       "  display: grid;\n",
       "  grid-template-columns: 20px auto;\n",
       "}\n",
       "\n",
       ".xr-array-wrap > label {\n",
       "  grid-column: 1;\n",
       "  vertical-align: top;\n",
       "}\n",
       "\n",
       ".xr-preview {\n",
       "  color: var(--xr-font-color3);\n",
       "}\n",
       "\n",
       ".xr-array-preview,\n",
       ".xr-array-data {\n",
       "  padding: 0 5px !important;\n",
       "  grid-column: 2;\n",
       "}\n",
       "\n",
       ".xr-array-data,\n",
       ".xr-array-in:checked ~ .xr-array-preview {\n",
       "  display: none;\n",
       "}\n",
       "\n",
       ".xr-array-in:checked ~ .xr-array-data,\n",
       ".xr-array-preview {\n",
       "  display: inline-block;\n",
       "}\n",
       "\n",
       ".xr-dim-list {\n",
       "  display: inline-block !important;\n",
       "  list-style: none;\n",
       "  padding: 0 !important;\n",
       "  margin: 0;\n",
       "}\n",
       "\n",
       ".xr-dim-list li {\n",
       "  display: inline-block;\n",
       "  padding: 0;\n",
       "  margin: 0;\n",
       "}\n",
       "\n",
       ".xr-dim-list:before {\n",
       "  content: '(';\n",
       "}\n",
       "\n",
       ".xr-dim-list:after {\n",
       "  content: ')';\n",
       "}\n",
       "\n",
       ".xr-dim-list li:not(:last-child):after {\n",
       "  content: ',';\n",
       "  padding-right: 5px;\n",
       "}\n",
       "\n",
       ".xr-has-index {\n",
       "  font-weight: bold;\n",
       "}\n",
       "\n",
       ".xr-var-list,\n",
       ".xr-var-item {\n",
       "  display: contents;\n",
       "}\n",
       "\n",
       ".xr-var-item > div,\n",
       ".xr-var-item label,\n",
       ".xr-var-item > .xr-var-name span {\n",
       "  background-color: var(--xr-background-color-row-even);\n",
       "  margin-bottom: 0;\n",
       "}\n",
       "\n",
       ".xr-var-item > .xr-var-name:hover span {\n",
       "  padding-right: 5px;\n",
       "}\n",
       "\n",
       ".xr-var-list > li:nth-child(odd) > div,\n",
       ".xr-var-list > li:nth-child(odd) > label,\n",
       ".xr-var-list > li:nth-child(odd) > .xr-var-name span {\n",
       "  background-color: var(--xr-background-color-row-odd);\n",
       "}\n",
       "\n",
       ".xr-var-name {\n",
       "  grid-column: 1;\n",
       "}\n",
       "\n",
       ".xr-var-dims {\n",
       "  grid-column: 2;\n",
       "}\n",
       "\n",
       ".xr-var-dtype {\n",
       "  grid-column: 3;\n",
       "  text-align: right;\n",
       "  color: var(--xr-font-color2);\n",
       "}\n",
       "\n",
       ".xr-var-preview {\n",
       "  grid-column: 4;\n",
       "}\n",
       "\n",
       ".xr-var-name,\n",
       ".xr-var-dims,\n",
       ".xr-var-dtype,\n",
       ".xr-preview,\n",
       ".xr-attrs dt {\n",
       "  white-space: nowrap;\n",
       "  overflow: hidden;\n",
       "  text-overflow: ellipsis;\n",
       "  padding-right: 10px;\n",
       "}\n",
       "\n",
       ".xr-var-name:hover,\n",
       ".xr-var-dims:hover,\n",
       ".xr-var-dtype:hover,\n",
       ".xr-attrs dt:hover {\n",
       "  overflow: visible;\n",
       "  width: auto;\n",
       "  z-index: 1;\n",
       "}\n",
       "\n",
       ".xr-var-attrs,\n",
       ".xr-var-data {\n",
       "  display: none;\n",
       "  background-color: var(--xr-background-color) !important;\n",
       "  padding-bottom: 5px !important;\n",
       "}\n",
       "\n",
       ".xr-var-attrs-in:checked ~ .xr-var-attrs,\n",
       ".xr-var-data-in:checked ~ .xr-var-data {\n",
       "  display: block;\n",
       "}\n",
       "\n",
       ".xr-var-data > table {\n",
       "  float: right;\n",
       "}\n",
       "\n",
       ".xr-var-name span,\n",
       ".xr-var-data,\n",
       ".xr-attrs {\n",
       "  padding-left: 25px !important;\n",
       "}\n",
       "\n",
       ".xr-attrs,\n",
       ".xr-var-attrs,\n",
       ".xr-var-data {\n",
       "  grid-column: 1 / -1;\n",
       "}\n",
       "\n",
       "dl.xr-attrs {\n",
       "  padding: 0;\n",
       "  margin: 0;\n",
       "  display: grid;\n",
       "  grid-template-columns: 125px auto;\n",
       "}\n",
       "\n",
       ".xr-attrs dt,\n",
       ".xr-attrs dd {\n",
       "  padding: 0;\n",
       "  margin: 0;\n",
       "  float: left;\n",
       "  padding-right: 10px;\n",
       "  width: auto;\n",
       "}\n",
       "\n",
       ".xr-attrs dt {\n",
       "  font-weight: normal;\n",
       "  grid-column: 1;\n",
       "}\n",
       "\n",
       ".xr-attrs dt:hover span {\n",
       "  display: inline-block;\n",
       "  background: var(--xr-background-color);\n",
       "  padding-right: 10px;\n",
       "}\n",
       "\n",
       ".xr-attrs dd {\n",
       "  grid-column: 2;\n",
       "  white-space: pre-wrap;\n",
       "  word-break: break-all;\n",
       "}\n",
       "\n",
       ".xr-icon-database,\n",
       ".xr-icon-file-text2 {\n",
       "  display: inline-block;\n",
       "  vertical-align: middle;\n",
       "  width: 1em;\n",
       "  height: 1.5em !important;\n",
       "  stroke-width: 0;\n",
       "  stroke: currentColor;\n",
       "  fill: currentColor;\n",
       "}\n",
       "</style><pre class='xr-text-repr-fallback'>&lt;xarray.DataArray &#x27;discharge&#x27; (latitude: 13, longitude: 17)&gt;\n",
       "array([[nan, nan, nan, nan, nan, nan, nan, nan, nan, nan, nan, nan, nan,\n",
       "        nan, nan, nan, nan],\n",
       "       [nan, nan, nan, nan, nan, nan,  0.,  0.,  0.,  0.,  0.,  0.,  0.,\n",
       "        nan, nan, nan, nan],\n",
       "       [nan, nan, nan, nan, nan, nan, nan,  0.,  0.,  0.,  0.,  0.,  0.,\n",
       "        nan, nan, nan, nan],\n",
       "       [nan, nan, nan, nan, nan, nan, nan,  0.,  0.,  0.,  0.,  0.,  0.,\n",
       "        nan, nan, nan, nan],\n",
       "       [nan, nan, nan, nan,  0.,  0.,  0.,  0.,  0.,  0.,  0., nan, nan,\n",
       "        nan, nan, nan, nan],\n",
       "       [nan, nan, nan, nan,  0.,  0.,  0.,  0.,  0.,  0.,  0.,  0.,  0.,\n",
       "        nan, nan, nan, nan],\n",
       "       [nan, nan, nan,  0.,  0.,  0.,  0.,  0.,  0.,  0.,  0.,  0.,  0.,\n",
       "        nan,  0., nan, nan],\n",
       "       [nan, nan,  0.,  0.,  0.,  0.,  0.,  0.,  0.,  0.,  0.,  0.,  0.,\n",
       "         0.,  0.,  0.,  0.],\n",
       "       [nan,  0.,  0.,  0.,  0.,  0.,  0.,  0.,  0.,  0.,  0.,  0.,  0.,\n",
       "         0.,  0.,  0., nan],\n",
       "       [nan, nan, nan,  0.,  0.,  0.,  0.,  0.,  0.,  0.,  0., nan, nan,\n",
       "        nan, nan, nan, nan],\n",
       "       [nan, nan, nan, nan,  0.,  0.,  0.,  0.,  0.,  0., nan, nan, nan,\n",
       "        nan, nan, nan, nan],\n",
       "       [ 0.,  0.,  0.,  0.,  0.,  0.,  0.,  0.,  0., nan, nan, nan, nan,\n",
       "        nan, nan, nan, nan],\n",
       "       [nan,  0.,  0.,  0.,  0., nan, nan, nan, nan, nan, nan, nan, nan,\n",
       "        nan, nan, nan, nan]])\n",
       "Coordinates:\n",
       "  * longitude  (longitude) float64 3.75 4.25 4.75 5.25 ... 10.75 11.25 11.75\n",
       "  * latitude   (latitude) float64 46.25 46.75 47.25 47.75 ... 51.25 51.75 52.25\n",
       "    time       object 2000-12-31 00:00:00\n",
       "Attributes:\n",
       "    units:    m3.s-1</pre><div class='xr-wrap' hidden><div class='xr-header'><div class='xr-obj-type'>xarray.DataArray</div><div class='xr-array-name'>'discharge'</div><ul class='xr-dim-list'><li><span class='xr-has-index'>latitude</span>: 13</li><li><span class='xr-has-index'>longitude</span>: 17</li></ul></div><ul class='xr-sections'><li class='xr-section-item'><div class='xr-array-wrap'><input id='section-87b94167-869e-486b-8864-8d886955eb53' class='xr-array-in' type='checkbox' checked><label for='section-87b94167-869e-486b-8864-8d886955eb53' title='Show/hide data repr'><svg class='icon xr-icon-database'><use xlink:href='#icon-database'></use></svg></label><div class='xr-array-preview xr-preview'><span>nan nan nan nan nan nan nan nan ... nan nan nan nan nan nan nan nan</span></div><div class='xr-array-data'><pre>array([[nan, nan, nan, nan, nan, nan, nan, nan, nan, nan, nan, nan, nan,\n",
       "        nan, nan, nan, nan],\n",
       "       [nan, nan, nan, nan, nan, nan,  0.,  0.,  0.,  0.,  0.,  0.,  0.,\n",
       "        nan, nan, nan, nan],\n",
       "       [nan, nan, nan, nan, nan, nan, nan,  0.,  0.,  0.,  0.,  0.,  0.,\n",
       "        nan, nan, nan, nan],\n",
       "       [nan, nan, nan, nan, nan, nan, nan,  0.,  0.,  0.,  0.,  0.,  0.,\n",
       "        nan, nan, nan, nan],\n",
       "       [nan, nan, nan, nan,  0.,  0.,  0.,  0.,  0.,  0.,  0., nan, nan,\n",
       "        nan, nan, nan, nan],\n",
       "       [nan, nan, nan, nan,  0.,  0.,  0.,  0.,  0.,  0.,  0.,  0.,  0.,\n",
       "        nan, nan, nan, nan],\n",
       "       [nan, nan, nan,  0.,  0.,  0.,  0.,  0.,  0.,  0.,  0.,  0.,  0.,\n",
       "        nan,  0., nan, nan],\n",
       "       [nan, nan,  0.,  0.,  0.,  0.,  0.,  0.,  0.,  0.,  0.,  0.,  0.,\n",
       "         0.,  0.,  0.,  0.],\n",
       "       [nan,  0.,  0.,  0.,  0.,  0.,  0.,  0.,  0.,  0.,  0.,  0.,  0.,\n",
       "         0.,  0.,  0., nan],\n",
       "       [nan, nan, nan,  0.,  0.,  0.,  0.,  0.,  0.,  0.,  0., nan, nan,\n",
       "        nan, nan, nan, nan],\n",
       "       [nan, nan, nan, nan,  0.,  0.,  0.,  0.,  0.,  0., nan, nan, nan,\n",
       "        nan, nan, nan, nan],\n",
       "       [ 0.,  0.,  0.,  0.,  0.,  0.,  0.,  0.,  0., nan, nan, nan, nan,\n",
       "        nan, nan, nan, nan],\n",
       "       [nan,  0.,  0.,  0.,  0., nan, nan, nan, nan, nan, nan, nan, nan,\n",
       "        nan, nan, nan, nan]])</pre></div></div></li><li class='xr-section-item'><input id='section-91d139d7-6946-4072-99a9-ef7be084a39a' class='xr-section-summary-in' type='checkbox'  checked><label for='section-91d139d7-6946-4072-99a9-ef7be084a39a' class='xr-section-summary' >Coordinates: <span>(3)</span></label><div class='xr-section-inline-details'></div><div class='xr-section-details'><ul class='xr-var-list'><li class='xr-var-item'><div class='xr-var-name'><span class='xr-has-index'>longitude</span></div><div class='xr-var-dims'>(longitude)</div><div class='xr-var-dtype'>float64</div><div class='xr-var-preview xr-preview'>3.75 4.25 4.75 ... 11.25 11.75</div><input id='attrs-754e7414-356c-419c-a706-db9057951322' class='xr-var-attrs-in' type='checkbox' disabled><label for='attrs-754e7414-356c-419c-a706-db9057951322' title='Show/Hide attributes'><svg class='icon xr-icon-file-text2'><use xlink:href='#icon-file-text2'></use></svg></label><input id='data-3f7bf794-e575-4dc9-a7c7-5ca0980e97cd' class='xr-var-data-in' type='checkbox'><label for='data-3f7bf794-e575-4dc9-a7c7-5ca0980e97cd' title='Show/Hide data repr'><svg class='icon xr-icon-database'><use xlink:href='#icon-database'></use></svg></label><div class='xr-var-attrs'><dl class='xr-attrs'></dl></div><div class='xr-var-data'><pre>array([ 3.75,  4.25,  4.75,  5.25,  5.75,  6.25,  6.75,  7.25,  7.75,  8.25,\n",
       "        8.75,  9.25,  9.75, 10.25, 10.75, 11.25, 11.75])</pre></div></li><li class='xr-var-item'><div class='xr-var-name'><span class='xr-has-index'>latitude</span></div><div class='xr-var-dims'>(latitude)</div><div class='xr-var-dtype'>float64</div><div class='xr-var-preview xr-preview'>46.25 46.75 47.25 ... 51.75 52.25</div><input id='attrs-fd1c32f8-558e-4ea6-b0ba-065818d5a79c' class='xr-var-attrs-in' type='checkbox' disabled><label for='attrs-fd1c32f8-558e-4ea6-b0ba-065818d5a79c' title='Show/Hide attributes'><svg class='icon xr-icon-file-text2'><use xlink:href='#icon-file-text2'></use></svg></label><input id='data-f7de6ceb-da9b-472d-8e88-1f4b289d8d8d' class='xr-var-data-in' type='checkbox'><label for='data-f7de6ceb-da9b-472d-8e88-1f4b289d8d8d' title='Show/Hide data repr'><svg class='icon xr-icon-database'><use xlink:href='#icon-database'></use></svg></label><div class='xr-var-attrs'><dl class='xr-attrs'></dl></div><div class='xr-var-data'><pre>array([46.25, 46.75, 47.25, 47.75, 48.25, 48.75, 49.25, 49.75, 50.25, 50.75,\n",
       "       51.25, 51.75, 52.25])</pre></div></li><li class='xr-var-item'><div class='xr-var-name'><span>time</span></div><div class='xr-var-dims'>()</div><div class='xr-var-dtype'>object</div><div class='xr-var-preview xr-preview'>2000-12-31 00:00:00</div><input id='attrs-84764f2e-991f-4911-b8f8-a2046c055b58' class='xr-var-attrs-in' type='checkbox' disabled><label for='attrs-84764f2e-991f-4911-b8f8-a2046c055b58' title='Show/Hide attributes'><svg class='icon xr-icon-file-text2'><use xlink:href='#icon-file-text2'></use></svg></label><input id='data-9bd17122-5955-4017-98d1-f280dffade57' class='xr-var-data-in' type='checkbox'><label for='data-9bd17122-5955-4017-98d1-f280dffade57' title='Show/Hide data repr'><svg class='icon xr-icon-database'><use xlink:href='#icon-database'></use></svg></label><div class='xr-var-attrs'><dl class='xr-attrs'></dl></div><div class='xr-var-data'><pre>array(cftime.DatetimeGregorian(2000, 12, 31, 0, 0, 0, 0), dtype=object)</pre></div></li></ul></div></li><li class='xr-section-item'><input id='section-764c86cd-dd0b-4c4a-a56a-d4f4c67ced7c' class='xr-section-summary-in' type='checkbox'  checked><label for='section-764c86cd-dd0b-4c4a-a56a-d4f4c67ced7c' class='xr-section-summary' >Attributes: <span>(1)</span></label><div class='xr-section-inline-details'></div><div class='xr-section-details'><dl class='xr-attrs'><dt><span>units :</span></dt><dd>m3.s-1</dd></dl></div></li></ul></div></div>"
      ],
      "text/plain": [
       "<xarray.DataArray 'discharge' (latitude: 13, longitude: 17)>\n",
       "array([[nan, nan, nan, nan, nan, nan, nan, nan, nan, nan, nan, nan, nan,\n",
       "        nan, nan, nan, nan],\n",
       "       [nan, nan, nan, nan, nan, nan,  0.,  0.,  0.,  0.,  0.,  0.,  0.,\n",
       "        nan, nan, nan, nan],\n",
       "       [nan, nan, nan, nan, nan, nan, nan,  0.,  0.,  0.,  0.,  0.,  0.,\n",
       "        nan, nan, nan, nan],\n",
       "       [nan, nan, nan, nan, nan, nan, nan,  0.,  0.,  0.,  0.,  0.,  0.,\n",
       "        nan, nan, nan, nan],\n",
       "       [nan, nan, nan, nan,  0.,  0.,  0.,  0.,  0.,  0.,  0., nan, nan,\n",
       "        nan, nan, nan, nan],\n",
       "       [nan, nan, nan, nan,  0.,  0.,  0.,  0.,  0.,  0.,  0.,  0.,  0.,\n",
       "        nan, nan, nan, nan],\n",
       "       [nan, nan, nan,  0.,  0.,  0.,  0.,  0.,  0.,  0.,  0.,  0.,  0.,\n",
       "        nan,  0., nan, nan],\n",
       "       [nan, nan,  0.,  0.,  0.,  0.,  0.,  0.,  0.,  0.,  0.,  0.,  0.,\n",
       "         0.,  0.,  0.,  0.],\n",
       "       [nan,  0.,  0.,  0.,  0.,  0.,  0.,  0.,  0.,  0.,  0.,  0.,  0.,\n",
       "         0.,  0.,  0., nan],\n",
       "       [nan, nan, nan,  0.,  0.,  0.,  0.,  0.,  0.,  0.,  0., nan, nan,\n",
       "        nan, nan, nan, nan],\n",
       "       [nan, nan, nan, nan,  0.,  0.,  0.,  0.,  0.,  0., nan, nan, nan,\n",
       "        nan, nan, nan, nan],\n",
       "       [ 0.,  0.,  0.,  0.,  0.,  0.,  0.,  0.,  0., nan, nan, nan, nan,\n",
       "        nan, nan, nan, nan],\n",
       "       [nan,  0.,  0.,  0.,  0., nan, nan, nan, nan, nan, nan, nan, nan,\n",
       "        nan, nan, nan, nan]])\n",
       "Coordinates:\n",
       "  * longitude  (longitude) float64 3.75 4.25 4.75 5.25 ... 10.75 11.25 11.75\n",
       "  * latitude   (latitude) float64 46.25 46.75 47.25 47.75 ... 51.25 51.75 52.25\n",
       "    time       object 2000-12-31 00:00:00\n",
       "Attributes:\n",
       "    units:    m3.s-1"
      ]
     },
     "execution_count": 11,
     "metadata": {},
     "output_type": "execute_result"
    }
   ],
   "source": [
    "pcrglob.get_value_as_xarray(\"discharge\")"
   ]
  },
  {
   "cell_type": "code",
   "execution_count": 12,
   "id": "b8fcaedd",
   "metadata": {},
   "outputs": [
    {
     "name": "stdout",
     "output_type": "stream",
     "text": [
      "36524.0\n",
      "36534.0\n",
      "36544.0\n",
      "36554.0\n",
      "36564.0\n",
      "36574.0\n",
      "36584.0\n",
      "36594.0\n",
      "36604.0\n",
      "36614.0\n"
     ]
    }
   ],
   "source": [
    "# Run the model for a few steps and show progress every tenth step\n",
    "for i in range(100):\n",
    "    if i % 10 == 0:\n",
    "        print(pcrglob.time_as_isostr)\n",
    "    pcrglob.update()"
   ]
  },
  {
   "cell_type": "code",
   "execution_count": 13,
   "id": "a9248fbb",
   "metadata": {},
   "outputs": [
    {
     "data": {
      "text/plain": [
       "<matplotlib.collections.PathCollection at 0x7fde44459f70>"
      ]
     },
     "execution_count": 13,
     "metadata": {},
     "output_type": "execute_result"
    },
    {
     "data": {
      "image/png": "[encoded data removed]",
      "text/plain": [
       "<Figure size 432x288 with 2 Axes>"
      ]
     },
     "metadata": {
      "needs_background": "light"
     },
     "output_type": "display_data"
    }
   ],
   "source": [
    "da = pcrglob.get_value_as_xarray(\"discharge\")\n",
    "qm = da.plot(robust=True, cmap='GnBu')\n",
    "\n",
    "# Add some verification points\n",
    "target_longitudes = [7.8, 10.2, 11]\n",
    "target_latitudes = [50.3, 49.8, 47]\n",
    "qm.axes.scatter(target_longitudes, target_latitudes, s=250, c='r', marker='x', lw=2)"
   ]
  },
  {
   "cell_type": "code",
   "execution_count": 14,
   "id": "bada09a5",
   "metadata": {},
   "outputs": [
    {
     "name": "stdout",
     "output_type": "stream",
     "text": [
      "Requested point was lon: 7.8, lat: 50.3; closest grid point is 7.75, 50.25.\n",
      "Requested point was lon: 10.2, lat: 49.8; closest grid point is 10.25, 49.75.\n",
      "Requested point was lon: 11, lat: 47; closest grid point is 10.75, 47.25.\n"
     ]
    },
    {
     "data": {
      "text/plain": [
       "array([1950.56518555,  163.59661865,           nan])"
      ]
     },
     "execution_count": 14,
     "metadata": {},
     "output_type": "execute_result"
    }
   ],
   "source": [
    "# Verify that we can get the right values at the target locations\n",
    "pcrglob.get_value_at_coords('discharge', lon=target_longitudes, lat=target_latitudes)"
   ]
  },
  {
   "cell_type": "code",
   "execution_count": 14,
   "id": "ea4ee0bf",
   "metadata": {},
   "outputs": [],
   "source": [
    "pcrglob.finalize()"
   ]
  },
  {
   "cell_type": "code",
   "execution_count": null,
   "id": "d1346abe",
   "metadata": {},
   "outputs": [],
   "source": []
  }
 ],
 "metadata": {
  "kernelspec": {
   "display_name": "Python 3",
   "language": "python",
   "name": "python3"
  },
  "language_info": {
   "codemirror_mode": {
    "name": "ipython",
    "version": 3
   },
   "file_extension": ".py",
   "mimetype": "text/x-python",
   "name": "python",
   "nbconvert_exporter": "python",
   "pygments_lexer": "ipython3",
   "version": "3.9.2"
  }
 },
 "nbformat": 4,
 "nbformat_minor": 5
}
