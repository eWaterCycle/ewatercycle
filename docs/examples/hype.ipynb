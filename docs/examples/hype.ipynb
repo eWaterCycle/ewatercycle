{
 "cells": [
  {
   "cell_type": "markdown",
   "metadata": {},
   "source": [
    "![image](https://github.com/eWaterCycle/ewatercycle/raw/main/docs/examples/logo.png)"
   ]
  },
  {
   "cell_type": "markdown",
   "metadata": {},
   "source": [
    "# Running Hype model using eWaterCycle package\n",
    "\n",
    "This notebook shows how to run [Hype](http://www.smhi.net/hype/wiki/doku.php?id=start) model using a demo use-case."
   ]
  },
  {
   "cell_type": "code",
   "execution_count": 1,
   "metadata": {},
   "outputs": [
    {
     "name": "stderr",
     "output_type": "stream",
     "text": [
      "/home/stefanv/mamba/envs/ewatercycle/lib/python3.10/site-packages/esmvalcore/experimental/_warnings.py:13: UserWarning: \n",
      "  Thank you for trying out the new ESMValCore API.\n",
      "  Note that this API is experimental and may be subject to change.\n",
      "  More info: https://github.com/ESMValGroup/ESMValCore/issues/498\n"
     ]
    }
   ],
   "source": [
    "import ewatercycle.models\n",
    "import ewatercycle.parameter_sets"
   ]
  },
  {
   "cell_type": "markdown",
   "metadata": {},
   "source": [
    "## Load parameter set\n",
    "\n",
    "The parameter set `demo.zip` should be downloaded from https://sourceforge.net/projects/hype/files/release_hype_5_6_2/ and unzipped.\n"
   ]
  },
  {
   "cell_type": "code",
   "execution_count": 2,
   "metadata": {},
   "outputs": [],
   "source": [
    "parameter_set_dir = \"<path where demo.zip was extracted to>\"\n",
    "parameter_set_dir = \"/home/stefanv/git/eWaterCycle/ewatercycle/docs/examples/hype-run/demo\"\n",
    "parameter_set = ewatercycle.parameter_sets.ParameterSet(\n",
    "    name=\"hype_demo\",\n",
    "    directory=parameter_set_dir,\n",
    "    config=parameter_set_dir + \"/info.txt\",\n",
    "    target_model=\"hype\",\n",
    ")"
   ]
  },
  {
   "cell_type": "markdown",
   "metadata": {},
   "source": [
    "## Setting up the model\n",
    "\n",
    "Note that the model version and the parameterset versions should be compatible."
   ]
  },
  {
   "cell_type": "code",
   "execution_count": 3,
   "metadata": {},
   "outputs": [
    {
     "data": {
      "text/plain": [
       "('feb2021',)"
      ]
     },
     "execution_count": 3,
     "metadata": {},
     "output_type": "execute_result"
    }
   ],
   "source": [
    "ewatercycle.models.Hype.available_versions"
   ]
  },
  {
   "cell_type": "code",
   "execution_count": 4,
   "metadata": {},
   "outputs": [],
   "source": [
    "model = ewatercycle.models.Hype(version=\"feb2021\", parameter_set=parameter_set)"
   ]
  },
  {
   "cell_type": "markdown",
   "metadata": {},
   "source": [
    "eWaterCycle exposes a selected set of configurable parameters. These can be modified in the `setup()` method."
   ]
  },
  {
   "cell_type": "code",
   "execution_count": 5,
   "metadata": {},
   "outputs": [
    {
     "data": {
      "text/plain": [
       "[('start_time', '1961-01-01T00:00:00Z'),\n",
       " ('end_time', '1963-12-31T00:00:00Z'),\n",
       " ('crit_time', '1962-01-01T00:00:00Z')]"
      ]
     },
     "execution_count": 5,
     "metadata": {},
     "output_type": "execute_result"
    }
   ],
   "source": [
    "model.parameters"
   ]
  },
  {
   "cell_type": "markdown",
   "metadata": {},
   "source": [
    "Calling `setup()` will start up a docker or singularity container. Be careful with calling it multiple times!"
   ]
  },
  {
   "cell_type": "code",
   "execution_count": 6,
   "metadata": {},
   "outputs": [
    {
     "ename": "SingularityVersionException",
     "evalue": "Wrong version (1.0.2) of singularity found, require version 3.6.0",
     "output_type": "error",
     "traceback": [
      "\u001b[0;31m---------------------------------------------------------------------------\u001b[0m",
      "\u001b[0;31mSingularityVersionException\u001b[0m               Traceback (most recent call last)",
      "Input \u001b[0;32mIn [6]\u001b[0m, in \u001b[0;36m<cell line: 1>\u001b[0;34m()\u001b[0m\n\u001b[0;32m----> 1\u001b[0m cfg_file, cfg_dir \u001b[38;5;241m=\u001b[39m \u001b[43mmodel\u001b[49m\u001b[38;5;241;43m.\u001b[39;49m\u001b[43msetup\u001b[49m\u001b[43m(\u001b[49m\u001b[43m)\u001b[49m\n\u001b[1;32m      2\u001b[0m cfg_file, cfg_dir\n",
      "File \u001b[0;32m~/git/eWaterCycle/ewatercycle/src/ewatercycle/models/hype.py:152\u001b[0m, in \u001b[0;36mHype.setup\u001b[0;34m(self, start_time, end_time, crit_time, cfg_dir)\u001b[0m\n\u001b[1;32m    150\u001b[0m \u001b[38;5;66;03m# start container\u001b[39;00m\n\u001b[1;32m    151\u001b[0m work_dir \u001b[38;5;241m=\u001b[39m \u001b[38;5;28mstr\u001b[39m(cfg_dir_as_path)\n\u001b[0;32m--> 152\u001b[0m \u001b[38;5;28mself\u001b[39m\u001b[38;5;241m.\u001b[39mbmi \u001b[38;5;241m=\u001b[39m \u001b[43m_start_container\u001b[49m\u001b[43m(\u001b[49m\u001b[38;5;28;43mself\u001b[39;49m\u001b[38;5;241;43m.\u001b[39;49m\u001b[43mversion\u001b[49m\u001b[43m,\u001b[49m\u001b[43m \u001b[49m\u001b[43mwork_dir\u001b[49m\u001b[43m)\u001b[49m\n\u001b[1;32m    154\u001b[0m \u001b[38;5;28;01mreturn\u001b[39;00m \u001b[38;5;28mstr\u001b[39m(cfg_file), work_dir\n",
      "File \u001b[0;32m~/git/eWaterCycle/ewatercycle/src/ewatercycle/models/hype.py:211\u001b[0m, in \u001b[0;36m_start_container\u001b[0;34m(version, work_dir)\u001b[0m\n\u001b[1;32m    209\u001b[0m \u001b[38;5;28;01mif\u001b[39;00m CFG[\u001b[38;5;124m\"\u001b[39m\u001b[38;5;124mcontainer_engine\u001b[39m\u001b[38;5;124m\"\u001b[39m]\u001b[38;5;241m.\u001b[39mlower() \u001b[38;5;241m==\u001b[39m \u001b[38;5;124m\"\u001b[39m\u001b[38;5;124msingularity\u001b[39m\u001b[38;5;124m\"\u001b[39m:\n\u001b[1;32m    210\u001b[0m     image \u001b[38;5;241m=\u001b[39m CFG[\u001b[38;5;124m\"\u001b[39m\u001b[38;5;124msingularity_dir\u001b[39m\u001b[38;5;124m\"\u001b[39m] \u001b[38;5;241m/\u001b[39m _version_images[version][\u001b[38;5;124m\"\u001b[39m\u001b[38;5;124msingularity\u001b[39m\u001b[38;5;124m\"\u001b[39m]\n\u001b[0;32m--> 211\u001b[0m     \u001b[38;5;28;01mreturn\u001b[39;00m \u001b[43mBmiClientSingularity\u001b[49m\u001b[43m(\u001b[49m\n\u001b[1;32m    212\u001b[0m \u001b[43m        \u001b[49m\u001b[43mimage\u001b[49m\u001b[38;5;241;43m=\u001b[39;49m\u001b[38;5;28;43mstr\u001b[39;49m\u001b[43m(\u001b[49m\u001b[43mimage\u001b[49m\u001b[43m)\u001b[49m\u001b[43m,\u001b[49m\n\u001b[1;32m    213\u001b[0m \u001b[43m        \u001b[49m\u001b[43mwork_dir\u001b[49m\u001b[38;5;241;43m=\u001b[39;49m\u001b[43mwork_dir\u001b[49m\u001b[43m,\u001b[49m\n\u001b[1;32m    214\u001b[0m \u001b[43m    \u001b[49m\u001b[43m)\u001b[49m\n\u001b[1;32m    215\u001b[0m \u001b[38;5;28;01melif\u001b[39;00m CFG[\u001b[38;5;124m\"\u001b[39m\u001b[38;5;124mcontainer_engine\u001b[39m\u001b[38;5;124m\"\u001b[39m]\u001b[38;5;241m.\u001b[39mlower() \u001b[38;5;241m==\u001b[39m \u001b[38;5;124m\"\u001b[39m\u001b[38;5;124mdocker\u001b[39m\u001b[38;5;124m\"\u001b[39m:\n\u001b[1;32m    216\u001b[0m     image \u001b[38;5;241m=\u001b[39m _version_images[version][\u001b[38;5;124m\"\u001b[39m\u001b[38;5;124mdocker\u001b[39m\u001b[38;5;124m\"\u001b[39m]\n",
      "File \u001b[0;32m~/mamba/envs/ewatercycle/lib/python3.10/site-packages/grpc4bmi/bmi_client_singularity.py:198\u001b[0m, in \u001b[0;36mBmiClientSingularity.__init__\u001b[0;34m(self, image, work_dir, input_dirs, delay, timeout, capture_logs)\u001b[0m\n\u001b[1;32m    195\u001b[0m     msg \u001b[38;5;241m=\u001b[39m \u001b[38;5;124mf\u001b[39m\u001b[38;5;124m'\u001b[39m\u001b[38;5;124mtype of argument \u001b[39m\u001b[38;5;124m\"\u001b[39m\u001b[38;5;124minput_dirs\u001b[39m\u001b[38;5;124m\"\u001b[39m\u001b[38;5;124m must be collections.abc.Iterable; \u001b[39m\u001b[38;5;124m'\u001b[39m \\\n\u001b[1;32m    196\u001b[0m           \u001b[38;5;124mf\u001b[39m\u001b[38;5;124m'\u001b[39m\u001b[38;5;124mgot \u001b[39m\u001b[38;5;132;01m{\u001b[39;00mqualified_name(input_dirs)\u001b[38;5;132;01m}\u001b[39;00m\u001b[38;5;124m instead\u001b[39m\u001b[38;5;124m'\u001b[39m\n\u001b[1;32m    197\u001b[0m     \u001b[38;5;28;01mraise\u001b[39;00m \u001b[38;5;167;01mTypeError\u001b[39;00m(msg)\n\u001b[0;32m--> 198\u001b[0m \u001b[43mcheck_singularity_version\u001b[49m\u001b[43m(\u001b[49m\u001b[43m)\u001b[49m\n\u001b[1;32m    199\u001b[0m host \u001b[38;5;241m=\u001b[39m \u001b[38;5;124m'\u001b[39m\u001b[38;5;124mlocalhost\u001b[39m\u001b[38;5;124m'\u001b[39m\n\u001b[1;32m    200\u001b[0m port \u001b[38;5;241m=\u001b[39m BmiClient\u001b[38;5;241m.\u001b[39mget_unique_port(host)\n",
      "File \u001b[0;32m~/mamba/envs/ewatercycle/lib/python3.10/site-packages/grpc4bmi/bmi_client_singularity.py:25\u001b[0m, in \u001b[0;36mcheck_singularity_version\u001b[0;34m()\u001b[0m\n\u001b[1;32m     23\u001b[0m local_version \u001b[38;5;241m=\u001b[39m semver\u001b[38;5;241m.\u001b[39mVersionInfo\u001b[38;5;241m.\u001b[39mparse(stdout\u001b[38;5;241m.\u001b[39mdecode(\u001b[38;5;124m'\u001b[39m\u001b[38;5;124mutf-8\u001b[39m\u001b[38;5;124m'\u001b[39m)\u001b[38;5;241m.\u001b[39mreplace(\u001b[38;5;124m'\u001b[39m\u001b[38;5;124m_\u001b[39m\u001b[38;5;124m'\u001b[39m, \u001b[38;5;124m'\u001b[39m\u001b[38;5;124m-\u001b[39m\u001b[38;5;124m'\u001b[39m))\n\u001b[1;32m     24\u001b[0m \u001b[38;5;28;01mif\u001b[39;00m local_version \u001b[38;5;241m<\u001b[39m REQUIRED_SINGULARITY_VERSION:\n\u001b[0;32m---> 25\u001b[0m     \u001b[38;5;28;01mraise\u001b[39;00m SingularityVersionException(\u001b[38;5;124mf\u001b[39m\u001b[38;5;124m'\u001b[39m\u001b[38;5;124mWrong version (\u001b[39m\u001b[38;5;132;01m{\u001b[39;00mlocal_version\u001b[38;5;132;01m}\u001b[39;00m\u001b[38;5;124m) of singularity found, \u001b[39m\u001b[38;5;124m'\u001b[39m\n\u001b[1;32m     26\u001b[0m                                       \u001b[38;5;124mf\u001b[39m\u001b[38;5;124m'\u001b[39m\u001b[38;5;124mrequire version \u001b[39m\u001b[38;5;132;01m{\u001b[39;00mREQUIRED_SINGULARITY_VERSION\u001b[38;5;132;01m}\u001b[39;00m\u001b[38;5;124m'\u001b[39m)\n\u001b[1;32m     27\u001b[0m \u001b[38;5;28;01mreturn\u001b[39;00m \u001b[38;5;28;01mTrue\u001b[39;00m\n",
      "\u001b[0;31mSingularityVersionException\u001b[0m: Wrong version (1.0.2) of singularity found, require version 3.6.0"
     ]
    }
   ],
   "source": [
    "cfg_file, cfg_dir = model.setup()\n",
    "cfg_file, cfg_dir"
   ]
  },
  {
   "cell_type": "markdown",
   "metadata": {},
   "source": [
    "Note that the parameters have been changed. A new config file which incorporates these updated parameters has been generated as well. If you want to see or modify any additional model settings, you can acces this file directly. When you're ready, pass the path to the config file to `initialize()`."
   ]
  },
  {
   "cell_type": "code",
   "execution_count": 7,
   "metadata": {},
   "outputs": [],
   "source": [
    "model.initialize(cfg_file)"
   ]
  },
  {
   "cell_type": "markdown",
   "metadata": {},
   "source": [
    "## Running the model\n",
    "\n",
    "Simply running the model from start to end is straightforward. At each time step we can retrieve information from the model."
   ]
  },
  {
   "cell_type": "code",
   "execution_count": 15,
   "metadata": {},
   "outputs": [
    {
     "name": "stdout",
     "output_type": "stream",
     "text": [
      "26232.0\r"
     ]
    }
   ],
   "source": [
    "while model.time < model.end_time:\n",
    "    print(model.time, end=\"\\r\")\n",
    "    model.update()"
   ]
  },
  {
   "cell_type": "code",
   "execution_count": 14,
   "metadata": {},
   "outputs": [
    {
     "data": {
      "text/plain": [
       "'hours since start of simulation'"
      ]
     },
     "execution_count": 14,
     "metadata": {},
     "output_type": "execute_result"
    }
   ],
   "source": [
    "model.bmi.get_time_units()"
   ]
  },
  {
   "cell_type": "markdown",
   "metadata": {},
   "source": [
    "## Interacting with the model\n",
    "\n",
    "Hype model exposes many variables."
   ]
  },
  {
   "cell_type": "code",
   "execution_count": 18,
   "metadata": {},
   "outputs": [
    {
     "data": {
      "text/plain": [
       "('comp outflow olake',\n",
       " 'rec outflow olake',\n",
       " 'air temperature',\n",
       " 'corrected air temper',\n",
       " 'precipitation',\n",
       " 'corr precipitation',\n",
       " 'subbasin evaporation',\n",
       " 'computed runoff',\n",
       " 'computed soil water')"
      ]
     },
     "execution_count": 18,
     "metadata": {},
     "output_type": "execute_result"
    }
   ],
   "source": [
    "model.output_var_names"
   ]
  },
  {
   "cell_type": "markdown",
   "metadata": {},
   "source": [
    "Hype is a lumped sub-basin model so there are values per subbasin. The outflow of all sub-basins can be requested with:"
   ]
  },
  {
   "cell_type": "code",
   "execution_count": 22,
   "metadata": {},
   "outputs": [
    {
     "data": {
      "text/plain": [
       "array([0.03541804])"
      ]
     },
     "execution_count": 22,
     "metadata": {},
     "output_type": "execute_result"
    }
   ],
   "source": [
    "da = model.get_value(\"comp outflow olake\")\n",
    "da"
   ]
  },
  {
   "cell_type": "markdown",
   "metadata": {},
   "source": [
    "The model has some info about the sub-basins:"
   ]
  },
  {
   "cell_type": "code",
   "execution_count": 23,
   "metadata": {},
   "outputs": [
    {
     "data": {
      "text/plain": [
       "[1, 1, 'unstructured', (1,), array([0.]), array([0.])]"
      ]
     },
     "execution_count": 23,
     "metadata": {},
     "output_type": "execute_result"
    }
   ],
   "source": [
    "[\n",
    "    model.bmi.get_grid_size(1),\n",
    "    model.bmi.get_grid_rank(1),\n",
    "    model.bmi.get_grid_type(1),\n",
    "    model.bmi.get_grid_shape(1),\n",
    "    model.bmi.get_grid_x(1),\n",
    "    model.bmi.get_grid_y(1),\n",
    "]"
   ]
  },
  {
   "cell_type": "markdown",
   "metadata": {},
   "source": [
    "## Cleaning up\n",
    "\n",
    "Models usually perform some \"wrap up tasks\" at the end of a model run, such as writing the last outputs to disk and releasing memory. In the case of eWaterCycle, another important teardown task is destroying the docker or singularity container in which the model was running. This can free up a lot of resources on your system. Therefore it is good practice to always call `finalize()` when you're done with an experiment."
   ]
  },
  {
   "cell_type": "code",
   "execution_count": 24,
   "metadata": {},
   "outputs": [],
   "source": [
    "model.finalize()"
   ]
  }
 ],
 "metadata": {
  "interpreter": {
   "hash": "01ca17e9ced11a2af392a5b687ce703e247d5832196a25892ccc3acd549c16f5"
  },
  "kernelspec": {
   "display_name": "Python 3 (ipykernel)",
   "language": "python",
   "name": "python3"
  },
  "language_info": {
   "codemirror_mode": {
    "name": "ipython",
    "version": 3
   },
   "file_extension": ".py",
   "mimetype": "text/x-python",
   "name": "python",
   "nbconvert_exporter": "python",
   "pygments_lexer": "ipython3",
   "version": "3.10.4"
  }
 },
 "nbformat": 4,
 "nbformat_minor": 4
}
