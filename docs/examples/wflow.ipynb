{
 "cells": [
  {
   "cell_type": "markdown",
   "id": "5882ae11",
   "metadata": {},
   "source": [
    "# Running Wflow using the ewatercycle system"
   ]
  },
  {
   "cell_type": "code",
   "execution_count": 1,
   "id": "b425dfa7",
   "metadata": {},
   "outputs": [
    {
     "name": "stderr",
     "output_type": "stream",
     "text": [
      "/home/peter/miniconda3/envs/ewatercycle/lib/python3.9/site-packages/esmvalcore/experimental/_warnings.py:18: UserWarning: \n",
      "  Thank you for trying out the new ESMValCore API.\n",
      "  Note that this API is experimental and may be subject to change.\n",
      "  More info: https://github.com/ESMValGroup/ESMValCore/issues/498\n",
      "/home/peter/miniconda3/envs/ewatercycle/lib/python3.9/site-packages/esmvalcore/experimental/config/_config_validators.py:254: ESMValToolDeprecationWarning: `write_plots` will be removed in 2.4.0.\n",
      "/home/peter/miniconda3/envs/ewatercycle/lib/python3.9/site-packages/esmvalcore/experimental/config/_config_validators.py:255: ESMValToolDeprecationWarning: `write_netcdf` will be removed in 2.4.0.\n"
     ]
    }
   ],
   "source": [
    "import ewatercycle\n",
    "import ewatercycle.models\n",
    "import ewatercycle.parameter_sets"
   ]
  },
  {
   "cell_type": "markdown",
   "id": "65d449aa",
   "metadata": {},
   "source": [
    "### 1. Copy an example case\n",
    "To run WFlow, we need a complete parameterset. The package can download a example parameter set for you."
   ]
  },
  {
   "cell_type": "code",
   "execution_count": 2,
   "id": "b76c6561",
   "metadata": {},
   "outputs": [],
   "source": [
    "ewatercycle.CFG['container_engine'] = \"docker\"\n",
    "ewatercycle.CFG['output_dir'] = \"./\"\n",
    "ewatercycle.CFG['ewatercycle_config'] = './ewatercycle.yaml'\n",
    "ewatercycle.CFG['parameterset_dir'] = './parameter-sets'"
   ]
  },
  {
   "cell_type": "code",
   "execution_count": 3,
   "id": "275bee95",
   "metadata": {},
   "outputs": [
    {
     "name": "stdout",
     "output_type": "stream",
     "text": [
      "Directory /home/peter/ewatercycle/ewatercycle/docs/examples/parameter-sets/wflow_rhine_sbm_nc for parameter set wflow_rhine_sbm_nc already exists, skipping download.\n",
      "Adding parameterset wflow_rhine_sbm_nc to ewatercycle.CFG... \n",
      "Directory /home/peter/ewatercycle/ewatercycle/docs/examples/parameter-sets/pcrglobwb_example_case for parameter set pcrglobwb_example_case already exists, skipping download.\n",
      "Adding parameterset pcrglobwb_example_case to ewatercycle.CFG... \n",
      "Directory /home/peter/ewatercycle/ewatercycle/docs/examples/parameter-sets/lisflood_fraser for parameter set lisflood_fraser already exists, skipping download.\n",
      "Adding parameterset lisflood_fraser to ewatercycle.CFG... \n",
      "3 example parameter sets were downloaded\n",
      "Config written to /home/peter/ewatercycle/ewatercycle/docs/examples/ewatercycle.yaml\n",
      "Saved parameter sets to configuration file /home/peter/ewatercycle/ewatercycle/docs/examples/ewatercycle.yaml\n"
     ]
    }
   ],
   "source": [
    "ewatercycle.parameter_sets.download_example_parameter_sets()"
   ]
  },
  {
   "cell_type": "code",
   "execution_count": 4,
   "id": "3b48de48",
   "metadata": {},
   "outputs": [],
   "source": [
    "ewatercycle.CFG.reload()"
   ]
  },
  {
   "cell_type": "code",
   "execution_count": 5,
   "id": "55ab30af",
   "metadata": {},
   "outputs": [
    {
     "name": "stdout",
     "output_type": "stream",
     "text": [
      "Parameter set\n",
      "-------------\n",
      "name='wflow_rhine_sbm_nc'\n",
      "directory=PosixPath('/home/peter/ewatercycle/ewatercycle/docs/examples/parameter-sets/wflow_rhine_sbm_nc')\n",
      "config=PosixPath('/home/peter/ewatercycle/ewatercycle/docs/examples/parameter-sets/wflow_rhine_sbm_nc/wflow_sbm_NC.ini')\n",
      "doi='N/A'\n",
      "target_model='wflow'\n",
      "supported_model_versions={'2020.1.1'}\n"
     ]
    }
   ],
   "source": [
    "parameter_set = ewatercycle.parameter_sets.get_parameter_set('wflow_rhine_sbm_nc')\n",
    "print(parameter_set)"
   ]
  },
  {
   "cell_type": "markdown",
   "id": "74f8e69c",
   "metadata": {},
   "source": [
    "### 2. Verify your configuration settings\n",
    "\n",
    "If you are working on a curated environment like https://lab.ewatercycle.org/, the default configuration should cover 90% of all use cases. However, for the other 10% here is a brief explanation of the relevant configuration settings. \n",
    "\n",
    "The ewatercycle configuration file is typcially stored in `~/ewatercycle/ewatercycle.yaml` or `/etc/ewatercycle.yaml` and can be imported with `from ewatercycle import CFG`. Relevant settings for WFLow are:\n",
    "\n",
    "```Yaml\n",
    "container_engine: docker # or singularity\n",
    "output_dir: './' # the directory where the model work_dir will be created\n",
    "```\n",
    "\n",
    "In order for this to work, you need to make sure that the actual docker or singularity images are available on the system. This can be done with:\n",
    "\n",
    "- Docker: `docker pull ewatercycle/wflow-grpc4bmi:latest`\n",
    "- Singularity: `singularity run docker://ewatercycle/wflow-grpc4bmi:latest` --> this will store a cached image."
   ]
  },
  {
   "cell_type": "markdown",
   "id": "7139ff04",
   "metadata": {},
   "source": [
    "### 3. Setting up the model"
   ]
  },
  {
   "cell_type": "code",
   "execution_count": 6,
   "id": "8356bdcc",
   "metadata": {},
   "outputs": [
    {
     "data": {
      "text/plain": [
       "('2020.1.1',)"
      ]
     },
     "execution_count": 6,
     "metadata": {},
     "output_type": "execute_result"
    }
   ],
   "source": [
    "ewatercycle.models.Wflow.available_versions"
   ]
  },
  {
   "cell_type": "code",
   "execution_count": 7,
   "id": "877e4dd0",
   "metadata": {},
   "outputs": [
    {
     "name": "stdout",
     "output_type": "stream",
     "text": [
      "Forcing data for Wflow\n",
      "----------------------\n",
      "Directory: ./parameter-sets/wflow_rhine_sbm_nc\n",
      "Start time: 1991-01-01T00:00:00Z\n",
      "End time: 1991-12-31T00:00:00Z\n",
      "Shapefile: None\n",
      "Additional information for model config:\n",
      "  - netcdfinput: inmaps.nc\n",
      "  - Precipitation: /P\n",
      "  - Temperature: /TEMP\n",
      "  - EvapoTranspiration: /PET\n",
      "  - Inflow: None\n"
     ]
    }
   ],
   "source": [
    "# Load forcing data from an external source\n",
    "import ewatercycle.forcing\n",
    "forcing = ewatercycle.forcing.load_foreign(\n",
    "    directory = \"./parameter-sets/wflow_rhine_sbm_nc\",\n",
    "    target_model = 'wflow',\n",
    "    start_time = '1991-01-01T00:00:00Z',\n",
    "    end_time = '1991-12-31T00:00:00Z',\n",
    "    forcing_info = dict(\n",
    "        # Additional information about the external forcing data needed for the model configuration\n",
    "        netcdfinput = \"inmaps.nc\",\n",
    "        Precipitation = \"/P\",\n",
    "        EvapoTranspiration = \"/PET\",\n",
    "        Temperature = \"/TEMP\"\n",
    "    )\n",
    ")\n",
    "print(forcing)"
   ]
  },
  {
   "cell_type": "code",
   "execution_count": 8,
   "id": "d3aaa50a",
   "metadata": {},
   "outputs": [
    {
     "data": {
      "text/plain": [
       "[('start_time', '1991-01-01T00:00:00Z'), ('end_time', '1991-12-31T00:00:00Z')]"
      ]
     },
     "execution_count": 8,
     "metadata": {},
     "output_type": "execute_result"
    }
   ],
   "source": [
    "# Create the model instance and inspect the pre-configured parameters\n",
    "model = ewatercycle.models.Wflow(version='2020.1.1', parameter_set=parameter_set, forcing=forcing)\n",
    "model.parameters"
   ]
  },
  {
   "cell_type": "code",
   "execution_count": 9,
   "id": "7eb7c504",
   "metadata": {
    "tags": []
   },
   "outputs": [],
   "source": [
    "# Set up the model; this is where you can potentially overwrite some of the parameters\n",
    "cfg_file, cfg_dir = model.setup(end_time = \"1991-02-28T00:00:00Z\")"
   ]
  },
  {
   "cell_type": "code",
   "execution_count": 10,
   "id": "7fc12d14",
   "metadata": {},
   "outputs": [
    {
     "name": "stdout",
     "output_type": "stream",
     "text": [
      "/home/peter/ewatercycle/ewatercycle/docs/examples/wflow_20210708_105920/wflow_ewatercycle.ini\n",
      "/home/peter/ewatercycle/ewatercycle/docs/examples/wflow_20210708_105920\n"
     ]
    }
   ],
   "source": [
    "# See the run directory and model configuration file\n",
    "print(cfg_file)\n",
    "print(cfg_dir)"
   ]
  },
  {
   "cell_type": "markdown",
   "id": "2c3dfe54",
   "metadata": {},
   "source": [
    "#### Update the config file\n",
    "\n",
    "At this point, we have a preliminary configuration file. You can open it and modify. For the example below, you will have to add the variable \"RiverRunoff\" to the API section:\n",
    "\n",
    "```\n",
    "[API]\n",
    "RiverRunoff = 2, m/s\n",
    "```\n",
    "\n",
    "After that, we can start up the model"
   ]
  },
  {
   "cell_type": "markdown",
   "id": "9f30340b",
   "metadata": {},
   "source": [
    "### 4. Running the model"
   ]
  },
  {
   "cell_type": "code",
   "execution_count": 11,
   "id": "ae2d9d7f",
   "metadata": {},
   "outputs": [],
   "source": [
    "# Initialize the model\n",
    "model.initialize(str(cfg_file))  # This conversion to string shouldn't be necessary"
   ]
  },
  {
   "cell_type": "code",
   "execution_count": 12,
   "id": "5b9f26c9",
   "metadata": {},
   "outputs": [
    {
     "data": {
      "text/plain": [
       "array([-999., -999., -999., ..., -999., -999., -999.])"
      ]
     },
     "execution_count": 12,
     "metadata": {},
     "output_type": "execute_result"
    }
   ],
   "source": [
    "# Inspect the initial values for RiverRunoff\n",
    "model.get_value(\"RiverRunoff\")  # WFlow interally uses a fill-value for masked data of -999"
   ]
  },
  {
   "cell_type": "code",
   "execution_count": 13,
   "id": "ee3ba7c5",
   "metadata": {
    "tags": []
   },
   "outputs": [
    {
     "data": {
      "text/html": [
       "<div><svg style=\"position: absolute; width: 0; height: 0; overflow: hidden\">\n",
       "<defs>\n",
       "<symbol id=\"icon-database\" viewBox=\"0 0 32 32\">\n",
       "<path d=\"M16 0c-8.837 0-16 2.239-16 5v4c0 2.761 7.163 5 16 5s16-2.239 16-5v-4c0-2.761-7.163-5-16-5z\"></path>\n",
       "<path d=\"M16 17c-8.837 0-16-2.239-16-5v6c0 2.761 7.163 5 16 5s16-2.239 16-5v-6c0 2.761-7.163 5-16 5z\"></path>\n",
       "<path d=\"M16 26c-8.837 0-16-2.239-16-5v6c0 2.761 7.163 5 16 5s16-2.239 16-5v-6c0 2.761-7.163 5-16 5z\"></path>\n",
       "</symbol>\n",
       "<symbol id=\"icon-file-text2\" viewBox=\"0 0 32 32\">\n",
       "<path d=\"M28.681 7.159c-0.694-0.947-1.662-2.053-2.724-3.116s-2.169-2.030-3.116-2.724c-1.612-1.182-2.393-1.319-2.841-1.319h-15.5c-1.378 0-2.5 1.121-2.5 2.5v27c0 1.378 1.122 2.5 2.5 2.5h23c1.378 0 2.5-1.122 2.5-2.5v-19.5c0-0.448-0.137-1.23-1.319-2.841zM24.543 5.457c0.959 0.959 1.712 1.825 2.268 2.543h-4.811v-4.811c0.718 0.556 1.584 1.309 2.543 2.268zM28 29.5c0 0.271-0.229 0.5-0.5 0.5h-23c-0.271 0-0.5-0.229-0.5-0.5v-27c0-0.271 0.229-0.5 0.5-0.5 0 0 15.499-0 15.5 0v7c0 0.552 0.448 1 1 1h7v19.5z\"></path>\n",
       "<path d=\"M23 26h-14c-0.552 0-1-0.448-1-1s0.448-1 1-1h14c0.552 0 1 0.448 1 1s-0.448 1-1 1z\"></path>\n",
       "<path d=\"M23 22h-14c-0.552 0-1-0.448-1-1s0.448-1 1-1h14c0.552 0 1 0.448 1 1s-0.448 1-1 1z\"></path>\n",
       "<path d=\"M23 18h-14c-0.552 0-1-0.448-1-1s0.448-1 1-1h14c0.552 0 1 0.448 1 1s-0.448 1-1 1z\"></path>\n",
       "</symbol>\n",
       "</defs>\n",
       "</svg>\n",
       "<style>/* CSS stylesheet for displaying xarray objects in jupyterlab.\n",
       " *\n",
       " */\n",
       "\n",
       ":root {\n",
       "  --xr-font-color0: var(--jp-content-font-color0, rgba(0, 0, 0, 1));\n",
       "  --xr-font-color2: var(--jp-content-font-color2, rgba(0, 0, 0, 0.54));\n",
       "  --xr-font-color3: var(--jp-content-font-color3, rgba(0, 0, 0, 0.38));\n",
       "  --xr-border-color: var(--jp-border-color2, #e0e0e0);\n",
       "  --xr-disabled-color: var(--jp-layout-color3, #bdbdbd);\n",
       "  --xr-background-color: var(--jp-layout-color0, white);\n",
       "  --xr-background-color-row-even: var(--jp-layout-color1, white);\n",
       "  --xr-background-color-row-odd: var(--jp-layout-color2, #eeeeee);\n",
       "}\n",
       "\n",
       "html[theme=dark],\n",
       "body.vscode-dark {\n",
       "  --xr-font-color0: rgba(255, 255, 255, 1);\n",
       "  --xr-font-color2: rgba(255, 255, 255, 0.54);\n",
       "  --xr-font-color3: rgba(255, 255, 255, 0.38);\n",
       "  --xr-border-color: #1F1F1F;\n",
       "  --xr-disabled-color: #515151;\n",
       "  --xr-background-color: #111111;\n",
       "  --xr-background-color-row-even: #111111;\n",
       "  --xr-background-color-row-odd: #313131;\n",
       "}\n",
       "\n",
       ".xr-wrap {\n",
       "  display: block;\n",
       "  min-width: 300px;\n",
       "  max-width: 700px;\n",
       "}\n",
       "\n",
       ".xr-text-repr-fallback {\n",
       "  /* fallback to plain text repr when CSS is not injected (untrusted notebook) */\n",
       "  display: none;\n",
       "}\n",
       "\n",
       ".xr-header {\n",
       "  padding-top: 6px;\n",
       "  padding-bottom: 6px;\n",
       "  margin-bottom: 4px;\n",
       "  border-bottom: solid 1px var(--xr-border-color);\n",
       "}\n",
       "\n",
       ".xr-header > div,\n",
       ".xr-header > ul {\n",
       "  display: inline;\n",
       "  margin-top: 0;\n",
       "  margin-bottom: 0;\n",
       "}\n",
       "\n",
       ".xr-obj-type,\n",
       ".xr-array-name {\n",
       "  margin-left: 2px;\n",
       "  margin-right: 10px;\n",
       "}\n",
       "\n",
       ".xr-obj-type {\n",
       "  color: var(--xr-font-color2);\n",
       "}\n",
       "\n",
       ".xr-sections {\n",
       "  padding-left: 0 !important;\n",
       "  display: grid;\n",
       "  grid-template-columns: 150px auto auto 1fr 20px 20px;\n",
       "}\n",
       "\n",
       ".xr-section-item {\n",
       "  display: contents;\n",
       "}\n",
       "\n",
       ".xr-section-item input {\n",
       "  display: none;\n",
       "}\n",
       "\n",
       ".xr-section-item input + label {\n",
       "  color: var(--xr-disabled-color);\n",
       "}\n",
       "\n",
       ".xr-section-item input:enabled + label {\n",
       "  cursor: pointer;\n",
       "  color: var(--xr-font-color2);\n",
       "}\n",
       "\n",
       ".xr-section-item input:enabled + label:hover {\n",
       "  color: var(--xr-font-color0);\n",
       "}\n",
       "\n",
       ".xr-section-summary {\n",
       "  grid-column: 1;\n",
       "  color: var(--xr-font-color2);\n",
       "  font-weight: 500;\n",
       "}\n",
       "\n",
       ".xr-section-summary > span {\n",
       "  display: inline-block;\n",
       "  padding-left: 0.5em;\n",
       "}\n",
       "\n",
       ".xr-section-summary-in:disabled + label {\n",
       "  color: var(--xr-font-color2);\n",
       "}\n",
       "\n",
       ".xr-section-summary-in + label:before {\n",
       "  display: inline-block;\n",
       "  content: '►';\n",
       "  font-size: 11px;\n",
       "  width: 15px;\n",
       "  text-align: center;\n",
       "}\n",
       "\n",
       ".xr-section-summary-in:disabled + label:before {\n",
       "  color: var(--xr-disabled-color);\n",
       "}\n",
       "\n",
       ".xr-section-summary-in:checked + label:before {\n",
       "  content: '▼';\n",
       "}\n",
       "\n",
       ".xr-section-summary-in:checked + label > span {\n",
       "  display: none;\n",
       "}\n",
       "\n",
       ".xr-section-summary,\n",
       ".xr-section-inline-details {\n",
       "  padding-top: 4px;\n",
       "  padding-bottom: 4px;\n",
       "}\n",
       "\n",
       ".xr-section-inline-details {\n",
       "  grid-column: 2 / -1;\n",
       "}\n",
       "\n",
       ".xr-section-details {\n",
       "  display: none;\n",
       "  grid-column: 1 / -1;\n",
       "  margin-bottom: 5px;\n",
       "}\n",
       "\n",
       ".xr-section-summary-in:checked ~ .xr-section-details {\n",
       "  display: contents;\n",
       "}\n",
       "\n",
       ".xr-array-wrap {\n",
       "  grid-column: 1 / -1;\n",
       "  display: grid;\n",
       "  grid-template-columns: 20px auto;\n",
       "}\n",
       "\n",
       ".xr-array-wrap > label {\n",
       "  grid-column: 1;\n",
       "  vertical-align: top;\n",
       "}\n",
       "\n",
       ".xr-preview {\n",
       "  color: var(--xr-font-color3);\n",
       "}\n",
       "\n",
       ".xr-array-preview,\n",
       ".xr-array-data {\n",
       "  padding: 0 5px !important;\n",
       "  grid-column: 2;\n",
       "}\n",
       "\n",
       ".xr-array-data,\n",
       ".xr-array-in:checked ~ .xr-array-preview {\n",
       "  display: none;\n",
       "}\n",
       "\n",
       ".xr-array-in:checked ~ .xr-array-data,\n",
       ".xr-array-preview {\n",
       "  display: inline-block;\n",
       "}\n",
       "\n",
       ".xr-dim-list {\n",
       "  display: inline-block !important;\n",
       "  list-style: none;\n",
       "  padding: 0 !important;\n",
       "  margin: 0;\n",
       "}\n",
       "\n",
       ".xr-dim-list li {\n",
       "  display: inline-block;\n",
       "  padding: 0;\n",
       "  margin: 0;\n",
       "}\n",
       "\n",
       ".xr-dim-list:before {\n",
       "  content: '(';\n",
       "}\n",
       "\n",
       ".xr-dim-list:after {\n",
       "  content: ')';\n",
       "}\n",
       "\n",
       ".xr-dim-list li:not(:last-child):after {\n",
       "  content: ',';\n",
       "  padding-right: 5px;\n",
       "}\n",
       "\n",
       ".xr-has-index {\n",
       "  font-weight: bold;\n",
       "}\n",
       "\n",
       ".xr-var-list,\n",
       ".xr-var-item {\n",
       "  display: contents;\n",
       "}\n",
       "\n",
       ".xr-var-item > div,\n",
       ".xr-var-item label,\n",
       ".xr-var-item > .xr-var-name span {\n",
       "  background-color: var(--xr-background-color-row-even);\n",
       "  margin-bottom: 0;\n",
       "}\n",
       "\n",
       ".xr-var-item > .xr-var-name:hover span {\n",
       "  padding-right: 5px;\n",
       "}\n",
       "\n",
       ".xr-var-list > li:nth-child(odd) > div,\n",
       ".xr-var-list > li:nth-child(odd) > label,\n",
       ".xr-var-list > li:nth-child(odd) > .xr-var-name span {\n",
       "  background-color: var(--xr-background-color-row-odd);\n",
       "}\n",
       "\n",
       ".xr-var-name {\n",
       "  grid-column: 1;\n",
       "}\n",
       "\n",
       ".xr-var-dims {\n",
       "  grid-column: 2;\n",
       "}\n",
       "\n",
       ".xr-var-dtype {\n",
       "  grid-column: 3;\n",
       "  text-align: right;\n",
       "  color: var(--xr-font-color2);\n",
       "}\n",
       "\n",
       ".xr-var-preview {\n",
       "  grid-column: 4;\n",
       "}\n",
       "\n",
       ".xr-var-name,\n",
       ".xr-var-dims,\n",
       ".xr-var-dtype,\n",
       ".xr-preview,\n",
       ".xr-attrs dt {\n",
       "  white-space: nowrap;\n",
       "  overflow: hidden;\n",
       "  text-overflow: ellipsis;\n",
       "  padding-right: 10px;\n",
       "}\n",
       "\n",
       ".xr-var-name:hover,\n",
       ".xr-var-dims:hover,\n",
       ".xr-var-dtype:hover,\n",
       ".xr-attrs dt:hover {\n",
       "  overflow: visible;\n",
       "  width: auto;\n",
       "  z-index: 1;\n",
       "}\n",
       "\n",
       ".xr-var-attrs,\n",
       ".xr-var-data {\n",
       "  display: none;\n",
       "  background-color: var(--xr-background-color) !important;\n",
       "  padding-bottom: 5px !important;\n",
       "}\n",
       "\n",
       ".xr-var-attrs-in:checked ~ .xr-var-attrs,\n",
       ".xr-var-data-in:checked ~ .xr-var-data {\n",
       "  display: block;\n",
       "}\n",
       "\n",
       ".xr-var-data > table {\n",
       "  float: right;\n",
       "}\n",
       "\n",
       ".xr-var-name span,\n",
       ".xr-var-data,\n",
       ".xr-attrs {\n",
       "  padding-left: 25px !important;\n",
       "}\n",
       "\n",
       ".xr-attrs,\n",
       ".xr-var-attrs,\n",
       ".xr-var-data {\n",
       "  grid-column: 1 / -1;\n",
       "}\n",
       "\n",
       "dl.xr-attrs {\n",
       "  padding: 0;\n",
       "  margin: 0;\n",
       "  display: grid;\n",
       "  grid-template-columns: 125px auto;\n",
       "}\n",
       "\n",
       ".xr-attrs dt,\n",
       ".xr-attrs dd {\n",
       "  padding: 0;\n",
       "  margin: 0;\n",
       "  float: left;\n",
       "  padding-right: 10px;\n",
       "  width: auto;\n",
       "}\n",
       "\n",
       ".xr-attrs dt {\n",
       "  font-weight: normal;\n",
       "  grid-column: 1;\n",
       "}\n",
       "\n",
       ".xr-attrs dt:hover span {\n",
       "  display: inline-block;\n",
       "  background: var(--xr-background-color);\n",
       "  padding-right: 10px;\n",
       "}\n",
       "\n",
       ".xr-attrs dd {\n",
       "  grid-column: 2;\n",
       "  white-space: pre-wrap;\n",
       "  word-break: break-all;\n",
       "}\n",
       "\n",
       ".xr-icon-database,\n",
       ".xr-icon-file-text2 {\n",
       "  display: inline-block;\n",
       "  vertical-align: middle;\n",
       "  width: 1em;\n",
       "  height: 1.5em !important;\n",
       "  stroke-width: 0;\n",
       "  stroke: currentColor;\n",
       "  fill: currentColor;\n",
       "}\n",
       "</style><pre class='xr-text-repr-fallback'>&lt;xarray.DataArray &#x27;RiverRunoff&#x27; (latitude: 169, longitude: 187)&gt;\n",
       "array([[nan, nan, nan, ..., nan, nan, nan],\n",
       "       [nan, nan, nan, ..., nan, nan, nan],\n",
       "       [nan, nan, nan, ..., nan, nan, nan],\n",
       "       ...,\n",
       "       [nan, nan, nan, ..., nan, nan, nan],\n",
       "       [nan, nan, nan, ..., nan, nan, nan],\n",
       "       [nan, nan, nan, ..., nan, nan, nan]])\n",
       "Coordinates:\n",
       "  * longitude  (longitude) float64 5.227 5.264 5.3 5.337 ... 11.97 12.01 12.05\n",
       "  * latitude   (latitude) float64 45.89 45.93 45.97 46.0 ... 51.98 52.02 52.05\n",
       "    time       object 1990-12-31 00:00:00\n",
       "Attributes:\n",
       "    units:     m/s</pre><div class='xr-wrap' hidden><div class='xr-header'><div class='xr-obj-type'>xarray.DataArray</div><div class='xr-array-name'>'RiverRunoff'</div><ul class='xr-dim-list'><li><span class='xr-has-index'>latitude</span>: 169</li><li><span class='xr-has-index'>longitude</span>: 187</li></ul></div><ul class='xr-sections'><li class='xr-section-item'><div class='xr-array-wrap'><input id='section-ae2a036e-73ee-470c-a410-931de0bc3a0e' class='xr-array-in' type='checkbox' checked><label for='section-ae2a036e-73ee-470c-a410-931de0bc3a0e' title='Show/hide data repr'><svg class='icon xr-icon-database'><use xlink:href='#icon-database'></use></svg></label><div class='xr-array-preview xr-preview'><span>nan nan nan nan nan nan nan nan ... nan nan nan nan nan nan nan nan</span></div><div class='xr-array-data'><pre>array([[nan, nan, nan, ..., nan, nan, nan],\n",
       "       [nan, nan, nan, ..., nan, nan, nan],\n",
       "       [nan, nan, nan, ..., nan, nan, nan],\n",
       "       ...,\n",
       "       [nan, nan, nan, ..., nan, nan, nan],\n",
       "       [nan, nan, nan, ..., nan, nan, nan],\n",
       "       [nan, nan, nan, ..., nan, nan, nan]])</pre></div></div></li><li class='xr-section-item'><input id='section-e51cdccc-4d40-4bec-a471-23429dccf9ed' class='xr-section-summary-in' type='checkbox'  checked><label for='section-e51cdccc-4d40-4bec-a471-23429dccf9ed' class='xr-section-summary' >Coordinates: <span>(3)</span></label><div class='xr-section-inline-details'></div><div class='xr-section-details'><ul class='xr-var-list'><li class='xr-var-item'><div class='xr-var-name'><span class='xr-has-index'>longitude</span></div><div class='xr-var-dims'>(longitude)</div><div class='xr-var-dtype'>float64</div><div class='xr-var-preview xr-preview'>5.227 5.264 5.3 ... 12.01 12.05</div><input id='attrs-19d6eeff-69ef-4fa3-a823-42b73ca2f807' class='xr-var-attrs-in' type='checkbox' disabled><label for='attrs-19d6eeff-69ef-4fa3-a823-42b73ca2f807' title='Show/Hide attributes'><svg class='icon xr-icon-file-text2'><use xlink:href='#icon-file-text2'></use></svg></label><input id='data-4554e819-1667-4782-a4d9-931715522749' class='xr-var-data-in' type='checkbox'><label for='data-4554e819-1667-4782-a4d9-931715522749' title='Show/Hide data repr'><svg class='icon xr-icon-database'><use xlink:href='#icon-database'></use></svg></label><div class='xr-var-attrs'><dl class='xr-attrs'></dl></div><div class='xr-var-data'><pre>array([ 5.227163,  5.26383 ,  5.300497,  5.337163,  5.37383 ,  5.410497,\n",
       "        5.447163,  5.48383 ,  5.520497,  5.557163,  5.59383 ,  5.630497,\n",
       "        5.667163,  5.70383 ,  5.740497,  5.777164,  5.81383 ,  5.850497,\n",
       "        5.887163,  5.92383 ,  5.960497,  5.997163,  6.03383 ,  6.070497,\n",
       "        6.107163,  6.14383 ,  6.180497,  6.217164,  6.25383 ,  6.290497,\n",
       "        6.327163,  6.36383 ,  6.400496,  6.437163,  6.47383 ,  6.510497,\n",
       "        6.547163,  6.58383 ,  6.620497,  6.657163,  6.69383 ,  6.730497,\n",
       "        6.767163,  6.80383 ,  6.840497,  6.877163,  6.91383 ,  6.950497,\n",
       "        6.987164,  7.02383 ,  7.060497,  7.097163,  7.13383 ,  7.170496,\n",
       "        7.207163,  7.24383 ,  7.280497,  7.317163,  7.35383 ,  7.390497,\n",
       "        7.427163,  7.46383 ,  7.500497,  7.537163,  7.57383 ,  7.610497,\n",
       "        7.647163,  7.68383 ,  7.720497,  7.757164,  7.79383 ,  7.830497,\n",
       "        7.867163,  7.90383 ,  7.940496,  7.977163,  8.01383 ,  8.050497,\n",
       "        8.087163,  8.12383 ,  8.160497,  8.197164,  8.23383 ,  8.270496,\n",
       "        8.307163,  8.34383 ,  8.380497,  8.417163,  8.45383 ,  8.490497,\n",
       "        8.527164,  8.56383 ,  8.600496,  8.637163,  8.67383 ,  8.710497,\n",
       "        8.747164,  8.78383 ,  8.820497,  8.857163,  8.89383 ,  8.930496,\n",
       "        8.967163,  9.00383 ,  9.040497,  9.077164,  9.11383 ,  9.150496,\n",
       "        9.187163,  9.22383 ,  9.260497,  9.297163,  9.33383 ,  9.370497,\n",
       "        9.407164,  9.44383 ,  9.480496,  9.517163,  9.55383 ,  9.590497,\n",
       "        9.627163,  9.66383 ,  9.700497,  9.737164,  9.77383 ,  9.810496,\n",
       "        9.847163,  9.88383 ,  9.920497,  9.957163,  9.99383 , 10.030497,\n",
       "       10.067163, 10.10383 , 10.140496, 10.177163, 10.21383 , 10.250497,\n",
       "       10.287164, 10.32383 , 10.360497, 10.397163, 10.43383 , 10.470497,\n",
       "       10.507163, 10.54383 , 10.580497, 10.617164, 10.65383 , 10.690496,\n",
       "       10.727163, 10.76383 , 10.800497, 10.837163, 10.87383 , 10.910497,\n",
       "       10.947164, 10.98383 , 11.020496, 11.057163, 11.09383 , 11.130497,\n",
       "       11.167163, 11.20383 , 11.240497, 11.277164, 11.31383 , 11.350496,\n",
       "       11.387163, 11.42383 , 11.460497, 11.497164, 11.53383 , 11.570497,\n",
       "       11.607163, 11.64383 , 11.680496, 11.717163, 11.75383 , 11.790497,\n",
       "       11.827164, 11.86383 , 11.900496, 11.937163, 11.97383 , 12.010497,\n",
       "       12.047163])</pre></div></li><li class='xr-var-item'><div class='xr-var-name'><span class='xr-has-index'>latitude</span></div><div class='xr-var-dims'>(latitude)</div><div class='xr-var-dtype'>float64</div><div class='xr-var-preview xr-preview'>45.89 45.93 45.97 ... 52.02 52.05</div><input id='attrs-48c9aea0-b192-4e0c-b44d-f638cd5a3488' class='xr-var-attrs-in' type='checkbox' disabled><label for='attrs-48c9aea0-b192-4e0c-b44d-f638cd5a3488' title='Show/Hide attributes'><svg class='icon xr-icon-file-text2'><use xlink:href='#icon-file-text2'></use></svg></label><input id='data-61c0e9a9-36e8-4ef7-b4bd-876df0dea403' class='xr-var-data-in' type='checkbox'><label for='data-61c0e9a9-36e8-4ef7-b4bd-876df0dea403' title='Show/Hide data repr'><svg class='icon xr-icon-database'><use xlink:href='#icon-database'></use></svg></label><div class='xr-var-attrs'><dl class='xr-attrs'></dl></div><div class='xr-var-data'><pre>array([45.894268, 45.930935, 45.967602, 46.004265, 46.040932, 46.077599,\n",
       "       46.114265, 46.150932, 46.187599, 46.224266, 46.260933, 46.2976  ,\n",
       "       46.334267, 46.370934, 46.4076  , 46.444267, 46.480934, 46.517601,\n",
       "       46.554268, 46.590935, 46.627602, 46.664268, 46.700932, 46.737598,\n",
       "       46.774265, 46.810932, 46.847599, 46.884266, 46.920933, 46.9576  ,\n",
       "       46.994267, 47.030933, 47.0676  , 47.104267, 47.140934, 47.177601,\n",
       "       47.214268, 47.250935, 47.287601, 47.324268, 47.360935, 47.397598,\n",
       "       47.434265, 47.470932, 47.507599, 47.544266, 47.580933, 47.617599,\n",
       "       47.654266, 47.690933, 47.7276  , 47.764267, 47.800934, 47.837601,\n",
       "       47.874268, 47.910934, 47.947601, 47.984268, 48.020935, 48.057598,\n",
       "       48.094265, 48.130932, 48.167599, 48.204266, 48.240932, 48.277599,\n",
       "       48.314266, 48.350933, 48.3876  , 48.424267, 48.460934, 48.497601,\n",
       "       48.534267, 48.570934, 48.607601, 48.644268, 48.680935, 48.717602,\n",
       "       48.754265, 48.790932, 48.827599, 48.864265, 48.900932, 48.937599,\n",
       "       48.974266, 49.010933, 49.0476  , 49.084267, 49.120934, 49.1576  ,\n",
       "       49.194267, 49.230934, 49.267601, 49.304268, 49.340935, 49.377602,\n",
       "       49.414268, 49.450932, 49.487598, 49.524265, 49.560932, 49.597599,\n",
       "       49.634266, 49.670933, 49.7076  , 49.744267, 49.780933, 49.8176  ,\n",
       "       49.854267, 49.890934, 49.927601, 49.964268, 50.000935, 50.037601,\n",
       "       50.074268, 50.110935, 50.147598, 50.184265, 50.220932, 50.257599,\n",
       "       50.294266, 50.330933, 50.367599, 50.404266, 50.440933, 50.4776  ,\n",
       "       50.514267, 50.550934, 50.587601, 50.624268, 50.660934, 50.697601,\n",
       "       50.734268, 50.770935, 50.807598, 50.844265, 50.880932, 50.917599,\n",
       "       50.954266, 50.990932, 51.027599, 51.064266, 51.100933, 51.1376  ,\n",
       "       51.174267, 51.210934, 51.247601, 51.284267, 51.320934, 51.357601,\n",
       "       51.394268, 51.430935, 51.467602, 51.504265, 51.540932, 51.577599,\n",
       "       51.614265, 51.650932, 51.687599, 51.724266, 51.760933, 51.7976  ,\n",
       "       51.834267, 51.870934, 51.9076  , 51.944267, 51.980934, 52.017601,\n",
       "       52.054268])</pre></div></li><li class='xr-var-item'><div class='xr-var-name'><span>time</span></div><div class='xr-var-dims'>()</div><div class='xr-var-dtype'>object</div><div class='xr-var-preview xr-preview'>1990-12-31 00:00:00</div><input id='attrs-823af327-5ea6-457a-806c-0641e967fb4c' class='xr-var-attrs-in' type='checkbox' disabled><label for='attrs-823af327-5ea6-457a-806c-0641e967fb4c' title='Show/Hide attributes'><svg class='icon xr-icon-file-text2'><use xlink:href='#icon-file-text2'></use></svg></label><input id='data-fb26df28-f148-4e12-b034-268d722532f3' class='xr-var-data-in' type='checkbox'><label for='data-fb26df28-f148-4e12-b034-268d722532f3' title='Show/Hide data repr'><svg class='icon xr-icon-database'><use xlink:href='#icon-database'></use></svg></label><div class='xr-var-attrs'><dl class='xr-attrs'></dl></div><div class='xr-var-data'><pre>array(cftime.DatetimeGregorian(1990, 12, 31, 0, 0, 0, 0), dtype=object)</pre></div></li></ul></div></li><li class='xr-section-item'><input id='section-88d101dd-fcbc-4fc7-b9ef-63619f63f523' class='xr-section-summary-in' type='checkbox'  checked><label for='section-88d101dd-fcbc-4fc7-b9ef-63619f63f523' class='xr-section-summary' >Attributes: <span>(1)</span></label><div class='xr-section-inline-details'></div><div class='xr-section-details'><dl class='xr-attrs'><dt><span>units :</span></dt><dd> m/s</dd></dl></div></li></ul></div></div>"
      ],
      "text/plain": [
       "<xarray.DataArray 'RiverRunoff' (latitude: 169, longitude: 187)>\n",
       "array([[nan, nan, nan, ..., nan, nan, nan],\n",
       "       [nan, nan, nan, ..., nan, nan, nan],\n",
       "       [nan, nan, nan, ..., nan, nan, nan],\n",
       "       ...,\n",
       "       [nan, nan, nan, ..., nan, nan, nan],\n",
       "       [nan, nan, nan, ..., nan, nan, nan],\n",
       "       [nan, nan, nan, ..., nan, nan, nan]])\n",
       "Coordinates:\n",
       "  * longitude  (longitude) float64 5.227 5.264 5.3 5.337 ... 11.97 12.01 12.05\n",
       "  * latitude   (latitude) float64 45.89 45.93 45.97 46.0 ... 51.98 52.02 52.05\n",
       "    time       object 1990-12-31 00:00:00\n",
       "Attributes:\n",
       "    units:     m/s"
      ]
     },
     "execution_count": 13,
     "metadata": {},
     "output_type": "execute_result"
    }
   ],
   "source": [
    "# You can also view get the data as xarray data-array\n",
    "model.get_value_as_xarray(\"RiverRunoff\")  # this automatically converts the -999 values to NaN"
   ]
  },
  {
   "cell_type": "code",
   "execution_count": 14,
   "id": "43d6068a",
   "metadata": {},
   "outputs": [
    {
     "name": "stdout",
     "output_type": "stream",
     "text": [
      "662601600.0\n",
      "662688000.0\n",
      "662774400.0\n",
      "662860800.0\n",
      "662947200.0\n",
      "663033600.0\n",
      "663120000.0\n",
      "663206400.0\n",
      "663292800.0\n",
      "663379200.0\n",
      "663465600.0\n",
      "663552000.0\n",
      "663638400.0\n",
      "663724800.0\n",
      "663811200.0\n",
      "663897600.0\n",
      "663984000.0\n",
      "664070400.0\n",
      "664156800.0\n",
      "664243200.0\n",
      "664329600.0\n",
      "664416000.0\n",
      "664502400.0\n",
      "664588800.0\n",
      "664675200.0\n",
      "664761600.0\n",
      "664848000.0\n",
      "664934400.0\n",
      "665020800.0\n",
      "665107200.0\n",
      "665193600.0\n",
      "665280000.0\n",
      "665366400.0\n",
      "665452800.0\n",
      "665539200.0\n",
      "665625600.0\n",
      "665712000.0\n",
      "665798400.0\n",
      "665884800.0\n",
      "665971200.0\n",
      "666057600.0\n",
      "666144000.0\n",
      "666230400.0\n",
      "666316800.0\n",
      "666403200.0\n",
      "666489600.0\n",
      "666576000.0\n",
      "666662400.0\n",
      "666748800.0\n",
      "666835200.0\n",
      "666921600.0\n",
      "667008000.0\n",
      "667094400.0\n",
      "667180800.0\n",
      "667267200.0\n",
      "667353600.0\n",
      "667440000.0\n",
      "667526400.0\n",
      "667612800.0\n"
     ]
    }
   ],
   "source": [
    "# Run the model until complete\n",
    "while model.time < model.end_time:\n",
    "    print(model.time)\n",
    "    model.update()"
   ]
  },
  {
   "cell_type": "code",
   "execution_count": 15,
   "id": "0d9b1f3c",
   "metadata": {},
   "outputs": [
    {
     "data": {
      "text/plain": [
       "array([200.80599976,  44.62182236,   0.        ])"
      ]
     },
     "execution_count": 15,
     "metadata": {},
     "output_type": "execute_result"
    },
    {
     "data": {
      "image/png": "[encoded data removed]",
      "text/plain": [
       "<Figure size 720x576 with 2 Axes>"
      ]
     },
     "metadata": {
      "needs_background": "light"
     },
     "output_type": "display_data"
    }
   ],
   "source": [
    "# Get the final output and create a simple plot\n",
    "da = model.get_value_as_xarray(\"RiverRunoff\")\n",
    "qm = da.plot(robust=True, cmap='GnBu', figsize=(10, 8))\n",
    "\n",
    "# Add some crosses to check that 'get_value_at_coords' works correctly below\n",
    "qm.axes.scatter([8.4, 10, 11], [50, 50.15, 49], s=250, c='r', marker='x', lw=2)\n",
    "model.get_value_at_coords('RiverRunoff', lon=[8.4, 10, 11,], lat=[50, 50.15, 49])"
   ]
  },
  {
   "cell_type": "code",
   "execution_count": 16,
   "id": "ce111800",
   "metadata": {},
   "outputs": [],
   "source": [
    "# Cleaning up\n",
    "model.finalize()"
   ]
  }
 ],
 "metadata": {
  "kernelspec": {
   "display_name": "Python 3",
   "language": "python",
   "name": "python3"
  },
  "language_info": {
   "codemirror_mode": {
    "name": "ipython",
    "version": 3
   },
   "file_extension": ".py",
   "mimetype": "text/x-python",
   "name": "python",
   "nbconvert_exporter": "python",
   "pygments_lexer": "ipython3",
   "version": "3.9.2"
  }
 },
 "nbformat": 4,
 "nbformat_minor": 5
}
