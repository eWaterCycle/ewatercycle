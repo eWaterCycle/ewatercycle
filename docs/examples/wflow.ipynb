{
 "cells": [
  {
   "cell_type": "markdown",
   "id": "5882ae11",
   "metadata": {},
   "source": [
    "![image](https://github.com/eWaterCycle/ewatercycle/raw/main/docs/examples/logo.png)\n",
    "\n",
    "# Running Wflow using the ewatercycle system\n",
    "\n",
    "This notebooks shows how to run [Wflow](https://wflow.readthedocs.io/en/latest/) model using an example use-case. More information about data, configuration and installation instructions can be found in the [System setup](https://ewatercycle.readthedocs.io/en/latest/system_setup.html) chapter in the eWaterCycle documentation."
   ]
  },
  {
   "cell_type": "code",
   "execution_count": 1,
   "id": "b425dfa7",
   "metadata": {},
   "outputs": [],
   "source": [
    "import warnings\n",
    "warnings.filterwarnings(\"ignore\", category=UserWarning)\n",
    "import logging\n",
    "logging.basicConfig(level=logging.WARN)\n",
    "\n",
    "import ewatercycle.forcing\n",
    "import ewatercycle.models\n",
    "import ewatercycle.parameter_sets"
   ]
  },
  {
   "cell_type": "markdown",
   "id": "7139ff04",
   "metadata": {},
   "source": [
    "## Setting up the model\n",
    "\n",
    "The model needs a parameter set and forcing. The parameter set can be gotten from the available parameters sets on the system and the forcing can derived from the parameter set."
   ]
  },
  {
   "cell_type": "code",
   "execution_count": 2,
   "id": "55ab30af",
   "metadata": {},
   "outputs": [
    {
     "name": "stdout",
     "output_type": "stream",
     "text": [
      "Parameter set\n",
      "-------------\n",
      "name=wflow_rhine_sbm_nc\n",
      "directory=/home/verhoes/git/eWaterCycle/ewatercycle/docs/examples/parameter-sets/wflow_rhine_sbm_nc\n",
      "config=/home/verhoes/git/eWaterCycle/ewatercycle/docs/examples/parameter-sets/wflow_rhine_sbm_nc/wflow_sbm_NC.ini\n",
      "doi=N/A\n",
      "target_model=wflow\n",
      "supported_model_versions={'2020.1.1'}\n"
     ]
    }
   ],
   "source": [
    "parameter_set = ewatercycle.parameter_sets.get_parameter_set('wflow_rhine_sbm_nc')\n",
    "print(parameter_set)"
   ]
  },
  {
   "cell_type": "code",
   "execution_count": 3,
   "id": "877e4dd0",
   "metadata": {},
   "outputs": [
    {
     "name": "stdout",
     "output_type": "stream",
     "text": [
      "Forcing data for Wflow\n",
      "----------------------\n",
      "Directory: /home/verhoes/git/eWaterCycle/ewatercycle/docs/examples/parameter-sets/wflow_rhine_sbm_nc\n",
      "Start time: 1991-01-01T00:00:00Z\n",
      "End time: 1991-12-31T00:00:00Z\n",
      "Shapefile: None\n",
      "Additional information for model config:\n",
      "  - netcdfinput: inmaps.nc\n",
      "  - Precipitation: /P\n",
      "  - Temperature: /TEMP\n",
      "  - EvapoTranspiration: /PET\n",
      "  - Inflow: None\n"
     ]
    }
   ],
   "source": [
    "forcing = ewatercycle.forcing.load_foreign(\n",
    "    directory = parameter_set.directory,\n",
    "    target_model = parameter_set.target_model,\n",
    "    start_time = '1991-01-01T00:00:00Z',\n",
    "    end_time = '1991-12-31T00:00:00Z',\n",
    "    forcing_info = dict(\n",
    "        # Additional information about the external forcing data needed for the model configuration\n",
    "        netcdfinput = \"inmaps.nc\",\n",
    "        Precipitation = \"/P\",\n",
    "        EvapoTranspiration = \"/PET\",\n",
    "        Temperature = \"/TEMP\"\n",
    "    )\n",
    ")\n",
    "print(forcing)"
   ]
  },
  {
   "cell_type": "markdown",
   "id": "2e036423-a541-408d-a8ae-4b2fa0bc9b3f",
   "metadata": {},
   "source": [
    "Pick a version of Wflow model, so the right model code can be executed which understands the parameter set and forcing."
   ]
  },
  {
   "cell_type": "code",
   "execution_count": 4,
   "id": "8356bdcc",
   "metadata": {},
   "outputs": [
    {
     "data": {
      "text/plain": [
       "('2020.1.1',)"
      ]
     },
     "execution_count": 4,
     "metadata": {},
     "output_type": "execute_result"
    }
   ],
   "source": [
    "ewatercycle.models.Wflow.available_versions"
   ]
  },
  {
   "cell_type": "code",
   "execution_count": 5,
   "id": "c008d891",
   "metadata": {},
   "outputs": [
    {
     "name": "stderr",
     "output_type": "stream",
     "text": [
      "WARNING:ewatercycle.models.wflow:Config file from parameter set is missing API section, adding section\n",
      "WARNING:ewatercycle.models.wflow:Config file from parameter set is missing RiverRunoff option in API section, added it with value '2, m/s option'\n"
     ]
    }
   ],
   "source": [
    "model = ewatercycle.models.Wflow(version='2020.1.1', parameter_set=parameter_set, forcing=forcing)"
   ]
  },
  {
   "cell_type": "code",
   "execution_count": 19,
   "id": "d65cb216-af74-4f24-ae52-3be3301fe674",
   "metadata": {},
   "outputs": [
    {
     "name": "stdout",
     "output_type": "stream",
     "text": [
      "eWaterCycle Wflow\n",
      "-------------------\n",
      "Version = 2020.1.1\n",
      "Parameter set = \n",
      "  Parameter set\n",
      "  -------------\n",
      "  name=wflow_rhine_sbm_nc\n",
      "  directory=/home/verhoes/git/eWaterCycle/ewatercycle/docs/examples/parameter-sets/wflow_rhine_sbm_nc\n",
      "  config=/home/verhoes/git/eWaterCycle/ewatercycle/docs/examples/parameter-sets/wflow_rhine_sbm_nc/wflow_sbm_NC.ini\n",
      "  doi=N/A\n",
      "  target_model=wflow\n",
      "  supported_model_versions={'2020.1.1'}\n",
      "Forcing = \n",
      "  Forcing data for Wflow\n",
      "  ----------------------\n",
      "  Directory: /home/verhoes/git/eWaterCycle/ewatercycle/docs/examples/parameter-sets/wflow_rhine_sbm_nc\n",
      "  Start time: 1991-01-01T00:00:00Z\n",
      "  End time: 1991-12-31T00:00:00Z\n",
      "  Shapefile: None\n",
      "  Additional information for model config:\n",
      "    - netcdfinput: inmaps.nc\n",
      "    - Precipitation: /P\n",
      "    - Temperature: /TEMP\n",
      "    - EvapoTranspiration: /PET\n",
      "    - Inflow: None\n"
     ]
    }
   ],
   "source": [
    "print(model)"
   ]
  },
  {
   "cell_type": "markdown",
   "id": "fc93599b-34f0-45db-82da-1a95b32d6301",
   "metadata": {},
   "source": [
    "The pre-configured parameters are shown below and can be overwritten with `setup()`"
   ]
  },
  {
   "cell_type": "code",
   "execution_count": 6,
   "id": "d3aaa50a",
   "metadata": {},
   "outputs": [
    {
     "data": {
      "text/plain": [
       "[('start_time', '1991-01-01T00:00:00Z'), ('end_time', '1991-12-31T00:00:00Z')]"
      ]
     },
     "execution_count": 6,
     "metadata": {},
     "output_type": "execute_result"
    }
   ],
   "source": [
    "model.parameters"
   ]
  },
  {
   "cell_type": "code",
   "execution_count": 7,
   "id": "7eb7c504",
   "metadata": {
    "tags": []
   },
   "outputs": [],
   "source": [
    "cfg_file, cfg_dir = model.setup(end_time=\"1991-02-28T00:00:00Z\")"
   ]
  },
  {
   "cell_type": "code",
   "execution_count": 8,
   "id": "7fc12d14",
   "metadata": {},
   "outputs": [
    {
     "name": "stdout",
     "output_type": "stream",
     "text": [
      "/home/verhoes/git/eWaterCycle/ewatercycle/docs/examples/output/wflow_20210714_073455/wflow_ewatercycle.ini\n",
      "/home/verhoes/git/eWaterCycle/ewatercycle/docs/examples/output/wflow_20210714_073455\n"
     ]
    }
   ],
   "source": [
    "print(cfg_file)\n",
    "print(cfg_dir)"
   ]
  },
  {
   "cell_type": "markdown",
   "id": "00144d17-178e-48e0-9675-35c9b510cc11",
   "metadata": {},
   "source": [
    "The config file can be edited, but for now we will initialize the model with the config file as is"
   ]
  },
  {
   "cell_type": "code",
   "execution_count": 9,
   "id": "ae2d9d7f",
   "metadata": {},
   "outputs": [],
   "source": [
    "model.initialize(cfg_file)"
   ]
  },
  {
   "cell_type": "markdown",
   "id": "9f30340b",
   "metadata": {},
   "source": [
    "## Running the model"
   ]
  },
  {
   "cell_type": "code",
   "execution_count": 10,
   "id": "43d6068a",
   "metadata": {},
   "outputs": [
    {
     "name": "stdout",
     "output_type": "stream",
     "text": [
      "1991-01-01T00:00:00Z\n",
      "1991-01-02T00:00:00Z\n",
      "1991-01-03T00:00:00Z\n",
      "1991-01-04T00:00:00Z\n",
      "1991-01-05T00:00:00Z\n",
      "1991-01-06T00:00:00Z\n",
      "1991-01-07T00:00:00Z\n",
      "1991-01-08T00:00:00Z\n",
      "1991-01-09T00:00:00Z\n",
      "1991-01-10T00:00:00Z\n",
      "1991-01-11T00:00:00Z\n",
      "1991-01-12T00:00:00Z\n",
      "1991-01-13T00:00:00Z\n",
      "1991-01-14T00:00:00Z\n",
      "1991-01-15T00:00:00Z\n",
      "1991-01-16T00:00:00Z\n",
      "1991-01-17T00:00:00Z\n",
      "1991-01-18T00:00:00Z\n",
      "1991-01-19T00:00:00Z\n",
      "1991-01-20T00:00:00Z\n",
      "1991-01-21T00:00:00Z\n",
      "1991-01-22T00:00:00Z\n",
      "1991-01-23T00:00:00Z\n",
      "1991-01-24T00:00:00Z\n",
      "1991-01-25T00:00:00Z\n",
      "1991-01-26T00:00:00Z\n",
      "1991-01-27T00:00:00Z\n",
      "1991-01-28T00:00:00Z\n",
      "1991-01-29T00:00:00Z\n",
      "1991-01-30T00:00:00Z\n",
      "1991-01-31T00:00:00Z\n",
      "1991-02-01T00:00:00Z\n",
      "1991-02-02T00:00:00Z\n",
      "1991-02-03T00:00:00Z\n",
      "1991-02-04T00:00:00Z\n",
      "1991-02-05T00:00:00Z\n",
      "1991-02-06T00:00:00Z\n",
      "1991-02-07T00:00:00Z\n",
      "1991-02-08T00:00:00Z\n",
      "1991-02-09T00:00:00Z\n",
      "1991-02-10T00:00:00Z\n",
      "1991-02-11T00:00:00Z\n",
      "1991-02-12T00:00:00Z\n",
      "1991-02-13T00:00:00Z\n",
      "1991-02-14T00:00:00Z\n",
      "1991-02-15T00:00:00Z\n",
      "1991-02-16T00:00:00Z\n",
      "1991-02-17T00:00:00Z\n",
      "1991-02-18T00:00:00Z\n",
      "1991-02-19T00:00:00Z\n",
      "1991-02-20T00:00:00Z\n",
      "1991-02-21T00:00:00Z\n",
      "1991-02-22T00:00:00Z\n",
      "1991-02-23T00:00:00Z\n",
      "1991-02-24T00:00:00Z\n",
      "1991-02-25T00:00:00Z\n",
      "1991-02-26T00:00:00Z\n",
      "1991-02-27T00:00:00Z\n",
      "1991-02-28T00:00:00Z\n"
     ]
    }
   ],
   "source": [
    "while model.time < model.end_time:\n",
    "    model.update()\n",
    "    print(model.time_as_isostr)"
   ]
  },
  {
   "cell_type": "markdown",
   "id": "abe9c7d8-aa47-4db9-a6c5-7ce9c300348d",
   "metadata": {},
   "source": [
    "## Inspect the results\n",
    "\n",
    "The RiverRunnoff values of the current model state can be fetched as a [xarray dataset](http://xarray.pydata.org/en/stable/user-guide/data-structures.html#dataset)."
   ]
  },
  {
   "cell_type": "code",
   "execution_count": 14,
   "id": "2562be8f-91dc-4ab1-a591-eb8705882492",
   "metadata": {},
   "outputs": [
    {
     "data": {
      "text/html": [
       "<div><svg style=\"position: absolute; width: 0; height: 0; overflow: hidden\">\n",
       "<defs>\n",
       "<symbol id=\"icon-database\" viewBox=\"0 0 32 32\">\n",
       "<path d=\"M16 0c-8.837 0-16 2.239-16 5v4c0 2.761 7.163 5 16 5s16-2.239 16-5v-4c0-2.761-7.163-5-16-5z\"></path>\n",
       "<path d=\"M16 17c-8.837 0-16-2.239-16-5v6c0 2.761 7.163 5 16 5s16-2.239 16-5v-6c0 2.761-7.163 5-16 5z\"></path>\n",
       "<path d=\"M16 26c-8.837 0-16-2.239-16-5v6c0 2.761 7.163 5 16 5s16-2.239 16-5v-6c0 2.761-7.163 5-16 5z\"></path>\n",
       "</symbol>\n",
       "<symbol id=\"icon-file-text2\" viewBox=\"0 0 32 32\">\n",
       "<path d=\"M28.681 7.159c-0.694-0.947-1.662-2.053-2.724-3.116s-2.169-2.030-3.116-2.724c-1.612-1.182-2.393-1.319-2.841-1.319h-15.5c-1.378 0-2.5 1.121-2.5 2.5v27c0 1.378 1.122 2.5 2.5 2.5h23c1.378 0 2.5-1.122 2.5-2.5v-19.5c0-0.448-0.137-1.23-1.319-2.841zM24.543 5.457c0.959 0.959 1.712 1.825 2.268 2.543h-4.811v-4.811c0.718 0.556 1.584 1.309 2.543 2.268zM28 29.5c0 0.271-0.229 0.5-0.5 0.5h-23c-0.271 0-0.5-0.229-0.5-0.5v-27c0-0.271 0.229-0.5 0.5-0.5 0 0 15.499-0 15.5 0v7c0 0.552 0.448 1 1 1h7v19.5z\"></path>\n",
       "<path d=\"M23 26h-14c-0.552 0-1-0.448-1-1s0.448-1 1-1h14c0.552 0 1 0.448 1 1s-0.448 1-1 1z\"></path>\n",
       "<path d=\"M23 22h-14c-0.552 0-1-0.448-1-1s0.448-1 1-1h14c0.552 0 1 0.448 1 1s-0.448 1-1 1z\"></path>\n",
       "<path d=\"M23 18h-14c-0.552 0-1-0.448-1-1s0.448-1 1-1h14c0.552 0 1 0.448 1 1s-0.448 1-1 1z\"></path>\n",
       "</symbol>\n",
       "</defs>\n",
       "</svg>\n",
       "<style>/* CSS stylesheet for displaying xarray objects in jupyterlab.\n",
       " *\n",
       " */\n",
       "\n",
       ":root {\n",
       "  --xr-font-color0: var(--jp-content-font-color0, rgba(0, 0, 0, 1));\n",
       "  --xr-font-color2: var(--jp-content-font-color2, rgba(0, 0, 0, 0.54));\n",
       "  --xr-font-color3: var(--jp-content-font-color3, rgba(0, 0, 0, 0.38));\n",
       "  --xr-border-color: var(--jp-border-color2, #e0e0e0);\n",
       "  --xr-disabled-color: var(--jp-layout-color3, #bdbdbd);\n",
       "  --xr-background-color: var(--jp-layout-color0, white);\n",
       "  --xr-background-color-row-even: var(--jp-layout-color1, white);\n",
       "  --xr-background-color-row-odd: var(--jp-layout-color2, #eeeeee);\n",
       "}\n",
       "\n",
       "html[theme=dark],\n",
       "body.vscode-dark {\n",
       "  --xr-font-color0: rgba(255, 255, 255, 1);\n",
       "  --xr-font-color2: rgba(255, 255, 255, 0.54);\n",
       "  --xr-font-color3: rgba(255, 255, 255, 0.38);\n",
       "  --xr-border-color: #1F1F1F;\n",
       "  --xr-disabled-color: #515151;\n",
       "  --xr-background-color: #111111;\n",
       "  --xr-background-color-row-even: #111111;\n",
       "  --xr-background-color-row-odd: #313131;\n",
       "}\n",
       "\n",
       ".xr-wrap {\n",
       "  display: block;\n",
       "  min-width: 300px;\n",
       "  max-width: 700px;\n",
       "}\n",
       "\n",
       ".xr-text-repr-fallback {\n",
       "  /* fallback to plain text repr when CSS is not injected (untrusted notebook) */\n",
       "  display: none;\n",
       "}\n",
       "\n",
       ".xr-header {\n",
       "  padding-top: 6px;\n",
       "  padding-bottom: 6px;\n",
       "  margin-bottom: 4px;\n",
       "  border-bottom: solid 1px var(--xr-border-color);\n",
       "}\n",
       "\n",
       ".xr-header > div,\n",
       ".xr-header > ul {\n",
       "  display: inline;\n",
       "  margin-top: 0;\n",
       "  margin-bottom: 0;\n",
       "}\n",
       "\n",
       ".xr-obj-type,\n",
       ".xr-array-name {\n",
       "  margin-left: 2px;\n",
       "  margin-right: 10px;\n",
       "}\n",
       "\n",
       ".xr-obj-type {\n",
       "  color: var(--xr-font-color2);\n",
       "}\n",
       "\n",
       ".xr-sections {\n",
       "  padding-left: 0 !important;\n",
       "  display: grid;\n",
       "  grid-template-columns: 150px auto auto 1fr 20px 20px;\n",
       "}\n",
       "\n",
       ".xr-section-item {\n",
       "  display: contents;\n",
       "}\n",
       "\n",
       ".xr-section-item input {\n",
       "  display: none;\n",
       "}\n",
       "\n",
       ".xr-section-item input + label {\n",
       "  color: var(--xr-disabled-color);\n",
       "}\n",
       "\n",
       ".xr-section-item input:enabled + label {\n",
       "  cursor: pointer;\n",
       "  color: var(--xr-font-color2);\n",
       "}\n",
       "\n",
       ".xr-section-item input:enabled + label:hover {\n",
       "  color: var(--xr-font-color0);\n",
       "}\n",
       "\n",
       ".xr-section-summary {\n",
       "  grid-column: 1;\n",
       "  color: var(--xr-font-color2);\n",
       "  font-weight: 500;\n",
       "}\n",
       "\n",
       ".xr-section-summary > span {\n",
       "  display: inline-block;\n",
       "  padding-left: 0.5em;\n",
       "}\n",
       "\n",
       ".xr-section-summary-in:disabled + label {\n",
       "  color: var(--xr-font-color2);\n",
       "}\n",
       "\n",
       ".xr-section-summary-in + label:before {\n",
       "  display: inline-block;\n",
       "  content: '►';\n",
       "  font-size: 11px;\n",
       "  width: 15px;\n",
       "  text-align: center;\n",
       "}\n",
       "\n",
       ".xr-section-summary-in:disabled + label:before {\n",
       "  color: var(--xr-disabled-color);\n",
       "}\n",
       "\n",
       ".xr-section-summary-in:checked + label:before {\n",
       "  content: '▼';\n",
       "}\n",
       "\n",
       ".xr-section-summary-in:checked + label > span {\n",
       "  display: none;\n",
       "}\n",
       "\n",
       ".xr-section-summary,\n",
       ".xr-section-inline-details {\n",
       "  padding-top: 4px;\n",
       "  padding-bottom: 4px;\n",
       "}\n",
       "\n",
       ".xr-section-inline-details {\n",
       "  grid-column: 2 / -1;\n",
       "}\n",
       "\n",
       ".xr-section-details {\n",
       "  display: none;\n",
       "  grid-column: 1 / -1;\n",
       "  margin-bottom: 5px;\n",
       "}\n",
       "\n",
       ".xr-section-summary-in:checked ~ .xr-section-details {\n",
       "  display: contents;\n",
       "}\n",
       "\n",
       ".xr-array-wrap {\n",
       "  grid-column: 1 / -1;\n",
       "  display: grid;\n",
       "  grid-template-columns: 20px auto;\n",
       "}\n",
       "\n",
       ".xr-array-wrap > label {\n",
       "  grid-column: 1;\n",
       "  vertical-align: top;\n",
       "}\n",
       "\n",
       ".xr-preview {\n",
       "  color: var(--xr-font-color3);\n",
       "}\n",
       "\n",
       ".xr-array-preview,\n",
       ".xr-array-data {\n",
       "  padding: 0 5px !important;\n",
       "  grid-column: 2;\n",
       "}\n",
       "\n",
       ".xr-array-data,\n",
       ".xr-array-in:checked ~ .xr-array-preview {\n",
       "  display: none;\n",
       "}\n",
       "\n",
       ".xr-array-in:checked ~ .xr-array-data,\n",
       ".xr-array-preview {\n",
       "  display: inline-block;\n",
       "}\n",
       "\n",
       ".xr-dim-list {\n",
       "  display: inline-block !important;\n",
       "  list-style: none;\n",
       "  padding: 0 !important;\n",
       "  margin: 0;\n",
       "}\n",
       "\n",
       ".xr-dim-list li {\n",
       "  display: inline-block;\n",
       "  padding: 0;\n",
       "  margin: 0;\n",
       "}\n",
       "\n",
       ".xr-dim-list:before {\n",
       "  content: '(';\n",
       "}\n",
       "\n",
       ".xr-dim-list:after {\n",
       "  content: ')';\n",
       "}\n",
       "\n",
       ".xr-dim-list li:not(:last-child):after {\n",
       "  content: ',';\n",
       "  padding-right: 5px;\n",
       "}\n",
       "\n",
       ".xr-has-index {\n",
       "  font-weight: bold;\n",
       "}\n",
       "\n",
       ".xr-var-list,\n",
       ".xr-var-item {\n",
       "  display: contents;\n",
       "}\n",
       "\n",
       ".xr-var-item > div,\n",
       ".xr-var-item label,\n",
       ".xr-var-item > .xr-var-name span {\n",
       "  background-color: var(--xr-background-color-row-even);\n",
       "  margin-bottom: 0;\n",
       "}\n",
       "\n",
       ".xr-var-item > .xr-var-name:hover span {\n",
       "  padding-right: 5px;\n",
       "}\n",
       "\n",
       ".xr-var-list > li:nth-child(odd) > div,\n",
       ".xr-var-list > li:nth-child(odd) > label,\n",
       ".xr-var-list > li:nth-child(odd) > .xr-var-name span {\n",
       "  background-color: var(--xr-background-color-row-odd);\n",
       "}\n",
       "\n",
       ".xr-var-name {\n",
       "  grid-column: 1;\n",
       "}\n",
       "\n",
       ".xr-var-dims {\n",
       "  grid-column: 2;\n",
       "}\n",
       "\n",
       ".xr-var-dtype {\n",
       "  grid-column: 3;\n",
       "  text-align: right;\n",
       "  color: var(--xr-font-color2);\n",
       "}\n",
       "\n",
       ".xr-var-preview {\n",
       "  grid-column: 4;\n",
       "}\n",
       "\n",
       ".xr-var-name,\n",
       ".xr-var-dims,\n",
       ".xr-var-dtype,\n",
       ".xr-preview,\n",
       ".xr-attrs dt {\n",
       "  white-space: nowrap;\n",
       "  overflow: hidden;\n",
       "  text-overflow: ellipsis;\n",
       "  padding-right: 10px;\n",
       "}\n",
       "\n",
       ".xr-var-name:hover,\n",
       ".xr-var-dims:hover,\n",
       ".xr-var-dtype:hover,\n",
       ".xr-attrs dt:hover {\n",
       "  overflow: visible;\n",
       "  width: auto;\n",
       "  z-index: 1;\n",
       "}\n",
       "\n",
       ".xr-var-attrs,\n",
       ".xr-var-data {\n",
       "  display: none;\n",
       "  background-color: var(--xr-background-color) !important;\n",
       "  padding-bottom: 5px !important;\n",
       "}\n",
       "\n",
       ".xr-var-attrs-in:checked ~ .xr-var-attrs,\n",
       ".xr-var-data-in:checked ~ .xr-var-data {\n",
       "  display: block;\n",
       "}\n",
       "\n",
       ".xr-var-data > table {\n",
       "  float: right;\n",
       "}\n",
       "\n",
       ".xr-var-name span,\n",
       ".xr-var-data,\n",
       ".xr-attrs {\n",
       "  padding-left: 25px !important;\n",
       "}\n",
       "\n",
       ".xr-attrs,\n",
       ".xr-var-attrs,\n",
       ".xr-var-data {\n",
       "  grid-column: 1 / -1;\n",
       "}\n",
       "\n",
       "dl.xr-attrs {\n",
       "  padding: 0;\n",
       "  margin: 0;\n",
       "  display: grid;\n",
       "  grid-template-columns: 125px auto;\n",
       "}\n",
       "\n",
       ".xr-attrs dt,\n",
       ".xr-attrs dd {\n",
       "  padding: 0;\n",
       "  margin: 0;\n",
       "  float: left;\n",
       "  padding-right: 10px;\n",
       "  width: auto;\n",
       "}\n",
       "\n",
       ".xr-attrs dt {\n",
       "  font-weight: normal;\n",
       "  grid-column: 1;\n",
       "}\n",
       "\n",
       ".xr-attrs dt:hover span {\n",
       "  display: inline-block;\n",
       "  background: var(--xr-background-color);\n",
       "  padding-right: 10px;\n",
       "}\n",
       "\n",
       ".xr-attrs dd {\n",
       "  grid-column: 2;\n",
       "  white-space: pre-wrap;\n",
       "  word-break: break-all;\n",
       "}\n",
       "\n",
       ".xr-icon-database,\n",
       ".xr-icon-file-text2 {\n",
       "  display: inline-block;\n",
       "  vertical-align: middle;\n",
       "  width: 1em;\n",
       "  height: 1.5em !important;\n",
       "  stroke-width: 0;\n",
       "  stroke: currentColor;\n",
       "  fill: currentColor;\n",
       "}\n",
       "</style><pre class='xr-text-repr-fallback'>&lt;xarray.DataArray &#x27;RiverRunoff&#x27; (latitude: 169, longitude: 187)&gt;\n",
       "array([[0., 0., 0., ..., 0., 0., 0.],\n",
       "       [0., 0., 0., ..., 0., 0., 0.],\n",
       "       [0., 0., 0., ..., 0., 0., 0.],\n",
       "       ...,\n",
       "       [0., 0., 0., ..., 0., 0., 0.],\n",
       "       [0., 0., 0., ..., 0., 0., 0.],\n",
       "       [0., 0., 0., ..., 0., 0., 0.]])\n",
       "Coordinates:\n",
       "  * longitude  (longitude) float64 5.227 5.264 5.3 5.337 ... 11.97 12.01 12.05\n",
       "  * latitude   (latitude) float64 45.89 45.93 45.97 46.0 ... 51.98 52.02 52.05\n",
       "    time       object 1991-02-28 00:00:00\n",
       "Attributes:\n",
       "    units:     m/s</pre><div class='xr-wrap' hidden><div class='xr-header'><div class='xr-obj-type'>xarray.DataArray</div><div class='xr-array-name'>'RiverRunoff'</div><ul class='xr-dim-list'><li><span class='xr-has-index'>latitude</span>: 169</li><li><span class='xr-has-index'>longitude</span>: 187</li></ul></div><ul class='xr-sections'><li class='xr-section-item'><div class='xr-array-wrap'><input id='section-2507ea47-d47d-4446-9845-28de691b1bd2' class='xr-array-in' type='checkbox' checked><label for='section-2507ea47-d47d-4446-9845-28de691b1bd2' title='Show/hide data repr'><svg class='icon xr-icon-database'><use xlink:href='#icon-database'></use></svg></label><div class='xr-array-preview xr-preview'><span>0.0 0.0 0.0 0.0 0.0 0.0 0.0 0.0 ... 0.0 0.0 0.0 0.0 0.0 0.0 0.0 0.0</span></div><div class='xr-array-data'><pre>array([[0., 0., 0., ..., 0., 0., 0.],\n",
       "       [0., 0., 0., ..., 0., 0., 0.],\n",
       "       [0., 0., 0., ..., 0., 0., 0.],\n",
       "       ...,\n",
       "       [0., 0., 0., ..., 0., 0., 0.],\n",
       "       [0., 0., 0., ..., 0., 0., 0.],\n",
       "       [0., 0., 0., ..., 0., 0., 0.]])</pre></div></div></li><li class='xr-section-item'><input id='section-7eec07ca-fea8-4e20-9925-5387b3bf50b4' class='xr-section-summary-in' type='checkbox'  checked><label for='section-7eec07ca-fea8-4e20-9925-5387b3bf50b4' class='xr-section-summary' >Coordinates: <span>(3)</span></label><div class='xr-section-inline-details'></div><div class='xr-section-details'><ul class='xr-var-list'><li class='xr-var-item'><div class='xr-var-name'><span class='xr-has-index'>longitude</span></div><div class='xr-var-dims'>(longitude)</div><div class='xr-var-dtype'>float64</div><div class='xr-var-preview xr-preview'>5.227 5.264 5.3 ... 12.01 12.05</div><input id='attrs-1eede325-39df-4357-8f36-cb96de8b29d9' class='xr-var-attrs-in' type='checkbox' disabled><label for='attrs-1eede325-39df-4357-8f36-cb96de8b29d9' title='Show/Hide attributes'><svg class='icon xr-icon-file-text2'><use xlink:href='#icon-file-text2'></use></svg></label><input id='data-462d9747-5b50-41d6-9f16-b88be7dd2f16' class='xr-var-data-in' type='checkbox'><label for='data-462d9747-5b50-41d6-9f16-b88be7dd2f16' title='Show/Hide data repr'><svg class='icon xr-icon-database'><use xlink:href='#icon-database'></use></svg></label><div class='xr-var-attrs'><dl class='xr-attrs'></dl></div><div class='xr-var-data'><pre>array([ 5.227163,  5.26383 ,  5.300497,  5.337163,  5.37383 ,  5.410497,\n",
       "        5.447163,  5.48383 ,  5.520497,  5.557163,  5.59383 ,  5.630497,\n",
       "        5.667163,  5.70383 ,  5.740497,  5.777164,  5.81383 ,  5.850497,\n",
       "        5.887163,  5.92383 ,  5.960497,  5.997163,  6.03383 ,  6.070497,\n",
       "        6.107163,  6.14383 ,  6.180497,  6.217164,  6.25383 ,  6.290497,\n",
       "        6.327163,  6.36383 ,  6.400496,  6.437163,  6.47383 ,  6.510497,\n",
       "        6.547163,  6.58383 ,  6.620497,  6.657163,  6.69383 ,  6.730497,\n",
       "        6.767163,  6.80383 ,  6.840497,  6.877163,  6.91383 ,  6.950497,\n",
       "        6.987164,  7.02383 ,  7.060497,  7.097163,  7.13383 ,  7.170496,\n",
       "        7.207163,  7.24383 ,  7.280497,  7.317163,  7.35383 ,  7.390497,\n",
       "        7.427163,  7.46383 ,  7.500497,  7.537163,  7.57383 ,  7.610497,\n",
       "        7.647163,  7.68383 ,  7.720497,  7.757164,  7.79383 ,  7.830497,\n",
       "        7.867163,  7.90383 ,  7.940496,  7.977163,  8.01383 ,  8.050497,\n",
       "        8.087163,  8.12383 ,  8.160497,  8.197164,  8.23383 ,  8.270496,\n",
       "        8.307163,  8.34383 ,  8.380497,  8.417163,  8.45383 ,  8.490497,\n",
       "        8.527164,  8.56383 ,  8.600496,  8.637163,  8.67383 ,  8.710497,\n",
       "        8.747164,  8.78383 ,  8.820497,  8.857163,  8.89383 ,  8.930496,\n",
       "        8.967163,  9.00383 ,  9.040497,  9.077164,  9.11383 ,  9.150496,\n",
       "        9.187163,  9.22383 ,  9.260497,  9.297163,  9.33383 ,  9.370497,\n",
       "        9.407164,  9.44383 ,  9.480496,  9.517163,  9.55383 ,  9.590497,\n",
       "        9.627163,  9.66383 ,  9.700497,  9.737164,  9.77383 ,  9.810496,\n",
       "        9.847163,  9.88383 ,  9.920497,  9.957163,  9.99383 , 10.030497,\n",
       "       10.067163, 10.10383 , 10.140496, 10.177163, 10.21383 , 10.250497,\n",
       "       10.287164, 10.32383 , 10.360497, 10.397163, 10.43383 , 10.470497,\n",
       "       10.507163, 10.54383 , 10.580497, 10.617164, 10.65383 , 10.690496,\n",
       "       10.727163, 10.76383 , 10.800497, 10.837163, 10.87383 , 10.910497,\n",
       "       10.947164, 10.98383 , 11.020496, 11.057163, 11.09383 , 11.130497,\n",
       "       11.167163, 11.20383 , 11.240497, 11.277164, 11.31383 , 11.350496,\n",
       "       11.387163, 11.42383 , 11.460497, 11.497164, 11.53383 , 11.570497,\n",
       "       11.607163, 11.64383 , 11.680496, 11.717163, 11.75383 , 11.790497,\n",
       "       11.827164, 11.86383 , 11.900496, 11.937163, 11.97383 , 12.010497,\n",
       "       12.047163])</pre></div></li><li class='xr-var-item'><div class='xr-var-name'><span class='xr-has-index'>latitude</span></div><div class='xr-var-dims'>(latitude)</div><div class='xr-var-dtype'>float64</div><div class='xr-var-preview xr-preview'>45.89 45.93 45.97 ... 52.02 52.05</div><input id='attrs-8ddcdff9-b795-42bc-b6c8-bbfff7473b89' class='xr-var-attrs-in' type='checkbox' disabled><label for='attrs-8ddcdff9-b795-42bc-b6c8-bbfff7473b89' title='Show/Hide attributes'><svg class='icon xr-icon-file-text2'><use xlink:href='#icon-file-text2'></use></svg></label><input id='data-02cd53b2-3295-4f5d-b7f5-5b8714cd7af3' class='xr-var-data-in' type='checkbox'><label for='data-02cd53b2-3295-4f5d-b7f5-5b8714cd7af3' title='Show/Hide data repr'><svg class='icon xr-icon-database'><use xlink:href='#icon-database'></use></svg></label><div class='xr-var-attrs'><dl class='xr-attrs'></dl></div><div class='xr-var-data'><pre>array([45.894268, 45.930935, 45.967602, 46.004265, 46.040932, 46.077599,\n",
       "       46.114265, 46.150932, 46.187599, 46.224266, 46.260933, 46.2976  ,\n",
       "       46.334267, 46.370934, 46.4076  , 46.444267, 46.480934, 46.517601,\n",
       "       46.554268, 46.590935, 46.627602, 46.664268, 46.700932, 46.737598,\n",
       "       46.774265, 46.810932, 46.847599, 46.884266, 46.920933, 46.9576  ,\n",
       "       46.994267, 47.030933, 47.0676  , 47.104267, 47.140934, 47.177601,\n",
       "       47.214268, 47.250935, 47.287601, 47.324268, 47.360935, 47.397598,\n",
       "       47.434265, 47.470932, 47.507599, 47.544266, 47.580933, 47.617599,\n",
       "       47.654266, 47.690933, 47.7276  , 47.764267, 47.800934, 47.837601,\n",
       "       47.874268, 47.910934, 47.947601, 47.984268, 48.020935, 48.057598,\n",
       "       48.094265, 48.130932, 48.167599, 48.204266, 48.240932, 48.277599,\n",
       "       48.314266, 48.350933, 48.3876  , 48.424267, 48.460934, 48.497601,\n",
       "       48.534267, 48.570934, 48.607601, 48.644268, 48.680935, 48.717602,\n",
       "       48.754265, 48.790932, 48.827599, 48.864265, 48.900932, 48.937599,\n",
       "       48.974266, 49.010933, 49.0476  , 49.084267, 49.120934, 49.1576  ,\n",
       "       49.194267, 49.230934, 49.267601, 49.304268, 49.340935, 49.377602,\n",
       "       49.414268, 49.450932, 49.487598, 49.524265, 49.560932, 49.597599,\n",
       "       49.634266, 49.670933, 49.7076  , 49.744267, 49.780933, 49.8176  ,\n",
       "       49.854267, 49.890934, 49.927601, 49.964268, 50.000935, 50.037601,\n",
       "       50.074268, 50.110935, 50.147598, 50.184265, 50.220932, 50.257599,\n",
       "       50.294266, 50.330933, 50.367599, 50.404266, 50.440933, 50.4776  ,\n",
       "       50.514267, 50.550934, 50.587601, 50.624268, 50.660934, 50.697601,\n",
       "       50.734268, 50.770935, 50.807598, 50.844265, 50.880932, 50.917599,\n",
       "       50.954266, 50.990932, 51.027599, 51.064266, 51.100933, 51.1376  ,\n",
       "       51.174267, 51.210934, 51.247601, 51.284267, 51.320934, 51.357601,\n",
       "       51.394268, 51.430935, 51.467602, 51.504265, 51.540932, 51.577599,\n",
       "       51.614265, 51.650932, 51.687599, 51.724266, 51.760933, 51.7976  ,\n",
       "       51.834267, 51.870934, 51.9076  , 51.944267, 51.980934, 52.017601,\n",
       "       52.054268])</pre></div></li><li class='xr-var-item'><div class='xr-var-name'><span>time</span></div><div class='xr-var-dims'>()</div><div class='xr-var-dtype'>object</div><div class='xr-var-preview xr-preview'>1991-02-28 00:00:00</div><input id='attrs-5ca57799-123a-4240-9a80-a0e76556d1f4' class='xr-var-attrs-in' type='checkbox' disabled><label for='attrs-5ca57799-123a-4240-9a80-a0e76556d1f4' title='Show/Hide attributes'><svg class='icon xr-icon-file-text2'><use xlink:href='#icon-file-text2'></use></svg></label><input id='data-3359d5b1-b245-4141-81b4-3f29500cd399' class='xr-var-data-in' type='checkbox'><label for='data-3359d5b1-b245-4141-81b4-3f29500cd399' title='Show/Hide data repr'><svg class='icon xr-icon-database'><use xlink:href='#icon-database'></use></svg></label><div class='xr-var-attrs'><dl class='xr-attrs'></dl></div><div class='xr-var-data'><pre>array(cftime.DatetimeGregorian(1991, 2, 28, 0, 0, 0, 0), dtype=object)</pre></div></li></ul></div></li><li class='xr-section-item'><input id='section-eb4ccb62-0766-4818-bdb8-10e690da5027' class='xr-section-summary-in' type='checkbox'  checked><label for='section-eb4ccb62-0766-4818-bdb8-10e690da5027' class='xr-section-summary' >Attributes: <span>(1)</span></label><div class='xr-section-inline-details'></div><div class='xr-section-details'><dl class='xr-attrs'><dt><span>units :</span></dt><dd> m/s</dd></dl></div></li></ul></div></div>"
      ],
      "text/plain": [
       "<xarray.DataArray 'RiverRunoff' (latitude: 169, longitude: 187)>\n",
       "array([[0., 0., 0., ..., 0., 0., 0.],\n",
       "       [0., 0., 0., ..., 0., 0., 0.],\n",
       "       [0., 0., 0., ..., 0., 0., 0.],\n",
       "       ...,\n",
       "       [0., 0., 0., ..., 0., 0., 0.],\n",
       "       [0., 0., 0., ..., 0., 0., 0.],\n",
       "       [0., 0., 0., ..., 0., 0., 0.]])\n",
       "Coordinates:\n",
       "  * longitude  (longitude) float64 5.227 5.264 5.3 5.337 ... 11.97 12.01 12.05\n",
       "  * latitude   (latitude) float64 45.89 45.93 45.97 46.0 ... 51.98 52.02 52.05\n",
       "    time       object 1991-02-28 00:00:00\n",
       "Attributes:\n",
       "    units:     m/s"
      ]
     },
     "execution_count": 14,
     "metadata": {},
     "output_type": "execute_result"
    }
   ],
   "source": [
    "da = model.get_value_as_xarray(\"RiverRunoff\")\n",
    "da"
   ]
  },
  {
   "cell_type": "code",
   "execution_count": 18,
   "id": "c7d346fe-aa0b-4f1b-b42f-88b5df897de7",
   "metadata": {},
   "outputs": [
    {
     "name": "stdout",
     "output_type": "stream",
     "text": [
      "<xarray.DataArray 'RiverRunoff' (latitude: 169, longitude: 187)>\n",
      "array([[0., 0., 0., ..., 0., 0., 0.],\n",
      "       [0., 0., 0., ..., 0., 0., 0.],\n",
      "       [0., 0., 0., ..., 0., 0., 0.],\n",
      "       ...,\n",
      "       [0., 0., 0., ..., 0., 0., 0.],\n",
      "       [0., 0., 0., ..., 0., 0., 0.],\n",
      "       [0., 0., 0., ..., 0., 0., 0.]])\n",
      "Coordinates:\n",
      "  * longitude  (longitude) float64 5.227 5.264 5.3 5.337 ... 11.97 12.01 12.05\n",
      "  * latitude   (latitude) float64 45.89 45.93 45.97 46.0 ... 51.98 52.02 52.05\n",
      "    time       object 1991-02-28 00:00:00\n",
      "Attributes:\n",
      "    units:     m/s\n"
     ]
    }
   ],
   "source": [
    "print(da)"
   ]
  },
  {
   "cell_type": "code",
   "execution_count": 15,
   "id": "0ab4b6d8-0443-40c9-b8cd-620e334862c4",
   "metadata": {},
   "outputs": [
    {
     "data": {
      "text/plain": [
       "<matplotlib.collections.PathCollection at 0x7fae85f616d0>"
      ]
     },
     "execution_count": 15,
     "metadata": {},
     "output_type": "execute_result"
    },
    {
     "data": {
      "image/png": "[encoded data removed]",
      "text/plain": [
       "<Figure size 720x576 with 2 Axes>"
      ]
     },
     "metadata": {
      "needs_background": "light"
     },
     "output_type": "display_data"
    }
   ],
   "source": [
    "qm = da.plot(robust=True, cmap='GnBu', figsize=(10, 8))\n",
    "\n",
    "# Add some verification points\n",
    "target_longitudes = [8.4, 10, 11]\n",
    "target_latitudes = [50, 50.15, 49]\n",
    "# Add some crosses to check that 'get_value_at_coords' works correctly below\n",
    "qm.axes.scatter(target_longitudes, target_latitudes, s=250, c='r', marker='x', lw=2)"
   ]
  },
  {
   "cell_type": "markdown",
   "id": "07cc5cb5-4cb5-482f-a6b3-eaada9044eb8",
   "metadata": {},
   "source": [
    "Instead of getting the whole spatial grid, you can also get RiverRunoff values at some coordinates (red crosses in above plot)."
   ]
  },
  {
   "cell_type": "code",
   "execution_count": 15,
   "id": "36a35866-cbdc-4762-8edb-9ab9081794fd",
   "metadata": {},
   "outputs": [
    {
     "data": {
      "text/plain": [
       "array([200.80599976,  44.62182236,   0.        ])"
      ]
     },
     "execution_count": 15,
     "metadata": {},
     "output_type": "execute_result"
    }
   ],
   "source": [
    "model.get_value_at_coords('RiverRunoff', lon=target_longitudes, lat=target_latitudes)"
   ]
  },
  {
   "cell_type": "markdown",
   "id": "956f9e00-7a3b-440f-a286-33e167898a12",
   "metadata": {},
   "source": [
    "We are done with the model so let's clean it up."
   ]
  },
  {
   "cell_type": "code",
   "execution_count": 16,
   "id": "ce111800",
   "metadata": {},
   "outputs": [],
   "source": [
    "model.finalize()"
   ]
  }
 ],
 "metadata": {
  "kernelspec": {
   "display_name": "Python 3",
   "language": "python",
   "name": "python3"
  },
  "language_info": {
   "codemirror_mode": {
    "name": "ipython",
    "version": 3
   },
   "file_extension": ".py",
   "mimetype": "text/x-python",
   "name": "python",
   "nbconvert_exporter": "python",
   "pygments_lexer": "ipython3",
   "version": "3.9.5"
  }
 },
 "nbformat": 4,
 "nbformat_minor": 5
}
