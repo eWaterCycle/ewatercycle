{
 "cells": [
  {
   "cell_type": "markdown",
   "metadata": {},
   "source": [
    "![image](https://www.ewatercycle.org/assets/logo.png)"
   ]
  },
  {
   "cell_type": "markdown",
   "metadata": {},
   "source": [
    "# Generate forcing in eWaterCycle with ESMValTool\n",
    "\n",
    "This notebooks shows how to generate forcing data using ERA5 data and [ESMValTool hydrological recipes](https://docs.esmvaltool.org/en/latest/recipes/recipe_hydrology.html). More information about data, configuration and installation instructions can be found in the [System setup](https://ewatercycle.readthedocs.io/en/latest/system_setup.html) in the eWaterCycle documentation."
   ]
  },
  {
   "cell_type": "code",
   "execution_count": null,
   "metadata": {},
   "outputs": [],
   "source": [
    "import warnings\n",
    "warnings.filterwarnings(\"ignore\", category=UserWarning)\n",
    "import xarray as xr\n",
    "\n",
    "import ewatercycle.forcing"
   ]
  },
  {
   "cell_type": "markdown",
   "metadata": {},
   "source": [
    "## LISFLOOD: generate forcing"
   ]
  },
  {
   "cell_type": "code",
   "execution_count": null,
   "metadata": {},
   "outputs": [],
   "source": [
    "%%capture\n",
    "lisflood_forcing = ewatercycle.forcing.generate(\n",
    "    target_model='lisflood', \n",
    "    dataset='ERA5', \n",
    "    start_time='1990-01-01T00:00:00Z', \n",
    "    end_time='1990-12-31T00:00:00Z', \n",
    "    shape='./data/Rhine/Rhine.shp',\n",
    ")"
   ]
  },
  {
   "cell_type": "code",
   "execution_count": null,
   "metadata": {},
   "outputs": [],
   "source": [
    "print(lisflood_forcing)"
   ]
  },
  {
   "cell_type": "markdown",
   "metadata": {},
   "source": [
    "## LISFLOOD: plot forcing"
   ]
  },
  {
   "cell_type": "code",
   "execution_count": null,
   "metadata": {},
   "outputs": [],
   "source": [
    "for var_name, file_name in zip (['tas', 'pr'], [lisflood_forcing.temperatureNC, lisflood_forcing.precipitationNC]):\n",
    "    dataset = xr.load_dataset(f\"{pcrglobwb_output.directory}/{file_name}\")\n",
    "    var = list(dataset.data_vars.keys())[0]\n",
    "    dataset[var].isel(time=1).plot(cmap=\"coolwarm\", robust=True, size=5)"
   ]
  },
  {
   "cell_type": "markdown",
   "metadata": {},
   "source": [
    "## Wflow: generate forcing"
   ]
  },
  {
   "cell_type": "markdown",
   "metadata": {},
   "source": [
    "To download `wflow_dem.map`, see the [instructions](https://ewatercycle.readthedocs.io/en/latest/system_setup.html#download-example-parameter-sets)."
   ]
  },
  {
   "cell_type": "code",
   "execution_count": null,
   "metadata": {},
   "outputs": [],
   "source": [
    "%%capture\n",
    "wflow_forcing = ewatercycle.forcing.generate(\n",
    "    target_model='wflow', \n",
    "    dataset='ERA5',  \n",
    "    start_time='1990-01-01T00:00:00Z', \n",
    "    end_time='1990-12-31T00:00:00Z',    \n",
    "    shape='./data/Rhine/Rhine.shp',\n",
    "    model_specific_options={  \n",
    "    'dem_file':'./wflow_rhine_sbm_nc/staticmaps/wflow_dem.map',\n",
    "    }\n",
    ")"
   ]
  },
  {
   "cell_type": "code",
   "execution_count": null,
   "metadata": {},
   "outputs": [],
   "source": [
    "print(wflow_forcing)"
   ]
  },
  {
   "cell_type": "markdown",
   "metadata": {},
   "source": [
    "## Wflow: plot forcing"
   ]
  },
  {
   "cell_type": "code",
   "execution_count": null,
   "metadata": {},
   "outputs": [],
   "source": [
    "dataset = xr.load_dataset(f\"{wflow_forcing.directory}/{wflow_forcing.netcdfinput}\")\n",
    "print(dataset)\n",
    "for var in [\"pr\", \"tas\", \"pet\"]:\n",
    "    dataset[var].isel(time=1).plot(cmap=\"coolwarm\", robust=True, size=5)"
   ]
  },
  {
   "cell_type": "markdown",
   "metadata": {},
   "source": [
    "## PCRGlobWB: generate forcing"
   ]
  },
  {
   "cell_type": "code",
   "execution_count": null,
   "metadata": {},
   "outputs": [],
   "source": [
    "%%capture\n",
    "pcrglobwb_forcing = ewatercycle.forcing.generate(\n",
    "    target_model='pcrglobwb', \n",
    "    dataset='ERA5',  \n",
    "    start_time='1990-01-01T00:00:00Z', \n",
    "    end_time='1990-12-31T00:00:00Z', \n",
    "    shape='./data/Rhine/Rhine.shp',\n",
    "    model_specific_options={\n",
    "        'start_time_climatology':'1990-01-01T00:00:00Z',\n",
    "        'end_time_climatology':'1990-01-01T00:00:00Z',\n",
    "    },\n",
    ")"
   ]
  },
  {
   "cell_type": "code",
   "execution_count": null,
   "metadata": {},
   "outputs": [],
   "source": [
    "print(pcrglobwb_forcing)"
   ]
  },
  {
   "cell_type": "markdown",
   "metadata": {},
   "source": [
    "## PCRGlobWB: plot forcing"
   ]
  },
  {
   "cell_type": "code",
   "execution_count": null,
   "metadata": {},
   "outputs": [],
   "source": [
    "for var_name, file_name in zip (['tas', 'pr'], [pcrglobwb_forcing.temperatureNC, pcrglobwb_forcing.precipitationNC]):\n",
    "    dataset = xr.load_dataset(f\"{pcrglobwb_output.directory}/{file_name}\")\n",
    "    var_name = list(dataset.data_vars.keys())[0]\n",
    "    dataset[var_name].isel(time=-1).plot(cmap=\"coolwarm\", robust=True, size=5)"
   ]
  }
 ],
 "metadata": {
  "kernelspec": {
   "display_name": "Python 3",
   "language": "python",
   "name": "python3"
  },
  "language_info": {
   "codemirror_mode": {
    "name": "ipython",
    "version": 3
   },
   "file_extension": ".py",
   "mimetype": "text/x-python",
   "name": "python",
   "nbconvert_exporter": "python",
   "pygments_lexer": "ipython3",
   "version": "3.9.2"
  }
 },
 "nbformat": 4,
 "nbformat_minor": 4
}
