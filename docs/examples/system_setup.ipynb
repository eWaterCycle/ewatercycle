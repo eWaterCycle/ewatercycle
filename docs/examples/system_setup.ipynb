{
 "cells": [
  {
   "source": [
    "![image](https://www.ewatercycle.org/assets/logo.png)\n"
   ],
   "cell_type": "markdown",
   "metadata": {}
  },
  {
   "cell_type": "markdown",
   "metadata": {},
   "source": [
    "# System setup\n",
    "\n",
    "To use ewatercycle package you need to setup the system with software and data.\n"
   ]
  },
  {
   "source": [
    "1. [Conda environment](#Conda-environment)\n",
    "1. [Install ewatercycle package](#Install-ewatercycle-package)\n",
    "1. [Configure ESMValTool](#Configure-ESMValTool)\n",
    "1. [Download climate data](#Download-climate-data)\n",
    "1. [Install container engine](#Install-container-engine)\n",
    "1. [Configure ewatercycle](#Configure-ewatercycle)\n",
    "1. [Model container images](#Model-container-images)\n",
    "1. [Download example parameter sets](#Download-example-parameter-sets)\n",
    "1. [Download example forcing](#Download-example-forcing)\n",
    "1. [Download observation data](#Download-observation-data)"
   ],
   "cell_type": "markdown",
   "metadata": {}
  },
  {
   "cell_type": "code",
   "execution_count": null,
   "metadata": {},
   "outputs": [],
   "source": [
    "## Conda environment\n",
    "\n",
    "The ewatercycle Python package uses a lot of geospatial dependencies which can be installed using [Conda](https://conda.io/) package management system.\n",
    "\n",
    "Instal Conda by using the [miniconda installer](https://docs.conda.io/en/latest/miniconda.html)\n",
    "\n",
    "After conda is installed you can install the software dependencies with a [conda environment file](https://github.com/eWaterCycle/ewatercycle/blob/master/environment.yml).\n"
   ]
  },
  {
   "cell_type": "code",
   "execution_count": null,
   "metadata": {},
   "outputs": [],
   "source": [
    "!wget https://raw.githubusercontent.com/eWaterCycle/ewatercycle/master/environment.yml"
   ]
  },
  {
   "cell_type": "code",
   "execution_count": null,
   "metadata": {},
   "outputs": [],
   "source": [
    "!conda env create --file environment.yml"
   ]
  },
  {
   "cell_type": "code",
   "execution_count": null,
   "metadata": {},
   "outputs": [],
   "source": [
    "!conda activate ewatercycle"
   ]
  },
  {
   "source": [
    "## Install ewatercycle package\n",
    "\n",
    "The Python package can be installed using pip"
   ],
   "cell_type": "markdown",
   "metadata": {}
  },
  {
   "cell_type": "code",
   "execution_count": null,
   "metadata": {},
   "outputs": [],
   "source": [
    "!pip install git+https://github.com/eWaterCycle/ewatercycle.git#egg=ewatercycle"
   ]
  },
  {
   "source": [
    "## Configure ESMValTool\n",
    "\n",
    "ESMValTool is used to generate forcing (temperature, precipitation, etc.) files from climate data sets for hydrological models. The ESMValTool has been installed as a dependency of the package.\n",
    "\n",
    "\n"
   ],
   "cell_type": "markdown",
   "metadata": {}
  },
  {
   "source": [
    "See https://docs.esmvaltool.org/en/latest/input.html how configure ESMValTool "
   ],
   "cell_type": "markdown",
   "metadata": {}
  },
  {
   "source": [
    "## Download climate data\n",
    "\n",
    "The ERA5 and ERA-Interim climate datasets can be used to generate forcings\n",
    "\n",
    "### ERA5\n",
    "\n",
    "To download ERA5 data files you can use the [era5cli](https://era5cli.readthedocs.io/) tool."
   ],
   "cell_type": "markdown",
   "metadata": {}
  },
  {
   "cell_type": "code",
   "execution_count": null,
   "metadata": {},
   "outputs": [],
   "source": [
    "!pip install era5cli"
   ]
  },
  {
   "source": [
    "### ERA-Interim\n",
    "\n",
    "ERA-Interim has been superseeded by ERA5, but could be useful for reproduction studies and its smaller size.\n",
    "The ERA-Interim data files can be downloaded at https://www.ecmwf.int/en/forecasts/datasets/reanalysis-datasets/era-interim"
   ],
   "cell_type": "markdown",
   "metadata": {}
  },
  {
   "cell_type": "code",
   "execution_count": null,
   "metadata": {},
   "outputs": [],
   "source": [
    "## Install container engine\n",
    "\n",
    "In ewatercycle package the hydrological models are run in containers with engines like [Singularity](https://singularity.lbl.gov/) or [Docker](https://www.docker.com/).\n",
    "At least Singularity or Docker should be installed.\n",
    "\n",
    "### Singularity\n",
    "\n",
    "Install Singularity using [instructions](https://singularity.hpcng.org/user-docs/master/quick_start.html).\n",
    "\n",
    "### Docker\n",
    "\n",
    "Install Docker using [instructions](https://docs.docker.com/engine/install/).\n",
    "Docker should be configured so it can be [called without sudo](https://docs.docker.com/engine/install/linux-postinstall/#manage-docker-as-a-non-root-user)"
   ]
  },
  {
   "cell_type": "code",
   "execution_count": 2,
   "metadata": {},
   "outputs": [],
   "source": [
    "import logging\n",
    "logging.basicConfig(level=logging.INFO)"
   ]
  },
  {
   "cell_type": "code",
   "execution_count": 3,
   "metadata": {},
   "outputs": [],
   "source": [
    "import ewatercycle\n",
    "import ewatercycle.parameter_sets"
   ]
  },
  {
   "cell_type": "markdown",
   "metadata": {},
   "source": [
    "## Configure ewatercycle\n",
    "\n",
    "The ewatercycle package simplifies the API by reading some of the directories and other configurations from a configuration file.\n"
   ]
  },
  {
   "cell_type": "code",
   "execution_count": 4,
   "metadata": {},
   "outputs": [
    {
     "name": "stderr",
     "output_type": "stream",
     "text": [
      "INFO:ewatercycle.config._config_object:Config written to /home/verhoes/git/eWaterCycle/ewatercycle/docs/examples/ewatercycle.yaml\n"
     ]
    },
    {
     "data": {
      "text/plain": [
       "PosixPath('/home/verhoes/git/eWaterCycle/ewatercycle/docs/examples/ewatercycle.yaml')"
      ]
     },
     "execution_count": 4,
     "metadata": {},
     "output_type": "execute_result"
    }
   ],
   "source": [
    "ewatercycle.CFG['container_engine'] = 'singularity'  # or 'docker'\n",
    "ewatercycle.CFG['singularity_dir'] = './singularity-images'\n",
    "ewatercycle.CFG['output_dir'] = './'\n",
    "ewatercycle.CFG['grdc_location'] = './grdc-observations'\n",
    "ewatercycle.CFG['ewatercycle_config'] = './ewatercycle.yaml'\n",
    "# \n",
    "ewatercycle.CFG['parameterset_dir'] = './parameter-sets'\n",
    "\n",
    "ewatercycle.CFG.save_to_file()"
   ]
  },
  {
   "cell_type": "code",
   "execution_count": 5,
   "metadata": {},
   "outputs": [],
   "source": [
    "ewatercycle.CFG.load_from_file('./ewatercycle.yaml')"
   ]
  },
  {
   "source": [
    "To make the ewatercycle configuration load by default for current user it should be copied to `~/.config/ewatercycle/ewatercycle.yaml`.\n",
    "\n",
    "To make the ewatercycle configuration available to all users on the system it should be copied to `/etc/ewatercycle.yaml`.\n",
    "\n",
    "\n",
    "### Configuration file for Cartesius system of SURFSara\n",
    "\n",
    "TODO\n",
    "\n",
    "### Configuration file for ewatecycle Jupyter machine\n",
    "\n",
    "TODO"
   ],
   "cell_type": "markdown",
   "metadata": {}
  },
  {
   "source": [
    "## Model container images\n",
    "\n",
    "As hydrological models run in container their container images should be made available on the system.\n",
    "\n",
    "The names of the images can be found in the `ewatercycle.models.*` classes.\n",
    "\n",
    "### Docker\n",
    "\n",
    "Docker images will be downloaded with `docker pull`:\n"
   ],
   "cell_type": "markdown",
   "metadata": {}
  },
  {
   "cell_type": "code",
   "execution_count": null,
   "metadata": {},
   "outputs": [],
   "source": [
    "!docker pull ewatercycle/lisflood-grpc4bmi:20.10 ewatercycle/marrmot-grpc4bmi:2020.11 ewatercycle/pcrg-grpc4bmi:setters ewatercycle/wflow-grpc4bmi:2020.1.1"
   ]
  },
  {
   "source": [
    "### Singularity\n",
    "\n",
    "Singularity images should be stored in configured directory (`ewatercycle.CFG['singularity_dir']`) and can build from Docker with:"
   ],
   "cell_type": "markdown",
   "metadata": {}
  },
  {
   "cell_type": "code",
   "execution_count": null,
   "metadata": {},
   "outputs": [],
   "source": [
    "!cd {ewatercycle.CFG['singularity_dir']}\n",
    "!singularity build ewatercycle-lisflood-grpc4bmi.sif docker://ewatercycle/lisflood-grpc4bmi:latest\n",
    "!singularity build ewatercycle-pcrg-grpc4bmi.sif docker://ewatercycle/pcrg-grpc4bmi:latest\n",
    "!singularity build ewatercycle-marrmot-grpc4bmi.sif docker://ewatercycle/marrmot-grpc4bmi:latest\n",
    "!singularity build ewatercycle-wflow-grpc4bmi.sif docker://ewatercycle/wflow-grpc4bmi:latest\n",
    "!cd -"
   ]
  },
  {
   "cell_type": "markdown",
   "metadata": {},
   "source": [
    "## Download example parameter sets\n",
    "\n",
    "To quickly run the models it is advised to setup a example parameter sets for each model. "
   ]
  },
  {
   "cell_type": "code",
   "execution_count": 6,
   "metadata": {},
   "outputs": [
    {
     "name": "stderr",
     "output_type": "stream",
     "text": [
      "INFO:ewatercycle.parameter_sets._example:Downloading example parameter set wflow_rhine_sbm_nc to /home/verhoes/git/eWaterCycle/ewatercycle/docs/examples/parameter-sets/wflow_rhine_sbm_nc...\n",
      "INFO:ewatercycle.parameter_sets._example:Download complete.\n",
      "INFO:ewatercycle.parameter_sets._example:Adding parameterset wflow_rhine_sbm_nc to ewatercycle.CFG... \n",
      "INFO:ewatercycle.parameter_sets._example:Downloading example parameter set pcrglobwb_example_case to /home/verhoes/git/eWaterCycle/ewatercycle/docs/examples/parameter-sets/pcrglobwb_example_case...\n",
      "INFO:ewatercycle.parameter_sets._example:Download complete.\n",
      "INFO:ewatercycle.parameter_sets._example:Adding parameterset pcrglobwb_example_case to ewatercycle.CFG... \n",
      "INFO:ewatercycle.parameter_sets._example:Downloading example parameter set lisflood_fraser to /home/verhoes/git/eWaterCycle/ewatercycle/docs/examples/parameter-sets/lisflood_fraser...\n",
      "INFO:ewatercycle.parameter_sets._example:Download complete.\n",
      "INFO:ewatercycle.parameter_sets._example:Adding parameterset lisflood_fraser to ewatercycle.CFG... \n",
      "INFO:ewatercycle.parameter_sets:3 example parameter sets were downloaded\n",
      "INFO:ewatercycle.config._config_object:Config written to /home/verhoes/git/eWaterCycle/ewatercycle/docs/examples/ewatercycle.yaml\n",
      "INFO:ewatercycle.parameter_sets:Saved parameter sets to configuration file /home/verhoes/git/eWaterCycle/ewatercycle/docs/examples/ewatercycle.yaml\n"
     ]
    }
   ],
   "source": [
    "ewatercycle.parameter_sets.download_example_parameter_sets()"
   ]
  },
  {
   "cell_type": "markdown",
   "metadata": {},
   "source": [
    "Example parameter sets have been downloaded and added to the configuration file."
   ]
  },
  {
   "cell_type": "code",
   "execution_count": 7,
   "metadata": {},
   "outputs": [
    {
     "name": "stdout",
     "output_type": "stream",
     "text": [
      "container_engine: null\n",
      "esmvaltool_config: None\n",
      "grdc_location: None\n",
      "output_dir: None\n",
      "parameter_sets:\n",
      "  lisflood_fraser:\n",
      "    config: lisflood_fraser/settings_lat_lon-Run.xml\n",
      "    directory: lisflood_fraser\n",
      "    doi: N/A\n",
      "    supported_model_versions: !!set {'20.10': null}\n",
      "    target_model: lisflood\n",
      "  pcrglobwb_example_case:\n",
      "    config: pcrglobwb_example_case/setup_natural_test.ini\n",
      "    directory: pcrglobwb_example_case\n",
      "    doi: N/A\n",
      "    supported_model_versions: !!set {setters: null}\n",
      "    target_model: pcrglobwb\n",
      "  wflow_rhine_sbm_nc:\n",
      "    config: wflow_rhine_sbm_nc/wflow_sbm_NC.ini\n",
      "    directory: wflow_rhine_sbm_nc\n",
      "    doi: N/A\n",
      "    supported_model_versions: !!set {2020.1.1: null}\n",
      "    target_model: wflow\n",
      "parameterset_dir: /home/verhoes/git/eWaterCycle/ewatercycle/docs/examples/parameter-sets\n",
      "singularity_dir: None\n"
     ]
    }
   ],
   "source": [
    "!cat ./ewatercycle.yaml"
   ]
  },
  {
   "cell_type": "code",
   "execution_count": 10,
   "metadata": {},
   "outputs": [
    {
     "data": {
      "text/plain": [
       "('wflow_rhine_sbm_nc', 'pcrglobwb_example_case', 'lisflood_fraser')"
      ]
     },
     "execution_count": 10,
     "metadata": {},
     "output_type": "execute_result"
    }
   ],
   "source": [
    "ewatercycle.parameter_sets.available_parameter_sets()"
   ]
  },
  {
   "cell_type": "code",
   "execution_count": 9,
   "metadata": {},
   "outputs": [
    {
     "data": {
      "text/plain": [
       "ParameterSet(name='pcrglobwb_example_case', directory=PosixPath('/home/verhoes/git/eWaterCycle/ewatercycle/docs/examples/parameter-sets/pcrglobwb_example_case'), config=PosixPath('/home/verhoes/git/eWaterCycle/ewatercycle/docs/examples/parameter-sets/pcrglobwb_example_case/setup_natural_test.ini'), doi='N/A', target_model='pcrglobwb', supported_model_versions={'setters'})"
      ]
     },
     "execution_count": 9,
     "metadata": {},
     "output_type": "execute_result"
    }
   ],
   "source": [
    "parameter_set = ewatercycle.parameter_sets.get_parameter_set('pcrglobwb_example_case')\n",
    "parameter_set"
   ]
  },
  {
   "cell_type": "markdown",
   "metadata": {},
   "source": [
    "The `parameter_set` variable can be passed to a model class constructor."
   ]
  },
  {
   "source": [
    "## Download example forcing\n",
    "\n",
    "To be able to run the Marrmot example notebooks you need a forcing file.\n",
    "You can use `ewatercycle.forcing.generate()` to make it or use an already prepared [forcing file](https://github.com/wknoben/MARRMoT/blob/master/BMI/Config/BMI_testcase_m01_BuffaloRiver_TN_USA.mat)."
   ],
   "cell_type": "markdown",
   "metadata": {}
  },
  {
   "cell_type": "code",
   "execution_count": null,
   "metadata": {},
   "outputs": [],
   "source": [
    "!cd {ewatercycle.CFG['parameterset_dir']}\n",
    "!wget https://github.com/wknoben/MARRMoT/blob/master/BMI/Config/BMI_testcase_m01_BuffaloRiver_TN_USA.mat"
   ]
  },
  {
   "source": [
    "## Download observation data\n",
    "\n",
    "To calculate metrics or plot hydrograph observation data is needed. The ewatercycle package can use [Global Runoff Data Centre (GRDC)](https://www.bafg.de/GRDC) or [U.S. Geological Survey Water Services (USGS)](https://waterservices.usgs.gov/) data.\n",
    "\n",
    "The GRDC daily data files can be ordered at [https://www.bafg.de/GRDC/EN/02_srvcs/21_tmsrs/riverdischarge_node.html](https://www.bafg.de/GRDC/EN/02_srvcs/21_tmsrs/riverdischarge_node.html).\n",
    "\n",
    "The GRDC files should be stored in `ewatercycle.CFG['grdc_location']` directory."
   ],
   "cell_type": "markdown",
   "metadata": {}
  },
  {
   "cell_type": "code",
   "execution_count": null,
   "metadata": {},
   "outputs": [],
   "source": []
  }
 ],
 "metadata": {
  "interpreter": {
   "hash": "4f63c3f017d58640bc2174e5f1b6c1610e3d96c1a3fe90d1d439f265cee739e3"
  },
  "kernelspec": {
   "name": "python3",
   "display_name": "Python 3.9.5 64-bit (conda)"
  },
  "language_info": {
   "codemirror_mode": {
    "name": "ipython",
    "version": 3
   },
   "file_extension": ".py",
   "mimetype": "text/x-python",
   "name": "python",
   "nbconvert_exporter": "python",
   "pygments_lexer": "ipython3",
   "version": "3.9.5"
  }
 },
 "nbformat": 4,
 "nbformat_minor": 4
}