{
 "cells": [
  {
   "cell_type": "markdown",
   "id": "c02a5bfe",
   "metadata": {},
   "source": [
    "![image](https://github.com/eWaterCycle/ewatercycle/raw/main/docs/examples/logo.png)"
   ]
  },
  {
   "cell_type": "markdown",
   "id": "dd265189-37f4-4256-9740-0bac2b1eacee",
   "metadata": {},
   "source": [
    "# Running LISFLOOD model using eWaterCycle package (on Cartesius machine of SURFsara)\n",
    "\n",
    "This notebooks shows how to run [LISFLOOD](https://ec-jrc.github.io/lisflood-model/) model. Please note that the [lisflood-grpc4bmi docker image](https://hub.docker.com/r/ewatercycle/lisflood-grpc4bmi) in eWaterCycle is compatible only with forcing data and parameter set on Cartesius machine of SURFsara. More information about data, configuration and installation instructions can be found in the [System setup](https://ewatercycle.readthedocs.io/en/latest/system_setup.html) in the eWaterCycle documentation."
   ]
  },
  {
   "cell_type": "code",
   "execution_count": null,
   "id": "fc9d38ab-dd5a-412f-9b0c-b8fdd65066f2",
   "metadata": {},
   "outputs": [],
   "source": [
    "import logging\n",
    "logger = logging.getLogger('grpc4bmi.bmi_grpc_client')\n",
    "logger.setLevel(logging.WARNING)\n",
    "\n",
    "import warnings\n",
    "warnings.filterwarnings(\"ignore\", category=DeprecationWarning)\n",
    "\n",
    "import ewatercycle.forcing\n",
    "import ewatercycle.models\n",
    "import ewatercycle.parameter_sets"
   ]
  },
  {
   "cell_type": "markdown",
   "id": "8ed2138d",
   "metadata": {},
   "source": [
    "## Load forcing data\n",
    "\n",
    "For this example noetbook, lisflood_ERA-Interim_*_1990_1990.nc data are copied \n",
    "from `/projects/0/wtrcycle/comparison/forcing/lisflood` to `/scratch/shared/ewatercycle/lisflood_forcing_data`.\n",
    "Also the lisvap output files 'e0', 'es0' and 'et0' are generated and store in the same directory."
   ]
  },
  {
   "cell_type": "code",
   "execution_count": null,
   "id": "54344de9",
   "metadata": {},
   "outputs": [],
   "source": [
    "forcing = ewatercycle.forcing.load_foreign(target_model='lisflood',\n",
    "                                           directory='/scratch/shared/ewatercycle/lisflood_forcing_data/',\n",
    "                                           start_time='1990-01-01T00:00:00Z',\n",
    "                                           end_time='1990-12-31T00:00:00Z',\n",
    "                                           forcing_info={\n",
    "                                               'PrefixPrecipitation': 'lisflood_ERA-Interim_pr_1990_1990.nc',\n",
    "                                               'PrefixTavg': 'lisflood_ERA-Interim_tas_1990_1990.nc',\n",
    "                                               'PrefixE0': 'lisflood_e0_1990_1990.nc',\n",
    "                                               'PrefixES0': 'lisflood_es0_1990_1990.nc',\n",
    "                                               'PrefixET0': 'lisflood_et0_1990_1990.nc',\n",
    "                                           }\n",
    "                                          )\n",
    "print(forcing)"
   ]
  },
  {
   "cell_type": "markdown",
   "id": "73c1a63a-9e08-4270-a10a-ea25731c520f",
   "metadata": {
    "tags": []
   },
   "source": [
    "## Load parameter set"
   ]
  },
  {
   "cell_type": "markdown",
   "id": "4e968d36-c1be-4e60-99f3-87552f84364c",
   "metadata": {
    "tags": []
   },
   "source": [
    "This example uses parameter set on Cartesius machine of SURFsara."
   ]
  },
  {
   "cell_type": "code",
   "execution_count": null,
   "id": "b5047917-8fcc-4672-9652-aa705b938c89",
   "metadata": {
    "tags": []
   },
   "outputs": [],
   "source": [
    "parameterset = ewatercycle.parameter_sets.ParameterSet(\n",
    "    name='Lisflood01degree_masked',\n",
    "    directory='/projects/0/wtrcycle/comparison/lisflood_input/Lisflood01degree_masked',\n",
    "    config='/projects/0/wtrcycle/comparison/lisflood_input/settings_templates/settings_lisflood.xml',\n",
    "    target_model='lisflood'\n",
    ")\n",
    "print(parameterset)"
   ]
  },
  {
   "cell_type": "markdown",
   "id": "d84b4ae9-641b-4491-b45a-828ce470e09d",
   "metadata": {
    "tags": []
   },
   "source": [
    "## Set up the model"
   ]
  },
  {
   "cell_type": "markdown",
   "id": "a6e1eae3-f3ca-44ca-ab1d-5192544b947e",
   "metadata": {
    "tags": []
   },
   "source": [
    "To create the model object, we need to select a version."
   ]
  },
  {
   "cell_type": "code",
   "execution_count": null,
   "id": "2fe222cb",
   "metadata": {},
   "outputs": [],
   "source": [
    "ewatercycle.models.Lisflood.available_versions"
   ]
  },
  {
   "cell_type": "code",
   "execution_count": null,
   "id": "7915f0ed",
   "metadata": {},
   "outputs": [],
   "source": [
    "model = ewatercycle.models.Lisflood(version='20.10', parameter_set=parameterset, forcing=forcing)\n",
    "print(model)"
   ]
  },
  {
   "cell_type": "code",
   "execution_count": null,
   "id": "5d66b316",
   "metadata": {},
   "outputs": [],
   "source": [
    "model.parameters"
   ]
  },
  {
   "cell_type": "markdown",
   "id": "4c93fdf8-fc76-43e5-97d7-262965eca71d",
   "metadata": {},
   "source": [
    "Setup model with model_mask, IrrigationEfficiency of 0.8 and an earlier end time, making total model time just 1 month."
   ]
  },
  {
   "cell_type": "code",
   "execution_count": null,
   "id": "9baa4158-aae8-49d7-83b2-4ab46d99a1fe",
   "metadata": {},
   "outputs": [],
   "source": [
    "model_mask = '/projects/0/wtrcycle/comparison/recipes_auxiliary_datasets/LISFLOOD/model_mask.nc'\n",
    "\n",
    "config_file, config_dir = model.setup(IrrigationEfficiency='0.8', \n",
    "                                      end_time='1990-1-31T00:00:00Z'\n",
    "                                      MaskMap=model_mask)\n",
    "print(cfg_file)\n",
    "print(cfg_dir)"
   ]
  },
  {
   "cell_type": "code",
   "execution_count": null,
   "id": "473ff55b",
   "metadata": {},
   "outputs": [],
   "source": [
    "model.parameters"
   ]
  },
  {
   "cell_type": "markdown",
   "id": "09852786-76ae-439d-8ab9-e30387acba1a",
   "metadata": {},
   "source": [
    "Initialize the model with the config file:"
   ]
  },
  {
   "cell_type": "code",
   "execution_count": null,
   "id": "dea5b7c2-9b7f-425f-afdd-6c0398ff5cf1",
   "metadata": {},
   "outputs": [],
   "source": [
    "model.initialize(config_file)"
   ]
  },
  {
   "cell_type": "markdown",
   "id": "13318b5b-1ada-4c1f-995b-f4ff3486e817",
   "metadata": {},
   "source": [
    "Get model variable names"
   ]
  },
  {
   "cell_type": "code",
   "execution_count": null,
   "id": "f252b08d-5b86-412c-aa1f-31816b1f97f4",
   "metadata": {},
   "outputs": [],
   "source": [
    "model.output_var_names"
   ]
  },
  {
   "cell_type": "markdown",
   "id": "3e92d7bc-952d-4716-b7f1-c0f219c7aba0",
   "metadata": {},
   "source": [
    "## Run the model"
   ]
  },
  {
   "cell_type": "markdown",
   "id": "80d7c751-74a4-4057-ac04-15bc216e131f",
   "metadata": {},
   "source": [
    "Store simulated values at one location until model end time."
   ]
  },
  {
   "cell_type": "code",
   "execution_count": null,
   "id": "a34ea3f7-200f-4275-b5fd-778bad3f67cb",
   "metadata": {},
   "outputs": [],
   "source": [
    "discharge_at_one_location = []\n",
    "time_range = []\n",
    "end_time = model.end_time\n",
    "\n",
    "while (model.time < end_time):\n",
    "    model.update()\n",
    "    discharge_at_one_location.append(model.get_value_at_coords('Discharge', lon=[-71.35], lat=[42.64]))\n",
    "    time_range.append(model.time_as_datetime.date())\n",
    "    print(model.time_as_isostr)"
   ]
  },
  {
   "cell_type": "code",
   "execution_count": null,
   "id": "dbfe9349-277d-4f34-af06-0fcca87ad18e",
   "metadata": {},
   "outputs": [],
   "source": [
    "model.finalize()"
   ]
  },
  {
   "cell_type": "markdown",
   "id": "fe2778a3-33c3-4d95-a316-7120618dc4c6",
   "metadata": {},
   "source": [
    "Store simulated values for all locations of the model grid at end time."
   ]
  },
  {
   "cell_type": "code",
   "execution_count": null,
   "id": "9e092460-2913-459a-b11d-01f66358e350",
   "metadata": {},
   "outputs": [],
   "source": [
    "discharge = model.get_value_as_xarray('Discharge')"
   ]
  },
  {
   "cell_type": "markdown",
   "id": "72deaa2b-5b47-49b6-9d55-03ffd95cfe7b",
   "metadata": {},
   "source": [
    "## Inspect the results"
   ]
  },
  {
   "cell_type": "code",
   "execution_count": null,
   "id": "b9274b40",
   "metadata": {},
   "outputs": [],
   "source": [
    "simulated_discharge_at_one_location = pd.DataFrame(\n",
    "    {'simulation': discharge_at_one_location}, index=pd.to_datetime(time_range)\n",
    ")\n",
    "simulated_discharge.plot(figsize=(12, 8))"
   ]
  },
  {
   "cell_type": "code",
   "execution_count": null,
   "id": "c7522b29",
   "metadata": {},
   "outputs": [],
   "source": [
    "lc = discharge.coords[\"longitude\"]\n",
    "la = discharge.coords[\"latitude\"]\n",
    "discharge.loc[\n",
    "    dict(longitude=lc[(lc > 3) & (lc < 12)], latitude=la[(la > 46) & (la < 52)])].plot(robust=True, cmap='GnBu')"
   ]
  }
 ],
 "metadata": {
  "kernelspec": {
   "display_name": "Python 3",
   "language": "python",
   "name": "python3"
  },
  "language_info": {
   "codemirror_mode": {
    "name": "ipython",
    "version": 3
   },
   "file_extension": ".py",
   "mimetype": "text/x-python",
   "name": "python",
   "nbconvert_exporter": "python",
   "pygments_lexer": "ipython3",
   "version": "3.9.2"
  }
 },
 "nbformat": 4,
 "nbformat_minor": 5
}
