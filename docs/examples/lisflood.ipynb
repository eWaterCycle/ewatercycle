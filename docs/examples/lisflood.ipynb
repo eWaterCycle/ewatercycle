{
 "cells": [
  {
   "cell_type": "markdown",
   "id": "52e2f7fe",
   "metadata": {},
   "source": [
    "![image](https://www.ewatercycle.org/assets/logo.png)"
   ]
  },
  {
   "cell_type": "code",
   "execution_count": 1,
   "id": "df68dec9",
   "metadata": {},
   "outputs": [],
   "source": [
    "import logging\n",
    "logger = logging.getLogger('grpc4bmi.bmi_grpc_client')\n",
    "logger.setLevel(logging.WARNING)\n",
    "\n",
    "import warnings\n",
    "warnings.filterwarnings(\"ignore\", category=DeprecationWarning)"
   ]
  },
  {
   "cell_type": "code",
   "execution_count": null,
   "id": "aa855a37",
   "metadata": {},
   "outputs": [],
   "source": [
    "import numpy as np\n",
    "from ewatercycle import CFG\n",
    "import ewatercycle.models\n",
    "from ewatercycle.forcing import load_foreign\n",
    "from ewatercycle.models.lisflood import LisfloodParameterSet"
   ]
  },
  {
   "cell_type": "markdown",
   "id": "10125d57",
   "metadata": {},
   "source": [
    "## Run lisflood class\n",
    "\n",
    "The ewatercycle configuration file is typcially stored in `~/.config/.ewatercycle/ewatercycle.yaml` or `/etc/ewatercycle.yaml` and can be imported with `from ewatercycle import CFG`. Relevant settings for lisflood are:\n",
    "\n",
    "```Yaml\n",
    "container_engine: singularity # or docker\n",
    "singularity_dir: '.' # if container_engine is singularity\n",
    "output_dir: './' # the directory where the model work_dir will be created\n",
    "```"
   ]
  },
  {
   "cell_type": "code",
   "execution_count": 3,
   "id": "8ff5018d",
   "metadata": {},
   "outputs": [],
   "source": [
    "CFG.load_from_file('./ewatercycle.yaml')"
   ]
  },
  {
   "cell_type": "code",
   "execution_count": 4,
   "id": "08860d19",
   "metadata": {},
   "outputs": [],
   "source": [
    "parameterset = LisfloodParameterSet(\n",
    "    PathRoot='/projects/0/wtrcycle/comparison/lisflood_input/Lisflood01degree_masked',\n",
    "    MaskMap='/projects/0/wtrcycle/comparison/recipes_auxiliary_datasets/LISFLOOD/model_mask.nc',\n",
    "    config_template='/projects/0/wtrcycle/comparison/lisflood_input/settings_templates/settings_lisflood.xml',\n",
    ")"
   ]
  },
  {
   "cell_type": "code",
   "execution_count": 5,
   "id": "ceb61a04",
   "metadata": {},
   "outputs": [
    {
     "data": {
      "text/plain": [
       "['20.10']"
      ]
     },
     "execution_count": 5,
     "metadata": {},
     "output_type": "execute_result"
    }
   ],
   "source": [
    "ewatercycle.models.Lisflood.available_versions"
   ]
  },
  {
   "cell_type": "code",
   "execution_count": 6,
   "id": "c220553e",
   "metadata": {},
   "outputs": [
    {
     "data": {
      "text/plain": [
       "LisfloodForcing(start_time='1990-01-01T00:00:00Z', end_time='1990-12-31T00:00:00Z', directory='/scratch/shared/ewatercycle/lisflood_forcing_data/', shape=None, PrefixPrecipitation='lisflood_ERA-Interim_pr_1990_1990.nc', PrefixTavg='lisflood_ERA-Interim_tas_1990_1990.nc', PrefixE0='lisflood_e0_1990_1990.nc', PrefixES0='lisflood_es0_1990_1990.nc', PrefixET0='lisflood_et0_1990_1990.nc')"
      ]
     },
     "execution_count": 6,
     "metadata": {},
     "output_type": "execute_result"
    }
   ],
   "source": [
    "# lisflood_ERA-Interim_*_1990_1990.nc data can be copied \n",
    "# from /projects/0/wtrcycle/comparison/forcing/lisflood\n",
    "# also the forcing_dir should include the lisvap output files\n",
    "forcing = load_foreign(target_model='lisflood',\n",
    "                     directory='/scratch/shared/ewatercycle/lisflood_forcing_data/',\n",
    "                     start_time='1990-01-01T00:00:00Z',\n",
    "                     end_time='1990-12-31T00:00:00Z',\n",
    "                     forcing_info={\n",
    "                         'PrefixPrecipitation': 'lisflood_ERA-Interim_pr_1990_1990.nc',\n",
    "                         'PrefixTavg': 'lisflood_ERA-Interim_tas_1990_1990.nc',\n",
    "                         'PrefixE0': 'lisflood_e0_1990_1990.nc',\n",
    "                         'PrefixES0': 'lisflood_es0_1990_1990.nc',\n",
    "                         'PrefixET0': 'lisflood_et0_1990_1990.nc',\n",
    "                     })\n",
    "forcing"
   ]
  },
  {
   "cell_type": "code",
   "execution_count": 7,
   "id": "2717526a",
   "metadata": {},
   "outputs": [
    {
     "data": {
      "text/plain": [
       "<ewatercycle.models.lisflood.Lisflood at 0x2b4b48470250>"
      ]
     },
     "execution_count": 7,
     "metadata": {},
     "output_type": "execute_result"
    }
   ],
   "source": [
    "# create lisflood instance\n",
    "model = ewatercycle.models.Lisflood(version='20.10', parameter_set=parameterset, forcing=forcing)\n",
    "model"
   ]
  },
  {
   "cell_type": "code",
   "execution_count": 8,
   "id": "3ade51be",
   "metadata": {},
   "outputs": [
    {
     "data": {
      "text/plain": [
       "[('IrrigationEfficiency', '0.75'),\n",
       " ('PathRoot',\n",
       "  '/lustre1/0/wtrcycle/comparison/lisflood_input/Lisflood01degree_masked'),\n",
       " ('MaskMap',\n",
       "  '/lustre1/0/wtrcycle/comparison/recipes_auxiliary_datasets/LISFLOOD'),\n",
       " ('config_template',\n",
       "  '/lustre1/0/wtrcycle/comparison/lisflood_input/settings_templates/settings_lisflood.xml'),\n",
       " ('start_time', '1990-01-01T00:00:00Z'),\n",
       " ('end_time', '1990-12-31T00:00:00Z'),\n",
       " ('forcing directory', '/scratch/shared/ewatercycle/lisflood_forcing_data')]"
      ]
     },
     "execution_count": 8,
     "metadata": {},
     "output_type": "execute_result"
    }
   ],
   "source": [
    "model.parameters"
   ]
  },
  {
   "cell_type": "code",
   "execution_count": 9,
   "id": "ec7d05f7",
   "metadata": {},
   "outputs": [
    {
     "name": "stdout",
     "output_type": "stream",
     "text": [
      "Running /nfs/home2/fakhereh/temp/lisflood_run/ewatercycle-lisflood-grpc4bmi_20.10.sif singularity container on port 42559\n"
     ]
    }
   ],
   "source": [
    "# setup model\n",
    "config_file, config_dir = model.setup(IrrigationEfficiency='0.8', end_time='1990-10-10T00:00:00Z')"
   ]
  },
  {
   "cell_type": "code",
   "execution_count": 10,
   "id": "e2707fc1",
   "metadata": {},
   "outputs": [
    {
     "name": "stdout",
     "output_type": "stream",
     "text": [
      "/scratch/shared/ewatercycle/lisflood_20210621_164834/lisflood_setting.xml\n",
      "/scratch/shared/ewatercycle/lisflood_20210621_164834\n"
     ]
    },
    {
     "data": {
      "text/plain": [
       "[('IrrigationEfficiency', '0.8'),\n",
       " ('PathRoot',\n",
       "  '/lustre1/0/wtrcycle/comparison/lisflood_input/Lisflood01degree_masked'),\n",
       " ('MaskMap',\n",
       "  '/lustre1/0/wtrcycle/comparison/recipes_auxiliary_datasets/LISFLOOD'),\n",
       " ('config_template',\n",
       "  '/lustre1/0/wtrcycle/comparison/lisflood_input/settings_templates/settings_lisflood.xml'),\n",
       " ('start_time', '1990-01-01T00:00:00Z'),\n",
       " ('end_time', '1990-10-10T00:00:00Z'),\n",
       " ('forcing directory', '/scratch/shared/ewatercycle/lisflood_forcing_data')]"
      ]
     },
     "execution_count": 10,
     "metadata": {},
     "output_type": "execute_result"
    }
   ],
   "source": [
    "print(config_file)\n",
    "print(config_dir)\n",
    "model.parameters"
   ]
  },
  {
   "cell_type": "code",
   "execution_count": 11,
   "id": "ebe5fdac",
   "metadata": {},
   "outputs": [
    {
     "name": "stdout",
     "output_type": "stream",
     "text": [
      "('Discharge',)\n"
     ]
    }
   ],
   "source": [
    "# get metadata\n",
    "print(model.output_var_names)"
   ]
  },
  {
   "cell_type": "code",
   "execution_count": 12,
   "id": "0ae3f0da",
   "metadata": {},
   "outputs": [],
   "source": [
    "# initialize\n",
    "model.initialize(str(config_file))"
   ]
  },
  {
   "cell_type": "code",
   "execution_count": 13,
   "id": "4fb130e6",
   "metadata": {},
   "outputs": [],
   "source": [
    "# run model with bmi\n",
    "model.update()"
   ]
  },
  {
   "cell_type": "code",
   "execution_count": 14,
   "id": "ed424c51",
   "metadata": {},
   "outputs": [],
   "source": [
    "# get value\n",
    "discharge = model.get_value('Discharge')"
   ]
  },
  {
   "cell_type": "code",
   "execution_count": 15,
   "id": "97fdceaa",
   "metadata": {},
   "outputs": [
    {
     "data": {
      "text/plain": [
       "3060"
      ]
     },
     "execution_count": 15,
     "metadata": {},
     "output_type": "execute_result"
    }
   ],
   "source": [
    "np.count_nonzero(~np.isnan(discharge))"
   ]
  },
  {
   "cell_type": "code",
   "execution_count": 16,
   "id": "a08e63d8",
   "metadata": {},
   "outputs": [],
   "source": [
    "discharge = model.get_value_as_xarray('Discharge')"
   ]
  },
  {
   "cell_type": "code",
   "execution_count": 17,
   "id": "d159b951",
   "metadata": {},
   "outputs": [
    {
     "data": {
      "text/html": [
       "<div><svg style=\"position: absolute; width: 0; height: 0; overflow: hidden\">\n",
       "<defs>\n",
       "<symbol id=\"icon-database\" viewBox=\"0 0 32 32\">\n",
       "<path d=\"M16 0c-8.837 0-16 2.239-16 5v4c0 2.761 7.163 5 16 5s16-2.239 16-5v-4c0-2.761-7.163-5-16-5z\"></path>\n",
       "<path d=\"M16 17c-8.837 0-16-2.239-16-5v6c0 2.761 7.163 5 16 5s16-2.239 16-5v-6c0 2.761-7.163 5-16 5z\"></path>\n",
       "<path d=\"M16 26c-8.837 0-16-2.239-16-5v6c0 2.761 7.163 5 16 5s16-2.239 16-5v-6c0 2.761-7.163 5-16 5z\"></path>\n",
       "</symbol>\n",
       "<symbol id=\"icon-file-text2\" viewBox=\"0 0 32 32\">\n",
       "<path d=\"M28.681 7.159c-0.694-0.947-1.662-2.053-2.724-3.116s-2.169-2.030-3.116-2.724c-1.612-1.182-2.393-1.319-2.841-1.319h-15.5c-1.378 0-2.5 1.121-2.5 2.5v27c0 1.378 1.122 2.5 2.5 2.5h23c1.378 0 2.5-1.122 2.5-2.5v-19.5c0-0.448-0.137-1.23-1.319-2.841zM24.543 5.457c0.959 0.959 1.712 1.825 2.268 2.543h-4.811v-4.811c0.718 0.556 1.584 1.309 2.543 2.268zM28 29.5c0 0.271-0.229 0.5-0.5 0.5h-23c-0.271 0-0.5-0.229-0.5-0.5v-27c0-0.271 0.229-0.5 0.5-0.5 0 0 15.499-0 15.5 0v7c0 0.552 0.448 1 1 1h7v19.5z\"></path>\n",
       "<path d=\"M23 26h-14c-0.552 0-1-0.448-1-1s0.448-1 1-1h14c0.552 0 1 0.448 1 1s-0.448 1-1 1z\"></path>\n",
       "<path d=\"M23 22h-14c-0.552 0-1-0.448-1-1s0.448-1 1-1h14c0.552 0 1 0.448 1 1s-0.448 1-1 1z\"></path>\n",
       "<path d=\"M23 18h-14c-0.552 0-1-0.448-1-1s0.448-1 1-1h14c0.552 0 1 0.448 1 1s-0.448 1-1 1z\"></path>\n",
       "</symbol>\n",
       "</defs>\n",
       "</svg>\n",
       "<style>/* CSS stylesheet for displaying xarray objects in jupyterlab.\n",
       " *\n",
       " */\n",
       "\n",
       ":root {\n",
       "  --xr-font-color0: var(--jp-content-font-color0, rgba(0, 0, 0, 1));\n",
       "  --xr-font-color2: var(--jp-content-font-color2, rgba(0, 0, 0, 0.54));\n",
       "  --xr-font-color3: var(--jp-content-font-color3, rgba(0, 0, 0, 0.38));\n",
       "  --xr-border-color: var(--jp-border-color2, #e0e0e0);\n",
       "  --xr-disabled-color: var(--jp-layout-color3, #bdbdbd);\n",
       "  --xr-background-color: var(--jp-layout-color0, white);\n",
       "  --xr-background-color-row-even: var(--jp-layout-color1, white);\n",
       "  --xr-background-color-row-odd: var(--jp-layout-color2, #eeeeee);\n",
       "}\n",
       "\n",
       "html[theme=dark],\n",
       "body.vscode-dark {\n",
       "  --xr-font-color0: rgba(255, 255, 255, 1);\n",
       "  --xr-font-color2: rgba(255, 255, 255, 0.54);\n",
       "  --xr-font-color3: rgba(255, 255, 255, 0.38);\n",
       "  --xr-border-color: #1F1F1F;\n",
       "  --xr-disabled-color: #515151;\n",
       "  --xr-background-color: #111111;\n",
       "  --xr-background-color-row-even: #111111;\n",
       "  --xr-background-color-row-odd: #313131;\n",
       "}\n",
       "\n",
       ".xr-wrap {\n",
       "  display: block;\n",
       "  min-width: 300px;\n",
       "  max-width: 700px;\n",
       "}\n",
       "\n",
       ".xr-text-repr-fallback {\n",
       "  /* fallback to plain text repr when CSS is not injected (untrusted notebook) */\n",
       "  display: none;\n",
       "}\n",
       "\n",
       ".xr-header {\n",
       "  padding-top: 6px;\n",
       "  padding-bottom: 6px;\n",
       "  margin-bottom: 4px;\n",
       "  border-bottom: solid 1px var(--xr-border-color);\n",
       "}\n",
       "\n",
       ".xr-header > div,\n",
       ".xr-header > ul {\n",
       "  display: inline;\n",
       "  margin-top: 0;\n",
       "  margin-bottom: 0;\n",
       "}\n",
       "\n",
       ".xr-obj-type,\n",
       ".xr-array-name {\n",
       "  margin-left: 2px;\n",
       "  margin-right: 10px;\n",
       "}\n",
       "\n",
       ".xr-obj-type {\n",
       "  color: var(--xr-font-color2);\n",
       "}\n",
       "\n",
       ".xr-sections {\n",
       "  padding-left: 0 !important;\n",
       "  display: grid;\n",
       "  grid-template-columns: 150px auto auto 1fr 20px 20px;\n",
       "}\n",
       "\n",
       ".xr-section-item {\n",
       "  display: contents;\n",
       "}\n",
       "\n",
       ".xr-section-item input {\n",
       "  display: none;\n",
       "}\n",
       "\n",
       ".xr-section-item input + label {\n",
       "  color: var(--xr-disabled-color);\n",
       "}\n",
       "\n",
       ".xr-section-item input:enabled + label {\n",
       "  cursor: pointer;\n",
       "  color: var(--xr-font-color2);\n",
       "}\n",
       "\n",
       ".xr-section-item input:enabled + label:hover {\n",
       "  color: var(--xr-font-color0);\n",
       "}\n",
       "\n",
       ".xr-section-summary {\n",
       "  grid-column: 1;\n",
       "  color: var(--xr-font-color2);\n",
       "  font-weight: 500;\n",
       "}\n",
       "\n",
       ".xr-section-summary > span {\n",
       "  display: inline-block;\n",
       "  padding-left: 0.5em;\n",
       "}\n",
       "\n",
       ".xr-section-summary-in:disabled + label {\n",
       "  color: var(--xr-font-color2);\n",
       "}\n",
       "\n",
       ".xr-section-summary-in + label:before {\n",
       "  display: inline-block;\n",
       "  content: '►';\n",
       "  font-size: 11px;\n",
       "  width: 15px;\n",
       "  text-align: center;\n",
       "}\n",
       "\n",
       ".xr-section-summary-in:disabled + label:before {\n",
       "  color: var(--xr-disabled-color);\n",
       "}\n",
       "\n",
       ".xr-section-summary-in:checked + label:before {\n",
       "  content: '▼';\n",
       "}\n",
       "\n",
       ".xr-section-summary-in:checked + label > span {\n",
       "  display: none;\n",
       "}\n",
       "\n",
       ".xr-section-summary,\n",
       ".xr-section-inline-details {\n",
       "  padding-top: 4px;\n",
       "  padding-bottom: 4px;\n",
       "}\n",
       "\n",
       ".xr-section-inline-details {\n",
       "  grid-column: 2 / -1;\n",
       "}\n",
       "\n",
       ".xr-section-details {\n",
       "  display: none;\n",
       "  grid-column: 1 / -1;\n",
       "  margin-bottom: 5px;\n",
       "}\n",
       "\n",
       ".xr-section-summary-in:checked ~ .xr-section-details {\n",
       "  display: contents;\n",
       "}\n",
       "\n",
       ".xr-array-wrap {\n",
       "  grid-column: 1 / -1;\n",
       "  display: grid;\n",
       "  grid-template-columns: 20px auto;\n",
       "}\n",
       "\n",
       ".xr-array-wrap > label {\n",
       "  grid-column: 1;\n",
       "  vertical-align: top;\n",
       "}\n",
       "\n",
       ".xr-preview {\n",
       "  color: var(--xr-font-color3);\n",
       "}\n",
       "\n",
       ".xr-array-preview,\n",
       ".xr-array-data {\n",
       "  padding: 0 5px !important;\n",
       "  grid-column: 2;\n",
       "}\n",
       "\n",
       ".xr-array-data,\n",
       ".xr-array-in:checked ~ .xr-array-preview {\n",
       "  display: none;\n",
       "}\n",
       "\n",
       ".xr-array-in:checked ~ .xr-array-data,\n",
       ".xr-array-preview {\n",
       "  display: inline-block;\n",
       "}\n",
       "\n",
       ".xr-dim-list {\n",
       "  display: inline-block !important;\n",
       "  list-style: none;\n",
       "  padding: 0 !important;\n",
       "  margin: 0;\n",
       "}\n",
       "\n",
       ".xr-dim-list li {\n",
       "  display: inline-block;\n",
       "  padding: 0;\n",
       "  margin: 0;\n",
       "}\n",
       "\n",
       ".xr-dim-list:before {\n",
       "  content: '(';\n",
       "}\n",
       "\n",
       ".xr-dim-list:after {\n",
       "  content: ')';\n",
       "}\n",
       "\n",
       ".xr-dim-list li:not(:last-child):after {\n",
       "  content: ',';\n",
       "  padding-right: 5px;\n",
       "}\n",
       "\n",
       ".xr-has-index {\n",
       "  font-weight: bold;\n",
       "}\n",
       "\n",
       ".xr-var-list,\n",
       ".xr-var-item {\n",
       "  display: contents;\n",
       "}\n",
       "\n",
       ".xr-var-item > div,\n",
       ".xr-var-item label,\n",
       ".xr-var-item > .xr-var-name span {\n",
       "  background-color: var(--xr-background-color-row-even);\n",
       "  margin-bottom: 0;\n",
       "}\n",
       "\n",
       ".xr-var-item > .xr-var-name:hover span {\n",
       "  padding-right: 5px;\n",
       "}\n",
       "\n",
       ".xr-var-list > li:nth-child(odd) > div,\n",
       ".xr-var-list > li:nth-child(odd) > label,\n",
       ".xr-var-list > li:nth-child(odd) > .xr-var-name span {\n",
       "  background-color: var(--xr-background-color-row-odd);\n",
       "}\n",
       "\n",
       ".xr-var-name {\n",
       "  grid-column: 1;\n",
       "}\n",
       "\n",
       ".xr-var-dims {\n",
       "  grid-column: 2;\n",
       "}\n",
       "\n",
       ".xr-var-dtype {\n",
       "  grid-column: 3;\n",
       "  text-align: right;\n",
       "  color: var(--xr-font-color2);\n",
       "}\n",
       "\n",
       ".xr-var-preview {\n",
       "  grid-column: 4;\n",
       "}\n",
       "\n",
       ".xr-var-name,\n",
       ".xr-var-dims,\n",
       ".xr-var-dtype,\n",
       ".xr-preview,\n",
       ".xr-attrs dt {\n",
       "  white-space: nowrap;\n",
       "  overflow: hidden;\n",
       "  text-overflow: ellipsis;\n",
       "  padding-right: 10px;\n",
       "}\n",
       "\n",
       ".xr-var-name:hover,\n",
       ".xr-var-dims:hover,\n",
       ".xr-var-dtype:hover,\n",
       ".xr-attrs dt:hover {\n",
       "  overflow: visible;\n",
       "  width: auto;\n",
       "  z-index: 1;\n",
       "}\n",
       "\n",
       ".xr-var-attrs,\n",
       ".xr-var-data {\n",
       "  display: none;\n",
       "  background-color: var(--xr-background-color) !important;\n",
       "  padding-bottom: 5px !important;\n",
       "}\n",
       "\n",
       ".xr-var-attrs-in:checked ~ .xr-var-attrs,\n",
       ".xr-var-data-in:checked ~ .xr-var-data {\n",
       "  display: block;\n",
       "}\n",
       "\n",
       ".xr-var-data > table {\n",
       "  float: right;\n",
       "}\n",
       "\n",
       ".xr-var-name span,\n",
       ".xr-var-data,\n",
       ".xr-attrs {\n",
       "  padding-left: 25px !important;\n",
       "}\n",
       "\n",
       ".xr-attrs,\n",
       ".xr-var-attrs,\n",
       ".xr-var-data {\n",
       "  grid-column: 1 / -1;\n",
       "}\n",
       "\n",
       "dl.xr-attrs {\n",
       "  padding: 0;\n",
       "  margin: 0;\n",
       "  display: grid;\n",
       "  grid-template-columns: 125px auto;\n",
       "}\n",
       "\n",
       ".xr-attrs dt,\n",
       ".xr-attrs dd {\n",
       "  padding: 0;\n",
       "  margin: 0;\n",
       "  float: left;\n",
       "  padding-right: 10px;\n",
       "  width: auto;\n",
       "}\n",
       "\n",
       ".xr-attrs dt {\n",
       "  font-weight: normal;\n",
       "  grid-column: 1;\n",
       "}\n",
       "\n",
       ".xr-attrs dt:hover span {\n",
       "  display: inline-block;\n",
       "  background: var(--xr-background-color);\n",
       "  padding-right: 10px;\n",
       "}\n",
       "\n",
       ".xr-attrs dd {\n",
       "  grid-column: 2;\n",
       "  white-space: pre-wrap;\n",
       "  word-break: break-all;\n",
       "}\n",
       "\n",
       ".xr-icon-database,\n",
       ".xr-icon-file-text2 {\n",
       "  display: inline-block;\n",
       "  vertical-align: middle;\n",
       "  width: 1em;\n",
       "  height: 1.5em !important;\n",
       "  stroke-width: 0;\n",
       "  stroke: currentColor;\n",
       "  fill: currentColor;\n",
       "}\n",
       "</style><pre class='xr-text-repr-fallback'>&lt;xarray.DataArray &#x27;Discharge&#x27; (latitude: 1500, longitude: 3600)&gt;\n",
       "array([[nan, nan, nan, ..., nan, nan, nan],\n",
       "       [nan, nan, nan, ..., nan, nan, nan],\n",
       "       [nan, nan, nan, ..., nan, nan, nan],\n",
       "       ...,\n",
       "       [nan, nan, nan, ..., nan, nan, nan],\n",
       "       [nan, nan, nan, ..., nan, nan, nan],\n",
       "       [nan, nan, nan, ..., nan, nan, nan]])\n",
       "Coordinates:\n",
       "  * longitude  (longitude) float64 -179.9 -179.8 -179.8 ... 179.7 179.8 179.9\n",
       "  * latitude   (latitude) float64 89.95 89.85 89.75 ... -59.75 -59.85 -59.95\n",
       "    time       object 1990-01-03 00:00:00\n",
       "Attributes:\n",
       "    units:    m^3/s</pre><div class='xr-wrap' hidden><div class='xr-header'><div class='xr-obj-type'>xarray.DataArray</div><div class='xr-array-name'>'Discharge'</div><ul class='xr-dim-list'><li><span class='xr-has-index'>latitude</span>: 1500</li><li><span class='xr-has-index'>longitude</span>: 3600</li></ul></div><ul class='xr-sections'><li class='xr-section-item'><div class='xr-array-wrap'><input id='section-10710cc1-1b8f-45c8-b6c0-591f03514933' class='xr-array-in' type='checkbox' checked><label for='section-10710cc1-1b8f-45c8-b6c0-591f03514933' title='Show/hide data repr'><svg class='icon xr-icon-database'><use xlink:href='#icon-database'></use></svg></label><div class='xr-array-preview xr-preview'><span>nan nan nan nan nan nan nan nan ... nan nan nan nan nan nan nan nan</span></div><div class='xr-array-data'><pre>array([[nan, nan, nan, ..., nan, nan, nan],\n",
       "       [nan, nan, nan, ..., nan, nan, nan],\n",
       "       [nan, nan, nan, ..., nan, nan, nan],\n",
       "       ...,\n",
       "       [nan, nan, nan, ..., nan, nan, nan],\n",
       "       [nan, nan, nan, ..., nan, nan, nan],\n",
       "       [nan, nan, nan, ..., nan, nan, nan]])</pre></div></div></li><li class='xr-section-item'><input id='section-e001452b-12fa-4c04-8670-df2ebc7540a1' class='xr-section-summary-in' type='checkbox'  checked><label for='section-e001452b-12fa-4c04-8670-df2ebc7540a1' class='xr-section-summary' >Coordinates: <span>(3)</span></label><div class='xr-section-inline-details'></div><div class='xr-section-details'><ul class='xr-var-list'><li class='xr-var-item'><div class='xr-var-name'><span class='xr-has-index'>longitude</span></div><div class='xr-var-dims'>(longitude)</div><div class='xr-var-dtype'>float64</div><div class='xr-var-preview xr-preview'>-179.9 -179.8 ... 179.8 179.9</div><input id='attrs-96a33734-845d-4f87-af7f-e3d7a038ef37' class='xr-var-attrs-in' type='checkbox' disabled><label for='attrs-96a33734-845d-4f87-af7f-e3d7a038ef37' title='Show/Hide attributes'><svg class='icon xr-icon-file-text2'><use xlink:href='#icon-file-text2'></use></svg></label><input id='data-04adeab5-63fd-4547-a361-2f40106a0cfa' class='xr-var-data-in' type='checkbox'><label for='data-04adeab5-63fd-4547-a361-2f40106a0cfa' title='Show/Hide data repr'><svg class='icon xr-icon-database'><use xlink:href='#icon-database'></use></svg></label><div class='xr-var-attrs'><dl class='xr-attrs'></dl></div><div class='xr-var-data'><pre>array([-179.95, -179.85, -179.75, ...,  179.75,  179.85,  179.95])</pre></div></li><li class='xr-var-item'><div class='xr-var-name'><span class='xr-has-index'>latitude</span></div><div class='xr-var-dims'>(latitude)</div><div class='xr-var-dtype'>float64</div><div class='xr-var-preview xr-preview'>89.95 89.85 89.75 ... -59.85 -59.95</div><input id='attrs-3d974e5e-9f41-4c97-acc1-b4987409c690' class='xr-var-attrs-in' type='checkbox' disabled><label for='attrs-3d974e5e-9f41-4c97-acc1-b4987409c690' title='Show/Hide attributes'><svg class='icon xr-icon-file-text2'><use xlink:href='#icon-file-text2'></use></svg></label><input id='data-008a7697-0b5b-486c-9b12-eb848e3f377f' class='xr-var-data-in' type='checkbox'><label for='data-008a7697-0b5b-486c-9b12-eb848e3f377f' title='Show/Hide data repr'><svg class='icon xr-icon-database'><use xlink:href='#icon-database'></use></svg></label><div class='xr-var-attrs'><dl class='xr-attrs'></dl></div><div class='xr-var-data'><pre>array([ 89.95,  89.85,  89.75, ..., -59.75, -59.85, -59.95])</pre></div></li><li class='xr-var-item'><div class='xr-var-name'><span>time</span></div><div class='xr-var-dims'>()</div><div class='xr-var-dtype'>object</div><div class='xr-var-preview xr-preview'>1990-01-03 00:00:00</div><input id='attrs-4b6f5d3c-a63c-4afe-8873-e5a3d868d1d3' class='xr-var-attrs-in' type='checkbox' disabled><label for='attrs-4b6f5d3c-a63c-4afe-8873-e5a3d868d1d3' title='Show/Hide attributes'><svg class='icon xr-icon-file-text2'><use xlink:href='#icon-file-text2'></use></svg></label><input id='data-314da915-ce97-493f-b079-70f066e6f26c' class='xr-var-data-in' type='checkbox'><label for='data-314da915-ce97-493f-b079-70f066e6f26c' title='Show/Hide data repr'><svg class='icon xr-icon-database'><use xlink:href='#icon-database'></use></svg></label><div class='xr-var-attrs'><dl class='xr-attrs'></dl></div><div class='xr-var-data'><pre>array(cftime.DatetimeGregorian(1990, 1, 3, 0, 0, 0, 0), dtype=object)</pre></div></li></ul></div></li><li class='xr-section-item'><input id='section-99e08af7-f5f1-4a39-8441-cbfcc2784e1e' class='xr-section-summary-in' type='checkbox'  checked><label for='section-99e08af7-f5f1-4a39-8441-cbfcc2784e1e' class='xr-section-summary' >Attributes: <span>(1)</span></label><div class='xr-section-inline-details'></div><div class='xr-section-details'><dl class='xr-attrs'><dt><span>units :</span></dt><dd>m^3/s</dd></dl></div></li></ul></div></div>"
      ],
      "text/plain": [
       "<xarray.DataArray 'Discharge' (latitude: 1500, longitude: 3600)>\n",
       "array([[nan, nan, nan, ..., nan, nan, nan],\n",
       "       [nan, nan, nan, ..., nan, nan, nan],\n",
       "       [nan, nan, nan, ..., nan, nan, nan],\n",
       "       ...,\n",
       "       [nan, nan, nan, ..., nan, nan, nan],\n",
       "       [nan, nan, nan, ..., nan, nan, nan],\n",
       "       [nan, nan, nan, ..., nan, nan, nan]])\n",
       "Coordinates:\n",
       "  * longitude  (longitude) float64 -179.9 -179.8 -179.8 ... 179.7 179.8 179.9\n",
       "  * latitude   (latitude) float64 89.95 89.85 89.75 ... -59.75 -59.85 -59.95\n",
       "    time       object 1990-01-03 00:00:00\n",
       "Attributes:\n",
       "    units:    m^3/s"
      ]
     },
     "execution_count": 17,
     "metadata": {},
     "output_type": "execute_result"
    }
   ],
   "source": [
    "discharge"
   ]
  },
  {
   "cell_type": "code",
   "execution_count": 18,
   "id": "7d33c370",
   "metadata": {},
   "outputs": [
    {
     "data": {
      "text/plain": [
       "<matplotlib.collections.QuadMesh at 0x2b4b6b33cac0>"
      ]
     },
     "execution_count": 18,
     "metadata": {},
     "output_type": "execute_result"
    },
    {
     "data": {
      "image/png": "[encoded data removed]",
      "text/plain": [
       "<Figure size 432x288 with 2 Axes>"
      ]
     },
     "metadata": {
      "needs_background": "light"
     },
     "output_type": "display_data"
    }
   ],
   "source": [
    "lc = discharge.coords[\"longitude\"]\n",
    "la = discharge.coords[\"latitude\"]\n",
    "discharge.loc[\n",
    "    dict(longitude=lc[(lc > 3) & (lc < 12)], latitude=la[(la > 46) & (la < 52)])].plot(robust=True, cmap='GnBu')"
   ]
  },
  {
   "cell_type": "code",
   "execution_count": 19,
   "id": "92b884c5",
   "metadata": {},
   "outputs": [
    {
     "data": {
      "text/plain": [
       "array([9.10970681])"
      ]
     },
     "execution_count": 19,
     "metadata": {},
     "output_type": "execute_result"
    }
   ],
   "source": [
    "# get value at coordinates\n",
    "model.get_value_at_coords('Discharge', lon=[-71.35], lat=[42.64])"
   ]
  },
  {
   "cell_type": "code",
   "execution_count": 21,
   "id": "a28d9a36",
   "metadata": {},
   "outputs": [
    {
     "data": {
      "text/plain": [
       "(array([1703886, 1413056]), array([-71.35,   5.65]), array([42.65, 50.75]))"
      ]
     },
     "execution_count": 21,
     "metadata": {},
     "output_type": "execute_result"
    }
   ],
   "source": [
    "# coords to indices\n",
    "model._coords_to_indices('Discharge',  lon=[-71.35, 5.6], lat=[42.65, 50.7])"
   ]
  },
  {
   "cell_type": "code",
   "execution_count": 22,
   "id": "9855918a",
   "metadata": {},
   "outputs": [],
   "source": [
    "# stop the model\n",
    "del model.bmi"
   ]
  },
  {
   "cell_type": "code",
   "execution_count": null,
   "id": "675b6b06",
   "metadata": {},
   "outputs": [],
   "source": []
  }
 ],
 "metadata": {
  "kernelspec": {
   "display_name": "Python 3",
   "language": "python",
   "name": "python3"
  },
  "language_info": {
   "codemirror_mode": {
    "name": "ipython",
    "version": 3
   },
   "file_extension": ".py",
   "mimetype": "text/x-python",
   "name": "python",
   "nbconvert_exporter": "python",
   "pygments_lexer": "ipython3",
   "version": "3.9.2"
  }
 },
 "nbformat": 4,
 "nbformat_minor": 5
}
