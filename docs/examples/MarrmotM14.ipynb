{
 "cells": [
  {
   "cell_type": "markdown",
   "id": "d89b13cc",
   "metadata": {},
   "source": [
    "# Running Marrmot M01 using the ewatercycle system"
   ]
  },
  {
   "cell_type": "markdown",
   "id": "d2cabb04",
   "metadata": {},
   "source": [
    "Make sure your ewatercycle conda environment is [activated](https://github.com/eWaterCycle/ewatercycle#install).\n",
    "\n",
    "### 1. Copy an example case\n",
    "\n",
    "On https://github.com/wknoben/MARRMoT/tree/master/BMI/Config there is a example config file."
   ]
  },
  {
   "cell_type": "code",
   "execution_count": 1,
   "id": "85b02133-aa4b-4135-a733-d00c053a560d",
   "metadata": {},
   "outputs": [],
   "source": [
    "from pathlib import Path\n",
    "forcing_file = Path('./BMI_testcase_m01_BuffaloRiver_TN_USA.mat')"
   ]
  },
  {
   "cell_type": "code",
   "execution_count": null,
   "id": "e416e470-0501-4e3a-9fd0-ea152c439826",
   "metadata": {},
   "outputs": [],
   "source": [
    "from ewatercycle.parametersetdb.datafiles import SubversionCopier\n",
    "copier = SubversionCopier('https://github.com/wknoben/MARRMoT/trunk/BMI/Config/BMI_testcase_m01_BuffaloRiver_TN_USA.mat')\n",
    "copier.save(forcing_file)"
   ]
  },
  {
   "cell_type": "code",
   "execution_count": null,
   "id": "5ff79544-874d-4a74-8bda-e9d0c1d98def",
   "metadata": {},
   "outputs": [],
   "source": [
    "from ewatercycle.forcing import load_foreign"
   ]
  },
  {
   "cell_type": "code",
   "execution_count": 3,
   "id": "c03cabb6-9cb3-4da3-ac96-732ba870d460",
   "metadata": {},
   "outputs": [
    {
     "data": {
      "text/plain": [
       "MarrmotForcing(start_time='1989-01-01T00:00:00Z', end_time='1992-12-31T00:00:00Z', directory='.', shape=None, forcing_file='BMI_testcase_m01_BuffaloRiver_TN_USA.mat')"
      ]
     },
     "execution_count": 3,
     "metadata": {},
     "output_type": "execute_result"
    }
   ],
   "source": [
    "forcing = load_foreign('marrmot',\n",
    "                        directory='.',\n",
    "                        start_time='1989-01-01T00:00:00Z',\n",
    "                        end_time='1992-12-31T00:00:00Z',\n",
    "                        forcing_info={\n",
    "                            'forcing_file': 'BMI_testcase_m01_BuffaloRiver_TN_USA.mat'\n",
    "                        })\n",
    "forcing"
   ]
  },
  {
   "cell_type": "markdown",
   "id": "fd271664",
   "metadata": {},
   "source": [
    "### 2. Verify your configuration settings\n",
    "\n",
    "If you are working on a curated environment like https://lab.ewatercycle.org/, the default configuration should cover 90% of all use cases. However, for the other 10% here is a brief explanation of the relevant configuration settings. \n",
    "\n",
    "The ewatercycle configuration file is typcially stored in `~/.config/.ewatercycle/ewatercycle.yaml` or `/etc/ewatercycle.yaml` and can be imported with `from ewatercycle import CFG`. Relevant settings for any Marrmot model are:\n"
   ]
  },
  {
   "cell_type": "code",
   "execution_count": 4,
   "id": "069ee59d",
   "metadata": {},
   "outputs": [],
   "source": [
    "import yaml\n",
    "from ewatercycle.config import CFG"
   ]
  },
  {
   "cell_type": "code",
   "execution_count": 5,
   "id": "a3203d39",
   "metadata": {},
   "outputs": [],
   "source": [
    "with open('./ewatercycle.yaml', 'w') as f:\n",
    "    yaml.dump({\n",
    "        'container_engine': 'docker', # or singularity\n",
    "        'output_dir': './', # the directory where the model work_dir will be created\n",
    "    }, f)"
   ]
  },
  {
   "cell_type": "code",
   "execution_count": 6,
   "id": "5787b59b",
   "metadata": {},
   "outputs": [],
   "source": [
    "CFG.load_from_file('./ewatercycle.yaml')"
   ]
  },
  {
   "cell_type": "markdown",
   "id": "4bf3aebd",
   "metadata": {},
   "source": [
    "### 3. Setting uip the model"
   ]
  },
  {
   "cell_type": "code",
   "execution_count": 7,
   "id": "a47a6f73",
   "metadata": {},
   "outputs": [],
   "source": [
    "import ewatercycle.models"
   ]
  },
  {
   "cell_type": "code",
   "execution_count": 8,
   "id": "a46d2892",
   "metadata": {},
   "outputs": [
    {
     "data": {
      "text/plain": [
       "['2020.11']"
      ]
     },
     "execution_count": 8,
     "metadata": {},
     "output_type": "execute_result"
    }
   ],
   "source": [
    "ewatercycle.models.MarrmotM01.available_versions"
   ]
  },
  {
   "cell_type": "code",
   "execution_count": 9,
   "id": "c4bcdad8",
   "metadata": {},
   "outputs": [
    {
     "name": "stderr",
     "output_type": "stream",
     "text": [
      "/home/sarah/GitHub/ewatercycle/ewatercycle/models/marrmot.py:408: UserWarning: The length of parameters in forcing /home/sarah/GitHub/ewatercycle/examples/BMI_testcase_m01_BuffaloRiver_TN_USA.mat does not match the length of M14 parameters that is seven.\n",
      "/home/sarah/GitHub/ewatercycle/ewatercycle/models/marrmot.py:413: UserWarning: The length of initial stores in forcing /home/sarah/GitHub/ewatercycle/examples/BMI_testcase_m01_BuffaloRiver_TN_USA.mat does not match the length of M14 iniatial stores that is two.\n"
     ]
    },
    {
     "data": {
      "text/plain": [
       "<ewatercycle.models.marrmot.MarrmotM14 at 0x7f5ff44b9370>"
      ]
     },
     "execution_count": 9,
     "metadata": {},
     "output_type": "execute_result"
    }
   ],
   "source": [
    "model = ewatercycle.models.MarrmotM14(version='2020.11', forcing=forcing)\n",
    "model"
   ]
  },
  {
   "cell_type": "code",
   "execution_count": 10,
   "id": "4185acc3",
   "metadata": {},
   "outputs": [
    {
     "data": {
      "text/plain": [
       "[('maximum_soil_moisture_storage', 1000.0),\n",
       " ('threshold_flow_generation_evap_change', 0.5),\n",
       " ('leakage_saturated_zone_flow_coefficient', 0.5),\n",
       " ('zero_deficit_base_flow_speed', 100.0),\n",
       " ('baseflow_coefficient', 0.5),\n",
       " ('gamma_distribution_chi_parameter', 4.25),\n",
       " ('gamma_distribution_phi_parameter', 2.5),\n",
       " ('initial_upper_zone_storage', 900.0),\n",
       " ('initial_saturated_zone_storage', 900.0),\n",
       " ('solver',\n",
       "  Solver(name='createOdeApprox_IE', resnorm_tolerance=array([0.1]), resnorm_maxiter=array([6.]))),\n",
       " ('start time', '1989-01-01T00:00:00Z'),\n",
       " ('end time', '1992-12-31T00:00:00Z'),\n",
       " ('forcing_file',\n",
       "  '/home/sarah/GitHub/ewatercycle/examples/BMI_testcase_m01_BuffaloRiver_TN_USA.mat')]"
      ]
     },
     "execution_count": 10,
     "metadata": {},
     "output_type": "execute_result"
    }
   ],
   "source": [
    "model.parameters"
   ]
  },
  {
   "cell_type": "code",
   "execution_count": 11,
   "id": "5b41e8f7",
   "metadata": {},
   "outputs": [
    {
     "data": {
      "text/plain": [
       "(PosixPath('/home/sarah/GitHub/ewatercycle/examples/marrmot_20210603_153226/marrmot-m14_config.mat'),\n",
       " PosixPath('/home/sarah/GitHub/ewatercycle/examples/marrmot_20210603_153226'))"
      ]
     },
     "execution_count": 11,
     "metadata": {},
     "output_type": "execute_result"
    }
   ],
   "source": [
    "cfg_file, cfg_dir = model.setup(\n",
    "    maximum_soil_moisture_storage=1234.0,\n",
    "    end_time = \"1989-01-10T00:00:00Z\",\n",
    ")\n",
    "cfg_file, cfg_dir"
   ]
  },
  {
   "cell_type": "code",
   "execution_count": 12,
   "id": "925fd7bd",
   "metadata": {},
   "outputs": [
    {
     "data": {
      "text/plain": [
       "[('maximum_soil_moisture_storage', 1234.0),\n",
       " ('threshold_flow_generation_evap_change', 0.5),\n",
       " ('leakage_saturated_zone_flow_coefficient', 0.5),\n",
       " ('zero_deficit_base_flow_speed', 100.0),\n",
       " ('baseflow_coefficient', 0.5),\n",
       " ('gamma_distribution_chi_parameter', 4.25),\n",
       " ('gamma_distribution_phi_parameter', 2.5),\n",
       " ('initial_upper_zone_storage', 900.0),\n",
       " ('initial_saturated_zone_storage', 900.0),\n",
       " ('solver',\n",
       "  Solver(name='createOdeApprox_IE', resnorm_tolerance=array([0.1]), resnorm_maxiter=array([6.]))),\n",
       " ('start time', '1989-01-01T00:00:00Z'),\n",
       " ('end time', '1989-01-10T00:00:00Z'),\n",
       " ('forcing_file',\n",
       "  '/home/sarah/GitHub/ewatercycle/examples/BMI_testcase_m01_BuffaloRiver_TN_USA.mat')]"
      ]
     },
     "execution_count": 12,
     "metadata": {},
     "output_type": "execute_result"
    }
   ],
   "source": [
    "model.parameters"
   ]
  },
  {
   "cell_type": "code",
   "execution_count": 13,
   "id": "8476fe8a",
   "metadata": {},
   "outputs": [],
   "source": [
    "model.initialize(str(cfg_file))"
   ]
  },
  {
   "cell_type": "code",
   "execution_count": 14,
   "id": "516620d3",
   "metadata": {},
   "outputs": [],
   "source": [
    "model.update()"
   ]
  },
  {
   "cell_type": "code",
   "execution_count": 15,
   "id": "9e12e910",
   "metadata": {},
   "outputs": [
    {
     "data": {
      "text/plain": [
       "('P',\n",
       " 'T',\n",
       " 'Ep',\n",
       " 'S(t)',\n",
       " 'par',\n",
       " 'sol_resnorm_tolerance',\n",
       " 'sol_resnorm_maxiter',\n",
       " 'flux_out_Q',\n",
       " 'flux_out_Ea',\n",
       " 'wb')"
      ]
     },
     "execution_count": 15,
     "metadata": {},
     "output_type": "execute_result"
    }
   ],
   "source": [
    "model.output_var_names"
   ]
  },
  {
   "cell_type": "code",
   "execution_count": 16,
   "id": "c7302682",
   "metadata": {},
   "outputs": [
    {
     "data": {
      "text/plain": [
       "array([1.66866573e-08])"
      ]
     },
     "execution_count": 16,
     "metadata": {},
     "output_type": "execute_result"
    }
   ],
   "source": [
    "model.get_value('flux_out_Q')"
   ]
  },
  {
   "cell_type": "code",
   "execution_count": 17,
   "id": "769635d6",
   "metadata": {},
   "outputs": [
    {
     "data": {
      "text/html": [
       "<div><svg style=\"position: absolute; width: 0; height: 0; overflow: hidden\">\n",
       "<defs>\n",
       "<symbol id=\"icon-database\" viewBox=\"0 0 32 32\">\n",
       "<path d=\"M16 0c-8.837 0-16 2.239-16 5v4c0 2.761 7.163 5 16 5s16-2.239 16-5v-4c0-2.761-7.163-5-16-5z\"></path>\n",
       "<path d=\"M16 17c-8.837 0-16-2.239-16-5v6c0 2.761 7.163 5 16 5s16-2.239 16-5v-6c0 2.761-7.163 5-16 5z\"></path>\n",
       "<path d=\"M16 26c-8.837 0-16-2.239-16-5v6c0 2.761 7.163 5 16 5s16-2.239 16-5v-6c0 2.761-7.163 5-16 5z\"></path>\n",
       "</symbol>\n",
       "<symbol id=\"icon-file-text2\" viewBox=\"0 0 32 32\">\n",
       "<path d=\"M28.681 7.159c-0.694-0.947-1.662-2.053-2.724-3.116s-2.169-2.030-3.116-2.724c-1.612-1.182-2.393-1.319-2.841-1.319h-15.5c-1.378 0-2.5 1.121-2.5 2.5v27c0 1.378 1.122 2.5 2.5 2.5h23c1.378 0 2.5-1.122 2.5-2.5v-19.5c0-0.448-0.137-1.23-1.319-2.841zM24.543 5.457c0.959 0.959 1.712 1.825 2.268 2.543h-4.811v-4.811c0.718 0.556 1.584 1.309 2.543 2.268zM28 29.5c0 0.271-0.229 0.5-0.5 0.5h-23c-0.271 0-0.5-0.229-0.5-0.5v-27c0-0.271 0.229-0.5 0.5-0.5 0 0 15.499-0 15.5 0v7c0 0.552 0.448 1 1 1h7v19.5z\"></path>\n",
       "<path d=\"M23 26h-14c-0.552 0-1-0.448-1-1s0.448-1 1-1h14c0.552 0 1 0.448 1 1s-0.448 1-1 1z\"></path>\n",
       "<path d=\"M23 22h-14c-0.552 0-1-0.448-1-1s0.448-1 1-1h14c0.552 0 1 0.448 1 1s-0.448 1-1 1z\"></path>\n",
       "<path d=\"M23 18h-14c-0.552 0-1-0.448-1-1s0.448-1 1-1h14c0.552 0 1 0.448 1 1s-0.448 1-1 1z\"></path>\n",
       "</symbol>\n",
       "</defs>\n",
       "</svg>\n",
       "<style>/* CSS stylesheet for displaying xarray objects in jupyterlab.\n",
       " *\n",
       " */\n",
       "\n",
       ":root {\n",
       "  --xr-font-color0: var(--jp-content-font-color0, rgba(0, 0, 0, 1));\n",
       "  --xr-font-color2: var(--jp-content-font-color2, rgba(0, 0, 0, 0.54));\n",
       "  --xr-font-color3: var(--jp-content-font-color3, rgba(0, 0, 0, 0.38));\n",
       "  --xr-border-color: var(--jp-border-color2, #e0e0e0);\n",
       "  --xr-disabled-color: var(--jp-layout-color3, #bdbdbd);\n",
       "  --xr-background-color: var(--jp-layout-color0, white);\n",
       "  --xr-background-color-row-even: var(--jp-layout-color1, white);\n",
       "  --xr-background-color-row-odd: var(--jp-layout-color2, #eeeeee);\n",
       "}\n",
       "\n",
       "html[theme=dark],\n",
       "body.vscode-dark {\n",
       "  --xr-font-color0: rgba(255, 255, 255, 1);\n",
       "  --xr-font-color2: rgba(255, 255, 255, 0.54);\n",
       "  --xr-font-color3: rgba(255, 255, 255, 0.38);\n",
       "  --xr-border-color: #1F1F1F;\n",
       "  --xr-disabled-color: #515151;\n",
       "  --xr-background-color: #111111;\n",
       "  --xr-background-color-row-even: #111111;\n",
       "  --xr-background-color-row-odd: #313131;\n",
       "}\n",
       "\n",
       ".xr-wrap {\n",
       "  display: block;\n",
       "  min-width: 300px;\n",
       "  max-width: 700px;\n",
       "}\n",
       "\n",
       ".xr-text-repr-fallback {\n",
       "  /* fallback to plain text repr when CSS is not injected (untrusted notebook) */\n",
       "  display: none;\n",
       "}\n",
       "\n",
       ".xr-header {\n",
       "  padding-top: 6px;\n",
       "  padding-bottom: 6px;\n",
       "  margin-bottom: 4px;\n",
       "  border-bottom: solid 1px var(--xr-border-color);\n",
       "}\n",
       "\n",
       ".xr-header > div,\n",
       ".xr-header > ul {\n",
       "  display: inline;\n",
       "  margin-top: 0;\n",
       "  margin-bottom: 0;\n",
       "}\n",
       "\n",
       ".xr-obj-type,\n",
       ".xr-array-name {\n",
       "  margin-left: 2px;\n",
       "  margin-right: 10px;\n",
       "}\n",
       "\n",
       ".xr-obj-type {\n",
       "  color: var(--xr-font-color2);\n",
       "}\n",
       "\n",
       ".xr-sections {\n",
       "  padding-left: 0 !important;\n",
       "  display: grid;\n",
       "  grid-template-columns: 150px auto auto 1fr 20px 20px;\n",
       "}\n",
       "\n",
       ".xr-section-item {\n",
       "  display: contents;\n",
       "}\n",
       "\n",
       ".xr-section-item input {\n",
       "  display: none;\n",
       "}\n",
       "\n",
       ".xr-section-item input + label {\n",
       "  color: var(--xr-disabled-color);\n",
       "}\n",
       "\n",
       ".xr-section-item input:enabled + label {\n",
       "  cursor: pointer;\n",
       "  color: var(--xr-font-color2);\n",
       "}\n",
       "\n",
       ".xr-section-item input:enabled + label:hover {\n",
       "  color: var(--xr-font-color0);\n",
       "}\n",
       "\n",
       ".xr-section-summary {\n",
       "  grid-column: 1;\n",
       "  color: var(--xr-font-color2);\n",
       "  font-weight: 500;\n",
       "}\n",
       "\n",
       ".xr-section-summary > span {\n",
       "  display: inline-block;\n",
       "  padding-left: 0.5em;\n",
       "}\n",
       "\n",
       ".xr-section-summary-in:disabled + label {\n",
       "  color: var(--xr-font-color2);\n",
       "}\n",
       "\n",
       ".xr-section-summary-in + label:before {\n",
       "  display: inline-block;\n",
       "  content: '►';\n",
       "  font-size: 11px;\n",
       "  width: 15px;\n",
       "  text-align: center;\n",
       "}\n",
       "\n",
       ".xr-section-summary-in:disabled + label:before {\n",
       "  color: var(--xr-disabled-color);\n",
       "}\n",
       "\n",
       ".xr-section-summary-in:checked + label:before {\n",
       "  content: '▼';\n",
       "}\n",
       "\n",
       ".xr-section-summary-in:checked + label > span {\n",
       "  display: none;\n",
       "}\n",
       "\n",
       ".xr-section-summary,\n",
       ".xr-section-inline-details {\n",
       "  padding-top: 4px;\n",
       "  padding-bottom: 4px;\n",
       "}\n",
       "\n",
       ".xr-section-inline-details {\n",
       "  grid-column: 2 / -1;\n",
       "}\n",
       "\n",
       ".xr-section-details {\n",
       "  display: none;\n",
       "  grid-column: 1 / -1;\n",
       "  margin-bottom: 5px;\n",
       "}\n",
       "\n",
       ".xr-section-summary-in:checked ~ .xr-section-details {\n",
       "  display: contents;\n",
       "}\n",
       "\n",
       ".xr-array-wrap {\n",
       "  grid-column: 1 / -1;\n",
       "  display: grid;\n",
       "  grid-template-columns: 20px auto;\n",
       "}\n",
       "\n",
       ".xr-array-wrap > label {\n",
       "  grid-column: 1;\n",
       "  vertical-align: top;\n",
       "}\n",
       "\n",
       ".xr-preview {\n",
       "  color: var(--xr-font-color3);\n",
       "}\n",
       "\n",
       ".xr-array-preview,\n",
       ".xr-array-data {\n",
       "  padding: 0 5px !important;\n",
       "  grid-column: 2;\n",
       "}\n",
       "\n",
       ".xr-array-data,\n",
       ".xr-array-in:checked ~ .xr-array-preview {\n",
       "  display: none;\n",
       "}\n",
       "\n",
       ".xr-array-in:checked ~ .xr-array-data,\n",
       ".xr-array-preview {\n",
       "  display: inline-block;\n",
       "}\n",
       "\n",
       ".xr-dim-list {\n",
       "  display: inline-block !important;\n",
       "  list-style: none;\n",
       "  padding: 0 !important;\n",
       "  margin: 0;\n",
       "}\n",
       "\n",
       ".xr-dim-list li {\n",
       "  display: inline-block;\n",
       "  padding: 0;\n",
       "  margin: 0;\n",
       "}\n",
       "\n",
       ".xr-dim-list:before {\n",
       "  content: '(';\n",
       "}\n",
       "\n",
       ".xr-dim-list:after {\n",
       "  content: ')';\n",
       "}\n",
       "\n",
       ".xr-dim-list li:not(:last-child):after {\n",
       "  content: ',';\n",
       "  padding-right: 5px;\n",
       "}\n",
       "\n",
       ".xr-has-index {\n",
       "  font-weight: bold;\n",
       "}\n",
       "\n",
       ".xr-var-list,\n",
       ".xr-var-item {\n",
       "  display: contents;\n",
       "}\n",
       "\n",
       ".xr-var-item > div,\n",
       ".xr-var-item label,\n",
       ".xr-var-item > .xr-var-name span {\n",
       "  background-color: var(--xr-background-color-row-even);\n",
       "  margin-bottom: 0;\n",
       "}\n",
       "\n",
       ".xr-var-item > .xr-var-name:hover span {\n",
       "  padding-right: 5px;\n",
       "}\n",
       "\n",
       ".xr-var-list > li:nth-child(odd) > div,\n",
       ".xr-var-list > li:nth-child(odd) > label,\n",
       ".xr-var-list > li:nth-child(odd) > .xr-var-name span {\n",
       "  background-color: var(--xr-background-color-row-odd);\n",
       "}\n",
       "\n",
       ".xr-var-name {\n",
       "  grid-column: 1;\n",
       "}\n",
       "\n",
       ".xr-var-dims {\n",
       "  grid-column: 2;\n",
       "}\n",
       "\n",
       ".xr-var-dtype {\n",
       "  grid-column: 3;\n",
       "  text-align: right;\n",
       "  color: var(--xr-font-color2);\n",
       "}\n",
       "\n",
       ".xr-var-preview {\n",
       "  grid-column: 4;\n",
       "}\n",
       "\n",
       ".xr-var-name,\n",
       ".xr-var-dims,\n",
       ".xr-var-dtype,\n",
       ".xr-preview,\n",
       ".xr-attrs dt {\n",
       "  white-space: nowrap;\n",
       "  overflow: hidden;\n",
       "  text-overflow: ellipsis;\n",
       "  padding-right: 10px;\n",
       "}\n",
       "\n",
       ".xr-var-name:hover,\n",
       ".xr-var-dims:hover,\n",
       ".xr-var-dtype:hover,\n",
       ".xr-attrs dt:hover {\n",
       "  overflow: visible;\n",
       "  width: auto;\n",
       "  z-index: 1;\n",
       "}\n",
       "\n",
       ".xr-var-attrs,\n",
       ".xr-var-data {\n",
       "  display: none;\n",
       "  background-color: var(--xr-background-color) !important;\n",
       "  padding-bottom: 5px !important;\n",
       "}\n",
       "\n",
       ".xr-var-attrs-in:checked ~ .xr-var-attrs,\n",
       ".xr-var-data-in:checked ~ .xr-var-data {\n",
       "  display: block;\n",
       "}\n",
       "\n",
       ".xr-var-data > table {\n",
       "  float: right;\n",
       "}\n",
       "\n",
       ".xr-var-name span,\n",
       ".xr-var-data,\n",
       ".xr-attrs {\n",
       "  padding-left: 25px !important;\n",
       "}\n",
       "\n",
       ".xr-attrs,\n",
       ".xr-var-attrs,\n",
       ".xr-var-data {\n",
       "  grid-column: 1 / -1;\n",
       "}\n",
       "\n",
       "dl.xr-attrs {\n",
       "  padding: 0;\n",
       "  margin: 0;\n",
       "  display: grid;\n",
       "  grid-template-columns: 125px auto;\n",
       "}\n",
       "\n",
       ".xr-attrs dt,\n",
       ".xr-attrs dd {\n",
       "  padding: 0;\n",
       "  margin: 0;\n",
       "  float: left;\n",
       "  padding-right: 10px;\n",
       "  width: auto;\n",
       "}\n",
       "\n",
       ".xr-attrs dt {\n",
       "  font-weight: normal;\n",
       "  grid-column: 1;\n",
       "}\n",
       "\n",
       ".xr-attrs dt:hover span {\n",
       "  display: inline-block;\n",
       "  background: var(--xr-background-color);\n",
       "  padding-right: 10px;\n",
       "}\n",
       "\n",
       ".xr-attrs dd {\n",
       "  grid-column: 2;\n",
       "  white-space: pre-wrap;\n",
       "  word-break: break-all;\n",
       "}\n",
       "\n",
       ".xr-icon-database,\n",
       ".xr-icon-file-text2 {\n",
       "  display: inline-block;\n",
       "  vertical-align: middle;\n",
       "  width: 1em;\n",
       "  height: 1.5em !important;\n",
       "  stroke-width: 0;\n",
       "  stroke: currentColor;\n",
       "  fill: currentColor;\n",
       "}\n",
       "</style><pre class='xr-text-repr-fallback'>&lt;xarray.DataArray &#x27;flux_out_Q&#x27; (latitude: 1, longitude: 1)&gt;\n",
       "array([[1.66866573e-08]])\n",
       "Coordinates:\n",
       "  * longitude  (longitude) float64 87.49\n",
       "  * latitude   (latitude) float64 35.29\n",
       "    time       object 1989-01-02 00:00:00\n",
       "Attributes:\n",
       "    units:    mm day</pre><div class='xr-wrap' hidden><div class='xr-header'><div class='xr-obj-type'>xarray.DataArray</div><div class='xr-array-name'>'flux_out_Q'</div><ul class='xr-dim-list'><li><span class='xr-has-index'>latitude</span>: 1</li><li><span class='xr-has-index'>longitude</span>: 1</li></ul></div><ul class='xr-sections'><li class='xr-section-item'><div class='xr-array-wrap'><input id='section-db8bbb78-c69e-4ebb-99c3-1933a33706f7' class='xr-array-in' type='checkbox' checked><label for='section-db8bbb78-c69e-4ebb-99c3-1933a33706f7' title='Show/hide data repr'><svg class='icon xr-icon-database'><use xlink:href='#icon-database'></use></svg></label><div class='xr-array-preview xr-preview'><span>1.669e-08</span></div><div class='xr-array-data'><pre>array([[1.66866573e-08]])</pre></div></div></li><li class='xr-section-item'><input id='section-03a422d1-f11f-45b4-8717-a9af986b493f' class='xr-section-summary-in' type='checkbox'  checked><label for='section-03a422d1-f11f-45b4-8717-a9af986b493f' class='xr-section-summary' >Coordinates: <span>(3)</span></label><div class='xr-section-inline-details'></div><div class='xr-section-details'><ul class='xr-var-list'><li class='xr-var-item'><div class='xr-var-name'><span class='xr-has-index'>longitude</span></div><div class='xr-var-dims'>(longitude)</div><div class='xr-var-dtype'>float64</div><div class='xr-var-preview xr-preview'>87.49</div><input id='attrs-7532195a-24ad-46bc-96f4-67cb8595e930' class='xr-var-attrs-in' type='checkbox' disabled><label for='attrs-7532195a-24ad-46bc-96f4-67cb8595e930' title='Show/Hide attributes'><svg class='icon xr-icon-file-text2'><use xlink:href='#icon-file-text2'></use></svg></label><input id='data-3010f28e-9f53-4656-b526-dd5a576acfe7' class='xr-var-data-in' type='checkbox'><label for='data-3010f28e-9f53-4656-b526-dd5a576acfe7' title='Show/Hide data repr'><svg class='icon xr-icon-database'><use xlink:href='#icon-database'></use></svg></label><div class='xr-var-attrs'><dl class='xr-attrs'></dl></div><div class='xr-var-data'><pre>array([87.49])</pre></div></li><li class='xr-var-item'><div class='xr-var-name'><span class='xr-has-index'>latitude</span></div><div class='xr-var-dims'>(latitude)</div><div class='xr-var-dtype'>float64</div><div class='xr-var-preview xr-preview'>35.29</div><input id='attrs-7d0631ce-c4e3-45d6-a56d-a6899f393144' class='xr-var-attrs-in' type='checkbox' disabled><label for='attrs-7d0631ce-c4e3-45d6-a56d-a6899f393144' title='Show/Hide attributes'><svg class='icon xr-icon-file-text2'><use xlink:href='#icon-file-text2'></use></svg></label><input id='data-1ac19f9c-6e01-4a21-995a-86b4f85da063' class='xr-var-data-in' type='checkbox'><label for='data-1ac19f9c-6e01-4a21-995a-86b4f85da063' title='Show/Hide data repr'><svg class='icon xr-icon-database'><use xlink:href='#icon-database'></use></svg></label><div class='xr-var-attrs'><dl class='xr-attrs'></dl></div><div class='xr-var-data'><pre>array([35.29])</pre></div></li><li class='xr-var-item'><div class='xr-var-name'><span>time</span></div><div class='xr-var-dims'>()</div><div class='xr-var-dtype'>object</div><div class='xr-var-preview xr-preview'>1989-01-02 00:00:00</div><input id='attrs-c98ce9b9-6b6c-441d-9e71-78b04f7c57ca' class='xr-var-attrs-in' type='checkbox' disabled><label for='attrs-c98ce9b9-6b6c-441d-9e71-78b04f7c57ca' title='Show/Hide attributes'><svg class='icon xr-icon-file-text2'><use xlink:href='#icon-file-text2'></use></svg></label><input id='data-e66194fe-de37-43bf-86a4-cc4dde95bce4' class='xr-var-data-in' type='checkbox'><label for='data-e66194fe-de37-43bf-86a4-cc4dde95bce4' title='Show/Hide data repr'><svg class='icon xr-icon-database'><use xlink:href='#icon-database'></use></svg></label><div class='xr-var-attrs'><dl class='xr-attrs'></dl></div><div class='xr-var-data'><pre>array(cftime.DatetimeGregorian(1989, 1, 2, 0, 0, 0, 0), dtype=object)</pre></div></li></ul></div></li><li class='xr-section-item'><input id='section-f99a61e3-011a-4008-a6a3-cd8c88de29e6' class='xr-section-summary-in' type='checkbox'  checked><label for='section-f99a61e3-011a-4008-a6a3-cd8c88de29e6' class='xr-section-summary' >Attributes: <span>(1)</span></label><div class='xr-section-inline-details'></div><div class='xr-section-details'><dl class='xr-attrs'><dt><span>units :</span></dt><dd>mm day</dd></dl></div></li></ul></div></div>"
      ],
      "text/plain": [
       "<xarray.DataArray 'flux_out_Q' (latitude: 1, longitude: 1)>\n",
       "array([[1.66866573e-08]])\n",
       "Coordinates:\n",
       "  * longitude  (longitude) float64 87.49\n",
       "  * latitude   (latitude) float64 35.29\n",
       "    time       object 1989-01-02 00:00:00\n",
       "Attributes:\n",
       "    units:    mm day"
      ]
     },
     "execution_count": 17,
     "metadata": {},
     "output_type": "execute_result"
    }
   ],
   "source": [
    "model.get_value_as_xarray('flux_out_Q')"
   ]
  },
  {
   "cell_type": "code",
   "execution_count": 18,
   "id": "9ef4e3c5-1a0e-403a-af7b-cbb1354c4eb0",
   "metadata": {},
   "outputs": [
    {
     "name": "stdout",
     "output_type": "stream",
     "text": [
      "[4.70585679e-194]\n",
      "[3.76140319e-09]\n",
      "[6.00284767e-194]\n",
      "[6.77623459e-194]\n",
      "[2.12776534e-08]\n",
      "[8.69652115e-194]\n",
      "[6.07162355e-08]\n",
      "[3.23321345e-08]\n"
     ]
    }
   ],
   "source": [
    "while (model.time < model.end_time):\n",
    "    model.update()\n",
    "    print(model.get_value('flux_out_Q'))"
   ]
  },
  {
   "cell_type": "code",
   "execution_count": 19,
   "id": "b0585b27-c88b-4f8a-8bbe-18dba5cef444",
   "metadata": {},
   "outputs": [],
   "source": [
    "model.finalize()"
   ]
  },
  {
   "cell_type": "code",
   "execution_count": 20,
   "id": "1a3f33b0",
   "metadata": {},
   "outputs": [],
   "source": [
    "del model.bmi"
   ]
  },
  {
   "cell_type": "code",
   "execution_count": null,
   "id": "1227c78f",
   "metadata": {},
   "outputs": [],
   "source": []
  }
 ],
 "metadata": {
  "kernelspec": {
   "display_name": "Python 3",
   "language": "python",
   "name": "python3"
  },
  "language_info": {
   "codemirror_mode": {
    "name": "ipython",
    "version": 3
   },
   "file_extension": ".py",
   "mimetype": "text/x-python",
   "name": "python",
   "nbconvert_exporter": "python",
   "pygments_lexer": "ipython3",
   "version": "3.9.2"
  }
 },
 "nbformat": 4,
 "nbformat_minor": 5
}
