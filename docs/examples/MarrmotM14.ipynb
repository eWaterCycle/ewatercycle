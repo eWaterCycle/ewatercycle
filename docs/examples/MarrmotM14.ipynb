{
 "cells": [
  {
   "cell_type": "markdown",
   "id": "e147b561-54da-48dd-bce2-90da2f202391",
   "metadata": {},
   "source": [
    "![image](https://www.ewatercycle.org/assets/logo.png)"
   ]
  },
  {
   "cell_type": "markdown",
   "id": "f13bf080-845e-436c-b3fe-75ca37175a35",
   "metadata": {},
   "source": [
    "# Running MARRMoT M14 model using eWaterCycle package\n",
    "\n",
    "This notebooks shows how to run [MARRMoT](https://github.com/wknoben/MARRMoT) M14 model using an example use-case. More information about data, configuration and installation instructions can be found in the [System setup](https://ewatercycle.readthedocs.io/en/latest/system_setup.html) in the eWaterCycle documentation."
   ]
  },
  {
   "cell_type": "code",
   "execution_count": 16,
   "id": "2a07ee36-bf51-46ab-bc5b-bffd6255d3ec",
   "metadata": {},
   "outputs": [],
   "source": [
    "import warnings\n",
    "warnings.filterwarnings(\"ignore\", category=UserWarning)\n",
    "import pandas as pd\n",
    "\n",
    "import ewatercycle.forcing\n",
    "import ewatercycle.models"
   ]
  },
  {
   "cell_type": "markdown",
   "id": "8424c895-028a-495c-9b00-e1237bac48ff",
   "metadata": {},
   "source": [
    "## Load forcing data"
   ]
  },
  {
   "cell_type": "code",
   "execution_count": 4,
   "id": "c03cabb6-9cb3-4da3-ac96-732ba870d460",
   "metadata": {},
   "outputs": [
    {
     "name": "stdout",
     "output_type": "stream",
     "text": [
      "eWaterCycle forcing\n",
      "-------------------\n",
      "start_time=1989-01-01T00:00:00Z\n",
      "end_time=1992-12-31T00:00:00Z\n",
      "directory=/home/sarah/GitHub/ewatercycle/docs/examples\n",
      "shape=None\n",
      "forcing_file=BMI_testcase_m01_BuffaloRiver_TN_USA.mat\n"
     ]
    }
   ],
   "source": [
    "forcing = ewatercycle.forcing.load_foreign('marrmot',\n",
    "                        directory='.',\n",
    "                        start_time='1989-01-01T00:00:00Z',\n",
    "                        end_time='1992-12-31T00:00:00Z',\n",
    "                        forcing_info={\n",
    "                            'forcing_file': 'BMI_testcase_m01_BuffaloRiver_TN_USA.mat'\n",
    "                        })\n",
    "print(forcing)"
   ]
  },
  {
   "cell_type": "markdown",
   "id": "4bf3aebd",
   "metadata": {},
   "source": [
    "## Setting uip the model"
   ]
  },
  {
   "cell_type": "code",
   "execution_count": 5,
   "id": "a46d2892",
   "metadata": {},
   "outputs": [
    {
     "data": {
      "text/plain": [
       "('2020.11',)"
      ]
     },
     "execution_count": 5,
     "metadata": {},
     "output_type": "execute_result"
    }
   ],
   "source": [
    "# Get available versions\n",
    "ewatercycle.models.MarrmotM14.available_versions"
   ]
  },
  {
   "cell_type": "code",
   "execution_count": 6,
   "id": "c4bcdad8",
   "metadata": {},
   "outputs": [
    {
     "name": "stdout",
     "output_type": "stream",
     "text": [
      "The length of parameters in forcing /home/sarah/GitHub/ewatercycle/docs/examples/BMI_testcase_m01_BuffaloRiver_TN_USA.mat does not match the length of M14 parameters that is seven.\n",
      "The length of initial stores in forcing /home/sarah/GitHub/ewatercycle/docs/examples/BMI_testcase_m01_BuffaloRiver_TN_USA.mat does not match the length of M14 iniatial stores that is two.\n",
      "eWaterCycle MarrmotM14\n",
      "-------------------\n",
      "Version = 2020.11\n",
      "Parameter set = \n",
      "  None\n",
      "Forcing = \n",
      "  eWaterCycle forcing\n",
      "  -------------------\n",
      "  start_time=1989-01-01T00:00:00Z\n",
      "  end_time=1992-12-31T00:00:00Z\n",
      "  directory=/home/sarah/GitHub/ewatercycle/docs/examples\n",
      "  shape=None\n",
      "  forcing_file=BMI_testcase_m01_BuffaloRiver_TN_USA.mat\n"
     ]
    }
   ],
   "source": [
    "# Make the model object \n",
    "model = ewatercycle.models.MarrmotM14(version='2020.11', forcing=forcing)\n",
    "print(model)"
   ]
  },
  {
   "cell_type": "code",
   "execution_count": 7,
   "id": "4185acc3",
   "metadata": {},
   "outputs": [
    {
     "data": {
      "text/plain": [
       "[('maximum_soil_moisture_storage', 1000.0),\n",
       " ('threshold_flow_generation_evap_change', 0.5),\n",
       " ('leakage_saturated_zone_flow_coefficient', 0.5),\n",
       " ('zero_deficit_base_flow_speed', 100.0),\n",
       " ('baseflow_coefficient', 0.5),\n",
       " ('gamma_distribution_chi_parameter', 4.25),\n",
       " ('gamma_distribution_phi_parameter', 2.5),\n",
       " ('initial_upper_zone_storage', 900.0),\n",
       " ('initial_saturated_zone_storage', 900.0),\n",
       " ('solver',\n",
       "  Solver(name='createOdeApprox_IE', resnorm_tolerance=array([0.1]), resnorm_maxiter=array([6.]))),\n",
       " ('start time', '1989-01-01T00:00:00Z'),\n",
       " ('end time', '1992-12-31T00:00:00Z')]"
      ]
     },
     "execution_count": 7,
     "metadata": {},
     "output_type": "execute_result"
    }
   ],
   "source": [
    "# Show model parameters\n",
    "model.parameters"
   ]
  },
  {
   "cell_type": "code",
   "execution_count": 8,
   "id": "5b41e8f7",
   "metadata": {},
   "outputs": [
    {
     "name": "stdout",
     "output_type": "stream",
     "text": [
      "/home/sarah/GitHub/ewatercycle/docs/examples/marrmot_20210709_091409\n"
     ]
    }
   ],
   "source": [
    "# Change one of the model parameters and end time using setup() function\n",
    "cfg_file, cfg_dir = model.setup(\n",
    "    maximum_soil_moisture_storage=12.0,\n",
    "    end_time = \"1989-02-01T00:00:00Z\",\n",
    ")\n",
    "print(cfg_dir)"
   ]
  },
  {
   "cell_type": "code",
   "execution_count": 9,
   "id": "925fd7bd",
   "metadata": {},
   "outputs": [
    {
     "data": {
      "text/plain": [
       "[('maximum_soil_moisture_storage', 12.0),\n",
       " ('threshold_flow_generation_evap_change', 0.5),\n",
       " ('leakage_saturated_zone_flow_coefficient', 0.5),\n",
       " ('zero_deficit_base_flow_speed', 100.0),\n",
       " ('baseflow_coefficient', 0.5),\n",
       " ('gamma_distribution_chi_parameter', 4.25),\n",
       " ('gamma_distribution_phi_parameter', 2.5),\n",
       " ('initial_upper_zone_storage', 900.0),\n",
       " ('initial_saturated_zone_storage', 900.0),\n",
       " ('solver',\n",
       "  Solver(name='createOdeApprox_IE', resnorm_tolerance=array([0.1]), resnorm_maxiter=array([6.]))),\n",
       " ('start time', '1989-01-01T00:00:00Z'),\n",
       " ('end time', '1989-02-01T00:00:00Z')]"
      ]
     },
     "execution_count": 9,
     "metadata": {},
     "output_type": "execute_result"
    }
   ],
   "source": [
    "# Show model parameters that are changed in the previous cell \n",
    "model.parameters"
   ]
  },
  {
   "cell_type": "code",
   "execution_count": 10,
   "id": "8476fe8a",
   "metadata": {},
   "outputs": [],
   "source": [
    "# Initialize the model with config file\n",
    "model.initialize(cfg_file)"
   ]
  },
  {
   "cell_type": "code",
   "execution_count": 11,
   "id": "516620d3",
   "metadata": {},
   "outputs": [
    {
     "data": {
      "text/plain": [
       "('P',\n",
       " 'T',\n",
       " 'Ep',\n",
       " 'S(t)',\n",
       " 'par',\n",
       " 'sol_resnorm_tolerance',\n",
       " 'sol_resnorm_maxiter',\n",
       " 'flux_out_Q',\n",
       " 'flux_out_Ea',\n",
       " 'wb')"
      ]
     },
     "execution_count": 11,
     "metadata": {},
     "output_type": "execute_result"
    }
   ],
   "source": [
    "# Show model variable names, only 'flux_out_Q' is supported for now.\n",
    "model.output_var_names"
   ]
  },
  {
   "cell_type": "code",
   "execution_count": 12,
   "id": "9ef4e3c5-1a0e-403a-af7b-cbb1354c4eb0",
   "metadata": {},
   "outputs": [
    {
     "name": "stdout",
     "output_type": "stream",
     "text": [
      "1989-01-02T00:00:00Z\n",
      "1989-01-03T00:00:00Z\n",
      "1989-01-04T00:00:00Z\n",
      "1989-01-05T00:00:00Z\n",
      "1989-01-06T00:00:00Z\n",
      "1989-01-07T00:00:00Z\n",
      "1989-01-08T00:00:00Z\n",
      "1989-01-09T00:00:00Z\n",
      "1989-01-10T00:00:00Z\n",
      "1989-01-11T00:00:00Z\n",
      "1989-01-12T00:00:00Z\n",
      "1989-01-13T00:00:00Z\n",
      "1989-01-14T00:00:00Z\n",
      "1989-01-15T00:00:00Z\n",
      "1989-01-16T00:00:00Z\n",
      "1989-01-17T00:00:00Z\n",
      "1989-01-18T00:00:00Z\n",
      "1989-01-19T00:00:00Z\n",
      "1989-01-20T00:00:00Z\n",
      "1989-01-21T00:00:00Z\n",
      "1989-01-22T00:00:00Z\n",
      "1989-01-23T00:00:00Z\n",
      "1989-01-24T00:00:00Z\n",
      "1989-01-25T00:00:00Z\n",
      "1989-01-26T00:00:00Z\n",
      "1989-01-27T00:00:00Z\n",
      "1989-01-28T00:00:00Z\n",
      "1989-01-29T00:00:00Z\n",
      "1989-01-30T00:00:00Z\n",
      "1989-01-31T00:00:00Z\n",
      "1989-02-01T00:00:00Z\n"
     ]
    }
   ],
   "source": [
    "# Get model output\n",
    "discharge = []\n",
    "time_range = []\n",
    "end_time = model.end_time\n",
    "\n",
    "# Perform all timesteps of the model, update output fields\n",
    "while (model.time < end_time):\n",
    "    model.update()\n",
    "    # Store model time and variable output\n",
    "    discharge.append(model.get_value('flux_out_Q')[0])\n",
    "    time_range.append(model.time_as_datetime.date())\n",
    "    print(model.time_as_isostr)\n"
   ]
  },
  {
   "cell_type": "code",
   "execution_count": 13,
   "id": "b0585b27-c88b-4f8a-8bbe-18dba5cef444",
   "metadata": {},
   "outputs": [],
   "source": [
    "# Store the output in a dataframe\n",
    "simulated_discharge = pd.DataFrame(\n",
    "    {'simulation': discharge}, index=pd.to_datetime(time_range)\n",
    ")"
   ]
  },
  {
   "cell_type": "code",
   "execution_count": 14,
   "id": "1a3f33b0",
   "metadata": {},
   "outputs": [
    {
     "data": {
      "text/plain": [
       "<AxesSubplot:>"
      ]
     },
     "execution_count": 14,
     "metadata": {},
     "output_type": "execute_result"
    },
    {
     "data": {
      "image/png": "[encoded data removed]",
      "text/plain": [
       "<Figure size 432x288 with 1 Axes>"
      ]
     },
     "metadata": {
      "needs_background": "light"
     },
     "output_type": "display_data"
    }
   ],
   "source": [
    "# Plot discharge time series\n",
    "simulated_discharge.plot(figsize=(12, 8))"
   ]
  },
  {
   "cell_type": "code",
   "execution_count": 15,
   "id": "1227c78f",
   "metadata": {},
   "outputs": [],
   "source": [
    "# Finalize the model\n",
    "model.finalize()"
   ]
  },
  {
   "cell_type": "code",
   "execution_count": null,
   "id": "ba28ce80-eed4-4d88-876e-1ae6cb92d3e1",
   "metadata": {},
   "outputs": [],
   "source": []
  }
 ],
 "metadata": {
  "kernelspec": {
   "display_name": "Python 3",
   "language": "python",
   "name": "python3"
  },
  "language_info": {
   "codemirror_mode": {
    "name": "ipython",
    "version": 3
   },
   "file_extension": ".py",
   "mimetype": "text/x-python",
   "name": "python",
   "nbconvert_exporter": "python",
   "pygments_lexer": "ipython3",
   "version": "3.9.2"
  }
 },
 "nbformat": 4,
 "nbformat_minor": 5
}
