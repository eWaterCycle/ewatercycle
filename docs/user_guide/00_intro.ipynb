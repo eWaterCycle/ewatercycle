{
 "cells": [
  {
   "cell_type": "code",
   "execution_count": 1,
   "id": "bd2d9bd5",
   "metadata": {
    "nbsphinx": "hidden"
   },
   "outputs": [],
   "source": [
    "# Suppress distracting outputs in these examples\n",
    "# Note: this cell should be hidden with the metadata '\"nbsphinx\": \"hidden\"'\n",
    "import logging\n",
    "import warnings\n",
    "\n",
    "warnings.filterwarnings(\"ignore\", category=UserWarning)\n",
    "logger = logging.getLogger(\"esmvalcore\")\n",
    "logger.setLevel(logging.WARNING)"
   ]
  },
  {
   "attachments": {},
   "cell_type": "markdown",
   "id": "3ebca622",
   "metadata": {},
   "source": [
    "# Introduction\n",
    "\n",
    "This user manual will explain how the eWaterCycle Python package can be used to perform hydrological experiments. We will walk through the following chapters:\n",
    "\n",
    "- [parameter sets](01_parameter_sets.html)\n",
    "- [forcing data](02_forcing.html)\n",
    "- [model instances](03_models_obs_analysis.html)\n",
    "- [using observations](03_models_obs_analysis.html#Observations)\n",
    "- [analysis](03_models_obs_analysis.html#Analysis)\n",
    "\n",
    "Each of these chapters correspond to a so-called \"subpackage\" of eWaterCycle Python package. Before we continue, however, we will briefly explain the configuration file."
   ]
  },
  {
   "attachments": {},
   "cell_type": "markdown",
   "id": "5e02ed11",
   "metadata": {},
   "source": [
    "## Configuration\n",
    "\n",
    "To be able to find all needed data and models eWaterCycle comes with a configuration object. This configuration contains system settings for eWaterCycle (which container technology to use, where is the data located, etc). In general these should not need to be changed by the user for a specific experiment, and ideally a user would never need to touch this configuration on a properly managed system. However, it is good to know that it is there. \n",
    "\n",
    "You can see the default configuration on your system like so:"
   ]
  },
  {
   "cell_type": "code",
   "execution_count": 2,
   "id": "570e6d66",
   "metadata": {},
   "outputs": [
    {
     "name": "stderr",
     "output_type": "stream",
     "text": [
      "ERROR 1: PROJ: proj_create_from_database: Open of /home/bart/micromamba/envs/ewc3.11/share/proj failed\n"
     ]
    },
    {
     "data": {
      "text/html": [
       "<pre style=\"white-space:pre;overflow-x:auto;line-height:normal;font-family:Menlo,'DejaVu Sans Mono',consolas,'Courier New',monospace\"><span style=\"color: #800080; text-decoration-color: #800080; font-weight: bold\">Configuration</span><span style=\"font-weight: bold\">(</span>\n",
       "    <span style=\"color: #808000; text-decoration-color: #808000\">grdc_location</span>=<span style=\"color: #800080; text-decoration-color: #800080; font-weight: bold\">PosixPath</span><span style=\"font-weight: bold\">(</span><span style=\"color: #008000; text-decoration-color: #008000\">'/home/bart/ewatercycle/grdc-observations'</span><span style=\"font-weight: bold\">)</span>,\n",
       "    <span style=\"color: #808000; text-decoration-color: #808000\">container_engine</span>=<span style=\"color: #008000; text-decoration-color: #008000\">'docker'</span>,\n",
       "    <span style=\"color: #808000; text-decoration-color: #808000\">apptainer_dir</span>=<span style=\"color: #800080; text-decoration-color: #800080; font-weight: bold\">PosixPath</span><span style=\"font-weight: bold\">(</span><span style=\"color: #008000; text-decoration-color: #008000\">'.'</span><span style=\"font-weight: bold\">)</span>,\n",
       "    <span style=\"color: #808000; text-decoration-color: #808000\">singularity_dir</span>=<span style=\"color: #800080; text-decoration-color: #800080; font-style: italic\">None</span>,\n",
       "    <span style=\"color: #808000; text-decoration-color: #808000\">output_dir</span>=<span style=\"color: #800080; text-decoration-color: #800080; font-weight: bold\">PosixPath</span><span style=\"font-weight: bold\">(</span><span style=\"color: #008000; text-decoration-color: #008000\">'/home/bart/ewatercycle/output'</span><span style=\"font-weight: bold\">)</span>,\n",
       "    <span style=\"color: #808000; text-decoration-color: #808000\">parameterset_dir</span>=<span style=\"color: #800080; text-decoration-color: #800080; font-weight: bold\">PosixPath</span><span style=\"font-weight: bold\">(</span><span style=\"color: #008000; text-decoration-color: #008000\">'/home/bart/ewatercycle/parameter-sets'</span><span style=\"font-weight: bold\">)</span>,\n",
       "    <span style=\"color: #808000; text-decoration-color: #808000\">parameter_sets</span>=<span style=\"font-weight: bold\">{</span>\n",
       "        <span style=\"color: #008000; text-decoration-color: #008000\">'pcrglobwb_rhinemeuse_30min'</span>: <span style=\"color: #800080; text-decoration-color: #800080; font-weight: bold\">ParameterSet</span><span style=\"font-weight: bold\">(</span>\n",
       "            <span style=\"color: #808000; text-decoration-color: #808000\">name</span>=<span style=\"color: #008000; text-decoration-color: #008000\">'pcrglobwb_rhinemeuse_30min'</span>,\n",
       "            <span style=\"color: #808000; text-decoration-color: #808000\">directory</span>=<span style=\"color: #800080; text-decoration-color: #800080; font-weight: bold\">PosixPath</span><span style=\"font-weight: bold\">(</span><span style=\"color: #008000; text-decoration-color: #008000\">'/home/bart/ewatercycle/parameter-sets/pcrglobwb_rhinemeuse_30min'</span><span style=\"font-weight: bold\">)</span>,\n",
       "            <span style=\"color: #808000; text-decoration-color: #808000\">config</span>=<span style=\"color: #800080; text-decoration-color: #800080; font-weight: bold\">PosixPath</span><span style=\"font-weight: bold\">(</span><span style=\"color: #008000; text-decoration-color: #008000\">'/home/bart/ewatercycle/parameter-sets/pcrglobwb_rhinemeuse_30min/ini_and_batch_files/</span>\n",
       "<span style=\"color: #008000; text-decoration-color: #008000\">deltares_laptop/setup_natural_test.ini'</span><span style=\"font-weight: bold\">)</span>,\n",
       "            <span style=\"color: #808000; text-decoration-color: #808000\">doi</span>=<span style=\"color: #008000; text-decoration-color: #008000\">'https://doi.org/10.5281/zenodo.1045339'</span>,\n",
       "            <span style=\"color: #808000; text-decoration-color: #808000\">target_model</span>=<span style=\"color: #008000; text-decoration-color: #008000\">'pcrglobwb'</span>,\n",
       "            <span style=\"color: #808000; text-decoration-color: #808000\">supported_model_versions</span>=<span style=\"font-weight: bold\">{</span><span style=\"color: #008000; text-decoration-color: #008000\">'setters'</span><span style=\"font-weight: bold\">}</span>,\n",
       "            <span style=\"color: #808000; text-decoration-color: #808000\">downloader</span>=<span style=\"color: #800080; text-decoration-color: #800080; font-weight: bold\">GitHubDownloader</span><span style=\"font-weight: bold\">(</span>\n",
       "                <span style=\"color: #808000; text-decoration-color: #808000\">org</span>=<span style=\"color: #008000; text-decoration-color: #008000\">'UU-Hydro'</span>,\n",
       "                <span style=\"color: #808000; text-decoration-color: #808000\">repo</span>=<span style=\"color: #008000; text-decoration-color: #008000\">'PCR-GLOBWB_input_example'</span>,\n",
       "                <span style=\"color: #808000; text-decoration-color: #808000\">branch</span>=<span style=\"color: #008000; text-decoration-color: #008000\">'master'</span>,\n",
       "                <span style=\"color: #808000; text-decoration-color: #808000\">subfolder</span>=<span style=\"color: #008000; text-decoration-color: #008000\">'RhineMeuse30min'</span>\n",
       "            <span style=\"font-weight: bold\">)</span>\n",
       "        <span style=\"font-weight: bold\">)</span>,\n",
       "        <span style=\"color: #008000; text-decoration-color: #008000\">'wflow_rhine_sbm_nc'</span>: <span style=\"color: #800080; text-decoration-color: #800080; font-weight: bold\">ParameterSet</span><span style=\"font-weight: bold\">(</span>\n",
       "            <span style=\"color: #808000; text-decoration-color: #808000\">name</span>=<span style=\"color: #008000; text-decoration-color: #008000\">'wflow_rhine_sbm_nc'</span>,\n",
       "            <span style=\"color: #808000; text-decoration-color: #808000\">directory</span>=<span style=\"color: #800080; text-decoration-color: #800080; font-weight: bold\">PosixPath</span><span style=\"font-weight: bold\">(</span><span style=\"color: #008000; text-decoration-color: #008000\">'/home/bart/ewatercycle/parameter-sets/wflow_rhine_sbm_nc'</span><span style=\"font-weight: bold\">)</span>,\n",
       "            <span style=\"color: #808000; text-decoration-color: #808000\">config</span>=<span style=\"color: #800080; text-decoration-color: #800080; font-weight: bold\">PosixPath</span><span style=\"font-weight: bold\">(</span><span style=\"color: #008000; text-decoration-color: #008000\">'/home/bart/ewatercycle/parameter-sets/wflow_rhine_sbm_nc/wflow_sbm_NC.ini'</span><span style=\"font-weight: bold\">)</span>,\n",
       "            <span style=\"color: #808000; text-decoration-color: #808000\">doi</span>=<span style=\"color: #008000; text-decoration-color: #008000\">'N/A'</span>,\n",
       "            <span style=\"color: #808000; text-decoration-color: #808000\">target_model</span>=<span style=\"color: #008000; text-decoration-color: #008000\">'wflow'</span>,\n",
       "            <span style=\"color: #808000; text-decoration-color: #808000\">supported_model_versions</span>=<span style=\"font-weight: bold\">{</span><span style=\"color: #008000; text-decoration-color: #008000\">'2020.1.2'</span>, <span style=\"color: #008000; text-decoration-color: #008000\">'2020.1.3'</span>, <span style=\"color: #008000; text-decoration-color: #008000\">'2020.1.1'</span><span style=\"font-weight: bold\">}</span>,\n",
       "            <span style=\"color: #808000; text-decoration-color: #808000\">downloader</span>=<span style=\"color: #800080; text-decoration-color: #800080; font-weight: bold\">GitHubDownloader</span><span style=\"font-weight: bold\">(</span>\n",
       "                <span style=\"color: #808000; text-decoration-color: #808000\">org</span>=<span style=\"color: #008000; text-decoration-color: #008000\">'openstreams'</span>,\n",
       "                <span style=\"color: #808000; text-decoration-color: #808000\">repo</span>=<span style=\"color: #008000; text-decoration-color: #008000\">'wflow'</span>,\n",
       "                <span style=\"color: #808000; text-decoration-color: #808000\">branch</span>=<span style=\"color: #008000; text-decoration-color: #008000\">'master'</span>,\n",
       "                <span style=\"color: #808000; text-decoration-color: #808000\">subfolder</span>=<span style=\"color: #008000; text-decoration-color: #008000\">'examples/wflow_rhine_sbm_nc'</span>\n",
       "            <span style=\"font-weight: bold\">)</span>\n",
       "        <span style=\"font-weight: bold\">)</span>\n",
       "    <span style=\"font-weight: bold\">}</span>,\n",
       "    <span style=\"color: #808000; text-decoration-color: #808000\">ewatercycle_config</span>=<span style=\"color: #800080; text-decoration-color: #800080; font-weight: bold\">PosixPath</span><span style=\"font-weight: bold\">(</span><span style=\"color: #008000; text-decoration-color: #008000\">'/home/bart/.config/ewatercycle/ewatercycle.yaml'</span><span style=\"font-weight: bold\">)</span>\n",
       "<span style=\"font-weight: bold\">)</span>\n",
       "</pre>\n"
      ],
      "text/plain": [
       "\u001b[1;35mConfiguration\u001b[0m\u001b[1m(\u001b[0m\n",
       "    \u001b[33mgrdc_location\u001b[0m=\u001b[1;35mPosixPath\u001b[0m\u001b[1m(\u001b[0m\u001b[32m'/home/bart/ewatercycle/grdc-observations'\u001b[0m\u001b[1m)\u001b[0m,\n",
       "    \u001b[33mcontainer_engine\u001b[0m=\u001b[32m'docker'\u001b[0m,\n",
       "    \u001b[33mapptainer_dir\u001b[0m=\u001b[1;35mPosixPath\u001b[0m\u001b[1m(\u001b[0m\u001b[32m'.'\u001b[0m\u001b[1m)\u001b[0m,\n",
       "    \u001b[33msingularity_dir\u001b[0m=\u001b[3;35mNone\u001b[0m,\n",
       "    \u001b[33moutput_dir\u001b[0m=\u001b[1;35mPosixPath\u001b[0m\u001b[1m(\u001b[0m\u001b[32m'/home/bart/ewatercycle/output'\u001b[0m\u001b[1m)\u001b[0m,\n",
       "    \u001b[33mparameterset_dir\u001b[0m=\u001b[1;35mPosixPath\u001b[0m\u001b[1m(\u001b[0m\u001b[32m'/home/bart/ewatercycle/parameter-sets'\u001b[0m\u001b[1m)\u001b[0m,\n",
       "    \u001b[33mparameter_sets\u001b[0m=\u001b[1m{\u001b[0m\n",
       "        \u001b[32m'pcrglobwb_rhinemeuse_30min'\u001b[0m: \u001b[1;35mParameterSet\u001b[0m\u001b[1m(\u001b[0m\n",
       "            \u001b[33mname\u001b[0m=\u001b[32m'pcrglobwb_rhinemeuse_30min'\u001b[0m,\n",
       "            \u001b[33mdirectory\u001b[0m=\u001b[1;35mPosixPath\u001b[0m\u001b[1m(\u001b[0m\u001b[32m'/home/bart/ewatercycle/parameter-sets/pcrglobwb_rhinemeuse_30min'\u001b[0m\u001b[1m)\u001b[0m,\n",
       "            \u001b[33mconfig\u001b[0m=\u001b[1;35mPosixPath\u001b[0m\u001b[1m(\u001b[0m\u001b[32m'/home/bart/ewatercycle/parameter-sets/pcrglobwb_rhinemeuse_30min/ini_and_batch_files/\u001b[0m\n",
       "\u001b[32mdeltares_laptop/setup_natural_test.ini'\u001b[0m\u001b[1m)\u001b[0m,\n",
       "            \u001b[33mdoi\u001b[0m=\u001b[32m'https://doi.org/10.5281/zenodo.1045339'\u001b[0m,\n",
       "            \u001b[33mtarget_model\u001b[0m=\u001b[32m'pcrglobwb'\u001b[0m,\n",
       "            \u001b[33msupported_model_versions\u001b[0m=\u001b[1m{\u001b[0m\u001b[32m'setters'\u001b[0m\u001b[1m}\u001b[0m,\n",
       "            \u001b[33mdownloader\u001b[0m=\u001b[1;35mGitHubDownloader\u001b[0m\u001b[1m(\u001b[0m\n",
       "                \u001b[33morg\u001b[0m=\u001b[32m'UU-Hydro'\u001b[0m,\n",
       "                \u001b[33mrepo\u001b[0m=\u001b[32m'PCR-GLOBWB_input_example'\u001b[0m,\n",
       "                \u001b[33mbranch\u001b[0m=\u001b[32m'master'\u001b[0m,\n",
       "                \u001b[33msubfolder\u001b[0m=\u001b[32m'RhineMeuse30min'\u001b[0m\n",
       "            \u001b[1m)\u001b[0m\n",
       "        \u001b[1m)\u001b[0m,\n",
       "        \u001b[32m'wflow_rhine_sbm_nc'\u001b[0m: \u001b[1;35mParameterSet\u001b[0m\u001b[1m(\u001b[0m\n",
       "            \u001b[33mname\u001b[0m=\u001b[32m'wflow_rhine_sbm_nc'\u001b[0m,\n",
       "            \u001b[33mdirectory\u001b[0m=\u001b[1;35mPosixPath\u001b[0m\u001b[1m(\u001b[0m\u001b[32m'/home/bart/ewatercycle/parameter-sets/wflow_rhine_sbm_nc'\u001b[0m\u001b[1m)\u001b[0m,\n",
       "            \u001b[33mconfig\u001b[0m=\u001b[1;35mPosixPath\u001b[0m\u001b[1m(\u001b[0m\u001b[32m'/home/bart/ewatercycle/parameter-sets/wflow_rhine_sbm_nc/wflow_sbm_NC.ini'\u001b[0m\u001b[1m)\u001b[0m,\n",
       "            \u001b[33mdoi\u001b[0m=\u001b[32m'N/A'\u001b[0m,\n",
       "            \u001b[33mtarget_model\u001b[0m=\u001b[32m'wflow'\u001b[0m,\n",
       "            \u001b[33msupported_model_versions\u001b[0m=\u001b[1m{\u001b[0m\u001b[32m'2020.1.2'\u001b[0m, \u001b[32m'2020.1.3'\u001b[0m, \u001b[32m'2020.1.1'\u001b[0m\u001b[1m}\u001b[0m,\n",
       "            \u001b[33mdownloader\u001b[0m=\u001b[1;35mGitHubDownloader\u001b[0m\u001b[1m(\u001b[0m\n",
       "                \u001b[33morg\u001b[0m=\u001b[32m'openstreams'\u001b[0m,\n",
       "                \u001b[33mrepo\u001b[0m=\u001b[32m'wflow'\u001b[0m,\n",
       "                \u001b[33mbranch\u001b[0m=\u001b[32m'master'\u001b[0m,\n",
       "                \u001b[33msubfolder\u001b[0m=\u001b[32m'examples/wflow_rhine_sbm_nc'\u001b[0m\n",
       "            \u001b[1m)\u001b[0m\n",
       "        \u001b[1m)\u001b[0m\n",
       "    \u001b[1m}\u001b[0m,\n",
       "    \u001b[33mewatercycle_config\u001b[0m=\u001b[1;35mPosixPath\u001b[0m\u001b[1m(\u001b[0m\u001b[32m'/home/bart/.config/ewatercycle/ewatercycle.yaml'\u001b[0m\u001b[1m)\u001b[0m\n",
       "\u001b[1m)\u001b[0m\n"
      ]
     },
     "metadata": {},
     "output_type": "display_data"
    }
   ],
   "source": [
    "from rich import print\n",
    "\n",
    "from ewatercycle import CFG\n",
    "\n",
    "print(CFG)"
   ]
  },
  {
   "attachments": {},
   "cell_type": "markdown",
   "id": "7810ec41",
   "metadata": {},
   "source": [
    "Note: a path on the local filesystem is always denoted as \"dir\" (short for directory), instead of folder, path, or location. Especially location can be confusing in the context of geospatial modeling.\n",
    "\n",
    "It is also possible to store and load custom configuration files. For more information, see [system setup](../system_setup.html)"
   ]
  },
  {
   "cell_type": "markdown",
   "id": "d9a4b535",
   "metadata": {},
   "source": []
  }
 ],
 "metadata": {
  "interpreter": {
   "hash": "4f63c3f017d58640bc2174e5f1b6c1610e3d96c1a3fe90d1d439f265cee739e3"
  },
  "kernelspec": {
   "display_name": "Python 3 (ipykernel)",
   "language": "python",
   "name": "python3"
  },
  "language_info": {
   "codemirror_mode": {
    "name": "ipython",
    "version": 3
   },
   "file_extension": ".py",
   "mimetype": "text/x-python",
   "name": "python",
   "nbconvert_exporter": "python",
   "pygments_lexer": "ipython3",
   "version": "3.11.8"
  }
 },
 "nbformat": 4,
 "nbformat_minor": 5
}
