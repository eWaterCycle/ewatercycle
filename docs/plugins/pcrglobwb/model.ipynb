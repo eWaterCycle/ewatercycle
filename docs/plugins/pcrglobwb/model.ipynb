{
 "cells": [
  {
   "cell_type": "markdown",
   "metadata": {},
   "source": [
    "![ewatercycle logo](https://raw.githubusercontent.com/eWaterCycle/ewatercycle/main/docs/examples/logo.png)\n",
    "\n",
    "# PCRGlobWB example use case\n",
    "\n",
    "This example shows how the [PCRGlobWB model](https://globalhydrology.nl/research/models/pcr-globwb-2-0/) can be used within the eWaterCycle system. It is based on the example use case from https://github.com/UU-Hydro/PCR-GLOBWB_input_example.\n",
    "\n",
    "This example use case assumes that the ewatercycle platform has been installed and configured on your system. See our [system setup documentation](https://ewatercycle.readthedocs.io/en/latest/system_setup.html) for instructions if this is not the case."
   ]
  },
  {
   "cell_type": "code",
   "execution_count": 1,
   "metadata": {},
   "outputs": [],
   "source": [
    "# This cell is only used to suppress some distracting output messages\n",
    "import warnings\n",
    "\n",
    "warnings.filterwarnings(\"ignore\", category=UserWarning)"
   ]
  },
  {
   "cell_type": "code",
   "execution_count": 9,
   "metadata": {},
   "outputs": [],
   "source": [
    "import matplotlib.pyplot as plt\n",
    "from cartopy import crs\n",
    "from cartopy import feature as cfeature\n",
    "from rich import print\n",
    "\n",
    "import ewatercycle.forcing\n",
    "import ewatercycle.models\n",
    "import ewatercycle.parameter_sets"
   ]
  },
  {
   "cell_type": "markdown",
   "metadata": {},
   "source": [
    "## Loading a parameter set"
   ]
  },
  {
   "cell_type": "markdown",
   "metadata": {},
   "source": [
    "A set of (example) parameter sets come pre-installed on the eWaterCycle system (see [system setup](https://ewatercycle.readthedocs.io/en/latest/system_setup.html) if this is not the case)."
   ]
  },
  {
   "cell_type": "code",
   "execution_count": 10,
   "metadata": {},
   "outputs": [
    {
     "data": {
      "text/plain": [
       "dict_keys(['lisflood_fraser', 'pcrglobwb_rhinemeuse_30min', 'wflow_rhine_sbm_nc'])"
      ]
     },
     "execution_count": 10,
     "metadata": {},
     "output_type": "execute_result"
    }
   ],
   "source": [
    "sets = ewatercycle.parameter_sets.available_parameter_sets()\n",
    "sets.keys()"
   ]
  },
  {
   "cell_type": "markdown",
   "metadata": {},
   "source": [
    "Existing parametersets can easily be loaded:"
   ]
  },
  {
   "cell_type": "code",
   "execution_count": 11,
   "metadata": {},
   "outputs": [
    {
     "data": {
      "text/html": [
       "<pre style=\"white-space:pre;overflow-x:auto;line-height:normal;font-family:Menlo,'DejaVu Sans Mono',consolas,'Courier New',monospace\"><span style=\"color: #800080; text-decoration-color: #800080; font-weight: bold\">ParameterSet</span><span style=\"font-weight: bold\">(</span>\n",
       "    <span style=\"color: #808000; text-decoration-color: #808000\">name</span>=<span style=\"color: #008000; text-decoration-color: #008000\">'pcrglobwb_rhinemeuse_30min'</span>,\n",
       "    <span style=\"color: #808000; text-decoration-color: #808000\">directory</span>=<span style=\"color: #800080; text-decoration-color: #800080; font-weight: bold\">PosixPath</span><span style=\"font-weight: bold\">(</span><span style=\"color: #008000; text-decoration-color: #008000\">'/home/verhoes/git/eWaterCycle/parameter-sets/pcrglobwb_rhinemeuse_30min'</span><span style=\"font-weight: bold\">)</span>,\n",
       "    <span style=\"color: #808000; text-decoration-color: #808000\">config</span>=<span style=\"color: #800080; text-decoration-color: #800080; font-weight: bold\">PosixPath</span><span style=\"font-weight: bold\">(</span><span style=\"color: #008000; text-decoration-color: #008000\">'/home/verhoes/git/eWaterCycle/parameter-sets/pcrglobwb_rhinemeuse_30min/ini_and_batch_files/d</span>\n",
       "<span style=\"color: #008000; text-decoration-color: #008000\">eltares_laptop/setup_natural_test.ini'</span><span style=\"font-weight: bold\">)</span>,\n",
       "    <span style=\"color: #808000; text-decoration-color: #808000\">doi</span>=<span style=\"color: #008000; text-decoration-color: #008000\">'https://doi.org/10.5281/zenodo.1045339'</span>,\n",
       "    <span style=\"color: #808000; text-decoration-color: #808000\">target_model</span>=<span style=\"color: #008000; text-decoration-color: #008000\">'pcrglobwb'</span>,\n",
       "    <span style=\"color: #808000; text-decoration-color: #808000\">supported_model_versions</span>=<span style=\"font-weight: bold\">{</span><span style=\"color: #008000; text-decoration-color: #008000\">'setters'</span><span style=\"font-weight: bold\">}</span>,\n",
       "    <span style=\"color: #808000; text-decoration-color: #808000\">downloader</span>=<span style=\"color: #800080; text-decoration-color: #800080; font-weight: bold\">GitHubDownloader</span><span style=\"font-weight: bold\">(</span>\n",
       "        <span style=\"color: #808000; text-decoration-color: #808000\">org</span>=<span style=\"color: #008000; text-decoration-color: #008000\">'UU-Hydro'</span>,\n",
       "        <span style=\"color: #808000; text-decoration-color: #808000\">repo</span>=<span style=\"color: #008000; text-decoration-color: #008000\">'PCR-GLOBWB_input_example'</span>,\n",
       "        <span style=\"color: #808000; text-decoration-color: #808000\">branch</span>=<span style=\"color: #008000; text-decoration-color: #008000\">'master'</span>,\n",
       "        <span style=\"color: #808000; text-decoration-color: #808000\">subfolder</span>=<span style=\"color: #008000; text-decoration-color: #008000\">'RhineMeuse30min'</span>\n",
       "    <span style=\"font-weight: bold\">)</span>\n",
       "<span style=\"font-weight: bold\">)</span>\n",
       "</pre>\n"
      ],
      "text/plain": [
       "\u001b[1;35mParameterSet\u001b[0m\u001b[1m(\u001b[0m\n",
       "    \u001b[33mname\u001b[0m=\u001b[32m'pcrglobwb_rhinemeuse_30min'\u001b[0m,\n",
       "    \u001b[33mdirectory\u001b[0m=\u001b[1;35mPosixPath\u001b[0m\u001b[1m(\u001b[0m\u001b[32m'/home/verhoes/git/eWaterCycle/parameter-sets/pcrglobwb_rhinemeuse_30min'\u001b[0m\u001b[1m)\u001b[0m,\n",
       "    \u001b[33mconfig\u001b[0m=\u001b[1;35mPosixPath\u001b[0m\u001b[1m(\u001b[0m\u001b[32m'/home/verhoes/git/eWaterCycle/parameter-sets/pcrglobwb_rhinemeuse_30min/ini_and_batch_files/d\u001b[0m\n",
       "\u001b[32meltares_laptop/setup_natural_test.ini'\u001b[0m\u001b[1m)\u001b[0m,\n",
       "    \u001b[33mdoi\u001b[0m=\u001b[32m'https://doi.org/10.5281/zenodo.1045339'\u001b[0m,\n",
       "    \u001b[33mtarget_model\u001b[0m=\u001b[32m'pcrglobwb'\u001b[0m,\n",
       "    \u001b[33msupported_model_versions\u001b[0m=\u001b[1m{\u001b[0m\u001b[32m'setters'\u001b[0m\u001b[1m}\u001b[0m,\n",
       "    \u001b[33mdownloader\u001b[0m=\u001b[1;35mGitHubDownloader\u001b[0m\u001b[1m(\u001b[0m\n",
       "        \u001b[33morg\u001b[0m=\u001b[32m'UU-Hydro'\u001b[0m,\n",
       "        \u001b[33mrepo\u001b[0m=\u001b[32m'PCR-GLOBWB_input_example'\u001b[0m,\n",
       "        \u001b[33mbranch\u001b[0m=\u001b[32m'master'\u001b[0m,\n",
       "        \u001b[33msubfolder\u001b[0m=\u001b[32m'RhineMeuse30min'\u001b[0m\n",
       "    \u001b[1m)\u001b[0m\n",
       "\u001b[1m)\u001b[0m\n"
      ]
     },
     "metadata": {},
     "output_type": "display_data"
    }
   ],
   "source": [
    "parameter_set = sets[\"pcrglobwb_rhinemeuse_30min\"]\n",
    "print(parameter_set)"
   ]
  },
  {
   "cell_type": "markdown",
   "metadata": {},
   "source": [
    "It is also possible to load a custom parameterset by passing in the relevant parameters directly:"
   ]
  },
  {
   "cell_type": "code",
   "execution_count": 5,
   "metadata": {},
   "outputs": [],
   "source": [
    "custom_parameter_set = ewatercycle.parameter_sets.ParameterSet(\n",
    "    name=\"custom_parameter_set\",\n",
    "    directory=\"/home/peter/ewatercycle/ewatercycle/docs/examples/parameter-sets/pcrglobwb_rhinemeuse_30min\",\n",
    "    config=\"/home/peter/ewatercycle/ewatercycle/docs/examples/parameter-sets/pcrglobwb_rhinemeuse_30min/setup_natural_test.ini\",\n",
    "    target_model=\"pcrglobwb\",\n",
    "    supported_model_versions={\"setters\"},\n",
    ")"
   ]
  },
  {
   "cell_type": "markdown",
   "metadata": {},
   "source": [
    "## Load forcing data\n",
    "\n",
    "For this example case, the forcing is already included in the parameter set and configured correctly. Therefore in principle this step can be skipped. However, for the purpose of illustration, we show how the forcing would be loaded using the `ewatercycle.forcing` module, as if it came from another source. To learn about forcing generation, see our [preprocessing examples](https://ewatercycle.readthedocs.io/en/latest/examples/generate_forcing.html)."
   ]
  },
  {
   "cell_type": "code",
   "execution_count": 6,
   "metadata": {},
   "outputs": [
    {
     "name": "stdout",
     "output_type": "stream",
     "text": [
      "Forcing data for PCRGlobWB\n",
      "--------------------------\n",
      "Directory: /home/peter/ewatercycle/ewatercycle/docs/examples/parameter-sets/pcrglobwb_rhinemeuse_30min/forcing\n",
      "Start time: 2001-01-01T00:00:00Z\n",
      "End time: 2010-12-31T00:00:00Z\n",
      "Shapefile: None\n",
      "Additional information for model config:\n",
      "  - temperatureNC: temperature_2001to2010.nc\n",
      "  - precipitationNC: precipitation_2001to2010.nc\n"
     ]
    }
   ],
   "source": [
    "forcing = ewatercycle.forcing.sources[\"PCRGlobWBForcing\"](\n",
    "    start_time=\"2001-01-01T00:00:00Z\",\n",
    "    end_time=\"2010-12-31T00:00:00Z\",\n",
    "    directory=\"./parameter-sets/pcrglobwb_rhinemeuse_30min/forcing\",\n",
    "    shape=None,  # if available, it can be used e.g. for plotting\n",
    "    forcing_info=dict(\n",
    "        # model-specific options\n",
    "        precipitationNC=\"precipitation_2001to2010.nc\",\n",
    "        temperatureNC=\"temperature_2001to2010.nc\",\n",
    "    ),\n",
    ")\n",
    "print(forcing)"
   ]
  },
  {
   "cell_type": "markdown",
   "metadata": {},
   "source": [
    "## Setting up the model\n",
    "\n",
    "Note that the model version and the parameterset versions should be compatible."
   ]
  },
  {
   "cell_type": "code",
   "execution_count": 7,
   "metadata": {},
   "outputs": [
    {
     "data": {
      "text/plain": [
       "('setters',)"
      ]
     },
     "execution_count": 7,
     "metadata": {},
     "output_type": "execute_result"
    }
   ],
   "source": [
    "ewatercycle.models.PCRGlobWB.available_versions"
   ]
  },
  {
   "cell_type": "code",
   "execution_count": 8,
   "metadata": {},
   "outputs": [
    {
     "name": "stdout",
     "output_type": "stream",
     "text": [
      "eWaterCycle PCRGlobWB\n",
      "-------------------\n",
      "Version = setters\n",
      "Parameter set = \n",
      "  Parameter set\n",
      "  -------------\n",
      "  name=pcrglobwb_rhinemeuse_30min\n",
      "  directory=/home/peter/ewatercycle/ewatercycle/docs/examples/parameter-sets/pcrglobwb_rhinemeuse_30min\n",
      "  config=/home/peter/ewatercycle/ewatercycle/docs/examples/parameter-sets/pcrglobwb_rhinemeuse_30min/setup_natural_test.ini\n",
      "  doi=N/A\n",
      "  target_model=pcrglobwb\n",
      "  supported_model_versions={'setters'}\n",
      "Forcing = \n",
      "  Forcing data for PCRGlobWB\n",
      "  --------------------------\n",
      "  Directory: /home/peter/ewatercycle/ewatercycle/docs/examples/parameter-sets/pcrglobwb_rhinemeuse_30min/forcing\n",
      "  Start time: 2001-01-01T00:00:00Z\n",
      "  End time: 2010-12-31T00:00:00Z\n",
      "  Shapefile: None\n",
      "  Additional information for model config:\n",
      "    - temperatureNC: temperature_2001to2010.nc\n",
      "    - precipitationNC: precipitation_2001to2010.nc\n"
     ]
    }
   ],
   "source": [
    "pcrglob = ewatercycle.models.PCRGlobWB(\n",
    "    version=\"setters\", parameter_set=parameter_set, forcing=forcing\n",
    ")\n",
    "print(pcrglob)"
   ]
  },
  {
   "cell_type": "markdown",
   "metadata": {},
   "source": [
    "eWaterCycle exposes a selected set of configurable parameters. These can be modified in the `setup()` method."
   ]
  },
  {
   "cell_type": "code",
   "execution_count": 9,
   "metadata": {},
   "outputs": [
    {
     "data": {
      "text/plain": [
       "[('start_time', '2001-01-01T00:00:00Z'),\n",
       " ('end_time', '2001-01-01T00:00:00Z'),\n",
       " ('routing_method', 'accuTravelTime'),\n",
       " ('max_spinups_in_years', '20')]"
      ]
     },
     "execution_count": 9,
     "metadata": {},
     "output_type": "execute_result"
    }
   ],
   "source": [
    "pcrglob.parameters"
   ]
  },
  {
   "cell_type": "markdown",
   "metadata": {},
   "source": [
    "Calling `setup()` will start up a container. Be careful with calling it multiple times!"
   ]
  },
  {
   "cell_type": "code",
   "execution_count": 10,
   "metadata": {},
   "outputs": [
    {
     "name": "stdout",
     "output_type": "stream",
     "text": [
      "Running /home/peter/ewatercycle/ewatercycle/ewatercycle-pcrg-grpc4bmi-setters.sif apptainer container on port 50639\n"
     ]
    },
    {
     "data": {
      "text/plain": [
       "('/home/peter/ewatercycle/ewatercycle/docs/examples/pcrglobwb_20210714_141432/pcrglobwb_ewatercycle.ini',\n",
       " '/home/peter/ewatercycle/ewatercycle/docs/examples/pcrglobwb_20210714_141432')"
      ]
     },
     "execution_count": 10,
     "metadata": {},
     "output_type": "execute_result"
    }
   ],
   "source": [
    "cfg_file, cfg_dir = pcrglob.setup(\n",
    "    end_time=\"2001-02-28T00:00:00Z\", max_spinups_in_years=5\n",
    ")\n",
    "cfg_file, cfg_dir"
   ]
  },
  {
   "cell_type": "code",
   "execution_count": 11,
   "metadata": {},
   "outputs": [
    {
     "data": {
      "text/plain": [
       "[('start_time', '2001-01-01T00:00:00Z'),\n",
       " ('end_time', '2001-02-28T00:00:00Z'),\n",
       " ('routing_method', 'accuTravelTime'),\n",
       " ('max_spinups_in_years', '5')]"
      ]
     },
     "execution_count": 11,
     "metadata": {},
     "output_type": "execute_result"
    }
   ],
   "source": [
    "pcrglob.parameters"
   ]
  },
  {
   "cell_type": "markdown",
   "metadata": {},
   "source": [
    "Note that the parameters have been changed. A new config file which incorporates these updated parameters has been generated as well. If you want to see or modify any additional model settings, you can acces this file directly. When you're ready, pass the path to the config file to `initialize()`."
   ]
  },
  {
   "cell_type": "code",
   "execution_count": 12,
   "metadata": {},
   "outputs": [],
   "source": [
    "pcrglob.initialize(cfg_file)"
   ]
  },
  {
   "cell_type": "markdown",
   "metadata": {},
   "source": [
    "## Running the model\n",
    "\n",
    "Simply running the model from start to end is straightforward. At each time step we can retrieve information from the model."
   ]
  },
  {
   "cell_type": "code",
   "execution_count": 13,
   "metadata": {},
   "outputs": [
    {
     "name": "stdout",
     "output_type": "stream",
     "text": [
      "2001-02-27T00:00:00Z\r"
     ]
    }
   ],
   "source": [
    "while pcrglob.time < pcrglob.end_time:\n",
    "    print(pcrglob.time_as_isostr, end=\"\\r\")\n",
    "    pcrglob.update()"
   ]
  },
  {
   "cell_type": "markdown",
   "metadata": {},
   "source": [
    "## Interacting with the model"
   ]
  },
  {
   "cell_type": "markdown",
   "metadata": {},
   "source": [
    "PCRGlobWB exposes many variables. Just a few of them are shown here:"
   ]
  },
  {
   "cell_type": "code",
   "execution_count": 14,
   "metadata": {},
   "outputs": [
    {
     "data": {
      "text/plain": [
       "('total_abstraction',\n",
       " 'livestockWaterWithdrawalVolume',\n",
       " 'desalination_source_abstraction',\n",
       " 'discharge',\n",
       " 'temperature',\n",
       " 'upper_soil_transpiration',\n",
       " 'snow_water_equivalent',\n",
       " 'total_runoff',\n",
       " 'transpiration_from_irrigation',\n",
       " 'fraction_of_surface_water')"
      ]
     },
     "execution_count": 14,
     "metadata": {},
     "output_type": "execute_result"
    }
   ],
   "source": [
    "list(pcrglob.output_var_names)[-15:-5]"
   ]
  },
  {
   "cell_type": "markdown",
   "metadata": {},
   "source": [
    "Model fields can be fetched as xarray objects (or as flat numpy arrays using `get_value()`):"
   ]
  },
  {
   "cell_type": "code",
   "execution_count": 15,
   "metadata": {},
   "outputs": [
    {
     "data": {
      "text/html": [
       "<div><svg style=\"position: absolute; width: 0; height: 0; overflow: hidden\">\n",
       "<defs>\n",
       "<symbol id=\"icon-database\" viewBox=\"0 0 32 32\">\n",
       "<path d=\"M16 0c-8.837 0-16 2.239-16 5v4c0 2.761 7.163 5 16 5s16-2.239 16-5v-4c0-2.761-7.163-5-16-5z\"></path>\n",
       "<path d=\"M16 17c-8.837 0-16-2.239-16-5v6c0 2.761 7.163 5 16 5s16-2.239 16-5v-6c0 2.761-7.163 5-16 5z\"></path>\n",
       "<path d=\"M16 26c-8.837 0-16-2.239-16-5v6c0 2.761 7.163 5 16 5s16-2.239 16-5v-6c0 2.761-7.163 5-16 5z\"></path>\n",
       "</symbol>\n",
       "<symbol id=\"icon-file-text2\" viewBox=\"0 0 32 32\">\n",
       "<path d=\"M28.681 7.159c-0.694-0.947-1.662-2.053-2.724-3.116s-2.169-2.030-3.116-2.724c-1.612-1.182-2.393-1.319-2.841-1.319h-15.5c-1.378 0-2.5 1.121-2.5 2.5v27c0 1.378 1.122 2.5 2.5 2.5h23c1.378 0 2.5-1.122 2.5-2.5v-19.5c0-0.448-0.137-1.23-1.319-2.841zM24.543 5.457c0.959 0.959 1.712 1.825 2.268 2.543h-4.811v-4.811c0.718 0.556 1.584 1.309 2.543 2.268zM28 29.5c0 0.271-0.229 0.5-0.5 0.5h-23c-0.271 0-0.5-0.229-0.5-0.5v-27c0-0.271 0.229-0.5 0.5-0.5 0 0 15.499-0 15.5 0v7c0 0.552 0.448 1 1 1h7v19.5z\"></path>\n",
       "<path d=\"M23 26h-14c-0.552 0-1-0.448-1-1s0.448-1 1-1h14c0.552 0 1 0.448 1 1s-0.448 1-1 1z\"></path>\n",
       "<path d=\"M23 22h-14c-0.552 0-1-0.448-1-1s0.448-1 1-1h14c0.552 0 1 0.448 1 1s-0.448 1-1 1z\"></path>\n",
       "<path d=\"M23 18h-14c-0.552 0-1-0.448-1-1s0.448-1 1-1h14c0.552 0 1 0.448 1 1s-0.448 1-1 1z\"></path>\n",
       "</symbol>\n",
       "</defs>\n",
       "</svg>\n",
       "<style>/* CSS stylesheet for displaying xarray objects in jupyterlab.\n",
       " *\n",
       " */\n",
       "\n",
       ":root {\n",
       "  --xr-font-color0: var(--jp-content-font-color0, rgba(0, 0, 0, 1));\n",
       "  --xr-font-color2: var(--jp-content-font-color2, rgba(0, 0, 0, 0.54));\n",
       "  --xr-font-color3: var(--jp-content-font-color3, rgba(0, 0, 0, 0.38));\n",
       "  --xr-border-color: var(--jp-border-color2, #e0e0e0);\n",
       "  --xr-disabled-color: var(--jp-layout-color3, #bdbdbd);\n",
       "  --xr-background-color: var(--jp-layout-color0, white);\n",
       "  --xr-background-color-row-even: var(--jp-layout-color1, white);\n",
       "  --xr-background-color-row-odd: var(--jp-layout-color2, #eeeeee);\n",
       "}\n",
       "\n",
       "html[theme=dark],\n",
       "body.vscode-dark {\n",
       "  --xr-font-color0: rgba(255, 255, 255, 1);\n",
       "  --xr-font-color2: rgba(255, 255, 255, 0.54);\n",
       "  --xr-font-color3: rgba(255, 255, 255, 0.38);\n",
       "  --xr-border-color: #1F1F1F;\n",
       "  --xr-disabled-color: #515151;\n",
       "  --xr-background-color: #111111;\n",
       "  --xr-background-color-row-even: #111111;\n",
       "  --xr-background-color-row-odd: #313131;\n",
       "}\n",
       "\n",
       ".xr-wrap {\n",
       "  display: block;\n",
       "  min-width: 300px;\n",
       "  max-width: 700px;\n",
       "}\n",
       "\n",
       ".xr-text-repr-fallback {\n",
       "  /* fallback to plain text repr when CSS is not injected (untrusted notebook) */\n",
       "  display: none;\n",
       "}\n",
       "\n",
       ".xr-header {\n",
       "  padding-top: 6px;\n",
       "  padding-bottom: 6px;\n",
       "  margin-bottom: 4px;\n",
       "  border-bottom: solid 1px var(--xr-border-color);\n",
       "}\n",
       "\n",
       ".xr-header > div,\n",
       ".xr-header > ul {\n",
       "  display: inline;\n",
       "  margin-top: 0;\n",
       "  margin-bottom: 0;\n",
       "}\n",
       "\n",
       ".xr-obj-type,\n",
       ".xr-array-name {\n",
       "  margin-left: 2px;\n",
       "  margin-right: 10px;\n",
       "}\n",
       "\n",
       ".xr-obj-type {\n",
       "  color: var(--xr-font-color2);\n",
       "}\n",
       "\n",
       ".xr-sections {\n",
       "  padding-left: 0 !important;\n",
       "  display: grid;\n",
       "  grid-template-columns: 150px auto auto 1fr 20px 20px;\n",
       "}\n",
       "\n",
       ".xr-section-item {\n",
       "  display: contents;\n",
       "}\n",
       "\n",
       ".xr-section-item input {\n",
       "  display: none;\n",
       "}\n",
       "\n",
       ".xr-section-item input + label {\n",
       "  color: var(--xr-disabled-color);\n",
       "}\n",
       "\n",
       ".xr-section-item input:enabled + label {\n",
       "  cursor: pointer;\n",
       "  color: var(--xr-font-color2);\n",
       "}\n",
       "\n",
       ".xr-section-item input:enabled + label:hover {\n",
       "  color: var(--xr-font-color0);\n",
       "}\n",
       "\n",
       ".xr-section-summary {\n",
       "  grid-column: 1;\n",
       "  color: var(--xr-font-color2);\n",
       "  font-weight: 500;\n",
       "}\n",
       "\n",
       ".xr-section-summary > span {\n",
       "  display: inline-block;\n",
       "  padding-left: 0.5em;\n",
       "}\n",
       "\n",
       ".xr-section-summary-in:disabled + label {\n",
       "  color: var(--xr-font-color2);\n",
       "}\n",
       "\n",
       ".xr-section-summary-in + label:before {\n",
       "  display: inline-block;\n",
       "  content: '►';\n",
       "  font-size: 11px;\n",
       "  width: 15px;\n",
       "  text-align: center;\n",
       "}\n",
       "\n",
       ".xr-section-summary-in:disabled + label:before {\n",
       "  color: var(--xr-disabled-color);\n",
       "}\n",
       "\n",
       ".xr-section-summary-in:checked + label:before {\n",
       "  content: '▼';\n",
       "}\n",
       "\n",
       ".xr-section-summary-in:checked + label > span {\n",
       "  display: none;\n",
       "}\n",
       "\n",
       ".xr-section-summary,\n",
       ".xr-section-inline-details {\n",
       "  padding-top: 4px;\n",
       "  padding-bottom: 4px;\n",
       "}\n",
       "\n",
       ".xr-section-inline-details {\n",
       "  grid-column: 2 / -1;\n",
       "}\n",
       "\n",
       ".xr-section-details {\n",
       "  display: none;\n",
       "  grid-column: 1 / -1;\n",
       "  margin-bottom: 5px;\n",
       "}\n",
       "\n",
       ".xr-section-summary-in:checked ~ .xr-section-details {\n",
       "  display: contents;\n",
       "}\n",
       "\n",
       ".xr-array-wrap {\n",
       "  grid-column: 1 / -1;\n",
       "  display: grid;\n",
       "  grid-template-columns: 20px auto;\n",
       "}\n",
       "\n",
       ".xr-array-wrap > label {\n",
       "  grid-column: 1;\n",
       "  vertical-align: top;\n",
       "}\n",
       "\n",
       ".xr-preview {\n",
       "  color: var(--xr-font-color3);\n",
       "}\n",
       "\n",
       ".xr-array-preview,\n",
       ".xr-array-data {\n",
       "  padding: 0 5px !important;\n",
       "  grid-column: 2;\n",
       "}\n",
       "\n",
       ".xr-array-data,\n",
       ".xr-array-in:checked ~ .xr-array-preview {\n",
       "  display: none;\n",
       "}\n",
       "\n",
       ".xr-array-in:checked ~ .xr-array-data,\n",
       ".xr-array-preview {\n",
       "  display: inline-block;\n",
       "}\n",
       "\n",
       ".xr-dim-list {\n",
       "  display: inline-block !important;\n",
       "  list-style: none;\n",
       "  padding: 0 !important;\n",
       "  margin: 0;\n",
       "}\n",
       "\n",
       ".xr-dim-list li {\n",
       "  display: inline-block;\n",
       "  padding: 0;\n",
       "  margin: 0;\n",
       "}\n",
       "\n",
       ".xr-dim-list:before {\n",
       "  content: '(';\n",
       "}\n",
       "\n",
       ".xr-dim-list:after {\n",
       "  content: ')';\n",
       "}\n",
       "\n",
       ".xr-dim-list li:not(:last-child):after {\n",
       "  content: ',';\n",
       "  padding-right: 5px;\n",
       "}\n",
       "\n",
       ".xr-has-index {\n",
       "  font-weight: bold;\n",
       "}\n",
       "\n",
       ".xr-var-list,\n",
       ".xr-var-item {\n",
       "  display: contents;\n",
       "}\n",
       "\n",
       ".xr-var-item > div,\n",
       ".xr-var-item label,\n",
       ".xr-var-item > .xr-var-name span {\n",
       "  background-color: var(--xr-background-color-row-even);\n",
       "  margin-bottom: 0;\n",
       "}\n",
       "\n",
       ".xr-var-item > .xr-var-name:hover span {\n",
       "  padding-right: 5px;\n",
       "}\n",
       "\n",
       ".xr-var-list > li:nth-child(odd) > div,\n",
       ".xr-var-list > li:nth-child(odd) > label,\n",
       ".xr-var-list > li:nth-child(odd) > .xr-var-name span {\n",
       "  background-color: var(--xr-background-color-row-odd);\n",
       "}\n",
       "\n",
       ".xr-var-name {\n",
       "  grid-column: 1;\n",
       "}\n",
       "\n",
       ".xr-var-dims {\n",
       "  grid-column: 2;\n",
       "}\n",
       "\n",
       ".xr-var-dtype {\n",
       "  grid-column: 3;\n",
       "  text-align: right;\n",
       "  color: var(--xr-font-color2);\n",
       "}\n",
       "\n",
       ".xr-var-preview {\n",
       "  grid-column: 4;\n",
       "}\n",
       "\n",
       ".xr-var-name,\n",
       ".xr-var-dims,\n",
       ".xr-var-dtype,\n",
       ".xr-preview,\n",
       ".xr-attrs dt {\n",
       "  white-space: nowrap;\n",
       "  overflow: hidden;\n",
       "  text-overflow: ellipsis;\n",
       "  padding-right: 10px;\n",
       "}\n",
       "\n",
       ".xr-var-name:hover,\n",
       ".xr-var-dims:hover,\n",
       ".xr-var-dtype:hover,\n",
       ".xr-attrs dt:hover {\n",
       "  overflow: visible;\n",
       "  width: auto;\n",
       "  z-index: 1;\n",
       "}\n",
       "\n",
       ".xr-var-attrs,\n",
       ".xr-var-data {\n",
       "  display: none;\n",
       "  background-color: var(--xr-background-color) !important;\n",
       "  padding-bottom: 5px !important;\n",
       "}\n",
       "\n",
       ".xr-var-attrs-in:checked ~ .xr-var-attrs,\n",
       ".xr-var-data-in:checked ~ .xr-var-data {\n",
       "  display: block;\n",
       "}\n",
       "\n",
       ".xr-var-data > table {\n",
       "  float: right;\n",
       "}\n",
       "\n",
       ".xr-var-name span,\n",
       ".xr-var-data,\n",
       ".xr-attrs {\n",
       "  padding-left: 25px !important;\n",
       "}\n",
       "\n",
       ".xr-attrs,\n",
       ".xr-var-attrs,\n",
       ".xr-var-data {\n",
       "  grid-column: 1 / -1;\n",
       "}\n",
       "\n",
       "dl.xr-attrs {\n",
       "  padding: 0;\n",
       "  margin: 0;\n",
       "  display: grid;\n",
       "  grid-template-columns: 125px auto;\n",
       "}\n",
       "\n",
       ".xr-attrs dt,\n",
       ".xr-attrs dd {\n",
       "  padding: 0;\n",
       "  margin: 0;\n",
       "  float: left;\n",
       "  padding-right: 10px;\n",
       "  width: auto;\n",
       "}\n",
       "\n",
       ".xr-attrs dt {\n",
       "  font-weight: normal;\n",
       "  grid-column: 1;\n",
       "}\n",
       "\n",
       ".xr-attrs dt:hover span {\n",
       "  display: inline-block;\n",
       "  background: var(--xr-background-color);\n",
       "  padding-right: 10px;\n",
       "}\n",
       "\n",
       ".xr-attrs dd {\n",
       "  grid-column: 2;\n",
       "  white-space: pre-wrap;\n",
       "  word-break: break-all;\n",
       "}\n",
       "\n",
       ".xr-icon-database,\n",
       ".xr-icon-file-text2 {\n",
       "  display: inline-block;\n",
       "  vertical-align: middle;\n",
       "  width: 1em;\n",
       "  height: 1.5em !important;\n",
       "  stroke-width: 0;\n",
       "  stroke: currentColor;\n",
       "  fill: currentColor;\n",
       "}\n",
       "</style><pre class='xr-text-repr-fallback'>&lt;xarray.DataArray &#x27;discharge&#x27; (latitude: 3, longitude: 4)&gt;\n",
       "array([[         nan,          nan,          nan,          nan],\n",
       "       [         nan,  74.54685211,  10.38944435,          nan],\n",
       "       [         nan, 188.07923889,          nan,          nan]])\n",
       "Coordinates:\n",
       "  * longitude  (longitude) float64 3.75 6.25 8.75 11.25\n",
       "  * latitude   (latitude) float64 46.25 48.75 51.25\n",
       "    time       object 2001-02-28 00:00:00\n",
       "Attributes:\n",
       "    units:    m3.s-1</pre><div class='xr-wrap' hidden><div class='xr-header'><div class='xr-obj-type'>xarray.DataArray</div><div class='xr-array-name'>'discharge'</div><ul class='xr-dim-list'><li><span class='xr-has-index'>latitude</span>: 3</li><li><span class='xr-has-index'>longitude</span>: 4</li></ul></div><ul class='xr-sections'><li class='xr-section-item'><div class='xr-array-wrap'><input id='section-54bb84d2-1fbf-461b-92ad-b60472ae25af' class='xr-array-in' type='checkbox' checked><label for='section-54bb84d2-1fbf-461b-92ad-b60472ae25af' title='Show/hide data repr'><svg class='icon xr-icon-database'><use xlink:href='#icon-database'></use></svg></label><div class='xr-array-preview xr-preview'><span>nan nan nan nan nan 74.55 10.39 nan nan 188.1 nan nan</span></div><div class='xr-array-data'><pre>array([[         nan,          nan,          nan,          nan],\n",
       "       [         nan,  74.54685211,  10.38944435,          nan],\n",
       "       [         nan, 188.07923889,          nan,          nan]])</pre></div></div></li><li class='xr-section-item'><input id='section-3641422c-02e7-45e6-8cef-82fcee6279e7' class='xr-section-summary-in' type='checkbox'  checked><label for='section-3641422c-02e7-45e6-8cef-82fcee6279e7' class='xr-section-summary' >Coordinates: <span>(3)</span></label><div class='xr-section-inline-details'></div><div class='xr-section-details'><ul class='xr-var-list'><li class='xr-var-item'><div class='xr-var-name'><span class='xr-has-index'>longitude</span></div><div class='xr-var-dims'>(longitude)</div><div class='xr-var-dtype'>float64</div><div class='xr-var-preview xr-preview'>3.75 6.25 8.75 11.25</div><input id='attrs-c325e259-27f3-4b45-a084-b1de369bc3c6' class='xr-var-attrs-in' type='checkbox' disabled><label for='attrs-c325e259-27f3-4b45-a084-b1de369bc3c6' title='Show/Hide attributes'><svg class='icon xr-icon-file-text2'><use xlink:href='#icon-file-text2'></use></svg></label><input id='data-3710ddf8-96eb-4887-924e-f71eb0977ed7' class='xr-var-data-in' type='checkbox'><label for='data-3710ddf8-96eb-4887-924e-f71eb0977ed7' title='Show/Hide data repr'><svg class='icon xr-icon-database'><use xlink:href='#icon-database'></use></svg></label><div class='xr-var-attrs'><dl class='xr-attrs'></dl></div><div class='xr-var-data'><pre>array([ 3.75,  6.25,  8.75, 11.25])</pre></div></li><li class='xr-var-item'><div class='xr-var-name'><span class='xr-has-index'>latitude</span></div><div class='xr-var-dims'>(latitude)</div><div class='xr-var-dtype'>float64</div><div class='xr-var-preview xr-preview'>46.25 48.75 51.25</div><input id='attrs-d3cd529f-8e2e-4401-bb4a-bc931531a7cc' class='xr-var-attrs-in' type='checkbox' disabled><label for='attrs-d3cd529f-8e2e-4401-bb4a-bc931531a7cc' title='Show/Hide attributes'><svg class='icon xr-icon-file-text2'><use xlink:href='#icon-file-text2'></use></svg></label><input id='data-e02bbec9-5e5a-4ca8-a067-960ac64c6671' class='xr-var-data-in' type='checkbox'><label for='data-e02bbec9-5e5a-4ca8-a067-960ac64c6671' title='Show/Hide data repr'><svg class='icon xr-icon-database'><use xlink:href='#icon-database'></use></svg></label><div class='xr-var-attrs'><dl class='xr-attrs'></dl></div><div class='xr-var-data'><pre>array([46.25, 48.75, 51.25])</pre></div></li><li class='xr-var-item'><div class='xr-var-name'><span>time</span></div><div class='xr-var-dims'>()</div><div class='xr-var-dtype'>object</div><div class='xr-var-preview xr-preview'>2001-02-28 00:00:00</div><input id='attrs-7089ed31-9f64-49aa-9f38-6f428d2046a8' class='xr-var-attrs-in' type='checkbox' disabled><label for='attrs-7089ed31-9f64-49aa-9f38-6f428d2046a8' title='Show/Hide attributes'><svg class='icon xr-icon-file-text2'><use xlink:href='#icon-file-text2'></use></svg></label><input id='data-52614924-717d-447c-840a-bf3169cee7b1' class='xr-var-data-in' type='checkbox'><label for='data-52614924-717d-447c-840a-bf3169cee7b1' title='Show/Hide data repr'><svg class='icon xr-icon-database'><use xlink:href='#icon-database'></use></svg></label><div class='xr-var-attrs'><dl class='xr-attrs'></dl></div><div class='xr-var-data'><pre>array(cftime.DatetimeGregorian(2001, 2, 28, 0, 0, 0, 0), dtype=object)</pre></div></li></ul></div></li><li class='xr-section-item'><input id='section-bd4bb73a-a9e4-424e-b3cf-81e6af17c97a' class='xr-section-summary-in' type='checkbox'  checked><label for='section-bd4bb73a-a9e4-424e-b3cf-81e6af17c97a' class='xr-section-summary' >Attributes: <span>(1)</span></label><div class='xr-section-inline-details'></div><div class='xr-section-details'><dl class='xr-attrs'><dt><span>units :</span></dt><dd>m3.s-1</dd></dl></div></li></ul></div></div>"
      ],
      "text/plain": [
       "<xarray.DataArray 'discharge' (latitude: 3, longitude: 4)>\n",
       "array([[         nan,          nan,          nan,          nan],\n",
       "       [         nan,  74.54685211,  10.38944435,          nan],\n",
       "       [         nan, 188.07923889,          nan,          nan]])\n",
       "Coordinates:\n",
       "  * longitude  (longitude) float64 3.75 6.25 8.75 11.25\n",
       "  * latitude   (latitude) float64 46.25 48.75 51.25\n",
       "    time       object 2001-02-28 00:00:00\n",
       "Attributes:\n",
       "    units:    m3.s-1"
      ]
     },
     "execution_count": 15,
     "metadata": {},
     "output_type": "execute_result"
    }
   ],
   "source": [
    "da = pcrglob.get_value_as_xarray(\"discharge\")\n",
    "da.thin(5)  # only show every 5th value in each dim"
   ]
  },
  {
   "cell_type": "markdown",
   "metadata": {},
   "source": [
    "Xarray makes it very easy to plot the data. In the figure below, we add three points that we will use to illustrate that we can also access individual grid cells."
   ]
  },
  {
   "cell_type": "code",
   "execution_count": 16,
   "metadata": {},
   "outputs": [
    {
     "data": {
      "text/plain": [
       "<matplotlib.collections.PathCollection at 0x7f636aa5c4f0>"
      ]
     },
     "execution_count": 16,
     "metadata": {},
     "output_type": "execute_result"
    },
    {
     "data": {
      "image/png": "[encoded data removed]",
      "text/plain": [
       "<Figure size 720x480 with 2 Axes>"
      ]
     },
     "metadata": {
      "needs_background": "light"
     },
     "output_type": "display_data"
    }
   ],
   "source": [
    "fig = plt.figure(dpi=120)\n",
    "ax = fig.add_subplot(111, projection=crs.PlateCarree())\n",
    "da.plot(ax=ax, cmap=\"GnBu\")\n",
    "\n",
    "# Overlay ocean and coastines\n",
    "ax.add_feature(cfeature.OCEAN)\n",
    "ax.add_feature(cfeature.RIVERS, color=\"k\")\n",
    "ax.coastlines()\n",
    "\n",
    "# Add some verification points\n",
    "target_longitudes = [7.8, 10.2, 11]\n",
    "target_latitudes = [50.3, 49.8, 47]\n",
    "ax.scatter(target_longitudes, target_latitudes, s=250, c=\"r\", marker=\"x\", lw=2)"
   ]
  },
  {
   "cell_type": "markdown",
   "metadata": {},
   "source": [
    "We can get (or set) the values at custom points as well:"
   ]
  },
  {
   "cell_type": "code",
   "execution_count": 17,
   "metadata": {},
   "outputs": [
    {
     "data": {
      "text/plain": [
       "array([713.2911377 ,  84.76369476,          nan])"
      ]
     },
     "execution_count": 17,
     "metadata": {},
     "output_type": "execute_result"
    }
   ],
   "source": [
    "pcrglob.get_value_at_coords(\"discharge\", lon=target_longitudes, lat=target_latitudes)"
   ]
  },
  {
   "cell_type": "markdown",
   "metadata": {},
   "source": [
    "## Cleaning up\n",
    "\n",
    "Models usually perform some \"wrap up tasks\" at the end of a model run, such as writing the last outputs to disk and releasing memory. In the case of eWaterCycle, another important teardown task is destroying the container in which the model was running. This can free up a lot of resources on your system. Therefore it is good practice to always call `finalize()` when you're done with an experiment."
   ]
  },
  {
   "cell_type": "code",
   "execution_count": 18,
   "metadata": {},
   "outputs": [],
   "source": [
    "pcrglob.finalize()"
   ]
  }
 ],
 "metadata": {
  "kernelspec": {
   "display_name": "Python 3",
   "language": "python",
   "name": "python3"
  },
  "language_info": {
   "codemirror_mode": {
    "name": "ipython",
    "version": 3
   },
   "file_extension": ".py",
   "mimetype": "text/x-python",
   "name": "python",
   "nbconvert_exporter": "python",
   "pygments_lexer": "ipython3",
   "version": "3.10.9"
  }
 },
 "nbformat": 4,
 "nbformat_minor": 5
}
