{
 "cells": [
  {
   "cell_type": "markdown",
   "metadata": {},
   "source": [
    "![image](https://github.com/eWaterCycle/ewatercycle/raw/main/docs/examples/logo.png)"
   ]
  },
  {
   "cell_type": "markdown",
   "metadata": {},
   "source": [
    "# Generate forcing in eWaterCycle with ESMValTool\n",
    "\n",
    "This notebooks shows how to generate forcing data for the Hype model using ERA5 data and [ESMValTool hydrological recipes](https://docs.esmvaltool.org/en/latest/recipes/recipe_hydrology.html#hype). More information about data, configuration and installation instructions can be found in the [System setup](https://ewatercycle.readthedocs.io/en/latest/system_setup.html) in the eWaterCycle documentation."
   ]
  },
  {
   "cell_type": "code",
   "execution_count": 1,
   "metadata": {},
   "outputs": [],
   "source": [
    "import logging\n",
    "import warnings\n",
    "\n",
    "warnings.filterwarnings(\"ignore\", category=UserWarning)\n",
    "\n",
    "logger = logging.getLogger(\"esmvalcore\")\n",
    "logger.setLevel(logging.WARNING)"
   ]
  },
  {
   "cell_type": "code",
   "execution_count": 2,
   "metadata": {},
   "outputs": [],
   "source": [
    "import xarray as xr\n",
    "from rich import print\n",
    "\n",
    "import ewatercycle.forcing"
   ]
  },
  {
   "cell_type": "markdown",
   "metadata": {},
   "source": [
    "Forcing for Hype is created using the ESMValTool recipe. \n",
    "It produces one file per each variable: temperature, and precipitation. \n",
    "You can set the start and end date."
   ]
  },
  {
   "cell_type": "code",
   "execution_count": 3,
   "metadata": {},
   "outputs": [
    {
     "name": "stderr",
     "output_type": "stream",
     "text": [
      "WARNING:esmvalcore._recipe:Missing data for fx variable 'areacella' of dataset ERA5\n",
      "WARNING:esmvalcore._recipe:Missing data for fx variable 'areacello' of dataset ERA5\n",
      "WARNING:esmvalcore._recipe:Missing data for fx variable 'areacella' of dataset ERA5\n",
      "WARNING:esmvalcore._recipe:Missing data for fx variable 'areacello' of dataset ERA5\n",
      "WARNING:esmvalcore._recipe:Missing data for fx variable 'areacella' of dataset ERA5\n",
      "WARNING:esmvalcore._recipe:Missing data for fx variable 'areacello' of dataset ERA5\n",
      "WARNING:esmvalcore._recipe:Missing data for fx variable 'areacella' of dataset ERA5\n",
      "WARNING:esmvalcore._recipe:Missing data for fx variable 'areacello' of dataset ERA5\n"
     ]
    },
    {
     "name": "stdout",
     "output_type": "stream",
     "text": [
      "eWaterCycle forcing\n",
      "-------------------\n",
      "start_time=1990-01-01T00:00:00Z\n",
      "end_time=1990-12-31T00:00:00Z\n",
      "directory=/home/sarah/temp/esmvaltool_output/recipe_hype_20220607_123122/work/hype/script/ERA5\n",
      "shape=/home/sarah/GitHub/ewatercycle/docs/examples/data/Rhine/Rhine.shp\n",
      "Pobs=Pobs.txt\n",
      "TMAXobs=TMAXobs.txt\n",
      "TMINobs=TMINobs.txt\n",
      "Tobs=Tobs.txt\n"
     ]
    }
   ],
   "source": [
    "hype_forcing = ewatercycle.forcing.sources[\"HypeForcing\"].generate(\n",
    "    dataset=\"ERA5\",\n",
    "    start_time=\"1990-01-01T00:00:00Z\",\n",
    "    end_time=\"1990-12-31T00:00:00Z\",\n",
    "    shape=\"./data/Rhine/Rhine.shp\",\n",
    ")\n",
    "print(hype_forcing)"
   ]
  },
  {
   "cell_type": "code",
   "execution_count": null,
   "metadata": {},
   "outputs": [],
   "source": []
  }
 ],
 "metadata": {
  "kernelspec": {
   "display_name": "Python 3 (ipykernel)",
   "language": "python",
   "name": "python3"
  },
  "language_info": {
   "codemirror_mode": {
    "name": "ipython",
    "version": 3
   },
   "file_extension": ".py",
   "mimetype": "text/x-python",
   "name": "python",
   "nbconvert_exporter": "python",
   "pygments_lexer": "ipython3",
   "version": "3.10.9"
  },
  "metadata": {
   "interpreter": {
    "hash": "a8aa8210cb3d81d2b5c08b30572e78ad19bd30da92b4caf9890388bc07c5e3bf"
   }
  }
 },
 "nbformat": 4,
 "nbformat_minor": 4
}
