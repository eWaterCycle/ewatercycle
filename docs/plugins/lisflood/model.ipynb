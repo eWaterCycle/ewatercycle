{
 "cells": [
  {
   "cell_type": "markdown",
   "id": "c02a5bfe",
   "metadata": {},
   "source": [
    "![image](https://github.com/eWaterCycle/ewatercycle/raw/main/docs/examples/logo.png)"
   ]
  },
  {
   "cell_type": "markdown",
   "id": "dd265189-37f4-4256-9740-0bac2b1eacee",
   "metadata": {},
   "source": [
    "# Running LISFLOOD model using eWaterCycle package (on SURF Research Cloud)\n",
    "\n",
    "This notebooks shows how to run [LISFLOOD](https://ec-jrc.github.io/lisflood-model/) model. Please note that the [lisflood-grpc4bmi docker image](https://hub.docker.com/r/ewatercycle/lisflood-grpc4bmi) in eWaterCycle is compatible only with forcing data and parameter set on [eWaterCycle infrastructure](https://github.com/eWaterCycle/infra) like a server on the SURF Research Cloud. More information about data, configuration and installation instructions can be found in the [System setup](https://ewatercycle.readthedocs.io/en/latest/system_setup.html) in the eWaterCycle documentation."
   ]
  },
  {
   "cell_type": "code",
   "execution_count": 1,
   "id": "20d65b1f-0ddd-45d7-be97-e73635b8e736",
   "metadata": {},
   "outputs": [],
   "source": [
    "import logging\n",
    "import warnings\n",
    "\n",
    "logger = logging.getLogger(\"grpc4bmi\")\n",
    "logger.setLevel(logging.WARNING)\n",
    "\n",
    "warnings.filterwarnings(\"ignore\", category=UserWarning)"
   ]
  },
  {
   "cell_type": "code",
   "execution_count": 2,
   "id": "b973913f-9472-4c00-bc4b-a170e42710ed",
   "metadata": {},
   "outputs": [],
   "source": [
    "import pandas as pd\n",
    "\n",
    "import ewatercycle.forcing\n",
    "import ewatercycle.models\n",
    "import ewatercycle.parameter_sets"
   ]
  },
  {
   "cell_type": "markdown",
   "id": "8ed2138d",
   "metadata": {},
   "source": [
    "## Load forcing data\n",
    "\n",
    "For this example notebook, `lisflood_ERA-Interim_*_1990_1990.nc` data are copied \n",
    "from `/projects/0/wtrcycle/comparison/forcing/lisflood` to `/scratch/shared/ewatercycle/lisflood_example/lisflood_forcing_data`.\n",
    "Also the lisvap output files 'e0', 'es0' and 'et0' are generated and stored in the same directory.\n",
    "These data are made by running ESMValTool recipe and lisvap. We can now use those files to run the Lisflood model."
   ]
  },
  {
   "cell_type": "code",
   "execution_count": 3,
   "id": "54344de9",
   "metadata": {},
   "outputs": [
    {
     "name": "stdout",
     "output_type": "stream",
     "text": [
      "eWaterCycle forcing\n",
      "-------------------\n",
      "start_time=1990-01-01T00:00:00Z\n",
      "end_time=1990-12-31T00:00:00Z\n",
      "directory=/mnt/data/forcing/lisflood_ERA5_1990_global-masked\n",
      "shape=None\n",
      "PrefixPrecipitation=lisflood_ERA5_pr_1990_1990.nc\n",
      "PrefixTavg=lisflood_ERA5_tas_1990_1990.nc\n",
      "PrefixE0=lisflood_ERA5_e0_1990_1990.nc\n",
      "PrefixES0=lisflood_ERA5_es0_1990_1990.nc\n",
      "PrefixET0=lisflood_ERA5_et0_1990_1990.nc\n"
     ]
    }
   ],
   "source": [
    "forcing = ewatercycle.forcing.sources[\"LisfloodForcing\"](\n",
    "    directory=\"/mnt/data/forcing/lisflood_ERA5_1990_global-masked\",\n",
    "    start_time=\"1990-01-01T00:00:00Z\",\n",
    "    end_time=\"1990-12-31T00:00:00Z\",\n",
    "    PrefixPrecipitation=\"lisflood_ERA5_pr_1990_1990.nc\",\n",
    "    PrefixTavg=\"lisflood_ERA5_tas_1990_1990.nc\",\n",
    "    PrefixE0=\"lisflood_ERA5_e0_1990_1990.nc\",\n",
    "    PrefixES0=\"lisflood_ERA5_es0_1990_1990.nc\",\n",
    "    PrefixET0=\"lisflood_ERA5_et0_1990_1990.nc\",\n",
    ")\n",
    "print(forcing)"
   ]
  },
  {
   "cell_type": "markdown",
   "id": "73c1a63a-9e08-4270-a10a-ea25731c520f",
   "metadata": {
    "tags": []
   },
   "source": [
    "## Load parameter set"
   ]
  },
  {
   "cell_type": "markdown",
   "id": "4e968d36-c1be-4e60-99f3-87552f84364c",
   "metadata": {
    "tags": []
   },
   "source": [
    "This example uses parameter set from SURF dCache storage."
   ]
  },
  {
   "cell_type": "code",
   "execution_count": 4,
   "id": "b5047917-8fcc-4672-9652-aa705b938c89",
   "metadata": {
    "tags": []
   },
   "outputs": [
    {
     "name": "stdout",
     "output_type": "stream",
     "text": [
      "Parameter set\n",
      "-------------\n",
      "name=Lisflood01degree_masked\n",
      "directory=/mnt/data/parameter-sets/lisflood_global-masked_01degree\n",
      "config=/mnt/data/parameter-sets/lisflood_global-masked_01degree/settings_lisflood_ERA5.xml\n",
      "doi=N/A\n",
      "target_model=lisflood\n",
      "supported_model_versions=set()\n"
     ]
    }
   ],
   "source": [
    "parameterset = ewatercycle.parameter_sets.ParameterSet(\n",
    "    name=\"Lisflood01degree_masked\",\n",
    "    directory=\"/mnt/data/parameter-sets/lisflood_global-masked_01degree\",\n",
    "    config=\"settings_lisflood_ERA5.xml\",\n",
    "    target_model=\"lisflood\",\n",
    ")\n",
    "print(parameterset)"
   ]
  },
  {
   "cell_type": "markdown",
   "id": "d84b4ae9-641b-4491-b45a-828ce470e09d",
   "metadata": {
    "tags": []
   },
   "source": [
    "## Set up the model"
   ]
  },
  {
   "cell_type": "markdown",
   "id": "a6e1eae3-f3ca-44ca-ab1d-5192544b947e",
   "metadata": {
    "tags": []
   },
   "source": [
    "To create the model object, we need to select a version."
   ]
  },
  {
   "cell_type": "code",
   "execution_count": 5,
   "id": "2fe222cb",
   "metadata": {},
   "outputs": [
    {
     "data": {
      "text/plain": [
       "('20.10',)"
      ]
     },
     "execution_count": 5,
     "metadata": {},
     "output_type": "execute_result"
    }
   ],
   "source": [
    "ewatercycle.models.Lisflood.available_versions"
   ]
  },
  {
   "cell_type": "code",
   "execution_count": 6,
   "id": "7915f0ed",
   "metadata": {},
   "outputs": [
    {
     "name": "stdout",
     "output_type": "stream",
     "text": [
      "Model version 20.10 is not explicitly listed in the supported model versions of this parameter set. This can lead to compatibility issues.\n",
      "eWaterCycle Lisflood\n",
      "-------------------\n",
      "Version = 20.10\n",
      "Parameter set = \n",
      "  Parameter set\n",
      "  -------------\n",
      "  name=Lisflood01degree_masked\n",
      "  directory=/mnt/data/parameter-sets/lisflood_global-masked_01degree\n",
      "  config=/mnt/data/parameter-sets/lisflood_global-masked_01degree/settings_lisflood_ERA5.xml\n",
      "  doi=N/A\n",
      "  target_model=lisflood\n",
      "  supported_model_versions=set()\n",
      "Forcing = \n",
      "  eWaterCycle forcing\n",
      "  -------------------\n",
      "  start_time=1990-01-01T00:00:00Z\n",
      "  end_time=1990-12-31T00:00:00Z\n",
      "  directory=/mnt/data/forcing/lisflood_ERA5_1990_global-masked\n",
      "  shape=None\n",
      "  PrefixPrecipitation=lisflood_ERA5_pr_1990_1990.nc\n",
      "  PrefixTavg=lisflood_ERA5_tas_1990_1990.nc\n",
      "  PrefixE0=lisflood_ERA5_e0_1990_1990.nc\n",
      "  PrefixES0=lisflood_ERA5_es0_1990_1990.nc\n",
      "  PrefixET0=lisflood_ERA5_et0_1990_1990.nc\n"
     ]
    }
   ],
   "source": [
    "model = ewatercycle.models.Lisflood(\n",
    "    version=\"20.10\", parameter_set=parameterset, forcing=forcing\n",
    ")\n",
    "print(model)"
   ]
  },
  {
   "cell_type": "code",
   "execution_count": 7,
   "id": "5d66b316",
   "metadata": {},
   "outputs": [
    {
     "data": {
      "text/plain": [
       "[('IrrigationEfficiency', '0.75'),\n",
       " ('MaskMap', '/data/input/areamaps/model_mask'),\n",
       " ('start_time', '1990-01-01T00:00:00Z'),\n",
       " ('end_time', '1990-12-31T00:00:00Z')]"
      ]
     },
     "execution_count": 7,
     "metadata": {},
     "output_type": "execute_result"
    }
   ],
   "source": [
    "model.parameters"
   ]
  },
  {
   "cell_type": "markdown",
   "id": "4c93fdf8-fc76-43e5-97d7-262965eca71d",
   "metadata": {},
   "source": [
    "Setup model with model_mask, IrrigationEfficiency of 0.8 instead of 0.75 and an earlier end time, making total model time just 1 month."
   ]
  },
  {
   "cell_type": "code",
   "execution_count": 8,
   "id": "9baa4158-aae8-49d7-83b2-4ab46d99a1fe",
   "metadata": {},
   "outputs": [
    {
     "name": "stdout",
     "output_type": "stream",
     "text": [
      "Running /mnt/data/apptainer-images/ewatercycle-lisflood-grpc4bmi_20.10.sif apptainer container on port 41619\n",
      "/home/vagrant/ewatercycle/docs/examples/ewatercycle_output/lisflood_20210930_093520/lisflood_setting.xml\n",
      "/home/vagrant/ewatercycle/docs/examples/ewatercycle_output/lisflood_20210930_093520\n"
     ]
    }
   ],
   "source": [
    "model_mask = \"/mnt/data/climate-data/aux/LISFLOOD/model_mask.nc\"\n",
    "\n",
    "config_file, config_dir = model.setup(\n",
    "    IrrigationEfficiency=\"0.8\", end_time=\"1990-1-31T00:00:00Z\", MaskMap=model_mask\n",
    ")\n",
    "print(config_file)\n",
    "print(config_dir)"
   ]
  },
  {
   "cell_type": "code",
   "execution_count": 9,
   "id": "473ff55b",
   "metadata": {},
   "outputs": [
    {
     "data": {
      "text/plain": [
       "[('IrrigationEfficiency', '0.8'),\n",
       " ('MaskMap', '/mnt/data/climate-data/aux/LISFLOOD/model_mask'),\n",
       " ('start_time', '1990-01-01T00:00:00Z'),\n",
       " ('end_time', '1990-01-31T00:00:00Z')]"
      ]
     },
     "execution_count": 9,
     "metadata": {},
     "output_type": "execute_result"
    }
   ],
   "source": [
    "model.parameters"
   ]
  },
  {
   "cell_type": "markdown",
   "id": "09852786-76ae-439d-8ab9-e30387acba1a",
   "metadata": {},
   "source": [
    "Initialize the model with the config file:"
   ]
  },
  {
   "cell_type": "code",
   "execution_count": 10,
   "id": "dea5b7c2-9b7f-425f-afdd-6c0398ff5cf1",
   "metadata": {},
   "outputs": [],
   "source": [
    "model.initialize(config_file)"
   ]
  },
  {
   "cell_type": "markdown",
   "id": "13318b5b-1ada-4c1f-995b-f4ff3486e817",
   "metadata": {},
   "source": [
    "Get model variable names"
   ]
  },
  {
   "cell_type": "code",
   "execution_count": 11,
   "id": "f252b08d-5b86-412c-aa1f-31816b1f97f4",
   "metadata": {},
   "outputs": [
    {
     "data": {
      "text/plain": [
       "('Discharge',)"
      ]
     },
     "execution_count": 11,
     "metadata": {},
     "output_type": "execute_result"
    }
   ],
   "source": [
    "model.output_var_names"
   ]
  },
  {
   "cell_type": "markdown",
   "id": "3e92d7bc-952d-4716-b7f1-c0f219c7aba0",
   "metadata": {},
   "source": [
    "## Run the model"
   ]
  },
  {
   "cell_type": "markdown",
   "id": "80d7c751-74a4-4057-ac04-15bc216e131f",
   "metadata": {},
   "source": [
    "Store simulated values at one target location until model end time. In this example, we use the coordinates of Merrimack observation station as the target coordinates. "
   ]
  },
  {
   "cell_type": "code",
   "execution_count": 12,
   "id": "a34ea3f7-200f-4275-b5fd-778bad3f67cb",
   "metadata": {},
   "outputs": [
    {
     "name": "stdout",
     "output_type": "stream",
     "text": [
      "1990-01-03T00:00:00Z\n",
      "1990-01-04T00:00:00Z\n",
      "1990-01-05T00:00:00Z\n",
      "1990-01-06T00:00:00Z\n",
      "1990-01-07T00:00:00Z\n",
      "1990-01-08T00:00:00Z\n",
      "1990-01-09T00:00:00Z\n",
      "1990-01-10T00:00:00Z\n",
      "1990-01-11T00:00:00Z\n",
      "1990-01-12T00:00:00Z\n",
      "1990-01-13T00:00:00Z\n",
      "1990-01-14T00:00:00Z\n",
      "1990-01-15T00:00:00Z\n",
      "1990-01-16T00:00:00Z\n",
      "1990-01-17T00:00:00Z\n",
      "1990-01-18T00:00:00Z\n",
      "1990-01-19T00:00:00Z\n",
      "1990-01-20T00:00:00Z\n",
      "1990-01-21T00:00:00Z\n",
      "1990-01-22T00:00:00Z\n",
      "1990-01-23T00:00:00Z\n",
      "1990-01-24T00:00:00Z\n",
      "1990-01-25T00:00:00Z\n",
      "1990-01-26T00:00:00Z\n",
      "1990-01-27T00:00:00Z\n",
      "1990-01-28T00:00:00Z\n",
      "1990-01-29T00:00:00Z\n",
      "1990-01-30T00:00:00Z\n",
      "1990-01-31T00:00:00Z\n"
     ]
    }
   ],
   "source": [
    "target_longitude = [-71.35]\n",
    "target_latitude = [42.64]\n",
    "target_discharge = []\n",
    "time_range = []\n",
    "end_time = model.end_time\n",
    "\n",
    "while model.time < end_time:\n",
    "    model.update()\n",
    "    target_discharge.append(\n",
    "        model.get_value_at_coords(\n",
    "            \"Discharge\", lon=target_longitude, lat=target_latitude\n",
    "        )[0]\n",
    "    )\n",
    "    time_range.append(model.time_as_datetime.date())\n",
    "    print(model.time_as_isostr)"
   ]
  },
  {
   "cell_type": "markdown",
   "id": "fe2778a3-33c3-4d95-a316-7120618dc4c6",
   "metadata": {},
   "source": [
    "Store simulated values for all locations of the model grid at end time."
   ]
  },
  {
   "cell_type": "code",
   "execution_count": 13,
   "id": "9e092460-2913-459a-b11d-01f66358e350",
   "metadata": {},
   "outputs": [],
   "source": [
    "discharge = model.get_value_as_xarray(\"Discharge\")"
   ]
  },
  {
   "cell_type": "code",
   "execution_count": 14,
   "id": "4d553415-c941-4b65-97c2-ce49c08d45e1",
   "metadata": {},
   "outputs": [],
   "source": [
    "model.finalize()"
   ]
  },
  {
   "cell_type": "markdown",
   "id": "72deaa2b-5b47-49b6-9d55-03ffd95cfe7b",
   "metadata": {},
   "source": [
    "## Inspect the results\n",
    "\n",
    "The discharge time series at Merrimack observation station:"
   ]
  },
  {
   "cell_type": "code",
   "execution_count": 15,
   "id": "b9274b40",
   "metadata": {},
   "outputs": [
    {
     "data": {
      "text/plain": [
       "<AxesSubplot:>"
      ]
     },
     "execution_count": 15,
     "metadata": {},
     "output_type": "execute_result"
    },
    {
     "data": {
      "image/png": "[encoded data removed]",
      "text/plain": [
       "<Figure size 864x576 with 1 Axes>"
      ]
     },
     "metadata": {
      "needs_background": "light"
     },
     "output_type": "display_data"
    }
   ],
   "source": [
    "simulated_target_discharge = pd.DataFrame(\n",
    "    {\"simulation\": target_discharge}, index=pd.to_datetime(time_range)\n",
    ")\n",
    "simulated_target_discharge.plot(figsize=(12, 8))"
   ]
  },
  {
   "cell_type": "markdown",
   "id": "d0382f4d-e179-4ee7-bd24-f258919e6c53",
   "metadata": {},
   "source": [
    "The lisflood output has a global extent. In this example, we plot the discharge values in Merrimack catchment and at the last time step."
   ]
  },
  {
   "cell_type": "code",
   "execution_count": 16,
   "id": "a74a7ca1-35c2-49cd-aeaf-874510f00c0c",
   "metadata": {},
   "outputs": [
    {
     "data": {
      "text/plain": [
       "<matplotlib.collections.PathCollection at 0x7fa2c01215b0>"
      ]
     },
     "execution_count": 16,
     "metadata": {},
     "output_type": "execute_result"
    },
    {
     "data": {
      "image/png": "[encoded data removed]",
      "text/plain": [
       "<Figure size 864x576 with 2 Axes>"
      ]
     },
     "metadata": {
      "needs_background": "light"
     },
     "output_type": "display_data"
    }
   ],
   "source": [
    "lc = discharge.coords[\"longitude\"]\n",
    "la = discharge.coords[\"latitude\"]\n",
    "discharge_map = discharge.loc[\n",
    "    dict(longitude=lc[(lc > -73) & (lc < -70)], latitude=la[(la > 42) & (la < 45)])\n",
    "].plot(robust=True, cmap=\"GnBu\", figsize=(12, 8))\n",
    "discharge_map.axes.scatter(\n",
    "    target_longitude, target_latitude, s=250, c=\"r\", marker=\"x\", lw=2\n",
    ")"
   ]
  },
  {
   "cell_type": "code",
   "execution_count": null,
   "id": "f0003f05-a9f9-4692-b92d-45c78079c496",
   "metadata": {},
   "outputs": [],
   "source": []
  }
 ],
 "metadata": {
  "kernelspec": {
   "display_name": "Python 3 (ipykernel)",
   "language": "python",
   "name": "python3"
  },
  "language_info": {
   "codemirror_mode": {
    "name": "ipython",
    "version": 3
   },
   "file_extension": ".py",
   "mimetype": "text/x-python",
   "name": "python",
   "nbconvert_exporter": "python",
   "pygments_lexer": "ipython3",
   "version": "3.10.9"
  }
 },
 "nbformat": 4,
 "nbformat_minor": 5
}
