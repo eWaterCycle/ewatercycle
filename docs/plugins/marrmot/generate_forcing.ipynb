{
 "cells": [
  {
   "cell_type": "markdown",
   "metadata": {},
   "source": [
    "![image](https://github.com/eWaterCycle/ewatercycle/raw/main/docs/examples/logo.png)"
   ]
  },
  {
   "cell_type": "markdown",
   "metadata": {},
   "source": [
    "# Generate forcing in eWaterCycle with ESMValTool\n",
    "\n",
    "This notebooks shows how to generate forcing data for MARRMoT models using ERA5 data and [ESMValTool hydrological recipes](https://docs.esmvaltool.org/en/latest/recipes/recipe_hydrology.html). More information about data, configuration and installation instructions can be found in the [System setup](https://ewatercycle.readthedocs.io/en/latest/system_setup.html) in the eWaterCycle documentation."
   ]
  },
  {
   "cell_type": "code",
   "execution_count": 1,
   "metadata": {},
   "outputs": [],
   "source": [
    "import logging\n",
    "import warnings\n",
    "\n",
    "warnings.filterwarnings(\"ignore\", category=UserWarning)\n",
    "\n",
    "logger = logging.getLogger(\"esmvalcore\")\n",
    "logger.setLevel(logging.WARNING)"
   ]
  },
  {
   "cell_type": "code",
   "execution_count": 1,
   "metadata": {},
   "outputs": [
    {
     "name": "stderr",
     "output_type": "stream",
     "text": [
      "/home/verhoes/mambaforge/envs/ewatercycle/lib/python3.10/site-packages/esmvalcore/config/_config_validators.py:340: ESMValCoreDeprecationWarning: The configuration option or command line argument `offline` has been deprecated in ESMValCore version 2.8.0 and is scheduled for removal in version 2.10.0. Please use the options `search_esgf=never` (for `offline=True`) or `search_esgf=when_missing` (for `offline=False`) instead. These are exact replacements.\n",
      "  warnings.warn(deprecation_msg, ESMValCoreDeprecationWarning)\n",
      "/home/verhoes/mambaforge/envs/ewatercycle/lib/python3.10/site-packages/esmvalcore/experimental/_warnings.py:13: UserWarning: \n",
      "  Thank you for trying out the new ESMValCore API.\n",
      "  Note that this API is experimental and may be subject to change.\n",
      "  More info: https://github.com/ESMValGroup/ESMValCore/issues/498\n"
     ]
    }
   ],
   "source": [
    "from rich import print\n",
    "\n",
    "import ewatercycle.forcing"
   ]
  },
  {
   "cell_type": "code",
   "execution_count": null,
   "metadata": {},
   "outputs": [],
   "source": [
    "forcing = ewatercycle.forcing.sources[\"MarrmotForcing\"].generate(\n",
    "    dataset=\"ERA5\",\n",
    "    start_time=\"1989-01-01T00:00:00Z\",\n",
    "    end_time=\"1992-12-31T00:00:00Z\",\n",
    "    shape=\"data/Rhine/Rhine.shp\",\n",
    ")\n",
    "print(forcing)"
   ]
  }
 ],
 "metadata": {
  "kernelspec": {
   "display_name": "Python 3 (ipykernel)",
   "language": "python",
   "name": "python3"
  },
  "language_info": {
   "codemirror_mode": {
    "name": "ipython",
    "version": 3
   },
   "file_extension": ".py",
   "mimetype": "text/x-python",
   "name": "python",
   "nbconvert_exporter": "python",
   "pygments_lexer": "ipython3",
   "version": "3.10.9"
  },
  "metadata": {
   "interpreter": {
    "hash": "a8aa8210cb3d81d2b5c08b30572e78ad19bd30da92b4caf9890388bc07c5e3bf"
   }
  }
 },
 "nbformat": 4,
 "nbformat_minor": 4
}
