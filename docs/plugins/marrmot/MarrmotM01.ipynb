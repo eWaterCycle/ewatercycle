{
 "cells": [
  {
   "cell_type": "markdown",
   "id": "4e0f7807-0fa6-42a9-ad41-2fefbd65811e",
   "metadata": {},
   "source": [
    "![image](https://github.com/eWaterCycle/ewatercycle/raw/main/docs/examples/logo.png)"
   ]
  },
  {
   "cell_type": "markdown",
   "id": "89b88b4b-33e3-4718-a569-2cfd98ff7671",
   "metadata": {},
   "source": [
    "# Running MARRMoT M01 model using eWaterCycle package\n",
    "\n",
    "This notebooks shows how to run [MARRMoT](https://github.com/wknoben/MARRMoT) M01 model using an example use-case. More information about data, configuration and installation instructions can be found in the [System setup](https://ewatercycle.readthedocs.io/en/latest/system_setup.html) in the eWaterCycle documentation."
   ]
  },
  {
   "cell_type": "code",
   "execution_count": 1,
   "id": "de23e838-d779-4dad-a2e8-8707ef64f17d",
   "metadata": {},
   "outputs": [],
   "source": [
    "import warnings\n",
    "\n",
    "warnings.filterwarnings(\"ignore\", category=UserWarning)"
   ]
  },
  {
   "cell_type": "code",
   "execution_count": 1,
   "id": "ec98d58f-b46f-48c3-a834-7232e4694747",
   "metadata": {},
   "outputs": [],
   "source": [
    "import pandas as pd\n",
    "\n",
    "import ewatercycle.forcing\n",
    "import ewatercycle.models"
   ]
  },
  {
   "cell_type": "markdown",
   "id": "dc3fc23b-7348-4653-9b13-b167d95de63b",
   "metadata": {},
   "source": [
    "## Load forcing data"
   ]
  },
  {
   "cell_type": "markdown",
   "id": "69e05c2a-7523-4430-8f59-8f3cda151126",
   "metadata": {},
   "source": [
    "To download the example forcing file `BMI_testcase_m01_BuffaloRiver_TN_USA.mat`, see this [instruction](https://ewatercycle.readthedocs.io/en/latest/system_setup.html#download-example-forcing)."
   ]
  },
  {
   "cell_type": "code",
   "execution_count": 2,
   "id": "13fa0a78",
   "metadata": {},
   "outputs": [
    {
     "name": "stdout",
     "output_type": "stream",
     "text": [
      "eWaterCycle forcing\n",
      "-------------------\n",
      "start_time=1989-01-01T00:00:00Z\n",
      "end_time=1992-12-31T00:00:00Z\n",
      "directory=/home/sarah/GitHub/ewatercycle/docs/examples\n",
      "shape=None\n",
      "forcing_file=BMI_testcase_m01_BuffaloRiver_TN_USA.mat\n"
     ]
    }
   ],
   "source": [
    "forcing = ewatercycle.forcing.sources[\"MarrmotForcing\"](\n",
    "    directory=\".\",\n",
    "    start_time=\"1989-01-01T00:00:00Z\",\n",
    "    end_time=\"1992-12-31T00:00:00Z\",\n",
    "    forcing_info={\"forcing_file\": \"BMI_testcase_m01_BuffaloRiver_TN_USA.mat\"},\n",
    ")\n",
    "print(forcing)"
   ]
  },
  {
   "cell_type": "markdown",
   "id": "64ab0b47-8427-49b0-b538-880df355fe9a",
   "metadata": {},
   "source": [
    "## Set up the model"
   ]
  },
  {
   "cell_type": "markdown",
   "id": "d878032b-b5e9-4efd-8864-6cbaeb2283fa",
   "metadata": {},
   "source": [
    "To create the model object, we need to select a version."
   ]
  },
  {
   "cell_type": "code",
   "execution_count": 3,
   "id": "5357dd6e",
   "metadata": {},
   "outputs": [
    {
     "data": {
      "text/plain": [
       "('2020.11',)"
      ]
     },
     "execution_count": 3,
     "metadata": {},
     "output_type": "execute_result"
    }
   ],
   "source": [
    "ewatercycle.models.MarrmotM01.available_versions"
   ]
  },
  {
   "cell_type": "code",
   "execution_count": 4,
   "id": "a23331dc",
   "metadata": {},
   "outputs": [
    {
     "name": "stdout",
     "output_type": "stream",
     "text": [
      "eWaterCycle MarrmotM01\n",
      "-------------------\n",
      "Version = 2020.11\n",
      "Parameter set = \n",
      "  None\n",
      "Forcing = \n",
      "  eWaterCycle forcing\n",
      "  -------------------\n",
      "  start_time=1989-01-01T00:00:00Z\n",
      "  end_time=1992-12-31T00:00:00Z\n",
      "  directory=/home/sarah/GitHub/ewatercycle/docs/examples\n",
      "  shape=None\n",
      "  forcing_file=BMI_testcase_m01_BuffaloRiver_TN_USA.mat\n"
     ]
    }
   ],
   "source": [
    "model = ewatercycle.models.MarrmotM01(version=\"2020.11\", forcing=forcing)\n",
    "print(model)"
   ]
  },
  {
   "cell_type": "code",
   "execution_count": 5,
   "id": "1304fc91",
   "metadata": {},
   "outputs": [
    {
     "data": {
      "text/plain": [
       "[('maximum_soil_moisture_storage', 10.0),\n",
       " ('initial_soil_moisture_storage', 5.0),\n",
       " ('solver',\n",
       "  Solver(name='createOdeApprox_IE', resnorm_tolerance=array([0.1]), resnorm_maxiter=array([6.]))),\n",
       " ('start time', '1989-01-01T00:00:00Z'),\n",
       " ('end time', '1992-12-31T00:00:00Z')]"
      ]
     },
     "execution_count": 5,
     "metadata": {},
     "output_type": "execute_result"
    }
   ],
   "source": [
    "model.parameters"
   ]
  },
  {
   "cell_type": "markdown",
   "id": "01074725-c35e-4c33-833a-c0c7b60b02de",
   "metadata": {},
   "source": [
    "Setup model with maximum soil moisture storage of 12.0 instead of 10.0 and an earlier end time, making total model time just 1 month."
   ]
  },
  {
   "cell_type": "code",
   "execution_count": 6,
   "id": "0203d607-b226-4e1a-91f0-9904ee20e80e",
   "metadata": {},
   "outputs": [
    {
     "name": "stdout",
     "output_type": "stream",
     "text": [
      "/home/sarah/GitHub/ewatercycle/docs/examples/marrmot_20210712_135130/marrmot-m01_config.mat\n",
      "/home/sarah/GitHub/ewatercycle/docs/examples/marrmot_20210712_135130\n"
     ]
    }
   ],
   "source": [
    "cfg_file, cfg_dir = model.setup(\n",
    "    maximum_soil_moisture_storage=12.0,\n",
    "    end_time=\"1989-02-01T00:00:00Z\",\n",
    ")\n",
    "print(cfg_file)\n",
    "print(cfg_dir)"
   ]
  },
  {
   "cell_type": "code",
   "execution_count": 7,
   "id": "3e0f3efc",
   "metadata": {},
   "outputs": [
    {
     "data": {
      "text/plain": [
       "[('maximum_soil_moisture_storage', 12.0),\n",
       " ('initial_soil_moisture_storage', 5.0),\n",
       " ('solver',\n",
       "  Solver(name='createOdeApprox_IE', resnorm_tolerance=array([0.1]), resnorm_maxiter=array([6.]))),\n",
       " ('start time', '1989-01-01T00:00:00Z'),\n",
       " ('end time', '1989-02-01T00:00:00Z')]"
      ]
     },
     "execution_count": 7,
     "metadata": {},
     "output_type": "execute_result"
    }
   ],
   "source": [
    "model.parameters"
   ]
  },
  {
   "cell_type": "markdown",
   "id": "c97db27e-32c3-4168-9e1d-62b756955619",
   "metadata": {},
   "source": [
    "Initialize the model with the config file:"
   ]
  },
  {
   "cell_type": "code",
   "execution_count": 8,
   "id": "e7df84f4-2e21-46df-b4f9-5c8041f149bd",
   "metadata": {},
   "outputs": [],
   "source": [
    "model.initialize(cfg_file)"
   ]
  },
  {
   "cell_type": "markdown",
   "id": "22b46626-fce3-4e84-9dd0-0f464e842209",
   "metadata": {},
   "source": [
    "Get model variable names, only `flux_out_Q` is supported for now."
   ]
  },
  {
   "cell_type": "code",
   "execution_count": 9,
   "id": "85c9208b",
   "metadata": {},
   "outputs": [
    {
     "data": {
      "text/plain": [
       "('P',\n",
       " 'T',\n",
       " 'Ep',\n",
       " 'S(t)',\n",
       " 'par',\n",
       " 'sol_resnorm_tolerance',\n",
       " 'sol_resnorm_maxiter',\n",
       " 'flux_out_Q',\n",
       " 'flux_out_Ea',\n",
       " 'wb')"
      ]
     },
     "execution_count": 9,
     "metadata": {},
     "output_type": "execute_result"
    }
   ],
   "source": [
    "model.output_var_names"
   ]
  },
  {
   "cell_type": "markdown",
   "id": "6199e360-cfff-4938-872e-42153a1db726",
   "metadata": {},
   "source": [
    "## Run the model"
   ]
  },
  {
   "cell_type": "code",
   "execution_count": 10,
   "id": "5a4a1100-6525-4b40-b5e7-05704aa71183",
   "metadata": {},
   "outputs": [
    {
     "name": "stdout",
     "output_type": "stream",
     "text": [
      "1989-01-02T00:00:00Z\n",
      "1989-01-03T00:00:00Z\n",
      "1989-01-04T00:00:00Z\n",
      "1989-01-05T00:00:00Z\n",
      "1989-01-06T00:00:00Z\n",
      "1989-01-07T00:00:00Z\n",
      "1989-01-08T00:00:00Z\n",
      "1989-01-09T00:00:00Z\n",
      "1989-01-10T00:00:00Z\n",
      "1989-01-11T00:00:00Z\n",
      "1989-01-12T00:00:00Z\n",
      "1989-01-13T00:00:00Z\n",
      "1989-01-14T00:00:00Z\n",
      "1989-01-15T00:00:00Z\n",
      "1989-01-16T00:00:00Z\n",
      "1989-01-17T00:00:00Z\n",
      "1989-01-18T00:00:00Z\n",
      "1989-01-19T00:00:00Z\n",
      "1989-01-20T00:00:00Z\n",
      "1989-01-21T00:00:00Z\n",
      "1989-01-22T00:00:00Z\n",
      "1989-01-23T00:00:00Z\n",
      "1989-01-24T00:00:00Z\n",
      "1989-01-25T00:00:00Z\n",
      "1989-01-26T00:00:00Z\n",
      "1989-01-27T00:00:00Z\n",
      "1989-01-28T00:00:00Z\n",
      "1989-01-29T00:00:00Z\n",
      "1989-01-30T00:00:00Z\n",
      "1989-01-31T00:00:00Z\n",
      "1989-02-01T00:00:00Z\n"
     ]
    }
   ],
   "source": [
    "discharge = []\n",
    "time_range = []\n",
    "end_time = model.end_time\n",
    "\n",
    "while model.time < end_time:\n",
    "    model.update()\n",
    "    discharge.append(model.get_value(\"flux_out_Q\")[0])\n",
    "    time_range.append(model.time_as_datetime.date())\n",
    "    print(model.time_as_isostr)"
   ]
  },
  {
   "cell_type": "code",
   "execution_count": 11,
   "id": "4e1498cf",
   "metadata": {},
   "outputs": [],
   "source": [
    "model.finalize()"
   ]
  },
  {
   "cell_type": "markdown",
   "id": "daf1a497-d518-45a4-bbdb-13bba73e473d",
   "metadata": {},
   "source": [
    "## Inspect the results"
   ]
  },
  {
   "cell_type": "code",
   "execution_count": 12,
   "id": "54456afd-d988-4fd7-a35a-5b7272c55b3b",
   "metadata": {},
   "outputs": [],
   "source": [
    "simulated_discharge = pd.DataFrame(\n",
    "    {\"simulation\": discharge}, index=pd.to_datetime(time_range)\n",
    ")"
   ]
  },
  {
   "cell_type": "code",
   "execution_count": 13,
   "id": "f6981e3b-d323-4491-89a4-04503840182e",
   "metadata": {},
   "outputs": [
    {
     "data": {
      "text/plain": [
       "<AxesSubplot:>"
      ]
     },
     "execution_count": 13,
     "metadata": {},
     "output_type": "execute_result"
    },
    {
     "data": {
      "image/png": "[encoded data removed]",
      "text/plain": [
       "<Figure size 864x576 with 1 Axes>"
      ]
     },
     "metadata": {
      "needs_background": "light"
     },
     "output_type": "display_data"
    }
   ],
   "source": [
    "simulated_discharge.plot(figsize=(12, 8))"
   ]
  }
 ],
 "metadata": {
  "kernelspec": {
   "display_name": "Python 3",
   "language": "python",
   "name": "python3"
  },
  "language_info": {
   "codemirror_mode": {
    "name": "ipython",
    "version": 3
   },
   "file_extension": ".py",
   "mimetype": "text/x-python",
   "name": "python",
   "nbconvert_exporter": "python",
   "pygments_lexer": "ipython3",
   "version": "3.10.9"
  }
 },
 "nbformat": 4,
 "nbformat_minor": 5
}
