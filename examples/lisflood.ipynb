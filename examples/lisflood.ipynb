{
 "cells": [
  {
   "cell_type": "markdown",
   "id": "e6f1b408",
   "metadata": {},
   "source": [
    "![image](https://www.ewatercycle.org/assets/logo.png)"
   ]
  },
  {
   "cell_type": "code",
   "execution_count": 14,
   "id": "fe266842",
   "metadata": {},
   "outputs": [],
   "source": [
    "from pathlib import Path\n",
    "import time\n",
    "from esmvalcore.experimental import CFG\n",
    "from ewatercycle import forcing\n",
    "from ewatercycle.models import Lisflood\n",
    "from ewatercycle.models.lisflood import reindex_forcings\n",
    "from ewatercycle.models.lisflood import LisfloodParameterSet"
   ]
  },
  {
   "cell_type": "code",
   "execution_count": 15,
   "id": "251533b2",
   "metadata": {},
   "outputs": [],
   "source": [
    "# load config file\n",
    "CFG.load_from_file('~/.esmvaltool/config-user.yml')"
   ]
  },
  {
   "cell_type": "code",
   "execution_count": 16,
   "id": "cc119cbf",
   "metadata": {},
   "outputs": [
    {
     "name": "stdout",
     "output_type": "stream",
     "text": [
      "{'auxiliary_data_dir': PosixPath('/projects/0/wtrcycle/comparison/recipes_auxiliary_datasets/Lorentz_Basin_Shapefiles'),\n",
      " 'compress_netcdf': False,\n",
      " 'config_developer_file': None,\n",
      " 'config_file': PosixPath('/home/fakhereh/.esmvaltool/config-user.yml'),\n",
      " 'drs': {'CMIP5': 'default', 'CMIP6': 'default'},\n",
      " 'exit_on_warning': False,\n",
      " 'log_level': 'info',\n",
      " 'max_parallel_tasks': 1,\n",
      " 'output_dir': PosixPath('/scratch-shared/ewatercycle'),\n",
      " 'output_file_type': 'png',\n",
      " 'plot_dir': PosixPath('/scratch-shared/ewatercycle/recipe_lisflood_20210413_113450/plots'),\n",
      " 'preproc_dir': PosixPath('/scratch-shared/ewatercycle/recipe_lisflood_20210413_113450/preproc'),\n",
      " 'profile_diagnostic': False,\n",
      " 'remove_preproc_dir': True,\n",
      " 'rootpath': {'OBS6': [PosixPath('/lustre1/0/wtrcycle/comparison/obs6')]},\n",
      " 'run_dir': PosixPath('/scratch-shared/ewatercycle/recipe_lisflood_20210413_113450/run'),\n",
      " 'save_intermediary_cubes': False,\n",
      " 'work_dir': PosixPath('/scratch-shared/ewatercycle/recipe_lisflood_20210413_113450/work'),\n",
      " 'write_netcdf': True,\n",
      " 'write_plots': True}\n",
      "Creating tasks from recipe\n",
      "Creating tasks for diagnostic diagnostic_daily\n",
      "Creating preprocessor task diagnostic_daily/pr\n",
      "Creating preprocessor 'daily_water' task for variable 'pr'\n",
      "Using input files for variable pr of dataset ERA-Interim:\n",
      "/lustre1/0/wtrcycle/comparison/obs6/Tier3/ERA-Interim/OBS6_ERA-Interim_reanaly_1_day_pr_199001-199012.nc\n",
      "PreprocessingTask diagnostic_daily/pr created. It will create the files:\n",
      "/scratch-shared/ewatercycle/recipe_lisflood_20210413_113450/preproc/diagnostic_daily/pr/OBS6_ERA-Interim_reanaly_1_day_pr_1990-1990.nc\n",
      "Creating preprocessor task diagnostic_daily/tas\n",
      "Creating preprocessor 'daily_temperature' task for variable 'tas'\n",
      "Using input files for variable tas of dataset ERA-Interim:\n",
      "/lustre1/0/wtrcycle/comparison/obs6/Tier3/ERA-Interim/OBS6_ERA-Interim_reanaly_1_day_tas_199001-199012.nc\n",
      "PreprocessingTask diagnostic_daily/tas created. It will create the files:\n",
      "/scratch-shared/ewatercycle/recipe_lisflood_20210413_113450/preproc/diagnostic_daily/tas/OBS6_ERA-Interim_reanaly_1_day_tas_1990-1990.nc\n",
      "Creating preprocessor task diagnostic_daily/tasmax\n",
      "Creating preprocessor 'daily_temperature' task for variable 'tasmax'\n",
      "Using input files for variable tasmax of dataset ERA-Interim:\n",
      "/lustre1/0/wtrcycle/comparison/obs6/Tier3/ERA-Interim/OBS6_ERA-Interim_reanaly_1_day_tasmax_199001-199012.nc\n",
      "PreprocessingTask diagnostic_daily/tasmax created. It will create the files:\n",
      "/scratch-shared/ewatercycle/recipe_lisflood_20210413_113450/preproc/diagnostic_daily/tasmax/OBS6_ERA-Interim_reanaly_1_day_tasmax_1990-1990.nc\n",
      "Creating preprocessor task diagnostic_daily/tasmin\n",
      "Creating preprocessor 'daily_temperature' task for variable 'tasmin'\n",
      "Using input files for variable tasmin of dataset ERA-Interim:\n",
      "/lustre1/0/wtrcycle/comparison/obs6/Tier3/ERA-Interim/OBS6_ERA-Interim_reanaly_1_day_tasmin_199001-199012.nc\n",
      "PreprocessingTask diagnostic_daily/tasmin created. It will create the files:\n",
      "/scratch-shared/ewatercycle/recipe_lisflood_20210413_113450/preproc/diagnostic_daily/tasmin/OBS6_ERA-Interim_reanaly_1_day_tasmin_1990-1990.nc\n",
      "Creating preprocessor task diagnostic_daily/tdps\n",
      "Creating preprocessor 'daily_temperature' task for variable 'tdps'\n",
      "Using input files for variable tdps of dataset ERA-Interim:\n",
      "/lustre1/0/wtrcycle/comparison/obs6/Tier3/ERA-Interim/OBS6_ERA-Interim_reanaly_1_Eday_tdps_199001-199012.nc\n",
      "PreprocessingTask diagnostic_daily/tdps created. It will create the files:\n",
      "/scratch-shared/ewatercycle/recipe_lisflood_20210413_113450/preproc/diagnostic_daily/tdps/OBS6_ERA-Interim_reanaly_1_Eday_tdps_1990-1990.nc\n",
      "Creating preprocessor task diagnostic_daily/uas\n",
      "Creating preprocessor 'daily_windspeed' task for variable 'uas'\n",
      "Using input files for variable uas of dataset ERA-Interim:\n",
      "/lustre1/0/wtrcycle/comparison/obs6/Tier3/ERA-Interim/OBS6_ERA-Interim_reanaly_1_day_uas_199001-199012.nc\n",
      "PreprocessingTask diagnostic_daily/uas created. It will create the files:\n",
      "/scratch-shared/ewatercycle/recipe_lisflood_20210413_113450/preproc/diagnostic_daily/uas/OBS6_ERA-Interim_reanaly_1_day_uas_1990-1990.nc\n",
      "Creating preprocessor task diagnostic_daily/vas\n",
      "Creating preprocessor 'daily_windspeed' task for variable 'vas'\n",
      "Using input files for variable vas of dataset ERA-Interim:\n",
      "/lustre1/0/wtrcycle/comparison/obs6/Tier3/ERA-Interim/OBS6_ERA-Interim_reanaly_1_day_vas_199001-199012.nc\n",
      "PreprocessingTask diagnostic_daily/vas created. It will create the files:\n",
      "/scratch-shared/ewatercycle/recipe_lisflood_20210413_113450/preproc/diagnostic_daily/vas/OBS6_ERA-Interim_reanaly_1_day_vas_1990-1990.nc\n",
      "Creating preprocessor task diagnostic_daily/rsds\n",
      "Creating preprocessor 'daily_radiation' task for variable 'rsds'\n",
      "Using input files for variable rsds of dataset ERA-Interim:\n",
      "/lustre1/0/wtrcycle/comparison/obs6/Tier3/ERA-Interim/OBS6_ERA-Interim_reanaly_1_day_rsds_199001-199012.nc\n",
      "PreprocessingTask diagnostic_daily/rsds created. It will create the files:\n",
      "/scratch-shared/ewatercycle/recipe_lisflood_20210413_113450/preproc/diagnostic_daily/rsds/OBS6_ERA-Interim_reanaly_1_day_rsds_1990-1990.nc\n",
      "Creating diagnostic task diagnostic_daily/script\n",
      "These tasks will be executed: diagnostic_daily/uas, diagnostic_daily/tdps, diagnostic_daily/tasmax, diagnostic_daily/script, diagnostic_daily/vas, diagnostic_daily/pr, diagnostic_daily/rsds, diagnostic_daily/tasmin, diagnostic_daily/tas\n",
      "Running 9 tasks sequentially\n",
      "Starting task diagnostic_daily/pr in process [4814]\n",
      "Successfully completed task diagnostic_daily/pr (priority 0) in 0:01:03.710615\n",
      "Starting task diagnostic_daily/tas in process [4814]\n",
      "Successfully completed task diagnostic_daily/tas (priority 1) in 0:01:03.768406\n",
      "Starting task diagnostic_daily/tasmax in process [4814]\n",
      "Successfully completed task diagnostic_daily/tasmax (priority 2) in 0:01:02.565730\n",
      "Starting task diagnostic_daily/tasmin in process [4814]\n",
      "Successfully completed task diagnostic_daily/tasmin (priority 3) in 0:01:03.857306\n",
      "Starting task diagnostic_daily/tdps in process [4814]\n",
      "Successfully completed task diagnostic_daily/tdps (priority 4) in 0:01:03.050700\n",
      "Starting task diagnostic_daily/uas in process [4814]\n",
      "Successfully completed task diagnostic_daily/uas (priority 5) in 0:01:03.079105\n",
      "Starting task diagnostic_daily/vas in process [4814]\n",
      "Successfully completed task diagnostic_daily/vas (priority 6) in 0:01:03.915805\n",
      "Starting task diagnostic_daily/rsds in process [4814]\n",
      "Successfully completed task diagnostic_daily/rsds (priority 7) in 0:01:02.920884\n",
      "Starting task diagnostic_daily/script in process [4814]\n",
      "Running command ['/home/fakhereh/miniconda3/envs/ewatercycle/bin/python', '/home/fakhereh/miniconda3/envs/ewatercycle/lib/python3.9/site-packages/esmvaltool/diag_scripts/hydrology/lisflood.py', '/scratch-shared/ewatercycle/recipe_lisflood_20210413_113450/run/diagnostic_daily/script/settings.yml']\n",
      "Writing output to /scratch-shared/ewatercycle/recipe_lisflood_20210413_113450/work/diagnostic_daily/script\n",
      "Writing plots to /scratch-shared/ewatercycle/recipe_lisflood_20210413_113450/plots/diagnostic_daily/script\n",
      "Writing log to /scratch-shared/ewatercycle/recipe_lisflood_20210413_113450/run/diagnostic_daily/script/log.txt\n",
      "To re-run this diagnostic script, run:\n",
      "cd /scratch-shared/ewatercycle/recipe_lisflood_20210413_113450/run/diagnostic_daily/script; MPLBACKEND=\"Agg\" /home/fakhereh/miniconda3/envs/ewatercycle/bin/python /home/fakhereh/miniconda3/envs/ewatercycle/lib/python3.9/site-packages/esmvaltool/diag_scripts/hydrology/lisflood.py /scratch-shared/ewatercycle/recipe_lisflood_20210413_113450/run/diagnostic_daily/script/settings.yml\n",
      "Maximum memory used (estimate): 0.2 GB\n",
      "Sampled every second. It may be inaccurate if short but high spikes in memory consumption occur.\n",
      "Successfully completed task diagnostic_daily/script (priority 8) in 0:00:04.825490\n"
     ]
    }
   ],
   "source": [
    "# forcing.generate takes a single forcing dataset\n",
    "forcing_output = forcing.generate(\n",
    "    model='lisflood', \n",
    "    dataset='ERA-Interim',\n",
    "    startyear=1990, \n",
    "    endyear=1990,\n",
    "    shapefile='Meuse/Meuse.shp',\n",
    ")"
   ]
  },
  {
   "cell_type": "code",
   "execution_count": 17,
   "id": "b1f5f85e",
   "metadata": {},
   "outputs": [
    {
     "data": {
      "text/plain": [
       "[('diagnostic_daily/script',\n",
       "  diagnostic_daily/script:\n",
       "    DataFile('lisflood_ERA-Interim_Meuse_e_1990_1990.nc')\n",
       "    DataFile('lisflood_ERA-Interim_Meuse_pr_1990_1990.nc')\n",
       "    DataFile('lisflood_ERA-Interim_Meuse_tasmin_1990_1990.nc')\n",
       "    DataFile('lisflood_ERA-Interim_Meuse_sfcWind_1990_1990.nc')\n",
       "    DataFile('lisflood_ERA-Interim_Meuse_tasmax_1990_1990.nc')\n",
       "    DataFile('lisflood_ERA-Interim_Meuse_rsds_1990_1990.nc')\n",
       "    DataFile('lisflood_ERA-Interim_Meuse_tas_1990_1990.nc'))]"
      ]
     },
     "execution_count": 17,
     "metadata": {},
     "output_type": "execute_result"
    }
   ],
   "source": [
    "list(forcing_output.recipe_output.items())"
   ]
  },
  {
   "cell_type": "code",
   "execution_count": 1,
   "id": "e8d3c18b",
   "metadata": {},
   "outputs": [],
   "source": [
    "mask = Path(\"/projects/0/wtrcycle/comparison/recipes_auxiliary_datasets/LISFLOOD/catchment_masks.nc\")\n",
    "TEMP_DIR = Path(f\"/scratch/shared/ewatercycle/lisflood_{time.strftime('%Y%m%d_%H%M%S')}\")\n",
    "TEMP_DIR.mkdir(parents=True, exist_ok=True)\n",
    "print(TEMP_DIR)"
   ]
  },
  {
   "cell_type": "code",
   "execution_count": 3,
   "id": "8a72ceef",
   "metadata": {},
   "outputs": [],
   "source": [
    "# reindex forcing to global extent\n",
    "reindex_forcings(mask, forcing_output, TEMP_DIR)"
   ]
  },
  {
   "cell_type": "code",
   "execution_count": null,
   "id": "d6d848bc",
   "metadata": {},
   "outputs": [],
   "source": [
    "parameterset = LisfloodParameterSet(\n",
    "    # TODO one level down (+ /Lisflood01degree_masked)?\n",
    "    root=Path('/projects/0/wtrcycle/comparison/lisflood_input'),\n",
    "    # TODO dir or file (+ /model_mask.nc)?\n",
    "    mask=mask.parent,\n",
    "    config_template=Path('/projects/0/wtrcycle/comparison/lisflood_input/settings_templates/settings_lisflood.xml'),\n",
    "    lisvap_config_template=Path('/projects/0/wtrcycle/comparison/lisflood_input/settings_templates/settings_lisvap.xml'),\n",
    ")"
   ]
  },
  {
   "cell_type": "code",
   "execution_count": 5,
   "id": "bed49049",
   "metadata": {},
   "outputs": [],
   "source": [
    "# create lisflood instance\n",
    "model = Lisflood()"
   ]
  },
  {
   "cell_type": "code",
   "execution_count": null,
   "id": "e8d70713",
   "metadata": {},
   "outputs": [],
   "source": [
    "# setup model\n",
    "config_file, config_dir = model.setup(TEMP_DIR, parameterset)"
   ]
  },
  {
   "cell_type": "code",
   "execution_count": 6,
   "id": "4ab43328",
   "metadata": {},
   "outputs": [],
   "source": [
    "# run lisvap\n",
    "model.run_lisvap(TEMP_DIR)"
   ]
  },
  {
   "cell_type": "code",
   "execution_count": null,
   "id": "116ce936",
   "metadata": {},
   "outputs": [],
   "source": [
    "# get metadata\n",
    "print(model.get_output_var_names())"
   ]
  },
  {
   "cell_type": "code",
   "execution_count": null,
   "id": "c58c9a3b",
   "metadata": {},
   "outputs": [],
   "source": [
    "# initialize\n",
    "model.initialize(config_file)"
   ]
  },
  {
   "cell_type": "code",
   "execution_count": null,
   "id": "c1a60f93",
   "metadata": {},
   "outputs": [],
   "source": [
    "# run model with bmi\n",
    "model.update()"
   ]
  },
  {
   "cell_type": "code",
   "execution_count": null,
   "id": "cccbaf74",
   "metadata": {},
   "outputs": [],
   "source": [
    "\"\"\"singularity exec -B /projects/0/wtrcycle/comparison/lisflood_input,/projects/0/wtrcycle/comparison/recipes_auxiliary_datasets/LISFLOOD,/scratch/shared/ewatercycle/lisflood_20210413_134355,/scratch/shared/ewatercycle/lisflood_20210413_144250 ewatercycle-lisflood-grpc4bmi.sif python3\n",
    "Python 3.6.9 (default, Jul 17 2020, 12:50:27) \n",
    "[GCC 8.4.0] on linux\n",
    "Type \"help\", \"copyright\", \"credits\" or \"license\" for more information.\n",
    ">>> import sys\n",
    ">>> sys.path.append('/opt/Lisflood')\n",
    ">>> from bmi_lisflood import LisfloodBmi\n",
    ">>> model = LisfloodBmi()\n",
    ">>> model.initialize('/scratch/shared/ewatercycle/lisflood_20210413_144250/lisflood_setting_1990_1990.xml')\n",
    ">>> model.update()\n",
    ".Simulation started on 2021-04-13 16:05\n",
    "1    \n",
    "\n",
    " ========================== LISFLOOD Warning =============================\n",
    "Warning: NaN values on simulated domain in /scratch/shared/ewatercycle/lisflood_20210413_144250/lisflood_et0_1990_1990.nc\n",
    "\n",
    "\n",
    " ========================== LISFLOOD Warning =============================\n",
    "Warning: NaN values on simulated domain in /scratch/shared/ewatercycle/lisflood_20210413_144250/lisflood_e0_1990_1990.nc\n",
    "Traceback (most recent call last):\n",
    "  File \"<stdin>\", line 1, in <module>\n",
    "  File \"/opt/Lisflood/bmi_lisflood.py\", line 72, in update\n",
    "    self.framework._userModel().dynamic()\n",
    "  File \"/opt/Lisflood/Lisflood_dynamic.py\", line 82, in dynamic\n",
    "    self.snow_module.dynamic()\n",
    "  File \"/opt/Lisflood/hydrological_modules/snow.py\", line 112, in dynamic\n",
    "    TavgS = self.var.Tavg + self.var.DeltaTSnow * (i - 1)\n",
    "ValueError: operands could not be broadcast together with shapes (256,) (3060,)\"\"\""
   ]
  },
  {
   "cell_type": "code",
   "execution_count": null,
   "id": "d1b0a4af",
   "metadata": {},
   "outputs": [],
   "source": [
    "# stop the model\n",
    "model.finalize()\n",
    "del model.bmi"
   ]
  }
 ],
 "metadata": {
  "kernelspec": {
   "display_name": "Python 3",
   "language": "python",
   "name": "python3"
  },
  "language_info": {
   "codemirror_mode": {
    "name": "ipython",
    "version": 3
   },
   "file_extension": ".py",
   "mimetype": "text/x-python",
   "name": "python",
   "nbconvert_exporter": "python",
   "pygments_lexer": "ipython3",
   "version": "3.9.2"
  }
 },
 "nbformat": 4,
 "nbformat_minor": 5
}
