{
 "cells": [
  {
   "cell_type": "markdown",
   "id": "7eda671c",
   "metadata": {},
   "source": [
    "![image](https://www.ewatercycle.org/assets/logo.png)"
   ]
  },
  {
   "cell_type": "code",
   "execution_count": 32,
   "id": "af990c36",
   "metadata": {},
   "outputs": [],
   "source": [
    "from pathlib import Path\n",
    "import time\n",
    "import shapely as shply\n",
    "import shapely.vectorized as shply_vect\n",
    "import xarray as xr\n",
    "from geopandas import GeoSeries\n",
    "import numpy as np\n",
    "import shapely as shply\n",
    "import fiona\n",
    "\n",
    "from esmvalcore.experimental import CFG\n",
    "from ewatercycle import forcing\n",
    "from ewatercycle.models import Lisflood\n",
    "from ewatercycle.models.lisflood import reindex_forcings\n",
    "from ewatercycle.models.lisflood import LisfloodParameterSet"
   ]
  },
  {
   "cell_type": "code",
   "execution_count": 33,
   "id": "17fb3eaa",
   "metadata": {},
   "outputs": [
    {
     "name": "stdout",
     "output_type": "stream",
     "text": [
      "/scratch/shared/ewatercycle/lisflood_20210413_182908\n"
     ]
    }
   ],
   "source": [
    "mask = Path(\"/projects/0/wtrcycle/comparison/recipes_auxiliary_datasets/LISFLOOD/catchment_masks.nc\")\n",
    "TEMP_DIR = Path(f\"/scratch/shared/ewatercycle/lisflood_{time.strftime('%Y%m%d_%H%M%S')}\")\n",
    "TEMP_DIR.mkdir(parents=True, exist_ok=True)\n",
    "print(TEMP_DIR)"
   ]
  },
  {
   "cell_type": "code",
   "execution_count": 36,
   "id": "e028fed7",
   "metadata": {},
   "outputs": [
    {
     "name": "stdout",
     "output_type": "stream",
     "text": [
      "Convex hull of Meuse basin saved to shapefile /scratch/shared/ewatercycle/lisflood_20210413_182908/Meuse.shp\n"
     ]
    },
    {
     "name": "stderr",
     "output_type": "stream",
     "text": [
      "<ipython-input-36-0570c0410f97>:14: DeprecationWarning: `np.bool` is a deprecated alias for the builtin `bool`. To silence this warning, use `bool` by itself. Doing this will not modify any behavior and is safe. If you specifically wanted the numpy scalar type, use `np.bool_` here.\n",
      "Deprecated in NumPy 1.20; for more details and guidance: https://numpy.org/devdocs/release/1.20.0-notes.html#deprecations\n"
     ]
    }
   ],
   "source": [
    "# TODO Compute convex hull\n",
    "masks = xr.open_dataarray(mask).load()\n",
    "buffer = 0.05  # degrees lat/lon\n",
    "catchment = 'Meuse'\n",
    "# Compute convex hull\n",
    "lat, lon = [\n",
    "    masks[v].values[np.where(masks.loc[catchment].values)[i]]\n",
    "    for v, i in zip([\"lat\", \"lon\"], [0, 1])\n",
    "]\n",
    "hull = GeoSeries(\n",
    "    [shply.geometry.Point(x, y) for x, y in zip(lon, lat)]\n",
    ").unary_union.convex_hull.buffer(buffer)\n",
    "# Check that all pixels are inside the hull\n",
    "assert all(shply_vect.contains(hull, lon, lat))\n",
    "# Save it to shapefile in temp dir\n",
    "shapefile = TEMP_DIR / f\"{catchment}.shp\"\n",
    "GeoSeries(hull, crs=\"EPSG:4326\").to_file(shapefile)\n",
    "print(\n",
    "    \"Convex hull of {} basin saved to shapefile {}\".format(\n",
    "        catchment, shapefile\n",
    "    )\n",
    ")"
   ]
  },
  {
   "cell_type": "code",
   "execution_count": 37,
   "id": "95605948",
   "metadata": {},
   "outputs": [],
   "source": [
    "#TODO get extent for extract region in the recipe\n",
    "def get_extents(shapefile, pad=0):\n",
    "    \"\"\"Get lat/lon extents from shapefile and add padding.\"\"\"\n",
    "    shape = fiona.open(shapefile)\n",
    "    x0, y0, x1, y1 = [\n",
    "        shply.geometry.shape(p[\"geometry\"]).bounds for p in shape\n",
    "    ][0]\n",
    "    x0 = round((x0 - pad), 1)\n",
    "    y0 = round((y0 - pad), 1)\n",
    "    x1 = round((x1 + pad), 1)\n",
    "    y1 = round((y1 + pad), 1)\n",
    "    return x0, y0, x1, y1\n",
    "x0, y0, x1, y1 = get_extents(shapefile)\n"
   ]
  },
  {
   "cell_type": "code",
   "execution_count": 38,
   "id": "801ea068",
   "metadata": {},
   "outputs": [],
   "source": [
    "# load config file\n",
    "CFG.load_from_file('~/.esmvaltool/config-user.yml')"
   ]
  },
  {
   "cell_type": "code",
   "execution_count": 39,
   "id": "90744bdb",
   "metadata": {},
   "outputs": [
    {
     "name": "stdout",
     "output_type": "stream",
     "text": [
      "{'auxiliary_data_dir': PosixPath('/projects/0/wtrcycle/comparison/recipes_auxiliary_datasets/Lorentz_Basin_Shapefiles'),\n",
      " 'compress_netcdf': False,\n",
      " 'config_developer_file': None,\n",
      " 'config_file': PosixPath('/home/fakhereh/.esmvaltool/config-user.yml'),\n",
      " 'drs': {'CMIP5': 'default', 'CMIP6': 'default'},\n",
      " 'exit_on_warning': False,\n",
      " 'log_level': 'info',\n",
      " 'max_parallel_tasks': 1,\n",
      " 'output_dir': PosixPath('/scratch-shared/ewatercycle'),\n",
      " 'output_file_type': 'png',\n",
      " 'plot_dir': PosixPath('/scratch-shared/ewatercycle/recipe_lisflood_20210413_163147/plots'),\n",
      " 'preproc_dir': PosixPath('/scratch-shared/ewatercycle/recipe_lisflood_20210413_163147/preproc'),\n",
      " 'profile_diagnostic': False,\n",
      " 'remove_preproc_dir': True,\n",
      " 'rootpath': {'OBS6': [PosixPath('/lustre1/0/wtrcycle/comparison/obs6')]},\n",
      " 'run_dir': PosixPath('/scratch-shared/ewatercycle/recipe_lisflood_20210413_163147/run'),\n",
      " 'save_intermediary_cubes': False,\n",
      " 'work_dir': PosixPath('/scratch-shared/ewatercycle/recipe_lisflood_20210413_163147/work'),\n",
      " 'write_netcdf': True,\n",
      " 'write_plots': True}\n",
      "Creating tasks from recipe\n",
      "Creating tasks for diagnostic diagnostic_daily\n",
      "Creating preprocessor task diagnostic_daily/pr\n",
      "Creating preprocessor 'daily_water' task for variable 'pr'\n",
      "Using input files for variable pr of dataset ERA-Interim:\n",
      "/lustre1/0/wtrcycle/comparison/obs6/Tier3/ERA-Interim/OBS6_ERA-Interim_reanaly_1_day_pr_199001-199012.nc\n",
      "PreprocessingTask diagnostic_daily/pr created. It will create the files:\n",
      "/scratch-shared/ewatercycle/recipe_lisflood_20210413_163147/preproc/diagnostic_daily/pr/OBS6_ERA-Interim_reanaly_1_day_pr_1990-1990.nc\n",
      "Creating preprocessor task diagnostic_daily/tas\n",
      "Creating preprocessor 'daily_temperature' task for variable 'tas'\n",
      "Using input files for variable tas of dataset ERA-Interim:\n",
      "/lustre1/0/wtrcycle/comparison/obs6/Tier3/ERA-Interim/OBS6_ERA-Interim_reanaly_1_day_tas_199001-199012.nc\n",
      "PreprocessingTask diagnostic_daily/tas created. It will create the files:\n",
      "/scratch-shared/ewatercycle/recipe_lisflood_20210413_163147/preproc/diagnostic_daily/tas/OBS6_ERA-Interim_reanaly_1_day_tas_1990-1990.nc\n",
      "Creating preprocessor task diagnostic_daily/tasmax\n",
      "Creating preprocessor 'daily_temperature' task for variable 'tasmax'\n",
      "Using input files for variable tasmax of dataset ERA-Interim:\n",
      "/lustre1/0/wtrcycle/comparison/obs6/Tier3/ERA-Interim/OBS6_ERA-Interim_reanaly_1_day_tasmax_199001-199012.nc\n",
      "PreprocessingTask diagnostic_daily/tasmax created. It will create the files:\n",
      "/scratch-shared/ewatercycle/recipe_lisflood_20210413_163147/preproc/diagnostic_daily/tasmax/OBS6_ERA-Interim_reanaly_1_day_tasmax_1990-1990.nc\n",
      "Creating preprocessor task diagnostic_daily/tasmin\n",
      "Creating preprocessor 'daily_temperature' task for variable 'tasmin'\n",
      "Using input files for variable tasmin of dataset ERA-Interim:\n",
      "/lustre1/0/wtrcycle/comparison/obs6/Tier3/ERA-Interim/OBS6_ERA-Interim_reanaly_1_day_tasmin_199001-199012.nc\n",
      "PreprocessingTask diagnostic_daily/tasmin created. It will create the files:\n",
      "/scratch-shared/ewatercycle/recipe_lisflood_20210413_163147/preproc/diagnostic_daily/tasmin/OBS6_ERA-Interim_reanaly_1_day_tasmin_1990-1990.nc\n",
      "Creating preprocessor task diagnostic_daily/tdps\n",
      "Creating preprocessor 'daily_temperature' task for variable 'tdps'\n",
      "Using input files for variable tdps of dataset ERA-Interim:\n",
      "/lustre1/0/wtrcycle/comparison/obs6/Tier3/ERA-Interim/OBS6_ERA-Interim_reanaly_1_Eday_tdps_199001-199012.nc\n",
      "PreprocessingTask diagnostic_daily/tdps created. It will create the files:\n",
      "/scratch-shared/ewatercycle/recipe_lisflood_20210413_163147/preproc/diagnostic_daily/tdps/OBS6_ERA-Interim_reanaly_1_Eday_tdps_1990-1990.nc\n",
      "Creating preprocessor task diagnostic_daily/uas\n",
      "Creating preprocessor 'daily_windspeed' task for variable 'uas'\n",
      "Using input files for variable uas of dataset ERA-Interim:\n",
      "/lustre1/0/wtrcycle/comparison/obs6/Tier3/ERA-Interim/OBS6_ERA-Interim_reanaly_1_day_uas_199001-199012.nc\n",
      "PreprocessingTask diagnostic_daily/uas created. It will create the files:\n",
      "/scratch-shared/ewatercycle/recipe_lisflood_20210413_163147/preproc/diagnostic_daily/uas/OBS6_ERA-Interim_reanaly_1_day_uas_1990-1990.nc\n",
      "Creating preprocessor task diagnostic_daily/vas\n",
      "Creating preprocessor 'daily_windspeed' task for variable 'vas'\n",
      "Using input files for variable vas of dataset ERA-Interim:\n",
      "/lustre1/0/wtrcycle/comparison/obs6/Tier3/ERA-Interim/OBS6_ERA-Interim_reanaly_1_day_vas_199001-199012.nc\n",
      "PreprocessingTask diagnostic_daily/vas created. It will create the files:\n",
      "/scratch-shared/ewatercycle/recipe_lisflood_20210413_163147/preproc/diagnostic_daily/vas/OBS6_ERA-Interim_reanaly_1_day_vas_1990-1990.nc\n",
      "Creating preprocessor task diagnostic_daily/rsds\n",
      "Creating preprocessor 'daily_radiation' task for variable 'rsds'\n",
      "Using input files for variable rsds of dataset ERA-Interim:\n",
      "/lustre1/0/wtrcycle/comparison/obs6/Tier3/ERA-Interim/OBS6_ERA-Interim_reanaly_1_day_rsds_199001-199012.nc\n",
      "PreprocessingTask diagnostic_daily/rsds created. It will create the files:\n",
      "/scratch-shared/ewatercycle/recipe_lisflood_20210413_163147/preproc/diagnostic_daily/rsds/OBS6_ERA-Interim_reanaly_1_day_rsds_1990-1990.nc\n",
      "Creating diagnostic task diagnostic_daily/script\n",
      "These tasks will be executed: diagnostic_daily/pr, diagnostic_daily/tdps, diagnostic_daily/rsds, diagnostic_daily/tas, diagnostic_daily/tasmin, diagnostic_daily/script, diagnostic_daily/tasmax, diagnostic_daily/uas, diagnostic_daily/vas\n",
      "Running 9 tasks sequentially\n",
      "Starting task diagnostic_daily/pr in process [28068]\n",
      "Successfully completed task diagnostic_daily/pr (priority 0) in 0:01:03.888295\n",
      "Starting task diagnostic_daily/tas in process [28068]\n",
      "Successfully completed task diagnostic_daily/tas (priority 1) in 0:01:05.186597\n",
      "Starting task diagnostic_daily/tasmax in process [28068]\n",
      "Successfully completed task diagnostic_daily/tasmax (priority 2) in 0:01:04.560654\n",
      "Starting task diagnostic_daily/tasmin in process [28068]\n",
      "Successfully completed task diagnostic_daily/tasmin (priority 3) in 0:01:04.207491\n",
      "Starting task diagnostic_daily/tdps in process [28068]\n",
      "Successfully completed task diagnostic_daily/tdps (priority 4) in 0:01:04.426856\n",
      "Starting task diagnostic_daily/uas in process [28068]\n",
      "Successfully completed task diagnostic_daily/uas (priority 5) in 0:01:04.487311\n",
      "Starting task diagnostic_daily/vas in process [28068]\n",
      "Successfully completed task diagnostic_daily/vas (priority 6) in 0:01:04.328551\n",
      "Starting task diagnostic_daily/rsds in process [28068]\n",
      "Successfully completed task diagnostic_daily/rsds (priority 7) in 0:01:04.607439\n",
      "Starting task diagnostic_daily/script in process [28068]\n",
      "Running command ['/home/fakhereh/miniconda3/envs/ewatercycle/bin/python', '/home/fakhereh/miniconda3/envs/ewatercycle/lib/python3.9/site-packages/esmvaltool/diag_scripts/hydrology/lisflood.py', '/scratch-shared/ewatercycle/recipe_lisflood_20210413_163147/run/diagnostic_daily/script/settings.yml']\n",
      "Writing output to /scratch-shared/ewatercycle/recipe_lisflood_20210413_163147/work/diagnostic_daily/script\n",
      "Writing plots to /scratch-shared/ewatercycle/recipe_lisflood_20210413_163147/plots/diagnostic_daily/script\n",
      "Writing log to /scratch-shared/ewatercycle/recipe_lisflood_20210413_163147/run/diagnostic_daily/script/log.txt\n",
      "To re-run this diagnostic script, run:\n",
      "cd /scratch-shared/ewatercycle/recipe_lisflood_20210413_163147/run/diagnostic_daily/script; MPLBACKEND=\"Agg\" /home/fakhereh/miniconda3/envs/ewatercycle/bin/python /home/fakhereh/miniconda3/envs/ewatercycle/lib/python3.9/site-packages/esmvaltool/diag_scripts/hydrology/lisflood.py /scratch-shared/ewatercycle/recipe_lisflood_20210413_163147/run/diagnostic_daily/script/settings.yml\n",
      "Maximum memory used (estimate): 0.2 GB\n",
      "Sampled every second. It may be inaccurate if short but high spikes in memory consumption occur.\n",
      "Successfully completed task diagnostic_daily/script (priority 8) in 0:00:06.727960\n"
     ]
    }
   ],
   "source": [
    "# forcing.generate takes a single forcing dataset\n",
    "forcing_output = forcing.generate(\n",
    "    model='lisflood', \n",
    "    dataset='ERA-Interim',\n",
    "    startyear=1990, \n",
    "    endyear=1990,\n",
    "    shapefile=shapefile,\n",
    "    extract_region={\n",
    "        'start_longitude': y0,\n",
    "        'end_longitude': y1,\n",
    "        'start_latitude': x0,\n",
    "        'end_latitude': x1,\n",
    "    }\n",
    ")"
   ]
  },
  {
   "cell_type": "code",
   "execution_count": 40,
   "id": "62ffdecd",
   "metadata": {},
   "outputs": [
    {
     "data": {
      "text/plain": [
       "[('diagnostic_daily/script',\n",
       "  diagnostic_daily/script:\n",
       "    DataFile('lisflood_ERA-Interim_Meuse_sfcWind_1990_1990.nc')\n",
       "    DataFile('lisflood_ERA-Interim_Meuse_rsds_1990_1990.nc')\n",
       "    DataFile('lisflood_ERA-Interim_Meuse_e_1990_1990.nc')\n",
       "    DataFile('lisflood_ERA-Interim_Meuse_tasmin_1990_1990.nc')\n",
       "    DataFile('lisflood_ERA-Interim_Meuse_tas_1990_1990.nc')\n",
       "    DataFile('lisflood_ERA-Interim_Meuse_pr_1990_1990.nc')\n",
       "    DataFile('lisflood_ERA-Interim_Meuse_tasmax_1990_1990.nc'))]"
      ]
     },
     "execution_count": 40,
     "metadata": {},
     "output_type": "execute_result"
    }
   ],
   "source": [
    "list(forcing_output.recipe_output.items())"
   ]
  },
  {
   "cell_type": "code",
   "execution_count": 41,
   "id": "ad6a257d",
   "metadata": {},
   "outputs": [
    {
     "data": {
      "text/plain": [
       "PosixPath('/scratch/shared/ewatercycle/lisflood_20210413_182908')"
      ]
     },
     "execution_count": 41,
     "metadata": {},
     "output_type": "execute_result"
    }
   ],
   "source": [
    "# reindex forcing to global extent\n",
    "reindex_forcings(mask, forcing_output, TEMP_DIR)"
   ]
  },
  {
   "cell_type": "markdown",
   "id": "9241a28e",
   "metadata": {},
   "source": [
    "## Run lisflood class"
   ]
  },
  {
   "cell_type": "code",
   "execution_count": 42,
   "id": "483d048b",
   "metadata": {},
   "outputs": [],
   "source": [
    "parameterset = LisfloodParameterSet(\n",
    "    # TODO one level down (+ /Lisflood01degree_masked)?\n",
    "    root=Path('/projects/0/wtrcycle/comparison/lisflood_input'),\n",
    "    # TODO dir or file (+ /model_mask.nc)?\n",
    "    mask=mask.parent,\n",
    "    config_template=Path('/projects/0/wtrcycle/comparison/lisflood_input/settings_templates/settings_lisflood.xml'),\n",
    "    lisvap_config_template=Path('/projects/0/wtrcycle/comparison/lisflood_input/settings_templates/settings_lisvap.xml'),\n",
    ")"
   ]
  },
  {
   "cell_type": "code",
   "execution_count": 43,
   "id": "aa3d2e5a",
   "metadata": {},
   "outputs": [],
   "source": [
    "# create lisflood instance\n",
    "model = Lisflood()"
   ]
  },
  {
   "cell_type": "code",
   "execution_count": 45,
   "id": "f66fa922",
   "metadata": {},
   "outputs": [
    {
     "name": "stdout",
     "output_type": "stream",
     "text": [
      "Running ewatercycle-lisflood-grpc4bmi.sif singularity container on port 32905\n"
     ]
    }
   ],
   "source": [
    "# setup model\n",
    "FORCING_DIR = Path('path_to_one_year_data') # from comparison study or\n",
    "FORCING_DIR = TEMP_DIR\n",
    "config_file, config_dir = model.setup(FORCING_DIR, parameterset)"
   ]
  },
  {
   "cell_type": "code",
   "execution_count": 46,
   "id": "b2aa5f4e",
   "metadata": {},
   "outputs": [
    {
     "name": "stdout",
     "output_type": "stream",
     "text": [
      "/scratch/shared/ewatercycle/lisflood_20210413_191039/lisflood_setting_1990_1990.xml\n",
      "/scratch/shared/ewatercycle/lisflood_20210413_191039\n"
     ]
    }
   ],
   "source": [
    "print(config_file)\n",
    "print(config_dir)"
   ]
  },
  {
   "cell_type": "code",
   "execution_count": 47,
   "id": "c4d9e2ef",
   "metadata": {},
   "outputs": [
    {
     "name": "stdout",
     "output_type": "stream",
     "text": [
      "('Discharge',)\n"
     ]
    }
   ],
   "source": [
    "# get metadata\n",
    "print(model.output_var_names)"
   ]
  },
  {
   "cell_type": "code",
   "execution_count": 48,
   "id": "d66a3235",
   "metadata": {},
   "outputs": [
    {
     "data": {
      "text/plain": [
       "(0,\n",
       " b'Lisvap  0.4.2   23/08/2019\\n\\n(C) Disaster Risk Management Knowledge Centre\\n    Joint Research Centre of the European Commission\\n    Units E1,D2 I-21020 Ispra (Va), Italy\\n\\n\\n\\nStart date: 01/01/1990 00:00 (1) - End date: 31/12/1990 00:00 (365)\\n\\r1\\r2\\r3\\r4\\r5\\r6\\r7\\r8\\r9\\r10\\r11\\r12\\r13\\r14\\r15\\r16\\r17\\r18\\r19\\r20\\r21\\r22\\r23\\r24\\r25\\r26\\r27\\r28\\r29\\r30\\r31\\r32\\r33\\r34\\r35\\r36\\r37\\r38\\r39\\r40\\r41\\r42\\r43\\r44\\r45\\r46\\r47\\r48\\r49\\r50\\r51\\r52\\r53\\r54\\r55\\r56\\r57\\r58\\r59\\r60\\r61\\r62\\r63\\r64\\r65\\r66\\r67\\r68\\r69\\r70\\r71\\r72\\r73\\r74\\r75\\r76\\r77\\r78\\r79\\r80\\r81\\r82\\r83\\r84\\r85\\r86\\r87\\r88\\r89\\r90\\r91\\r92\\r93\\r94\\r95\\r96\\r97\\r98\\r99\\r100\\r101\\r102\\r103\\r104\\r105\\r106\\r107\\r108\\r109\\r110\\r111\\r112\\r113\\r114\\r115\\r116\\r117\\r118\\r119\\r120\\r121\\r122\\r123\\r124\\r125\\r126\\r127\\r128\\r129\\r130\\r131\\r132\\r133\\r134\\r135\\r136\\r137\\r138\\r139\\r140\\r141\\r142\\r143\\r144\\r145\\r146\\r147\\r148\\r149\\r150\\r151\\r152\\r153\\r154\\r155\\r156\\r157\\r158\\r159\\r160\\r161\\r162\\r163\\r164\\r165\\r166\\r167\\r168\\r169\\r170\\r171\\r172\\r173\\r174\\r175\\r176\\r177\\r178\\r179\\r180\\r181\\r182\\r183\\r184\\r185\\r186\\r187\\r188\\r189\\r190\\r191\\r192\\r193\\r194\\r195\\r196\\r197\\r198\\r199\\r200\\r201\\r202\\r203\\r204\\r205\\r206\\r207\\r208\\r209\\r210\\r211\\r212\\r213\\r214\\r215\\r216\\r217\\r218\\r219\\r220\\r221\\r222\\r223\\r224\\r225\\r226\\r227\\r228\\r229\\r230\\r231\\r232\\r233\\r234\\r235\\r236\\r237\\r238\\r239\\r240\\r241\\r242\\r243\\r244\\r245\\r246\\r247\\r248\\r249\\r250\\r251\\r252\\r253\\r254\\r255\\r256\\r257\\r258\\r259\\r260\\r261\\r262\\r263\\r264\\r265\\r266\\r267\\r268\\r269\\r270\\r271\\r272\\r273\\r274\\r275\\r276\\r277\\r278\\r279\\r280\\r281\\r282\\r283\\r284\\r285\\r286\\r287\\r288\\r289\\r290\\r291\\r292\\r293\\r294\\r295\\r296\\r297\\r298\\r299\\r300\\r301\\r302\\r303\\r304\\r305\\r306\\r307\\r308\\r309\\r310\\r311\\r312\\r313\\r314\\r315\\r316\\r317\\r318\\r319\\r320\\r321\\r322\\r323\\r324\\r325\\r326\\r327\\r328\\r329\\r330\\r331\\r332\\r333\\r334\\r335\\r336\\r337\\r338\\r339\\r340\\r341\\r342\\r343\\r344\\r345\\r346\\r347\\r348\\r349\\r350\\r351\\r352\\r353\\r354\\r355\\r356\\r357\\r358\\r359\\r360\\r361\\r362\\r363\\r364\\r365',\n",
       " b'')"
      ]
     },
     "execution_count": 48,
     "metadata": {},
     "output_type": "execute_result"
    }
   ],
   "source": [
    "# run lisvap\n",
    "model.run_lisvap(FORCING_DIR)"
   ]
  },
  {
   "cell_type": "code",
   "execution_count": 49,
   "id": "096f84e2",
   "metadata": {},
   "outputs": [],
   "source": [
    "# initialize\n",
    "model.initialize(config_file)"
   ]
  },
  {
   "cell_type": "code",
   "execution_count": 50,
   "id": "7b47b5d6",
   "metadata": {},
   "outputs": [],
   "source": [
    "# run model with bmi\n",
    "model.update()"
   ]
  },
  {
   "cell_type": "code",
   "execution_count": 51,
   "id": "e383ee77",
   "metadata": {},
   "outputs": [
    {
     "name": "stdout",
     "output_type": "stream",
     "text": [
      "Too many items (5400000) for single call, using multiple get_value_at_indices() with into chunks of 524280 items\n",
      "Fetching value range 0 - 524280\n",
      "Fetching value range 524280 - 1048560\n",
      "Fetching value range 1048560 - 1572840\n",
      "Fetching value range 1572840 - 2097120\n",
      "Fetching value range 2097120 - 2621400\n",
      "Fetching value range 2621400 - 3145680\n",
      "Fetching value range 3145680 - 3669960\n",
      "Fetching value range 3669960 - 4194240\n",
      "Fetching value range 4194240 - 4718520\n",
      "Fetching value range 4718520 - 5242800\n",
      "Fetching value range 5242800 - 5400000\n"
     ]
    },
    {
     "data": {
      "text/plain": [
       "array([nan, nan, nan, ..., nan, nan, nan])"
      ]
     },
     "execution_count": 51,
     "metadata": {},
     "output_type": "execute_result"
    }
   ],
   "source": [
    "# get value\n",
    "model.get_value('Discharge')"
   ]
  },
  {
   "cell_type": "code",
   "execution_count": 52,
   "id": "2c9ce2ef",
   "metadata": {},
   "outputs": [
    {
     "ename": "_InactiveRpcError",
     "evalue": "<_InactiveRpcError of RPC that terminated with:\n\tstatus = StatusCode.UNKNOWN\n\tdetails = \"Exception calling application: 'LisfloodBmi' object has no attribute '_userModel'\"\n\tdebug_error_string = \"{\"created\":\"@1618335248.141257312\",\"description\":\"Error received from peer ipv6:[::1]:32905\",\"file\":\"src/core/lib/surface/call.cc\",\"file_line\":1067,\"grpc_message\":\"Exception calling application: 'LisfloodBmi' object has no attribute '_userModel'\",\"grpc_status\":2}\"\n>",
     "output_type": "error",
     "traceback": [
      "\u001b[0;31m---------------------------------------------------------------------------\u001b[0m",
      "\u001b[0;31m_InactiveRpcError\u001b[0m                         Traceback (most recent call last)",
      "\u001b[0;32m<ipython-input-52-c6dba152647a>\u001b[0m in \u001b[0;36m<module>\u001b[0;34m\u001b[0m\n\u001b[1;32m      1\u001b[0m \u001b[0;31m# stop the model\u001b[0m\u001b[0;34m\u001b[0m\u001b[0;34m\u001b[0m\u001b[0;34m\u001b[0m\u001b[0m\n\u001b[0;32m----> 2\u001b[0;31m \u001b[0mmodel\u001b[0m\u001b[0;34m.\u001b[0m\u001b[0mfinalize\u001b[0m\u001b[0;34m(\u001b[0m\u001b[0;34m)\u001b[0m\u001b[0;34m\u001b[0m\u001b[0;34m\u001b[0m\u001b[0m\n\u001b[0m\u001b[1;32m      3\u001b[0m \u001b[0;32mdel\u001b[0m \u001b[0mmodel\u001b[0m\u001b[0;34m.\u001b[0m\u001b[0mbmi\u001b[0m\u001b[0;34m\u001b[0m\u001b[0;34m\u001b[0m\u001b[0m\n",
      "\u001b[0;32m/nfs/home2/fakhereh/GitHub/ewatercycle/ewatercycle/models/abstract.py\u001b[0m in \u001b[0;36mfinalize\u001b[0;34m(self)\u001b[0m\n\u001b[1;32m     42\u001b[0m     \u001b[0;32mdef\u001b[0m \u001b[0mfinalize\u001b[0m\u001b[0;34m(\u001b[0m\u001b[0mself\u001b[0m\u001b[0;34m)\u001b[0m \u001b[0;34m->\u001b[0m \u001b[0;32mNone\u001b[0m\u001b[0;34m:\u001b[0m\u001b[0;34m\u001b[0m\u001b[0;34m\u001b[0m\u001b[0m\n\u001b[1;32m     43\u001b[0m         \u001b[0;34m\"\"\"Perform tear-down tasks for the model.\"\"\"\u001b[0m\u001b[0;34m\u001b[0m\u001b[0;34m\u001b[0m\u001b[0m\n\u001b[0;32m---> 44\u001b[0;31m         \u001b[0mself\u001b[0m\u001b[0;34m.\u001b[0m\u001b[0mbmi\u001b[0m\u001b[0;34m.\u001b[0m\u001b[0mfinalize\u001b[0m\u001b[0;34m(\u001b[0m\u001b[0;34m)\u001b[0m\u001b[0;34m\u001b[0m\u001b[0;34m\u001b[0m\u001b[0m\n\u001b[0m\u001b[1;32m     45\u001b[0m         \u001b[0;31m# TODO terminate container if running?\u001b[0m\u001b[0;34m\u001b[0m\u001b[0;34m\u001b[0m\u001b[0;34m\u001b[0m\u001b[0m\n\u001b[1;32m     46\u001b[0m \u001b[0;34m\u001b[0m\u001b[0m\n",
      "\u001b[0;32m~/miniconda3/envs/ewatercycle/lib/python3.9/site-packages/grpc4bmi/bmi_grpc_client.py\u001b[0m in \u001b[0;36mfinalize\u001b[0;34m(self)\u001b[0m\n\u001b[1;32m     72\u001b[0m \u001b[0;34m\u001b[0m\u001b[0m\n\u001b[1;32m     73\u001b[0m     \u001b[0;32mdef\u001b[0m \u001b[0mfinalize\u001b[0m\u001b[0;34m(\u001b[0m\u001b[0mself\u001b[0m\u001b[0;34m)\u001b[0m\u001b[0;34m:\u001b[0m\u001b[0;34m\u001b[0m\u001b[0;34m\u001b[0m\u001b[0m\n\u001b[0;32m---> 74\u001b[0;31m         \u001b[0mself\u001b[0m\u001b[0;34m.\u001b[0m\u001b[0mstub\u001b[0m\u001b[0;34m.\u001b[0m\u001b[0mfinalize\u001b[0m\u001b[0;34m(\u001b[0m\u001b[0mbmi_pb2\u001b[0m\u001b[0;34m.\u001b[0m\u001b[0mEmpty\u001b[0m\u001b[0;34m(\u001b[0m\u001b[0;34m)\u001b[0m\u001b[0;34m)\u001b[0m\u001b[0;34m\u001b[0m\u001b[0;34m\u001b[0m\u001b[0m\n\u001b[0m\u001b[1;32m     75\u001b[0m \u001b[0;34m\u001b[0m\u001b[0m\n\u001b[1;32m     76\u001b[0m     \u001b[0;32mdef\u001b[0m \u001b[0mget_component_name\u001b[0m\u001b[0;34m(\u001b[0m\u001b[0mself\u001b[0m\u001b[0;34m)\u001b[0m\u001b[0;34m:\u001b[0m\u001b[0;34m\u001b[0m\u001b[0;34m\u001b[0m\u001b[0m\n",
      "\u001b[0;32m~/miniconda3/envs/ewatercycle/lib/python3.9/site-packages/grpc/_channel.py\u001b[0m in \u001b[0;36m__call__\u001b[0;34m(self, request, timeout, metadata, credentials, wait_for_ready, compression)\u001b[0m\n\u001b[1;32m    944\u001b[0m         state, call, = self._blocking(request, timeout, metadata, credentials,\n\u001b[1;32m    945\u001b[0m                                       wait_for_ready, compression)\n\u001b[0;32m--> 946\u001b[0;31m         \u001b[0;32mreturn\u001b[0m \u001b[0m_end_unary_response_blocking\u001b[0m\u001b[0;34m(\u001b[0m\u001b[0mstate\u001b[0m\u001b[0;34m,\u001b[0m \u001b[0mcall\u001b[0m\u001b[0;34m,\u001b[0m \u001b[0;32mFalse\u001b[0m\u001b[0;34m,\u001b[0m \u001b[0;32mNone\u001b[0m\u001b[0;34m)\u001b[0m\u001b[0;34m\u001b[0m\u001b[0;34m\u001b[0m\u001b[0m\n\u001b[0m\u001b[1;32m    947\u001b[0m \u001b[0;34m\u001b[0m\u001b[0m\n\u001b[1;32m    948\u001b[0m     def with_call(self,\n",
      "\u001b[0;32m~/miniconda3/envs/ewatercycle/lib/python3.9/site-packages/grpc/_channel.py\u001b[0m in \u001b[0;36m_end_unary_response_blocking\u001b[0;34m(state, call, with_call, deadline)\u001b[0m\n\u001b[1;32m    847\u001b[0m             \u001b[0;32mreturn\u001b[0m \u001b[0mstate\u001b[0m\u001b[0;34m.\u001b[0m\u001b[0mresponse\u001b[0m\u001b[0;34m\u001b[0m\u001b[0;34m\u001b[0m\u001b[0m\n\u001b[1;32m    848\u001b[0m     \u001b[0;32melse\u001b[0m\u001b[0;34m:\u001b[0m\u001b[0;34m\u001b[0m\u001b[0;34m\u001b[0m\u001b[0m\n\u001b[0;32m--> 849\u001b[0;31m         \u001b[0;32mraise\u001b[0m \u001b[0m_InactiveRpcError\u001b[0m\u001b[0;34m(\u001b[0m\u001b[0mstate\u001b[0m\u001b[0;34m)\u001b[0m\u001b[0;34m\u001b[0m\u001b[0;34m\u001b[0m\u001b[0m\n\u001b[0m\u001b[1;32m    850\u001b[0m \u001b[0;34m\u001b[0m\u001b[0m\n\u001b[1;32m    851\u001b[0m \u001b[0;34m\u001b[0m\u001b[0m\n",
      "\u001b[0;31m_InactiveRpcError\u001b[0m: <_InactiveRpcError of RPC that terminated with:\n\tstatus = StatusCode.UNKNOWN\n\tdetails = \"Exception calling application: 'LisfloodBmi' object has no attribute '_userModel'\"\n\tdebug_error_string = \"{\"created\":\"@1618335248.141257312\",\"description\":\"Error received from peer ipv6:[::1]:32905\",\"file\":\"src/core/lib/surface/call.cc\",\"file_line\":1067,\"grpc_message\":\"Exception calling application: 'LisfloodBmi' object has no attribute '_userModel'\",\"grpc_status\":2}\"\n>"
     ]
    }
   ],
   "source": [
    "# stop the model\n",
    "model.finalize()\n",
    "del model.bmi"
   ]
  },
  {
   "cell_type": "code",
   "execution_count": null,
   "id": "644f39d9",
   "metadata": {},
   "outputs": [],
   "source": []
  }
 ],
 "metadata": {
  "kernelspec": {
   "display_name": "Python 3",
   "language": "python",
   "name": "python3"
  },
  "language_info": {
   "codemirror_mode": {
    "name": "ipython",
    "version": 3
   },
   "file_extension": ".py",
   "mimetype": "text/x-python",
   "name": "python",
   "nbconvert_exporter": "python",
   "pygments_lexer": "ipython3",
   "version": "3.9.2"
  }
 },
 "nbformat": 4,
 "nbformat_minor": 5
}
