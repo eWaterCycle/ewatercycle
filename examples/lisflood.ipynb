{
 "cells": [
  {
   "cell_type": "markdown",
   "id": "a7df922c",
   "metadata": {},
   "source": [
    "![image](https://www.ewatercycle.org/assets/logo.png)"
   ]
  },
  {
   "cell_type": "code",
   "execution_count": 1,
   "id": "7a758137",
   "metadata": {},
   "outputs": [
    {
     "name": "stderr",
     "output_type": "stream",
     "text": [
      "/home/fakhereh/miniconda3/envs/ewatercycle/lib/python3.9/site-packages/esmvalcore/experimental/_warnings.py:18: UserWarning: \n",
      "  Thank you for trying out the new ESMValCore API.\n",
      "  Note that this API is experimental and may be subject to change.\n",
      "  More info: https://github.com/ESMValGroup/ESMValCore/issues/498\n",
      "/home/fakhereh/miniconda3/envs/ewatercycle/lib/python3.9/site-packages/esmvalcore/experimental/config/_config_validators.py:254: ESMValToolDeprecationWarning: `write_plots` will be removed in 2.4.0.\n",
      "/home/fakhereh/miniconda3/envs/ewatercycle/lib/python3.9/site-packages/esmvalcore/experimental/config/_config_validators.py:255: ESMValToolDeprecationWarning: `write_netcdf` will be removed in 2.4.0.\n"
     ]
    }
   ],
   "source": [
    "from pathlib import Path\n",
    "import numpy as np\n",
    "from ewatercycle.models import Lisflood\n",
    "from ewatercycle.models.lisflood import LisfloodParameterSet"
   ]
  },
  {
   "cell_type": "markdown",
   "id": "7f4e7c15",
   "metadata": {},
   "source": [
    "## Run lisflood class"
   ]
  },
  {
   "cell_type": "code",
   "execution_count": 2,
   "id": "627e6783",
   "metadata": {},
   "outputs": [],
   "source": [
    "parameterset = LisfloodParameterSet(\n",
    "    root=Path('/projects/0/wtrcycle/comparison/lisflood_input/Lisflood01degree_masked'),\n",
    "    mask=Path('/projects/0/wtrcycle/comparison/recipes_auxiliary_datasets/LISFLOOD/model_mask.nc'),\n",
    "    config_template=Path('/projects/0/wtrcycle/comparison/lisflood_input/settings_templates/settings_lisflood.xml'),\n",
    "    lisvap_config_template=Path('/projects/0/wtrcycle/comparison/lisflood_input/settings_templates/settings_lisvap.xml'),\n",
    ")"
   ]
  },
  {
   "cell_type": "code",
   "execution_count": 3,
   "id": "ca4a1983",
   "metadata": {},
   "outputs": [],
   "source": [
    "# create lisflood instance\n",
    "model = Lisflood()"
   ]
  },
  {
   "cell_type": "code",
   "execution_count": 4,
   "id": "ba4f666d",
   "metadata": {},
   "outputs": [
    {
     "name": "stdout",
     "output_type": "stream",
     "text": [
      "Running ewatercycle-lisflood-grpc4bmi.sif singularity container on port 37255\n"
     ]
    }
   ],
   "source": [
    "# setup model\n",
    "# lisflood_ERA-Interim_*_1990_1990.nc data can be copied \n",
    "# from /projects/0/wtrcycle/comparison/forcing/lisflood\n",
    "FORCING_DIR = Path('forcing_data')\n",
    "config_file, config_dir = model.setup(FORCING_DIR, parameterset)"
   ]
  },
  {
   "cell_type": "code",
   "execution_count": 5,
   "id": "ff1c2384",
   "metadata": {},
   "outputs": [
    {
     "name": "stdout",
     "output_type": "stream",
     "text": [
      "/scratch/shared/ewatercycle/lisflood_20210414_155718/lisflood_setting_1990_1990.xml\n",
      "/scratch/shared/ewatercycle/lisflood_20210414_155718\n"
     ]
    }
   ],
   "source": [
    "print(config_file)\n",
    "print(config_dir)"
   ]
  },
  {
   "cell_type": "code",
   "execution_count": 6,
   "id": "2f64666a",
   "metadata": {},
   "outputs": [
    {
     "name": "stdout",
     "output_type": "stream",
     "text": [
      "('Discharge',)\n"
     ]
    }
   ],
   "source": [
    "# get metadata\n",
    "print(model.output_var_names)"
   ]
  },
  {
   "cell_type": "code",
   "execution_count": null,
   "id": "5086fc44",
   "metadata": {},
   "outputs": [],
   "source": [
    "# run lisvap\n",
    "lisvap_results = model.run_lisvap(FORCING_DIR)"
   ]
  },
  {
   "cell_type": "code",
   "execution_count": 7,
   "id": "10977aec",
   "metadata": {},
   "outputs": [],
   "source": [
    "# initialize\n",
    "model.initialize(str(config_file))"
   ]
  },
  {
   "cell_type": "code",
   "execution_count": 8,
   "id": "5f0562cf",
   "metadata": {},
   "outputs": [],
   "source": [
    "# run model with bmi\n",
    "model.update()"
   ]
  },
  {
   "cell_type": "code",
   "execution_count": 10,
   "id": "c321e43e",
   "metadata": {},
   "outputs": [
    {
     "name": "stdout",
     "output_type": "stream",
     "text": [
      "Too many items (5400000) for single call, using multiple get_value_at_indices() with into chunks of 524280 items\n",
      "Fetching value range 0 - 524280\n",
      "Fetching value range 524280 - 1048560\n",
      "Fetching value range 1048560 - 1572840\n",
      "Fetching value range 1572840 - 2097120\n",
      "Fetching value range 2097120 - 2621400\n",
      "Fetching value range 2621400 - 3145680\n",
      "Fetching value range 3145680 - 3669960\n",
      "Fetching value range 3669960 - 4194240\n",
      "Fetching value range 4194240 - 4718520\n",
      "Fetching value range 4718520 - 5242800\n",
      "Fetching value range 5242800 - 5400000\n"
     ]
    }
   ],
   "source": [
    "# get value\n",
    "discharge = model.get_value('Discharge')"
   ]
  },
  {
   "cell_type": "code",
   "execution_count": 14,
   "id": "49de6af1",
   "metadata": {},
   "outputs": [
    {
     "data": {
      "text/plain": [
       "3060"
      ]
     },
     "execution_count": 14,
     "metadata": {},
     "output_type": "execute_result"
    }
   ],
   "source": [
    "np.count_nonzero(~np.isnan(discharge))"
   ]
  },
  {
   "cell_type": "code",
   "execution_count": 15,
   "id": "e917800a",
   "metadata": {},
   "outputs": [],
   "source": [
    "# stop the model\n",
    "del model.bmi"
   ]
  },
  {
   "cell_type": "code",
   "execution_count": null,
   "id": "792e9f8b",
   "metadata": {},
   "outputs": [],
   "source": []
  }
 ],
 "metadata": {
  "kernelspec": {
   "display_name": "Python 3",
   "language": "python",
   "name": "python3"
  },
  "language_info": {
   "codemirror_mode": {
    "name": "ipython",
    "version": 3
   },
   "file_extension": ".py",
   "mimetype": "text/x-python",
   "name": "python",
   "nbconvert_exporter": "python",
   "pygments_lexer": "ipython3",
   "version": "3.9.2"
  }
 },
 "nbformat": 4,
 "nbformat_minor": 5
}
