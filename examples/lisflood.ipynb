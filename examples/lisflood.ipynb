{
 "cells": [
  {
   "cell_type": "markdown",
   "id": "8c4327f7",
   "metadata": {},
   "source": [
    "![image](https://www.ewatercycle.org/assets/logo.png)"
   ]
  },
  {
   "cell_type": "code",
   "execution_count": 6,
   "id": "baef5f0f",
   "metadata": {},
   "outputs": [],
   "source": [
    "from pathlib import Path\n",
    "from ewatercycle.models import Lisflood\n",
    "from ewatercycle.models.lisflood import LisfloodParameterSet"
   ]
  },
  {
   "cell_type": "markdown",
   "id": "21c4f4c6",
   "metadata": {},
   "source": [
    "## Run lisflood class"
   ]
  },
  {
   "cell_type": "code",
   "execution_count": 42,
   "id": "4485fe5f",
   "metadata": {},
   "outputs": [],
   "source": [
    "parameterset = LisfloodParameterSet(\n",
    "    # TODO one level down (+ /Lisflood01degree_masked)?\n",
    "    root=Path('/projects/0/wtrcycle/comparison/lisflood_input'),\n",
    "    # TODO dir or file (+ /model_mask.nc)?\n",
    "    mask='/projects/0/wtrcycle/comparison/recipes_auxiliary_datasets/LISFLOOD',\n",
    "    config_template=Path('/projects/0/wtrcycle/comparison/lisflood_input/settings_templates/settings_lisflood.xml'),\n",
    "    lisvap_config_template=Path('/projects/0/wtrcycle/comparison/lisflood_input/settings_templates/settings_lisvap.xml'),\n",
    ")"
   ]
  },
  {
   "cell_type": "code",
   "execution_count": 43,
   "id": "549cfb0e",
   "metadata": {},
   "outputs": [],
   "source": [
    "# create lisflood instance\n",
    "model = Lisflood()"
   ]
  },
  {
   "cell_type": "code",
   "execution_count": 45,
   "id": "8266318f",
   "metadata": {},
   "outputs": [
    {
     "name": "stdout",
     "output_type": "stream",
     "text": [
      "Running ewatercycle-lisflood-grpc4bmi.sif singularity container on port 32905\n"
     ]
    }
   ],
   "source": [
    "# setup model\n",
    "# lisflood_ERA-Interim_*_1990_1990.nc data can be copied \n",
    "# from /projects/0/wtrcycle/comparison/forcing/lisflood\n",
    "FORCING_DIR = Path('forcing_data')\n",
    "config_file, config_dir = model.setup(FORCING_DIR, parameterset)"
   ]
  },
  {
   "cell_type": "code",
   "execution_count": 46,
   "id": "3c64991f",
   "metadata": {},
   "outputs": [
    {
     "name": "stdout",
     "output_type": "stream",
     "text": [
      "/scratch/shared/ewatercycle/lisflood_20210413_191039/lisflood_setting_1990_1990.xml\n",
      "/scratch/shared/ewatercycle/lisflood_20210413_191039\n"
     ]
    }
   ],
   "source": [
    "print(config_file)\n",
    "print(config_dir)"
   ]
  },
  {
   "cell_type": "code",
   "execution_count": 47,
   "id": "260a95ad",
   "metadata": {},
   "outputs": [
    {
     "name": "stdout",
     "output_type": "stream",
     "text": [
      "('Discharge',)\n"
     ]
    }
   ],
   "source": [
    "# get metadata\n",
    "print(model.output_var_names)"
   ]
  },
  {
   "cell_type": "code",
   "execution_count": null,
   "id": "8316b8e0",
   "metadata": {},
   "outputs": [],
   "source": [
    "# run lisvap\n",
    "lisvap_results = model.run_lisvap(FORCING_DIR)"
   ]
  },
  {
   "cell_type": "code",
   "execution_count": 49,
   "id": "5f4b30ed",
   "metadata": {},
   "outputs": [],
   "source": [
    "# initialize\n",
    "model.initialize(config_file)"
   ]
  },
  {
   "cell_type": "code",
   "execution_count": 50,
   "id": "555cebe3",
   "metadata": {},
   "outputs": [],
   "source": [
    "# run model with bmi\n",
    "model.update()"
   ]
  },
  {
   "cell_type": "code",
   "execution_count": 51,
   "id": "86f3b424",
   "metadata": {},
   "outputs": [
    {
     "name": "stdout",
     "output_type": "stream",
     "text": [
      "Too many items (5400000) for single call, using multiple get_value_at_indices() with into chunks of 524280 items\n",
      "Fetching value range 0 - 524280\n",
      "Fetching value range 524280 - 1048560\n",
      "Fetching value range 1048560 - 1572840\n",
      "Fetching value range 1572840 - 2097120\n",
      "Fetching value range 2097120 - 2621400\n",
      "Fetching value range 2621400 - 3145680\n",
      "Fetching value range 3145680 - 3669960\n",
      "Fetching value range 3669960 - 4194240\n",
      "Fetching value range 4194240 - 4718520\n",
      "Fetching value range 4718520 - 5242800\n",
      "Fetching value range 5242800 - 5400000\n"
     ]
    },
    {
     "data": {
      "text/plain": [
       "array([nan, nan, nan, ..., nan, nan, nan])"
      ]
     },
     "execution_count": 51,
     "metadata": {},
     "output_type": "execute_result"
    }
   ],
   "source": [
    "# get value\n",
    "model.get_value('Discharge')"
   ]
  },
  {
   "cell_type": "code",
   "execution_count": null,
   "id": "56e893b3",
   "metadata": {},
   "outputs": [],
   "source": [
    "# stop the model\n",
    "del model.bmi"
   ]
  }
 ],
 "metadata": {
  "kernelspec": {
   "display_name": "Python 3",
   "language": "python",
   "name": "python3"
  },
  "language_info": {
   "codemirror_mode": {
    "name": "ipython",
    "version": 3
   },
   "file_extension": ".py",
   "mimetype": "text/x-python",
   "name": "python",
   "nbconvert_exporter": "python",
   "pygments_lexer": "ipython3",
   "version": "3.9.2"
  }
 },
 "nbformat": 4,
 "nbformat_minor": 5
}
