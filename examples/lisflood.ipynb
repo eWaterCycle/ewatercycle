{
 "cells": [
  {
   "cell_type": "markdown",
   "id": "c1d35260",
   "metadata": {},
   "source": [
    "![image](https://www.ewatercycle.org/assets/logo.png)"
   ]
  },
  {
   "cell_type": "code",
   "execution_count": null,
   "id": "f1d924ba",
   "metadata": {},
   "outputs": [],
   "source": [
    "from pathlib import Path\n",
    "import numpy as np\n",
    "from ewatercycle import CFG\n",
    "from ewatercycle.models import Lisflood\n",
    "from ewatercycle.models.lisflood import LisfloodParameterSet"
   ]
  },
  {
   "cell_type": "markdown",
   "id": "8f2f5a49",
   "metadata": {},
   "source": [
    "## Run lisflood class\n",
    "\n",
    "The ewatercycle configuration file is typcially stored in `~/ewatercycle/ewatercycle.yaml` or `/etc/ewatercycle.yaml` and can be imported with `from ewatercycle import CFG`. Relevant settings for lisflood are:\n",
    "\n",
    "```Yaml\n",
    "container_engine: docker # or singularity\n",
    "lisflood.singularity_images: 'ewatercycle-lisflood-grpc4bmi.sif'\n",
    "lisflood.docker_images: 'ewatercycle/lisflood-grpc4bmi:latest'\n",
    "output_dir: './' # the directory where the model work_dir will be created\n",
    "```"
   ]
  },
  {
   "cell_type": "code",
   "execution_count": null,
   "id": "c1f74ea6",
   "metadata": {},
   "outputs": [],
   "source": [
    "CFG.load_from_file('~/ewatercycle.yaml')"
   ]
  },
  {
   "cell_type": "code",
   "execution_count": null,
   "id": "6d37400e",
   "metadata": {},
   "outputs": [],
   "source": [
    "parameterset = LisfloodParameterSet(\n",
    "    root=Path('/projects/0/wtrcycle/comparison/lisflood_input/Lisflood01degree_masked'),\n",
    "    mask=Path('/projects/0/wtrcycle/comparison/recipes_auxiliary_datasets/LISFLOOD/model_mask.nc'),\n",
    "    config_template=Path('/projects/0/wtrcycle/comparison/lisflood_input/settings_templates/settings_lisflood.xml'),\n",
    "    lisvap_config_template=Path('/projects/0/wtrcycle/comparison/lisflood_input/settings_templates/settings_lisvap.xml'),\n",
    ")"
   ]
  },
  {
   "cell_type": "code",
   "execution_count": null,
   "id": "0206224c",
   "metadata": {},
   "outputs": [],
   "source": [
    "# create lisflood instance\n",
    "model = Lisflood()"
   ]
  },
  {
   "cell_type": "code",
   "execution_count": null,
   "id": "7460516f",
   "metadata": {},
   "outputs": [],
   "source": [
    "# setup model\n",
    "# lisflood_ERA-Interim_*_1990_1990.nc data can be copied \n",
    "# from /projects/0/wtrcycle/comparison/forcing/lisflood\n",
    "forcing_dir = Path('forcing_data')\n",
    "config_file, config_dir = model.setup(forcing_dir, parameterset)"
   ]
  },
  {
   "cell_type": "code",
   "execution_count": null,
   "id": "686451a8",
   "metadata": {},
   "outputs": [],
   "source": [
    "print(config_file)\n",
    "print(config_dir)"
   ]
  },
  {
   "cell_type": "code",
   "execution_count": null,
   "id": "6b5301b2",
   "metadata": {},
   "outputs": [],
   "source": [
    "# get metadata\n",
    "print(model.output_var_names)"
   ]
  },
  {
   "cell_type": "code",
   "execution_count": null,
   "id": "566ddd4c",
   "metadata": {},
   "outputs": [],
   "source": [
    "# run lisvap\n",
    "lisvap_results = model.run_lisvap(forcing_dir)"
   ]
  },
  {
   "cell_type": "code",
   "execution_count": null,
   "id": "3e3b2e84",
   "metadata": {},
   "outputs": [],
   "source": [
    "print(lisvap_results)"
   ]
  },
  {
   "cell_type": "code",
   "execution_count": null,
   "id": "7077bce3",
   "metadata": {},
   "outputs": [],
   "source": [
    "# initialize\n",
    "model.initialize(str(config_file))"
   ]
  },
  {
   "cell_type": "code",
   "execution_count": null,
   "id": "1450f939",
   "metadata": {},
   "outputs": [],
   "source": [
    "# run model with bmi\n",
    "model.update()"
   ]
  },
  {
   "cell_type": "code",
   "execution_count": null,
   "id": "1b19604f",
   "metadata": {},
   "outputs": [],
   "source": [
    "# get value\n",
    "discharge = model.get_value('Discharge')"
   ]
  },
  {
   "cell_type": "code",
   "execution_count": null,
   "id": "f72f37b0",
   "metadata": {},
   "outputs": [],
   "source": [
    "np.count_nonzero(~np.isnan(discharge))"
   ]
  },
  {
   "cell_type": "code",
   "execution_count": null,
   "id": "9b617a0b",
   "metadata": {},
   "outputs": [],
   "source": [
    "discharge = model.get_value_as_xarray('Discharge')"
   ]
  },
  {
   "cell_type": "code",
   "execution_count": null,
   "id": "5bb25dac",
   "metadata": {},
   "outputs": [],
   "source": [
    "discharge.plot(robust=True, cmap='GnBu')"
   ]
  },
  {
   "cell_type": "code",
   "execution_count": null,
   "id": "79ef197a",
   "metadata": {},
   "outputs": [],
   "source": [
    "# stop the model\n",
    "del model.bmi"
   ]
  },
  {
   "cell_type": "code",
   "execution_count": null,
   "id": "3d58bae5",
   "metadata": {},
   "outputs": [],
   "source": []
  }
 ],
 "metadata": {
  "kernelspec": {
   "display_name": "Python 3",
   "language": "python",
   "name": "python3"
  },
  "language_info": {
   "codemirror_mode": {
    "name": "ipython",
    "version": 3
   },
   "file_extension": ".py",
   "mimetype": "text/x-python",
   "name": "python",
   "nbconvert_exporter": "python",
   "pygments_lexer": "ipython3",
   "version": "3.9.2"
  }
 },
 "nbformat": 4,
 "nbformat_minor": 5
}
