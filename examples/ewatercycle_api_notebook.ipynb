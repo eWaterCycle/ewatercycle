{
 "cells": [
  {
   "cell_type": "markdown",
   "metadata": {},
   "source": [
    "## eWaterCycle API\n",
    "\n",
    "- API does not need to be perfect in any way.\n",
    "- Notebook could have a few options for possible design, or as a separate notebook for different options.\n",
    "- Notebook should generate forcing, run WFLOW, and analyse the result (based on preprocessing, full run notebook and analysis notebook) and \"uses\" the new API\n",
    "- Notebook should be an example in the eWaterCycle package repo\n",
    "- Notebook does not have to actually work\n",
    "- Data should remain private (especially the GRDC data)\n",
    "- Notebook only pretends to run a single catchment with a single forcing for a single year."
   ]
  },
  {
   "cell_type": "markdown",
   "metadata": {},
   "source": [
    "## Classes\n",
    "\n",
    "- `CFG`: global config\n",
    "- `ForcingData`: container for forcing output / forcing data\n",
    "- `Model`: Model runner\n",
    "- `ModelData`: container for model output / model data"
   ]
  },
  {
   "cell_type": "code",
   "execution_count": null,
   "metadata": {},
   "outputs": [],
   "source": [
    "from ewatercycle import CFG"
   ]
  },
  {
   "cell_type": "markdown",
   "metadata": {},
   "source": [
    "## Setup\n",
    "\n",
    "- where are the data?\n",
    "- where are the files?\n",
    "- model specific settings (time period, location/catchment, name of variable)"
   ]
  },
  {
   "cell_type": "code",
   "execution_count": null,
   "metadata": {},
   "outputs": [],
   "source": [
    "CFG.load_from_file('~/.ewatercycle/config.yaml')\n",
    "\n",
    "# path to raw forcing data\n",
    "# path to input parameter set (model specific)\n",
    "# path to shape file of each catchment\n",
    "# path to work directory (temporary directory)\n",
    "\n",
    "# CFG:\n",
    "CFG = {\n",
    "    'raw_forcing_data': '/Path/to/data',\n",
    "    'output_directory': '~/work_directory'  # forcing data / result of model run\n",
    "    'shapefiles': 'Path/to/shapefiles'  # Meuse -> Meuse.shp\n",
    "    'station_ids': # Mapping catchment to station ids, Meuse -> station id\n",
    "    'WFLOW':\n",
    "        'config_file': '/path/to/model/specific/config_file'\n",
    "        'docker_container': '/location/of/docker/container'\n",
    "    'LISFLOOD':\n",
    "        ...\n",
    "    'MARRMOT':\n",
    "        ...\n",
    "    'grdc_data': '/Path/to/grdc/data'\n",
    "}"
   ]
  },
  {
   "cell_type": "markdown",
   "metadata": {},
   "source": [
    "## Preprocessing\n",
    "\n",
    "Note: the simple mapping of `catchment='Meuse'` will need something more explicit. Where exactly a catchment ends is not always straightforward, so different models and modellers disagree."
   ]
  },
  {
   "cell_type": "code",
   "execution_count": null,
   "metadata": {},
   "outputs": [],
   "source": [
    "from ewatercycle import forcing\n",
    "\n",
    "# forcing.generate takes a single forcing dataset\n",
    "forcing_output = forcing.generate(\n",
    "    model='wflow', \n",
    "    forcing='ERA-Interim',\n",
    "    startyear=1990, \n",
    "    endyear=2000,\n",
    "    catchment='Meuse',\n",
    ")\n",
    "forcing_output\n",
    "# <ForcingData for ERA5>\n",
    "\n",
    "# For multiple forcings:\n",
    "forcing_output_dict = {}\n",
    "\n",
    "for forcing in 'ERA5', 'ERA-Interim':\n",
    "    output = forcing.generate(\n",
    "        model='wflow', \n",
    "        forcing=forcing,\n",
    "        start_year=1990, \n",
    "        end_year=2000,\n",
    "        catchment='Meuse',\n",
    "    )\n",
    "    forcing_output_dict[forcing] = output\n",
    "\n",
    "forcing_output_dict\n",
    "# {\n",
    "#     'ERA5':\n",
    "#         <ForcingData for ERA5>\n",
    "#     'ERA-Interim':\n",
    "#         <ForcingData for ERA-Interim>\n",
    "# }"
   ]
  },
  {
   "cell_type": "code",
   "execution_count": null,
   "metadata": {},
   "outputs": [],
   "source": [
    "forcing_output.location\n",
    "# path to forcing output\n",
    "forcing_output.start_year\n",
    "# 1990\n",
    "forcing_output.end_year\n",
    "# 2000\n",
    "forcing_output.forcing\n",
    "# 'ERA5'\n",
    "forcing_output.model\n",
    "# 'wflow'\n",
    "forcing_output.catchment\n",
    "# Meuse\n",
    "forcing_output.region_extent\n",
    "# {\n",
    "#     'start_longitude': 0,\n",
    "#     'end_longitude': 6.75,\n",
    "#     'start_latitude': 47.25,\n",
    "#     'end_latitude': 52.5,\n",
    "# }\n",
    "forcing_output.visualize(variable='pr')\n",
    "# Visualize forcing data on a map\n",
    "# Interactive slider to go through the timestamps\n",
    "# Plot border of shapefile on the image\n",
    "forcing_output.plot_timeseries()\n",
    "# i.e. https://hyperspy.org\n",
    "forcing_output.log\n",
    "# show log output\n",
    "forcing_output.recipe_output\n",
    "# Return recipe output from esmvaltool api to access citation info, provenance, etc."
   ]
  },
  {
   "cell_type": "markdown",
   "metadata": {},
   "source": [
    "## (Calibration)"
   ]
  },
  {
   "cell_type": "markdown",
   "metadata": {},
   "source": [
    "## Running the model\n",
    "\n",
    "Notes:\n",
    " - Model class/initialize/setup should match PyMT.\n",
    " - The shortcuts to create a model from a forcing and vice-versa are nice-to-haves.\n",
    " - Support a more explicit run loop in addition to the single-line run method.\n",
    " - The start and end time should be set in the setup rather than the run method (as most models expect this info in the configuration file)"
   ]
  },
  {
   "cell_type": "code",
   "execution_count": null,
   "metadata": {},
   "outputs": [],
   "source": [
    "from ewatercycle.wflow import Model\n",
    "\n",
    "# model works with a specific forcing to keep it simple\n",
    "# parallel processing can be performed in a util function, i.e. ewatercycle.parallel_run(model, forcings=...)\n",
    "# using i.e. a ThreadPoolExecutor https://docs.python.org/3/library/concurrent.futures.html#threadpoolexecutor\n",
    "\n",
    "# setup -> copy data / config to work directory\n",
    "# create grpc4bmi directories\n",
    "model = Model.setup(\n",
    "    model='wflow',\n",
    "    forcing_data=forcing_output,\n",
    ")\n",
    "\n",
    "# have constructors for `forcing_output`\n",
    "\n",
    "model = forcing_output.to_model()\n",
    "# or\n",
    "model = Model.from_forcing_data(forcing_output)\n",
    "\n",
    "# `.run` starts the docker container and runs update func\n",
    "# saves data to hard drive as netcdf file\n",
    "model_output = model.run(\n",
    "    spinup_years = 5,\n",
    "    start_year = 1995,\n",
    "    end_year = 2000,\n",
    "    variable='RiverRunoff',\n",
    ")\n",
    "\n",
    "model_output\n",
    "# <ModelData for ERA5>"
   ]
  },
  {
   "cell_type": "code",
   "execution_count": null,
   "metadata": {},
   "outputs": [],
   "source": [
    "# comparison\n",
    "model_output_dict = {}\n",
    "\n",
    "for forcing, forcing_data in forcing_output_dict:\n",
    "    model = forcing_output.to_model()\n",
    "    output = model.run(\n",
    "        spinup_years = 5,\n",
    "        start_year = 1995,\n",
    "        end_year = 2000,\n",
    "        variable='RiverRunoff',\n",
    "    )\n",
    "    model_output_dict[forcing] = output\n",
    "# {\n",
    "#     'ERA5':\n",
    "#         <ModelData for ERA5>\n",
    "#     'ERA-Interim':\n",
    "#         <ModelData for ERA-Interim>\n",
    "# }"
   ]
  },
  {
   "cell_type": "markdown",
   "metadata": {},
   "source": [
    "`ModelData` mimicks `ForcingData` for some of the attributes\n",
    "\n",
    "Note: is it possible to create this structure while doing a more explicit loop in a nice way?"
   ]
  },
  {
   "cell_type": "code",
   "execution_count": null,
   "metadata": {},
   "outputs": [],
   "source": [
    "model_output.location\n",
    "# Location of output data (netcdf)\n",
    "model_output.log\n",
    "# output for the model run\n",
    "model_output.to_dataframe()\n",
    "# read netcdf into a pandas dataframe\n",
    "model_output.to_xarray()\n",
    "# read netcdf with xarray\n",
    "model_output.start_year\n",
    "# 1990\n",
    "model_output.end_year\n",
    "# 2000\n",
    "model_output.forcing\n",
    "# 'ERA5'\n",
    "model_output.model\n",
    "# 'wflow'\n",
    "model_output.catchment\n",
    "# Meuse\n",
    "model_output.log\n",
    "# show log output"
   ]
  },
  {
   "cell_type": "markdown",
   "metadata": {},
   "source": [
    "How to access bmi variables?\n",
    "\n",
    "Note: bmi functions should be on the model object directly"
   ]
  },
  {
   "cell_type": "code",
   "execution_count": null,
   "metadata": {},
   "outputs": [],
   "source": [
    "model.bmi.get_output_var_names()"
   ]
  },
  {
   "cell_type": "markdown",
   "metadata": {},
   "source": [
    "## Analyzing the results\n",
    "\n",
    "Note: Station ID may have to be explicit rather than a sessing/config."
   ]
  },
  {
   "cell_type": "code",
   "execution_count": null,
   "metadata": {},
   "outputs": [],
   "source": [
    "from ewatercycle.observations import get_data\n",
    "\n",
    "# station id is obtained from CFG / global settings\n",
    "obs_timeseries = get_data(\n",
    "    'grdc',\n",
    "    start_year=1990,\n",
    "    end_year=2000,\n",
    "    catchment='Meuse',\n",
    ")  # -> pandas.DataFrame"
   ]
  },
  {
   "cell_type": "markdown",
   "metadata": {},
   "source": [
    "### hydrograph\n",
    "\n",
    "Some models also need some additional processing to get the data in the form of a timeseries required to calculate the hydrograph."
   ]
  },
  {
   "cell_type": "code",
   "execution_count": null,
   "metadata": {},
   "outputs": [],
   "source": [
    "from ewatercycle.plot import hydrograph\n",
    "\n",
    "simulated_data = model_output.to_dataframe()\n",
    "\n",
    "# some models need some additional processing to get a timeseries of the simulated data\n",
    "\n",
    "from ewatercycle.utils import guess_outlet_gridpoint\n",
    "simulated_timeseries = guess_outlet_gridpoint(simulated_data, station_id='id', padding=5)\n",
    "\n",
    "hydrograph(\n",
    "    simulated=simulated_timeseries,\n",
    "    observed=obs_timeseries,\n",
    "    ...\n",
    ")  # generate matplotlib plot"
   ]
  },
  {
   "cell_type": "markdown",
   "metadata": {},
   "source": [
    "`hydrograph` can take a list of simulated data and observed data."
   ]
  },
  {
   "cell_type": "code",
   "execution_count": null,
   "metadata": {},
   "outputs": [],
   "source": [
    "hydrograph(\n",
    "    simulated=[simulated_timeseries, ..., ...],\n",
    "    observed=[obs_timeseries, ..., ...],\n",
    "    ...\n",
    ")  # generate matplotlib plot"
   ]
  },
  {
   "cell_type": "markdown",
   "metadata": {},
   "source": [
    "Sometimes we also want to show the forcing precipitation data at the top of the plot, this can also be a list."
   ]
  },
  {
   "cell_type": "code",
   "execution_count": null,
   "metadata": {},
   "outputs": [],
   "source": [
    "forcing_data = forcing_output.variables['pr']  # iris.cube.Cube\n",
    "\n",
    "# some models need some additional processing to get a timeseries of the precipitation\n",
    "\n",
    "from ewatercycle.utils import catchment_statistics\n",
    "forcing_timeseries = catchment_statistics(forcing_data, catchment='Meuse', statistics='sum')\n",
    "\n",
    "hydrograph(\n",
    "    simulated=[simulated_timeseries, ..., ...],\n",
    "    observed=[obs_timeseries, ..., ...],\n",
    "    forcing=[forcing_timeseries, ..., ...],\n",
    "    ...\n",
    ")  # generate matplotlib plot"
   ]
  },
  {
   "cell_type": "markdown",
   "metadata": {},
   "source": [
    "### metrics\n",
    "\n",
    "Use hydrostats to calculate metrics\n",
    "\n",
    "https://hydrostats.readthedocs.io/en/stable/Metrics.html#\n",
    "\n",
    "https://hydrostats.readthedocs.io/en/stable/ref_table.html"
   ]
  },
  {
   "cell_type": "code",
   "execution_count": null,
   "metadata": {},
   "outputs": [],
   "source": [
    "from hydrostats import metrics\n",
    "\n",
    "metrics.nse(\n",
    "    simulated=simulated_data,\n",
    "    observed=obs_data,\n",
    ")"
   ]
  },
  {
   "cell_type": "markdown",
   "metadata": {},
   "source": [
    "### save/load hydrograph results"
   ]
  },
  {
   "cell_type": "code",
   "execution_count": null,
   "metadata": {},
   "outputs": [],
   "source": [
    "from ewatercycle.util import export_hydrograph_data, import_hydrograph_data\n",
    "\n",
    "# saves the data using pandas.to_csv (or otherwise)\n",
    "\n",
    "export_hydrograph_data(\n",
    "    'my_output.csv',\n",
    "    simulated=[simulated_data, ..., ...],\n",
    "    observed=[obs_data, ..., ...],\n",
    "    forcing=[forcing_data, ..., ...],\n",
    ")\n",
    "\n",
    "# loads the data using pandas.from_csv (or otherwise)\n",
    "\n",
    "simulated, observed, forcing = import_hydrograph_data('my_output.csv')"
   ]
  },
  {
   "cell_type": "code",
   "execution_count": null,
   "metadata": {},
   "outputs": [],
   "source": [
    "import matplotlib.pyplot as plt\n",
    "\n",
    "fig, axis = plt.figure()\n",
    "\n",
    "hydrograph(\n",
    "    simulated=[simulated_data, ..., ...],\n",
    "    observed=[obs_data, ..., ...],\n",
    "    forcing=[forcing_data, ..., ...],\n",
    "    ...\n",
    "    axis=axis,\n",
    ")  # generate matplotlib plot\n",
    "\n",
    "fig.savefig('output.jpg')"
   ]
  }
 ],
 "metadata": {
  "kernelspec": {
   "display_name": "ewatercycle",
   "language": "python",
   "name": "ewatercycle"
  },
  "language_info": {
   "codemirror_mode": {
    "name": "ipython",
    "version": 3
   },
   "file_extension": ".py",
   "mimetype": "text/x-python",
   "name": "python",
   "nbconvert_exporter": "python",
   "pygments_lexer": "ipython3",
   "version": "3.9.2"
  }
 },
 "nbformat": 4,
 "nbformat_minor": 5
}
