{
 "cells": [
  {
   "cell_type": "markdown",
   "id": "3369caeb",
   "metadata": {},
   "source": [
    "# Running Wflow using the ewatercycle system"
   ]
  },
  {
   "cell_type": "markdown",
   "id": "9983ad5b",
   "metadata": {},
   "source": [
    "### 1. Copy an example case\n",
    "To run WFlow, we need a complete parameterset. The easiest way to obtain a valid model configuration is by copying it from https://github.com/openstreams/wflow/raw/master/examples/. We can use `ewatercycle.parametersetdb` to easily copy on of these example cases to a folder called `./wflow_example_case`."
   ]
  },
  {
   "cell_type": "code",
   "execution_count": null,
   "id": "bea159a3",
   "metadata": {
    "tags": []
   },
   "outputs": [],
   "source": [
    "from ewatercycle.parametersetdb import build_from_urls\n",
    "\n",
    "# Obtain an example case for testing the model\n",
    "parameterset = build_from_urls(\n",
    "    config_format='ini', config_url='https://github.com/openstreams/wflow/raw/master/examples/wflow_rhine_sbm_nc/wflow_sbm_NC.ini',\n",
    "    datafiles_format='svn', datafiles_url='https://github.com/openstreams/wflow/trunk/examples/wflow_rhine_sbm_nc',\n",
    ")\n",
    "parameterset.save_datafiles('./wflow_example_case_nc')"
   ]
  },
  {
   "cell_type": "markdown",
   "id": "d952e026",
   "metadata": {},
   "source": [
    "### 2. Verify your configuration settings\n",
    "\n",
    "If you are working on a curated environment like https://lab.ewatercycle.org/, the default configuration should cover 90% of all use cases. However, for the other 10% here is a brief explanation of the relevant configuration settings. \n",
    "\n",
    "The ewatercycle configuration file is typcially stored in `~/ewatercycle/ewatercycle.yaml` or `/etc/ewatercycle.yaml` and can be imported with `from ewatercycle import CFG`. Relevant settings for WFLow are:\n",
    "\n",
    "```Yaml\n",
    "container_engine: docker # or singularity\n",
    "singularity_dir: './' # the directory where singularity images are stored\n",
    "output_dir: './' # the directory where the model work_dir will be created\n",
    "```\n",
    "\n",
    "In order for this to work, you need to make sure that the actual docker or singularity images are available on the system. This can be done with:\n",
    "\n",
    "- Docker: `docker pull ewatercycle/wflow-grpc4bmi:latest`\n",
    "- Singularity: `singularity build --disable-cache ewatercycle-wflow-grpc4bmi.sif docker://ewatercycle/wflow-grpc4bmi:latest`"
   ]
  },
  {
   "cell_type": "markdown",
   "id": "8b545f93",
   "metadata": {},
   "source": [
    "### 3. Setting up the model"
   ]
  },
  {
   "cell_type": "code",
   "execution_count": 1,
   "id": "3006f3e5",
   "metadata": {},
   "outputs": [
    {
     "name": "stderr",
     "output_type": "stream",
     "text": [
      "/home/peter/miniconda3/envs/ewatercycle/lib/python3.9/site-packages/esmvalcore/experimental/_warnings.py:18: UserWarning: \n",
      "  Thank you for trying out the new ESMValCore API.\n",
      "  Note that this API is experimental and may be subject to change.\n",
      "  More info: https://github.com/ESMValGroup/ESMValCore/issues/498\n",
      "/home/peter/miniconda3/envs/ewatercycle/lib/python3.9/site-packages/esmvalcore/experimental/config/_config_validators.py:254: ESMValToolDeprecationWarning: `write_plots` will be removed in 2.4.0.\n",
      "/home/peter/miniconda3/envs/ewatercycle/lib/python3.9/site-packages/esmvalcore/experimental/config/_config_validators.py:255: ESMValToolDeprecationWarning: `write_netcdf` will be removed in 2.4.0.\n"
     ]
    },
    {
     "data": {
      "text/plain": [
       "'2020.1.1'"
      ]
     },
     "execution_count": 1,
     "metadata": {},
     "output_type": "execute_result"
    }
   ],
   "source": [
    "import ewatercycle.models\n",
    "ewatercycle.models.Wflow.available_versions"
   ]
  },
  {
   "cell_type": "code",
   "execution_count": 2,
   "id": "86ba92c6",
   "metadata": {},
   "outputs": [
    {
     "data": {
      "text/plain": [
       "WflowParameterSet(input_data=PosixPath('/home/peter/ewatercycle/ewatercycle/examples/wflow_example_case_nc'), default_config=PosixPath('/home/peter/ewatercycle/ewatercycle/examples/wflow_example_case_nc/wflow_sbm_NC.ini'))"
      ]
     },
     "execution_count": 2,
     "metadata": {},
     "output_type": "execute_result"
    }
   ],
   "source": [
    "parameter_set = ewatercycle.models.wflow.WflowParameterSet(\n",
    "    input_data = \"./wflow_example_case_nc/\",\n",
    "    default_config = \"./wflow_example_case_nc/wflow_sbm_NC.ini\",\n",
    ")\n",
    "parameter_set"
   ]
  },
  {
   "cell_type": "code",
   "execution_count": 3,
   "id": "06d490c0",
   "metadata": {},
   "outputs": [
    {
     "data": {
      "text/plain": [
       "WflowForcing(start_time='1991-01-01T00:00:00Z', end_time='1991-12-31T00:00:00Z', directory='.', shape=None, netcdfinput=PosixPath('/home/peter/ewatercycle/ewatercycle/test_forcing_data.nc'), Precipitation='/P', EvapoTranspiration='/PET', Temperature='/TEMP', Inflow=None)"
      ]
     },
     "execution_count": 3,
     "metadata": {},
     "output_type": "execute_result"
    }
   ],
   "source": [
    "import ewatercycle.forcing\n",
    "forcing = ewatercycle.forcing.load_foreign(\n",
    "    target_model = 'wflow',\n",
    "    start_time = '1991-01-01T00:00:00Z',\n",
    "    end_time = '1991-12-31T00:00:00Z',\n",
    "    forcing_info = dict(\n",
    "        netcdfinput = '../test_forcing_data.nc',\n",
    "        Precipitation = \"/P\",\n",
    "        EvapoTranspiration = \"/PET\",\n",
    "        Temperature = \"/TEMP\"\n",
    "    )\n",
    ")\n",
    "forcing"
   ]
  },
  {
   "cell_type": "code",
   "execution_count": 4,
   "id": "44507283",
   "metadata": {},
   "outputs": [],
   "source": [
    "model = ewatercycle.models.Wflow(version='2020.1.1', parameter_set=parameter_set, forcing=forcing)"
   ]
  },
  {
   "cell_type": "code",
   "execution_count": 5,
   "id": "fc2bdf39",
   "metadata": {},
   "outputs": [
    {
     "data": {
      "text/plain": [
       "[('inputmapstacks',\n",
       "  {'Precipitation': '/P',\n",
       "   'EvapoTranspiration': '/PET',\n",
       "   'Temperature': '/TEMP',\n",
       "   'Inflow': '/inmaps/IF'}),\n",
       " ('modelparameters', {}),\n",
       " ('run',\n",
       "  {'starttime': '1991-02-01 00:00:00',\n",
       "   'endtime': '1991-03-01 00:00:00',\n",
       "   'timestepsecs': '86400',\n",
       "   'reinit': '1'}),\n",
       " ('model',\n",
       "  {'modeltype': 'sbm',\n",
       "   'AnnualDischarge': '2290',\n",
       "   'Alpha': '120',\n",
       "   'ModelSnow': '0',\n",
       "   'ScalarInput': '0',\n",
       "   'InterpolationMethod': 'inv',\n",
       "   'WIMaxScale': '0.8',\n",
       "   'Tslice': '1',\n",
       "   'UpdMaxDist': '300000.0',\n",
       "   'origTopogLateral': '1'}),\n",
       " ('misc', {}),\n",
       " ('framework',\n",
       "  {'netcdfoutput': 'outmaps.nc',\n",
       "   'netcdfinput': 'test_forcing_data.nc',\n",
       "   'netcdfwritebuffer': '10',\n",
       "   'netcdf_least_significant_digit': '2'}),\n",
       " ('layout', {'sizeinmetres': '0'}),\n",
       " ('outputmaps',\n",
       "  {'self.Inflow': 'iflow',\n",
       "   'self.RiverRunoff': 'run',\n",
       "   'self.InwaterMM': 'iwm',\n",
       "   'self.PotenEvap': 'PET',\n",
       "   'self.Precipitation': 'P'}),\n",
       " ('summary', {'self.MaxLeakage': 'MaxLeakage.map'}),\n",
       " ('summary_sum', {'self.Precipitation': 'Sumprecip.map'}),\n",
       " ('summary_max', {'self.Precipitation': 'maxprecip.map'}),\n",
       " ('summary_min', {}),\n",
       " ('summary_avg', {'self.Precipitation': 'avgprecip.map'}),\n",
       " ('outputcsv_0',\n",
       "  {'samplemap': 'staticmaps/wflow_landuse.map',\n",
       "   'self.Transfer': 'tra_lu.csv'}),\n",
       " ('outputtss_0',\n",
       "  {'samplemap': 'staticmaps/wflow_gauges.map',\n",
       "   'self.RiverRunoff': 'run.tss',\n",
       "   'self.WaterLevelR': 'lev.tss'}),\n",
       " ('outputtss_1',\n",
       "  {'samplemap': 'staticmaps/wflow_gauges.map', 'self.ActLeakage': 'lek.tss'})]"
      ]
     },
     "execution_count": 5,
     "metadata": {},
     "output_type": "execute_result"
    }
   ],
   "source": [
    "model.parameters"
   ]
  },
  {
   "cell_type": "code",
   "execution_count": 6,
   "id": "69f96939",
   "metadata": {
    "tags": []
   },
   "outputs": [],
   "source": [
    "cfg_file, cfg_dir = model.setup(\n",
    "    API = {\"RiverRunoff\": \"2, m^3/s\"},\n",
    "    run = {\"starttime\": \"1995-01-31 00:00:00 GMT\", \"endtime\": \"1995-02-27 00:00:00 GMT\"},\n",
    "#     framework = {\"netcdfinput\": \"/home/peter/some_other_dataset.nc\"},  # if absolute path exists, it will be copied to work dir\n",
    ")"
   ]
  },
  {
   "cell_type": "code",
   "execution_count": 7,
   "id": "3229662f",
   "metadata": {},
   "outputs": [
    {
     "data": {
      "text/plain": [
       "(PosixPath('/home/peter/ewatercycle/ewatercycle/examples/wflow_20210601_114152/wflow_ewatercycle.ini'),\n",
       " PosixPath('/home/peter/ewatercycle/ewatercycle/examples/wflow_20210601_114152'))"
      ]
     },
     "execution_count": 7,
     "metadata": {},
     "output_type": "execute_result"
    }
   ],
   "source": [
    "cfg_file, cfg_dir"
   ]
  },
  {
   "cell_type": "markdown",
   "id": "ea4903b2",
   "metadata": {},
   "source": [
    "### 4. Running the model"
   ]
  },
  {
   "cell_type": "code",
   "execution_count": 9,
   "id": "1f3e4e2f",
   "metadata": {},
   "outputs": [
    {
     "data": {
      "text/plain": [
       "PosixPath('/home/peter/ewatercycle/ewatercycle/examples/wflow_20210601_114152/wflow_ewatercycle.ini')"
      ]
     },
     "execution_count": 9,
     "metadata": {},
     "output_type": "execute_result"
    }
   ],
   "source": [
    "cfg_file"
   ]
  },
  {
   "cell_type": "code",
   "execution_count": 10,
   "id": "3bdf8239",
   "metadata": {},
   "outputs": [],
   "source": [
    "# This conversion to string shouldn't be necessary\n",
    "model.initialize(str(cfg_file))"
   ]
  },
  {
   "cell_type": "code",
   "execution_count": 11,
   "id": "b3600b11",
   "metadata": {},
   "outputs": [
    {
     "data": {
      "text/plain": [
       "array([-999., -999., -999., ..., -999., -999., -999.])"
      ]
     },
     "execution_count": 11,
     "metadata": {},
     "output_type": "execute_result"
    }
   ],
   "source": [
    "model.get_value(\"RiverRunoff\")  # WFlow interally uses a fill-value for masked data of -999"
   ]
  },
  {
   "cell_type": "code",
   "execution_count": 12,
   "id": "35347682",
   "metadata": {
    "tags": []
   },
   "outputs": [
    {
     "data": {
      "text/html": [
       "<div><svg style=\"position: absolute; width: 0; height: 0; overflow: hidden\">\n",
       "<defs>\n",
       "<symbol id=\"icon-database\" viewBox=\"0 0 32 32\">\n",
       "<path d=\"M16 0c-8.837 0-16 2.239-16 5v4c0 2.761 7.163 5 16 5s16-2.239 16-5v-4c0-2.761-7.163-5-16-5z\"></path>\n",
       "<path d=\"M16 17c-8.837 0-16-2.239-16-5v6c0 2.761 7.163 5 16 5s16-2.239 16-5v-6c0 2.761-7.163 5-16 5z\"></path>\n",
       "<path d=\"M16 26c-8.837 0-16-2.239-16-5v6c0 2.761 7.163 5 16 5s16-2.239 16-5v-6c0 2.761-7.163 5-16 5z\"></path>\n",
       "</symbol>\n",
       "<symbol id=\"icon-file-text2\" viewBox=\"0 0 32 32\">\n",
       "<path d=\"M28.681 7.159c-0.694-0.947-1.662-2.053-2.724-3.116s-2.169-2.030-3.116-2.724c-1.612-1.182-2.393-1.319-2.841-1.319h-15.5c-1.378 0-2.5 1.121-2.5 2.5v27c0 1.378 1.122 2.5 2.5 2.5h23c1.378 0 2.5-1.122 2.5-2.5v-19.5c0-0.448-0.137-1.23-1.319-2.841zM24.543 5.457c0.959 0.959 1.712 1.825 2.268 2.543h-4.811v-4.811c0.718 0.556 1.584 1.309 2.543 2.268zM28 29.5c0 0.271-0.229 0.5-0.5 0.5h-23c-0.271 0-0.5-0.229-0.5-0.5v-27c0-0.271 0.229-0.5 0.5-0.5 0 0 15.499-0 15.5 0v7c0 0.552 0.448 1 1 1h7v19.5z\"></path>\n",
       "<path d=\"M23 26h-14c-0.552 0-1-0.448-1-1s0.448-1 1-1h14c0.552 0 1 0.448 1 1s-0.448 1-1 1z\"></path>\n",
       "<path d=\"M23 22h-14c-0.552 0-1-0.448-1-1s0.448-1 1-1h14c0.552 0 1 0.448 1 1s-0.448 1-1 1z\"></path>\n",
       "<path d=\"M23 18h-14c-0.552 0-1-0.448-1-1s0.448-1 1-1h14c0.552 0 1 0.448 1 1s-0.448 1-1 1z\"></path>\n",
       "</symbol>\n",
       "</defs>\n",
       "</svg>\n",
       "<style>/* CSS stylesheet for displaying xarray objects in jupyterlab.\n",
       " *\n",
       " */\n",
       "\n",
       ":root {\n",
       "  --xr-font-color0: var(--jp-content-font-color0, rgba(0, 0, 0, 1));\n",
       "  --xr-font-color2: var(--jp-content-font-color2, rgba(0, 0, 0, 0.54));\n",
       "  --xr-font-color3: var(--jp-content-font-color3, rgba(0, 0, 0, 0.38));\n",
       "  --xr-border-color: var(--jp-border-color2, #e0e0e0);\n",
       "  --xr-disabled-color: var(--jp-layout-color3, #bdbdbd);\n",
       "  --xr-background-color: var(--jp-layout-color0, white);\n",
       "  --xr-background-color-row-even: var(--jp-layout-color1, white);\n",
       "  --xr-background-color-row-odd: var(--jp-layout-color2, #eeeeee);\n",
       "}\n",
       "\n",
       "html[theme=dark],\n",
       "body.vscode-dark {\n",
       "  --xr-font-color0: rgba(255, 255, 255, 1);\n",
       "  --xr-font-color2: rgba(255, 255, 255, 0.54);\n",
       "  --xr-font-color3: rgba(255, 255, 255, 0.38);\n",
       "  --xr-border-color: #1F1F1F;\n",
       "  --xr-disabled-color: #515151;\n",
       "  --xr-background-color: #111111;\n",
       "  --xr-background-color-row-even: #111111;\n",
       "  --xr-background-color-row-odd: #313131;\n",
       "}\n",
       "\n",
       ".xr-wrap {\n",
       "  display: block;\n",
       "  min-width: 300px;\n",
       "  max-width: 700px;\n",
       "}\n",
       "\n",
       ".xr-text-repr-fallback {\n",
       "  /* fallback to plain text repr when CSS is not injected (untrusted notebook) */\n",
       "  display: none;\n",
       "}\n",
       "\n",
       ".xr-header {\n",
       "  padding-top: 6px;\n",
       "  padding-bottom: 6px;\n",
       "  margin-bottom: 4px;\n",
       "  border-bottom: solid 1px var(--xr-border-color);\n",
       "}\n",
       "\n",
       ".xr-header > div,\n",
       ".xr-header > ul {\n",
       "  display: inline;\n",
       "  margin-top: 0;\n",
       "  margin-bottom: 0;\n",
       "}\n",
       "\n",
       ".xr-obj-type,\n",
       ".xr-array-name {\n",
       "  margin-left: 2px;\n",
       "  margin-right: 10px;\n",
       "}\n",
       "\n",
       ".xr-obj-type {\n",
       "  color: var(--xr-font-color2);\n",
       "}\n",
       "\n",
       ".xr-sections {\n",
       "  padding-left: 0 !important;\n",
       "  display: grid;\n",
       "  grid-template-columns: 150px auto auto 1fr 20px 20px;\n",
       "}\n",
       "\n",
       ".xr-section-item {\n",
       "  display: contents;\n",
       "}\n",
       "\n",
       ".xr-section-item input {\n",
       "  display: none;\n",
       "}\n",
       "\n",
       ".xr-section-item input + label {\n",
       "  color: var(--xr-disabled-color);\n",
       "}\n",
       "\n",
       ".xr-section-item input:enabled + label {\n",
       "  cursor: pointer;\n",
       "  color: var(--xr-font-color2);\n",
       "}\n",
       "\n",
       ".xr-section-item input:enabled + label:hover {\n",
       "  color: var(--xr-font-color0);\n",
       "}\n",
       "\n",
       ".xr-section-summary {\n",
       "  grid-column: 1;\n",
       "  color: var(--xr-font-color2);\n",
       "  font-weight: 500;\n",
       "}\n",
       "\n",
       ".xr-section-summary > span {\n",
       "  display: inline-block;\n",
       "  padding-left: 0.5em;\n",
       "}\n",
       "\n",
       ".xr-section-summary-in:disabled + label {\n",
       "  color: var(--xr-font-color2);\n",
       "}\n",
       "\n",
       ".xr-section-summary-in + label:before {\n",
       "  display: inline-block;\n",
       "  content: '►';\n",
       "  font-size: 11px;\n",
       "  width: 15px;\n",
       "  text-align: center;\n",
       "}\n",
       "\n",
       ".xr-section-summary-in:disabled + label:before {\n",
       "  color: var(--xr-disabled-color);\n",
       "}\n",
       "\n",
       ".xr-section-summary-in:checked + label:before {\n",
       "  content: '▼';\n",
       "}\n",
       "\n",
       ".xr-section-summary-in:checked + label > span {\n",
       "  display: none;\n",
       "}\n",
       "\n",
       ".xr-section-summary,\n",
       ".xr-section-inline-details {\n",
       "  padding-top: 4px;\n",
       "  padding-bottom: 4px;\n",
       "}\n",
       "\n",
       ".xr-section-inline-details {\n",
       "  grid-column: 2 / -1;\n",
       "}\n",
       "\n",
       ".xr-section-details {\n",
       "  display: none;\n",
       "  grid-column: 1 / -1;\n",
       "  margin-bottom: 5px;\n",
       "}\n",
       "\n",
       ".xr-section-summary-in:checked ~ .xr-section-details {\n",
       "  display: contents;\n",
       "}\n",
       "\n",
       ".xr-array-wrap {\n",
       "  grid-column: 1 / -1;\n",
       "  display: grid;\n",
       "  grid-template-columns: 20px auto;\n",
       "}\n",
       "\n",
       ".xr-array-wrap > label {\n",
       "  grid-column: 1;\n",
       "  vertical-align: top;\n",
       "}\n",
       "\n",
       ".xr-preview {\n",
       "  color: var(--xr-font-color3);\n",
       "}\n",
       "\n",
       ".xr-array-preview,\n",
       ".xr-array-data {\n",
       "  padding: 0 5px !important;\n",
       "  grid-column: 2;\n",
       "}\n",
       "\n",
       ".xr-array-data,\n",
       ".xr-array-in:checked ~ .xr-array-preview {\n",
       "  display: none;\n",
       "}\n",
       "\n",
       ".xr-array-in:checked ~ .xr-array-data,\n",
       ".xr-array-preview {\n",
       "  display: inline-block;\n",
       "}\n",
       "\n",
       ".xr-dim-list {\n",
       "  display: inline-block !important;\n",
       "  list-style: none;\n",
       "  padding: 0 !important;\n",
       "  margin: 0;\n",
       "}\n",
       "\n",
       ".xr-dim-list li {\n",
       "  display: inline-block;\n",
       "  padding: 0;\n",
       "  margin: 0;\n",
       "}\n",
       "\n",
       ".xr-dim-list:before {\n",
       "  content: '(';\n",
       "}\n",
       "\n",
       ".xr-dim-list:after {\n",
       "  content: ')';\n",
       "}\n",
       "\n",
       ".xr-dim-list li:not(:last-child):after {\n",
       "  content: ',';\n",
       "  padding-right: 5px;\n",
       "}\n",
       "\n",
       ".xr-has-index {\n",
       "  font-weight: bold;\n",
       "}\n",
       "\n",
       ".xr-var-list,\n",
       ".xr-var-item {\n",
       "  display: contents;\n",
       "}\n",
       "\n",
       ".xr-var-item > div,\n",
       ".xr-var-item label,\n",
       ".xr-var-item > .xr-var-name span {\n",
       "  background-color: var(--xr-background-color-row-even);\n",
       "  margin-bottom: 0;\n",
       "}\n",
       "\n",
       ".xr-var-item > .xr-var-name:hover span {\n",
       "  padding-right: 5px;\n",
       "}\n",
       "\n",
       ".xr-var-list > li:nth-child(odd) > div,\n",
       ".xr-var-list > li:nth-child(odd) > label,\n",
       ".xr-var-list > li:nth-child(odd) > .xr-var-name span {\n",
       "  background-color: var(--xr-background-color-row-odd);\n",
       "}\n",
       "\n",
       ".xr-var-name {\n",
       "  grid-column: 1;\n",
       "}\n",
       "\n",
       ".xr-var-dims {\n",
       "  grid-column: 2;\n",
       "}\n",
       "\n",
       ".xr-var-dtype {\n",
       "  grid-column: 3;\n",
       "  text-align: right;\n",
       "  color: var(--xr-font-color2);\n",
       "}\n",
       "\n",
       ".xr-var-preview {\n",
       "  grid-column: 4;\n",
       "}\n",
       "\n",
       ".xr-var-name,\n",
       ".xr-var-dims,\n",
       ".xr-var-dtype,\n",
       ".xr-preview,\n",
       ".xr-attrs dt {\n",
       "  white-space: nowrap;\n",
       "  overflow: hidden;\n",
       "  text-overflow: ellipsis;\n",
       "  padding-right: 10px;\n",
       "}\n",
       "\n",
       ".xr-var-name:hover,\n",
       ".xr-var-dims:hover,\n",
       ".xr-var-dtype:hover,\n",
       ".xr-attrs dt:hover {\n",
       "  overflow: visible;\n",
       "  width: auto;\n",
       "  z-index: 1;\n",
       "}\n",
       "\n",
       ".xr-var-attrs,\n",
       ".xr-var-data {\n",
       "  display: none;\n",
       "  background-color: var(--xr-background-color) !important;\n",
       "  padding-bottom: 5px !important;\n",
       "}\n",
       "\n",
       ".xr-var-attrs-in:checked ~ .xr-var-attrs,\n",
       ".xr-var-data-in:checked ~ .xr-var-data {\n",
       "  display: block;\n",
       "}\n",
       "\n",
       ".xr-var-data > table {\n",
       "  float: right;\n",
       "}\n",
       "\n",
       ".xr-var-name span,\n",
       ".xr-var-data,\n",
       ".xr-attrs {\n",
       "  padding-left: 25px !important;\n",
       "}\n",
       "\n",
       ".xr-attrs,\n",
       ".xr-var-attrs,\n",
       ".xr-var-data {\n",
       "  grid-column: 1 / -1;\n",
       "}\n",
       "\n",
       "dl.xr-attrs {\n",
       "  padding: 0;\n",
       "  margin: 0;\n",
       "  display: grid;\n",
       "  grid-template-columns: 125px auto;\n",
       "}\n",
       "\n",
       ".xr-attrs dt,\n",
       ".xr-attrs dd {\n",
       "  padding: 0;\n",
       "  margin: 0;\n",
       "  float: left;\n",
       "  padding-right: 10px;\n",
       "  width: auto;\n",
       "}\n",
       "\n",
       ".xr-attrs dt {\n",
       "  font-weight: normal;\n",
       "  grid-column: 1;\n",
       "}\n",
       "\n",
       ".xr-attrs dt:hover span {\n",
       "  display: inline-block;\n",
       "  background: var(--xr-background-color);\n",
       "  padding-right: 10px;\n",
       "}\n",
       "\n",
       ".xr-attrs dd {\n",
       "  grid-column: 2;\n",
       "  white-space: pre-wrap;\n",
       "  word-break: break-all;\n",
       "}\n",
       "\n",
       ".xr-icon-database,\n",
       ".xr-icon-file-text2 {\n",
       "  display: inline-block;\n",
       "  vertical-align: middle;\n",
       "  width: 1em;\n",
       "  height: 1.5em !important;\n",
       "  stroke-width: 0;\n",
       "  stroke: currentColor;\n",
       "  fill: currentColor;\n",
       "}\n",
       "</style><pre class='xr-text-repr-fallback'>&lt;xarray.DataArray &#x27;RiverRunoff&#x27; (latitude: 169, longitude: 187)&gt;\n",
       "array([[nan, nan, nan, ..., nan, nan, nan],\n",
       "       [nan, nan, nan, ..., nan, nan, nan],\n",
       "       [nan, nan, nan, ..., nan, nan, nan],\n",
       "       ...,\n",
       "       [nan, nan, nan, ..., nan, nan, nan],\n",
       "       [nan, nan, nan, ..., nan, nan, nan],\n",
       "       [nan, nan, nan, ..., nan, nan, nan]])\n",
       "Coordinates:\n",
       "  * longitude  (longitude) float64 5.227 5.264 5.3 5.337 ... 11.97 12.01 12.05\n",
       "  * latitude   (latitude) float64 45.89 45.93 45.97 46.0 ... 51.98 52.02 52.05\n",
       "    time       object 1995-01-30 00:00:00\n",
       "Attributes:\n",
       "    units:     m^3/s</pre><div class='xr-wrap' hidden><div class='xr-header'><div class='xr-obj-type'>xarray.DataArray</div><div class='xr-array-name'>'RiverRunoff'</div><ul class='xr-dim-list'><li><span class='xr-has-index'>latitude</span>: 169</li><li><span class='xr-has-index'>longitude</span>: 187</li></ul></div><ul class='xr-sections'><li class='xr-section-item'><div class='xr-array-wrap'><input id='section-90fcee7b-579b-4294-8fd1-af3a1800a8e0' class='xr-array-in' type='checkbox' checked><label for='section-90fcee7b-579b-4294-8fd1-af3a1800a8e0' title='Show/hide data repr'><svg class='icon xr-icon-database'><use xlink:href='#icon-database'></use></svg></label><div class='xr-array-preview xr-preview'><span>nan nan nan nan nan nan nan nan ... nan nan nan nan nan nan nan nan</span></div><div class='xr-array-data'><pre>array([[nan, nan, nan, ..., nan, nan, nan],\n",
       "       [nan, nan, nan, ..., nan, nan, nan],\n",
       "       [nan, nan, nan, ..., nan, nan, nan],\n",
       "       ...,\n",
       "       [nan, nan, nan, ..., nan, nan, nan],\n",
       "       [nan, nan, nan, ..., nan, nan, nan],\n",
       "       [nan, nan, nan, ..., nan, nan, nan]])</pre></div></div></li><li class='xr-section-item'><input id='section-8c896a55-45fa-41c0-b534-e2c7aab104f0' class='xr-section-summary-in' type='checkbox'  checked><label for='section-8c896a55-45fa-41c0-b534-e2c7aab104f0' class='xr-section-summary' >Coordinates: <span>(3)</span></label><div class='xr-section-inline-details'></div><div class='xr-section-details'><ul class='xr-var-list'><li class='xr-var-item'><div class='xr-var-name'><span class='xr-has-index'>longitude</span></div><div class='xr-var-dims'>(longitude)</div><div class='xr-var-dtype'>float64</div><div class='xr-var-preview xr-preview'>5.227 5.264 5.3 ... 12.01 12.05</div><input id='attrs-15da7038-c1ae-40cc-81b3-899864f9c885' class='xr-var-attrs-in' type='checkbox' disabled><label for='attrs-15da7038-c1ae-40cc-81b3-899864f9c885' title='Show/Hide attributes'><svg class='icon xr-icon-file-text2'><use xlink:href='#icon-file-text2'></use></svg></label><input id='data-979932e8-0d05-4348-a671-859fb16d2656' class='xr-var-data-in' type='checkbox'><label for='data-979932e8-0d05-4348-a671-859fb16d2656' title='Show/Hide data repr'><svg class='icon xr-icon-database'><use xlink:href='#icon-database'></use></svg></label><div class='xr-var-attrs'><dl class='xr-attrs'></dl></div><div class='xr-var-data'><pre>array([ 5.227163,  5.26383 ,  5.300497,  5.337163,  5.37383 ,  5.410497,\n",
       "        5.447163,  5.48383 ,  5.520497,  5.557163,  5.59383 ,  5.630497,\n",
       "        5.667163,  5.70383 ,  5.740497,  5.777164,  5.81383 ,  5.850497,\n",
       "        5.887163,  5.92383 ,  5.960497,  5.997163,  6.03383 ,  6.070497,\n",
       "        6.107163,  6.14383 ,  6.180497,  6.217164,  6.25383 ,  6.290497,\n",
       "        6.327163,  6.36383 ,  6.400496,  6.437163,  6.47383 ,  6.510497,\n",
       "        6.547163,  6.58383 ,  6.620497,  6.657163,  6.69383 ,  6.730497,\n",
       "        6.767163,  6.80383 ,  6.840497,  6.877163,  6.91383 ,  6.950497,\n",
       "        6.987164,  7.02383 ,  7.060497,  7.097163,  7.13383 ,  7.170496,\n",
       "        7.207163,  7.24383 ,  7.280497,  7.317163,  7.35383 ,  7.390497,\n",
       "        7.427163,  7.46383 ,  7.500497,  7.537163,  7.57383 ,  7.610497,\n",
       "        7.647163,  7.68383 ,  7.720497,  7.757164,  7.79383 ,  7.830497,\n",
       "        7.867163,  7.90383 ,  7.940496,  7.977163,  8.01383 ,  8.050497,\n",
       "        8.087163,  8.12383 ,  8.160497,  8.197164,  8.23383 ,  8.270496,\n",
       "        8.307163,  8.34383 ,  8.380497,  8.417163,  8.45383 ,  8.490497,\n",
       "        8.527164,  8.56383 ,  8.600496,  8.637163,  8.67383 ,  8.710497,\n",
       "        8.747164,  8.78383 ,  8.820497,  8.857163,  8.89383 ,  8.930496,\n",
       "        8.967163,  9.00383 ,  9.040497,  9.077164,  9.11383 ,  9.150496,\n",
       "        9.187163,  9.22383 ,  9.260497,  9.297163,  9.33383 ,  9.370497,\n",
       "        9.407164,  9.44383 ,  9.480496,  9.517163,  9.55383 ,  9.590497,\n",
       "        9.627163,  9.66383 ,  9.700497,  9.737164,  9.77383 ,  9.810496,\n",
       "        9.847163,  9.88383 ,  9.920497,  9.957163,  9.99383 , 10.030497,\n",
       "       10.067163, 10.10383 , 10.140496, 10.177163, 10.21383 , 10.250497,\n",
       "       10.287164, 10.32383 , 10.360497, 10.397163, 10.43383 , 10.470497,\n",
       "       10.507163, 10.54383 , 10.580497, 10.617164, 10.65383 , 10.690496,\n",
       "       10.727163, 10.76383 , 10.800497, 10.837163, 10.87383 , 10.910497,\n",
       "       10.947164, 10.98383 , 11.020496, 11.057163, 11.09383 , 11.130497,\n",
       "       11.167163, 11.20383 , 11.240497, 11.277164, 11.31383 , 11.350496,\n",
       "       11.387163, 11.42383 , 11.460497, 11.497164, 11.53383 , 11.570497,\n",
       "       11.607163, 11.64383 , 11.680496, 11.717163, 11.75383 , 11.790497,\n",
       "       11.827164, 11.86383 , 11.900496, 11.937163, 11.97383 , 12.010497,\n",
       "       12.047163])</pre></div></li><li class='xr-var-item'><div class='xr-var-name'><span class='xr-has-index'>latitude</span></div><div class='xr-var-dims'>(latitude)</div><div class='xr-var-dtype'>float64</div><div class='xr-var-preview xr-preview'>45.89 45.93 45.97 ... 52.02 52.05</div><input id='attrs-33849ffd-9ad5-466c-a232-649eba30245c' class='xr-var-attrs-in' type='checkbox' disabled><label for='attrs-33849ffd-9ad5-466c-a232-649eba30245c' title='Show/Hide attributes'><svg class='icon xr-icon-file-text2'><use xlink:href='#icon-file-text2'></use></svg></label><input id='data-fc4f3e65-14f6-4dd5-a1a8-28926c050d80' class='xr-var-data-in' type='checkbox'><label for='data-fc4f3e65-14f6-4dd5-a1a8-28926c050d80' title='Show/Hide data repr'><svg class='icon xr-icon-database'><use xlink:href='#icon-database'></use></svg></label><div class='xr-var-attrs'><dl class='xr-attrs'></dl></div><div class='xr-var-data'><pre>array([45.894268, 45.930935, 45.967602, 46.004265, 46.040932, 46.077599,\n",
       "       46.114265, 46.150932, 46.187599, 46.224266, 46.260933, 46.2976  ,\n",
       "       46.334267, 46.370934, 46.4076  , 46.444267, 46.480934, 46.517601,\n",
       "       46.554268, 46.590935, 46.627602, 46.664268, 46.700932, 46.737598,\n",
       "       46.774265, 46.810932, 46.847599, 46.884266, 46.920933, 46.9576  ,\n",
       "       46.994267, 47.030933, 47.0676  , 47.104267, 47.140934, 47.177601,\n",
       "       47.214268, 47.250935, 47.287601, 47.324268, 47.360935, 47.397598,\n",
       "       47.434265, 47.470932, 47.507599, 47.544266, 47.580933, 47.617599,\n",
       "       47.654266, 47.690933, 47.7276  , 47.764267, 47.800934, 47.837601,\n",
       "       47.874268, 47.910934, 47.947601, 47.984268, 48.020935, 48.057598,\n",
       "       48.094265, 48.130932, 48.167599, 48.204266, 48.240932, 48.277599,\n",
       "       48.314266, 48.350933, 48.3876  , 48.424267, 48.460934, 48.497601,\n",
       "       48.534267, 48.570934, 48.607601, 48.644268, 48.680935, 48.717602,\n",
       "       48.754265, 48.790932, 48.827599, 48.864265, 48.900932, 48.937599,\n",
       "       48.974266, 49.010933, 49.0476  , 49.084267, 49.120934, 49.1576  ,\n",
       "       49.194267, 49.230934, 49.267601, 49.304268, 49.340935, 49.377602,\n",
       "       49.414268, 49.450932, 49.487598, 49.524265, 49.560932, 49.597599,\n",
       "       49.634266, 49.670933, 49.7076  , 49.744267, 49.780933, 49.8176  ,\n",
       "       49.854267, 49.890934, 49.927601, 49.964268, 50.000935, 50.037601,\n",
       "       50.074268, 50.110935, 50.147598, 50.184265, 50.220932, 50.257599,\n",
       "       50.294266, 50.330933, 50.367599, 50.404266, 50.440933, 50.4776  ,\n",
       "       50.514267, 50.550934, 50.587601, 50.624268, 50.660934, 50.697601,\n",
       "       50.734268, 50.770935, 50.807598, 50.844265, 50.880932, 50.917599,\n",
       "       50.954266, 50.990932, 51.027599, 51.064266, 51.100933, 51.1376  ,\n",
       "       51.174267, 51.210934, 51.247601, 51.284267, 51.320934, 51.357601,\n",
       "       51.394268, 51.430935, 51.467602, 51.504265, 51.540932, 51.577599,\n",
       "       51.614265, 51.650932, 51.687599, 51.724266, 51.760933, 51.7976  ,\n",
       "       51.834267, 51.870934, 51.9076  , 51.944267, 51.980934, 52.017601,\n",
       "       52.054268])</pre></div></li><li class='xr-var-item'><div class='xr-var-name'><span>time</span></div><div class='xr-var-dims'>()</div><div class='xr-var-dtype'>object</div><div class='xr-var-preview xr-preview'>1995-01-30 00:00:00</div><input id='attrs-f2d76a9a-0e0d-4c0e-9e45-d5f7920cb0a5' class='xr-var-attrs-in' type='checkbox' disabled><label for='attrs-f2d76a9a-0e0d-4c0e-9e45-d5f7920cb0a5' title='Show/Hide attributes'><svg class='icon xr-icon-file-text2'><use xlink:href='#icon-file-text2'></use></svg></label><input id='data-95c80a9b-c132-415c-af14-600b311f08af' class='xr-var-data-in' type='checkbox'><label for='data-95c80a9b-c132-415c-af14-600b311f08af' title='Show/Hide data repr'><svg class='icon xr-icon-database'><use xlink:href='#icon-database'></use></svg></label><div class='xr-var-attrs'><dl class='xr-attrs'></dl></div><div class='xr-var-data'><pre>array(cftime.DatetimeGregorian(1995, 1, 30, 0, 0, 0, 0), dtype=object)</pre></div></li></ul></div></li><li class='xr-section-item'><input id='section-1bea35ef-2423-4826-8f3b-69c28bc4fe9c' class='xr-section-summary-in' type='checkbox'  checked><label for='section-1bea35ef-2423-4826-8f3b-69c28bc4fe9c' class='xr-section-summary' >Attributes: <span>(1)</span></label><div class='xr-section-inline-details'></div><div class='xr-section-details'><dl class='xr-attrs'><dt><span>units :</span></dt><dd> m^3/s</dd></dl></div></li></ul></div></div>"
      ],
      "text/plain": [
       "<xarray.DataArray 'RiverRunoff' (latitude: 169, longitude: 187)>\n",
       "array([[nan, nan, nan, ..., nan, nan, nan],\n",
       "       [nan, nan, nan, ..., nan, nan, nan],\n",
       "       [nan, nan, nan, ..., nan, nan, nan],\n",
       "       ...,\n",
       "       [nan, nan, nan, ..., nan, nan, nan],\n",
       "       [nan, nan, nan, ..., nan, nan, nan],\n",
       "       [nan, nan, nan, ..., nan, nan, nan]])\n",
       "Coordinates:\n",
       "  * longitude  (longitude) float64 5.227 5.264 5.3 5.337 ... 11.97 12.01 12.05\n",
       "  * latitude   (latitude) float64 45.89 45.93 45.97 46.0 ... 51.98 52.02 52.05\n",
       "    time       object 1995-01-30 00:00:00\n",
       "Attributes:\n",
       "    units:     m^3/s"
      ]
     },
     "execution_count": 12,
     "metadata": {},
     "output_type": "execute_result"
    }
   ],
   "source": [
    "model.get_value_as_xarray(\"RiverRunoff\")  # this automatically converts the -999 values to NaN"
   ]
  },
  {
   "cell_type": "code",
   "execution_count": 13,
   "id": "6bffb1ba",
   "metadata": {},
   "outputs": [
    {
     "name": "stdout",
     "output_type": "stream",
     "text": [
      "791424000.0\n",
      "791510400.0\n",
      "791596800.0\n",
      "791683200.0\n",
      "791769600.0\n",
      "791856000.0\n",
      "791942400.0\n",
      "792028800.0\n",
      "792115200.0\n",
      "792201600.0\n",
      "792288000.0\n",
      "792374400.0\n",
      "792460800.0\n",
      "792547200.0\n",
      "792633600.0\n",
      "792720000.0\n",
      "792806400.0\n",
      "792892800.0\n",
      "792979200.0\n",
      "793065600.0\n",
      "793152000.0\n",
      "793238400.0\n",
      "793324800.0\n",
      "793411200.0\n",
      "793497600.0\n",
      "793584000.0\n",
      "793670400.0\n",
      "793756800.0\n"
     ]
    }
   ],
   "source": [
    "while model.time < model.end_time:\n",
    "    print(model.time)\n",
    "    model.update()"
   ]
  },
  {
   "cell_type": "code",
   "execution_count": 14,
   "id": "e33954c0",
   "metadata": {},
   "outputs": [
    {
     "data": {
      "text/plain": [
       "<matplotlib.collections.QuadMesh at 0x7ff646280f10>"
      ]
     },
     "execution_count": 14,
     "metadata": {},
     "output_type": "execute_result"
    },
    {
     "data": {
      "image/png": "[encoded data removed]",
      "text/plain": [
       "<Figure size 432x288 with 2 Axes>"
      ]
     },
     "metadata": {
      "needs_background": "light"
     },
     "output_type": "display_data"
    }
   ],
   "source": [
    "da = model.get_value_as_xarray(\"RiverRunoff\")\n",
    "da.plot(robust=True, cmap='GnBu')"
   ]
  },
  {
   "cell_type": "code",
   "execution_count": 15,
   "id": "4bb22650",
   "metadata": {},
   "outputs": [],
   "source": [
    "model.finalize()"
   ]
  },
  {
   "cell_type": "code",
   "execution_count": 16,
   "id": "a9384ae0",
   "metadata": {},
   "outputs": [],
   "source": [
    "del(model)"
   ]
  },
  {
   "cell_type": "code",
   "execution_count": null,
   "id": "cffac276",
   "metadata": {},
   "outputs": [],
   "source": []
  }
 ],
 "metadata": {
  "kernelspec": {
   "display_name": "Python 3",
   "language": "python",
   "name": "python3"
  },
  "language_info": {
   "codemirror_mode": {
    "name": "ipython",
    "version": 3
   },
   "file_extension": ".py",
   "mimetype": "text/x-python",
   "name": "python",
   "nbconvert_exporter": "python",
   "pygments_lexer": "ipython3",
   "version": "3.9.2"
  }
 },
 "nbformat": 4,
 "nbformat_minor": 5
}
