{
 "cells": [
  {
   "cell_type": "markdown",
   "id": "a239c62f",
   "metadata": {},
   "source": [
    "# Running Wflow using the ewatercycle system"
   ]
  },
  {
   "cell_type": "markdown",
   "id": "6265d775",
   "metadata": {},
   "source": [
    "### 1. Copy an example case\n",
    "To run WFlow, we need a complete parameterset. The easiest way to obtain a valid model configuration is by copying it from https://github.com/openstreams/wflow/raw/master/examples/. We can use `ewatercycle.parametersetdb` to easily copy on of these example cases to a folder called `./wflow_example_case`."
   ]
  },
  {
   "cell_type": "code",
   "execution_count": null,
   "id": "a64abd2e",
   "metadata": {
    "tags": []
   },
   "outputs": [],
   "source": [
    "from ewatercycle.parametersetdb import build_from_urls\n",
    "\n",
    "# Obtain an example case for testing the model\n",
    "parameterset = build_from_urls(\n",
    "    config_format='ini', config_url='https://github.com/openstreams/wflow/raw/master/examples/wflow_rhine_sbm/wflow_sbm.ini',\n",
    "    datafiles_format='svn', datafiles_url='https://github.com/openstreams/wflow/trunk/examples/wflow_rhine_sbm',\n",
    ")\n",
    "parameterset.save_datafiles('./wflow_example_case')"
   ]
  },
  {
   "cell_type": "markdown",
   "id": "e89b6482",
   "metadata": {},
   "source": [
    "### 2. Verify your configuration settings\n",
    "\n",
    "If you are working on a curated environment like https://lab.ewatercycle.org/, the default configuration should cover 90% of all use cases. However, for the other 10% here is a brief explanation of the relevant configuration settings. \n",
    "\n",
    "The ewatercycle configuration file is typcially stored in `~/ewatercycle/ewatercycle.yaml` or `/etc/ewatercycle.yaml` and can be imported with `from ewatercycle import CFG`. Relevant settings for WFLow are:\n",
    "\n",
    "```Yaml\n",
    "container_engine: docker # or singularity\n",
    "singularity_images.wflow: 'ewatercycle-wflow-grpc4bmi.sif'\n",
    "docker_images.wflow: 'ewatercycle/wflow-grpc4bmi:latest'\n",
    "```\n",
    "\n",
    "In order for this to work, you need to make sure that the actual docker or singularity images are available on the system. This can be done with:\n",
    "\n",
    "- Docker: `docker pull ewatercycle/wflow-grpc4bmi:latest`\n",
    "- Singularity: `singularity build --disable-cache ewatercycle-wflow-grpc4bmi.sif docker://ewatercycle/wflow-grpc4bmi:latest`"
   ]
  },
  {
   "cell_type": "markdown",
   "id": "967efaa8",
   "metadata": {},
   "source": [
    "### 3. Setting up the model"
   ]
  },
  {
   "cell_type": "code",
   "execution_count": 1,
   "id": "4263de11",
   "metadata": {},
   "outputs": [],
   "source": [
    "from ewatercycle.models import Wflow"
   ]
  },
  {
   "cell_type": "code",
   "execution_count": 2,
   "id": "ab810f9f",
   "metadata": {},
   "outputs": [],
   "source": [
    "model = Wflow()"
   ]
  },
  {
   "cell_type": "code",
   "execution_count": 3,
   "id": "0cfe1573",
   "metadata": {},
   "outputs": [
    {
     "name": "stdout",
     "output_type": "stream",
     "text": [
      "First run setup with a valid .ini file.\n"
     ]
    }
   ],
   "source": [
    "model.parameters"
   ]
  },
  {
   "cell_type": "code",
   "execution_count": 4,
   "id": "2ac76887",
   "metadata": {
    "tags": []
   },
   "outputs": [
    {
     "name": "stdout",
     "output_type": "stream",
     "text": [
      "Working directory created: wflow_20210413_175541\n",
      "Created /home/peter/ewatercycle/ewatercycle/examples/wflow_20210413_175541/wflow_ewatercycle.ini.\n",
      "Started wflow container with working directory /home/peter/ewatercycle/ewatercycle/examples/wflow_20210413_175541\n"
     ]
    }
   ],
   "source": [
    "cfg_dir, cfg_file = model.setup(cfg_dir='wflow_example_case/', cfg_file='./wflow_example_case/wflow_sbm.ini')"
   ]
  },
  {
   "cell_type": "code",
   "execution_count": 5,
   "id": "aae116ae",
   "metadata": {},
   "outputs": [
    {
     "data": {
      "text/plain": [
       "('/home/peter/ewatercycle/ewatercycle/examples/wflow_20210413_175541',\n",
       " 'wflow_ewatercycle.ini')"
      ]
     },
     "execution_count": 5,
     "metadata": {},
     "output_type": "execute_result"
    }
   ],
   "source": [
    "cfg_dir, cfg_file"
   ]
  },
  {
   "cell_type": "markdown",
   "id": "0a6ccf04",
   "metadata": {},
   "source": [
    "The `config_file` that is returned by `setup(...)` can be used to initialize the model:"
   ]
  },
  {
   "cell_type": "code",
   "execution_count": 6,
   "id": "ebf07418",
   "metadata": {},
   "outputs": [
    {
     "name": "stdout",
     "output_type": "stream",
     "text": [
      "inputmapstacks\n",
      "    Precipitation: /inmaps/P\n",
      "    EvapoTranspiration: /inmaps/PET\n",
      "    Temperature: /inmaps/TEMP\n",
      "    Inflow: /inmaps/IF\n",
      "run\n",
      "    starttime: 1995-01-31 00:00:00 GMT\n",
      "    endtime: 1995-02-28 00:00:00 GMT\n",
      "    runinfo: None\n",
      "    timestepsecs: 86400\n",
      "    reinit: 0\n",
      "model\n",
      "    modeltype: sbm\n",
      "    AnnualDischarge: 2290\n",
      "    Alpha: 120\n",
      "    ModelSnow: 0\n",
      "    ScalarInput: 0\n",
      "    InterpolationMethod: inv\n",
      "    WIMaxScale: 0.8\n",
      "    Tslice: 1\n",
      "    UpdMaxDist: 300000.0\n",
      "    origTopogLateral: 1\n",
      "    configfile: wflow_sbm.ini\n",
      "    reinit: 0\n",
      "    fewsrun: 0\n",
      "    OverWriteInit: 0\n",
      "    updating: 0\n",
      "    updateFile: no_set\n",
      "    lateralmethod: 1\n",
      "    sCatch: 0\n",
      "    intbl: intbl\n",
      "    timestepsecs: 86400\n",
      "    MaxUpdMult: 1.3\n",
      "    MinUpdMult: 0.7\n",
      "    UpFrac: 0.8\n",
      "    waterdem: 0\n",
      "    reInfilt: 0\n",
      "    MassWasting: 0\n",
      "    wflow_subcatch: staticmaps/wflow_subcatch.map\n",
      "    wflow_dem: staticmaps/wflow_dem.map\n",
      "    wflow_ldd: staticmaps/wflow_ldd.map\n",
      "    wflow_river: staticmaps/wflow_river.map\n",
      "    wflow_riverlength: staticmaps/wflow_riverlength.map\n",
      "    wflow_riverlength_fact: staticmaps/wflow_riverlength_fact.map\n",
      "    wflow_landuse: staticmaps/wflow_landuse.map\n",
      "    wflow_soil: staticmaps/wflow_soil.map\n",
      "    wflow_gauges: staticmaps/wflow_gauges.map\n",
      "    wflow_inflow: staticmaps/wflow_inflow.map\n",
      "    wflow_riverwidth: staticmaps/wflow_riverwidth.map\n",
      "    RunoffGenSigmaFunction: 0\n",
      "    TemperatureCorrectionMap: staticmaps/wflow_tempcor.map\n",
      "    SubCatchFlowOnly: 0\n",
      "misc\n",
      "framework\n",
      "    outputformat: 1\n",
      "    EPSG: EPSG:2193\n",
      "    netcdf_format: NETCDF3_CLASSIC\n",
      "    netcdf_zlib: False\n",
      "    netcdf_least_significant_digit: None\n",
      "layout\n",
      "    sizeinmetres: 0\n",
      "outputmaps\n",
      "    self.Inflow: IF\n",
      "    self.RiverRunoff: run\n",
      "    self.WaterLevelR: lev\n",
      "    self.SatWaterDepth: swd\n",
      "    self.InwaterMM: IW\n",
      "    self.PotenEvap: PET\n",
      "    self.Precipitation: P\n",
      "    self.SurfaceRunoff_mean_15: m30\n",
      "rollingmean\n",
      "    self.SurfaceRunoff: 15\n",
      "summary\n",
      "    self.MaxLeakage: MaxLeakage.map\n",
      "summary_sum\n",
      "    self.Precipitation: Sumprecip.map\n",
      "summary_max\n",
      "    self.Precipitation: maxprecip.map\n",
      "    self.WaterFrac: maxwfrac.map\n",
      "summary_avg\n",
      "    self.SurfaceWatbal: avgwatbalsurface.map\n",
      "    self.InterceptionWatBal: avgwatbalint.map\n",
      "    self.SoilWatbal: avgwatbalsoil.map\n",
      "    self.CanopyGapFraction: avggap.map\n",
      "    self.PotTransSoil: avgptra.map\n",
      "    self.Transpiration: avgtra.map\n",
      "    self.soilevap: avgsoilevap.map\n",
      "    self.Interception: avgint.map\n",
      "    self.PotenEvap: avgetpot.map\n",
      "    self.ActEvap: avgactevap.map\n",
      "    self.ActEvapOpenWater: avgopenwateret.map\n",
      "    self.WaterFrac: avgwfrac.map\n",
      "    self.InfiltExcess: avginfex.map\n",
      "outputcsv_0\n",
      "    samplemap: staticmaps/wflow_landuse.map\n",
      "    self.Transfer: tra_lu.csv\n",
      "outputtss_0\n",
      "    samplemap: staticmaps/wflow_gauges.map\n",
      "    self.RiverRunoff: run.tss\n",
      "    self.WaterLevelR: lev.tss\n",
      "outputcsv_1\n",
      "    samplemap: staticmaps/wflow_subcatch.map\n",
      "    self.InwaterMM: specrun.csv\n",
      "    self.Precipitation: prec.csv\n",
      "    self.ActEvap+self.Interception: teact.csv\n",
      "    self.UStoreDepth + self.SatWaterDepth + self.CanopyStorage: store.csv\n",
      "API\n",
      "    CanopyStorage: 2, mm\n",
      "    FirstZoneDepth: 2, mm\n",
      "    LowerZoneStorage: 2, mm\n",
      "    Snow: 2, mm\n",
      "    SnowWater: 2, mm\n",
      "    SurfaceRunoff: 2, m^3/s\n",
      "    SurfaceRunoffDyn: 2, m^3/s\n",
      "    TSoil: 2, oC\n",
      "    UStoreDepth: 2, mm\n",
      "    WaterLevel: 2, m\n",
      "    WaterLevelDyn: 2, m\n",
      "    PotTransSoil: 1, mm/timestep\n",
      "    Transpiration: 1, mm/timestep\n",
      "    ActEvapOpenWater: 1, mm/timestep\n",
      "    soilevap: 1, mm/timestep\n",
      "    Interception: 1, mm/timestep\n",
      "    ActEvap: 1, mm/timestep\n",
      "    SurfaceRunoffCatchmentMM: 1, mm/timestep\n",
      "    ExcessWater: 1, mm/timestep\n",
      "    InfiltExcess: 1, mm/timestep\n",
      "    ActInfilt: 1, mm/timestep\n",
      "    zi: 1, mm/timestep\n",
      "    Transfer: 1, mm/timestep\n",
      "    CapFlux: 1, mm/timestep\n",
      "    RunoffCoeff: 1, -\n",
      "    InwaterMM: 2, mm/timestep\n",
      "    M: 3, -\n",
      "    thetaR: 3, mm/mm\n",
      "    thetaS: 3, mm/mm\n",
      "    FirstZoneKsatVer: 3, mm/timestep\n",
      "    PathFrac: 3, -\n",
      "    InfiltCapSoil: 3, mm/timestep\n",
      "    InfiltCapPath: 3, mm/timestep\n",
      "    FirstZoneMinCapacity: 3, mm\n",
      "    FirstZoneCapacity: 3, mm\n",
      "    RootingDepth: 3, mm\n",
      "    MaxLeakage: 3, mm/timestep\n",
      "    CapScale: 3, mm/timestep\n",
      "    RunoffGeneratingGWPerc: 3, -\n",
      "    rootdistpar: 3, mm\n",
      "    CanopyGapFraction: 3, -\n",
      "    MaxCanopyStorage: 3, mm\n",
      "    EoverR: 3, -\n",
      "    N: 3, -\n",
      "    N_river: 3, -\n",
      "    cf_soil: 3, -\n",
      "    TTI: 3, oC\n",
      "    TT: 3, oC\n",
      "    Cfmax: 3, mm/oC/timestep\n",
      "    WHC: 3, -\n",
      "    w_soil: 3, -\n",
      "    Altitude: 3, m\n",
      "    Bw: 3, m\n",
      "    River: 3, -\n",
      "    DLC: 3, m\n",
      "    IF: 0,m^3/s\n",
      "    timestepsecs: 3, s\n"
     ]
    }
   ],
   "source": [
    "# Print a list of currently used parameters\n",
    "model.parameters"
   ]
  },
  {
   "cell_type": "markdown",
   "id": "d5424707",
   "metadata": {},
   "source": [
    "### 4. Running the model"
   ]
  },
  {
   "cell_type": "code",
   "execution_count": null,
   "id": "6ec4090e",
   "metadata": {},
   "outputs": [],
   "source": [
    "model.initialize(cfg_file)"
   ]
  },
  {
   "cell_type": "code",
   "execution_count": null,
   "id": "8027bfd4",
   "metadata": {},
   "outputs": [],
   "source": [
    "model.get_value(\"SurfaceRunoff\")"
   ]
  },
  {
   "cell_type": "code",
   "execution_count": null,
   "id": "99ea7eb3",
   "metadata": {
    "tags": []
   },
   "outputs": [],
   "source": [
    "model.get_value_as_xarray(\"SurfaceRunoff\")"
   ]
  },
  {
   "cell_type": "code",
   "execution_count": null,
   "id": "2f868f3f",
   "metadata": {},
   "outputs": [],
   "source": [
    "while model.time < model.end_time:\n",
    "    print(model.time)\n",
    "    model.update()"
   ]
  },
  {
   "cell_type": "code",
   "execution_count": null,
   "id": "b37a8c0b",
   "metadata": {},
   "outputs": [],
   "source": [
    "da = model.get_value_as_xarray(\"SurfaceRunoff\")\n",
    "da.plot()"
   ]
  },
  {
   "cell_type": "code",
   "execution_count": null,
   "id": "885c1cab",
   "metadata": {},
   "outputs": [],
   "source": [
    "all(model.get_value(\"SurfaceRunoff\")==0)"
   ]
  },
  {
   "cell_type": "code",
   "execution_count": null,
   "id": "e57a5a8a",
   "metadata": {},
   "outputs": [],
   "source": [
    "da"
   ]
  },
  {
   "cell_type": "code",
   "execution_count": null,
   "id": "e314c760",
   "metadata": {},
   "outputs": [],
   "source": [
    "for i in range(100):\n",
    "    model.bmi.update()"
   ]
  },
  {
   "cell_type": "code",
   "execution_count": null,
   "id": "c34f42ce",
   "metadata": {},
   "outputs": [],
   "source": [
    "model.finalize()"
   ]
  },
  {
   "cell_type": "code",
   "execution_count": null,
   "id": "b761d1b6",
   "metadata": {},
   "outputs": [],
   "source": []
  },
  {
   "cell_type": "code",
   "execution_count": null,
   "id": "fa802671",
   "metadata": {},
   "outputs": [],
   "source": [
    "model.input_var_names"
   ]
  },
  {
   "cell_type": "code",
   "execution_count": null,
   "id": "d1957913",
   "metadata": {},
   "outputs": [],
   "source": []
  }
 ],
 "metadata": {
  "kernelspec": {
   "display_name": "Python 3",
   "language": "python",
   "name": "python3"
  },
  "language_info": {
   "codemirror_mode": {
    "name": "ipython",
    "version": 3
   },
   "file_extension": ".py",
   "mimetype": "text/x-python",
   "name": "python",
   "nbconvert_exporter": "python",
   "pygments_lexer": "ipython3",
   "version": "3.9.2"
  }
 },
 "nbformat": 4,
 "nbformat_minor": 5
}
